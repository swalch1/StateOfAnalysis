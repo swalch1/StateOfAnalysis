{
 "cells": [
  {
   "cell_type": "code",
   "execution_count": 1,
   "id": "c9bfb403-84fc-4a42-aae8-753d90c26404",
   "metadata": {
    "tags": []
   },
   "outputs": [
    {
     "name": "stderr",
     "output_type": "stream",
     "text": [
      "── \u001b[1mAttaching packages\u001b[22m ─────────────────────────────────────── tidyverse 1.3.2 ──\n",
      "\u001b[32m✔\u001b[39m \u001b[34mggplot2\u001b[39m 3.3.6     \u001b[32m✔\u001b[39m \u001b[34mdplyr  \u001b[39m 1.1.2\n",
      "\u001b[32m✔\u001b[39m \u001b[34mtibble \u001b[39m 3.2.1     \u001b[32m✔\u001b[39m \u001b[34mstringr\u001b[39m 1.4.1\n",
      "\u001b[32m✔\u001b[39m \u001b[34mreadr  \u001b[39m 2.1.3     \u001b[32m✔\u001b[39m \u001b[34mforcats\u001b[39m 1.0.0\n",
      "\u001b[32m✔\u001b[39m \u001b[34mpurrr  \u001b[39m 0.3.4     \n",
      "── \u001b[1mConflicts\u001b[22m ────────────────────────────────────────── tidyverse_conflicts() ──\n",
      "\u001b[31m✖\u001b[39m \u001b[34mdplyr\u001b[39m::\u001b[32mfilter()\u001b[39m masks \u001b[34mstats\u001b[39m::filter()\n",
      "\u001b[31m✖\u001b[39m \u001b[34mdplyr\u001b[39m::\u001b[32mlag()\u001b[39m    masks \u001b[34mstats\u001b[39m::lag()\n"
     ]
    }
   ],
   "source": [
    "library(tidyr)\n",
    "library(tidyverse) \n",
    "library(knitr)\n",
    "library(dplyr)\n",
    "library(gmodels)"
   ]
  },
  {
   "cell_type": "markdown",
   "id": "6b28b80d-dfed-45b5-814c-75c4d81637ca",
   "metadata": {},
   "source": [
    "# Data Cleaning/Import"
   ]
  },
  {
   "cell_type": "code",
   "execution_count": 2,
   "id": "913b09d0-90e1-4771-8a37-f2fbe4dc773b",
   "metadata": {},
   "outputs": [],
   "source": [
    "# Read in CSV file\n",
    "test_data <- read.csv(\"2023StateOf.csv\")\n",
    "\n",
    "# Remove second row so column names are preserved\n",
    "test_data <- test_data[-c(1),]\n",
    "\n",
    "# Change column names\n",
    "colnames(test_data)[1] <- \"Record_ID\"\n",
    "colnames(test_data)[2] <- \"email\"\n",
    "\n",
    "# Convert \"Unchecked\" and empty values to NA in all columns\n",
    "checked_columns <- colnames(test_data)[-c(1, 2)]  # Get column names excluding Record_ID and email\n",
    "\n",
    "for (col in checked_columns) {\n",
    "  test_data[[col]] <- ifelse(test_data[[col]] %in% c(\"Unchecked\", \"\"), NA, test_data[[col]])\n",
    "}\n",
    "\n",
    "# Remove rows with all missing values - remove rows where all values are NA except for \"Record_ID\", \"email\", and \"Q219\" columns\n",
    "test_data <- test_data[rowSums(is.na(test_data[, 3:844])) != (844 - 3 + 1), ]\n",
    "\n",
    "# Find rows with duplicate email\n",
    "duplicate_data <- test_data[duplicated(test_data$email) | duplicated(test_data$email, fromLast = TRUE), ]\n",
    "\n",
    "# Merge rows with duplicate email, keeping only non-missing values and updating Record_ID\n",
    "merged_data <- duplicate_data %>%\n",
    "  group_by(email) %>%\n",
    "  summarize(across(everything(), ~ ifelse(all(is.na(.)), NA, first(na.omit(.)))), .groups = \"drop\")\n",
    "\n",
    "# Combine non-duplicate rows with merged rows\n",
    "final_data <- test_data %>%\n",
    "  group_by(email) %>%\n",
    "  summarize(across(everything(), ~ ifelse(all(is.na(.)), NA, first(na.omit(.)))), .groups = \"drop\")\n",
    "\n",
    "# Convert \"Checked\" to 1\n",
    "final_data[] <- lapply(final_data, function(x) ifelse(x == \"Checked\", 1, x))"
   ]
  },
  {
   "cell_type": "code",
   "execution_count": 3,
   "id": "eac9a721-e0b0-4a8a-bba8-d5d1c961f89c",
   "metadata": {},
   "outputs": [
    {
     "data": {
      "text/html": [
       "<table class=\"dataframe\">\n",
       "<caption>A tibble: 10 × 855</caption>\n",
       "<thead>\n",
       "\t<tr><th scope=col>email</th><th scope=col>Record_ID</th><th scope=col>Q1</th><th scope=col>Q2</th><th scope=col>Q3</th><th scope=col>Q4</th><th scope=col>Q5</th><th scope=col>Q6</th><th scope=col>Q7</th><th scope=col>Q8</th><th scope=col>⋯</th><th scope=col>Q810</th><th scope=col>Q811</th><th scope=col>Q812</th><th scope=col>Q813</th><th scope=col>Q814</th><th scope=col>Q815</th><th scope=col>Q816</th><th scope=col>Q817</th><th scope=col>Q818</th><th scope=col>Q819</th></tr>\n",
       "\t<tr><th scope=col>&lt;chr&gt;</th><th scope=col>&lt;chr&gt;</th><th scope=col>&lt;chr&gt;</th><th scope=col>&lt;chr&gt;</th><th scope=col>&lt;chr&gt;</th><th scope=col>&lt;chr&gt;</th><th scope=col>&lt;chr&gt;</th><th scope=col>&lt;chr&gt;</th><th scope=col>&lt;dbl&gt;</th><th scope=col>&lt;dbl&gt;</th><th scope=col>⋯</th><th scope=col>&lt;chr&gt;</th><th scope=col>&lt;chr&gt;</th><th scope=col>&lt;chr&gt;</th><th scope=col>&lt;chr&gt;</th><th scope=col>&lt;chr&gt;</th><th scope=col>&lt;chr&gt;</th><th scope=col>&lt;chr&gt;</th><th scope=col>&lt;chr&gt;</th><th scope=col>&lt;chr&gt;</th><th scope=col>&lt;chr&gt;</th></tr>\n",
       "</thead>\n",
       "<tbody>\n",
       "\t<tr><td>                                </td><td>1136</td><td>LBGTQ Health Center/Community Center     </td><td>NA</td><td>Connecticut         </td><td>6511 </td><td>Urban   </td><td>Yes</td><td>1</td><td> 1</td><td>⋯</td><td>NA                                               </td><td>NA    </td><td>NA                                                        </td><td>NA </td><td>NA</td><td>NA </td><td>NA </td><td>NA                                                                                                                                                   </td><td>NA                                                                                                                                                                                                                                                                                                                                                                                                                                         </td><td>Incomplete</td></tr>\n",
       "\t<tr><td>19tyler@gmail.com               </td><td>422 </td><td>Non-profit organization                  </td><td>NA</td><td>District of Columbia</td><td>20005</td><td>Urban   </td><td>No </td><td>1</td><td>NA</td><td>⋯</td><td>fear of how far laws will go  and stigmatizingp -</td><td>Unsure</td><td>fear                                                      </td><td>No </td><td>NA</td><td>Yes</td><td>Yes</td><td>gov refuses to use evidenced based data                                                                                                              </td><td>limitations on providing harm Reduction services, syringe exchanges and safe injection sites in heavily using areas.                                                                                                                                                                                                                                                                                                                       </td><td>Complete  </td></tr>\n",
       "\t<tr><td>3sollenberger@gmail.com         </td><td>1294</td><td>Non-profit organization                  </td><td>NA</td><td>Pennsylvania        </td><td>15222</td><td>Urban   </td><td>No </td><td>1</td><td> 1</td><td>⋯</td><td>NA                                               </td><td>Yes   </td><td>NA                                                        </td><td>No </td><td>NA</td><td>No </td><td>NA </td><td>NA                                                                                                                                                   </td><td>NA                                                                                                                                                                                                                                                                                                                                                                                                                                         </td><td>Complete  </td></tr>\n",
       "\t<tr><td>6ap464zdb@mozmail.com           </td><td>687 </td><td>Community Based Organization (CBO)       </td><td>NA</td><td>New York            </td><td>14527</td><td>Rural   </td><td>No </td><td>1</td><td> 1</td><td>⋯</td><td>NA                                               </td><td>NA    </td><td>NA                                                        </td><td>NA </td><td>NA</td><td>NA </td><td>NA </td><td>NA                                                                                                                                                   </td><td>NA                                                                                                                                                                                                                                                                                                                                                                                                                                         </td><td>Incomplete</td></tr>\n",
       "\t<tr><td>ASHLEY.HART@FLHEALTH.GOV        </td><td>794 </td><td>Government entity (Local, State, Federal)</td><td>NA</td><td>Florida             </td><td>32066</td><td>Rural   </td><td>No </td><td>1</td><td> 1</td><td>⋯</td><td>NA                                               </td><td>Unsure</td><td>NA                                                        </td><td>No </td><td>NA</td><td>No </td><td>NA </td><td>NA                                                                                                                                                   </td><td>WE ARE A VERY SMALL CHD. WE HAVE A SMALL POPULATION AND IF TESTING IS SOUGHT USUALLY PTS WILL GO TO A LARGER CHD WHERE THEY CAN 1. STAY ANONYMOUS, 2 OBTAIN MEDICATIONS/TREATMENT ON SITE 3. SEE A PROVIDER WITH MORE RESOURCES. WE HAVE ONE PROVIDER BETWEEN 2 FACILITIES WHO IS AT OUR LARGER FACILITY 4 DAYS A WEEK AND 2.5 DAYS A MONTH AT OUR SMALL FACILITY. WE ARE CURENTLY SEEKING ANOTHER PROVIDER AS OUR CURRENT ONE IS RETIRING.</td><td>Complete  </td></tr>\n",
       "\t<tr><td>ASIMS@ABSOLUTECARE.COM          </td><td>1188</td><td>Private hospital/clinic setting          </td><td>NA</td><td>Louisiana           </td><td>70130</td><td>Urban   </td><td>Yes</td><td>1</td><td>NA</td><td>⋯</td><td>NA                                               </td><td>Unsure</td><td>NA                                                        </td><td>No </td><td>NA</td><td>No </td><td>NA </td><td>NA                                                                                                                                                   </td><td>NA                                                                                                                                                                                                                                                                                                                                                                                                                                         </td><td>Complete  </td></tr>\n",
       "\t<tr><td>Adam.lake@pennmedicine.upenn.edu</td><td>901 </td><td>Academic hospital/clinic setting         </td><td>NA</td><td>Pennsylvania        </td><td>17602</td><td>Suburban</td><td>Yes</td><td>1</td><td> 1</td><td>⋯</td><td>Worse mental health in trans community           </td><td>Yes   </td><td>Not sure where to start                                   </td><td>No </td><td>NA</td><td>Yes</td><td>Yes</td><td>I haven't been able to provide colocated services or openly partner with the harm reduction coalition due to my health system's concern over legality</td><td>NA                                                                                                                                                                                                                                                                                                                                                                                                                                         </td><td>Complete  </td></tr>\n",
       "\t<tr><td>Admin@connectdcare.com          </td><td>123 </td><td>Private practice                         </td><td>NA</td><td>Delaware            </td><td>19901</td><td>Rural   </td><td>No </td><td>1</td><td> 1</td><td>⋯</td><td>Yes                                              </td><td>Yes   </td><td>It has                                                    </td><td>Yes</td><td>NA</td><td>Yes</td><td>Yes</td><td>It does                                                                                                                                              </td><td>NA                                                                                                                                                                                                                                                                                                                                                                                                                                         </td><td>Complete  </td></tr>\n",
       "\t<tr><td>Aevans@tulane.edu               </td><td>473 </td><td>Academic hospital/clinic setting         </td><td>NA</td><td>Louisiana           </td><td>71301</td><td>Suburban</td><td>Yes</td><td>1</td><td> 1</td><td>⋯</td><td>NA                                               </td><td>Unsure</td><td>NA                                                        </td><td>No </td><td>NA</td><td>No </td><td>NA </td><td>NA                                                                                                                                                   </td><td>NA                                                                                                                                                                                                                                                                                                                                                                                                                                         </td><td>Complete  </td></tr>\n",
       "\t<tr><td>Agirmay@kintegra.org            </td><td>388 </td><td>Federally Qualified Health Center (FQHC) </td><td>NA</td><td>North Carolina      </td><td>28052</td><td>Suburban</td><td>Yes</td><td>1</td><td> 1</td><td>⋯</td><td>NA                                               </td><td>Yes   </td><td>It is not right to deny healthcare because of their gender</td><td>No </td><td>NA</td><td>No </td><td>NA </td><td>NA                                                                                                                                                   </td><td>No                                                                                                                                                                                                                                                                                                                                                                                                                                         </td><td>Complete  </td></tr>\n",
       "</tbody>\n",
       "</table>\n"
      ],
      "text/latex": [
       "A tibble: 10 × 855\n",
       "\\begin{tabular}{lllllllllllllllllllll}\n",
       " email & Record\\_ID & Q1 & Q2 & Q3 & Q4 & Q5 & Q6 & Q7 & Q8 & ⋯ & Q810 & Q811 & Q812 & Q813 & Q814 & Q815 & Q816 & Q817 & Q818 & Q819\\\\\n",
       " <chr> & <chr> & <chr> & <chr> & <chr> & <chr> & <chr> & <chr> & <dbl> & <dbl> & ⋯ & <chr> & <chr> & <chr> & <chr> & <chr> & <chr> & <chr> & <chr> & <chr> & <chr>\\\\\n",
       "\\hline\n",
       "\t                                  & 1136 & LBGTQ Health Center/Community Center      & NA & Connecticut          & 6511  & Urban    & Yes & 1 &  1 & ⋯ & NA                                                & NA     & NA                                                         & NA  & NA & NA  & NA  & NA                                                                                                                                                    & NA                                                                                                                                                                                                                                                                                                                                                                                                                                          & Incomplete\\\\\n",
       "\t 19tyler@gmail.com                & 422  & Non-profit organization                   & NA & District of Columbia & 20005 & Urban    & No  & 1 & NA & ⋯ & fear of how far laws will go  and stigmatizingp - & Unsure & fear                                                       & No  & NA & Yes & Yes & gov refuses to use evidenced based data                                                                                                               & limitations on providing harm Reduction services, syringe exchanges and safe injection sites in heavily using areas.                                                                                                                                                                                                                                                                                                                        & Complete  \\\\\n",
       "\t 3sollenberger@gmail.com          & 1294 & Non-profit organization                   & NA & Pennsylvania         & 15222 & Urban    & No  & 1 &  1 & ⋯ & NA                                                & Yes    & NA                                                         & No  & NA & No  & NA  & NA                                                                                                                                                    & NA                                                                                                                                                                                                                                                                                                                                                                                                                                          & Complete  \\\\\n",
       "\t 6ap464zdb@mozmail.com            & 687  & Community Based Organization (CBO)        & NA & New York             & 14527 & Rural    & No  & 1 &  1 & ⋯ & NA                                                & NA     & NA                                                         & NA  & NA & NA  & NA  & NA                                                                                                                                                    & NA                                                                                                                                                                                                                                                                                                                                                                                                                                          & Incomplete\\\\\n",
       "\t ASHLEY.HART@FLHEALTH.GOV         & 794  & Government entity (Local, State, Federal) & NA & Florida              & 32066 & Rural    & No  & 1 &  1 & ⋯ & NA                                                & Unsure & NA                                                         & No  & NA & No  & NA  & NA                                                                                                                                                    & WE ARE A VERY SMALL CHD. WE HAVE A SMALL POPULATION AND IF TESTING IS SOUGHT USUALLY PTS WILL GO TO A LARGER CHD WHERE THEY CAN 1. STAY ANONYMOUS, 2 OBTAIN MEDICATIONS/TREATMENT ON SITE 3. SEE A PROVIDER WITH MORE RESOURCES. WE HAVE ONE PROVIDER BETWEEN 2 FACILITIES WHO IS AT OUR LARGER FACILITY 4 DAYS A WEEK AND 2.5 DAYS A MONTH AT OUR SMALL FACILITY. WE ARE CURENTLY SEEKING ANOTHER PROVIDER AS OUR CURRENT ONE IS RETIRING. & Complete  \\\\\n",
       "\t ASIMS@ABSOLUTECARE.COM           & 1188 & Private hospital/clinic setting           & NA & Louisiana            & 70130 & Urban    & Yes & 1 & NA & ⋯ & NA                                                & Unsure & NA                                                         & No  & NA & No  & NA  & NA                                                                                                                                                    & NA                                                                                                                                                                                                                                                                                                                                                                                                                                          & Complete  \\\\\n",
       "\t Adam.lake@pennmedicine.upenn.edu & 901  & Academic hospital/clinic setting          & NA & Pennsylvania         & 17602 & Suburban & Yes & 1 &  1 & ⋯ & Worse mental health in trans community            & Yes    & Not sure where to start                                    & No  & NA & Yes & Yes & I haven't been able to provide colocated services or openly partner with the harm reduction coalition due to my health system's concern over legality & NA                                                                                                                                                                                                                                                                                                                                                                                                                                          & Complete  \\\\\n",
       "\t Admin@connectdcare.com           & 123  & Private practice                          & NA & Delaware             & 19901 & Rural    & No  & 1 &  1 & ⋯ & Yes                                               & Yes    & It has                                                     & Yes & NA & Yes & Yes & It does                                                                                                                                               & NA                                                                                                                                                                                                                                                                                                                                                                                                                                          & Complete  \\\\\n",
       "\t Aevans@tulane.edu                & 473  & Academic hospital/clinic setting          & NA & Louisiana            & 71301 & Suburban & Yes & 1 &  1 & ⋯ & NA                                                & Unsure & NA                                                         & No  & NA & No  & NA  & NA                                                                                                                                                    & NA                                                                                                                                                                                                                                                                                                                                                                                                                                          & Complete  \\\\\n",
       "\t Agirmay@kintegra.org             & 388  & Federally Qualified Health Center (FQHC)  & NA & North Carolina       & 28052 & Suburban & Yes & 1 &  1 & ⋯ & NA                                                & Yes    & It is not right to deny healthcare because of their gender & No  & NA & No  & NA  & NA                                                                                                                                                    & No                                                                                                                                                                                                                                                                                                                                                                                                                                          & Complete  \\\\\n",
       "\\end{tabular}\n"
      ],
      "text/markdown": [
       "\n",
       "A tibble: 10 × 855\n",
       "\n",
       "| email &lt;chr&gt; | Record_ID &lt;chr&gt; | Q1 &lt;chr&gt; | Q2 &lt;chr&gt; | Q3 &lt;chr&gt; | Q4 &lt;chr&gt; | Q5 &lt;chr&gt; | Q6 &lt;chr&gt; | Q7 &lt;dbl&gt; | Q8 &lt;dbl&gt; | ⋯ ⋯ | Q810 &lt;chr&gt; | Q811 &lt;chr&gt; | Q812 &lt;chr&gt; | Q813 &lt;chr&gt; | Q814 &lt;chr&gt; | Q815 &lt;chr&gt; | Q816 &lt;chr&gt; | Q817 &lt;chr&gt; | Q818 &lt;chr&gt; | Q819 &lt;chr&gt; |\n",
       "|---|---|---|---|---|---|---|---|---|---|---|---|---|---|---|---|---|---|---|---|---|\n",
       "| <!----> | 1136 | LBGTQ Health Center/Community Center      | NA | Connecticut          | 6511  | Urban    | Yes | 1 |  1 | ⋯ | NA                                                | NA     | NA                                                         | NA  | NA | NA  | NA  | NA                                                                                                                                                    | NA                                                                                                                                                                                                                                                                                                                                                                                                                                          | Incomplete |\n",
       "| 19tyler@gmail.com                | 422  | Non-profit organization                   | NA | District of Columbia | 20005 | Urban    | No  | 1 | NA | ⋯ | fear of how far laws will go  and stigmatizingp - | Unsure | fear                                                       | No  | NA | Yes | Yes | gov refuses to use evidenced based data                                                                                                               | limitations on providing harm Reduction services, syringe exchanges and safe injection sites in heavily using areas.                                                                                                                                                                                                                                                                                                                        | Complete   |\n",
       "| 3sollenberger@gmail.com          | 1294 | Non-profit organization                   | NA | Pennsylvania         | 15222 | Urban    | No  | 1 |  1 | ⋯ | NA                                                | Yes    | NA                                                         | No  | NA | No  | NA  | NA                                                                                                                                                    | NA                                                                                                                                                                                                                                                                                                                                                                                                                                          | Complete   |\n",
       "| 6ap464zdb@mozmail.com            | 687  | Community Based Organization (CBO)        | NA | New York             | 14527 | Rural    | No  | 1 |  1 | ⋯ | NA                                                | NA     | NA                                                         | NA  | NA | NA  | NA  | NA                                                                                                                                                    | NA                                                                                                                                                                                                                                                                                                                                                                                                                                          | Incomplete |\n",
       "| ASHLEY.HART@FLHEALTH.GOV         | 794  | Government entity (Local, State, Federal) | NA | Florida              | 32066 | Rural    | No  | 1 |  1 | ⋯ | NA                                                | Unsure | NA                                                         | No  | NA | No  | NA  | NA                                                                                                                                                    | WE ARE A VERY SMALL CHD. WE HAVE A SMALL POPULATION AND IF TESTING IS SOUGHT USUALLY PTS WILL GO TO A LARGER CHD WHERE THEY CAN 1. STAY ANONYMOUS, 2 OBTAIN MEDICATIONS/TREATMENT ON SITE 3. SEE A PROVIDER WITH MORE RESOURCES. WE HAVE ONE PROVIDER BETWEEN 2 FACILITIES WHO IS AT OUR LARGER FACILITY 4 DAYS A WEEK AND 2.5 DAYS A MONTH AT OUR SMALL FACILITY. WE ARE CURENTLY SEEKING ANOTHER PROVIDER AS OUR CURRENT ONE IS RETIRING. | Complete   |\n",
       "| ASIMS@ABSOLUTECARE.COM           | 1188 | Private hospital/clinic setting           | NA | Louisiana            | 70130 | Urban    | Yes | 1 | NA | ⋯ | NA                                                | Unsure | NA                                                         | No  | NA | No  | NA  | NA                                                                                                                                                    | NA                                                                                                                                                                                                                                                                                                                                                                                                                                          | Complete   |\n",
       "| Adam.lake@pennmedicine.upenn.edu | 901  | Academic hospital/clinic setting          | NA | Pennsylvania         | 17602 | Suburban | Yes | 1 |  1 | ⋯ | Worse mental health in trans community            | Yes    | Not sure where to start                                    | No  | NA | Yes | Yes | I haven't been able to provide colocated services or openly partner with the harm reduction coalition due to my health system's concern over legality | NA                                                                                                                                                                                                                                                                                                                                                                                                                                          | Complete   |\n",
       "| Admin@connectdcare.com           | 123  | Private practice                          | NA | Delaware             | 19901 | Rural    | No  | 1 |  1 | ⋯ | Yes                                               | Yes    | It has                                                     | Yes | NA | Yes | Yes | It does                                                                                                                                               | NA                                                                                                                                                                                                                                                                                                                                                                                                                                          | Complete   |\n",
       "| Aevans@tulane.edu                | 473  | Academic hospital/clinic setting          | NA | Louisiana            | 71301 | Suburban | Yes | 1 |  1 | ⋯ | NA                                                | Unsure | NA                                                         | No  | NA | No  | NA  | NA                                                                                                                                                    | NA                                                                                                                                                                                                                                                                                                                                                                                                                                          | Complete   |\n",
       "| Agirmay@kintegra.org             | 388  | Federally Qualified Health Center (FQHC)  | NA | North Carolina       | 28052 | Suburban | Yes | 1 |  1 | ⋯ | NA                                                | Yes    | It is not right to deny healthcare because of their gender | No  | NA | No  | NA  | NA                                                                                                                                                    | No                                                                                                                                                                                                                                                                                                                                                                                                                                          | Complete   |\n",
       "\n"
      ],
      "text/plain": [
       "   email                            Record_ID\n",
       "1                                   1136     \n",
       "2  19tyler@gmail.com                422      \n",
       "3  3sollenberger@gmail.com          1294     \n",
       "4  6ap464zdb@mozmail.com            687      \n",
       "5  ASHLEY.HART@FLHEALTH.GOV         794      \n",
       "6  ASIMS@ABSOLUTECARE.COM           1188     \n",
       "7  Adam.lake@pennmedicine.upenn.edu 901      \n",
       "8  Admin@connectdcare.com           123      \n",
       "9  Aevans@tulane.edu                473      \n",
       "10 Agirmay@kintegra.org             388      \n",
       "   Q1                                        Q2 Q3                   Q4   \n",
       "1  LBGTQ Health Center/Community Center      NA Connecticut          6511 \n",
       "2  Non-profit organization                   NA District of Columbia 20005\n",
       "3  Non-profit organization                   NA Pennsylvania         15222\n",
       "4  Community Based Organization (CBO)        NA New York             14527\n",
       "5  Government entity (Local, State, Federal) NA Florida              32066\n",
       "6  Private hospital/clinic setting           NA Louisiana            70130\n",
       "7  Academic hospital/clinic setting          NA Pennsylvania         17602\n",
       "8  Private practice                          NA Delaware             19901\n",
       "9  Academic hospital/clinic setting          NA Louisiana            71301\n",
       "10 Federally Qualified Health Center (FQHC)  NA North Carolina       28052\n",
       "   Q5       Q6  Q7 Q8 ⋯ Q810                                             \n",
       "1  Urban    Yes 1   1 ⋯ NA                                               \n",
       "2  Urban    No  1  NA ⋯ fear of how far laws will go  and stigmatizingp -\n",
       "3  Urban    No  1   1 ⋯ NA                                               \n",
       "4  Rural    No  1   1 ⋯ NA                                               \n",
       "5  Rural    No  1   1 ⋯ NA                                               \n",
       "6  Urban    Yes 1  NA ⋯ NA                                               \n",
       "7  Suburban Yes 1   1 ⋯ Worse mental health in trans community           \n",
       "8  Rural    No  1   1 ⋯ Yes                                              \n",
       "9  Suburban Yes 1   1 ⋯ NA                                               \n",
       "10 Suburban Yes 1   1 ⋯ NA                                               \n",
       "   Q811   Q812                                                       Q813 Q814\n",
       "1  NA     NA                                                         NA   NA  \n",
       "2  Unsure fear                                                       No   NA  \n",
       "3  Yes    NA                                                         No   NA  \n",
       "4  NA     NA                                                         NA   NA  \n",
       "5  Unsure NA                                                         No   NA  \n",
       "6  Unsure NA                                                         No   NA  \n",
       "7  Yes    Not sure where to start                                    No   NA  \n",
       "8  Yes    It has                                                     Yes  NA  \n",
       "9  Unsure NA                                                         No   NA  \n",
       "10 Yes    It is not right to deny healthcare because of their gender No   NA  \n",
       "   Q815 Q816\n",
       "1  NA   NA  \n",
       "2  Yes  Yes \n",
       "3  No   NA  \n",
       "4  NA   NA  \n",
       "5  No   NA  \n",
       "6  No   NA  \n",
       "7  Yes  Yes \n",
       "8  Yes  Yes \n",
       "9  No   NA  \n",
       "10 No   NA  \n",
       "   Q817                                                                                                                                                 \n",
       "1  NA                                                                                                                                                   \n",
       "2  gov refuses to use evidenced based data                                                                                                              \n",
       "3  NA                                                                                                                                                   \n",
       "4  NA                                                                                                                                                   \n",
       "5  NA                                                                                                                                                   \n",
       "6  NA                                                                                                                                                   \n",
       "7  I haven't been able to provide colocated services or openly partner with the harm reduction coalition due to my health system's concern over legality\n",
       "8  It does                                                                                                                                              \n",
       "9  NA                                                                                                                                                   \n",
       "10 NA                                                                                                                                                   \n",
       "   Q818                                                                                                                                                                                                                                                                                                                                                                                                                                       \n",
       "1  NA                                                                                                                                                                                                                                                                                                                                                                                                                                         \n",
       "2  limitations on providing harm Reduction services, syringe exchanges and safe injection sites in heavily using areas.                                                                                                                                                                                                                                                                                                                       \n",
       "3  NA                                                                                                                                                                                                                                                                                                                                                                                                                                         \n",
       "4  NA                                                                                                                                                                                                                                                                                                                                                                                                                                         \n",
       "5  WE ARE A VERY SMALL CHD. WE HAVE A SMALL POPULATION AND IF TESTING IS SOUGHT USUALLY PTS WILL GO TO A LARGER CHD WHERE THEY CAN 1. STAY ANONYMOUS, 2 OBTAIN MEDICATIONS/TREATMENT ON SITE 3. SEE A PROVIDER WITH MORE RESOURCES. WE HAVE ONE PROVIDER BETWEEN 2 FACILITIES WHO IS AT OUR LARGER FACILITY 4 DAYS A WEEK AND 2.5 DAYS A MONTH AT OUR SMALL FACILITY. WE ARE CURENTLY SEEKING ANOTHER PROVIDER AS OUR CURRENT ONE IS RETIRING.\n",
       "6  NA                                                                                                                                                                                                                                                                                                                                                                                                                                         \n",
       "7  NA                                                                                                                                                                                                                                                                                                                                                                                                                                         \n",
       "8  NA                                                                                                                                                                                                                                                                                                                                                                                                                                         \n",
       "9  NA                                                                                                                                                                                                                                                                                                                                                                                                                                         \n",
       "10 No                                                                                                                                                                                                                                                                                                                                                                                                                                         \n",
       "   Q819      \n",
       "1  Incomplete\n",
       "2  Complete  \n",
       "3  Complete  \n",
       "4  Incomplete\n",
       "5  Complete  \n",
       "6  Complete  \n",
       "7  Complete  \n",
       "8  Complete  \n",
       "9  Complete  \n",
       "10 Complete  "
      ]
     },
     "metadata": {},
     "output_type": "display_data"
    }
   ],
   "source": [
    "# preview of cleaned data\n",
    "head(final_data, 10)"
   ]
  },
  {
   "cell_type": "code",
   "execution_count": 4,
   "id": "6601a606-f6d9-4811-b144-3bcfd54b4d6d",
   "metadata": {},
   "outputs": [
    {
     "data": {
      "text/html": [
       "<table class=\"dataframe\">\n",
       "<caption>A tibble: 1114 × 7</caption>\n",
       "<thead>\n",
       "\t<tr><th scope=col>Q7</th><th scope=col>Q8</th><th scope=col>Q9</th><th scope=col>Q10</th><th scope=col>Q11</th><th scope=col>Q12</th><th scope=col>Q13</th></tr>\n",
       "\t<tr><th scope=col>&lt;dbl&gt;</th><th scope=col>&lt;dbl&gt;</th><th scope=col>&lt;dbl&gt;</th><th scope=col>&lt;dbl&gt;</th><th scope=col>&lt;dbl&gt;</th><th scope=col>&lt;dbl&gt;</th><th scope=col>&lt;dbl&gt;</th></tr>\n",
       "</thead>\n",
       "<tbody>\n",
       "\t<tr><td> 1</td><td> 1</td><td> 1</td><td> 1</td><td> 1</td><td>NA</td><td>NA</td></tr>\n",
       "\t<tr><td> 1</td><td>NA</td><td>NA</td><td>NA</td><td>NA</td><td>NA</td><td>NA</td></tr>\n",
       "\t<tr><td> 1</td><td> 1</td><td> 1</td><td> 1</td><td> 1</td><td> 1</td><td>NA</td></tr>\n",
       "\t<tr><td> 1</td><td> 1</td><td> 1</td><td> 1</td><td> 1</td><td> 1</td><td>NA</td></tr>\n",
       "\t<tr><td> 1</td><td> 1</td><td>NA</td><td>NA</td><td>NA</td><td> 1</td><td>NA</td></tr>\n",
       "\t<tr><td> 1</td><td>NA</td><td>NA</td><td>NA</td><td>NA</td><td>NA</td><td>NA</td></tr>\n",
       "\t<tr><td> 1</td><td> 1</td><td> 1</td><td> 1</td><td> 1</td><td> 1</td><td> 1</td></tr>\n",
       "\t<tr><td> 1</td><td> 1</td><td> 1</td><td> 1</td><td> 1</td><td>NA</td><td>NA</td></tr>\n",
       "\t<tr><td> 1</td><td> 1</td><td> 1</td><td>NA</td><td> 1</td><td> 1</td><td>NA</td></tr>\n",
       "\t<tr><td> 1</td><td> 1</td><td> 1</td><td> 1</td><td> 1</td><td> 1</td><td>NA</td></tr>\n",
       "\t<tr><td>NA</td><td>NA</td><td>NA</td><td>NA</td><td>NA</td><td>NA</td><td> 1</td></tr>\n",
       "\t<tr><td> 1</td><td> 1</td><td>NA</td><td>NA</td><td>NA</td><td>NA</td><td> 1</td></tr>\n",
       "\t<tr><td> 1</td><td> 1</td><td> 1</td><td> 1</td><td> 1</td><td> 1</td><td> 1</td></tr>\n",
       "\t<tr><td> 1</td><td> 1</td><td> 1</td><td> 1</td><td> 1</td><td>NA</td><td>NA</td></tr>\n",
       "\t<tr><td> 1</td><td> 1</td><td>NA</td><td> 1</td><td> 1</td><td>NA</td><td>NA</td></tr>\n",
       "\t<tr><td> 1</td><td> 1</td><td> 1</td><td>NA</td><td> 1</td><td> 1</td><td>NA</td></tr>\n",
       "\t<tr><td> 1</td><td>NA</td><td> 1</td><td> 1</td><td> 1</td><td> 1</td><td> 1</td></tr>\n",
       "\t<tr><td>NA</td><td> 1</td><td>NA</td><td> 1</td><td> 1</td><td>NA</td><td>NA</td></tr>\n",
       "\t<tr><td> 1</td><td> 1</td><td> 1</td><td> 1</td><td> 1</td><td> 1</td><td>NA</td></tr>\n",
       "\t<tr><td>NA</td><td>NA</td><td>NA</td><td>NA</td><td>NA</td><td>NA</td><td> 1</td></tr>\n",
       "\t<tr><td>NA</td><td>NA</td><td>NA</td><td>NA</td><td>NA</td><td> 1</td><td>NA</td></tr>\n",
       "\t<tr><td> 1</td><td> 1</td><td> 1</td><td>NA</td><td>NA</td><td>NA</td><td>NA</td></tr>\n",
       "\t<tr><td> 1</td><td> 1</td><td> 1</td><td> 1</td><td> 1</td><td>NA</td><td>NA</td></tr>\n",
       "\t<tr><td> 1</td><td> 1</td><td> 1</td><td> 1</td><td> 1</td><td> 1</td><td> 1</td></tr>\n",
       "\t<tr><td> 1</td><td> 1</td><td> 1</td><td> 1</td><td> 1</td><td> 1</td><td>NA</td></tr>\n",
       "\t<tr><td> 1</td><td> 1</td><td> 1</td><td> 1</td><td> 1</td><td> 1</td><td>NA</td></tr>\n",
       "\t<tr><td>NA</td><td>NA</td><td>NA</td><td>NA</td><td>NA</td><td>NA</td><td> 1</td></tr>\n",
       "\t<tr><td> 1</td><td> 1</td><td> 1</td><td> 1</td><td> 1</td><td>NA</td><td>NA</td></tr>\n",
       "\t<tr><td> 1</td><td> 1</td><td> 1</td><td> 1</td><td> 1</td><td>NA</td><td>NA</td></tr>\n",
       "\t<tr><td> 1</td><td> 1</td><td> 1</td><td>NA</td><td>NA</td><td> 1</td><td>NA</td></tr>\n",
       "\t<tr><td>⋮</td><td>⋮</td><td>⋮</td><td>⋮</td><td>⋮</td><td>⋮</td><td>⋮</td></tr>\n",
       "\t<tr><td> 1</td><td>NA</td><td>NA</td><td>NA</td><td>NA</td><td>NA</td><td>NA</td></tr>\n",
       "\t<tr><td> 1</td><td> 1</td><td>NA</td><td> 1</td><td> 1</td><td>NA</td><td> 1</td></tr>\n",
       "\t<tr><td>NA</td><td>NA</td><td>NA</td><td> 1</td><td>NA</td><td> 1</td><td>NA</td></tr>\n",
       "\t<tr><td>NA</td><td>NA</td><td>NA</td><td>NA</td><td> 1</td><td>NA</td><td> 1</td></tr>\n",
       "\t<tr><td> 1</td><td>NA</td><td>NA</td><td>NA</td><td>NA</td><td>NA</td><td>NA</td></tr>\n",
       "\t<tr><td> 1</td><td> 1</td><td> 1</td><td> 1</td><td> 1</td><td> 1</td><td>NA</td></tr>\n",
       "\t<tr><td>NA</td><td>NA</td><td> 1</td><td>NA</td><td> 1</td><td> 1</td><td>NA</td></tr>\n",
       "\t<tr><td> 1</td><td> 1</td><td> 1</td><td> 1</td><td> 1</td><td>NA</td><td>NA</td></tr>\n",
       "\t<tr><td> 1</td><td> 1</td><td> 1</td><td> 1</td><td> 1</td><td> 1</td><td> 1</td></tr>\n",
       "\t<tr><td>NA</td><td>NA</td><td>NA</td><td> 1</td><td>NA</td><td>NA</td><td> 1</td></tr>\n",
       "\t<tr><td> 1</td><td> 1</td><td> 1</td><td> 1</td><td> 1</td><td> 1</td><td>NA</td></tr>\n",
       "\t<tr><td>NA</td><td>NA</td><td>NA</td><td>NA</td><td>NA</td><td>NA</td><td> 1</td></tr>\n",
       "\t<tr><td> 1</td><td> 1</td><td>NA</td><td>NA</td><td>NA</td><td>NA</td><td>NA</td></tr>\n",
       "\t<tr><td>NA</td><td> 1</td><td>NA</td><td>NA</td><td>NA</td><td>NA</td><td>NA</td></tr>\n",
       "\t<tr><td>NA</td><td>NA</td><td>NA</td><td>NA</td><td>NA</td><td>NA</td><td> 1</td></tr>\n",
       "\t<tr><td> 1</td><td> 1</td><td> 1</td><td>NA</td><td>NA</td><td>NA</td><td>NA</td></tr>\n",
       "\t<tr><td>NA</td><td>NA</td><td>NA</td><td>NA</td><td>NA</td><td>NA</td><td> 1</td></tr>\n",
       "\t<tr><td> 1</td><td> 1</td><td>NA</td><td> 1</td><td> 1</td><td> 1</td><td>NA</td></tr>\n",
       "\t<tr><td> 1</td><td> 1</td><td>NA</td><td> 1</td><td> 1</td><td> 1</td><td>NA</td></tr>\n",
       "\t<tr><td> 1</td><td> 1</td><td>NA</td><td>NA</td><td>NA</td><td>NA</td><td>NA</td></tr>\n",
       "\t<tr><td> 1</td><td> 1</td><td> 1</td><td>NA</td><td> 1</td><td>NA</td><td>NA</td></tr>\n",
       "\t<tr><td>NA</td><td>NA</td><td>NA</td><td>NA</td><td>NA</td><td>NA</td><td> 1</td></tr>\n",
       "\t<tr><td> 1</td><td> 1</td><td> 1</td><td> 1</td><td> 1</td><td> 1</td><td>NA</td></tr>\n",
       "\t<tr><td> 1</td><td> 1</td><td> 1</td><td> 1</td><td> 1</td><td> 1</td><td>NA</td></tr>\n",
       "\t<tr><td>NA</td><td>NA</td><td>NA</td><td>NA</td><td>NA</td><td>NA</td><td> 1</td></tr>\n",
       "\t<tr><td> 1</td><td> 1</td><td> 1</td><td> 1</td><td> 1</td><td> 1</td><td>NA</td></tr>\n",
       "\t<tr><td> 1</td><td> 1</td><td> 1</td><td>NA</td><td> 1</td><td> 1</td><td>NA</td></tr>\n",
       "\t<tr><td> 1</td><td>NA</td><td>NA</td><td>NA</td><td> 1</td><td> 1</td><td>NA</td></tr>\n",
       "\t<tr><td> 1</td><td> 1</td><td> 1</td><td> 1</td><td> 1</td><td> 1</td><td>NA</td></tr>\n",
       "\t<tr><td> 1</td><td> 1</td><td>NA</td><td>NA</td><td> 1</td><td> 1</td><td>NA</td></tr>\n",
       "</tbody>\n",
       "</table>\n"
      ],
      "text/latex": [
       "A tibble: 1114 × 7\n",
       "\\begin{tabular}{lllllll}\n",
       " Q7 & Q8 & Q9 & Q10 & Q11 & Q12 & Q13\\\\\n",
       " <dbl> & <dbl> & <dbl> & <dbl> & <dbl> & <dbl> & <dbl>\\\\\n",
       "\\hline\n",
       "\t  1 &  1 &  1 &  1 &  1 & NA & NA\\\\\n",
       "\t  1 & NA & NA & NA & NA & NA & NA\\\\\n",
       "\t  1 &  1 &  1 &  1 &  1 &  1 & NA\\\\\n",
       "\t  1 &  1 &  1 &  1 &  1 &  1 & NA\\\\\n",
       "\t  1 &  1 & NA & NA & NA &  1 & NA\\\\\n",
       "\t  1 & NA & NA & NA & NA & NA & NA\\\\\n",
       "\t  1 &  1 &  1 &  1 &  1 &  1 &  1\\\\\n",
       "\t  1 &  1 &  1 &  1 &  1 & NA & NA\\\\\n",
       "\t  1 &  1 &  1 & NA &  1 &  1 & NA\\\\\n",
       "\t  1 &  1 &  1 &  1 &  1 &  1 & NA\\\\\n",
       "\t NA & NA & NA & NA & NA & NA &  1\\\\\n",
       "\t  1 &  1 & NA & NA & NA & NA &  1\\\\\n",
       "\t  1 &  1 &  1 &  1 &  1 &  1 &  1\\\\\n",
       "\t  1 &  1 &  1 &  1 &  1 & NA & NA\\\\\n",
       "\t  1 &  1 & NA &  1 &  1 & NA & NA\\\\\n",
       "\t  1 &  1 &  1 & NA &  1 &  1 & NA\\\\\n",
       "\t  1 & NA &  1 &  1 &  1 &  1 &  1\\\\\n",
       "\t NA &  1 & NA &  1 &  1 & NA & NA\\\\\n",
       "\t  1 &  1 &  1 &  1 &  1 &  1 & NA\\\\\n",
       "\t NA & NA & NA & NA & NA & NA &  1\\\\\n",
       "\t NA & NA & NA & NA & NA &  1 & NA\\\\\n",
       "\t  1 &  1 &  1 & NA & NA & NA & NA\\\\\n",
       "\t  1 &  1 &  1 &  1 &  1 & NA & NA\\\\\n",
       "\t  1 &  1 &  1 &  1 &  1 &  1 &  1\\\\\n",
       "\t  1 &  1 &  1 &  1 &  1 &  1 & NA\\\\\n",
       "\t  1 &  1 &  1 &  1 &  1 &  1 & NA\\\\\n",
       "\t NA & NA & NA & NA & NA & NA &  1\\\\\n",
       "\t  1 &  1 &  1 &  1 &  1 & NA & NA\\\\\n",
       "\t  1 &  1 &  1 &  1 &  1 & NA & NA\\\\\n",
       "\t  1 &  1 &  1 & NA & NA &  1 & NA\\\\\n",
       "\t ⋮ & ⋮ & ⋮ & ⋮ & ⋮ & ⋮ & ⋮\\\\\n",
       "\t  1 & NA & NA & NA & NA & NA & NA\\\\\n",
       "\t  1 &  1 & NA &  1 &  1 & NA &  1\\\\\n",
       "\t NA & NA & NA &  1 & NA &  1 & NA\\\\\n",
       "\t NA & NA & NA & NA &  1 & NA &  1\\\\\n",
       "\t  1 & NA & NA & NA & NA & NA & NA\\\\\n",
       "\t  1 &  1 &  1 &  1 &  1 &  1 & NA\\\\\n",
       "\t NA & NA &  1 & NA &  1 &  1 & NA\\\\\n",
       "\t  1 &  1 &  1 &  1 &  1 & NA & NA\\\\\n",
       "\t  1 &  1 &  1 &  1 &  1 &  1 &  1\\\\\n",
       "\t NA & NA & NA &  1 & NA & NA &  1\\\\\n",
       "\t  1 &  1 &  1 &  1 &  1 &  1 & NA\\\\\n",
       "\t NA & NA & NA & NA & NA & NA &  1\\\\\n",
       "\t  1 &  1 & NA & NA & NA & NA & NA\\\\\n",
       "\t NA &  1 & NA & NA & NA & NA & NA\\\\\n",
       "\t NA & NA & NA & NA & NA & NA &  1\\\\\n",
       "\t  1 &  1 &  1 & NA & NA & NA & NA\\\\\n",
       "\t NA & NA & NA & NA & NA & NA &  1\\\\\n",
       "\t  1 &  1 & NA &  1 &  1 &  1 & NA\\\\\n",
       "\t  1 &  1 & NA &  1 &  1 &  1 & NA\\\\\n",
       "\t  1 &  1 & NA & NA & NA & NA & NA\\\\\n",
       "\t  1 &  1 &  1 & NA &  1 & NA & NA\\\\\n",
       "\t NA & NA & NA & NA & NA & NA &  1\\\\\n",
       "\t  1 &  1 &  1 &  1 &  1 &  1 & NA\\\\\n",
       "\t  1 &  1 &  1 &  1 &  1 &  1 & NA\\\\\n",
       "\t NA & NA & NA & NA & NA & NA &  1\\\\\n",
       "\t  1 &  1 &  1 &  1 &  1 &  1 & NA\\\\\n",
       "\t  1 &  1 &  1 & NA &  1 &  1 & NA\\\\\n",
       "\t  1 & NA & NA & NA &  1 &  1 & NA\\\\\n",
       "\t  1 &  1 &  1 &  1 &  1 &  1 & NA\\\\\n",
       "\t  1 &  1 & NA & NA &  1 &  1 & NA\\\\\n",
       "\\end{tabular}\n"
      ],
      "text/markdown": [
       "\n",
       "A tibble: 1114 × 7\n",
       "\n",
       "| Q7 &lt;dbl&gt; | Q8 &lt;dbl&gt; | Q9 &lt;dbl&gt; | Q10 &lt;dbl&gt; | Q11 &lt;dbl&gt; | Q12 &lt;dbl&gt; | Q13 &lt;dbl&gt; |\n",
       "|---|---|---|---|---|---|---|\n",
       "|  1 |  1 |  1 |  1 |  1 | NA | NA |\n",
       "|  1 | NA | NA | NA | NA | NA | NA |\n",
       "|  1 |  1 |  1 |  1 |  1 |  1 | NA |\n",
       "|  1 |  1 |  1 |  1 |  1 |  1 | NA |\n",
       "|  1 |  1 | NA | NA | NA |  1 | NA |\n",
       "|  1 | NA | NA | NA | NA | NA | NA |\n",
       "|  1 |  1 |  1 |  1 |  1 |  1 |  1 |\n",
       "|  1 |  1 |  1 |  1 |  1 | NA | NA |\n",
       "|  1 |  1 |  1 | NA |  1 |  1 | NA |\n",
       "|  1 |  1 |  1 |  1 |  1 |  1 | NA |\n",
       "| NA | NA | NA | NA | NA | NA |  1 |\n",
       "|  1 |  1 | NA | NA | NA | NA |  1 |\n",
       "|  1 |  1 |  1 |  1 |  1 |  1 |  1 |\n",
       "|  1 |  1 |  1 |  1 |  1 | NA | NA |\n",
       "|  1 |  1 | NA |  1 |  1 | NA | NA |\n",
       "|  1 |  1 |  1 | NA |  1 |  1 | NA |\n",
       "|  1 | NA |  1 |  1 |  1 |  1 |  1 |\n",
       "| NA |  1 | NA |  1 |  1 | NA | NA |\n",
       "|  1 |  1 |  1 |  1 |  1 |  1 | NA |\n",
       "| NA | NA | NA | NA | NA | NA |  1 |\n",
       "| NA | NA | NA | NA | NA |  1 | NA |\n",
       "|  1 |  1 |  1 | NA | NA | NA | NA |\n",
       "|  1 |  1 |  1 |  1 |  1 | NA | NA |\n",
       "|  1 |  1 |  1 |  1 |  1 |  1 |  1 |\n",
       "|  1 |  1 |  1 |  1 |  1 |  1 | NA |\n",
       "|  1 |  1 |  1 |  1 |  1 |  1 | NA |\n",
       "| NA | NA | NA | NA | NA | NA |  1 |\n",
       "|  1 |  1 |  1 |  1 |  1 | NA | NA |\n",
       "|  1 |  1 |  1 |  1 |  1 | NA | NA |\n",
       "|  1 |  1 |  1 | NA | NA |  1 | NA |\n",
       "| ⋮ | ⋮ | ⋮ | ⋮ | ⋮ | ⋮ | ⋮ |\n",
       "|  1 | NA | NA | NA | NA | NA | NA |\n",
       "|  1 |  1 | NA |  1 |  1 | NA |  1 |\n",
       "| NA | NA | NA |  1 | NA |  1 | NA |\n",
       "| NA | NA | NA | NA |  1 | NA |  1 |\n",
       "|  1 | NA | NA | NA | NA | NA | NA |\n",
       "|  1 |  1 |  1 |  1 |  1 |  1 | NA |\n",
       "| NA | NA |  1 | NA |  1 |  1 | NA |\n",
       "|  1 |  1 |  1 |  1 |  1 | NA | NA |\n",
       "|  1 |  1 |  1 |  1 |  1 |  1 |  1 |\n",
       "| NA | NA | NA |  1 | NA | NA |  1 |\n",
       "|  1 |  1 |  1 |  1 |  1 |  1 | NA |\n",
       "| NA | NA | NA | NA | NA | NA |  1 |\n",
       "|  1 |  1 | NA | NA | NA | NA | NA |\n",
       "| NA |  1 | NA | NA | NA | NA | NA |\n",
       "| NA | NA | NA | NA | NA | NA |  1 |\n",
       "|  1 |  1 |  1 | NA | NA | NA | NA |\n",
       "| NA | NA | NA | NA | NA | NA |  1 |\n",
       "|  1 |  1 | NA |  1 |  1 |  1 | NA |\n",
       "|  1 |  1 | NA |  1 |  1 |  1 | NA |\n",
       "|  1 |  1 | NA | NA | NA | NA | NA |\n",
       "|  1 |  1 |  1 | NA |  1 | NA | NA |\n",
       "| NA | NA | NA | NA | NA | NA |  1 |\n",
       "|  1 |  1 |  1 |  1 |  1 |  1 | NA |\n",
       "|  1 |  1 |  1 |  1 |  1 |  1 | NA |\n",
       "| NA | NA | NA | NA | NA | NA |  1 |\n",
       "|  1 |  1 |  1 |  1 |  1 |  1 | NA |\n",
       "|  1 |  1 |  1 | NA |  1 |  1 | NA |\n",
       "|  1 | NA | NA | NA |  1 |  1 | NA |\n",
       "|  1 |  1 |  1 |  1 |  1 |  1 | NA |\n",
       "|  1 |  1 | NA | NA |  1 |  1 | NA |\n",
       "\n"
      ],
      "text/plain": [
       "     Q7 Q8 Q9 Q10 Q11 Q12 Q13\n",
       "1     1  1  1  1   1  NA  NA \n",
       "2     1 NA NA NA  NA  NA  NA \n",
       "3     1  1  1  1   1   1  NA \n",
       "4     1  1  1  1   1   1  NA \n",
       "5     1  1 NA NA  NA   1  NA \n",
       "6     1 NA NA NA  NA  NA  NA \n",
       "7     1  1  1  1   1   1   1 \n",
       "8     1  1  1  1   1  NA  NA \n",
       "9     1  1  1 NA   1   1  NA \n",
       "10    1  1  1  1   1   1  NA \n",
       "11   NA NA NA NA  NA  NA   1 \n",
       "12    1  1 NA NA  NA  NA   1 \n",
       "13    1  1  1  1   1   1   1 \n",
       "14    1  1  1  1   1  NA  NA \n",
       "15    1  1 NA  1   1  NA  NA \n",
       "16    1  1  1 NA   1   1  NA \n",
       "17    1 NA  1  1   1   1   1 \n",
       "18   NA  1 NA  1   1  NA  NA \n",
       "19    1  1  1  1   1   1  NA \n",
       "20   NA NA NA NA  NA  NA   1 \n",
       "21   NA NA NA NA  NA   1  NA \n",
       "22    1  1  1 NA  NA  NA  NA \n",
       "23    1  1  1  1   1  NA  NA \n",
       "24    1  1  1  1   1   1   1 \n",
       "25    1  1  1  1   1   1  NA \n",
       "26    1  1  1  1   1   1  NA \n",
       "27   NA NA NA NA  NA  NA   1 \n",
       "28    1  1  1  1   1  NA  NA \n",
       "29    1  1  1  1   1  NA  NA \n",
       "30    1  1  1 NA  NA   1  NA \n",
       "⋮    ⋮  ⋮  ⋮  ⋮   ⋮   ⋮   ⋮  \n",
       "1085  1 NA NA NA  NA  NA  NA \n",
       "1086  1  1 NA  1   1  NA   1 \n",
       "1087 NA NA NA  1  NA   1  NA \n",
       "1088 NA NA NA NA   1  NA   1 \n",
       "1089  1 NA NA NA  NA  NA  NA \n",
       "1090  1  1  1  1   1   1  NA \n",
       "1091 NA NA  1 NA   1   1  NA \n",
       "1092  1  1  1  1   1  NA  NA \n",
       "1093  1  1  1  1   1   1   1 \n",
       "1094 NA NA NA  1  NA  NA   1 \n",
       "1095  1  1  1  1   1   1  NA \n",
       "1096 NA NA NA NA  NA  NA   1 \n",
       "1097  1  1 NA NA  NA  NA  NA \n",
       "1098 NA  1 NA NA  NA  NA  NA \n",
       "1099 NA NA NA NA  NA  NA   1 \n",
       "1100  1  1  1 NA  NA  NA  NA \n",
       "1101 NA NA NA NA  NA  NA   1 \n",
       "1102  1  1 NA  1   1   1  NA \n",
       "1103  1  1 NA  1   1   1  NA \n",
       "1104  1  1 NA NA  NA  NA  NA \n",
       "1105  1  1  1 NA   1  NA  NA \n",
       "1106 NA NA NA NA  NA  NA   1 \n",
       "1107  1  1  1  1   1   1  NA \n",
       "1108  1  1  1  1   1   1  NA \n",
       "1109 NA NA NA NA  NA  NA   1 \n",
       "1110  1  1  1  1   1   1  NA \n",
       "1111  1  1  1 NA   1   1  NA \n",
       "1112  1 NA NA NA   1   1  NA \n",
       "1113  1  1  1  1   1   1  NA \n",
       "1114  1  1 NA NA   1   1  NA "
      ]
     },
     "metadata": {},
     "output_type": "display_data"
    }
   ],
   "source": [
    "final_data[,c(\"Q7\", \"Q8\", \"Q9\", \"Q10\", \"Q11\", \"Q12\", \"Q13\")]"
   ]
  },
  {
   "cell_type": "markdown",
   "id": "f8a1be81-c927-4731-b4aa-956267f1fba7",
   "metadata": {},
   "source": [
    "## Number of incomplete and complete responses"
   ]
  },
  {
   "cell_type": "code",
   "execution_count": 5,
   "id": "4e470ab8-98ed-4c41-928c-a76fe15210e7",
   "metadata": {},
   "outputs": [
    {
     "data": {
      "text/plain": [
       "\n",
       "  Complete Incomplete \n",
       "       819        295 "
      ]
     },
     "metadata": {},
     "output_type": "display_data"
    }
   ],
   "source": [
    "# Complete vs incomplete for general data\n",
    "table(final_data$Q819)"
   ]
  },
  {
   "cell_type": "markdown",
   "id": "de375dc0-e45f-4476-b6d2-b8af09cf2fb6",
   "metadata": {},
   "source": [
    "# Descriptive Statistics for overall data"
   ]
  },
  {
   "cell_type": "markdown",
   "id": "7073397c-13fc-4ca9-bea4-531aa48370a8",
   "metadata": {},
   "source": [
    "## Age counts"
   ]
  },
  {
   "cell_type": "code",
   "execution_count": 6,
   "id": "5942d6fc-99be-4dad-a806-b44650c17347",
   "metadata": {},
   "outputs": [
    {
     "data": {
      "text/plain": [
       "\n",
       "                18-24                 25-34                 35-44 \n",
       "                   31                   204                   256 \n",
       "                45-54                 55-64                    65 \n",
       "                  262                   226                   103 \n",
       "Prefer not to respond \n",
       "                   23 "
      ]
     },
     "metadata": {},
     "output_type": "display_data"
    }
   ],
   "source": [
    "# Age\n",
    "gen_age <- table(final_data$Q162)\n",
    "gen_age"
   ]
  },
  {
   "cell_type": "markdown",
   "id": "27e6753d-b829-4342-a111-6328a4ca309e",
   "metadata": {},
   "source": [
    "## Age percentages"
   ]
  },
  {
   "cell_type": "code",
   "execution_count": 7,
   "id": "72642840-0b10-414f-a667-f0890fd5fa54",
   "metadata": {},
   "outputs": [
    {
     "data": {
      "text/plain": [
       "\n",
       "                18-24                 25-34                 35-44 \n",
       "             2.805430             18.461538             23.167421 \n",
       "                45-54                 55-64                    65 \n",
       "            23.710407             20.452489              9.321267 \n",
       "Prefer not to respond \n",
       "             2.081448 "
      ]
     },
     "metadata": {},
     "output_type": "display_data"
    }
   ],
   "source": [
    "# Age\n",
    "gen_age_perc <- prop.table(gen_age)*100\n",
    "gen_age_perc"
   ]
  },
  {
   "cell_type": "markdown",
   "id": "8442e1ce-8326-47ab-bd8f-1ef74f5b4d77",
   "metadata": {},
   "source": [
    "## Race counts"
   ]
  },
  {
   "cell_type": "code",
   "execution_count": 8,
   "id": "fd14c1fb-0d81-4c59-ae23-b85755a4e589",
   "metadata": {},
   "outputs": [
    {
     "data": {
      "text/plain": [
       "\n",
       "        Asian and/or Asian American           Black or African American \n",
       "                                 28                                 273 \n",
       "                        Multiracial    Native American or Alaska Native \n",
       "                                 79                                  13 \n",
       "Native Hawaiian or Pacific Islander               Prefer not to respond \n",
       "                                  5                                  55 \n",
       "            Prefer to self-describe                  White or Caucasian \n",
       "                                 26                                 625 "
      ]
     },
     "metadata": {},
     "output_type": "display_data"
    }
   ],
   "source": [
    "## Race\n",
    "gen_race <- table(final_data$Q159)\n",
    "gen_race"
   ]
  },
  {
   "cell_type": "markdown",
   "id": "8e9ee63d-6bf8-41aa-a728-c29a61904dc4",
   "metadata": {},
   "source": [
    "## Race percentages"
   ]
  },
  {
   "cell_type": "code",
   "execution_count": 9,
   "id": "bfe40d46-2ec5-44da-ad19-834279753c26",
   "metadata": {},
   "outputs": [
    {
     "data": {
      "text/plain": [
       "\n",
       "        Asian and/or Asian American           Black or African American \n",
       "                          2.5362319                          24.7282609 \n",
       "                        Multiracial    Native American or Alaska Native \n",
       "                          7.1557971                           1.1775362 \n",
       "Native Hawaiian or Pacific Islander               Prefer not to respond \n",
       "                          0.4528986                           4.9818841 \n",
       "            Prefer to self-describe                  White or Caucasian \n",
       "                          2.3550725                          56.6123188 "
      ]
     },
     "metadata": {},
     "output_type": "display_data"
    }
   ],
   "source": [
    "# Race\n",
    "gen_race_perc <- prop.table(gen_race)*100\n",
    "gen_race_perc"
   ]
  },
  {
   "cell_type": "markdown",
   "id": "fc8f0847-c9a3-419e-92fb-ccc468bb8a18",
   "metadata": {},
   "source": [
    "## Hispanic/Latinx counts"
   ]
  },
  {
   "cell_type": "code",
   "execution_count": 10,
   "id": "01099ab1-276a-4994-af38-a79530a9056c",
   "metadata": {},
   "outputs": [
    {
     "data": {
      "text/plain": [
       "\n",
       "                   No Prefer not to respond                   Yes \n",
       "                  887                    21                   197 "
      ]
     },
     "metadata": {},
     "output_type": "display_data"
    }
   ],
   "source": [
    "## Hispanic/Latinx\n",
    "gen_hisp <- table(final_data$Q161)\n",
    "gen_hisp\n"
   ]
  },
  {
   "cell_type": "markdown",
   "id": "9b89bee1-55c7-4410-8577-881a643085fb",
   "metadata": {},
   "source": [
    "## Hispanic/Latinx percentages"
   ]
  },
  {
   "cell_type": "code",
   "execution_count": 11,
   "id": "085873bd-84f3-4cdb-b257-b0720e0a8256",
   "metadata": {},
   "outputs": [
    {
     "data": {
      "text/plain": [
       "\n",
       "                   No Prefer not to respond                   Yes \n",
       "            80.271493              1.900452             17.828054 "
      ]
     },
     "metadata": {},
     "output_type": "display_data"
    }
   ],
   "source": [
    "gen_hisp_perc <- prop.table(gen_hisp)*100\n",
    "gen_hisp_perc"
   ]
  },
  {
   "cell_type": "markdown",
   "id": "8b24d501-2d3f-46ba-ace6-5f4094fb126b",
   "metadata": {},
   "source": [
    "## Gender identity counts"
   ]
  },
  {
   "cell_type": "code",
   "execution_count": 12,
   "id": "26a9f9e6-8d2d-4bfe-8de4-1503164a1b1b",
   "metadata": {},
   "outputs": [
    {
     "data": {
      "text/plain": [
       "\n",
       "                                Female/Woman \n",
       "                                         682 \n",
       "Genderqueer/gender non-confirming/non-binary \n",
       "                                          71 \n",
       "                                    Male/Man \n",
       "                                         288 \n",
       "                       Prefer not to respond \n",
       "                                          19 \n",
       "                     Prefer to self-describe \n",
       "                                          11 \n",
       "                             Transgender man \n",
       "                                          20 \n",
       "                           Transgender woman \n",
       "                                          14 "
      ]
     },
     "metadata": {},
     "output_type": "display_data"
    }
   ],
   "source": [
    "genid_counts <- table(final_data$Q157)\n",
    "genid_counts"
   ]
  },
  {
   "cell_type": "markdown",
   "id": "12bd9142-90d2-4acb-b5b7-2d518bdc0f28",
   "metadata": {},
   "source": [
    "## Gender identity percentages"
   ]
  },
  {
   "cell_type": "code",
   "execution_count": 13,
   "id": "8978a606-5df9-4ad3-9d58-0adc805319e6",
   "metadata": {},
   "outputs": [
    {
     "data": {
      "text/plain": [
       "\n",
       "                                Female/Woman \n",
       "                                  61.7194570 \n",
       "Genderqueer/gender non-confirming/non-binary \n",
       "                                   6.4253394 \n",
       "                                    Male/Man \n",
       "                                  26.0633484 \n",
       "                       Prefer not to respond \n",
       "                                   1.7194570 \n",
       "                     Prefer to self-describe \n",
       "                                   0.9954751 \n",
       "                             Transgender man \n",
       "                                   1.8099548 \n",
       "                           Transgender woman \n",
       "                                   1.2669683 "
      ]
     },
     "metadata": {},
     "output_type": "display_data"
    }
   ],
   "source": [
    "genid_perc <- prop.table(genid_counts)*100\n",
    "genid_perc"
   ]
  },
  {
   "cell_type": "markdown",
   "id": "a3ec0efd-662a-400e-bd47-cae24f5241be",
   "metadata": {},
   "source": [
    "## Type of organization counts"
   ]
  },
  {
   "cell_type": "code",
   "execution_count": 14,
   "id": "f5f214f9-076f-4e02-917a-b4575c917d5c",
   "metadata": {},
   "outputs": [
    {
     "data": {
      "text/plain": [
       "\n",
       "             Academic hospital/clinic setting \n",
       "                                           80 \n",
       "                        Advocacy organization \n",
       "                                            5 \n",
       "              AIDS Service Organization (ASO) \n",
       "                                          133 \n",
       "           Community Based Organization (CBO) \n",
       "                                          129 \n",
       "     Federally Qualified Health Center (FQHC) \n",
       "                                          134 \n",
       "    Government entity (Local, State, Federal) \n",
       "                                          105 \n",
       "               Health department (non-clinic) \n",
       "                                           41 \n",
       "Health department clinic/public health clinic \n",
       "                                          146 \n",
       "         LBGTQ Health Center/Community Center \n",
       "                                           55 \n",
       "                      Non-profit organization \n",
       "                                          159 \n",
       "                                        Other \n",
       "                                           27 \n",
       "                                     Pharmacy \n",
       "                                            7 \n",
       "              Private hospital/clinic setting \n",
       "                                           36 \n",
       "                             Private practice \n",
       "                                           24 \n",
       "             Substance use treatment facility \n",
       "                                           11 \n",
       "                           University/college \n",
       "                                           22 "
      ]
     },
     "metadata": {},
     "output_type": "display_data"
    }
   ],
   "source": [
    "## Org type\n",
    "gen_org_type <- table(final_data$Q1)\n",
    "gen_org_type"
   ]
  },
  {
   "cell_type": "markdown",
   "id": "3a4e124b-2fe6-42b1-a085-e72d0343f385",
   "metadata": {},
   "source": [
    "## Type of organization percentages"
   ]
  },
  {
   "cell_type": "code",
   "execution_count": 15,
   "id": "d597844a-b8ae-41b4-ac3e-4e00e37bfddd",
   "metadata": {},
   "outputs": [
    {
     "data": {
      "text/plain": [
       "\n",
       "             Academic hospital/clinic setting \n",
       "                                    7.1813285 \n",
       "                        Advocacy organization \n",
       "                                    0.4488330 \n",
       "              AIDS Service Organization (ASO) \n",
       "                                   11.9389587 \n",
       "           Community Based Organization (CBO) \n",
       "                                   11.5798923 \n",
       "     Federally Qualified Health Center (FQHC) \n",
       "                                   12.0287253 \n",
       "    Government entity (Local, State, Federal) \n",
       "                                    9.4254937 \n",
       "               Health department (non-clinic) \n",
       "                                    3.6804309 \n",
       "Health department clinic/public health clinic \n",
       "                                   13.1059246 \n",
       "         LBGTQ Health Center/Community Center \n",
       "                                    4.9371634 \n",
       "                      Non-profit organization \n",
       "                                   14.2728905 \n",
       "                                        Other \n",
       "                                    2.4236984 \n",
       "                                     Pharmacy \n",
       "                                    0.6283662 \n",
       "              Private hospital/clinic setting \n",
       "                                    3.2315978 \n",
       "                             Private practice \n",
       "                                    2.1543986 \n",
       "             Substance use treatment facility \n",
       "                                    0.9874327 \n",
       "                           University/college \n",
       "                                    1.9748654 "
      ]
     },
     "metadata": {},
     "output_type": "display_data"
    }
   ],
   "source": [
    "gen_org_perc <- prop.table(gen_org_type)*100\n",
    "gen_org_perc"
   ]
  },
  {
   "cell_type": "markdown",
   "id": "f5fa7375-d578-483a-a294-dd6978d0a403",
   "metadata": {},
   "source": [
    "## State counts"
   ]
  },
  {
   "cell_type": "code",
   "execution_count": 16,
   "id": "4b4b8e10-c6ba-4f41-849a-beaf9889baea",
   "metadata": {},
   "outputs": [
    {
     "data": {
      "text/plain": [
       "\n",
       "             Alabama               Alaska              Arizona \n",
       "                   8                    1                   15 \n",
       "            Arkansas           California             Colorado \n",
       "                   8                  105                   16 \n",
       "         Connecticut             Delaware District of Columbia \n",
       "                  20                   12                   39 \n",
       "             Florida              Georgia               Hawaii \n",
       "                  64                   26                   11 \n",
       "               Idaho             Illinois              Indiana \n",
       "                   2                   38                   46 \n",
       "                Iowa               Kansas             Kentucky \n",
       "                  13                    4                   30 \n",
       "           Louisiana                Maine             Maryland \n",
       "                  24                    1                   67 \n",
       "       Massachusetts             Michigan            Minnesota \n",
       "                   7                   43                   16 \n",
       "         Mississippi             Missouri              Montana \n",
       "                   9                   20                    2 \n",
       "            Nebraska               Nevada        New Hampshire \n",
       "                   7                    6                    3 \n",
       "          New Jersey           New Mexico             New York \n",
       "                  55                    4                   76 \n",
       "      North Carolina                 Ohio             Oklahoma \n",
       "                  31                   14                    1 \n",
       "              Oregon         Pennsylvania          Puerto Rico \n",
       "                   9                   69                   10 \n",
       "        Rhode Island       South Carolina            Tennessee \n",
       "                   4                   14                   18 \n",
       "               Texas                 Utah              Vermont \n",
       "                  46                    3                    3 \n",
       "      Virgin Islands             Virginia           Washington \n",
       "                   4                   35                   25 \n",
       "       West Virginia            Wisconsin              Wyoming \n",
       "                   8                   12                    6 "
      ]
     },
     "metadata": {},
     "output_type": "display_data"
    }
   ],
   "source": [
    "## States\n",
    "gen_state_counts <- table(final_data$Q3)\n",
    "gen_state_counts"
   ]
  },
  {
   "cell_type": "markdown",
   "id": "7886ab50-899a-4e57-8e00-f41fe5ae294f",
   "metadata": {},
   "source": [
    "## State percentages"
   ]
  },
  {
   "cell_type": "code",
   "execution_count": 17,
   "id": "fde5e0db-88b2-44a4-a64a-5839c168c405",
   "metadata": {},
   "outputs": [
    {
     "data": {
      "text/plain": [
       "\n",
       "             Alabama               Alaska              Arizona \n",
       "          0.72072072           0.09009009           1.35135135 \n",
       "            Arkansas           California             Colorado \n",
       "          0.72072072           9.45945946           1.44144144 \n",
       "         Connecticut             Delaware District of Columbia \n",
       "          1.80180180           1.08108108           3.51351351 \n",
       "             Florida              Georgia               Hawaii \n",
       "          5.76576577           2.34234234           0.99099099 \n",
       "               Idaho             Illinois              Indiana \n",
       "          0.18018018           3.42342342           4.14414414 \n",
       "                Iowa               Kansas             Kentucky \n",
       "          1.17117117           0.36036036           2.70270270 \n",
       "           Louisiana                Maine             Maryland \n",
       "          2.16216216           0.09009009           6.03603604 \n",
       "       Massachusetts             Michigan            Minnesota \n",
       "          0.63063063           3.87387387           1.44144144 \n",
       "         Mississippi             Missouri              Montana \n",
       "          0.81081081           1.80180180           0.18018018 \n",
       "            Nebraska               Nevada        New Hampshire \n",
       "          0.63063063           0.54054054           0.27027027 \n",
       "          New Jersey           New Mexico             New York \n",
       "          4.95495495           0.36036036           6.84684685 \n",
       "      North Carolina                 Ohio             Oklahoma \n",
       "          2.79279279           1.26126126           0.09009009 \n",
       "              Oregon         Pennsylvania          Puerto Rico \n",
       "          0.81081081           6.21621622           0.90090090 \n",
       "        Rhode Island       South Carolina            Tennessee \n",
       "          0.36036036           1.26126126           1.62162162 \n",
       "               Texas                 Utah              Vermont \n",
       "          4.14414414           0.27027027           0.27027027 \n",
       "      Virgin Islands             Virginia           Washington \n",
       "          0.36036036           3.15315315           2.25225225 \n",
       "       West Virginia            Wisconsin              Wyoming \n",
       "          0.72072072           1.08108108           0.54054054 "
      ]
     },
     "metadata": {},
     "output_type": "display_data"
    }
   ],
   "source": [
    "gen_state_perc <- prop.table(gen_state_counts)*100\n",
    "gen_state_perc"
   ]
  },
  {
   "cell_type": "markdown",
   "id": "ef000fc0-bb37-416a-99b3-b77ef4c6f44f",
   "metadata": {},
   "source": [
    "## Geographic area counts"
   ]
  },
  {
   "cell_type": "code",
   "execution_count": 18,
   "id": "a805f924-8cf4-4167-8eb0-09bbd59f61a2",
   "metadata": {},
   "outputs": [
    {
     "data": {
      "text/plain": [
       "\n",
       "   Rural Suburban   Tribal    Urban \n",
       "     228      195        3      686 "
      ]
     },
     "metadata": {},
     "output_type": "display_data"
    }
   ],
   "source": [
    "geog_counts <- table(final_data$Q5)\n",
    "geog_counts"
   ]
  },
  {
   "cell_type": "markdown",
   "id": "bea5368a-5606-4a88-994e-d0520b5f4b88",
   "metadata": {},
   "source": [
    "## Geographic area percentages"
   ]
  },
  {
   "cell_type": "code",
   "execution_count": 19,
   "id": "a0e48c67-72ff-4d47-8a75-90f2bab547f2",
   "metadata": {},
   "outputs": [
    {
     "data": {
      "text/plain": [
       "\n",
       "     Rural   Suburban     Tribal      Urban \n",
       "20.5035971 17.5359712  0.2697842 61.6906475 "
      ]
     },
     "metadata": {},
     "output_type": "display_data"
    }
   ],
   "source": [
    "geog_perc <- prop.table(geog_counts)*100\n",
    "geog_perc"
   ]
  },
  {
   "cell_type": "markdown",
   "id": "a34fdba3-9f92-4bd2-9a22-f7867d042eea",
   "metadata": {},
   "source": [
    "## Role type counts - Clinical vs nonclinical"
   ]
  },
  {
   "cell_type": "code",
   "execution_count": 20,
   "id": "3530147e-d4f1-4260-905a-413446a3a7d0",
   "metadata": {},
   "outputs": [
    {
     "data": {
      "text/plain": [
       "\n",
       "    Clinical Non-clinical \n",
       "         380          728 "
      ]
     },
     "metadata": {},
     "output_type": "display_data"
    }
   ],
   "source": [
    "role_type_counts <- table(final_data$Q65)\n",
    "role_type_counts"
   ]
  },
  {
   "cell_type": "code",
   "execution_count": 21,
   "id": "d32b6242-d8cf-4448-a891-ed7ae06c9e5a",
   "metadata": {},
   "outputs": [
    {
     "data": {
      "text/plain": [
       "\n",
       "    Clinical Non-clinical \n",
       "    34.29603     65.70397 "
      ]
     },
     "metadata": {},
     "output_type": "display_data"
    }
   ],
   "source": [
    "role_type_perc <- prop.table(role_type_counts)*100\n",
    "role_type_perc"
   ]
  },
  {
   "cell_type": "markdown",
   "id": "8d1006f7-6be0-48a7-9a4b-7364ba7dd02a",
   "metadata": {},
   "source": [
    "## Clinical role counts"
   ]
  },
  {
   "cell_type": "code",
   "execution_count": 22,
   "id": "d9254a43-ecc3-4f32-929a-f4ce3624b05b",
   "metadata": {},
   "outputs": [
    {
     "data": {
      "text/plain": [
       "\n",
       "                             Dentist               Dietician/Nutritionist \n",
       "                                   2                                    1 \n",
       "     Disease Intervention Specialist      Licensed Clinical Social Worker \n",
       "                                   1                                   50 \n",
       "            Licensed Practical Nurse                    Medical Assistant \n",
       "                                  10                                   10 \n",
       "          Mental Health Case Manager              Mental Health Counselor \n",
       "                                   5                                    1 \n",
       "          Mental Health Professional                        Nurse Manager \n",
       "                                  16                                   19 \n",
       "                       Nurse Midwife                   Nurse Practitioner \n",
       "                                   1                                   69 \n",
       "Other Provider/Clinical professional                           Pharmacist \n",
       "                                   8                                   16 \n",
       "                 Pharmacy Technician                         Phlebotomist \n",
       "                                   3                                    2 \n",
       "                  Physical Therapist                            Physician \n",
       "                                   1                                   57 \n",
       "                 Physician Assistant                         Psychologist \n",
       "                                  11                                   17 \n",
       "                    Registered Nurse \n",
       "                                  79 "
      ]
     },
     "metadata": {},
     "output_type": "display_data"
    }
   ],
   "source": [
    "clinic_role_counts <- table(final_data$Q66)\n",
    "clinic_role_counts"
   ]
  },
  {
   "cell_type": "markdown",
   "id": "529b11f0-6d34-4cdc-84c2-b2cf73746326",
   "metadata": {},
   "source": [
    "## Clinical role percentages"
   ]
  },
  {
   "cell_type": "code",
   "execution_count": 23,
   "id": "23cddd8f-5429-4655-9310-e04a42e761be",
   "metadata": {},
   "outputs": [
    {
     "data": {
      "text/plain": [
       "\n",
       "                             Dentist               Dietician/Nutritionist \n",
       "                           0.5277045                            0.2638522 \n",
       "     Disease Intervention Specialist      Licensed Clinical Social Worker \n",
       "                           0.2638522                           13.1926121 \n",
       "            Licensed Practical Nurse                    Medical Assistant \n",
       "                           2.6385224                            2.6385224 \n",
       "          Mental Health Case Manager              Mental Health Counselor \n",
       "                           1.3192612                            0.2638522 \n",
       "          Mental Health Professional                        Nurse Manager \n",
       "                           4.2216359                            5.0131926 \n",
       "                       Nurse Midwife                   Nurse Practitioner \n",
       "                           0.2638522                           18.2058047 \n",
       "Other Provider/Clinical professional                           Pharmacist \n",
       "                           2.1108179                            4.2216359 \n",
       "                 Pharmacy Technician                         Phlebotomist \n",
       "                           0.7915567                            0.5277045 \n",
       "                  Physical Therapist                            Physician \n",
       "                           0.2638522                           15.0395778 \n",
       "                 Physician Assistant                         Psychologist \n",
       "                           2.9023747                            4.4854881 \n",
       "                    Registered Nurse \n",
       "                          20.8443272 "
      ]
     },
     "metadata": {},
     "output_type": "display_data"
    }
   ],
   "source": [
    "clinic_role_perc <- prop.table(clinic_role_counts) * 100 \n",
    "clinic_role_perc"
   ]
  },
  {
   "cell_type": "markdown",
   "id": "50f54b99-6d03-4c40-bbb7-598d25e3884c",
   "metadata": {},
   "source": [
    "## Non-clinical role counts "
   ]
  },
  {
   "cell_type": "code",
   "execution_count": 24,
   "id": "acd43048-c3c4-44b2-a99a-ae94c7e78c63",
   "metadata": {},
   "outputs": [
    {
     "data": {
      "text/plain": [
       "\n",
       "                         Administrator                               Advocate \n",
       "                                   169                                     18 \n",
       "                             Caregiver      Case Manager/Medical case manager \n",
       "                                     1                                    129 \n",
       "       Clergy/Faith-Based Professional                Community Health Worker \n",
       "                                     1                                     64 \n",
       "       Disease Intervention Specialist                 Finance/Fiscal Manager \n",
       "                                    37                                      4 \n",
       "   Harm Reductionist/Risk Reductionist              Health and Wellness Coach \n",
       "                                    32                                      1 \n",
       "           Health Education Specialist                       Health Navigator \n",
       "                                    56                                     36 \n",
       "               HIV Linkage Coordinator              HIV Retention Coordinator \n",
       "                                     4                                      3 \n",
       "                            HIV Tester                    Housing Coordinator \n",
       "                                     4                                      2 \n",
       "                       Medical Billing             Mental Health Case Manager \n",
       "                                     1                                      3 \n",
       "            Mental Health Professional             Non-clinical Social Worker \n",
       "                                     7                                     41 \n",
       "       Other Non-clinical Professional                        Outreach Worker \n",
       "                                    29                                     40 \n",
       "                     Patient Navigator                         Peer Navigator \n",
       "                                     1                                      4 \n",
       "                        PrEP Navigator             PrEP Navigator/Coordinator \n",
       "                                     1                                      6 \n",
       "                   Program Coordinator                       Program Director \n",
       "                                     6                                      3 \n",
       "                       Program Manager                             Researcher \n",
       "                                     8                                      9 \n",
       "                               Student Substance Abuse Counselor/Professional \n",
       "                                     1                                      5 "
      ]
     },
     "metadata": {},
     "output_type": "display_data"
    }
   ],
   "source": [
    "nonclinic_role_counts <- table(final_data$Q71)\n",
    "nonclinic_role_counts"
   ]
  },
  {
   "cell_type": "markdown",
   "id": "f980092d-07b0-49d0-bab4-87a4a5a913f1",
   "metadata": {},
   "source": [
    "## Non-clinical role percentages "
   ]
  },
  {
   "cell_type": "code",
   "execution_count": 25,
   "id": "2d98ac6b-986e-426c-8fc1-ece86b5a591a",
   "metadata": {},
   "outputs": [
    {
     "data": {
      "text/plain": [
       "\n",
       "                         Administrator                               Advocate \n",
       "                            23.2782369                              2.4793388 \n",
       "                             Caregiver      Case Manager/Medical case manager \n",
       "                             0.1377410                             17.7685950 \n",
       "       Clergy/Faith-Based Professional                Community Health Worker \n",
       "                             0.1377410                              8.8154270 \n",
       "       Disease Intervention Specialist                 Finance/Fiscal Manager \n",
       "                             5.0964187                              0.5509642 \n",
       "   Harm Reductionist/Risk Reductionist              Health and Wellness Coach \n",
       "                             4.4077135                              0.1377410 \n",
       "           Health Education Specialist                       Health Navigator \n",
       "                             7.7134986                              4.9586777 \n",
       "               HIV Linkage Coordinator              HIV Retention Coordinator \n",
       "                             0.5509642                              0.4132231 \n",
       "                            HIV Tester                    Housing Coordinator \n",
       "                             0.5509642                              0.2754821 \n",
       "                       Medical Billing             Mental Health Case Manager \n",
       "                             0.1377410                              0.4132231 \n",
       "            Mental Health Professional             Non-clinical Social Worker \n",
       "                             0.9641873                              5.6473829 \n",
       "       Other Non-clinical Professional                        Outreach Worker \n",
       "                             3.9944904                              5.5096419 \n",
       "                     Patient Navigator                         Peer Navigator \n",
       "                             0.1377410                              0.5509642 \n",
       "                        PrEP Navigator             PrEP Navigator/Coordinator \n",
       "                             0.1377410                              0.8264463 \n",
       "                   Program Coordinator                       Program Director \n",
       "                             0.8264463                              0.4132231 \n",
       "                       Program Manager                             Researcher \n",
       "                             1.1019284                              1.2396694 \n",
       "                               Student Substance Abuse Counselor/Professional \n",
       "                             0.1377410                              0.6887052 "
      ]
     },
     "metadata": {},
     "output_type": "display_data"
    }
   ],
   "source": [
    "nonclinic_role_perc <- prop.table(nonclinic_role_counts)*100\n",
    "nonclinic_role_perc"
   ]
  },
  {
   "cell_type": "markdown",
   "id": "290ca2f5-c0ce-41a7-aec1-dd295fb0699d",
   "metadata": {},
   "source": [
    "## Years in role counts"
   ]
  },
  {
   "cell_type": "code",
   "execution_count": 26,
   "id": "7dac51dc-9c61-4acb-b45d-a08f57b5ad5c",
   "metadata": {},
   "outputs": [
    {
     "data": {
      "text/plain": [
       "\n",
       "   <2 years 11-20 years   2-4 years   21+ years  5-10 years \n",
       "        292         166         237         178         235 "
      ]
     },
     "metadata": {},
     "output_type": "display_data"
    }
   ],
   "source": [
    "years_counts <- table(final_data$Q94)\n",
    "years_counts"
   ]
  },
  {
   "cell_type": "markdown",
   "id": "e7360c35-7cfe-4568-84ac-40bf83e9a234",
   "metadata": {},
   "source": [
    "## Years in role counts"
   ]
  },
  {
   "cell_type": "code",
   "execution_count": 27,
   "id": "f1b2cffc-7847-452d-9dc5-c33a349035b0",
   "metadata": {},
   "outputs": [
    {
     "data": {
      "text/plain": [
       "\n",
       "   <2 years 11-20 years   2-4 years   21+ years  5-10 years \n",
       "   26.35379    14.98195    21.38989    16.06498    21.20939 "
      ]
     },
     "metadata": {},
     "output_type": "display_data"
    }
   ],
   "source": [
    "years_perc <- prop.table(years_counts)*100\n",
    "years_perc"
   ]
  },
  {
   "cell_type": "markdown",
   "id": "85ef7a20-acd3-403c-b36b-cd9919ba0b78",
   "metadata": {},
   "source": [
    "## Prescriber counts"
   ]
  },
  {
   "cell_type": "code",
   "execution_count": 28,
   "id": "4ea0baac-063d-4605-84fe-504c51d9149f",
   "metadata": {},
   "outputs": [
    {
     "data": {
      "text/plain": [
       "\n",
       " No Yes \n",
       "229 154 "
      ]
     },
     "metadata": {},
     "output_type": "display_data"
    }
   ],
   "source": [
    "prescriber_counts <- table(final_data$Q70)\n",
    "prescriber_counts"
   ]
  },
  {
   "cell_type": "markdown",
   "id": "13f14e5a-a8c1-456c-a66e-accb1c5ef005",
   "metadata": {},
   "source": [
    "## Prescriber percentage"
   ]
  },
  {
   "cell_type": "code",
   "execution_count": 29,
   "id": "8ca03128-cde4-4e78-a4da-172c87923367",
   "metadata": {},
   "outputs": [
    {
     "data": {
      "text/plain": [
       "\n",
       "      No      Yes \n",
       "59.79112 40.20888 "
      ]
     },
     "metadata": {},
     "output_type": "display_data"
    }
   ],
   "source": [
    "prescriber_perc <- prop.table(prescriber_counts)*100\n",
    "prescriber_perc"
   ]
  },
  {
   "cell_type": "markdown",
   "id": "d93dc5c8-9f95-4d40-a137-e4a91b82912a",
   "metadata": {},
   "source": [
    "## Onsite pharmacy counts"
   ]
  },
  {
   "cell_type": "code",
   "execution_count": 30,
   "id": "fc2d1288-4be9-49af-bbe6-3f6a42f38829",
   "metadata": {},
   "outputs": [
    {
     "data": {
      "text/plain": [
       "\n",
       " No Yes \n",
       "681 430 "
      ]
     },
     "metadata": {},
     "output_type": "display_data"
    }
   ],
   "source": [
    "onsite_pharm_counts <- table(final_data$Q6)\n",
    "onsite_pharm_counts"
   ]
  },
  {
   "cell_type": "markdown",
   "id": "da62dcec-97c2-4f7c-ac60-603fd6eccae2",
   "metadata": {},
   "source": [
    "## Onsite pharmacy perceentages"
   ]
  },
  {
   "cell_type": "code",
   "execution_count": 31,
   "id": "af6d15d9-fcb1-486c-9b5b-98f696650f8e",
   "metadata": {},
   "outputs": [
    {
     "data": {
      "text/plain": [
       "\n",
       "      No      Yes \n",
       "61.29613 38.70387 "
      ]
     },
     "metadata": {},
     "output_type": "display_data"
    }
   ],
   "source": [
    "onsite_pharm_perc <- prop.table(onsite_pharm_counts)*100\n",
    "onsite_pharm_perc"
   ]
  },
  {
   "cell_type": "markdown",
   "id": "3acc570d-4418-4ebc-86ef-b9fb439dc36b",
   "metadata": {},
   "source": [
    "# HIV training statistics for overall data"
   ]
  },
  {
   "cell_type": "code",
   "execution_count": 32,
   "id": "cc75fcd8-7686-4dae-94a7-732e7f5d7fa8",
   "metadata": {},
   "outputs": [],
   "source": [
    "# Create a vector of column names representing the HIV topics columns\n",
    "hiv_topics <- c(\"Q198\", \"Q199\", \"Q200\", \"Q201\", \"Q202\",\"Q203\",\"Q204\",\"Q205\",\"Q206\",\"Q207\",\"Q208\",\"Q209\",\"Q210a\",\"Q210b\")"
   ]
  },
  {
   "cell_type": "markdown",
   "id": "50fef1cb-09eb-4630-b9fc-51eeee7748b9",
   "metadata": {},
   "source": [
    "## HIV topic with greatest number of 1st rankings"
   ]
  },
  {
   "cell_type": "code",
   "execution_count": 33,
   "id": "d21acea8-3e0c-4d50-8c51-dee02887c999",
   "metadata": {},
   "outputs": [
    {
     "data": {
      "text/html": [
       "<style>\n",
       ".dl-inline {width: auto; margin:0; padding: 0}\n",
       ".dl-inline>dt, .dl-inline>dd {float: none; width: auto; display: inline-block}\n",
       ".dl-inline>dt::after {content: \":\\0020\"; padding-right: .5ex}\n",
       ".dl-inline>dt:not(:first-of-type) {padding-left: .5ex}\n",
       "</style><dl class=dl-inline><dt>Q198</dt><dd>181</dd><dt>Q199</dt><dd>83</dd><dt>Q200</dt><dd>76</dd><dt>Q201</dt><dd>18</dd><dt>Q202</dt><dd>21</dd><dt>Q203</dt><dd>37</dd><dt>Q204</dt><dd>34</dd><dt>Q205</dt><dd>49</dd><dt>Q206</dt><dd>49</dd><dt>Q207</dt><dd>6</dd><dt>Q208</dt><dd>12</dd><dt>Q209</dt><dd>12</dd><dt>Q210a</dt><dd>3</dd><dt>Q210b</dt><dd>1</dd></dl>\n"
      ],
      "text/latex": [
       "\\begin{description*}\n",
       "\\item[Q198] 181\n",
       "\\item[Q199] 83\n",
       "\\item[Q200] 76\n",
       "\\item[Q201] 18\n",
       "\\item[Q202] 21\n",
       "\\item[Q203] 37\n",
       "\\item[Q204] 34\n",
       "\\item[Q205] 49\n",
       "\\item[Q206] 49\n",
       "\\item[Q207] 6\n",
       "\\item[Q208] 12\n",
       "\\item[Q209] 12\n",
       "\\item[Q210a] 3\n",
       "\\item[Q210b] 1\n",
       "\\end{description*}\n"
      ],
      "text/markdown": [
       "Q198\n",
       ":   181Q199\n",
       ":   83Q200\n",
       ":   76Q201\n",
       ":   18Q202\n",
       ":   21Q203\n",
       ":   37Q204\n",
       ":   34Q205\n",
       ":   49Q206\n",
       ":   49Q207\n",
       ":   6Q208\n",
       ":   12Q209\n",
       ":   12Q210a\n",
       ":   3Q210b\n",
       ":   1\n",
       "\n"
      ],
      "text/plain": [
       " Q198  Q199  Q200  Q201  Q202  Q203  Q204  Q205  Q206  Q207  Q208  Q209 Q210a \n",
       "  181    83    76    18    21    37    34    49    49     6    12    12     3 \n",
       "Q210b \n",
       "    1 "
      ]
     },
     "metadata": {},
     "output_type": "display_data"
    }
   ],
   "source": [
    "# Calculate the counts of 1st rankings for each HIV topic\n",
    "hiv1_counts <- sapply(hiv_topics, function(topic) sum(final_data[[topic]] == 1, na.rm = TRUE))\n",
    "hiv1_counts"
   ]
  },
  {
   "cell_type": "code",
   "execution_count": 34,
   "id": "0fd2244b-f2be-4d56-bec2-5a76e67dd28f",
   "metadata": {},
   "outputs": [
    {
     "data": {
      "text/html": [
       "'Q198'"
      ],
      "text/latex": [
       "'Q198'"
      ],
      "text/markdown": [
       "'Q198'"
      ],
      "text/plain": [
       "[1] \"Q198\""
      ]
     },
     "metadata": {},
     "output_type": "display_data"
    }
   ],
   "source": [
    "# Find the HIV topic with the highest count of 1st rankings\n",
    "hiv1 <- hiv_topics[which.max(hiv1_counts)]\n",
    "hiv1"
   ]
  },
  {
   "cell_type": "code",
   "execution_count": 35,
   "id": "b7aab29e-38e8-4ec2-ae2a-4b2becbff26f",
   "metadata": {},
   "outputs": [
    {
     "data": {
      "text/html": [
       "<strong>Q198:</strong> 30.8347529812606"
      ],
      "text/latex": [
       "\\textbf{Q198:} 30.8347529812606"
      ],
      "text/markdown": [
       "**Q198:** 30.8347529812606"
      ],
      "text/plain": [
       "    Q198 \n",
       "30.83475 "
      ]
     },
     "metadata": {},
     "output_type": "display_data"
    }
   ],
   "source": [
    "# Calculate the percentage of 1st rankings\n",
    "hiv1_perc <- (hiv1_counts[which.max(hiv1_counts)] / sum(rowSums(!is.na(final_data[, hiv_topics])) > 0)) * 100\n",
    "hiv1_perc"
   ]
  },
  {
   "cell_type": "markdown",
   "id": "209b2ff7-27ca-4dd8-9209-3bb74e99e35a",
   "metadata": {},
   "source": [
    "## HIV topic with greatest number of 2nd rankings"
   ]
  },
  {
   "cell_type": "code",
   "execution_count": 36,
   "id": "79980a9e-97c7-4912-b076-6fe03c760f7d",
   "metadata": {},
   "outputs": [
    {
     "data": {
      "text/html": [
       "<style>\n",
       ".dl-inline {width: auto; margin:0; padding: 0}\n",
       ".dl-inline>dt, .dl-inline>dd {float: none; width: auto; display: inline-block}\n",
       ".dl-inline>dt::after {content: \":\\0020\"; padding-right: .5ex}\n",
       ".dl-inline>dt:not(:first-of-type) {padding-left: .5ex}\n",
       "</style><dl class=dl-inline><dt>Q198</dt><dd>61</dd><dt>Q199</dt><dd>89</dd><dt>Q200</dt><dd>76</dd><dt>Q201</dt><dd>27</dd><dt>Q202</dt><dd>44</dd><dt>Q203</dt><dd>52</dd><dt>Q204</dt><dd>48</dd><dt>Q205</dt><dd>49</dd><dt>Q206</dt><dd>56</dd><dt>Q207</dt><dd>15</dd><dt>Q208</dt><dd>19</dd><dt>Q209</dt><dd>2</dd><dt>Q210a</dt><dd>0</dd><dt>Q210b</dt><dd>1</dd></dl>\n"
      ],
      "text/latex": [
       "\\begin{description*}\n",
       "\\item[Q198] 61\n",
       "\\item[Q199] 89\n",
       "\\item[Q200] 76\n",
       "\\item[Q201] 27\n",
       "\\item[Q202] 44\n",
       "\\item[Q203] 52\n",
       "\\item[Q204] 48\n",
       "\\item[Q205] 49\n",
       "\\item[Q206] 56\n",
       "\\item[Q207] 15\n",
       "\\item[Q208] 19\n",
       "\\item[Q209] 2\n",
       "\\item[Q210a] 0\n",
       "\\item[Q210b] 1\n",
       "\\end{description*}\n"
      ],
      "text/markdown": [
       "Q198\n",
       ":   61Q199\n",
       ":   89Q200\n",
       ":   76Q201\n",
       ":   27Q202\n",
       ":   44Q203\n",
       ":   52Q204\n",
       ":   48Q205\n",
       ":   49Q206\n",
       ":   56Q207\n",
       ":   15Q208\n",
       ":   19Q209\n",
       ":   2Q210a\n",
       ":   0Q210b\n",
       ":   1\n",
       "\n"
      ],
      "text/plain": [
       " Q198  Q199  Q200  Q201  Q202  Q203  Q204  Q205  Q206  Q207  Q208  Q209 Q210a \n",
       "   61    89    76    27    44    52    48    49    56    15    19     2     0 \n",
       "Q210b \n",
       "    1 "
      ]
     },
     "metadata": {},
     "output_type": "display_data"
    }
   ],
   "source": [
    "# Calculate the counts of 2nd rankings for each HIV topic\n",
    "hiv2_counts <- sapply(hiv_topics, function(topic) sum(final_data[[topic]] == 2, na.rm = TRUE))\n",
    "hiv2_counts"
   ]
  },
  {
   "cell_type": "code",
   "execution_count": 37,
   "id": "e1255fe6-a767-4bcf-a56f-469d18fc0e01",
   "metadata": {},
   "outputs": [
    {
     "data": {
      "text/html": [
       "'Q199'"
      ],
      "text/latex": [
       "'Q199'"
      ],
      "text/markdown": [
       "'Q199'"
      ],
      "text/plain": [
       "[1] \"Q199\""
      ]
     },
     "metadata": {},
     "output_type": "display_data"
    }
   ],
   "source": [
    "# Find the HIV topic with the highest count of 2nd rankings\n",
    "hiv2 <- hiv_topics[which.max(hiv2_counts)]\n",
    "hiv2"
   ]
  },
  {
   "cell_type": "code",
   "execution_count": 38,
   "id": "c560cb71-46f4-4c19-ab46-257c37e09bbd",
   "metadata": {},
   "outputs": [
    {
     "data": {
      "text/html": [
       "<strong>Q199:</strong> 15.1618398637138"
      ],
      "text/latex": [
       "\\textbf{Q199:} 15.1618398637138"
      ],
      "text/markdown": [
       "**Q199:** 15.1618398637138"
      ],
      "text/plain": [
       "    Q199 \n",
       "15.16184 "
      ]
     },
     "metadata": {},
     "output_type": "display_data"
    }
   ],
   "source": [
    "# Calculate the percentage of 2nd rankings for the top HIV topic\n",
    "hiv2_perc <- (hiv2_counts[which.max(hiv2_counts)] / sum(rowSums(!is.na(final_data[, hiv_topics])) > 0)) * 100\n",
    "hiv2_perc"
   ]
  },
  {
   "cell_type": "markdown",
   "id": "57abedf6-e84d-4216-92c4-48e02243d369",
   "metadata": {},
   "source": [
    "## HIV topic with greatest number of 3rd rankings"
   ]
  },
  {
   "cell_type": "code",
   "execution_count": 39,
   "id": "54073c78-c250-4b91-89b1-eda741bde312",
   "metadata": {},
   "outputs": [
    {
     "data": {
      "text/html": [
       "<style>\n",
       ".dl-inline {width: auto; margin:0; padding: 0}\n",
       ".dl-inline>dt, .dl-inline>dd {float: none; width: auto; display: inline-block}\n",
       ".dl-inline>dt::after {content: \":\\0020\"; padding-right: .5ex}\n",
       ".dl-inline>dt:not(:first-of-type) {padding-left: .5ex}\n",
       "</style><dl class=dl-inline><dt>Q198</dt><dd>67</dd><dt>Q199</dt><dd>47</dd><dt>Q200</dt><dd>56</dd><dt>Q201</dt><dd>17</dd><dt>Q202</dt><dd>56</dd><dt>Q203</dt><dd>46</dd><dt>Q204</dt><dd>61</dd><dt>Q205</dt><dd>58</dd><dt>Q206</dt><dd>53</dd><dt>Q207</dt><dd>12</dd><dt>Q208</dt><dd>37</dd><dt>Q209</dt><dd>16</dd><dt>Q210a</dt><dd>2</dd><dt>Q210b</dt><dd>3</dd></dl>\n"
      ],
      "text/latex": [
       "\\begin{description*}\n",
       "\\item[Q198] 67\n",
       "\\item[Q199] 47\n",
       "\\item[Q200] 56\n",
       "\\item[Q201] 17\n",
       "\\item[Q202] 56\n",
       "\\item[Q203] 46\n",
       "\\item[Q204] 61\n",
       "\\item[Q205] 58\n",
       "\\item[Q206] 53\n",
       "\\item[Q207] 12\n",
       "\\item[Q208] 37\n",
       "\\item[Q209] 16\n",
       "\\item[Q210a] 2\n",
       "\\item[Q210b] 3\n",
       "\\end{description*}\n"
      ],
      "text/markdown": [
       "Q198\n",
       ":   67Q199\n",
       ":   47Q200\n",
       ":   56Q201\n",
       ":   17Q202\n",
       ":   56Q203\n",
       ":   46Q204\n",
       ":   61Q205\n",
       ":   58Q206\n",
       ":   53Q207\n",
       ":   12Q208\n",
       ":   37Q209\n",
       ":   16Q210a\n",
       ":   2Q210b\n",
       ":   3\n",
       "\n"
      ],
      "text/plain": [
       " Q198  Q199  Q200  Q201  Q202  Q203  Q204  Q205  Q206  Q207  Q208  Q209 Q210a \n",
       "   67    47    56    17    56    46    61    58    53    12    37    16     2 \n",
       "Q210b \n",
       "    3 "
      ]
     },
     "metadata": {},
     "output_type": "display_data"
    }
   ],
   "source": [
    "# Calculate the counts of 3rd rankings for each HIV topic\n",
    "hiv3_counts <- sapply(hiv_topics, function(topic) sum(final_data[[topic]] == 3, na.rm = TRUE))\n",
    "hiv3_counts"
   ]
  },
  {
   "cell_type": "code",
   "execution_count": 40,
   "id": "c835ad60-143a-42f6-9b80-986064948d56",
   "metadata": {},
   "outputs": [
    {
     "data": {
      "text/html": [
       "'Q198'"
      ],
      "text/latex": [
       "'Q198'"
      ],
      "text/markdown": [
       "'Q198'"
      ],
      "text/plain": [
       "[1] \"Q198\""
      ]
     },
     "metadata": {},
     "output_type": "display_data"
    }
   ],
   "source": [
    "# Find the HIV topic with the highest count of 3rd rankings\n",
    "hiv3 <- hiv_topics[which.max(hiv3_counts)]\n",
    "hiv3"
   ]
  },
  {
   "cell_type": "code",
   "execution_count": 41,
   "id": "ed2281b7-e8a4-4031-9b61-64cc74db1f52",
   "metadata": {},
   "outputs": [
    {
     "data": {
      "text/html": [
       "<strong>Q198:</strong> 11.4139693356048"
      ],
      "text/latex": [
       "\\textbf{Q198:} 11.4139693356048"
      ],
      "text/markdown": [
       "**Q198:** 11.4139693356048"
      ],
      "text/plain": [
       "    Q198 \n",
       "11.41397 "
      ]
     },
     "metadata": {},
     "output_type": "display_data"
    }
   ],
   "source": [
    "# Calculate the percentage of 3rd rankings\n",
    "hiv3_perc <- (hiv3_counts[which.max(hiv3_counts)] / sum(rowSums(!is.na(final_data[, hiv_topics])) > 0)) * 100\n",
    "hiv3_perc"
   ]
  },
  {
   "cell_type": "markdown",
   "id": "a07a84a6-557d-464a-8fdf-9aec242ac4bb",
   "metadata": {},
   "source": [
    "## Top 3 HIV training topics"
   ]
  },
  {
   "cell_type": "code",
   "execution_count": 42,
   "id": "303231f4-13a0-45bd-a994-4159d2a53430",
   "metadata": {},
   "outputs": [
    {
     "data": {
      "text/html": [
       "<style>\n",
       ".dl-inline {width: auto; margin:0; padding: 0}\n",
       ".dl-inline>dt, .dl-inline>dd {float: none; width: auto; display: inline-block}\n",
       ".dl-inline>dt::after {content: \":\\0020\"; padding-right: .5ex}\n",
       ".dl-inline>dt:not(:first-of-type) {padding-left: .5ex}\n",
       "</style><dl class=dl-inline><dt>Q198</dt><dd>309</dd><dt>Q199</dt><dd>219</dd><dt>Q200</dt><dd>208</dd><dt>Q201</dt><dd>62</dd><dt>Q202</dt><dd>121</dd><dt>Q203</dt><dd>135</dd><dt>Q204</dt><dd>143</dd><dt>Q205</dt><dd>156</dd><dt>Q206</dt><dd>158</dd><dt>Q207</dt><dd>33</dd><dt>Q208</dt><dd>68</dd><dt>Q209</dt><dd>30</dd><dt>Q210a</dt><dd>5</dd><dt>Q210b</dt><dd>5</dd></dl>\n"
      ],
      "text/latex": [
       "\\begin{description*}\n",
       "\\item[Q198] 309\n",
       "\\item[Q199] 219\n",
       "\\item[Q200] 208\n",
       "\\item[Q201] 62\n",
       "\\item[Q202] 121\n",
       "\\item[Q203] 135\n",
       "\\item[Q204] 143\n",
       "\\item[Q205] 156\n",
       "\\item[Q206] 158\n",
       "\\item[Q207] 33\n",
       "\\item[Q208] 68\n",
       "\\item[Q209] 30\n",
       "\\item[Q210a] 5\n",
       "\\item[Q210b] 5\n",
       "\\end{description*}\n"
      ],
      "text/markdown": [
       "Q198\n",
       ":   309Q199\n",
       ":   219Q200\n",
       ":   208Q201\n",
       ":   62Q202\n",
       ":   121Q203\n",
       ":   135Q204\n",
       ":   143Q205\n",
       ":   156Q206\n",
       ":   158Q207\n",
       ":   33Q208\n",
       ":   68Q209\n",
       ":   30Q210a\n",
       ":   5Q210b\n",
       ":   5\n",
       "\n"
      ],
      "text/plain": [
       " Q198  Q199  Q200  Q201  Q202  Q203  Q204  Q205  Q206  Q207  Q208  Q209 Q210a \n",
       "  309   219   208    62   121   135   143   156   158    33    68    30     5 \n",
       "Q210b \n",
       "    5 "
      ]
     },
     "metadata": {},
     "output_type": "display_data"
    },
    {
     "data": {
      "text/html": [
       "<style>\n",
       ".list-inline {list-style: none; margin:0; padding: 0}\n",
       ".list-inline>li {display: inline-block}\n",
       ".list-inline>li:not(:last-child)::after {content: \"\\00b7\"; padding: 0 .5ex}\n",
       "</style>\n",
       "<ol class=list-inline><li>'Q198'</li><li>'Q199'</li><li>'Q200'</li></ol>\n"
      ],
      "text/latex": [
       "\\begin{enumerate*}\n",
       "\\item 'Q198'\n",
       "\\item 'Q199'\n",
       "\\item 'Q200'\n",
       "\\end{enumerate*}\n"
      ],
      "text/markdown": [
       "1. 'Q198'\n",
       "2. 'Q199'\n",
       "3. 'Q200'\n",
       "\n",
       "\n"
      ],
      "text/plain": [
       "[1] \"Q198\" \"Q199\" \"Q200\""
      ]
     },
     "metadata": {},
     "output_type": "display_data"
    }
   ],
   "source": [
    "# Calculate the counts for each LGBTQ topic\n",
    "hiv_topic_counts <- sapply(hiv_topics, function(topic) sum(final_data[[topic]] %in% c(1, 2, 3), na.rm = TRUE))\n",
    "hiv_topic_counts\n",
    "# Sort the topics based on their counts in descending order\n",
    "hiv_sorted_topics <- sort(hiv_topic_counts, decreasing = TRUE)\n",
    "# Get the top 3 topics\n",
    "hiv_top_3_topics <- names(hiv_sorted_topics)[1:3]\n",
    "\n",
    "hiv_top_3_topics"
   ]
  },
  {
   "cell_type": "code",
   "execution_count": 43,
   "id": "01f79b35-977a-4c55-8135-984a3f620542",
   "metadata": {},
   "outputs": [
    {
     "data": {
      "text/html": [
       "<strong>Q198:</strong> 52.6405451448041"
      ],
      "text/latex": [
       "\\textbf{Q198:} 52.6405451448041"
      ],
      "text/markdown": [
       "**Q198:** 52.6405451448041"
      ],
      "text/plain": [
       "    Q198 \n",
       "52.64055 "
      ]
     },
     "metadata": {},
     "output_type": "display_data"
    },
    {
     "data": {
      "text/html": [
       "<strong>Q199:</strong> 37.3083475298126"
      ],
      "text/latex": [
       "\\textbf{Q199:} 37.3083475298126"
      ],
      "text/markdown": [
       "**Q199:** 37.3083475298126"
      ],
      "text/plain": [
       "    Q199 \n",
       "37.30835 "
      ]
     },
     "metadata": {},
     "output_type": "display_data"
    },
    {
     "data": {
      "text/html": [
       "<strong>Q200:</strong> 35.4344122657581"
      ],
      "text/latex": [
       "\\textbf{Q200:} 35.4344122657581"
      ],
      "text/markdown": [
       "**Q200:** 35.4344122657581"
      ],
      "text/plain": [
       "    Q200 \n",
       "35.43441 "
      ]
     },
     "metadata": {},
     "output_type": "display_data"
    }
   ],
   "source": [
    "# Calculate the total count of respondents who provided a ranking (1, 2, or 3) for any of the HIV topic questions\n",
    "hiv_total_respondents <- sum(rowSums(!is.na(final_data[, hiv_topics])) > 0)\n",
    "\n",
    "# Calculate the percentage for the first top3_prep_topics\n",
    "hiv1_percentage <- (hiv_sorted_topics[1] / hiv_total_respondents) * 100\n",
    "\n",
    "# Calculate the percentage for the second top3_prep_topics\n",
    "hiv2_percentage <- (hiv_sorted_topics[2] / hiv_total_respondents) * 100\n",
    "\n",
    "# Calculate the percentage for the third top3_prep_topics\n",
    "hiv3_percentage <- (hiv_sorted_topics[3] / hiv_total_respondents) * 100\n",
    "\n",
    "# Print the results\n",
    "hiv1_percentage\n",
    "hiv2_percentage\n",
    "hiv3_percentage"
   ]
  },
  {
   "cell_type": "markdown",
   "id": "094262b9-3638-486b-a127-91d5e63c6f59",
   "metadata": {},
   "source": [
    "# PrEP training statistics for overall data"
   ]
  },
  {
   "cell_type": "code",
   "execution_count": 44,
   "id": "cc930416-f7ec-45bc-8451-961518a970c5",
   "metadata": {},
   "outputs": [],
   "source": [
    "# Create a vector of column names representing the PrEP topics columns\n",
    "prep_topics <- c(\"Q211\", \"Q212\", \"Q213\", \"Q214\", \"Q215\",\"Q216\",\"Q217\",\"Q218\",\"Q219\",\"Q220\",\"Q221\",\"Q222\",\"Q223\",\"Q224\",\"Q225\")"
   ]
  },
  {
   "cell_type": "markdown",
   "id": "6f3e89c9-1670-4b43-be7b-ea1af233c91c",
   "metadata": {},
   "source": [
    "## PrEP topic with greatest number of 1st rankings"
   ]
  },
  {
   "cell_type": "code",
   "execution_count": 45,
   "id": "caac35c2-49e1-43bb-89b6-55fe8acc6850",
   "metadata": {},
   "outputs": [
    {
     "data": {
      "text/html": [
       "<style>\n",
       ".dl-inline {width: auto; margin:0; padding: 0}\n",
       ".dl-inline>dt, .dl-inline>dd {float: none; width: auto; display: inline-block}\n",
       ".dl-inline>dt::after {content: \":\\0020\"; padding-right: .5ex}\n",
       ".dl-inline>dt:not(:first-of-type) {padding-left: .5ex}\n",
       "</style><dl class=dl-inline><dt>Q211</dt><dd>124</dd><dt>Q212</dt><dd>73</dd><dt>Q213</dt><dd>62</dd><dt>Q214</dt><dd>108</dd><dt>Q215</dt><dd>11</dd><dt>Q216</dt><dd>22</dd><dt>Q217</dt><dd>20</dd><dt>Q218</dt><dd>48</dd><dt>Q219</dt><dd>37</dd><dt>Q220</dt><dd>31</dd><dt>Q221</dt><dd>19</dd><dt>Q222</dt><dd>29</dd><dt>Q223</dt><dd>36</dd><dt>Q224</dt><dd>12</dd><dt>Q225</dt><dd>3</dd></dl>\n"
      ],
      "text/latex": [
       "\\begin{description*}\n",
       "\\item[Q211] 124\n",
       "\\item[Q212] 73\n",
       "\\item[Q213] 62\n",
       "\\item[Q214] 108\n",
       "\\item[Q215] 11\n",
       "\\item[Q216] 22\n",
       "\\item[Q217] 20\n",
       "\\item[Q218] 48\n",
       "\\item[Q219] 37\n",
       "\\item[Q220] 31\n",
       "\\item[Q221] 19\n",
       "\\item[Q222] 29\n",
       "\\item[Q223] 36\n",
       "\\item[Q224] 12\n",
       "\\item[Q225] 3\n",
       "\\end{description*}\n"
      ],
      "text/markdown": [
       "Q211\n",
       ":   124Q212\n",
       ":   73Q213\n",
       ":   62Q214\n",
       ":   108Q215\n",
       ":   11Q216\n",
       ":   22Q217\n",
       ":   20Q218\n",
       ":   48Q219\n",
       ":   37Q220\n",
       ":   31Q221\n",
       ":   19Q222\n",
       ":   29Q223\n",
       ":   36Q224\n",
       ":   12Q225\n",
       ":   3\n",
       "\n"
      ],
      "text/plain": [
       "Q211 Q212 Q213 Q214 Q215 Q216 Q217 Q218 Q219 Q220 Q221 Q222 Q223 Q224 Q225 \n",
       " 124   73   62  108   11   22   20   48   37   31   19   29   36   12    3 "
      ]
     },
     "metadata": {},
     "output_type": "display_data"
    }
   ],
   "source": [
    "# Calculate the counts of 1st rankings for each PrEP topic\n",
    "prep1_counts <- sapply(prep_topics, function(topic) sum(final_data[[topic]] == 1, na.rm = TRUE))\n",
    "prep1_counts"
   ]
  },
  {
   "cell_type": "code",
   "execution_count": 46,
   "id": "7ccc3474-910a-4aa2-9edd-db225830a25c",
   "metadata": {},
   "outputs": [
    {
     "data": {
      "text/html": [
       "'Q211'"
      ],
      "text/latex": [
       "'Q211'"
      ],
      "text/markdown": [
       "'Q211'"
      ],
      "text/plain": [
       "[1] \"Q211\""
      ]
     },
     "metadata": {},
     "output_type": "display_data"
    }
   ],
   "source": [
    "# Find the PrEP topic with the highest count of 1st rankings\n",
    "prep1 <- prep_topics[which.max(prep1_counts)]\n",
    "prep1"
   ]
  },
  {
   "cell_type": "code",
   "execution_count": 47,
   "id": "6ea8bd30-28ec-4cff-9b03-ceb67e2e4a97",
   "metadata": {},
   "outputs": [
    {
     "data": {
      "text/html": [
       "<strong>Q211:</strong> 19.2846034214619"
      ],
      "text/latex": [
       "\\textbf{Q211:} 19.2846034214619"
      ],
      "text/markdown": [
       "**Q211:** 19.2846034214619"
      ],
      "text/plain": [
       "   Q211 \n",
       "19.2846 "
      ]
     },
     "metadata": {},
     "output_type": "display_data"
    }
   ],
   "source": [
    "# Calculate the percentage of 1st rankings\n",
    "prep1_perc <- (prep1_counts[which.max(prep1_counts)] / sum(rowSums(!is.na(final_data[, prep_topics])) > 0)) * 100\n",
    "prep1_perc"
   ]
  },
  {
   "cell_type": "markdown",
   "id": "44307a7d-a7d0-42a8-9fce-75e3839a17d3",
   "metadata": {},
   "source": [
    "## PrEP topic with greatest number of 2nd rankings"
   ]
  },
  {
   "cell_type": "code",
   "execution_count": 48,
   "id": "c8282cfb-d7ec-4025-8849-a6c54ccb079a",
   "metadata": {},
   "outputs": [
    {
     "data": {
      "text/html": [
       "<style>\n",
       ".dl-inline {width: auto; margin:0; padding: 0}\n",
       ".dl-inline>dt, .dl-inline>dd {float: none; width: auto; display: inline-block}\n",
       ".dl-inline>dt::after {content: \":\\0020\"; padding-right: .5ex}\n",
       ".dl-inline>dt:not(:first-of-type) {padding-left: .5ex}\n",
       "</style><dl class=dl-inline><dt>Q211</dt><dd>29</dd><dt>Q212</dt><dd>70</dd><dt>Q213</dt><dd>53</dd><dt>Q214</dt><dd>80</dd><dt>Q215</dt><dd>26</dd><dt>Q216</dt><dd>34</dd><dt>Q217</dt><dd>37</dd><dt>Q218</dt><dd>77</dd><dt>Q219</dt><dd>50</dd><dt>Q220</dt><dd>39</dd><dt>Q221</dt><dd>24</dd><dt>Q222</dt><dd>27</dd><dt>Q223</dt><dd>41</dd><dt>Q224</dt><dd>15</dd><dt>Q225</dt><dd>0</dd></dl>\n"
      ],
      "text/latex": [
       "\\begin{description*}\n",
       "\\item[Q211] 29\n",
       "\\item[Q212] 70\n",
       "\\item[Q213] 53\n",
       "\\item[Q214] 80\n",
       "\\item[Q215] 26\n",
       "\\item[Q216] 34\n",
       "\\item[Q217] 37\n",
       "\\item[Q218] 77\n",
       "\\item[Q219] 50\n",
       "\\item[Q220] 39\n",
       "\\item[Q221] 24\n",
       "\\item[Q222] 27\n",
       "\\item[Q223] 41\n",
       "\\item[Q224] 15\n",
       "\\item[Q225] 0\n",
       "\\end{description*}\n"
      ],
      "text/markdown": [
       "Q211\n",
       ":   29Q212\n",
       ":   70Q213\n",
       ":   53Q214\n",
       ":   80Q215\n",
       ":   26Q216\n",
       ":   34Q217\n",
       ":   37Q218\n",
       ":   77Q219\n",
       ":   50Q220\n",
       ":   39Q221\n",
       ":   24Q222\n",
       ":   27Q223\n",
       ":   41Q224\n",
       ":   15Q225\n",
       ":   0\n",
       "\n"
      ],
      "text/plain": [
       "Q211 Q212 Q213 Q214 Q215 Q216 Q217 Q218 Q219 Q220 Q221 Q222 Q223 Q224 Q225 \n",
       "  29   70   53   80   26   34   37   77   50   39   24   27   41   15    0 "
      ]
     },
     "metadata": {},
     "output_type": "display_data"
    }
   ],
   "source": [
    "# Calculate the counts of 2nd rankings for each PrEP topic\n",
    "prep2_counts <- sapply(prep_topics, function(topic) sum(final_data[[topic]] == 2, na.rm = TRUE))\n",
    "prep2_counts"
   ]
  },
  {
   "cell_type": "code",
   "execution_count": 49,
   "id": "e85db253-1e66-4445-88de-a866ba093dd6",
   "metadata": {},
   "outputs": [
    {
     "data": {
      "text/html": [
       "'Q214'"
      ],
      "text/latex": [
       "'Q214'"
      ],
      "text/markdown": [
       "'Q214'"
      ],
      "text/plain": [
       "[1] \"Q214\""
      ]
     },
     "metadata": {},
     "output_type": "display_data"
    }
   ],
   "source": [
    "# Find the PrEP topic with the highest count of 2nd rankings\n",
    "prep2 <- prep_topics[which.max(prep2_counts)]\n",
    "prep2"
   ]
  },
  {
   "cell_type": "code",
   "execution_count": 50,
   "id": "bea9071c-0393-424d-a870-22578efd3e81",
   "metadata": {},
   "outputs": [
    {
     "data": {
      "text/html": [
       "<strong>Q214:</strong> 12.4416796267496"
      ],
      "text/latex": [
       "\\textbf{Q214:} 12.4416796267496"
      ],
      "text/markdown": [
       "**Q214:** 12.4416796267496"
      ],
      "text/plain": [
       "    Q214 \n",
       "12.44168 "
      ]
     },
     "metadata": {},
     "output_type": "display_data"
    }
   ],
   "source": [
    "# Calculate the percentage of 2nd rankings for the top PrEP topic\n",
    "prep2_perc <- (prep2_counts[which.max(prep2_counts)] / sum(rowSums(!is.na(final_data[, prep_topics])) > 0)) * 100\n",
    "prep2_perc"
   ]
  },
  {
   "cell_type": "markdown",
   "id": "e15fac80-af39-42f9-9e01-b5a72599e87d",
   "metadata": {},
   "source": [
    "## PrEP topic with greatest number of third rankings"
   ]
  },
  {
   "cell_type": "code",
   "execution_count": 51,
   "id": "098d0c3c-4f1c-4aa0-b4a8-cefe3301b7f6",
   "metadata": {},
   "outputs": [
    {
     "data": {
      "text/html": [
       "<style>\n",
       ".dl-inline {width: auto; margin:0; padding: 0}\n",
       ".dl-inline>dt, .dl-inline>dd {float: none; width: auto; display: inline-block}\n",
       ".dl-inline>dt::after {content: \":\\0020\"; padding-right: .5ex}\n",
       ".dl-inline>dt:not(:first-of-type) {padding-left: .5ex}\n",
       "</style><dl class=dl-inline><dt>Q211</dt><dd>44</dd><dt>Q212</dt><dd>21</dd><dt>Q213</dt><dd>43</dd><dt>Q214</dt><dd>52</dd><dt>Q215</dt><dd>18</dd><dt>Q216</dt><dd>35</dd><dt>Q217</dt><dd>38</dd><dt>Q218</dt><dd>69</dd><dt>Q219</dt><dd>26</dd><dt>Q220</dt><dd>66</dd><dt>Q221</dt><dd>42</dd><dt>Q222</dt><dd>46</dd><dt>Q223</dt><dd>42</dd><dt>Q224</dt><dd>41</dd><dt>Q225</dt><dd>5</dd></dl>\n"
      ],
      "text/latex": [
       "\\begin{description*}\n",
       "\\item[Q211] 44\n",
       "\\item[Q212] 21\n",
       "\\item[Q213] 43\n",
       "\\item[Q214] 52\n",
       "\\item[Q215] 18\n",
       "\\item[Q216] 35\n",
       "\\item[Q217] 38\n",
       "\\item[Q218] 69\n",
       "\\item[Q219] 26\n",
       "\\item[Q220] 66\n",
       "\\item[Q221] 42\n",
       "\\item[Q222] 46\n",
       "\\item[Q223] 42\n",
       "\\item[Q224] 41\n",
       "\\item[Q225] 5\n",
       "\\end{description*}\n"
      ],
      "text/markdown": [
       "Q211\n",
       ":   44Q212\n",
       ":   21Q213\n",
       ":   43Q214\n",
       ":   52Q215\n",
       ":   18Q216\n",
       ":   35Q217\n",
       ":   38Q218\n",
       ":   69Q219\n",
       ":   26Q220\n",
       ":   66Q221\n",
       ":   42Q222\n",
       ":   46Q223\n",
       ":   42Q224\n",
       ":   41Q225\n",
       ":   5\n",
       "\n"
      ],
      "text/plain": [
       "Q211 Q212 Q213 Q214 Q215 Q216 Q217 Q218 Q219 Q220 Q221 Q222 Q223 Q224 Q225 \n",
       "  44   21   43   52   18   35   38   69   26   66   42   46   42   41    5 "
      ]
     },
     "metadata": {},
     "output_type": "display_data"
    }
   ],
   "source": [
    "# Calculate the counts of 3rd rankings for each PrEP topic\n",
    "prep3_counts <- sapply(prep_topics, function(topic) sum(final_data[[topic]] == 3, na.rm = TRUE))\n",
    "prep3_counts"
   ]
  },
  {
   "cell_type": "code",
   "execution_count": 52,
   "id": "e709176b-cec3-45eb-9607-8720b4ac5440",
   "metadata": {},
   "outputs": [
    {
     "data": {
      "text/html": [
       "'Q218'"
      ],
      "text/latex": [
       "'Q218'"
      ],
      "text/markdown": [
       "'Q218'"
      ],
      "text/plain": [
       "[1] \"Q218\""
      ]
     },
     "metadata": {},
     "output_type": "display_data"
    }
   ],
   "source": [
    "# Find the PrEP topic with the highest count of 3rd rankings\n",
    "prep3 <- prep_topics[which.max(prep3_counts)]\n",
    "prep3"
   ]
  },
  {
   "cell_type": "code",
   "execution_count": 53,
   "id": "667092f4-6fa9-4096-8cd8-696be8f58dd3",
   "metadata": {},
   "outputs": [
    {
     "data": {
      "text/html": [
       "<strong>Q218:</strong> 10.7309486780715"
      ],
      "text/latex": [
       "\\textbf{Q218:} 10.7309486780715"
      ],
      "text/markdown": [
       "**Q218:** 10.7309486780715"
      ],
      "text/plain": [
       "    Q218 \n",
       "10.73095 "
      ]
     },
     "metadata": {},
     "output_type": "display_data"
    }
   ],
   "source": [
    "# Calculate the percentage of 3rd rankings\n",
    "prep3_perc <- (prep3_counts[which.max(prep3_counts)] / sum(rowSums(!is.na(final_data[, prep_topics])) > 0)) * 100\n",
    "prep3_perc"
   ]
  },
  {
   "cell_type": "markdown",
   "id": "6aabba9a-0f04-4579-a1f5-34cac198d075",
   "metadata": {},
   "source": [
    "## Top 3 PrEP training topics"
   ]
  },
  {
   "cell_type": "code",
   "execution_count": 54,
   "id": "66cc3983-da5f-4715-8127-f17006ca7c95",
   "metadata": {},
   "outputs": [
    {
     "data": {
      "text/html": [
       "<style>\n",
       ".dl-inline {width: auto; margin:0; padding: 0}\n",
       ".dl-inline>dt, .dl-inline>dd {float: none; width: auto; display: inline-block}\n",
       ".dl-inline>dt::after {content: \":\\0020\"; padding-right: .5ex}\n",
       ".dl-inline>dt:not(:first-of-type) {padding-left: .5ex}\n",
       "</style><dl class=dl-inline><dt>Q211</dt><dd>197</dd><dt>Q212</dt><dd>164</dd><dt>Q213</dt><dd>158</dd><dt>Q214</dt><dd>240</dd><dt>Q215</dt><dd>55</dd><dt>Q216</dt><dd>91</dd><dt>Q217</dt><dd>95</dd><dt>Q218</dt><dd>194</dd><dt>Q219</dt><dd>113</dd><dt>Q220</dt><dd>136</dd><dt>Q221</dt><dd>85</dd><dt>Q222</dt><dd>102</dd><dt>Q223</dt><dd>119</dd><dt>Q224</dt><dd>68</dd><dt>Q225</dt><dd>8</dd></dl>\n"
      ],
      "text/latex": [
       "\\begin{description*}\n",
       "\\item[Q211] 197\n",
       "\\item[Q212] 164\n",
       "\\item[Q213] 158\n",
       "\\item[Q214] 240\n",
       "\\item[Q215] 55\n",
       "\\item[Q216] 91\n",
       "\\item[Q217] 95\n",
       "\\item[Q218] 194\n",
       "\\item[Q219] 113\n",
       "\\item[Q220] 136\n",
       "\\item[Q221] 85\n",
       "\\item[Q222] 102\n",
       "\\item[Q223] 119\n",
       "\\item[Q224] 68\n",
       "\\item[Q225] 8\n",
       "\\end{description*}\n"
      ],
      "text/markdown": [
       "Q211\n",
       ":   197Q212\n",
       ":   164Q213\n",
       ":   158Q214\n",
       ":   240Q215\n",
       ":   55Q216\n",
       ":   91Q217\n",
       ":   95Q218\n",
       ":   194Q219\n",
       ":   113Q220\n",
       ":   136Q221\n",
       ":   85Q222\n",
       ":   102Q223\n",
       ":   119Q224\n",
       ":   68Q225\n",
       ":   8\n",
       "\n"
      ],
      "text/plain": [
       "Q211 Q212 Q213 Q214 Q215 Q216 Q217 Q218 Q219 Q220 Q221 Q222 Q223 Q224 Q225 \n",
       " 197  164  158  240   55   91   95  194  113  136   85  102  119   68    8 "
      ]
     },
     "metadata": {},
     "output_type": "display_data"
    },
    {
     "data": {
      "text/html": [
       "<style>\n",
       ".list-inline {list-style: none; margin:0; padding: 0}\n",
       ".list-inline>li {display: inline-block}\n",
       ".list-inline>li:not(:last-child)::after {content: \"\\00b7\"; padding: 0 .5ex}\n",
       "</style>\n",
       "<ol class=list-inline><li>'Q214'</li><li>'Q211'</li><li>'Q218'</li></ol>\n"
      ],
      "text/latex": [
       "\\begin{enumerate*}\n",
       "\\item 'Q214'\n",
       "\\item 'Q211'\n",
       "\\item 'Q218'\n",
       "\\end{enumerate*}\n"
      ],
      "text/markdown": [
       "1. 'Q214'\n",
       "2. 'Q211'\n",
       "3. 'Q218'\n",
       "\n",
       "\n"
      ],
      "text/plain": [
       "[1] \"Q214\" \"Q211\" \"Q218\""
      ]
     },
     "metadata": {},
     "output_type": "display_data"
    }
   ],
   "source": [
    "# Calculate the counts for each PrEP topic\n",
    "prep_topic_counts <- sapply(prep_topics, function(topic) sum(final_data[[topic]] %in% c(1, 2, 3), na.rm = TRUE))\n",
    "prep_topic_counts\n",
    "# Sort the topics based on their counts in descending order\n",
    "prep_sorted_topics <- sort(prep_topic_counts, decreasing = TRUE)\n",
    "\n",
    "# Get the top 3 topics\n",
    "prep_top_3_topics <- names(prep_sorted_topics)[1:3]\n",
    "\n",
    "prep_top_3_topics"
   ]
  },
  {
   "cell_type": "code",
   "execution_count": 55,
   "id": "fcae8d16-0e68-417c-a97e-951ecb8e3e77",
   "metadata": {},
   "outputs": [
    {
     "data": {
      "text/html": [
       "<strong>Q214:</strong> 37.3250388802488"
      ],
      "text/latex": [
       "\\textbf{Q214:} 37.3250388802488"
      ],
      "text/markdown": [
       "**Q214:** 37.3250388802488"
      ],
      "text/plain": [
       "    Q214 \n",
       "37.32504 "
      ]
     },
     "metadata": {},
     "output_type": "display_data"
    },
    {
     "data": {
      "text/html": [
       "<strong>Q211:</strong> 30.6376360808709"
      ],
      "text/latex": [
       "\\textbf{Q211:} 30.6376360808709"
      ],
      "text/markdown": [
       "**Q211:** 30.6376360808709"
      ],
      "text/plain": [
       "    Q211 \n",
       "30.63764 "
      ]
     },
     "metadata": {},
     "output_type": "display_data"
    },
    {
     "data": {
      "text/html": [
       "<strong>Q218:</strong> 30.1710730948678"
      ],
      "text/latex": [
       "\\textbf{Q218:} 30.1710730948678"
      ],
      "text/markdown": [
       "**Q218:** 30.1710730948678"
      ],
      "text/plain": [
       "    Q218 \n",
       "30.17107 "
      ]
     },
     "metadata": {},
     "output_type": "display_data"
    }
   ],
   "source": [
    "# Calculate the total count of respondents who provided a ranking (1, 2, or 3) for any of the PrEP topic questions\n",
    "prep_total_respondents <- sum(rowSums(!is.na(final_data[, prep_topics])) > 0)\n",
    "\n",
    "# Calculate the percentage for the first top3_prep_topics\n",
    "prep1_percentage <- (prep_sorted_topics[1] / prep_total_respondents) * 100\n",
    "\n",
    "# Calculate the percentage for the second top3_prep_topics\n",
    "prep2_percentage <- (prep_sorted_topics[2] / prep_total_respondents) * 100\n",
    "\n",
    "# Calculate the percentage for the third top3_prep_topics\n",
    "prep3_percentage <- (prep_sorted_topics[3] / prep_total_respondents) * 100\n",
    "\n",
    "# Print the results\n",
    "prep1_percentage\n",
    "prep2_percentage\n",
    "prep3_percentage"
   ]
  },
  {
   "cell_type": "markdown",
   "id": "c55f197b-d71e-43ce-a37e-194740685972",
   "metadata": {},
   "source": [
    "# LGBTQ training statistics for overall data"
   ]
  },
  {
   "cell_type": "code",
   "execution_count": 56,
   "id": "bafe2487-3743-4ffd-afac-41ac3d5580c9",
   "metadata": {},
   "outputs": [],
   "source": [
    "# Create a vector of column names representing the LGBTQ topics columns\n",
    "lgbtq_topics <- c(\"Q227\", \"Q228\", \"Q229\", \"Q230\", \"Q231\",\"Q232\",\"Q233\",\"Q234\",\"Q235\")"
   ]
  },
  {
   "cell_type": "markdown",
   "id": "49f32728-bbb2-4a9d-bb24-b370263c22e8",
   "metadata": {},
   "source": [
    "## LGBTQ topic with greatest number of 1st rankings"
   ]
  },
  {
   "cell_type": "code",
   "execution_count": 57,
   "id": "c36a2932-92d9-4d6c-8375-c33e5c62d196",
   "metadata": {},
   "outputs": [
    {
     "data": {
      "text/html": [
       "<style>\n",
       ".dl-inline {width: auto; margin:0; padding: 0}\n",
       ".dl-inline>dt, .dl-inline>dd {float: none; width: auto; display: inline-block}\n",
       ".dl-inline>dt::after {content: \":\\0020\"; padding-right: .5ex}\n",
       ".dl-inline>dt:not(:first-of-type) {padding-left: .5ex}\n",
       "</style><dl class=dl-inline><dt>Q227</dt><dd>139</dd><dt>Q228</dt><dd>198</dd><dt>Q229</dt><dd>121</dd><dt>Q230</dt><dd>120</dd><dt>Q231</dt><dd>34</dd><dt>Q232</dt><dd>67</dd><dt>Q233</dt><dd>118</dd><dt>Q234</dt><dd>114</dd><dt>Q235</dt><dd>15</dd></dl>\n"
      ],
      "text/latex": [
       "\\begin{description*}\n",
       "\\item[Q227] 139\n",
       "\\item[Q228] 198\n",
       "\\item[Q229] 121\n",
       "\\item[Q230] 120\n",
       "\\item[Q231] 34\n",
       "\\item[Q232] 67\n",
       "\\item[Q233] 118\n",
       "\\item[Q234] 114\n",
       "\\item[Q235] 15\n",
       "\\end{description*}\n"
      ],
      "text/markdown": [
       "Q227\n",
       ":   139Q228\n",
       ":   198Q229\n",
       ":   121Q230\n",
       ":   120Q231\n",
       ":   34Q232\n",
       ":   67Q233\n",
       ":   118Q234\n",
       ":   114Q235\n",
       ":   15\n",
       "\n"
      ],
      "text/plain": [
       "Q227 Q228 Q229 Q230 Q231 Q232 Q233 Q234 Q235 \n",
       " 139  198  121  120   34   67  118  114   15 "
      ]
     },
     "metadata": {},
     "output_type": "display_data"
    }
   ],
   "source": [
    "# Calculate the counts of 1st rankings for each LGBTQ topic\n",
    "lgbtq1_counts <- sapply(lgbtq_topics, function(topic) sum(final_data[[topic]] == 1, na.rm = TRUE))\n",
    "lgbtq1_counts"
   ]
  },
  {
   "cell_type": "code",
   "execution_count": 58,
   "id": "ac3d137a-6f28-4594-b50d-3efe6c2a9608",
   "metadata": {},
   "outputs": [
    {
     "data": {
      "text/html": [
       "'Q228'"
      ],
      "text/latex": [
       "'Q228'"
      ],
      "text/markdown": [
       "'Q228'"
      ],
      "text/plain": [
       "[1] \"Q228\""
      ]
     },
     "metadata": {},
     "output_type": "display_data"
    }
   ],
   "source": [
    "# Find the LGBTQ topic with the highest count of 1st rankings\n",
    "lgbtq1 <- lgbtq_topics[which.max(lgbtq1_counts)]\n",
    "lgbtq1"
   ]
  },
  {
   "cell_type": "code",
   "execution_count": 59,
   "id": "2257f9a2-0413-459c-90cb-8666fbf6e864",
   "metadata": {},
   "outputs": [
    {
     "data": {
      "text/html": [
       "<strong>Q228:</strong> 21.1087420042644"
      ],
      "text/latex": [
       "\\textbf{Q228:} 21.1087420042644"
      ],
      "text/markdown": [
       "**Q228:** 21.1087420042644"
      ],
      "text/plain": [
       "    Q228 \n",
       "21.10874 "
      ]
     },
     "metadata": {},
     "output_type": "display_data"
    }
   ],
   "source": [
    "# Calculate the percentage of 1st rankings\n",
    "lgbtq1_perc <- (lgbtq1_counts[which.max(lgbtq1_counts)] / sum(rowSums(!is.na(final_data[, lgbtq_topics])) > 0)) * 100\n",
    "lgbtq1_perc"
   ]
  },
  {
   "cell_type": "markdown",
   "id": "fc4b9d37-f8a0-467a-aac7-741810f60be9",
   "metadata": {},
   "source": [
    "## LGBTQ topic with greatest number of 2nd rankings"
   ]
  },
  {
   "cell_type": "code",
   "execution_count": 60,
   "id": "fb7134b7-9cc8-40df-9701-0a3e0d5f1a49",
   "metadata": {},
   "outputs": [
    {
     "data": {
      "text/html": [
       "<style>\n",
       ".dl-inline {width: auto; margin:0; padding: 0}\n",
       ".dl-inline>dt, .dl-inline>dd {float: none; width: auto; display: inline-block}\n",
       ".dl-inline>dt::after {content: \":\\0020\"; padding-right: .5ex}\n",
       ".dl-inline>dt:not(:first-of-type) {padding-left: .5ex}\n",
       "</style><dl class=dl-inline><dt>Q227</dt><dd>67</dd><dt>Q228</dt><dd>121</dd><dt>Q229</dt><dd>102</dd><dt>Q230</dt><dd>154</dd><dt>Q231</dt><dd>62</dd><dt>Q232</dt><dd>78</dd><dt>Q233</dt><dd>143</dd><dt>Q234</dt><dd>143</dd><dt>Q235</dt><dd>4</dd></dl>\n"
      ],
      "text/latex": [
       "\\begin{description*}\n",
       "\\item[Q227] 67\n",
       "\\item[Q228] 121\n",
       "\\item[Q229] 102\n",
       "\\item[Q230] 154\n",
       "\\item[Q231] 62\n",
       "\\item[Q232] 78\n",
       "\\item[Q233] 143\n",
       "\\item[Q234] 143\n",
       "\\item[Q235] 4\n",
       "\\end{description*}\n"
      ],
      "text/markdown": [
       "Q227\n",
       ":   67Q228\n",
       ":   121Q229\n",
       ":   102Q230\n",
       ":   154Q231\n",
       ":   62Q232\n",
       ":   78Q233\n",
       ":   143Q234\n",
       ":   143Q235\n",
       ":   4\n",
       "\n"
      ],
      "text/plain": [
       "Q227 Q228 Q229 Q230 Q231 Q232 Q233 Q234 Q235 \n",
       "  67  121  102  154   62   78  143  143    4 "
      ]
     },
     "metadata": {},
     "output_type": "display_data"
    }
   ],
   "source": [
    "# Calculate the counts of 2nd rankings for each LGBTQ topic\n",
    "lgbtq2_counts <- sapply(lgbtq_topics, function(topic) sum(final_data[[topic]] == 2, na.rm = TRUE))\n",
    "lgbtq2_counts"
   ]
  },
  {
   "cell_type": "code",
   "execution_count": 61,
   "id": "c8abbf69-8e82-45aa-a25a-d7b874dcb132",
   "metadata": {},
   "outputs": [
    {
     "data": {
      "text/html": [
       "'Q230'"
      ],
      "text/latex": [
       "'Q230'"
      ],
      "text/markdown": [
       "'Q230'"
      ],
      "text/plain": [
       "[1] \"Q230\""
      ]
     },
     "metadata": {},
     "output_type": "display_data"
    }
   ],
   "source": [
    "# Find the LGBTQ topic with the highest count of 2nd rankings\n",
    "lgbtq2 <- lgbtq_topics[which.max(lgbtq2_counts)]\n",
    "lgbtq2"
   ]
  },
  {
   "cell_type": "code",
   "execution_count": 62,
   "id": "390c72ce-59fe-4ac4-97fc-cd5a01053e9f",
   "metadata": {},
   "outputs": [
    {
     "data": {
      "text/html": [
       "<strong>Q230:</strong> 16.4179104477612"
      ],
      "text/latex": [
       "\\textbf{Q230:} 16.4179104477612"
      ],
      "text/markdown": [
       "**Q230:** 16.4179104477612"
      ],
      "text/plain": [
       "    Q230 \n",
       "16.41791 "
      ]
     },
     "metadata": {},
     "output_type": "display_data"
    }
   ],
   "source": [
    "# Calculate the percentage of 2nd rankings for the top LGBTQ topic\n",
    "lgbtq2_perc <- (lgbtq2_counts[which.max(lgbtq2_counts)] / sum(rowSums(!is.na(final_data[, lgbtq_topics])) > 0)) * 100\n",
    "lgbtq2_perc"
   ]
  },
  {
   "cell_type": "markdown",
   "id": "7b40f882-2549-4a1a-adf4-02b29c3a1c76",
   "metadata": {},
   "source": [
    "## LGBTQ topic with greatest number of third rankings"
   ]
  },
  {
   "cell_type": "code",
   "execution_count": 63,
   "id": "3d12ab72-30b2-43fe-9ff6-70e363749a87",
   "metadata": {},
   "outputs": [
    {
     "data": {
      "text/html": [
       "<style>\n",
       ".dl-inline {width: auto; margin:0; padding: 0}\n",
       ".dl-inline>dt, .dl-inline>dd {float: none; width: auto; display: inline-block}\n",
       ".dl-inline>dt::after {content: \":\\0020\"; padding-right: .5ex}\n",
       ".dl-inline>dt:not(:first-of-type) {padding-left: .5ex}\n",
       "</style><dl class=dl-inline><dt>Q227</dt><dd>81</dd><dt>Q228</dt><dd>122</dd><dt>Q229</dt><dd>73</dd><dt>Q230</dt><dd>124</dd><dt>Q231</dt><dd>66</dd><dt>Q232</dt><dd>64</dd><dt>Q233</dt><dd>109</dd><dt>Q234</dt><dd>194</dd><dt>Q235</dt><dd>14</dd></dl>\n"
      ],
      "text/latex": [
       "\\begin{description*}\n",
       "\\item[Q227] 81\n",
       "\\item[Q228] 122\n",
       "\\item[Q229] 73\n",
       "\\item[Q230] 124\n",
       "\\item[Q231] 66\n",
       "\\item[Q232] 64\n",
       "\\item[Q233] 109\n",
       "\\item[Q234] 194\n",
       "\\item[Q235] 14\n",
       "\\end{description*}\n"
      ],
      "text/markdown": [
       "Q227\n",
       ":   81Q228\n",
       ":   122Q229\n",
       ":   73Q230\n",
       ":   124Q231\n",
       ":   66Q232\n",
       ":   64Q233\n",
       ":   109Q234\n",
       ":   194Q235\n",
       ":   14\n",
       "\n"
      ],
      "text/plain": [
       "Q227 Q228 Q229 Q230 Q231 Q232 Q233 Q234 Q235 \n",
       "  81  122   73  124   66   64  109  194   14 "
      ]
     },
     "metadata": {},
     "output_type": "display_data"
    }
   ],
   "source": [
    "# Calculate the counts of 3rd rankings for each LGBTQ topic\n",
    "lgbtq3_counts <- sapply(lgbtq_topics, function(topic) sum(final_data[[topic]] == 3, na.rm = TRUE))\n",
    "lgbtq3_counts"
   ]
  },
  {
   "cell_type": "code",
   "execution_count": 64,
   "id": "0d75665b-9124-4e2d-be02-43adc3835212",
   "metadata": {},
   "outputs": [
    {
     "data": {
      "text/html": [
       "'Q234'"
      ],
      "text/latex": [
       "'Q234'"
      ],
      "text/markdown": [
       "'Q234'"
      ],
      "text/plain": [
       "[1] \"Q234\""
      ]
     },
     "metadata": {},
     "output_type": "display_data"
    }
   ],
   "source": [
    "# Find the LGBTQ topic with the highest count of 3rd rankings\n",
    "lgbtq3 <- lgbtq_topics[which.max(lgbtq3_counts)]\n",
    "lgbtq3"
   ]
  },
  {
   "cell_type": "code",
   "execution_count": 65,
   "id": "dd9ceeff-0c1a-4d7b-8451-5127ef64701c",
   "metadata": {},
   "outputs": [
    {
     "data": {
      "text/html": [
       "<strong>Q234:</strong> 20.682302771855"
      ],
      "text/latex": [
       "\\textbf{Q234:} 20.682302771855"
      ],
      "text/markdown": [
       "**Q234:** 20.682302771855"
      ],
      "text/plain": [
       "   Q234 \n",
       "20.6823 "
      ]
     },
     "metadata": {},
     "output_type": "display_data"
    }
   ],
   "source": [
    "# Calculate the percentage of 3rd rankings\n",
    "lgbtq3_perc <- (lgbtq3_counts[which.max(lgbtq3_counts)] / sum(rowSums(!is.na(final_data[, lgbtq_topics])) > 0)) * 100\n",
    "lgbtq3_perc"
   ]
  },
  {
   "cell_type": "markdown",
   "id": "c4931149-d9ae-4fd7-a7eb-1f64b8f8ad38",
   "metadata": {},
   "source": [
    "## Top 3 LGBTQ training topics "
   ]
  },
  {
   "cell_type": "code",
   "execution_count": 66,
   "id": "220cddfa-c98b-448f-b261-d6e6fa5ee732",
   "metadata": {},
   "outputs": [
    {
     "data": {
      "text/html": [
       "<style>\n",
       ".dl-inline {width: auto; margin:0; padding: 0}\n",
       ".dl-inline>dt, .dl-inline>dd {float: none; width: auto; display: inline-block}\n",
       ".dl-inline>dt::after {content: \":\\0020\"; padding-right: .5ex}\n",
       ".dl-inline>dt:not(:first-of-type) {padding-left: .5ex}\n",
       "</style><dl class=dl-inline><dt>Q227</dt><dd>287</dd><dt>Q228</dt><dd>441</dd><dt>Q229</dt><dd>296</dd><dt>Q230</dt><dd>398</dd><dt>Q231</dt><dd>162</dd><dt>Q232</dt><dd>209</dd><dt>Q233</dt><dd>370</dd><dt>Q234</dt><dd>451</dd><dt>Q235</dt><dd>33</dd></dl>\n"
      ],
      "text/latex": [
       "\\begin{description*}\n",
       "\\item[Q227] 287\n",
       "\\item[Q228] 441\n",
       "\\item[Q229] 296\n",
       "\\item[Q230] 398\n",
       "\\item[Q231] 162\n",
       "\\item[Q232] 209\n",
       "\\item[Q233] 370\n",
       "\\item[Q234] 451\n",
       "\\item[Q235] 33\n",
       "\\end{description*}\n"
      ],
      "text/markdown": [
       "Q227\n",
       ":   287Q228\n",
       ":   441Q229\n",
       ":   296Q230\n",
       ":   398Q231\n",
       ":   162Q232\n",
       ":   209Q233\n",
       ":   370Q234\n",
       ":   451Q235\n",
       ":   33\n",
       "\n"
      ],
      "text/plain": [
       "Q227 Q228 Q229 Q230 Q231 Q232 Q233 Q234 Q235 \n",
       " 287  441  296  398  162  209  370  451   33 "
      ]
     },
     "metadata": {},
     "output_type": "display_data"
    },
    {
     "data": {
      "text/html": [
       "<style>\n",
       ".list-inline {list-style: none; margin:0; padding: 0}\n",
       ".list-inline>li {display: inline-block}\n",
       ".list-inline>li:not(:last-child)::after {content: \"\\00b7\"; padding: 0 .5ex}\n",
       "</style>\n",
       "<ol class=list-inline><li>'Q234'</li><li>'Q228'</li><li>'Q230'</li></ol>\n"
      ],
      "text/latex": [
       "\\begin{enumerate*}\n",
       "\\item 'Q234'\n",
       "\\item 'Q228'\n",
       "\\item 'Q230'\n",
       "\\end{enumerate*}\n"
      ],
      "text/markdown": [
       "1. 'Q234'\n",
       "2. 'Q228'\n",
       "3. 'Q230'\n",
       "\n",
       "\n"
      ],
      "text/plain": [
       "[1] \"Q234\" \"Q228\" \"Q230\""
      ]
     },
     "metadata": {},
     "output_type": "display_data"
    }
   ],
   "source": [
    "# Calculate the counts for each LGBTQ topic\n",
    "lgbtq_topic_counts <- sapply(lgbtq_topics, function(topic) sum(final_data[[topic]] %in% c(1, 2, 3), na.rm = TRUE))\n",
    "lgbtq_topic_counts\n",
    "# Sort the topics based on their counts in descending order\n",
    "lgbtq_sorted_topics <- sort(lgbtq_topic_counts, decreasing = TRUE)\n",
    "\n",
    "# Get the top 3 topics\n",
    "lgbtq_top_3_topics <- names(lgbtq_sorted_topics)[1:3]\n",
    "\n",
    "lgbtq_top_3_topics"
   ]
  },
  {
   "cell_type": "code",
   "execution_count": 67,
   "id": "dbbbd91d-f986-424a-aa38-0e53c20f2066",
   "metadata": {},
   "outputs": [
    {
     "data": {
      "text/html": [
       "<strong>Q234:</strong> 48.0810234541578"
      ],
      "text/latex": [
       "\\textbf{Q234:} 48.0810234541578"
      ],
      "text/markdown": [
       "**Q234:** 48.0810234541578"
      ],
      "text/plain": [
       "    Q234 \n",
       "48.08102 "
      ]
     },
     "metadata": {},
     "output_type": "display_data"
    },
    {
     "data": {
      "text/html": [
       "<strong>Q228:</strong> 47.0149253731343"
      ],
      "text/latex": [
       "\\textbf{Q228:} 47.0149253731343"
      ],
      "text/markdown": [
       "**Q228:** 47.0149253731343"
      ],
      "text/plain": [
       "    Q228 \n",
       "47.01493 "
      ]
     },
     "metadata": {},
     "output_type": "display_data"
    },
    {
     "data": {
      "text/html": [
       "<strong>Q230:</strong> 42.4307036247335"
      ],
      "text/latex": [
       "\\textbf{Q230:} 42.4307036247335"
      ],
      "text/markdown": [
       "**Q230:** 42.4307036247335"
      ],
      "text/plain": [
       "   Q230 \n",
       "42.4307 "
      ]
     },
     "metadata": {},
     "output_type": "display_data"
    }
   ],
   "source": [
    "# Calculate the total count of respondents who provided a ranking (1, 2, or 3) for any of the LGBTQ topic questions\n",
    "lgtbq_total_respondents <- sum(rowSums(!is.na(final_data[, lgbtq_topics])) > 0)\n",
    "\n",
    "# Calculate the percentage for the first top3_lgbtq_topics\n",
    "lgbtq1_percentage <- (lgbtq_sorted_topics[1] / lgtbq_total_respondents) * 100\n",
    "\n",
    "# Calculate the percentage for the second top3_lgbtq_topics\n",
    "lgbtq2_percentage <- (lgbtq_sorted_topics[2] / lgtbq_total_respondents) * 100\n",
    "\n",
    "# Calculate the percentage for the third top3_lgbtq_topics\n",
    "lgbtq3_percentage <- (lgbtq_sorted_topics[3] / lgtbq_total_respondents) * 100\n",
    "\n",
    "# Print the results\n",
    "lgbtq1_percentage\n",
    "lgbtq2_percentage\n",
    "lgbtq3_percentage"
   ]
  },
  {
   "cell_type": "markdown",
   "id": "9cba3d3e-16f1-4a67-869e-aaaacf84ff9d",
   "metadata": {},
   "source": [
    "# Identifying HIV providers"
   ]
  },
  {
   "cell_type": "code",
   "execution_count": 68,
   "id": "7f9075b7-0cd0-4a9a-980f-b2d5a05da508",
   "metadata": {},
   "outputs": [
    {
     "data": {
      "text/html": [
       "<table class=\"dataframe\">\n",
       "<caption>A tibble: 10 × 855</caption>\n",
       "<thead>\n",
       "\t<tr><th scope=col>email</th><th scope=col>Record_ID</th><th scope=col>Q1</th><th scope=col>Q2</th><th scope=col>Q3</th><th scope=col>Q4</th><th scope=col>Q5</th><th scope=col>Q6</th><th scope=col>Q7</th><th scope=col>Q8</th><th scope=col>⋯</th><th scope=col>Q810</th><th scope=col>Q811</th><th scope=col>Q812</th><th scope=col>Q813</th><th scope=col>Q814</th><th scope=col>Q815</th><th scope=col>Q816</th><th scope=col>Q817</th><th scope=col>Q818</th><th scope=col>Q819</th></tr>\n",
       "\t<tr><th scope=col>&lt;chr&gt;</th><th scope=col>&lt;chr&gt;</th><th scope=col>&lt;chr&gt;</th><th scope=col>&lt;chr&gt;</th><th scope=col>&lt;chr&gt;</th><th scope=col>&lt;chr&gt;</th><th scope=col>&lt;chr&gt;</th><th scope=col>&lt;chr&gt;</th><th scope=col>&lt;dbl&gt;</th><th scope=col>&lt;dbl&gt;</th><th scope=col>⋯</th><th scope=col>&lt;chr&gt;</th><th scope=col>&lt;chr&gt;</th><th scope=col>&lt;chr&gt;</th><th scope=col>&lt;chr&gt;</th><th scope=col>&lt;chr&gt;</th><th scope=col>&lt;chr&gt;</th><th scope=col>&lt;chr&gt;</th><th scope=col>&lt;chr&gt;</th><th scope=col>&lt;chr&gt;</th><th scope=col>&lt;chr&gt;</th></tr>\n",
       "</thead>\n",
       "<tbody>\n",
       "\t<tr><td>NA                              </td><td>NA  </td><td>NA                                       </td><td>NA</td><td>NA                  </td><td>NA   </td><td>NA      </td><td>NA </td><td>NA</td><td>NA</td><td>⋯</td><td>NA                                               </td><td>NA    </td><td>NA                                                                                                                               </td><td>NA </td><td>NA</td><td>NA </td><td>NA </td><td>NA                                                                                                                                                   </td><td>NA                                                                                                                                                                                                                                                                                                                                                                                                                                         </td><td>NA        </td></tr>\n",
       "\t<tr><td>19tyler@gmail.com               </td><td>422 </td><td>Non-profit organization                  </td><td>NA</td><td>District of Columbia</td><td>20005</td><td>Urban   </td><td>No </td><td> 1</td><td>NA</td><td>⋯</td><td>fear of how far laws will go  and stigmatizingp -</td><td>Unsure</td><td>fear                                                                                                                             </td><td>No </td><td>NA</td><td>Yes</td><td>Yes</td><td>gov refuses to use evidenced based data                                                                                                              </td><td>limitations on providing harm Reduction services, syringe exchanges and safe injection sites in heavily using areas.                                                                                                                                                                                                                                                                                                                       </td><td>Complete  </td></tr>\n",
       "\t<tr><td>3sollenberger@gmail.com         </td><td>1294</td><td>Non-profit organization                  </td><td>NA</td><td>Pennsylvania        </td><td>15222</td><td>Urban   </td><td>No </td><td> 1</td><td> 1</td><td>⋯</td><td>NA                                               </td><td>Yes   </td><td>NA                                                                                                                               </td><td>No </td><td>NA</td><td>No </td><td>NA </td><td>NA                                                                                                                                                   </td><td>NA                                                                                                                                                                                                                                                                                                                                                                                                                                         </td><td>Complete  </td></tr>\n",
       "\t<tr><td>ASHLEY.HART@FLHEALTH.GOV        </td><td>794 </td><td>Government entity (Local, State, Federal)</td><td>NA</td><td>Florida             </td><td>32066</td><td>Rural   </td><td>No </td><td> 1</td><td> 1</td><td>⋯</td><td>NA                                               </td><td>Unsure</td><td>NA                                                                                                                               </td><td>No </td><td>NA</td><td>No </td><td>NA </td><td>NA                                                                                                                                                   </td><td>WE ARE A VERY SMALL CHD. WE HAVE A SMALL POPULATION AND IF TESTING IS SOUGHT USUALLY PTS WILL GO TO A LARGER CHD WHERE THEY CAN 1. STAY ANONYMOUS, 2 OBTAIN MEDICATIONS/TREATMENT ON SITE 3. SEE A PROVIDER WITH MORE RESOURCES. WE HAVE ONE PROVIDER BETWEEN 2 FACILITIES WHO IS AT OUR LARGER FACILITY 4 DAYS A WEEK AND 2.5 DAYS A MONTH AT OUR SMALL FACILITY. WE ARE CURENTLY SEEKING ANOTHER PROVIDER AS OUR CURRENT ONE IS RETIRING.</td><td>Complete  </td></tr>\n",
       "\t<tr><td>ASIMS@ABSOLUTECARE.COM          </td><td>1188</td><td>Private hospital/clinic setting          </td><td>NA</td><td>Louisiana           </td><td>70130</td><td>Urban   </td><td>Yes</td><td> 1</td><td>NA</td><td>⋯</td><td>NA                                               </td><td>Unsure</td><td>NA                                                                                                                               </td><td>No </td><td>NA</td><td>No </td><td>NA </td><td>NA                                                                                                                                                   </td><td>NA                                                                                                                                                                                                                                                                                                                                                                                                                                         </td><td>Complete  </td></tr>\n",
       "\t<tr><td>Adam.lake@pennmedicine.upenn.edu</td><td>901 </td><td>Academic hospital/clinic setting         </td><td>NA</td><td>Pennsylvania        </td><td>17602</td><td>Suburban</td><td>Yes</td><td> 1</td><td> 1</td><td>⋯</td><td>Worse mental health in trans community           </td><td>Yes   </td><td>Not sure where to start                                                                                                          </td><td>No </td><td>NA</td><td>Yes</td><td>Yes</td><td>I haven't been able to provide colocated services or openly partner with the harm reduction coalition due to my health system's concern over legality</td><td>NA                                                                                                                                                                                                                                                                                                                                                                                                                                         </td><td>Complete  </td></tr>\n",
       "\t<tr><td>Admin@connectdcare.com          </td><td>123 </td><td>Private practice                         </td><td>NA</td><td>Delaware            </td><td>19901</td><td>Rural   </td><td>No </td><td> 1</td><td> 1</td><td>⋯</td><td>Yes                                              </td><td>Yes   </td><td>It has                                                                                                                           </td><td>Yes</td><td>NA</td><td>Yes</td><td>Yes</td><td>It does                                                                                                                                              </td><td>NA                                                                                                                                                                                                                                                                                                                                                                                                                                         </td><td>Complete  </td></tr>\n",
       "\t<tr><td>Aevans@tulane.edu               </td><td>473 </td><td>Academic hospital/clinic setting         </td><td>NA</td><td>Louisiana           </td><td>71301</td><td>Suburban</td><td>Yes</td><td> 1</td><td> 1</td><td>⋯</td><td>NA                                               </td><td>Unsure</td><td>NA                                                                                                                               </td><td>No </td><td>NA</td><td>No </td><td>NA </td><td>NA                                                                                                                                                   </td><td>NA                                                                                                                                                                                                                                                                                                                                                                                                                                         </td><td>Complete  </td></tr>\n",
       "\t<tr><td>Agirmay@kintegra.org            </td><td>388 </td><td>Federally Qualified Health Center (FQHC) </td><td>NA</td><td>North Carolina      </td><td>28052</td><td>Suburban</td><td>Yes</td><td> 1</td><td> 1</td><td>⋯</td><td>NA                                               </td><td>Yes   </td><td>It is not right to deny healthcare because of their gender                                                                       </td><td>No </td><td>NA</td><td>No </td><td>NA </td><td>NA                                                                                                                                                   </td><td>No                                                                                                                                                                                                                                                                                                                                                                                                                                         </td><td>Complete  </td></tr>\n",
       "\t<tr><td>Ajefferson@hyacinth.org         </td><td>803 </td><td>AIDS Service Organization (ASO)          </td><td>NA</td><td>New Jersey          </td><td>7108 </td><td>Urban   </td><td>Yes</td><td>NA</td><td>NA</td><td>⋯</td><td>NA                                               </td><td>Unsure</td><td>I do not personally have a large list of transgender clients, therefore, it wouldn't be accurate if I answered either yes, or no.</td><td>No </td><td>NA</td><td>No </td><td>NA </td><td>NA                                                                                                                                                   </td><td>NA                                                                                                                                                                                                                                                                                                                                                                                                                                         </td><td>Incomplete</td></tr>\n",
       "</tbody>\n",
       "</table>\n"
      ],
      "text/latex": [
       "A tibble: 10 × 855\n",
       "\\begin{tabular}{lllllllllllllllllllll}\n",
       " email & Record\\_ID & Q1 & Q2 & Q3 & Q4 & Q5 & Q6 & Q7 & Q8 & ⋯ & Q810 & Q811 & Q812 & Q813 & Q814 & Q815 & Q816 & Q817 & Q818 & Q819\\\\\n",
       " <chr> & <chr> & <chr> & <chr> & <chr> & <chr> & <chr> & <chr> & <dbl> & <dbl> & ⋯ & <chr> & <chr> & <chr> & <chr> & <chr> & <chr> & <chr> & <chr> & <chr> & <chr>\\\\\n",
       "\\hline\n",
       "\t NA                               & NA   & NA                                        & NA & NA                   & NA    & NA       & NA  & NA & NA & ⋯ & NA                                                & NA     & NA                                                                                                                                & NA  & NA & NA  & NA  & NA                                                                                                                                                    & NA                                                                                                                                                                                                                                                                                                                                                                                                                                          & NA        \\\\\n",
       "\t 19tyler@gmail.com                & 422  & Non-profit organization                   & NA & District of Columbia & 20005 & Urban    & No  &  1 & NA & ⋯ & fear of how far laws will go  and stigmatizingp - & Unsure & fear                                                                                                                              & No  & NA & Yes & Yes & gov refuses to use evidenced based data                                                                                                               & limitations on providing harm Reduction services, syringe exchanges and safe injection sites in heavily using areas.                                                                                                                                                                                                                                                                                                                        & Complete  \\\\\n",
       "\t 3sollenberger@gmail.com          & 1294 & Non-profit organization                   & NA & Pennsylvania         & 15222 & Urban    & No  &  1 &  1 & ⋯ & NA                                                & Yes    & NA                                                                                                                                & No  & NA & No  & NA  & NA                                                                                                                                                    & NA                                                                                                                                                                                                                                                                                                                                                                                                                                          & Complete  \\\\\n",
       "\t ASHLEY.HART@FLHEALTH.GOV         & 794  & Government entity (Local, State, Federal) & NA & Florida              & 32066 & Rural    & No  &  1 &  1 & ⋯ & NA                                                & Unsure & NA                                                                                                                                & No  & NA & No  & NA  & NA                                                                                                                                                    & WE ARE A VERY SMALL CHD. WE HAVE A SMALL POPULATION AND IF TESTING IS SOUGHT USUALLY PTS WILL GO TO A LARGER CHD WHERE THEY CAN 1. STAY ANONYMOUS, 2 OBTAIN MEDICATIONS/TREATMENT ON SITE 3. SEE A PROVIDER WITH MORE RESOURCES. WE HAVE ONE PROVIDER BETWEEN 2 FACILITIES WHO IS AT OUR LARGER FACILITY 4 DAYS A WEEK AND 2.5 DAYS A MONTH AT OUR SMALL FACILITY. WE ARE CURENTLY SEEKING ANOTHER PROVIDER AS OUR CURRENT ONE IS RETIRING. & Complete  \\\\\n",
       "\t ASIMS@ABSOLUTECARE.COM           & 1188 & Private hospital/clinic setting           & NA & Louisiana            & 70130 & Urban    & Yes &  1 & NA & ⋯ & NA                                                & Unsure & NA                                                                                                                                & No  & NA & No  & NA  & NA                                                                                                                                                    & NA                                                                                                                                                                                                                                                                                                                                                                                                                                          & Complete  \\\\\n",
       "\t Adam.lake@pennmedicine.upenn.edu & 901  & Academic hospital/clinic setting          & NA & Pennsylvania         & 17602 & Suburban & Yes &  1 &  1 & ⋯ & Worse mental health in trans community            & Yes    & Not sure where to start                                                                                                           & No  & NA & Yes & Yes & I haven't been able to provide colocated services or openly partner with the harm reduction coalition due to my health system's concern over legality & NA                                                                                                                                                                                                                                                                                                                                                                                                                                          & Complete  \\\\\n",
       "\t Admin@connectdcare.com           & 123  & Private practice                          & NA & Delaware             & 19901 & Rural    & No  &  1 &  1 & ⋯ & Yes                                               & Yes    & It has                                                                                                                            & Yes & NA & Yes & Yes & It does                                                                                                                                               & NA                                                                                                                                                                                                                                                                                                                                                                                                                                          & Complete  \\\\\n",
       "\t Aevans@tulane.edu                & 473  & Academic hospital/clinic setting          & NA & Louisiana            & 71301 & Suburban & Yes &  1 &  1 & ⋯ & NA                                                & Unsure & NA                                                                                                                                & No  & NA & No  & NA  & NA                                                                                                                                                    & NA                                                                                                                                                                                                                                                                                                                                                                                                                                          & Complete  \\\\\n",
       "\t Agirmay@kintegra.org             & 388  & Federally Qualified Health Center (FQHC)  & NA & North Carolina       & 28052 & Suburban & Yes &  1 &  1 & ⋯ & NA                                                & Yes    & It is not right to deny healthcare because of their gender                                                                        & No  & NA & No  & NA  & NA                                                                                                                                                    & No                                                                                                                                                                                                                                                                                                                                                                                                                                          & Complete  \\\\\n",
       "\t Ajefferson@hyacinth.org          & 803  & AIDS Service Organization (ASO)           & NA & New Jersey           & 7108  & Urban    & Yes & NA & NA & ⋯ & NA                                                & Unsure & I do not personally have a large list of transgender clients, therefore, it wouldn't be accurate if I answered either yes, or no. & No  & NA & No  & NA  & NA                                                                                                                                                    & NA                                                                                                                                                                                                                                                                                                                                                                                                                                          & Incomplete\\\\\n",
       "\\end{tabular}\n"
      ],
      "text/markdown": [
       "\n",
       "A tibble: 10 × 855\n",
       "\n",
       "| email &lt;chr&gt; | Record_ID &lt;chr&gt; | Q1 &lt;chr&gt; | Q2 &lt;chr&gt; | Q3 &lt;chr&gt; | Q4 &lt;chr&gt; | Q5 &lt;chr&gt; | Q6 &lt;chr&gt; | Q7 &lt;dbl&gt; | Q8 &lt;dbl&gt; | ⋯ ⋯ | Q810 &lt;chr&gt; | Q811 &lt;chr&gt; | Q812 &lt;chr&gt; | Q813 &lt;chr&gt; | Q814 &lt;chr&gt; | Q815 &lt;chr&gt; | Q816 &lt;chr&gt; | Q817 &lt;chr&gt; | Q818 &lt;chr&gt; | Q819 &lt;chr&gt; |\n",
       "|---|---|---|---|---|---|---|---|---|---|---|---|---|---|---|---|---|---|---|---|---|\n",
       "| NA                               | NA   | NA                                        | NA | NA                   | NA    | NA       | NA  | NA | NA | ⋯ | NA                                                | NA     | NA                                                                                                                                | NA  | NA | NA  | NA  | NA                                                                                                                                                    | NA                                                                                                                                                                                                                                                                                                                                                                                                                                          | NA         |\n",
       "| 19tyler@gmail.com                | 422  | Non-profit organization                   | NA | District of Columbia | 20005 | Urban    | No  |  1 | NA | ⋯ | fear of how far laws will go  and stigmatizingp - | Unsure | fear                                                                                                                              | No  | NA | Yes | Yes | gov refuses to use evidenced based data                                                                                                               | limitations on providing harm Reduction services, syringe exchanges and safe injection sites in heavily using areas.                                                                                                                                                                                                                                                                                                                        | Complete   |\n",
       "| 3sollenberger@gmail.com          | 1294 | Non-profit organization                   | NA | Pennsylvania         | 15222 | Urban    | No  |  1 |  1 | ⋯ | NA                                                | Yes    | NA                                                                                                                                | No  | NA | No  | NA  | NA                                                                                                                                                    | NA                                                                                                                                                                                                                                                                                                                                                                                                                                          | Complete   |\n",
       "| ASHLEY.HART@FLHEALTH.GOV         | 794  | Government entity (Local, State, Federal) | NA | Florida              | 32066 | Rural    | No  |  1 |  1 | ⋯ | NA                                                | Unsure | NA                                                                                                                                | No  | NA | No  | NA  | NA                                                                                                                                                    | WE ARE A VERY SMALL CHD. WE HAVE A SMALL POPULATION AND IF TESTING IS SOUGHT USUALLY PTS WILL GO TO A LARGER CHD WHERE THEY CAN 1. STAY ANONYMOUS, 2 OBTAIN MEDICATIONS/TREATMENT ON SITE 3. SEE A PROVIDER WITH MORE RESOURCES. WE HAVE ONE PROVIDER BETWEEN 2 FACILITIES WHO IS AT OUR LARGER FACILITY 4 DAYS A WEEK AND 2.5 DAYS A MONTH AT OUR SMALL FACILITY. WE ARE CURENTLY SEEKING ANOTHER PROVIDER AS OUR CURRENT ONE IS RETIRING. | Complete   |\n",
       "| ASIMS@ABSOLUTECARE.COM           | 1188 | Private hospital/clinic setting           | NA | Louisiana            | 70130 | Urban    | Yes |  1 | NA | ⋯ | NA                                                | Unsure | NA                                                                                                                                | No  | NA | No  | NA  | NA                                                                                                                                                    | NA                                                                                                                                                                                                                                                                                                                                                                                                                                          | Complete   |\n",
       "| Adam.lake@pennmedicine.upenn.edu | 901  | Academic hospital/clinic setting          | NA | Pennsylvania         | 17602 | Suburban | Yes |  1 |  1 | ⋯ | Worse mental health in trans community            | Yes    | Not sure where to start                                                                                                           | No  | NA | Yes | Yes | I haven't been able to provide colocated services or openly partner with the harm reduction coalition due to my health system's concern over legality | NA                                                                                                                                                                                                                                                                                                                                                                                                                                          | Complete   |\n",
       "| Admin@connectdcare.com           | 123  | Private practice                          | NA | Delaware             | 19901 | Rural    | No  |  1 |  1 | ⋯ | Yes                                               | Yes    | It has                                                                                                                            | Yes | NA | Yes | Yes | It does                                                                                                                                               | NA                                                                                                                                                                                                                                                                                                                                                                                                                                          | Complete   |\n",
       "| Aevans@tulane.edu                | 473  | Academic hospital/clinic setting          | NA | Louisiana            | 71301 | Suburban | Yes |  1 |  1 | ⋯ | NA                                                | Unsure | NA                                                                                                                                | No  | NA | No  | NA  | NA                                                                                                                                                    | NA                                                                                                                                                                                                                                                                                                                                                                                                                                          | Complete   |\n",
       "| Agirmay@kintegra.org             | 388  | Federally Qualified Health Center (FQHC)  | NA | North Carolina       | 28052 | Suburban | Yes |  1 |  1 | ⋯ | NA                                                | Yes    | It is not right to deny healthcare because of their gender                                                                        | No  | NA | No  | NA  | NA                                                                                                                                                    | No                                                                                                                                                                                                                                                                                                                                                                                                                                          | Complete   |\n",
       "| Ajefferson@hyacinth.org          | 803  | AIDS Service Organization (ASO)           | NA | New Jersey           | 7108  | Urban    | Yes | NA | NA | ⋯ | NA                                                | Unsure | I do not personally have a large list of transgender clients, therefore, it wouldn't be accurate if I answered either yes, or no. | No  | NA | No  | NA  | NA                                                                                                                                                    | NA                                                                                                                                                                                                                                                                                                                                                                                                                                          | Incomplete |\n",
       "\n"
      ],
      "text/plain": [
       "   email                            Record_ID\n",
       "1  NA                               NA       \n",
       "2  19tyler@gmail.com                422      \n",
       "3  3sollenberger@gmail.com          1294     \n",
       "4  ASHLEY.HART@FLHEALTH.GOV         794      \n",
       "5  ASIMS@ABSOLUTECARE.COM           1188     \n",
       "6  Adam.lake@pennmedicine.upenn.edu 901      \n",
       "7  Admin@connectdcare.com           123      \n",
       "8  Aevans@tulane.edu                473      \n",
       "9  Agirmay@kintegra.org             388      \n",
       "10 Ajefferson@hyacinth.org          803      \n",
       "   Q1                                        Q2 Q3                   Q4   \n",
       "1  NA                                        NA NA                   NA   \n",
       "2  Non-profit organization                   NA District of Columbia 20005\n",
       "3  Non-profit organization                   NA Pennsylvania         15222\n",
       "4  Government entity (Local, State, Federal) NA Florida              32066\n",
       "5  Private hospital/clinic setting           NA Louisiana            70130\n",
       "6  Academic hospital/clinic setting          NA Pennsylvania         17602\n",
       "7  Private practice                          NA Delaware             19901\n",
       "8  Academic hospital/clinic setting          NA Louisiana            71301\n",
       "9  Federally Qualified Health Center (FQHC)  NA North Carolina       28052\n",
       "10 AIDS Service Organization (ASO)           NA New Jersey           7108 \n",
       "   Q5       Q6  Q7 Q8 ⋯ Q810                                             \n",
       "1  NA       NA  NA NA ⋯ NA                                               \n",
       "2  Urban    No   1 NA ⋯ fear of how far laws will go  and stigmatizingp -\n",
       "3  Urban    No   1  1 ⋯ NA                                               \n",
       "4  Rural    No   1  1 ⋯ NA                                               \n",
       "5  Urban    Yes  1 NA ⋯ NA                                               \n",
       "6  Suburban Yes  1  1 ⋯ Worse mental health in trans community           \n",
       "7  Rural    No   1  1 ⋯ Yes                                              \n",
       "8  Suburban Yes  1  1 ⋯ NA                                               \n",
       "9  Suburban Yes  1  1 ⋯ NA                                               \n",
       "10 Urban    Yes NA NA ⋯ NA                                               \n",
       "   Q811  \n",
       "1  NA    \n",
       "2  Unsure\n",
       "3  Yes   \n",
       "4  Unsure\n",
       "5  Unsure\n",
       "6  Yes   \n",
       "7  Yes   \n",
       "8  Unsure\n",
       "9  Yes   \n",
       "10 Unsure\n",
       "   Q812                                                                                                                             \n",
       "1  NA                                                                                                                               \n",
       "2  fear                                                                                                                             \n",
       "3  NA                                                                                                                               \n",
       "4  NA                                                                                                                               \n",
       "5  NA                                                                                                                               \n",
       "6  Not sure where to start                                                                                                          \n",
       "7  It has                                                                                                                           \n",
       "8  NA                                                                                                                               \n",
       "9  It is not right to deny healthcare because of their gender                                                                       \n",
       "10 I do not personally have a large list of transgender clients, therefore, it wouldn't be accurate if I answered either yes, or no.\n",
       "   Q813 Q814 Q815 Q816\n",
       "1  NA   NA   NA   NA  \n",
       "2  No   NA   Yes  Yes \n",
       "3  No   NA   No   NA  \n",
       "4  No   NA   No   NA  \n",
       "5  No   NA   No   NA  \n",
       "6  No   NA   Yes  Yes \n",
       "7  Yes  NA   Yes  Yes \n",
       "8  No   NA   No   NA  \n",
       "9  No   NA   No   NA  \n",
       "10 No   NA   No   NA  \n",
       "   Q817                                                                                                                                                 \n",
       "1  NA                                                                                                                                                   \n",
       "2  gov refuses to use evidenced based data                                                                                                              \n",
       "3  NA                                                                                                                                                   \n",
       "4  NA                                                                                                                                                   \n",
       "5  NA                                                                                                                                                   \n",
       "6  I haven't been able to provide colocated services or openly partner with the harm reduction coalition due to my health system's concern over legality\n",
       "7  It does                                                                                                                                              \n",
       "8  NA                                                                                                                                                   \n",
       "9  NA                                                                                                                                                   \n",
       "10 NA                                                                                                                                                   \n",
       "   Q818                                                                                                                                                                                                                                                                                                                                                                                                                                       \n",
       "1  NA                                                                                                                                                                                                                                                                                                                                                                                                                                         \n",
       "2  limitations on providing harm Reduction services, syringe exchanges and safe injection sites in heavily using areas.                                                                                                                                                                                                                                                                                                                       \n",
       "3  NA                                                                                                                                                                                                                                                                                                                                                                                                                                         \n",
       "4  WE ARE A VERY SMALL CHD. WE HAVE A SMALL POPULATION AND IF TESTING IS SOUGHT USUALLY PTS WILL GO TO A LARGER CHD WHERE THEY CAN 1. STAY ANONYMOUS, 2 OBTAIN MEDICATIONS/TREATMENT ON SITE 3. SEE A PROVIDER WITH MORE RESOURCES. WE HAVE ONE PROVIDER BETWEEN 2 FACILITIES WHO IS AT OUR LARGER FACILITY 4 DAYS A WEEK AND 2.5 DAYS A MONTH AT OUR SMALL FACILITY. WE ARE CURENTLY SEEKING ANOTHER PROVIDER AS OUR CURRENT ONE IS RETIRING.\n",
       "5  NA                                                                                                                                                                                                                                                                                                                                                                                                                                         \n",
       "6  NA                                                                                                                                                                                                                                                                                                                                                                                                                                         \n",
       "7  NA                                                                                                                                                                                                                                                                                                                                                                                                                                         \n",
       "8  NA                                                                                                                                                                                                                                                                                                                                                                                                                                         \n",
       "9  No                                                                                                                                                                                                                                                                                                                                                                                                                                         \n",
       "10 NA                                                                                                                                                                                                                                                                                                                                                                                                                                         \n",
       "   Q819      \n",
       "1  NA        \n",
       "2  Complete  \n",
       "3  Complete  \n",
       "4  Complete  \n",
       "5  Complete  \n",
       "6  Complete  \n",
       "7  Complete  \n",
       "8  Complete  \n",
       "9  Complete  \n",
       "10 Incomplete"
      ]
     },
     "metadata": {},
     "output_type": "display_data"
    }
   ],
   "source": [
    "# HIV providers\n",
    "HIV_providers <- final_data[final_data$Q22 == \"Yes\" | final_data$Q30 == \"Yes\" | final_data$Q32 == \"Yes\", ]\n",
    "head(HIV_providers, 10)"
   ]
  },
  {
   "cell_type": "markdown",
   "id": "a05ab11a-2715-4a67-a6b5-8797e2ced852",
   "metadata": {},
   "source": [
    "## Number of incomplete and complete responses among HIV providers"
   ]
  },
  {
   "cell_type": "code",
   "execution_count": 69,
   "id": "6d59b6e1-a90d-4126-a070-39fb9a235f14",
   "metadata": {},
   "outputs": [
    {
     "data": {
      "text/plain": [
       "\n",
       "  Complete Incomplete \n",
       "       760        271 "
      ]
     },
     "metadata": {},
     "output_type": "display_data"
    }
   ],
   "source": [
    "# Complete vs Incomplete among HIV providers\n",
    "table(HIV_providers$Q819)"
   ]
  },
  {
   "cell_type": "markdown",
   "id": "1156b20e-4040-4cd9-94b0-9c31086eb56c",
   "metadata": {},
   "source": [
    "## Descriptive Statistics among HIV providers"
   ]
  },
  {
   "cell_type": "markdown",
   "id": "67f821ed-4d29-4fa1-b5e6-9afb0aa63fc4",
   "metadata": {},
   "source": [
    "### Age counts among HIV providers"
   ]
  },
  {
   "cell_type": "code",
   "execution_count": 70,
   "id": "12e2acd3-9ac4-4ad3-96f1-b76a25afc809",
   "metadata": {
    "tags": []
   },
   "outputs": [
    {
     "data": {
      "text/plain": [
       "\n",
       "                18-24                 25-34                 35-44 \n",
       "                   31                   196                   239 \n",
       "                45-54                 55-64                    65 \n",
       "                  249                   204                    91 \n",
       "Prefer not to respond \n",
       "                   19 "
      ]
     },
     "metadata": {},
     "output_type": "display_data"
    }
   ],
   "source": [
    "## HIV providers - Age\n",
    "age_HIV <- table(HIV_providers$Q162)\n",
    "age_HIV"
   ]
  },
  {
   "cell_type": "markdown",
   "id": "9510f041-7675-495e-b094-ec1ac5fae3df",
   "metadata": {},
   "source": [
    "### Age percentages among HIV providers"
   ]
  },
  {
   "cell_type": "code",
   "execution_count": 71,
   "id": "27fc592f-3136-46c6-b7f9-c9db99041865",
   "metadata": {},
   "outputs": [
    {
     "data": {
      "text/plain": [
       "\n",
       "                18-24                 25-34                 35-44 \n",
       "             3.012634             19.047619             23.226433 \n",
       "                45-54                 55-64                    65 \n",
       "            24.198251             19.825073              8.843537 \n",
       "Prefer not to respond \n",
       "             1.846453 "
      ]
     },
     "metadata": {},
     "output_type": "display_data"
    }
   ],
   "source": [
    "age_perc_HIV <- prop.table(age_HIV)*100\n",
    "age_perc_HIV"
   ]
  },
  {
   "cell_type": "markdown",
   "id": "991b8128-2ed5-44b0-a4f9-01dcc0ef951a",
   "metadata": {},
   "source": [
    "### Gender counts among HIV providers"
   ]
  },
  {
   "cell_type": "code",
   "execution_count": 72,
   "id": "6dabd2fc-a7a4-4058-b77f-79f9a775f243",
   "metadata": {},
   "outputs": [
    {
     "data": {
      "text/plain": [
       "\n",
       "                                Female/Woman \n",
       "                                         636 \n",
       "Genderqueer/gender non-confirming/non-binary \n",
       "                                          64 \n",
       "                                    Male/Man \n",
       "                                         271 \n",
       "                       Prefer not to respond \n",
       "                                          17 \n",
       "                     Prefer to self-describe \n",
       "                                           9 \n",
       "                             Transgender man \n",
       "                                          18 \n",
       "                           Transgender woman \n",
       "                                          14 "
      ]
     },
     "metadata": {},
     "output_type": "display_data"
    }
   ],
   "source": [
    "## HIV providers - Gender\n",
    "gender_HIV<- table(HIV_providers$Q157)\n",
    "gender_HIV"
   ]
  },
  {
   "cell_type": "markdown",
   "id": "f8ef524a-c789-4fc6-a9df-50ee50ccbcdc",
   "metadata": {},
   "source": [
    "### Gender percentages among HIV providers"
   ]
  },
  {
   "cell_type": "code",
   "execution_count": 73,
   "id": "b46efb50-0426-4c0e-b1fe-b73dd22b91c2",
   "metadata": {},
   "outputs": [
    {
     "data": {
      "text/plain": [
       "\n",
       "                                Female/Woman \n",
       "                                  61.8075802 \n",
       "Genderqueer/gender non-confirming/non-binary \n",
       "                                   6.2196307 \n",
       "                                    Male/Man \n",
       "                                  26.3362488 \n",
       "                       Prefer not to respond \n",
       "                                   1.6520894 \n",
       "                     Prefer to self-describe \n",
       "                                   0.8746356 \n",
       "                             Transgender man \n",
       "                                   1.7492711 \n",
       "                           Transgender woman \n",
       "                                   1.3605442 "
      ]
     },
     "metadata": {},
     "output_type": "display_data"
    }
   ],
   "source": [
    "gender_perc_HIV <- prop.table(gender_HIV)*100\n",
    "gender_perc_HIV"
   ]
  },
  {
   "cell_type": "markdown",
   "id": "857cdbe4-2f2b-4d39-a7d6-19d1c505d7fb",
   "metadata": {},
   "source": [
    "### Race counts among HIV providers"
   ]
  },
  {
   "cell_type": "code",
   "execution_count": 74,
   "id": "8f2c6c52-b29d-4991-ac4c-42473a00a56f",
   "metadata": {},
   "outputs": [
    {
     "data": {
      "text/plain": [
       "\n",
       "        Asian and/or Asian American           Black or African American \n",
       "                                 26                                 250 \n",
       "                        Multiracial    Native American or Alaska Native \n",
       "                                 77                                  11 \n",
       "Native Hawaiian or Pacific Islander               Prefer not to respond \n",
       "                                  5                                  52 \n",
       "            Prefer to self-describe                  White or Caucasian \n",
       "                                 25                                 582 "
      ]
     },
     "metadata": {},
     "output_type": "display_data"
    }
   ],
   "source": [
    "## HIV providers - Race\n",
    "race_HIV <- table(HIV_providers$Q159)\n",
    "race_HIV"
   ]
  },
  {
   "cell_type": "markdown",
   "id": "177c1d38-b77c-4332-80de-10bbdc232a29",
   "metadata": {},
   "source": [
    "### Race percentages among HIV providers"
   ]
  },
  {
   "cell_type": "code",
   "execution_count": 75,
   "id": "3a3bda76-ef09-4743-93da-7e20b1ecd00c",
   "metadata": {},
   "outputs": [
    {
     "data": {
      "text/plain": [
       "\n",
       "        Asian and/or Asian American           Black or African American \n",
       "                          2.5291829                          24.3190661 \n",
       "                        Multiracial    Native American or Alaska Native \n",
       "                          7.4902724                           1.0700389 \n",
       "Native Hawaiian or Pacific Islander               Prefer not to respond \n",
       "                          0.4863813                           5.0583658 \n",
       "            Prefer to self-describe                  White or Caucasian \n",
       "                          2.4319066                          56.6147860 "
      ]
     },
     "metadata": {},
     "output_type": "display_data"
    }
   ],
   "source": [
    "race_perc_HIV <- prop.table(race_HIV)*100\n",
    "race_perc_HIV"
   ]
  },
  {
   "cell_type": "markdown",
   "id": "2f04e279-0356-4c56-a892-bf77e8127445",
   "metadata": {},
   "source": [
    "### Hispanic/Latinx counts among HIV providers"
   ]
  },
  {
   "cell_type": "code",
   "execution_count": 76,
   "id": "4df577a0-2bf5-4f3f-9c9c-73d2ec831a22",
   "metadata": {},
   "outputs": [
    {
     "data": {
      "text/plain": [
       "\n",
       "                   No Prefer not to respond                   Yes \n",
       "                  819                    19                   191 "
      ]
     },
     "metadata": {},
     "output_type": "display_data"
    }
   ],
   "source": [
    "## HIV providers - Hispanic/Latinx\n",
    "hisp_HIV <- table(HIV_providers$Q161)\n",
    "hisp_HIV"
   ]
  },
  {
   "cell_type": "markdown",
   "id": "f1c641e7-bf3d-4341-a5e3-1b670678d3bb",
   "metadata": {},
   "source": [
    "### Hispanic/Latinx percentages among HIV providers"
   ]
  },
  {
   "cell_type": "code",
   "execution_count": 77,
   "id": "a1aae31f-e185-4339-a30c-a6714a3074a3",
   "metadata": {},
   "outputs": [
    {
     "data": {
      "text/plain": [
       "\n",
       "                   No Prefer not to respond                   Yes \n",
       "            79.591837              1.846453             18.561710 "
      ]
     },
     "metadata": {},
     "output_type": "display_data"
    }
   ],
   "source": [
    "hisp_perc_HIV<- prop.table(hisp_HIV)*100\n",
    "hisp_perc_HIV"
   ]
  },
  {
   "cell_type": "markdown",
   "id": "44db962b-2b98-4bf7-a76e-1eb99f36d487",
   "metadata": {},
   "source": [
    "### Geographic counts among HIV providers"
   ]
  },
  {
   "cell_type": "code",
   "execution_count": 78,
   "id": "901ce7db-fb65-4b83-b300-092277238020",
   "metadata": {},
   "outputs": [
    {
     "data": {
      "text/plain": [
       "\n",
       "   Rural Suburban   Tribal    Urban \n",
       "     215      171        3      642 "
      ]
     },
     "metadata": {},
     "output_type": "display_data"
    }
   ],
   "source": [
    "geog_counts_HIV <- table(HIV_providers$Q5)\n",
    "geog_counts_HIV "
   ]
  },
  {
   "cell_type": "markdown",
   "id": "56118734-b165-4cdf-b7ab-ff658df0236a",
   "metadata": {},
   "source": [
    "### Geographic percentages among HIV providers"
   ]
  },
  {
   "cell_type": "code",
   "execution_count": 79,
   "id": "bc3e71b8-2dd2-429e-9351-b56040cec949",
   "metadata": {},
   "outputs": [
    {
     "data": {
      "text/plain": [
       "\n",
       "     Rural   Suburban     Tribal      Urban \n",
       "20.8535403 16.5858390  0.2909796 62.2696411 "
      ]
     },
     "metadata": {},
     "output_type": "display_data"
    }
   ],
   "source": [
    "geog_perc_HIV <- prop.table(geog_counts_HIV)*100\n",
    "geog_perc_HIV"
   ]
  },
  {
   "cell_type": "markdown",
   "id": "0a8c3f98-3b85-4249-a382-1798b25f52f5",
   "metadata": {},
   "source": [
    "### Setting counts among HIV providers"
   ]
  },
  {
   "cell_type": "code",
   "execution_count": 80,
   "id": "c8172564-4d87-4c7a-80b8-7b7b10009ac7",
   "metadata": {},
   "outputs": [
    {
     "data": {
      "text/plain": [
       "\n",
       "             Academic hospital/clinic setting \n",
       "                                           76 \n",
       "                        Advocacy organization \n",
       "                                            4 \n",
       "              AIDS Service Organization (ASO) \n",
       "                                          132 \n",
       "           Community Based Organization (CBO) \n",
       "                                          111 \n",
       "     Federally Qualified Health Center (FQHC) \n",
       "                                          134 \n",
       "    Government entity (Local, State, Federal) \n",
       "                                           95 \n",
       "               Health department (non-clinic) \n",
       "                                           39 \n",
       "Health department clinic/public health clinic \n",
       "                                          144 \n",
       "         LBGTQ Health Center/Community Center \n",
       "                                           51 \n",
       "                      Non-profit organization \n",
       "                                          140 \n",
       "                                        Other \n",
       "                                           21 \n",
       "                                     Pharmacy \n",
       "                                            7 \n",
       "              Private hospital/clinic setting \n",
       "                                           36 \n",
       "                             Private practice \n",
       "                                           14 \n",
       "             Substance use treatment facility \n",
       "                                            9 \n",
       "                           University/college \n",
       "                                           18 "
      ]
     },
     "metadata": {},
     "output_type": "display_data"
    }
   ],
   "source": [
    "setting_counts_HIV <- table(HIV_providers$Q1)\n",
    "setting_counts_HIV"
   ]
  },
  {
   "cell_type": "markdown",
   "id": "842ae590-7d1f-4800-9afa-9963da126a13",
   "metadata": {},
   "source": [
    "### Setting percentages among HIV providers"
   ]
  },
  {
   "cell_type": "code",
   "execution_count": 81,
   "id": "dd81bf09-4b16-4258-bd16-798567f58f3d",
   "metadata": {},
   "outputs": [
    {
     "data": {
      "text/plain": [
       "\n",
       "             Academic hospital/clinic setting \n",
       "                                    7.3714840 \n",
       "                        Advocacy organization \n",
       "                                    0.3879728 \n",
       "              AIDS Service Organization (ASO) \n",
       "                                   12.8031038 \n",
       "           Community Based Organization (CBO) \n",
       "                                   10.7662464 \n",
       "     Federally Qualified Health Center (FQHC) \n",
       "                                   12.9970902 \n",
       "    Government entity (Local, State, Federal) \n",
       "                                    9.2143550 \n",
       "               Health department (non-clinic) \n",
       "                                    3.7827352 \n",
       "Health department clinic/public health clinic \n",
       "                                   13.9670223 \n",
       "         LBGTQ Health Center/Community Center \n",
       "                                    4.9466537 \n",
       "                      Non-profit organization \n",
       "                                   13.5790495 \n",
       "                                        Other \n",
       "                                    2.0368574 \n",
       "                                     Pharmacy \n",
       "                                    0.6789525 \n",
       "              Private hospital/clinic setting \n",
       "                                    3.4917556 \n",
       "                             Private practice \n",
       "                                    1.3579049 \n",
       "             Substance use treatment facility \n",
       "                                    0.8729389 \n",
       "                           University/college \n",
       "                                    1.7458778 "
      ]
     },
     "metadata": {},
     "output_type": "display_data"
    }
   ],
   "source": [
    "setting_perc_HIV <- prop.table(setting_counts_HIV)*100\n",
    "setting_perc_HIV"
   ]
  },
  {
   "cell_type": "markdown",
   "id": "203bdd78-8dc7-4b0e-8178-cd63d9a6156a",
   "metadata": {},
   "source": [
    "### Role type counts among HIV providers - clinical vs non-clinical"
   ]
  },
  {
   "cell_type": "code",
   "execution_count": 82,
   "id": "9192b836-e9bf-4a11-afe0-9049ea18e803",
   "metadata": {},
   "outputs": [
    {
     "data": {
      "text/plain": [
       "\n",
       "    Clinical Non-clinical \n",
       "         344          686 "
      ]
     },
     "metadata": {},
     "output_type": "display_data"
    }
   ],
   "source": [
    "role_type_counts_HIV <- table(HIV_providers$Q65)\n",
    "role_type_counts_HIV"
   ]
  },
  {
   "cell_type": "markdown",
   "id": "56bcd7b7-e9bd-46fd-82ee-a9dae33b332a",
   "metadata": {},
   "source": [
    "### Role type percentages among HIV providers - clinical vs non-clinical"
   ]
  },
  {
   "cell_type": "code",
   "execution_count": 83,
   "id": "4aa47dbd-d2ce-40aa-a573-fddbedbe79b5",
   "metadata": {},
   "outputs": [
    {
     "data": {
      "text/plain": [
       "\n",
       "    Clinical Non-clinical \n",
       "    33.39806     66.60194 "
      ]
     },
     "metadata": {},
     "output_type": "display_data"
    }
   ],
   "source": [
    "role_type_perc_HIV <- prop.table(role_type_counts_HIV)*100\n",
    "role_type_perc_HIV"
   ]
  },
  {
   "cell_type": "markdown",
   "id": "185b43ee-512d-4eb3-9579-4f167e2e364e",
   "metadata": {},
   "source": [
    "### Clinical role counts among HIV providers"
   ]
  },
  {
   "cell_type": "code",
   "execution_count": 84,
   "id": "2d7f5483-034d-4d0f-b7ea-917bfde8633a",
   "metadata": {},
   "outputs": [
    {
     "data": {
      "text/plain": [
       "\n",
       "                             Dentist      Disease Intervention Specialist \n",
       "                                   2                                    1 \n",
       "     Licensed Clinical Social Worker             Licensed Practical Nurse \n",
       "                                  37                                   10 \n",
       "                   Medical Assistant           Mental Health Case Manager \n",
       "                                  10                                    3 \n",
       "             Mental Health Counselor           Mental Health Professional \n",
       "                                   1                                   12 \n",
       "                       Nurse Manager                        Nurse Midwife \n",
       "                                  18                                    1 \n",
       "                  Nurse Practitioner Other Provider/Clinical professional \n",
       "                                  68                                    7 \n",
       "                          Pharmacist                  Pharmacy Technician \n",
       "                                  16                                    3 \n",
       "                        Phlebotomist                            Physician \n",
       "                                   2                                   54 \n",
       "                 Physician Assistant                         Psychologist \n",
       "                                  11                                   14 \n",
       "                    Registered Nurse \n",
       "                                  73 "
      ]
     },
     "metadata": {},
     "output_type": "display_data"
    }
   ],
   "source": [
    "role_counts_HIV <- table(HIV_providers$Q66)\n",
    "role_counts_HIV"
   ]
  },
  {
   "cell_type": "markdown",
   "id": "46db5ecc-90d9-4da0-a036-cdcd9705fded",
   "metadata": {},
   "source": [
    "### Clinical role percentages among HIV providers"
   ]
  },
  {
   "cell_type": "code",
   "execution_count": 85,
   "id": "c79c90a1-016a-4835-9219-7647288a4aed",
   "metadata": {},
   "outputs": [
    {
     "data": {
      "text/plain": [
       "\n",
       "                             Dentist      Disease Intervention Specialist \n",
       "                           0.5830904                            0.2915452 \n",
       "     Licensed Clinical Social Worker             Licensed Practical Nurse \n",
       "                          10.7871720                            2.9154519 \n",
       "                   Medical Assistant           Mental Health Case Manager \n",
       "                           2.9154519                            0.8746356 \n",
       "             Mental Health Counselor           Mental Health Professional \n",
       "                           0.2915452                            3.4985423 \n",
       "                       Nurse Manager                        Nurse Midwife \n",
       "                           5.2478134                            0.2915452 \n",
       "                  Nurse Practitioner Other Provider/Clinical professional \n",
       "                          19.8250729                            2.0408163 \n",
       "                          Pharmacist                  Pharmacy Technician \n",
       "                           4.6647230                            0.8746356 \n",
       "                        Phlebotomist                            Physician \n",
       "                           0.5830904                           15.7434402 \n",
       "                 Physician Assistant                         Psychologist \n",
       "                           3.2069971                            4.0816327 \n",
       "                    Registered Nurse \n",
       "                          21.2827988 "
      ]
     },
     "metadata": {},
     "output_type": "display_data"
    }
   ],
   "source": [
    "role_perc_HIV <- prop.table(role_counts_HIV)*100\n",
    "role_perc_HIV"
   ]
  },
  {
   "cell_type": "markdown",
   "id": "75c8dacb-82e2-42a7-bc09-fab2c4969d34",
   "metadata": {},
   "source": [
    "### Non-clinical role counts among HIV providers"
   ]
  },
  {
   "cell_type": "code",
   "execution_count": 86,
   "id": "385a218d-ffae-40c2-a007-59ca83320d73",
   "metadata": {},
   "outputs": [
    {
     "data": {
      "text/plain": [
       "\n",
       "                         Administrator                               Advocate \n",
       "                                   157                                     15 \n",
       "     Case Manager/Medical case manager        Clergy/Faith-Based Professional \n",
       "                                   123                                      1 \n",
       "               Community Health Worker        Disease Intervention Specialist \n",
       "                                    64                                     37 \n",
       "                Finance/Fiscal Manager    Harm Reductionist/Risk Reductionist \n",
       "                                     2                                     32 \n",
       "             Health and Wellness Coach            Health Education Specialist \n",
       "                                     1                                     56 \n",
       "                      Health Navigator                HIV Linkage Coordinator \n",
       "                                    35                                      4 \n",
       "             HIV Retention Coordinator                             HIV Tester \n",
       "                                     3                                      4 \n",
       "                   Housing Coordinator                        Medical Billing \n",
       "                                     1                                      1 \n",
       "            Mental Health Case Manager             Mental Health Professional \n",
       "                                     2                                      4 \n",
       "            Non-clinical Social Worker        Other Non-clinical Professional \n",
       "                                    39                                     28 \n",
       "                       Outreach Worker                      Patient Navigator \n",
       "                                    36                                      1 \n",
       "                        Peer Navigator                         PrEP Navigator \n",
       "                                     3                                      1 \n",
       "            PrEP Navigator/Coordinator                    Program Coordinator \n",
       "                                     6                                      6 \n",
       "                      Program Director                        Program Manager \n",
       "                                     1                                      8 \n",
       "                            Researcher                                Student \n",
       "                                     7                                      1 \n",
       "Substance Abuse Counselor/Professional \n",
       "                                     5 "
      ]
     },
     "metadata": {},
     "output_type": "display_data"
    }
   ],
   "source": [
    "nonclinic_role_counts_HIV <- table(HIV_providers$Q71)\n",
    "nonclinic_role_counts_HIV"
   ]
  },
  {
   "cell_type": "markdown",
   "id": "841f271e-206f-4b71-bd70-2f26c8d39ab1",
   "metadata": {},
   "source": [
    "### Non-clinical role percentages among HIV providers"
   ]
  },
  {
   "cell_type": "code",
   "execution_count": 87,
   "id": "13282905-e0d2-4d8a-be4d-983faa374d01",
   "metadata": {},
   "outputs": [
    {
     "data": {
      "text/plain": [
       "\n",
       "                         Administrator                               Advocate \n",
       "                            22.9532164                              2.1929825 \n",
       "     Case Manager/Medical case manager        Clergy/Faith-Based Professional \n",
       "                            17.9824561                              0.1461988 \n",
       "               Community Health Worker        Disease Intervention Specialist \n",
       "                             9.3567251                              5.4093567 \n",
       "                Finance/Fiscal Manager    Harm Reductionist/Risk Reductionist \n",
       "                             0.2923977                              4.6783626 \n",
       "             Health and Wellness Coach            Health Education Specialist \n",
       "                             0.1461988                              8.1871345 \n",
       "                      Health Navigator                HIV Linkage Coordinator \n",
       "                             5.1169591                              0.5847953 \n",
       "             HIV Retention Coordinator                             HIV Tester \n",
       "                             0.4385965                              0.5847953 \n",
       "                   Housing Coordinator                        Medical Billing \n",
       "                             0.1461988                              0.1461988 \n",
       "            Mental Health Case Manager             Mental Health Professional \n",
       "                             0.2923977                              0.5847953 \n",
       "            Non-clinical Social Worker        Other Non-clinical Professional \n",
       "                             5.7017544                              4.0935673 \n",
       "                       Outreach Worker                      Patient Navigator \n",
       "                             5.2631579                              0.1461988 \n",
       "                        Peer Navigator                         PrEP Navigator \n",
       "                             0.4385965                              0.1461988 \n",
       "            PrEP Navigator/Coordinator                    Program Coordinator \n",
       "                             0.8771930                              0.8771930 \n",
       "                      Program Director                        Program Manager \n",
       "                             0.1461988                              1.1695906 \n",
       "                            Researcher                                Student \n",
       "                             1.0233918                              0.1461988 \n",
       "Substance Abuse Counselor/Professional \n",
       "                             0.7309942 "
      ]
     },
     "metadata": {},
     "output_type": "display_data"
    }
   ],
   "source": [
    "nonclinic_role_perc_HIV <- prop.table(nonclinic_role_counts_HIV)*100\n",
    "nonclinic_role_perc_HIV"
   ]
  },
  {
   "cell_type": "markdown",
   "id": "778638c5-8086-4add-bea4-ee41864fbd5c",
   "metadata": {},
   "source": [
    "### Years in role counts among HIV providers"
   ]
  },
  {
   "cell_type": "code",
   "execution_count": 88,
   "id": "f750d1db-9c31-4891-aa90-94d8ec5f1c5e",
   "metadata": {},
   "outputs": [
    {
     "data": {
      "text/plain": [
       "\n",
       "   <2 years 11-20 years   2-4 years   21+ years  5-10 years \n",
       "        285         150         219         157         219 "
      ]
     },
     "metadata": {},
     "output_type": "display_data"
    }
   ],
   "source": [
    "years_counts_HIV <- table(HIV_providers$Q94)\n",
    "years_counts_HIV"
   ]
  },
  {
   "cell_type": "markdown",
   "id": "e5cfb7af-606e-4d67-b7bb-dc30e019666c",
   "metadata": {},
   "source": [
    "### Years in role percentages among HIV providers"
   ]
  },
  {
   "cell_type": "code",
   "execution_count": 89,
   "id": "3d2c178b-cb87-45e0-be22-32cb93e5a5ed",
   "metadata": {},
   "outputs": [
    {
     "data": {
      "text/plain": [
       "\n",
       "   <2 years 11-20 years   2-4 years   21+ years  5-10 years \n",
       "   27.66990    14.56311    21.26214    15.24272    21.26214 "
      ]
     },
     "metadata": {},
     "output_type": "display_data"
    }
   ],
   "source": [
    "years_perc_HIV <- prop.table(years_counts_HIV)*100\n",
    "years_perc_HIV"
   ]
  },
  {
   "cell_type": "markdown",
   "id": "3f5b55a2-c729-4a6a-a282-a07a499d36d5",
   "metadata": {},
   "source": [
    "### Prescriber counts among HIV providers"
   ]
  },
  {
   "cell_type": "code",
   "execution_count": 90,
   "id": "2e7bbbef-3725-4da8-a594-c1466c6b9927",
   "metadata": {},
   "outputs": [
    {
     "data": {
      "text/plain": [
       "\n",
       " No Yes \n",
       "198 149 "
      ]
     },
     "metadata": {},
     "output_type": "display_data"
    }
   ],
   "source": [
    "prescriber_counts_HIV <- table(HIV_providers$Q70)\n",
    "prescriber_counts_HIV"
   ]
  },
  {
   "cell_type": "markdown",
   "id": "090c0e53-d09f-4424-81d5-b3242a056a9b",
   "metadata": {},
   "source": [
    "### Prescriber percentages among HIV providers"
   ]
  },
  {
   "cell_type": "code",
   "execution_count": 91,
   "id": "74a36766-2d25-4a2d-8a3b-ec0489759afb",
   "metadata": {},
   "outputs": [
    {
     "data": {
      "text/plain": [
       "\n",
       "      No      Yes \n",
       "57.06052 42.93948 "
      ]
     },
     "metadata": {},
     "output_type": "display_data"
    }
   ],
   "source": [
    "prescriber_perc_HIV <- prop.table(prescriber_counts_HIV)*100\n",
    "prescriber_perc_HIV"
   ]
  },
  {
   "cell_type": "markdown",
   "id": "8a295cce-7b86-43db-86a7-48190dceb858",
   "metadata": {},
   "source": [
    "### Onsite pharmacy counts among HIV providers"
   ]
  },
  {
   "cell_type": "code",
   "execution_count": 92,
   "id": "ff5c6ef4-f7b9-46c9-9c85-e3c338e94c08",
   "metadata": {},
   "outputs": [
    {
     "data": {
      "text/plain": [
       "\n",
       " No Yes \n",
       "613 418 "
      ]
     },
     "metadata": {},
     "output_type": "display_data"
    }
   ],
   "source": [
    "onsite_pharm_counts_HIV <- table(HIV_providers$Q6)\n",
    "onsite_pharm_counts_HIV"
   ]
  },
  {
   "cell_type": "markdown",
   "id": "ca58d355-4aa0-418f-af41-4026af933584",
   "metadata": {},
   "source": [
    "### Onsite pharmacy percentages among HIV providers"
   ]
  },
  {
   "cell_type": "code",
   "execution_count": 93,
   "id": "33b2244b-01a0-4e84-80f9-de91cbd541c5",
   "metadata": {},
   "outputs": [
    {
     "data": {
      "text/plain": [
       "\n",
       "      No      Yes \n",
       "59.45684 40.54316 "
      ]
     },
     "metadata": {},
     "output_type": "display_data"
    }
   ],
   "source": [
    "onsite_pharm_perc_HIV <- prop.table(onsite_pharm_counts_HIV)*100\n",
    "onsite_pharm_perc_HIV"
   ]
  },
  {
   "cell_type": "markdown",
   "id": "819b5bb1-b38e-4d77-8992-024c73d1c0c9",
   "metadata": {},
   "source": [
    "## HIV training statistics for HIV providers"
   ]
  },
  {
   "cell_type": "code",
   "execution_count": 94,
   "id": "80846c5b-8266-4a95-9b2d-f93eae81173a",
   "metadata": {},
   "outputs": [],
   "source": [
    "# HIV providers - Create a vector of column names representing the HIV topics columns\n",
    "hiv_topics_HIV <- c(\"Q198\", \"Q199\", \"Q200\", \"Q201\", \"Q202\",\"Q203\",\"Q204\",\"Q205\",\"Q206\",\"Q207\",\"Q208\",\"Q209\",\"Q210a\",\"Q210b\")"
   ]
  },
  {
   "cell_type": "markdown",
   "id": "5b09782e-c9d7-434a-a9a6-b086c1d411b7",
   "metadata": {},
   "source": [
    "### HIV topic with greatest number of 1st rankings among HIV providers"
   ]
  },
  {
   "cell_type": "code",
   "execution_count": 95,
   "id": "b5d2e44a-4432-4e24-8d8f-c58be57f49fb",
   "metadata": {},
   "outputs": [
    {
     "data": {
      "text/html": [
       "<style>\n",
       ".dl-inline {width: auto; margin:0; padding: 0}\n",
       ".dl-inline>dt, .dl-inline>dd {float: none; width: auto; display: inline-block}\n",
       ".dl-inline>dt::after {content: \":\\0020\"; padding-right: .5ex}\n",
       ".dl-inline>dt:not(:first-of-type) {padding-left: .5ex}\n",
       "</style><dl class=dl-inline><dt>Q198</dt><dd>181</dd><dt>Q199</dt><dd>83</dd><dt>Q200</dt><dd>76</dd><dt>Q201</dt><dd>18</dd><dt>Q202</dt><dd>21</dd><dt>Q203</dt><dd>37</dd><dt>Q204</dt><dd>34</dd><dt>Q205</dt><dd>49</dd><dt>Q206</dt><dd>49</dd><dt>Q207</dt><dd>6</dd><dt>Q208</dt><dd>12</dd><dt>Q209</dt><dd>12</dd><dt>Q210a</dt><dd>3</dd><dt>Q210b</dt><dd>1</dd></dl>\n"
      ],
      "text/latex": [
       "\\begin{description*}\n",
       "\\item[Q198] 181\n",
       "\\item[Q199] 83\n",
       "\\item[Q200] 76\n",
       "\\item[Q201] 18\n",
       "\\item[Q202] 21\n",
       "\\item[Q203] 37\n",
       "\\item[Q204] 34\n",
       "\\item[Q205] 49\n",
       "\\item[Q206] 49\n",
       "\\item[Q207] 6\n",
       "\\item[Q208] 12\n",
       "\\item[Q209] 12\n",
       "\\item[Q210a] 3\n",
       "\\item[Q210b] 1\n",
       "\\end{description*}\n"
      ],
      "text/markdown": [
       "Q198\n",
       ":   181Q199\n",
       ":   83Q200\n",
       ":   76Q201\n",
       ":   18Q202\n",
       ":   21Q203\n",
       ":   37Q204\n",
       ":   34Q205\n",
       ":   49Q206\n",
       ":   49Q207\n",
       ":   6Q208\n",
       ":   12Q209\n",
       ":   12Q210a\n",
       ":   3Q210b\n",
       ":   1\n",
       "\n"
      ],
      "text/plain": [
       " Q198  Q199  Q200  Q201  Q202  Q203  Q204  Q205  Q206  Q207  Q208  Q209 Q210a \n",
       "  181    83    76    18    21    37    34    49    49     6    12    12     3 \n",
       "Q210b \n",
       "    1 "
      ]
     },
     "metadata": {},
     "output_type": "display_data"
    }
   ],
   "source": [
    "# HIV providers - Calculate the counts of 1st rankings for each HIV topic\n",
    "hiv1_count_HIV <- sapply(hiv_topics_HIV, function(topic) sum(HIV_providers[[topic]] == 1, na.rm = TRUE))\n",
    "hiv1_count_HIV"
   ]
  },
  {
   "cell_type": "code",
   "execution_count": 96,
   "id": "1dd4c03e-d308-44d2-8c43-2638151d5e22",
   "metadata": {},
   "outputs": [
    {
     "data": {
      "text/html": [
       "'Q198'"
      ],
      "text/latex": [
       "'Q198'"
      ],
      "text/markdown": [
       "'Q198'"
      ],
      "text/plain": [
       "[1] \"Q198\""
      ]
     },
     "metadata": {},
     "output_type": "display_data"
    }
   ],
   "source": [
    "# HIV providers - Find the HIV topic with the highest count of 1st rankings\n",
    "hiv1_rank_HIV <- hiv_topics_HIV[which.max(hiv1_count_HIV)]\n",
    "hiv1_rank_HIV"
   ]
  },
  {
   "cell_type": "code",
   "execution_count": 97,
   "id": "5fbd70ac-eff5-4562-bbc7-664233f254f2",
   "metadata": {},
   "outputs": [
    {
     "data": {
      "text/html": [
       "<strong>Q198:</strong> 30.8347529812606"
      ],
      "text/latex": [
       "\\textbf{Q198:} 30.8347529812606"
      ],
      "text/markdown": [
       "**Q198:** 30.8347529812606"
      ],
      "text/plain": [
       "    Q198 \n",
       "30.83475 "
      ]
     },
     "metadata": {},
     "output_type": "display_data"
    }
   ],
   "source": [
    "# HIV providers - Calculate the percentage of 1st rankings\n",
    "hiv1_perc_HIV <- (hiv1_count_HIV[which.max(hiv1_count_HIV)] / sum(rowSums(!is.na(HIV_providers[, hiv_topics_HIV])) > 0)) * 100\n",
    "hiv1_perc_HIV"
   ]
  },
  {
   "cell_type": "markdown",
   "id": "707482a1-27ab-4b0a-a53f-1f755f3b4092",
   "metadata": {},
   "source": [
    "### HIV topic with greatest number of 2nd rankings among HIV providers"
   ]
  },
  {
   "cell_type": "code",
   "execution_count": 98,
   "id": "a99220ed-7de2-42c0-90eb-d4349bc6b374",
   "metadata": {},
   "outputs": [
    {
     "data": {
      "text/html": [
       "<style>\n",
       ".dl-inline {width: auto; margin:0; padding: 0}\n",
       ".dl-inline>dt, .dl-inline>dd {float: none; width: auto; display: inline-block}\n",
       ".dl-inline>dt::after {content: \":\\0020\"; padding-right: .5ex}\n",
       ".dl-inline>dt:not(:first-of-type) {padding-left: .5ex}\n",
       "</style><dl class=dl-inline><dt>Q198</dt><dd>61</dd><dt>Q199</dt><dd>89</dd><dt>Q200</dt><dd>76</dd><dt>Q201</dt><dd>27</dd><dt>Q202</dt><dd>44</dd><dt>Q203</dt><dd>52</dd><dt>Q204</dt><dd>48</dd><dt>Q205</dt><dd>49</dd><dt>Q206</dt><dd>56</dd><dt>Q207</dt><dd>15</dd><dt>Q208</dt><dd>19</dd><dt>Q209</dt><dd>2</dd><dt>Q210a</dt><dd>0</dd><dt>Q210b</dt><dd>1</dd></dl>\n"
      ],
      "text/latex": [
       "\\begin{description*}\n",
       "\\item[Q198] 61\n",
       "\\item[Q199] 89\n",
       "\\item[Q200] 76\n",
       "\\item[Q201] 27\n",
       "\\item[Q202] 44\n",
       "\\item[Q203] 52\n",
       "\\item[Q204] 48\n",
       "\\item[Q205] 49\n",
       "\\item[Q206] 56\n",
       "\\item[Q207] 15\n",
       "\\item[Q208] 19\n",
       "\\item[Q209] 2\n",
       "\\item[Q210a] 0\n",
       "\\item[Q210b] 1\n",
       "\\end{description*}\n"
      ],
      "text/markdown": [
       "Q198\n",
       ":   61Q199\n",
       ":   89Q200\n",
       ":   76Q201\n",
       ":   27Q202\n",
       ":   44Q203\n",
       ":   52Q204\n",
       ":   48Q205\n",
       ":   49Q206\n",
       ":   56Q207\n",
       ":   15Q208\n",
       ":   19Q209\n",
       ":   2Q210a\n",
       ":   0Q210b\n",
       ":   1\n",
       "\n"
      ],
      "text/plain": [
       " Q198  Q199  Q200  Q201  Q202  Q203  Q204  Q205  Q206  Q207  Q208  Q209 Q210a \n",
       "   61    89    76    27    44    52    48    49    56    15    19     2     0 \n",
       "Q210b \n",
       "    1 "
      ]
     },
     "metadata": {},
     "output_type": "display_data"
    }
   ],
   "source": [
    "# HIV providers - Calculate the counts of 2nd rankings for each HIV topic\n",
    "hiv2_count_HIV <- sapply(hiv_topics_HIV, function(topic) sum(HIV_providers[[topic]] == 2, na.rm = TRUE))\n",
    "hiv2_count_HIV"
   ]
  },
  {
   "cell_type": "code",
   "execution_count": 99,
   "id": "98bcd023-c80b-4561-89ed-07ff006d601c",
   "metadata": {},
   "outputs": [
    {
     "data": {
      "text/html": [
       "'Q199'"
      ],
      "text/latex": [
       "'Q199'"
      ],
      "text/markdown": [
       "'Q199'"
      ],
      "text/plain": [
       "[1] \"Q199\""
      ]
     },
     "metadata": {},
     "output_type": "display_data"
    }
   ],
   "source": [
    "# HIV providers - Find the HIV topic with the highest count of 2nd rankings\n",
    "hiv2_rank_HIV <- hiv_topics_HIV[which.max(hiv2_count_HIV)]\n",
    "hiv2_rank_HIV"
   ]
  },
  {
   "cell_type": "code",
   "execution_count": 100,
   "id": "fd1a4c6c-05f0-4ed2-ba0b-3572de0e2fd1",
   "metadata": {},
   "outputs": [
    {
     "data": {
      "text/html": [
       "<strong>Q199:</strong> 15.1618398637138"
      ],
      "text/latex": [
       "\\textbf{Q199:} 15.1618398637138"
      ],
      "text/markdown": [
       "**Q199:** 15.1618398637138"
      ],
      "text/plain": [
       "    Q199 \n",
       "15.16184 "
      ]
     },
     "metadata": {},
     "output_type": "display_data"
    }
   ],
   "source": [
    "# HIV providers - Calculate the percentage of 2nd ranking\n",
    "hiv2_perc_HIV <- (hiv2_count_HIV[which.max(hiv2_count_HIV)] / sum(rowSums(!is.na(HIV_providers[, hiv_topics_HIV])) > 0)) * 100\n",
    "hiv2_perc_HIV"
   ]
  },
  {
   "cell_type": "markdown",
   "id": "303dea10-e1ac-4581-8e2e-b1c92d2b27bb",
   "metadata": {},
   "source": [
    "### HIV topic with greatest number of 3rd rankings among HIV providers"
   ]
  },
  {
   "cell_type": "code",
   "execution_count": 101,
   "id": "cda12092-6f22-49a4-9b24-0409750a63e2",
   "metadata": {},
   "outputs": [
    {
     "data": {
      "text/html": [
       "<style>\n",
       ".dl-inline {width: auto; margin:0; padding: 0}\n",
       ".dl-inline>dt, .dl-inline>dd {float: none; width: auto; display: inline-block}\n",
       ".dl-inline>dt::after {content: \":\\0020\"; padding-right: .5ex}\n",
       ".dl-inline>dt:not(:first-of-type) {padding-left: .5ex}\n",
       "</style><dl class=dl-inline><dt>Q198</dt><dd>67</dd><dt>Q199</dt><dd>47</dd><dt>Q200</dt><dd>56</dd><dt>Q201</dt><dd>17</dd><dt>Q202</dt><dd>56</dd><dt>Q203</dt><dd>46</dd><dt>Q204</dt><dd>61</dd><dt>Q205</dt><dd>58</dd><dt>Q206</dt><dd>53</dd><dt>Q207</dt><dd>12</dd><dt>Q208</dt><dd>37</dd><dt>Q209</dt><dd>16</dd><dt>Q210a</dt><dd>2</dd><dt>Q210b</dt><dd>3</dd></dl>\n"
      ],
      "text/latex": [
       "\\begin{description*}\n",
       "\\item[Q198] 67\n",
       "\\item[Q199] 47\n",
       "\\item[Q200] 56\n",
       "\\item[Q201] 17\n",
       "\\item[Q202] 56\n",
       "\\item[Q203] 46\n",
       "\\item[Q204] 61\n",
       "\\item[Q205] 58\n",
       "\\item[Q206] 53\n",
       "\\item[Q207] 12\n",
       "\\item[Q208] 37\n",
       "\\item[Q209] 16\n",
       "\\item[Q210a] 2\n",
       "\\item[Q210b] 3\n",
       "\\end{description*}\n"
      ],
      "text/markdown": [
       "Q198\n",
       ":   67Q199\n",
       ":   47Q200\n",
       ":   56Q201\n",
       ":   17Q202\n",
       ":   56Q203\n",
       ":   46Q204\n",
       ":   61Q205\n",
       ":   58Q206\n",
       ":   53Q207\n",
       ":   12Q208\n",
       ":   37Q209\n",
       ":   16Q210a\n",
       ":   2Q210b\n",
       ":   3\n",
       "\n"
      ],
      "text/plain": [
       " Q198  Q199  Q200  Q201  Q202  Q203  Q204  Q205  Q206  Q207  Q208  Q209 Q210a \n",
       "   67    47    56    17    56    46    61    58    53    12    37    16     2 \n",
       "Q210b \n",
       "    3 "
      ]
     },
     "metadata": {},
     "output_type": "display_data"
    }
   ],
   "source": [
    "# HIV providers - Calculate the counts of 3rd rankings for each HIV topic\n",
    "hiv3_count_HIV <- sapply(hiv_topics_HIV, function(topic) sum(HIV_providers[[topic]] == 3, na.rm = TRUE))\n",
    "hiv3_count_HIV"
   ]
  },
  {
   "cell_type": "code",
   "execution_count": 102,
   "id": "a9f3a82a-dfe2-4348-add2-91ef4d8af59f",
   "metadata": {},
   "outputs": [
    {
     "data": {
      "text/html": [
       "'Q198'"
      ],
      "text/latex": [
       "'Q198'"
      ],
      "text/markdown": [
       "'Q198'"
      ],
      "text/plain": [
       "[1] \"Q198\""
      ]
     },
     "metadata": {},
     "output_type": "display_data"
    }
   ],
   "source": [
    "# HIV providers - Find the HIV topic with the highest count of 3rd rankings\n",
    "hiv3_rank_HIV <- hiv_topics_HIV[which.max(hiv3_count_HIV)]\n",
    "hiv3_rank_HIV"
   ]
  },
  {
   "cell_type": "code",
   "execution_count": 103,
   "id": "95ff16f8-ca84-41cd-88b7-c905b50df995",
   "metadata": {},
   "outputs": [
    {
     "data": {
      "text/html": [
       "<strong>Q198:</strong> 11.4139693356048"
      ],
      "text/latex": [
       "\\textbf{Q198:} 11.4139693356048"
      ],
      "text/markdown": [
       "**Q198:** 11.4139693356048"
      ],
      "text/plain": [
       "    Q198 \n",
       "11.41397 "
      ]
     },
     "metadata": {},
     "output_type": "display_data"
    }
   ],
   "source": [
    "# HIV providers - Calculate the percentage of 3rd rankings\n",
    "hiv3_perc_HIV <- (hiv3_count_HIV[which.max(hiv3_count_HIV)] / sum(rowSums(!is.na(HIV_providers[, hiv_topics_HIV])) > 0)) * 100\n",
    "hiv3_perc_HIV"
   ]
  },
  {
   "cell_type": "markdown",
   "id": "4b016ba8-a0e9-4826-876b-5f76fcdcbb6c",
   "metadata": {},
   "source": [
    "### Top 3 HIV topics among HIV providers"
   ]
  },
  {
   "cell_type": "code",
   "execution_count": 104,
   "id": "f114d5dd-7278-4796-b8b5-a0ac7624172e",
   "metadata": {},
   "outputs": [
    {
     "data": {
      "text/html": [
       "<style>\n",
       ".list-inline {list-style: none; margin:0; padding: 0}\n",
       ".list-inline>li {display: inline-block}\n",
       ".list-inline>li:not(:last-child)::after {content: \"\\00b7\"; padding: 0 .5ex}\n",
       "</style>\n",
       "<ol class=list-inline><li>'Q198'</li><li>'Q199'</li><li>'Q200'</li></ol>\n"
      ],
      "text/latex": [
       "\\begin{enumerate*}\n",
       "\\item 'Q198'\n",
       "\\item 'Q199'\n",
       "\\item 'Q200'\n",
       "\\end{enumerate*}\n"
      ],
      "text/markdown": [
       "1. 'Q198'\n",
       "2. 'Q199'\n",
       "3. 'Q200'\n",
       "\n",
       "\n"
      ],
      "text/plain": [
       "[1] \"Q198\" \"Q199\" \"Q200\""
      ]
     },
     "metadata": {},
     "output_type": "display_data"
    }
   ],
   "source": [
    "# Calculate the counts for each HIV topic\n",
    "hiv_topic_counts_HIV <- sapply(hiv_topics_HIV, function(topic) sum(HIV_providers[[topic]] %in% c(1, 2, 3), na.rm = TRUE))\n",
    "\n",
    "# Sort the topics based on their counts in descending order\n",
    "hiv_sorted_topics_HIV <- sort(hiv_topic_counts_HIV, decreasing = TRUE)\n",
    "\n",
    "# Get the top 3 topics\n",
    "top3_hiv_topics_HIV <- names(hiv_sorted_topics_HIV)[1:3]\n",
    "\n",
    "top3_hiv_topics_HIV"
   ]
  },
  {
   "cell_type": "markdown",
   "id": "2c56e147-361e-4e84-81f6-1206d32bd9e2",
   "metadata": {},
   "source": [
    "### Percentage of each top 3 HIV topic among HIV providers"
   ]
  },
  {
   "cell_type": "code",
   "execution_count": 105,
   "id": "9a4f3c50-346e-4c22-bc4d-7601c69c9b3f",
   "metadata": {},
   "outputs": [
    {
     "data": {
      "text/html": [
       "<strong>Q198:</strong> 52.6405451448041"
      ],
      "text/latex": [
       "\\textbf{Q198:} 52.6405451448041"
      ],
      "text/markdown": [
       "**Q198:** 52.6405451448041"
      ],
      "text/plain": [
       "    Q198 \n",
       "52.64055 "
      ]
     },
     "metadata": {},
     "output_type": "display_data"
    },
    {
     "data": {
      "text/html": [
       "<strong>Q199:</strong> 37.3083475298126"
      ],
      "text/latex": [
       "\\textbf{Q199:} 37.3083475298126"
      ],
      "text/markdown": [
       "**Q199:** 37.3083475298126"
      ],
      "text/plain": [
       "    Q199 \n",
       "37.30835 "
      ]
     },
     "metadata": {},
     "output_type": "display_data"
    },
    {
     "data": {
      "text/html": [
       "<strong>Q200:</strong> 35.4344122657581"
      ],
      "text/latex": [
       "\\textbf{Q200:} 35.4344122657581"
      ],
      "text/markdown": [
       "**Q200:** 35.4344122657581"
      ],
      "text/plain": [
       "    Q200 \n",
       "35.43441 "
      ]
     },
     "metadata": {},
     "output_type": "display_data"
    }
   ],
   "source": [
    "# Calculate the total count of respondents who provided a ranking (1, 2, or 3) for any of the HIV topic questions\n",
    "hiv_total_respondents_HIV <- sum(rowSums(!is.na(HIV_providers[, hiv_topics_HIV])) > 0)\n",
    "\n",
    "# Calculate the percentage for the first top3_hiv_topics_HIV\n",
    "hiv1_percentage_HIV <- (hiv_sorted_topics_HIV[1] / hiv_total_respondents_HIV) * 100\n",
    "\n",
    "# Calculate the percentage for the second top3_hiv_topics_HIV\n",
    "hiv2_percentage_HIV <- (hiv_sorted_topics_HIV[2] / hiv_total_respondents_HIV) * 100\n",
    "\n",
    "# Calculate the percentage for the third top3_hiv_topics_HIV\n",
    "hiv3_percentage_HIV <- (hiv_sorted_topics_HIV[3] / hiv_total_respondents_HIV) * 100\n",
    "\n",
    "# Print the results\n",
    "hiv1_percentage_HIV\n",
    "hiv2_percentage_HIV\n",
    "hiv3_percentage_HIV"
   ]
  },
  {
   "cell_type": "markdown",
   "id": "72b82e0b-e489-4465-af0f-3bbc793e50c2",
   "metadata": {},
   "source": [
    "## Prep training statistics for HIV providers"
   ]
  },
  {
   "cell_type": "code",
   "execution_count": 106,
   "id": "2fd28da8-41db-4169-82c7-af5fa19cb2e8",
   "metadata": {},
   "outputs": [],
   "source": [
    "# HIV providers - Create a vector of column names representing the PrEP topics columns\n",
    "prep_topics_HIV <- c(\"Q211\", \"Q212\", \"Q213\", \"Q214\", \"Q215\",\"Q216\",\"Q217\",\"Q218\",\"Q219\",\"Q220\",\"Q221\",\"Q222\",\"Q223\",\"Q224\",\"Q225\")"
   ]
  },
  {
   "cell_type": "markdown",
   "id": "52538310-d1f0-48c3-865a-0fa260e17da1",
   "metadata": {},
   "source": [
    "### PrEP topic with greatest number of 1st rankings among HIV providers"
   ]
  },
  {
   "cell_type": "code",
   "execution_count": 107,
   "id": "fced2864-7edd-4ed8-b1a1-53fab5d34e85",
   "metadata": {},
   "outputs": [
    {
     "data": {
      "text/html": [
       "<style>\n",
       ".dl-inline {width: auto; margin:0; padding: 0}\n",
       ".dl-inline>dt, .dl-inline>dd {float: none; width: auto; display: inline-block}\n",
       ".dl-inline>dt::after {content: \":\\0020\"; padding-right: .5ex}\n",
       ".dl-inline>dt:not(:first-of-type) {padding-left: .5ex}\n",
       "</style><dl class=dl-inline><dt>Q211</dt><dd>124</dd><dt>Q212</dt><dd>73</dd><dt>Q213</dt><dd>62</dd><dt>Q214</dt><dd>108</dd><dt>Q215</dt><dd>11</dd><dt>Q216</dt><dd>22</dd><dt>Q217</dt><dd>20</dd><dt>Q218</dt><dd>48</dd><dt>Q219</dt><dd>37</dd><dt>Q220</dt><dd>31</dd><dt>Q221</dt><dd>19</dd><dt>Q222</dt><dd>29</dd><dt>Q223</dt><dd>36</dd><dt>Q224</dt><dd>12</dd><dt>Q225</dt><dd>3</dd></dl>\n"
      ],
      "text/latex": [
       "\\begin{description*}\n",
       "\\item[Q211] 124\n",
       "\\item[Q212] 73\n",
       "\\item[Q213] 62\n",
       "\\item[Q214] 108\n",
       "\\item[Q215] 11\n",
       "\\item[Q216] 22\n",
       "\\item[Q217] 20\n",
       "\\item[Q218] 48\n",
       "\\item[Q219] 37\n",
       "\\item[Q220] 31\n",
       "\\item[Q221] 19\n",
       "\\item[Q222] 29\n",
       "\\item[Q223] 36\n",
       "\\item[Q224] 12\n",
       "\\item[Q225] 3\n",
       "\\end{description*}\n"
      ],
      "text/markdown": [
       "Q211\n",
       ":   124Q212\n",
       ":   73Q213\n",
       ":   62Q214\n",
       ":   108Q215\n",
       ":   11Q216\n",
       ":   22Q217\n",
       ":   20Q218\n",
       ":   48Q219\n",
       ":   37Q220\n",
       ":   31Q221\n",
       ":   19Q222\n",
       ":   29Q223\n",
       ":   36Q224\n",
       ":   12Q225\n",
       ":   3\n",
       "\n"
      ],
      "text/plain": [
       "Q211 Q212 Q213 Q214 Q215 Q216 Q217 Q218 Q219 Q220 Q221 Q222 Q223 Q224 Q225 \n",
       " 124   73   62  108   11   22   20   48   37   31   19   29   36   12    3 "
      ]
     },
     "metadata": {},
     "output_type": "display_data"
    }
   ],
   "source": [
    "# HIV providers - Calculate the counts of 1st rankings for each PrEP topic\n",
    "prep1_count_HIV <- sapply(prep_topics_HIV, function(topic) sum(HIV_providers[[topic]] == 1, na.rm = TRUE))\n",
    "prep1_count_HIV"
   ]
  },
  {
   "cell_type": "code",
   "execution_count": 108,
   "id": "8674c653-e070-4075-8cbe-cfbaf1e55913",
   "metadata": {},
   "outputs": [
    {
     "data": {
      "text/html": [
       "'Q211'"
      ],
      "text/latex": [
       "'Q211'"
      ],
      "text/markdown": [
       "'Q211'"
      ],
      "text/plain": [
       "[1] \"Q211\""
      ]
     },
     "metadata": {},
     "output_type": "display_data"
    }
   ],
   "source": [
    "# HIV providers - Find the PrEP topic with the highest count of 1st rankings\n",
    "prep1_rank_HIV <- prep_topics_HIV[which.max(prep1_count_HIV)]\n",
    "prep1_rank_HIV"
   ]
  },
  {
   "cell_type": "code",
   "execution_count": 109,
   "id": "4f225678-0d94-4ee3-bfc0-fe2b9eda314d",
   "metadata": {},
   "outputs": [
    {
     "data": {
      "text/html": [
       "<strong>Q211:</strong> 19.2846034214619"
      ],
      "text/latex": [
       "\\textbf{Q211:} 19.2846034214619"
      ],
      "text/markdown": [
       "**Q211:** 19.2846034214619"
      ],
      "text/plain": [
       "   Q211 \n",
       "19.2846 "
      ]
     },
     "metadata": {},
     "output_type": "display_data"
    }
   ],
   "source": [
    "# HIV providers - Calculate the percentage of 1st rankings\n",
    "prep1_perc_HIV <- (prep1_count_HIV[which.max(prep1_count_HIV)] / sum(rowSums(!is.na(HIV_providers[, prep_topics_HIV])) > 0)) * 100\n",
    "prep1_perc_HIV"
   ]
  },
  {
   "cell_type": "markdown",
   "id": "3355e078-a116-4677-81b1-fd821787dada",
   "metadata": {},
   "source": [
    "### PrEP topic with greatest number of 2nd rankings among HIV providers"
   ]
  },
  {
   "cell_type": "code",
   "execution_count": 110,
   "id": "1b96d46d-697f-46f1-94ed-086b8effd158",
   "metadata": {},
   "outputs": [
    {
     "data": {
      "text/html": [
       "<style>\n",
       ".dl-inline {width: auto; margin:0; padding: 0}\n",
       ".dl-inline>dt, .dl-inline>dd {float: none; width: auto; display: inline-block}\n",
       ".dl-inline>dt::after {content: \":\\0020\"; padding-right: .5ex}\n",
       ".dl-inline>dt:not(:first-of-type) {padding-left: .5ex}\n",
       "</style><dl class=dl-inline><dt>Q211</dt><dd>29</dd><dt>Q212</dt><dd>70</dd><dt>Q213</dt><dd>53</dd><dt>Q214</dt><dd>80</dd><dt>Q215</dt><dd>26</dd><dt>Q216</dt><dd>34</dd><dt>Q217</dt><dd>37</dd><dt>Q218</dt><dd>77</dd><dt>Q219</dt><dd>50</dd><dt>Q220</dt><dd>39</dd><dt>Q221</dt><dd>24</dd><dt>Q222</dt><dd>27</dd><dt>Q223</dt><dd>41</dd><dt>Q224</dt><dd>15</dd><dt>Q225</dt><dd>0</dd></dl>\n"
      ],
      "text/latex": [
       "\\begin{description*}\n",
       "\\item[Q211] 29\n",
       "\\item[Q212] 70\n",
       "\\item[Q213] 53\n",
       "\\item[Q214] 80\n",
       "\\item[Q215] 26\n",
       "\\item[Q216] 34\n",
       "\\item[Q217] 37\n",
       "\\item[Q218] 77\n",
       "\\item[Q219] 50\n",
       "\\item[Q220] 39\n",
       "\\item[Q221] 24\n",
       "\\item[Q222] 27\n",
       "\\item[Q223] 41\n",
       "\\item[Q224] 15\n",
       "\\item[Q225] 0\n",
       "\\end{description*}\n"
      ],
      "text/markdown": [
       "Q211\n",
       ":   29Q212\n",
       ":   70Q213\n",
       ":   53Q214\n",
       ":   80Q215\n",
       ":   26Q216\n",
       ":   34Q217\n",
       ":   37Q218\n",
       ":   77Q219\n",
       ":   50Q220\n",
       ":   39Q221\n",
       ":   24Q222\n",
       ":   27Q223\n",
       ":   41Q224\n",
       ":   15Q225\n",
       ":   0\n",
       "\n"
      ],
      "text/plain": [
       "Q211 Q212 Q213 Q214 Q215 Q216 Q217 Q218 Q219 Q220 Q221 Q222 Q223 Q224 Q225 \n",
       "  29   70   53   80   26   34   37   77   50   39   24   27   41   15    0 "
      ]
     },
     "metadata": {},
     "output_type": "display_data"
    }
   ],
   "source": [
    "# HIV providers - Calculate the counts of 2nd rankings for each PrEP topic\n",
    "prep2_count_HIV <- sapply(prep_topics_HIV, function(topic) sum(HIV_providers[[topic]] == 2, na.rm = TRUE))\n",
    "prep2_count_HIV"
   ]
  },
  {
   "cell_type": "code",
   "execution_count": 111,
   "id": "8789cce8-f266-4f00-8b68-227cd9f684a4",
   "metadata": {},
   "outputs": [
    {
     "data": {
      "text/html": [
       "'Q214'"
      ],
      "text/latex": [
       "'Q214'"
      ],
      "text/markdown": [
       "'Q214'"
      ],
      "text/plain": [
       "[1] \"Q214\""
      ]
     },
     "metadata": {},
     "output_type": "display_data"
    }
   ],
   "source": [
    "# HIV providers - Find the PrEP topic with the highest count of 2nd rankings\n",
    "prep2_rank_HIV <- prep_topics_HIV[which.max(prep2_count_HIV)]\n",
    "prep2_rank_HIV"
   ]
  },
  {
   "cell_type": "code",
   "execution_count": 112,
   "id": "15206fb5-6792-452a-a707-247378817090",
   "metadata": {},
   "outputs": [
    {
     "data": {
      "text/html": [
       "<strong>Q214:</strong> 12.4416796267496"
      ],
      "text/latex": [
       "\\textbf{Q214:} 12.4416796267496"
      ],
      "text/markdown": [
       "**Q214:** 12.4416796267496"
      ],
      "text/plain": [
       "    Q214 \n",
       "12.44168 "
      ]
     },
     "metadata": {},
     "output_type": "display_data"
    }
   ],
   "source": [
    "# HIV providers - Calculate the percentage of 2nd ranking\n",
    "prep2_perc_HIV <- (prep2_count_HIV[which.max(prep2_count_HIV)] / sum(rowSums(!is.na(HIV_providers[, prep_topics_HIV])) > 0)) * 100\n",
    "prep2_perc_HIV"
   ]
  },
  {
   "cell_type": "markdown",
   "id": "3326c80d-c907-4730-86e8-7cd2fe6682d0",
   "metadata": {},
   "source": [
    "### PrEP topic with greatest number of 3rd rankings among HIV providers"
   ]
  },
  {
   "cell_type": "code",
   "execution_count": 113,
   "id": "b89ff3fb-ba42-4e46-bb03-5a0c58465bc6",
   "metadata": {},
   "outputs": [
    {
     "data": {
      "text/html": [
       "<style>\n",
       ".dl-inline {width: auto; margin:0; padding: 0}\n",
       ".dl-inline>dt, .dl-inline>dd {float: none; width: auto; display: inline-block}\n",
       ".dl-inline>dt::after {content: \":\\0020\"; padding-right: .5ex}\n",
       ".dl-inline>dt:not(:first-of-type) {padding-left: .5ex}\n",
       "</style><dl class=dl-inline><dt>Q211</dt><dd>44</dd><dt>Q212</dt><dd>21</dd><dt>Q213</dt><dd>43</dd><dt>Q214</dt><dd>52</dd><dt>Q215</dt><dd>18</dd><dt>Q216</dt><dd>35</dd><dt>Q217</dt><dd>38</dd><dt>Q218</dt><dd>69</dd><dt>Q219</dt><dd>26</dd><dt>Q220</dt><dd>66</dd><dt>Q221</dt><dd>42</dd><dt>Q222</dt><dd>46</dd><dt>Q223</dt><dd>42</dd><dt>Q224</dt><dd>41</dd><dt>Q225</dt><dd>5</dd></dl>\n"
      ],
      "text/latex": [
       "\\begin{description*}\n",
       "\\item[Q211] 44\n",
       "\\item[Q212] 21\n",
       "\\item[Q213] 43\n",
       "\\item[Q214] 52\n",
       "\\item[Q215] 18\n",
       "\\item[Q216] 35\n",
       "\\item[Q217] 38\n",
       "\\item[Q218] 69\n",
       "\\item[Q219] 26\n",
       "\\item[Q220] 66\n",
       "\\item[Q221] 42\n",
       "\\item[Q222] 46\n",
       "\\item[Q223] 42\n",
       "\\item[Q224] 41\n",
       "\\item[Q225] 5\n",
       "\\end{description*}\n"
      ],
      "text/markdown": [
       "Q211\n",
       ":   44Q212\n",
       ":   21Q213\n",
       ":   43Q214\n",
       ":   52Q215\n",
       ":   18Q216\n",
       ":   35Q217\n",
       ":   38Q218\n",
       ":   69Q219\n",
       ":   26Q220\n",
       ":   66Q221\n",
       ":   42Q222\n",
       ":   46Q223\n",
       ":   42Q224\n",
       ":   41Q225\n",
       ":   5\n",
       "\n"
      ],
      "text/plain": [
       "Q211 Q212 Q213 Q214 Q215 Q216 Q217 Q218 Q219 Q220 Q221 Q222 Q223 Q224 Q225 \n",
       "  44   21   43   52   18   35   38   69   26   66   42   46   42   41    5 "
      ]
     },
     "metadata": {},
     "output_type": "display_data"
    }
   ],
   "source": [
    "# HIV providers - Calculate the counts of 3rd rankings for each PrEP topic\n",
    "prep3_count_HIV <- sapply(prep_topics_HIV, function(topic) sum(HIV_providers[[topic]] == 3, na.rm = TRUE))\n",
    "prep3_count_HIV"
   ]
  },
  {
   "cell_type": "code",
   "execution_count": 114,
   "id": "5e3548da-4452-4d1a-ad70-d57191aaff69",
   "metadata": {},
   "outputs": [
    {
     "data": {
      "text/html": [
       "'Q218'"
      ],
      "text/latex": [
       "'Q218'"
      ],
      "text/markdown": [
       "'Q218'"
      ],
      "text/plain": [
       "[1] \"Q218\""
      ]
     },
     "metadata": {},
     "output_type": "display_data"
    }
   ],
   "source": [
    "# HIV providers - Find the PrEP topic with the highest count of 3rd rankings\n",
    "prep3_rank_HIV <- prep_topics_HIV[which.max(prep3_count_HIV)]\n",
    "prep3_rank_HIV"
   ]
  },
  {
   "cell_type": "code",
   "execution_count": 115,
   "id": "ef5934cc-f9cf-47ca-9b19-dfa969cbc4a0",
   "metadata": {},
   "outputs": [
    {
     "data": {
      "text/html": [
       "<strong>Q218:</strong> 10.7309486780715"
      ],
      "text/latex": [
       "\\textbf{Q218:} 10.7309486780715"
      ],
      "text/markdown": [
       "**Q218:** 10.7309486780715"
      ],
      "text/plain": [
       "    Q218 \n",
       "10.73095 "
      ]
     },
     "metadata": {},
     "output_type": "display_data"
    }
   ],
   "source": [
    "# HIV providers - Calculate the percentage of 3rd rankings\n",
    "prep3_perc_HIV <- (prep3_count_HIV[which.max(prep3_count_HIV)] / sum(rowSums(!is.na(HIV_providers[, prep_topics_HIV])) > 0)) * 100\n",
    "prep3_perc_HIV"
   ]
  },
  {
   "cell_type": "markdown",
   "id": "95de923b-8d96-4250-90d2-35083c654ad4",
   "metadata": {},
   "source": [
    "### Top 3 PrEP topics among HIV providers"
   ]
  },
  {
   "cell_type": "code",
   "execution_count": 116,
   "id": "3fde3ccc-ac53-4aeb-aed3-93786c265d05",
   "metadata": {},
   "outputs": [
    {
     "data": {
      "text/html": [
       "<style>\n",
       ".list-inline {list-style: none; margin:0; padding: 0}\n",
       ".list-inline>li {display: inline-block}\n",
       ".list-inline>li:not(:last-child)::after {content: \"\\00b7\"; padding: 0 .5ex}\n",
       "</style>\n",
       "<ol class=list-inline><li>'Q214'</li><li>'Q211'</li><li>'Q218'</li></ol>\n"
      ],
      "text/latex": [
       "\\begin{enumerate*}\n",
       "\\item 'Q214'\n",
       "\\item 'Q211'\n",
       "\\item 'Q218'\n",
       "\\end{enumerate*}\n"
      ],
      "text/markdown": [
       "1. 'Q214'\n",
       "2. 'Q211'\n",
       "3. 'Q218'\n",
       "\n",
       "\n"
      ],
      "text/plain": [
       "[1] \"Q214\" \"Q211\" \"Q218\""
      ]
     },
     "metadata": {},
     "output_type": "display_data"
    }
   ],
   "source": [
    "# Calculate the counts for each PrEP topic\n",
    "prep_topic_counts_HIV <- sapply(prep_topics_HIV, function(topic) sum(HIV_providers[[topic]] %in% c(1, 2, 3), na.rm = TRUE))\n",
    "\n",
    "# Sort the topics based on their counts in descending order\n",
    "prep_sorted_topics_HIV <- sort(prep_topic_counts_HIV, decreasing = TRUE)\n",
    "\n",
    "# Get the top 3 topics\n",
    "top3_prep_topics_HIV <- names(prep_sorted_topics_HIV)[1:3]\n",
    "\n",
    "top3_prep_topics_HIV"
   ]
  },
  {
   "cell_type": "markdown",
   "id": "1e2a5399-6f0c-4a35-9a22-77a31532597d",
   "metadata": {},
   "source": [
    "### Percentage of each top 3 PrEP topic among HIV providers"
   ]
  },
  {
   "cell_type": "code",
   "execution_count": 117,
   "id": "e4a800ca-2004-4205-a1aa-e08a67780f2c",
   "metadata": {},
   "outputs": [
    {
     "data": {
      "text/html": [
       "<strong>Q214:</strong> 37.3250388802488"
      ],
      "text/latex": [
       "\\textbf{Q214:} 37.3250388802488"
      ],
      "text/markdown": [
       "**Q214:** 37.3250388802488"
      ],
      "text/plain": [
       "    Q214 \n",
       "37.32504 "
      ]
     },
     "metadata": {},
     "output_type": "display_data"
    },
    {
     "data": {
      "text/html": [
       "<strong>Q211:</strong> 30.6376360808709"
      ],
      "text/latex": [
       "\\textbf{Q211:} 30.6376360808709"
      ],
      "text/markdown": [
       "**Q211:** 30.6376360808709"
      ],
      "text/plain": [
       "    Q211 \n",
       "30.63764 "
      ]
     },
     "metadata": {},
     "output_type": "display_data"
    },
    {
     "data": {
      "text/html": [
       "<strong>Q218:</strong> 30.1710730948678"
      ],
      "text/latex": [
       "\\textbf{Q218:} 30.1710730948678"
      ],
      "text/markdown": [
       "**Q218:** 30.1710730948678"
      ],
      "text/plain": [
       "    Q218 \n",
       "30.17107 "
      ]
     },
     "metadata": {},
     "output_type": "display_data"
    }
   ],
   "source": [
    "# Calculate the total count of respondents who provided a ranking (1, 2, or 3) for any of the HIV topic questions\n",
    "prep_total_respondents_HIV <- sum(rowSums(!is.na(HIV_providers[, prep_topics_HIV])) > 0)\n",
    "\n",
    "# Calculate the percentage for the first top3_hiv_topics_HIV\n",
    "prep1_percentage_HIV <- (prep_sorted_topics_HIV[1] / prep_total_respondents_HIV) * 100\n",
    "\n",
    "# Calculate the percentage for the second top3_hiv_topics_HIV\n",
    "prep2_percentage_HIV <- (prep_sorted_topics_HIV[2] / prep_total_respondents_HIV) * 100\n",
    "\n",
    "# Calculate the percentage for the third top3_hiv_topics_HIV\n",
    "prep3_percentage_HIV <- (prep_sorted_topics_HIV[3] / prep_total_respondents_HIV) * 100\n",
    "\n",
    "# Print the results\n",
    "prep1_percentage_HIV\n",
    "prep2_percentage_HIV\n",
    "prep3_percentage_HIV"
   ]
  },
  {
   "cell_type": "markdown",
   "id": "68ba1988-9e08-4ab6-a134-a1c2e0330162",
   "metadata": {},
   "source": [
    "## LGBTQ training statistcis for HIV providers"
   ]
  },
  {
   "cell_type": "code",
   "execution_count": 118,
   "id": "cb17fabc-a833-4265-b9ff-0e0091a63f19",
   "metadata": {},
   "outputs": [],
   "source": [
    "# Create a vector of column names representing the LGBTQ topics columns\n",
    "lgbtq_topics_HIV <- c(\"Q227\", \"Q228\", \"Q229\", \"Q230\", \"Q231\",\"Q232\",\"Q233\",\"Q234\",\"Q235\")"
   ]
  },
  {
   "cell_type": "markdown",
   "id": "98331a5f-dc04-4922-ab4c-c787d4176fbe",
   "metadata": {},
   "source": [
    "### LGBTQ topic with greatest number of 1st rankings among HIV providers"
   ]
  },
  {
   "cell_type": "code",
   "execution_count": 119,
   "id": "243fa0d2-5d83-4d07-8523-f10eeffcbbd7",
   "metadata": {},
   "outputs": [
    {
     "data": {
      "text/html": [
       "<style>\n",
       ".dl-inline {width: auto; margin:0; padding: 0}\n",
       ".dl-inline>dt, .dl-inline>dd {float: none; width: auto; display: inline-block}\n",
       ".dl-inline>dt::after {content: \":\\0020\"; padding-right: .5ex}\n",
       ".dl-inline>dt:not(:first-of-type) {padding-left: .5ex}\n",
       "</style><dl class=dl-inline><dt>Q227</dt><dd>132</dd><dt>Q228</dt><dd>186</dd><dt>Q229</dt><dd>113</dd><dt>Q230</dt><dd>110</dd><dt>Q231</dt><dd>29</dd><dt>Q232</dt><dd>63</dd><dt>Q233</dt><dd>112</dd><dt>Q234</dt><dd>109</dd><dt>Q235</dt><dd>11</dd></dl>\n"
      ],
      "text/latex": [
       "\\begin{description*}\n",
       "\\item[Q227] 132\n",
       "\\item[Q228] 186\n",
       "\\item[Q229] 113\n",
       "\\item[Q230] 110\n",
       "\\item[Q231] 29\n",
       "\\item[Q232] 63\n",
       "\\item[Q233] 112\n",
       "\\item[Q234] 109\n",
       "\\item[Q235] 11\n",
       "\\end{description*}\n"
      ],
      "text/markdown": [
       "Q227\n",
       ":   132Q228\n",
       ":   186Q229\n",
       ":   113Q230\n",
       ":   110Q231\n",
       ":   29Q232\n",
       ":   63Q233\n",
       ":   112Q234\n",
       ":   109Q235\n",
       ":   11\n",
       "\n"
      ],
      "text/plain": [
       "Q227 Q228 Q229 Q230 Q231 Q232 Q233 Q234 Q235 \n",
       " 132  186  113  110   29   63  112  109   11 "
      ]
     },
     "metadata": {},
     "output_type": "display_data"
    }
   ],
   "source": [
    "# HIV providers - Calculate the counts of 1st rankings for each LGBTQ topic\n",
    "lgbtq1_count_HIV <- sapply(lgbtq_topics_HIV, function(topic) sum(HIV_providers[[topic]] == 1, na.rm = TRUE))\n",
    "lgbtq1_count_HIV"
   ]
  },
  {
   "cell_type": "code",
   "execution_count": 120,
   "id": "6de65039-a834-4b59-b185-2e7e17055925",
   "metadata": {},
   "outputs": [
    {
     "data": {
      "text/html": [
       "'Q228'"
      ],
      "text/latex": [
       "'Q228'"
      ],
      "text/markdown": [
       "'Q228'"
      ],
      "text/plain": [
       "[1] \"Q228\""
      ]
     },
     "metadata": {},
     "output_type": "display_data"
    }
   ],
   "source": [
    "# HIV providers - Find the LGBTQ topic with the highest count of 1st rankings\n",
    "lgbtq1_rank_HIV <- lgbtq_topics_HIV[which.max(lgbtq1_count_HIV)]\n",
    "lgbtq1_rank_HIV"
   ]
  },
  {
   "cell_type": "code",
   "execution_count": 121,
   "id": "b7ed403f-78e3-41e1-b26d-bf6371bf182d",
   "metadata": {},
   "outputs": [
    {
     "data": {
      "text/html": [
       "<strong>Q228:</strong> 21.2086659064994"
      ],
      "text/latex": [
       "\\textbf{Q228:} 21.2086659064994"
      ],
      "text/markdown": [
       "**Q228:** 21.2086659064994"
      ],
      "text/plain": [
       "    Q228 \n",
       "21.20867 "
      ]
     },
     "metadata": {},
     "output_type": "display_data"
    }
   ],
   "source": [
    "# HIV providers - Calculate the percentage of 1st rankings\n",
    "lgbtq1_perc_HIV <- (lgbtq1_count_HIV[which.max(lgbtq1_count_HIV)] / sum(rowSums(!is.na(HIV_providers[, lgbtq_topics_HIV])) > 0)) * 100\n",
    "lgbtq1_perc_HIV"
   ]
  },
  {
   "cell_type": "markdown",
   "id": "3c75a39f-6994-4fc9-aab1-d2047794aa66",
   "metadata": {},
   "source": [
    "### LGBTQ topic with greatest number of 2nd rankings among HIV providers"
   ]
  },
  {
   "cell_type": "code",
   "execution_count": 122,
   "id": "dbbbcacc-190b-469e-ade0-a27351876f6e",
   "metadata": {},
   "outputs": [
    {
     "data": {
      "text/html": [
       "<style>\n",
       ".dl-inline {width: auto; margin:0; padding: 0}\n",
       ".dl-inline>dt, .dl-inline>dd {float: none; width: auto; display: inline-block}\n",
       ".dl-inline>dt::after {content: \":\\0020\"; padding-right: .5ex}\n",
       ".dl-inline>dt:not(:first-of-type) {padding-left: .5ex}\n",
       "</style><dl class=dl-inline><dt>Q227</dt><dd>63</dd><dt>Q228</dt><dd>114</dd><dt>Q229</dt><dd>99</dd><dt>Q230</dt><dd>142</dd><dt>Q231</dt><dd>58</dd><dt>Q232</dt><dd>73</dd><dt>Q233</dt><dd>128</dd><dt>Q234</dt><dd>134</dd><dt>Q235</dt><dd>3</dd></dl>\n"
      ],
      "text/latex": [
       "\\begin{description*}\n",
       "\\item[Q227] 63\n",
       "\\item[Q228] 114\n",
       "\\item[Q229] 99\n",
       "\\item[Q230] 142\n",
       "\\item[Q231] 58\n",
       "\\item[Q232] 73\n",
       "\\item[Q233] 128\n",
       "\\item[Q234] 134\n",
       "\\item[Q235] 3\n",
       "\\end{description*}\n"
      ],
      "text/markdown": [
       "Q227\n",
       ":   63Q228\n",
       ":   114Q229\n",
       ":   99Q230\n",
       ":   142Q231\n",
       ":   58Q232\n",
       ":   73Q233\n",
       ":   128Q234\n",
       ":   134Q235\n",
       ":   3\n",
       "\n"
      ],
      "text/plain": [
       "Q227 Q228 Q229 Q230 Q231 Q232 Q233 Q234 Q235 \n",
       "  63  114   99  142   58   73  128  134    3 "
      ]
     },
     "metadata": {},
     "output_type": "display_data"
    }
   ],
   "source": [
    "# HIV providers - Calculate the counts of 2nd rankings for each LGBTQ topic\n",
    "lgbtq2_count_HIV <- sapply(lgbtq_topics_HIV, function(topic) sum(HIV_providers[[topic]] == 2, na.rm = TRUE))\n",
    "lgbtq2_count_HIV"
   ]
  },
  {
   "cell_type": "code",
   "execution_count": 123,
   "id": "2fdc52e2-350e-41c1-986d-238f860b63aa",
   "metadata": {},
   "outputs": [
    {
     "data": {
      "text/html": [
       "'Q230'"
      ],
      "text/latex": [
       "'Q230'"
      ],
      "text/markdown": [
       "'Q230'"
      ],
      "text/plain": [
       "[1] \"Q230\""
      ]
     },
     "metadata": {},
     "output_type": "display_data"
    }
   ],
   "source": [
    "# HIV providers - Find the LGBTQ topic with the highest count of 2nd rankings\n",
    "lgbtq2_rank_HIV <- lgbtq_topics_HIV[which.max(lgbtq2_count_HIV)]\n",
    "lgbtq2_rank_HIV"
   ]
  },
  {
   "cell_type": "code",
   "execution_count": 124,
   "id": "89d4b32e-09a2-48e2-8774-e74f1a633a3b",
   "metadata": {},
   "outputs": [
    {
     "data": {
      "text/html": [
       "<strong>Q230:</strong> 16.1915621436716"
      ],
      "text/latex": [
       "\\textbf{Q230:} 16.1915621436716"
      ],
      "text/markdown": [
       "**Q230:** 16.1915621436716"
      ],
      "text/plain": [
       "    Q230 \n",
       "16.19156 "
      ]
     },
     "metadata": {},
     "output_type": "display_data"
    }
   ],
   "source": [
    "# HIV providers - Calculate the percentage of 2nd rankings\n",
    "lgbtq2_perc_HIV <- (lgbtq2_count_HIV[which.max(lgbtq2_count_HIV)] / sum(rowSums(!is.na(HIV_providers[, lgbtq_topics_HIV])) > 0)) * 100\n",
    "lgbtq2_perc_HIV"
   ]
  },
  {
   "cell_type": "markdown",
   "id": "937e5f6f-f99a-45a4-805e-ba1257fb416f",
   "metadata": {},
   "source": [
    "### LGBTQ topic with greatest number of 3rd rankings among HIV providers"
   ]
  },
  {
   "cell_type": "code",
   "execution_count": 125,
   "id": "1e83d878-4656-4d19-88ee-e19701d2ca89",
   "metadata": {},
   "outputs": [
    {
     "data": {
      "text/html": [
       "<style>\n",
       ".dl-inline {width: auto; margin:0; padding: 0}\n",
       ".dl-inline>dt, .dl-inline>dd {float: none; width: auto; display: inline-block}\n",
       ".dl-inline>dt::after {content: \":\\0020\"; padding-right: .5ex}\n",
       ".dl-inline>dt:not(:first-of-type) {padding-left: .5ex}\n",
       "</style><dl class=dl-inline><dt>Q227</dt><dd>74</dd><dt>Q228</dt><dd>115</dd><dt>Q229</dt><dd>69</dd><dt>Q230</dt><dd>115</dd><dt>Q231</dt><dd>63</dd><dt>Q232</dt><dd>60</dd><dt>Q233</dt><dd>104</dd><dt>Q234</dt><dd>177</dd><dt>Q235</dt><dd>13</dd></dl>\n"
      ],
      "text/latex": [
       "\\begin{description*}\n",
       "\\item[Q227] 74\n",
       "\\item[Q228] 115\n",
       "\\item[Q229] 69\n",
       "\\item[Q230] 115\n",
       "\\item[Q231] 63\n",
       "\\item[Q232] 60\n",
       "\\item[Q233] 104\n",
       "\\item[Q234] 177\n",
       "\\item[Q235] 13\n",
       "\\end{description*}\n"
      ],
      "text/markdown": [
       "Q227\n",
       ":   74Q228\n",
       ":   115Q229\n",
       ":   69Q230\n",
       ":   115Q231\n",
       ":   63Q232\n",
       ":   60Q233\n",
       ":   104Q234\n",
       ":   177Q235\n",
       ":   13\n",
       "\n"
      ],
      "text/plain": [
       "Q227 Q228 Q229 Q230 Q231 Q232 Q233 Q234 Q235 \n",
       "  74  115   69  115   63   60  104  177   13 "
      ]
     },
     "metadata": {},
     "output_type": "display_data"
    }
   ],
   "source": [
    "# HIV providers - Calculate the counts of 3rd rankings for each LGBTQ topic\n",
    "lgbtq3_count_HIV <- sapply(lgbtq_topics_HIV, function(topic) sum(HIV_providers[[topic]] == 3, na.rm = TRUE))\n",
    "lgbtq3_count_HIV"
   ]
  },
  {
   "cell_type": "code",
   "execution_count": 126,
   "id": "6cfff153-b270-4b12-81fb-16dba02a77f0",
   "metadata": {},
   "outputs": [
    {
     "data": {
      "text/html": [
       "'Q234'"
      ],
      "text/latex": [
       "'Q234'"
      ],
      "text/markdown": [
       "'Q234'"
      ],
      "text/plain": [
       "[1] \"Q234\""
      ]
     },
     "metadata": {},
     "output_type": "display_data"
    }
   ],
   "source": [
    "# HIV providers - Find the LGBTQ topic with the highest count of 3rd rankings\n",
    "lgbtq3_rank_HIV <- lgbtq_topics_HIV[which.max(lgbtq3_count_HIV)]\n",
    "lgbtq3_rank_HIV"
   ]
  },
  {
   "cell_type": "code",
   "execution_count": 127,
   "id": "764a7dc9-89f7-47f1-9d2a-b879d7502752",
   "metadata": {},
   "outputs": [
    {
     "data": {
      "text/html": [
       "<strong>Q234:</strong> 20.1824401368301"
      ],
      "text/latex": [
       "\\textbf{Q234:} 20.1824401368301"
      ],
      "text/markdown": [
       "**Q234:** 20.1824401368301"
      ],
      "text/plain": [
       "    Q234 \n",
       "20.18244 "
      ]
     },
     "metadata": {},
     "output_type": "display_data"
    }
   ],
   "source": [
    "# HIV providers - Calculate the percentage of 3rd rankings\n",
    "lgbtq3_perc_HIV <- (lgbtq3_count_HIV[which.max(lgbtq3_count_HIV)] / sum(rowSums(!is.na(HIV_providers[, lgbtq_topics_HIV])) > 0)) * 100\n",
    "lgbtq3_perc_HIV"
   ]
  },
  {
   "cell_type": "markdown",
   "id": "5aa064e5-3571-4402-84d2-6c669620fd49",
   "metadata": {},
   "source": [
    "### Top 3 LGBTQ topics among HIV providers"
   ]
  },
  {
   "cell_type": "code",
   "execution_count": 128,
   "id": "733a271c-4bef-45be-b044-52b8d8175288",
   "metadata": {},
   "outputs": [
    {
     "data": {
      "text/html": [
       "<style>\n",
       ".list-inline {list-style: none; margin:0; padding: 0}\n",
       ".list-inline>li {display: inline-block}\n",
       ".list-inline>li:not(:last-child)::after {content: \"\\00b7\"; padding: 0 .5ex}\n",
       "</style>\n",
       "<ol class=list-inline><li>'Q234'</li><li>'Q228'</li><li>'Q230'</li></ol>\n"
      ],
      "text/latex": [
       "\\begin{enumerate*}\n",
       "\\item 'Q234'\n",
       "\\item 'Q228'\n",
       "\\item 'Q230'\n",
       "\\end{enumerate*}\n"
      ],
      "text/markdown": [
       "1. 'Q234'\n",
       "2. 'Q228'\n",
       "3. 'Q230'\n",
       "\n",
       "\n"
      ],
      "text/plain": [
       "[1] \"Q234\" \"Q228\" \"Q230\""
      ]
     },
     "metadata": {},
     "output_type": "display_data"
    }
   ],
   "source": [
    "# Calculate the counts for each LGBTQ topic\n",
    "lgbtq_topic_counts_HIV <- sapply(lgbtq_topics_HIV, function(topic) sum(HIV_providers[[topic]] %in% c(1, 2, 3), na.rm = TRUE))\n",
    "\n",
    "# Sort the topics based on their counts in descending order\n",
    "lgbtq_sorted_topics_HIV <- sort(lgbtq_topic_counts_HIV, decreasing = TRUE)\n",
    "\n",
    "# Get the top 3 topics\n",
    "top3_lgbtq_topics_HIV <- names(lgbtq_sorted_topics_HIV)[1:3]\n",
    "top3_lgbtq_topics_HIV"
   ]
  },
  {
   "cell_type": "markdown",
   "id": "efe35f1b-ac2d-4dde-b6bb-e9ff119dc3a1",
   "metadata": {},
   "source": [
    "### Percentage of each top 3 LGBTQ topic among HIV providers"
   ]
  },
  {
   "cell_type": "code",
   "execution_count": 129,
   "id": "4e075c73-2589-488e-b512-29def30aa42e",
   "metadata": {},
   "outputs": [
    {
     "data": {
      "text/html": [
       "<strong>Q234:</strong> 47.8905359179019"
      ],
      "text/latex": [
       "\\textbf{Q234:} 47.8905359179019"
      ],
      "text/markdown": [
       "**Q234:** 47.8905359179019"
      ],
      "text/plain": [
       "    Q234 \n",
       "47.89054 "
      ]
     },
     "metadata": {},
     "output_type": "display_data"
    },
    {
     "data": {
      "text/html": [
       "<strong>Q228:</strong> 47.3204104903079"
      ],
      "text/latex": [
       "\\textbf{Q228:} 47.3204104903079"
      ],
      "text/markdown": [
       "**Q228:** 47.3204104903079"
      ],
      "text/plain": [
       "    Q228 \n",
       "47.32041 "
      ]
     },
     "metadata": {},
     "output_type": "display_data"
    },
    {
     "data": {
      "text/html": [
       "<strong>Q230:</strong> 41.8472063854048"
      ],
      "text/latex": [
       "\\textbf{Q230:} 41.8472063854048"
      ],
      "text/markdown": [
       "**Q230:** 41.8472063854048"
      ],
      "text/plain": [
       "    Q230 \n",
       "41.84721 "
      ]
     },
     "metadata": {},
     "output_type": "display_data"
    }
   ],
   "source": [
    "# Calculate the total count of respondents who provided a ranking (1, 2, or 3) for any of the HIV topic questions\n",
    "lgbtq_total_respondents_HIV <- sum(rowSums(!is.na(HIV_providers[, lgbtq_topics_HIV])) > 0)\n",
    "\n",
    "# Calculate the percentage for the first top3_hiv_topics_HIV\n",
    "lgbtq1_percentage_HIV <- (lgbtq_sorted_topics_HIV[1] / lgbtq_total_respondents_HIV) * 100\n",
    "\n",
    "# Calculate the percentage for the second top3_hiv_topics_HIV\n",
    "lgbtq2_percentage_HIV <- (lgbtq_sorted_topics_HIV[2] / lgbtq_total_respondents_HIV) * 100\n",
    "\n",
    "# Calculate the percentage for the third top3_hiv_topics_HIV\n",
    "lgbtq3_percentage_HIV <- (lgbtq_sorted_topics_HIV[3] / lgbtq_total_respondents_HIV) * 100\n",
    "\n",
    "# Print the results\n",
    "lgbtq1_percentage_HIV\n",
    "lgbtq2_percentage_HIV\n",
    "lgbtq3_percentage_HIV"
   ]
  },
  {
   "cell_type": "markdown",
   "id": "97d5d2f3-4746-4d10-a337-98531bf7fda6",
   "metadata": {},
   "source": [
    "## Identifying LGBTQ providers"
   ]
  },
  {
   "cell_type": "code",
   "execution_count": 130,
   "id": "d21cef9c-9d15-444c-9e7a-ff4d79fef1a5",
   "metadata": {},
   "outputs": [
    {
     "data": {
      "text/html": [
       "<table class=\"dataframe\">\n",
       "<caption>A tibble: 10 × 855</caption>\n",
       "<thead>\n",
       "\t<tr><th scope=col>email</th><th scope=col>Record_ID</th><th scope=col>Q1</th><th scope=col>Q2</th><th scope=col>Q3</th><th scope=col>Q4</th><th scope=col>Q5</th><th scope=col>Q6</th><th scope=col>Q7</th><th scope=col>Q8</th><th scope=col>⋯</th><th scope=col>Q810</th><th scope=col>Q811</th><th scope=col>Q812</th><th scope=col>Q813</th><th scope=col>Q814</th><th scope=col>Q815</th><th scope=col>Q816</th><th scope=col>Q817</th><th scope=col>Q818</th><th scope=col>Q819</th></tr>\n",
       "\t<tr><th scope=col>&lt;chr&gt;</th><th scope=col>&lt;chr&gt;</th><th scope=col>&lt;chr&gt;</th><th scope=col>&lt;chr&gt;</th><th scope=col>&lt;chr&gt;</th><th scope=col>&lt;chr&gt;</th><th scope=col>&lt;chr&gt;</th><th scope=col>&lt;chr&gt;</th><th scope=col>&lt;dbl&gt;</th><th scope=col>&lt;dbl&gt;</th><th scope=col>⋯</th><th scope=col>&lt;chr&gt;</th><th scope=col>&lt;chr&gt;</th><th scope=col>&lt;chr&gt;</th><th scope=col>&lt;chr&gt;</th><th scope=col>&lt;chr&gt;</th><th scope=col>&lt;chr&gt;</th><th scope=col>&lt;chr&gt;</th><th scope=col>&lt;chr&gt;</th><th scope=col>&lt;chr&gt;</th><th scope=col>&lt;chr&gt;</th></tr>\n",
       "</thead>\n",
       "<tbody>\n",
       "\t<tr><td>                                </td><td>1136</td><td>LBGTQ Health Center/Community Center     </td><td>NA</td><td>Connecticut         </td><td>6511 </td><td>Urban   </td><td>Yes</td><td> 1</td><td> 1</td><td>⋯</td><td>NA                                               </td><td>NA    </td><td>NA                                                        </td><td>NA </td><td>NA</td><td>NA </td><td>NA </td><td>NA                                                                                                                                                   </td><td>NA                                                                                                                                                                                                                                                                                                                                                                                                                                         </td><td>Incomplete</td></tr>\n",
       "\t<tr><td>19tyler@gmail.com               </td><td>422 </td><td>Non-profit organization                  </td><td>NA</td><td>District of Columbia</td><td>20005</td><td>Urban   </td><td>No </td><td> 1</td><td>NA</td><td>⋯</td><td>fear of how far laws will go  and stigmatizingp -</td><td>Unsure</td><td>fear                                                      </td><td>No </td><td>NA</td><td>Yes</td><td>Yes</td><td>gov refuses to use evidenced based data                                                                                                              </td><td>limitations on providing harm Reduction services, syringe exchanges and safe injection sites in heavily using areas.                                                                                                                                                                                                                                                                                                                       </td><td>Complete  </td></tr>\n",
       "\t<tr><td>3sollenberger@gmail.com         </td><td>1294</td><td>Non-profit organization                  </td><td>NA</td><td>Pennsylvania        </td><td>15222</td><td>Urban   </td><td>No </td><td> 1</td><td> 1</td><td>⋯</td><td>NA                                               </td><td>Yes   </td><td>NA                                                        </td><td>No </td><td>NA</td><td>No </td><td>NA </td><td>NA                                                                                                                                                   </td><td>NA                                                                                                                                                                                                                                                                                                                                                                                                                                         </td><td>Complete  </td></tr>\n",
       "\t<tr><td>NA                              </td><td>NA  </td><td>NA                                       </td><td>NA</td><td>NA                  </td><td>NA   </td><td>NA      </td><td>NA </td><td>NA</td><td>NA</td><td>⋯</td><td>NA                                               </td><td>NA    </td><td>NA                                                        </td><td>NA </td><td>NA</td><td>NA </td><td>NA </td><td>NA                                                                                                                                                   </td><td>NA                                                                                                                                                                                                                                                                                                                                                                                                                                         </td><td>NA        </td></tr>\n",
       "\t<tr><td>ASHLEY.HART@FLHEALTH.GOV        </td><td>794 </td><td>Government entity (Local, State, Federal)</td><td>NA</td><td>Florida             </td><td>32066</td><td>Rural   </td><td>No </td><td> 1</td><td> 1</td><td>⋯</td><td>NA                                               </td><td>Unsure</td><td>NA                                                        </td><td>No </td><td>NA</td><td>No </td><td>NA </td><td>NA                                                                                                                                                   </td><td>WE ARE A VERY SMALL CHD. WE HAVE A SMALL POPULATION AND IF TESTING IS SOUGHT USUALLY PTS WILL GO TO A LARGER CHD WHERE THEY CAN 1. STAY ANONYMOUS, 2 OBTAIN MEDICATIONS/TREATMENT ON SITE 3. SEE A PROVIDER WITH MORE RESOURCES. WE HAVE ONE PROVIDER BETWEEN 2 FACILITIES WHO IS AT OUR LARGER FACILITY 4 DAYS A WEEK AND 2.5 DAYS A MONTH AT OUR SMALL FACILITY. WE ARE CURENTLY SEEKING ANOTHER PROVIDER AS OUR CURRENT ONE IS RETIRING.</td><td>Complete  </td></tr>\n",
       "\t<tr><td>ASIMS@ABSOLUTECARE.COM          </td><td>1188</td><td>Private hospital/clinic setting          </td><td>NA</td><td>Louisiana           </td><td>70130</td><td>Urban   </td><td>Yes</td><td> 1</td><td>NA</td><td>⋯</td><td>NA                                               </td><td>Unsure</td><td>NA                                                        </td><td>No </td><td>NA</td><td>No </td><td>NA </td><td>NA                                                                                                                                                   </td><td>NA                                                                                                                                                                                                                                                                                                                                                                                                                                         </td><td>Complete  </td></tr>\n",
       "\t<tr><td>Adam.lake@pennmedicine.upenn.edu</td><td>901 </td><td>Academic hospital/clinic setting         </td><td>NA</td><td>Pennsylvania        </td><td>17602</td><td>Suburban</td><td>Yes</td><td> 1</td><td> 1</td><td>⋯</td><td>Worse mental health in trans community           </td><td>Yes   </td><td>Not sure where to start                                   </td><td>No </td><td>NA</td><td>Yes</td><td>Yes</td><td>I haven't been able to provide colocated services or openly partner with the harm reduction coalition due to my health system's concern over legality</td><td>NA                                                                                                                                                                                                                                                                                                                                                                                                                                         </td><td>Complete  </td></tr>\n",
       "\t<tr><td>Admin@connectdcare.com          </td><td>123 </td><td>Private practice                         </td><td>NA</td><td>Delaware            </td><td>19901</td><td>Rural   </td><td>No </td><td> 1</td><td> 1</td><td>⋯</td><td>Yes                                              </td><td>Yes   </td><td>It has                                                    </td><td>Yes</td><td>NA</td><td>Yes</td><td>Yes</td><td>It does                                                                                                                                              </td><td>NA                                                                                                                                                                                                                                                                                                                                                                                                                                         </td><td>Complete  </td></tr>\n",
       "\t<tr><td>Aevans@tulane.edu               </td><td>473 </td><td>Academic hospital/clinic setting         </td><td>NA</td><td>Louisiana           </td><td>71301</td><td>Suburban</td><td>Yes</td><td> 1</td><td> 1</td><td>⋯</td><td>NA                                               </td><td>Unsure</td><td>NA                                                        </td><td>No </td><td>NA</td><td>No </td><td>NA </td><td>NA                                                                                                                                                   </td><td>NA                                                                                                                                                                                                                                                                                                                                                                                                                                         </td><td>Complete  </td></tr>\n",
       "\t<tr><td>Agirmay@kintegra.org            </td><td>388 </td><td>Federally Qualified Health Center (FQHC) </td><td>NA</td><td>North Carolina      </td><td>28052</td><td>Suburban</td><td>Yes</td><td> 1</td><td> 1</td><td>⋯</td><td>NA                                               </td><td>Yes   </td><td>It is not right to deny healthcare because of their gender</td><td>No </td><td>NA</td><td>No </td><td>NA </td><td>NA                                                                                                                                                   </td><td>No                                                                                                                                                                                                                                                                                                                                                                                                                                         </td><td>Complete  </td></tr>\n",
       "</tbody>\n",
       "</table>\n"
      ],
      "text/latex": [
       "A tibble: 10 × 855\n",
       "\\begin{tabular}{lllllllllllllllllllll}\n",
       " email & Record\\_ID & Q1 & Q2 & Q3 & Q4 & Q5 & Q6 & Q7 & Q8 & ⋯ & Q810 & Q811 & Q812 & Q813 & Q814 & Q815 & Q816 & Q817 & Q818 & Q819\\\\\n",
       " <chr> & <chr> & <chr> & <chr> & <chr> & <chr> & <chr> & <chr> & <dbl> & <dbl> & ⋯ & <chr> & <chr> & <chr> & <chr> & <chr> & <chr> & <chr> & <chr> & <chr> & <chr>\\\\\n",
       "\\hline\n",
       "\t                                  & 1136 & LBGTQ Health Center/Community Center      & NA & Connecticut          & 6511  & Urban    & Yes &  1 &  1 & ⋯ & NA                                                & NA     & NA                                                         & NA  & NA & NA  & NA  & NA                                                                                                                                                    & NA                                                                                                                                                                                                                                                                                                                                                                                                                                          & Incomplete\\\\\n",
       "\t 19tyler@gmail.com                & 422  & Non-profit organization                   & NA & District of Columbia & 20005 & Urban    & No  &  1 & NA & ⋯ & fear of how far laws will go  and stigmatizingp - & Unsure & fear                                                       & No  & NA & Yes & Yes & gov refuses to use evidenced based data                                                                                                               & limitations on providing harm Reduction services, syringe exchanges and safe injection sites in heavily using areas.                                                                                                                                                                                                                                                                                                                        & Complete  \\\\\n",
       "\t 3sollenberger@gmail.com          & 1294 & Non-profit organization                   & NA & Pennsylvania         & 15222 & Urban    & No  &  1 &  1 & ⋯ & NA                                                & Yes    & NA                                                         & No  & NA & No  & NA  & NA                                                                                                                                                    & NA                                                                                                                                                                                                                                                                                                                                                                                                                                          & Complete  \\\\\n",
       "\t NA                               & NA   & NA                                        & NA & NA                   & NA    & NA       & NA  & NA & NA & ⋯ & NA                                                & NA     & NA                                                         & NA  & NA & NA  & NA  & NA                                                                                                                                                    & NA                                                                                                                                                                                                                                                                                                                                                                                                                                          & NA        \\\\\n",
       "\t ASHLEY.HART@FLHEALTH.GOV         & 794  & Government entity (Local, State, Federal) & NA & Florida              & 32066 & Rural    & No  &  1 &  1 & ⋯ & NA                                                & Unsure & NA                                                         & No  & NA & No  & NA  & NA                                                                                                                                                    & WE ARE A VERY SMALL CHD. WE HAVE A SMALL POPULATION AND IF TESTING IS SOUGHT USUALLY PTS WILL GO TO A LARGER CHD WHERE THEY CAN 1. STAY ANONYMOUS, 2 OBTAIN MEDICATIONS/TREATMENT ON SITE 3. SEE A PROVIDER WITH MORE RESOURCES. WE HAVE ONE PROVIDER BETWEEN 2 FACILITIES WHO IS AT OUR LARGER FACILITY 4 DAYS A WEEK AND 2.5 DAYS A MONTH AT OUR SMALL FACILITY. WE ARE CURENTLY SEEKING ANOTHER PROVIDER AS OUR CURRENT ONE IS RETIRING. & Complete  \\\\\n",
       "\t ASIMS@ABSOLUTECARE.COM           & 1188 & Private hospital/clinic setting           & NA & Louisiana            & 70130 & Urban    & Yes &  1 & NA & ⋯ & NA                                                & Unsure & NA                                                         & No  & NA & No  & NA  & NA                                                                                                                                                    & NA                                                                                                                                                                                                                                                                                                                                                                                                                                          & Complete  \\\\\n",
       "\t Adam.lake@pennmedicine.upenn.edu & 901  & Academic hospital/clinic setting          & NA & Pennsylvania         & 17602 & Suburban & Yes &  1 &  1 & ⋯ & Worse mental health in trans community            & Yes    & Not sure where to start                                    & No  & NA & Yes & Yes & I haven't been able to provide colocated services or openly partner with the harm reduction coalition due to my health system's concern over legality & NA                                                                                                                                                                                                                                                                                                                                                                                                                                          & Complete  \\\\\n",
       "\t Admin@connectdcare.com           & 123  & Private practice                          & NA & Delaware             & 19901 & Rural    & No  &  1 &  1 & ⋯ & Yes                                               & Yes    & It has                                                     & Yes & NA & Yes & Yes & It does                                                                                                                                               & NA                                                                                                                                                                                                                                                                                                                                                                                                                                          & Complete  \\\\\n",
       "\t Aevans@tulane.edu                & 473  & Academic hospital/clinic setting          & NA & Louisiana            & 71301 & Suburban & Yes &  1 &  1 & ⋯ & NA                                                & Unsure & NA                                                         & No  & NA & No  & NA  & NA                                                                                                                                                    & NA                                                                                                                                                                                                                                                                                                                                                                                                                                          & Complete  \\\\\n",
       "\t Agirmay@kintegra.org             & 388  & Federally Qualified Health Center (FQHC)  & NA & North Carolina       & 28052 & Suburban & Yes &  1 &  1 & ⋯ & NA                                                & Yes    & It is not right to deny healthcare because of their gender & No  & NA & No  & NA  & NA                                                                                                                                                    & No                                                                                                                                                                                                                                                                                                                                                                                                                                          & Complete  \\\\\n",
       "\\end{tabular}\n"
      ],
      "text/markdown": [
       "\n",
       "A tibble: 10 × 855\n",
       "\n",
       "| email &lt;chr&gt; | Record_ID &lt;chr&gt; | Q1 &lt;chr&gt; | Q2 &lt;chr&gt; | Q3 &lt;chr&gt; | Q4 &lt;chr&gt; | Q5 &lt;chr&gt; | Q6 &lt;chr&gt; | Q7 &lt;dbl&gt; | Q8 &lt;dbl&gt; | ⋯ ⋯ | Q810 &lt;chr&gt; | Q811 &lt;chr&gt; | Q812 &lt;chr&gt; | Q813 &lt;chr&gt; | Q814 &lt;chr&gt; | Q815 &lt;chr&gt; | Q816 &lt;chr&gt; | Q817 &lt;chr&gt; | Q818 &lt;chr&gt; | Q819 &lt;chr&gt; |\n",
       "|---|---|---|---|---|---|---|---|---|---|---|---|---|---|---|---|---|---|---|---|---|\n",
       "| <!----> | 1136 | LBGTQ Health Center/Community Center      | NA | Connecticut          | 6511  | Urban    | Yes |  1 |  1 | ⋯ | NA                                                | NA     | NA                                                         | NA  | NA | NA  | NA  | NA                                                                                                                                                    | NA                                                                                                                                                                                                                                                                                                                                                                                                                                          | Incomplete |\n",
       "| 19tyler@gmail.com                | 422  | Non-profit organization                   | NA | District of Columbia | 20005 | Urban    | No  |  1 | NA | ⋯ | fear of how far laws will go  and stigmatizingp - | Unsure | fear                                                       | No  | NA | Yes | Yes | gov refuses to use evidenced based data                                                                                                               | limitations on providing harm Reduction services, syringe exchanges and safe injection sites in heavily using areas.                                                                                                                                                                                                                                                                                                                        | Complete   |\n",
       "| 3sollenberger@gmail.com          | 1294 | Non-profit organization                   | NA | Pennsylvania         | 15222 | Urban    | No  |  1 |  1 | ⋯ | NA                                                | Yes    | NA                                                         | No  | NA | No  | NA  | NA                                                                                                                                                    | NA                                                                                                                                                                                                                                                                                                                                                                                                                                          | Complete   |\n",
       "| NA                               | NA   | NA                                        | NA | NA                   | NA    | NA       | NA  | NA | NA | ⋯ | NA                                                | NA     | NA                                                         | NA  | NA | NA  | NA  | NA                                                                                                                                                    | NA                                                                                                                                                                                                                                                                                                                                                                                                                                          | NA         |\n",
       "| ASHLEY.HART@FLHEALTH.GOV         | 794  | Government entity (Local, State, Federal) | NA | Florida              | 32066 | Rural    | No  |  1 |  1 | ⋯ | NA                                                | Unsure | NA                                                         | No  | NA | No  | NA  | NA                                                                                                                                                    | WE ARE A VERY SMALL CHD. WE HAVE A SMALL POPULATION AND IF TESTING IS SOUGHT USUALLY PTS WILL GO TO A LARGER CHD WHERE THEY CAN 1. STAY ANONYMOUS, 2 OBTAIN MEDICATIONS/TREATMENT ON SITE 3. SEE A PROVIDER WITH MORE RESOURCES. WE HAVE ONE PROVIDER BETWEEN 2 FACILITIES WHO IS AT OUR LARGER FACILITY 4 DAYS A WEEK AND 2.5 DAYS A MONTH AT OUR SMALL FACILITY. WE ARE CURENTLY SEEKING ANOTHER PROVIDER AS OUR CURRENT ONE IS RETIRING. | Complete   |\n",
       "| ASIMS@ABSOLUTECARE.COM           | 1188 | Private hospital/clinic setting           | NA | Louisiana            | 70130 | Urban    | Yes |  1 | NA | ⋯ | NA                                                | Unsure | NA                                                         | No  | NA | No  | NA  | NA                                                                                                                                                    | NA                                                                                                                                                                                                                                                                                                                                                                                                                                          | Complete   |\n",
       "| Adam.lake@pennmedicine.upenn.edu | 901  | Academic hospital/clinic setting          | NA | Pennsylvania         | 17602 | Suburban | Yes |  1 |  1 | ⋯ | Worse mental health in trans community            | Yes    | Not sure where to start                                    | No  | NA | Yes | Yes | I haven't been able to provide colocated services or openly partner with the harm reduction coalition due to my health system's concern over legality | NA                                                                                                                                                                                                                                                                                                                                                                                                                                          | Complete   |\n",
       "| Admin@connectdcare.com           | 123  | Private practice                          | NA | Delaware             | 19901 | Rural    | No  |  1 |  1 | ⋯ | Yes                                               | Yes    | It has                                                     | Yes | NA | Yes | Yes | It does                                                                                                                                               | NA                                                                                                                                                                                                                                                                                                                                                                                                                                          | Complete   |\n",
       "| Aevans@tulane.edu                | 473  | Academic hospital/clinic setting          | NA | Louisiana            | 71301 | Suburban | Yes |  1 |  1 | ⋯ | NA                                                | Unsure | NA                                                         | No  | NA | No  | NA  | NA                                                                                                                                                    | NA                                                                                                                                                                                                                                                                                                                                                                                                                                          | Complete   |\n",
       "| Agirmay@kintegra.org             | 388  | Federally Qualified Health Center (FQHC)  | NA | North Carolina       | 28052 | Suburban | Yes |  1 |  1 | ⋯ | NA                                                | Yes    | It is not right to deny healthcare because of their gender | No  | NA | No  | NA  | NA                                                                                                                                                    | No                                                                                                                                                                                                                                                                                                                                                                                                                                          | Complete   |\n",
       "\n"
      ],
      "text/plain": [
       "   email                            Record_ID\n",
       "1                                   1136     \n",
       "2  19tyler@gmail.com                422      \n",
       "3  3sollenberger@gmail.com          1294     \n",
       "4  NA                               NA       \n",
       "5  ASHLEY.HART@FLHEALTH.GOV         794      \n",
       "6  ASIMS@ABSOLUTECARE.COM           1188     \n",
       "7  Adam.lake@pennmedicine.upenn.edu 901      \n",
       "8  Admin@connectdcare.com           123      \n",
       "9  Aevans@tulane.edu                473      \n",
       "10 Agirmay@kintegra.org             388      \n",
       "   Q1                                        Q2 Q3                   Q4   \n",
       "1  LBGTQ Health Center/Community Center      NA Connecticut          6511 \n",
       "2  Non-profit organization                   NA District of Columbia 20005\n",
       "3  Non-profit organization                   NA Pennsylvania         15222\n",
       "4  NA                                        NA NA                   NA   \n",
       "5  Government entity (Local, State, Federal) NA Florida              32066\n",
       "6  Private hospital/clinic setting           NA Louisiana            70130\n",
       "7  Academic hospital/clinic setting          NA Pennsylvania         17602\n",
       "8  Private practice                          NA Delaware             19901\n",
       "9  Academic hospital/clinic setting          NA Louisiana            71301\n",
       "10 Federally Qualified Health Center (FQHC)  NA North Carolina       28052\n",
       "   Q5       Q6  Q7 Q8 ⋯ Q810                                             \n",
       "1  Urban    Yes  1  1 ⋯ NA                                               \n",
       "2  Urban    No   1 NA ⋯ fear of how far laws will go  and stigmatizingp -\n",
       "3  Urban    No   1  1 ⋯ NA                                               \n",
       "4  NA       NA  NA NA ⋯ NA                                               \n",
       "5  Rural    No   1  1 ⋯ NA                                               \n",
       "6  Urban    Yes  1 NA ⋯ NA                                               \n",
       "7  Suburban Yes  1  1 ⋯ Worse mental health in trans community           \n",
       "8  Rural    No   1  1 ⋯ Yes                                              \n",
       "9  Suburban Yes  1  1 ⋯ NA                                               \n",
       "10 Suburban Yes  1  1 ⋯ NA                                               \n",
       "   Q811   Q812                                                       Q813 Q814\n",
       "1  NA     NA                                                         NA   NA  \n",
       "2  Unsure fear                                                       No   NA  \n",
       "3  Yes    NA                                                         No   NA  \n",
       "4  NA     NA                                                         NA   NA  \n",
       "5  Unsure NA                                                         No   NA  \n",
       "6  Unsure NA                                                         No   NA  \n",
       "7  Yes    Not sure where to start                                    No   NA  \n",
       "8  Yes    It has                                                     Yes  NA  \n",
       "9  Unsure NA                                                         No   NA  \n",
       "10 Yes    It is not right to deny healthcare because of their gender No   NA  \n",
       "   Q815 Q816\n",
       "1  NA   NA  \n",
       "2  Yes  Yes \n",
       "3  No   NA  \n",
       "4  NA   NA  \n",
       "5  No   NA  \n",
       "6  No   NA  \n",
       "7  Yes  Yes \n",
       "8  Yes  Yes \n",
       "9  No   NA  \n",
       "10 No   NA  \n",
       "   Q817                                                                                                                                                 \n",
       "1  NA                                                                                                                                                   \n",
       "2  gov refuses to use evidenced based data                                                                                                              \n",
       "3  NA                                                                                                                                                   \n",
       "4  NA                                                                                                                                                   \n",
       "5  NA                                                                                                                                                   \n",
       "6  NA                                                                                                                                                   \n",
       "7  I haven't been able to provide colocated services or openly partner with the harm reduction coalition due to my health system's concern over legality\n",
       "8  It does                                                                                                                                              \n",
       "9  NA                                                                                                                                                   \n",
       "10 NA                                                                                                                                                   \n",
       "   Q818                                                                                                                                                                                                                                                                                                                                                                                                                                       \n",
       "1  NA                                                                                                                                                                                                                                                                                                                                                                                                                                         \n",
       "2  limitations on providing harm Reduction services, syringe exchanges and safe injection sites in heavily using areas.                                                                                                                                                                                                                                                                                                                       \n",
       "3  NA                                                                                                                                                                                                                                                                                                                                                                                                                                         \n",
       "4  NA                                                                                                                                                                                                                                                                                                                                                                                                                                         \n",
       "5  WE ARE A VERY SMALL CHD. WE HAVE A SMALL POPULATION AND IF TESTING IS SOUGHT USUALLY PTS WILL GO TO A LARGER CHD WHERE THEY CAN 1. STAY ANONYMOUS, 2 OBTAIN MEDICATIONS/TREATMENT ON SITE 3. SEE A PROVIDER WITH MORE RESOURCES. WE HAVE ONE PROVIDER BETWEEN 2 FACILITIES WHO IS AT OUR LARGER FACILITY 4 DAYS A WEEK AND 2.5 DAYS A MONTH AT OUR SMALL FACILITY. WE ARE CURENTLY SEEKING ANOTHER PROVIDER AS OUR CURRENT ONE IS RETIRING.\n",
       "6  NA                                                                                                                                                                                                                                                                                                                                                                                                                                         \n",
       "7  NA                                                                                                                                                                                                                                                                                                                                                                                                                                         \n",
       "8  NA                                                                                                                                                                                                                                                                                                                                                                                                                                         \n",
       "9  NA                                                                                                                                                                                                                                                                                                                                                                                                                                         \n",
       "10 No                                                                                                                                                                                                                                                                                                                                                                                                                                         \n",
       "   Q819      \n",
       "1  Incomplete\n",
       "2  Complete  \n",
       "3  Complete  \n",
       "4  NA        \n",
       "5  Complete  \n",
       "6  Complete  \n",
       "7  Complete  \n",
       "8  Complete  \n",
       "9  Complete  \n",
       "10 Complete  "
      ]
     },
     "metadata": {},
     "output_type": "display_data"
    }
   ],
   "source": [
    "# LGBTQ providers\n",
    "LGBTQ_providers <- final_data[final_data$Q275 == \"Yes\" | final_data$Q130 == 1 | final_data$Q1 == \"LBGTQ Health Center/Community Center\" | final_data$Q22 == \"Yes\" | final_data$Q33 == 1, ]\n",
    "head(LGBTQ_providers, 10)"
   ]
  },
  {
   "cell_type": "markdown",
   "id": "356a214e-9985-4283-ad1d-589187818c1e",
   "metadata": {},
   "source": [
    "## Number of incomplete and complete responses among LGBTQ providers"
   ]
  },
  {
   "cell_type": "code",
   "execution_count": 131,
   "id": "8325a967-8438-40aa-91c3-b3b4aeffaa51",
   "metadata": {},
   "outputs": [
    {
     "data": {
      "text/plain": [
       "\n",
       "  Complete Incomplete \n",
       "       754        269 "
      ]
     },
     "metadata": {},
     "output_type": "display_data"
    }
   ],
   "source": [
    "table(LGBTQ_providers$Q819)"
   ]
  },
  {
   "cell_type": "markdown",
   "id": "d1229613-9b5a-4e74-a02d-ab8b385708cc",
   "metadata": {},
   "source": [
    "## Descriptive Statistics for LGBTQ providers"
   ]
  },
  {
   "cell_type": "markdown",
   "id": "44be04bf-9fef-4051-9340-19d536576178",
   "metadata": {},
   "source": [
    "### Age counts among LGBTQ providers"
   ]
  },
  {
   "cell_type": "code",
   "execution_count": 132,
   "id": "28783995-4e9a-45b5-9759-12f4d5d1cfd4",
   "metadata": {},
   "outputs": [
    {
     "data": {
      "text/plain": [
       "\n",
       "                18-24                 25-34                 35-44 \n",
       "                   31                   196                   241 \n",
       "                45-54                 55-64                    65 \n",
       "                  243                   202                    88 \n",
       "Prefer not to respond \n",
       "                   19 "
      ]
     },
     "metadata": {},
     "output_type": "display_data"
    }
   ],
   "source": [
    "## LGBTQ providers - Age\n",
    "age_LGBTQ <- table(LGBTQ_providers$Q162)\n",
    "age_LGBTQ"
   ]
  },
  {
   "cell_type": "markdown",
   "id": "f492ff3f-3676-4efd-8148-1d6296de6df3",
   "metadata": {},
   "source": [
    "### Age percentages among LGBTQ providers"
   ]
  },
  {
   "cell_type": "code",
   "execution_count": 133,
   "id": "b145ad97-b715-469e-a94b-b49002f16202",
   "metadata": {},
   "outputs": [
    {
     "data": {
      "text/plain": [
       "\n",
       "                18-24                 25-34                 35-44 \n",
       "             3.039216             19.215686             23.627451 \n",
       "                45-54                 55-64                    65 \n",
       "            23.823529             19.803922              8.627451 \n",
       "Prefer not to respond \n",
       "             1.862745 "
      ]
     },
     "metadata": {},
     "output_type": "display_data"
    }
   ],
   "source": [
    "age_perc_LGBTQ <- prop.table(age_LGBTQ)*100\n",
    "age_perc_LGBTQ"
   ]
  },
  {
   "cell_type": "markdown",
   "id": "aec89596-dd84-4245-aca8-fbaa27a6266a",
   "metadata": {},
   "source": [
    "### Gender counts among LGBTQ providers"
   ]
  },
  {
   "cell_type": "code",
   "execution_count": 134,
   "id": "822e5fc3-4885-4c6d-bfa9-69c5eccd99ef",
   "metadata": {},
   "outputs": [
    {
     "data": {
      "text/plain": [
       "\n",
       "                                Female/Woman \n",
       "                                         625 \n",
       "Genderqueer/gender non-confirming/non-binary \n",
       "                                          65 \n",
       "                                    Male/Man \n",
       "                                         271 \n",
       "                       Prefer not to respond \n",
       "                                          17 \n",
       "                     Prefer to self-describe \n",
       "                                           9 \n",
       "                             Transgender man \n",
       "                                          19 \n",
       "                           Transgender woman \n",
       "                                          14 "
      ]
     },
     "metadata": {},
     "output_type": "display_data"
    }
   ],
   "source": [
    "## LGBTQ providers - Gender\n",
    "gender_LGBTQ <- table(LGBTQ_providers$Q157)\n",
    "gender_LGBTQ"
   ]
  },
  {
   "cell_type": "markdown",
   "id": "771bc26e-c15d-48d8-b6ca-5487ebc28e0e",
   "metadata": {},
   "source": [
    "### Gender percentages among LGBTQ providers"
   ]
  },
  {
   "cell_type": "code",
   "execution_count": 135,
   "id": "34d66e3b-fbe7-462b-84f4-1e1524bb555f",
   "metadata": {},
   "outputs": [
    {
     "data": {
      "text/plain": [
       "\n",
       "                                Female/Woman \n",
       "                                  61.2745098 \n",
       "Genderqueer/gender non-confirming/non-binary \n",
       "                                   6.3725490 \n",
       "                                    Male/Man \n",
       "                                  26.5686275 \n",
       "                       Prefer not to respond \n",
       "                                   1.6666667 \n",
       "                     Prefer to self-describe \n",
       "                                   0.8823529 \n",
       "                             Transgender man \n",
       "                                   1.8627451 \n",
       "                           Transgender woman \n",
       "                                   1.3725490 "
      ]
     },
     "metadata": {},
     "output_type": "display_data"
    }
   ],
   "source": [
    "gender_perc_LGBTQ <- prop.table(gender_LGBTQ)*100\n",
    "gender_perc_LGBTQ"
   ]
  },
  {
   "cell_type": "markdown",
   "id": "612c063e-e771-4520-a479-7b59f33fbcba",
   "metadata": {},
   "source": [
    "### Race counts among LGBTQ providers"
   ]
  },
  {
   "cell_type": "code",
   "execution_count": 136,
   "id": "f4f7542e-bc26-41eb-a678-8fa4c381328d",
   "metadata": {},
   "outputs": [
    {
     "data": {
      "text/plain": [
       "\n",
       "        Asian and/or Asian American           Black or African American \n",
       "                                 25                                 251 \n",
       "                        Multiracial    Native American or Alaska Native \n",
       "                                 73                                  11 \n",
       "Native Hawaiian or Pacific Islander               Prefer not to respond \n",
       "                                  5                                  53 \n",
       "            Prefer to self-describe                  White or Caucasian \n",
       "                                 24                                 577 "
      ]
     },
     "metadata": {},
     "output_type": "display_data"
    }
   ],
   "source": [
    "## LGBTQ providers - Race\n",
    "race_LGBTQ <- table(LGBTQ_providers$Q159)\n",
    "race_LGBTQ"
   ]
  },
  {
   "cell_type": "markdown",
   "id": "618e8c66-c298-41c0-a423-dd2a41af423c",
   "metadata": {},
   "source": [
    "### Race percentages among LGBTQ providers"
   ]
  },
  {
   "cell_type": "code",
   "execution_count": 137,
   "id": "89704483-80b8-4b8e-8f22-1b241c443a3f",
   "metadata": {},
   "outputs": [
    {
     "data": {
      "text/plain": [
       "\n",
       "        Asian and/or Asian American           Black or African American \n",
       "                          2.4533857                          24.6319921 \n",
       "                        Multiracial    Native American or Alaska Native \n",
       "                          7.1638862                           1.0794897 \n",
       "Native Hawaiian or Pacific Islander               Prefer not to respond \n",
       "                          0.4906771                           5.2011776 \n",
       "            Prefer to self-describe                  White or Caucasian \n",
       "                          2.3552502                          56.6241413 "
      ]
     },
     "metadata": {},
     "output_type": "display_data"
    }
   ],
   "source": [
    "race_perc_LGBTQ <- prop.table(race_LGBTQ)*100\n",
    "race_perc_LGBTQ"
   ]
  },
  {
   "cell_type": "markdown",
   "id": "d172626e-26b3-4448-a633-fa80237115fb",
   "metadata": {},
   "source": [
    "### Hispanic/Latinx percentages among LGBTQ providers"
   ]
  },
  {
   "cell_type": "code",
   "execution_count": 138,
   "id": "61c8dc7f-3ffb-4bc8-9dfe-0a37966a20f6",
   "metadata": {},
   "outputs": [
    {
     "data": {
      "text/plain": [
       "\n",
       "                   No Prefer not to respond                   Yes \n",
       "                  814                    19                   187 "
      ]
     },
     "metadata": {},
     "output_type": "display_data"
    }
   ],
   "source": [
    "## LGBTQ providers - Hispanic/Latinx\n",
    "hisp_LGBTQ <- table(LGBTQ_providers$Q161)\n",
    "hisp_LGBTQ"
   ]
  },
  {
   "cell_type": "markdown",
   "id": "1fe9e953-fba3-45d5-91a4-f6707f6fb361",
   "metadata": {},
   "source": [
    "### Hispanic/Latinx percentages among LGBTQ providers"
   ]
  },
  {
   "cell_type": "code",
   "execution_count": 139,
   "id": "e3e61803-742d-4002-8e62-1f770eba86ce",
   "metadata": {},
   "outputs": [
    {
     "data": {
      "text/plain": [
       "\n",
       "                   No Prefer not to respond                   Yes \n",
       "            79.803922              1.862745             18.333333 "
      ]
     },
     "metadata": {},
     "output_type": "display_data"
    }
   ],
   "source": [
    "hisp_perc_LGBTQ <- prop.table(hisp_LGBTQ)*100\n",
    "hisp_perc_LGBTQ "
   ]
  },
  {
   "cell_type": "markdown",
   "id": "468c1029-d889-4db2-914f-5c85e9f96ab3",
   "metadata": {},
   "source": [
    "### Geographic counts among LGBTQ providers"
   ]
  },
  {
   "cell_type": "code",
   "execution_count": 140,
   "id": "4de8296b-c842-49d1-86eb-9db8eb38ab45",
   "metadata": {},
   "outputs": [
    {
     "data": {
      "text/plain": [
       "\n",
       "   Rural Suburban   Tribal    Urban \n",
       "     206      175        3      639 "
      ]
     },
     "metadata": {},
     "output_type": "display_data"
    }
   ],
   "source": [
    "geog_counts_LGBTQ <- table(LGBTQ_providers$Q5)\n",
    "geog_counts_LGBTQ"
   ]
  },
  {
   "cell_type": "markdown",
   "id": "0ccf7436-629c-4718-860e-374ddbf17457",
   "metadata": {},
   "source": [
    "### Geographic percentages among LGBTQ providers"
   ]
  },
  {
   "cell_type": "code",
   "execution_count": 141,
   "id": "26a73b35-0dcb-414f-8343-849351675a2b",
   "metadata": {},
   "outputs": [
    {
     "data": {
      "text/plain": [
       "\n",
       "     Rural   Suburban     Tribal      Urban \n",
       "20.1368524 17.1065494  0.2932551 62.4633431 "
      ]
     },
     "metadata": {},
     "output_type": "display_data"
    }
   ],
   "source": [
    "geog_perc_LGBTQ <- prop.table(geog_counts_LGBTQ)*100\n",
    "geog_perc_LGBTQ"
   ]
  },
  {
   "cell_type": "markdown",
   "id": "d987e864-09eb-47fc-9df5-65ee95090229",
   "metadata": {},
   "source": [
    "### Setting counts among LGBTQ providers"
   ]
  },
  {
   "cell_type": "code",
   "execution_count": 142,
   "id": "378d6e84-9310-4c1f-98c9-014dd293b72c",
   "metadata": {},
   "outputs": [
    {
     "data": {
      "text/plain": [
       "\n",
       "             Academic hospital/clinic setting \n",
       "                                           74 \n",
       "                        Advocacy organization \n",
       "                                            4 \n",
       "              AIDS Service Organization (ASO) \n",
       "                                          133 \n",
       "           Community Based Organization (CBO) \n",
       "                                          116 \n",
       "     Federally Qualified Health Center (FQHC) \n",
       "                                          134 \n",
       "    Government entity (Local, State, Federal) \n",
       "                                           88 \n",
       "               Health department (non-clinic) \n",
       "                                           38 \n",
       "Health department clinic/public health clinic \n",
       "                                          137 \n",
       "         LBGTQ Health Center/Community Center \n",
       "                                           55 \n",
       "                      Non-profit organization \n",
       "                                          138 \n",
       "                                        Other \n",
       "                                           20 \n",
       "                                     Pharmacy \n",
       "                                            6 \n",
       "              Private hospital/clinic setting \n",
       "                                           34 \n",
       "                             Private practice \n",
       "                                           17 \n",
       "             Substance use treatment facility \n",
       "                                            9 \n",
       "                           University/college \n",
       "                                           20 "
      ]
     },
     "metadata": {},
     "output_type": "display_data"
    }
   ],
   "source": [
    "setting_counts_LGBTQ <- table(LGBTQ_providers$Q1)\n",
    "setting_counts_LGBTQ"
   ]
  },
  {
   "cell_type": "markdown",
   "id": "71105f0f-a4a5-48ca-b2f4-0dac0ed51f62",
   "metadata": {},
   "source": [
    "### Setting percentages among LGBTQ providers"
   ]
  },
  {
   "cell_type": "code",
   "execution_count": 143,
   "id": "be8efb16-2b9c-44f5-a0f5-c10a80db22be",
   "metadata": {},
   "outputs": [
    {
     "data": {
      "text/plain": [
       "\n",
       "             Academic hospital/clinic setting \n",
       "                                    7.2336266 \n",
       "                        Advocacy organization \n",
       "                                    0.3910068 \n",
       "              AIDS Service Organization (ASO) \n",
       "                                   13.0009775 \n",
       "           Community Based Organization (CBO) \n",
       "                                   11.3391984 \n",
       "     Federally Qualified Health Center (FQHC) \n",
       "                                   13.0987292 \n",
       "    Government entity (Local, State, Federal) \n",
       "                                    8.6021505 \n",
       "               Health department (non-clinic) \n",
       "                                    3.7145650 \n",
       "Health department clinic/public health clinic \n",
       "                                   13.3919844 \n",
       "         LBGTQ Health Center/Community Center \n",
       "                                    5.3763441 \n",
       "                      Non-profit organization \n",
       "                                   13.4897361 \n",
       "                                        Other \n",
       "                                    1.9550342 \n",
       "                                     Pharmacy \n",
       "                                    0.5865103 \n",
       "              Private hospital/clinic setting \n",
       "                                    3.3235582 \n",
       "                             Private practice \n",
       "                                    1.6617791 \n",
       "             Substance use treatment facility \n",
       "                                    0.8797654 \n",
       "                           University/college \n",
       "                                    1.9550342 "
      ]
     },
     "metadata": {},
     "output_type": "display_data"
    }
   ],
   "source": [
    "setting_perc_LGBTQ <- prop.table(setting_counts_LGBTQ)*100\n",
    "setting_perc_LGBTQ"
   ]
  },
  {
   "cell_type": "markdown",
   "id": "8dc8913f-ca2a-4e7a-92ec-bc916fd76079",
   "metadata": {},
   "source": [
    "### Role type counts among LGBTQ providers - clinical vs nonclinical"
   ]
  },
  {
   "cell_type": "code",
   "execution_count": 144,
   "id": "af048edf-3ac7-4171-a5f2-a67871b9cddd",
   "metadata": {},
   "outputs": [
    {
     "data": {
      "text/plain": [
       "\n",
       "    Clinical Non-clinical \n",
       "         336          685 "
      ]
     },
     "metadata": {},
     "output_type": "display_data"
    }
   ],
   "source": [
    "role_type_counts_LGBTQ <- table(LGBTQ_providers$Q65)\n",
    "role_type_counts_LGBTQ"
   ]
  },
  {
   "cell_type": "markdown",
   "id": "cbe44bb8-ee4f-44f6-8181-29070b576f19",
   "metadata": {},
   "source": [
    "### Role type percentages among LGBTQ providers - clinical vs nonclinical"
   ]
  },
  {
   "cell_type": "code",
   "execution_count": 145,
   "id": "7f47a0a3-91e6-4a17-9f6f-f2e40f9e2ded",
   "metadata": {},
   "outputs": [
    {
     "data": {
      "text/plain": [
       "\n",
       "    Clinical Non-clinical \n",
       "    32.90891     67.09109 "
      ]
     },
     "metadata": {},
     "output_type": "display_data"
    }
   ],
   "source": [
    "role_type_perc_LGBTQ <- prop.table(role_type_counts_LGBTQ)*100\n",
    "role_type_perc_LGBTQ"
   ]
  },
  {
   "cell_type": "markdown",
   "id": "c1b8daf6-63cf-4492-aba8-a255dc63cd3c",
   "metadata": {},
   "source": [
    "### Clinical role counts among LGBTQ providers"
   ]
  },
  {
   "cell_type": "code",
   "execution_count": 146,
   "id": "e598fd0a-86e7-4beb-80b6-840ac901e3b1",
   "metadata": {},
   "outputs": [
    {
     "data": {
      "text/plain": [
       "\n",
       "                             Dentist      Disease Intervention Specialist \n",
       "                                   2                                    1 \n",
       "     Licensed Clinical Social Worker             Licensed Practical Nurse \n",
       "                                  39                                    7 \n",
       "                   Medical Assistant           Mental Health Case Manager \n",
       "                                  10                                    3 \n",
       "             Mental Health Counselor           Mental Health Professional \n",
       "                                   1                                   12 \n",
       "                       Nurse Manager                        Nurse Midwife \n",
       "                                  17                                    1 \n",
       "                  Nurse Practitioner Other Provider/Clinical professional \n",
       "                                  68                                    7 \n",
       "                          Pharmacist                  Pharmacy Technician \n",
       "                                  15                                    3 \n",
       "                        Phlebotomist                            Physician \n",
       "                                   2                                   52 \n",
       "                 Physician Assistant                         Psychologist \n",
       "                                  11                                   14 \n",
       "                    Registered Nurse \n",
       "                                  70 "
      ]
     },
     "metadata": {},
     "output_type": "display_data"
    }
   ],
   "source": [
    "role_counts_LGBTQ <- table(LGBTQ_providers$Q66)\n",
    "role_counts_LGBTQ"
   ]
  },
  {
   "cell_type": "markdown",
   "id": "ec5eb8b4-ab9c-418c-8007-a029d6fd83f4",
   "metadata": {},
   "source": [
    "### Clinical role percentages among LGBTQ providers"
   ]
  },
  {
   "cell_type": "code",
   "execution_count": 147,
   "id": "33335e46-ee12-479b-8b68-dd75704ea7c5",
   "metadata": {},
   "outputs": [
    {
     "data": {
      "text/plain": [
       "\n",
       "                             Dentist      Disease Intervention Specialist \n",
       "                           0.5970149                            0.2985075 \n",
       "     Licensed Clinical Social Worker             Licensed Practical Nurse \n",
       "                          11.6417910                            2.0895522 \n",
       "                   Medical Assistant           Mental Health Case Manager \n",
       "                           2.9850746                            0.8955224 \n",
       "             Mental Health Counselor           Mental Health Professional \n",
       "                           0.2985075                            3.5820896 \n",
       "                       Nurse Manager                        Nurse Midwife \n",
       "                           5.0746269                            0.2985075 \n",
       "                  Nurse Practitioner Other Provider/Clinical professional \n",
       "                          20.2985075                            2.0895522 \n",
       "                          Pharmacist                  Pharmacy Technician \n",
       "                           4.4776119                            0.8955224 \n",
       "                        Phlebotomist                            Physician \n",
       "                           0.5970149                           15.5223881 \n",
       "                 Physician Assistant                         Psychologist \n",
       "                           3.2835821                            4.1791045 \n",
       "                    Registered Nurse \n",
       "                          20.8955224 "
      ]
     },
     "metadata": {},
     "output_type": "display_data"
    }
   ],
   "source": [
    "role_perc_LGBTQ <- prop.table(role_counts_LGBTQ)*100\n",
    "role_perc_LGBTQ"
   ]
  },
  {
   "cell_type": "markdown",
   "id": "bead3be2-8039-490c-a0a4-4f4451031542",
   "metadata": {},
   "source": [
    "### Non-clinical role counts among LGBTQ providers"
   ]
  },
  {
   "cell_type": "code",
   "execution_count": 148,
   "id": "a079207b-480e-4715-918a-997b1b6c679f",
   "metadata": {},
   "outputs": [
    {
     "data": {
      "text/plain": [
       "\n",
       "                         Administrator                               Advocate \n",
       "                                   160                                     15 \n",
       "     Case Manager/Medical case manager        Clergy/Faith-Based Professional \n",
       "                                   122                                      1 \n",
       "               Community Health Worker        Disease Intervention Specialist \n",
       "                                    63                                     36 \n",
       "                Finance/Fiscal Manager    Harm Reductionist/Risk Reductionist \n",
       "                                     2                                     29 \n",
       "             Health and Wellness Coach            Health Education Specialist \n",
       "                                     1                                     55 \n",
       "                      Health Navigator                HIV Linkage Coordinator \n",
       "                                    35                                      4 \n",
       "             HIV Retention Coordinator                             HIV Tester \n",
       "                                     3                                      4 \n",
       "                   Housing Coordinator                        Medical Billing \n",
       "                                     1                                      1 \n",
       "            Mental Health Case Manager             Mental Health Professional \n",
       "                                     2                                      4 \n",
       "            Non-clinical Social Worker        Other Non-clinical Professional \n",
       "                                    39                                     29 \n",
       "                       Outreach Worker                      Patient Navigator \n",
       "                                    35                                      1 \n",
       "                        Peer Navigator                         PrEP Navigator \n",
       "                                     3                                      1 \n",
       "            PrEP Navigator/Coordinator                    Program Coordinator \n",
       "                                     6                                      6 \n",
       "                      Program Director                        Program Manager \n",
       "                                     2                                      8 \n",
       "                            Researcher                                Student \n",
       "                                     9                                      1 \n",
       "Substance Abuse Counselor/Professional \n",
       "                                     5 "
      ]
     },
     "metadata": {},
     "output_type": "display_data"
    }
   ],
   "source": [
    "nonclinic_role_counts_LGBTQ <- table(LGBTQ_providers$Q71)\n",
    "nonclinic_role_counts_LGBTQ"
   ]
  },
  {
   "cell_type": "markdown",
   "id": "6eb56858-fff8-46de-9a59-2611ec686480",
   "metadata": {},
   "source": [
    "### Non-clinical role percentages among LGBTQ providers"
   ]
  },
  {
   "cell_type": "code",
   "execution_count": 149,
   "id": "6c9e0eff-3977-4111-834d-49f8a5b0b5d0",
   "metadata": {},
   "outputs": [
    {
     "data": {
      "text/plain": [
       "\n",
       "                         Administrator                               Advocate \n",
       "                            22.9532164                              2.1929825 \n",
       "     Case Manager/Medical case manager        Clergy/Faith-Based Professional \n",
       "                            17.9824561                              0.1461988 \n",
       "               Community Health Worker        Disease Intervention Specialist \n",
       "                             9.3567251                              5.4093567 \n",
       "                Finance/Fiscal Manager    Harm Reductionist/Risk Reductionist \n",
       "                             0.2923977                              4.6783626 \n",
       "             Health and Wellness Coach            Health Education Specialist \n",
       "                             0.1461988                              8.1871345 \n",
       "                      Health Navigator                HIV Linkage Coordinator \n",
       "                             5.1169591                              0.5847953 \n",
       "             HIV Retention Coordinator                             HIV Tester \n",
       "                             0.4385965                              0.5847953 \n",
       "                   Housing Coordinator                        Medical Billing \n",
       "                             0.1461988                              0.1461988 \n",
       "            Mental Health Case Manager             Mental Health Professional \n",
       "                             0.2923977                              0.5847953 \n",
       "            Non-clinical Social Worker        Other Non-clinical Professional \n",
       "                             5.7017544                              4.0935673 \n",
       "                       Outreach Worker                      Patient Navigator \n",
       "                             5.2631579                              0.1461988 \n",
       "                        Peer Navigator                         PrEP Navigator \n",
       "                             0.4385965                              0.1461988 \n",
       "            PrEP Navigator/Coordinator                    Program Coordinator \n",
       "                             0.8771930                              0.8771930 \n",
       "                      Program Director                        Program Manager \n",
       "                             0.1461988                              1.1695906 \n",
       "                            Researcher                                Student \n",
       "                             1.0233918                              0.1461988 \n",
       "Substance Abuse Counselor/Professional \n",
       "                             0.7309942 "
      ]
     },
     "metadata": {},
     "output_type": "display_data"
    }
   ],
   "source": [
    "nonclinic_role_perc_HIV <- prop.table(nonclinic_role_counts_HIV)*100\n",
    "nonclinic_role_perc_HIV"
   ]
  },
  {
   "cell_type": "markdown",
   "id": "820f79b7-f7e2-4322-9a7c-fe3c45220628",
   "metadata": {},
   "source": [
    "### Years in role counts among LGBTQ providers"
   ]
  },
  {
   "cell_type": "code",
   "execution_count": 150,
   "id": "3d340cf8-fedc-46e4-8cd5-35e3eb9f6b11",
   "metadata": {},
   "outputs": [
    {
     "data": {
      "text/plain": [
       "\n",
       "   <2 years 11-20 years   2-4 years   21+ years  5-10 years \n",
       "        284         146         216         153         222 "
      ]
     },
     "metadata": {},
     "output_type": "display_data"
    }
   ],
   "source": [
    "years_counts_LGBTQ <- table(LGBTQ_providers$Q94)\n",
    "years_counts_LGBTQ"
   ]
  },
  {
   "cell_type": "markdown",
   "id": "077900f6-c5f9-49f1-b0b6-ae1a3d006eb3",
   "metadata": {},
   "source": [
    "### Years in role percentages among LGBTQ providers"
   ]
  },
  {
   "cell_type": "code",
   "execution_count": 151,
   "id": "b9b8ba26-8db0-4d8d-9f93-2c2eb6ab9a0f",
   "metadata": {},
   "outputs": [
    {
     "data": {
      "text/plain": [
       "\n",
       "   <2 years 11-20 years   2-4 years   21+ years  5-10 years \n",
       "   27.81587    14.29971    21.15573    14.98531    21.74339 "
      ]
     },
     "metadata": {},
     "output_type": "display_data"
    }
   ],
   "source": [
    "years_perc_LGBTQ <- prop.table(years_counts_LGBTQ)*100\n",
    "years_perc_LGBTQ"
   ]
  },
  {
   "cell_type": "markdown",
   "id": "4baf66aa-a82a-45ee-90b5-d17a15c5e23a",
   "metadata": {},
   "source": [
    "### Prescriber counts among LGBTQ providers"
   ]
  },
  {
   "cell_type": "code",
   "execution_count": 152,
   "id": "0582a7c5-3045-4a50-a3bf-aacb22668f08",
   "metadata": {},
   "outputs": [
    {
     "data": {
      "text/plain": [
       "\n",
       " No Yes \n",
       "193 146 "
      ]
     },
     "metadata": {},
     "output_type": "display_data"
    }
   ],
   "source": [
    "prescriber_counts_LGBTQ <- table(LGBTQ_providers$Q70)\n",
    "prescriber_counts_LGBTQ"
   ]
  },
  {
   "cell_type": "markdown",
   "id": "10efd406-2d85-4734-87e2-30b4fa987584",
   "metadata": {},
   "source": [
    "### Prescriber percentages among LGBTQ providers"
   ]
  },
  {
   "cell_type": "code",
   "execution_count": 153,
   "id": "a8877a09-03ab-4f85-80e6-687cac2d7611",
   "metadata": {},
   "outputs": [
    {
     "data": {
      "text/plain": [
       "\n",
       "      No      Yes \n",
       "56.93215 43.06785 "
      ]
     },
     "metadata": {},
     "output_type": "display_data"
    }
   ],
   "source": [
    "prescriber_perc_LGBTQ <- prop.table(prescriber_counts_LGBTQ)*100\n",
    "prescriber_perc_LGBTQ"
   ]
  },
  {
   "cell_type": "markdown",
   "id": "02d06210-7493-458e-9388-3cb0600b1cfb",
   "metadata": {},
   "source": [
    "## Onsite pharmacy counts among LGBTQ providers"
   ]
  },
  {
   "cell_type": "code",
   "execution_count": 154,
   "id": "31e0567c-585c-49dd-b1a4-e6495eae69eb",
   "metadata": {},
   "outputs": [
    {
     "data": {
      "text/plain": [
       "\n",
       " No Yes \n",
       "613 410 "
      ]
     },
     "metadata": {},
     "output_type": "display_data"
    }
   ],
   "source": [
    "onsite_pharm_counts_LGBTQ <- table(LGBTQ_providers$Q6)\n",
    "onsite_pharm_counts_LGBTQ"
   ]
  },
  {
   "cell_type": "markdown",
   "id": "9a2dd42e-466a-4777-bee7-6f3b67053593",
   "metadata": {},
   "source": [
    "## Onsite pharmacy percentages among LGBTQ providers"
   ]
  },
  {
   "cell_type": "code",
   "execution_count": 155,
   "id": "58a10b33-f07e-45dd-9515-1971bd7eb719",
   "metadata": {},
   "outputs": [
    {
     "data": {
      "text/plain": [
       "\n",
       "     No     Yes \n",
       "59.9218 40.0782 "
      ]
     },
     "metadata": {},
     "output_type": "display_data"
    }
   ],
   "source": [
    "onsite_pharm_perc_LGBTQ <- prop.table(onsite_pharm_counts_LGBTQ)*100\n",
    "onsite_pharm_perc_LGBTQ"
   ]
  },
  {
   "cell_type": "markdown",
   "id": "23f749bf-1f1f-4452-b482-797999085662",
   "metadata": {},
   "source": [
    "## HIV training statistcis for LGBTQ providers"
   ]
  },
  {
   "cell_type": "code",
   "execution_count": 156,
   "id": "4db3d244-71af-4a52-bb30-876cd38e6f50",
   "metadata": {},
   "outputs": [],
   "source": [
    "# LGBTQ providers - Create a vector of column names representing the HIV topics columns\n",
    "hiv_topics_LGBTQ <- c(\"Q198\", \"Q199\", \"Q200\", \"Q201\", \"Q202\",\"Q203\",\"Q204\",\"Q205\",\"Q206\",\"Q207\",\"Q208\",\"Q209\",\"Q210a\",\"Q210b\")"
   ]
  },
  {
   "cell_type": "markdown",
   "id": "2d969d50-0c3d-47ea-92d0-51882c00dec8",
   "metadata": {},
   "source": [
    "### HIV topic with greatest number of 1st rankings among LGBTQ providers"
   ]
  },
  {
   "cell_type": "code",
   "execution_count": 157,
   "id": "e0b454ae-530d-44ca-bd25-0cb0dfc51f2c",
   "metadata": {},
   "outputs": [
    {
     "data": {
      "text/html": [
       "<style>\n",
       ".dl-inline {width: auto; margin:0; padding: 0}\n",
       ".dl-inline>dt, .dl-inline>dd {float: none; width: auto; display: inline-block}\n",
       ".dl-inline>dt::after {content: \":\\0020\"; padding-right: .5ex}\n",
       ".dl-inline>dt:not(:first-of-type) {padding-left: .5ex}\n",
       "</style><dl class=dl-inline><dt>Q198</dt><dd>178</dd><dt>Q199</dt><dd>80</dd><dt>Q200</dt><dd>72</dd><dt>Q201</dt><dd>17</dd><dt>Q202</dt><dd>21</dd><dt>Q203</dt><dd>37</dd><dt>Q204</dt><dd>34</dd><dt>Q205</dt><dd>49</dd><dt>Q206</dt><dd>48</dd><dt>Q207</dt><dd>6</dd><dt>Q208</dt><dd>12</dd><dt>Q209</dt><dd>12</dd><dt>Q210a</dt><dd>3</dd><dt>Q210b</dt><dd>1</dd></dl>\n"
      ],
      "text/latex": [
       "\\begin{description*}\n",
       "\\item[Q198] 178\n",
       "\\item[Q199] 80\n",
       "\\item[Q200] 72\n",
       "\\item[Q201] 17\n",
       "\\item[Q202] 21\n",
       "\\item[Q203] 37\n",
       "\\item[Q204] 34\n",
       "\\item[Q205] 49\n",
       "\\item[Q206] 48\n",
       "\\item[Q207] 6\n",
       "\\item[Q208] 12\n",
       "\\item[Q209] 12\n",
       "\\item[Q210a] 3\n",
       "\\item[Q210b] 1\n",
       "\\end{description*}\n"
      ],
      "text/markdown": [
       "Q198\n",
       ":   178Q199\n",
       ":   80Q200\n",
       ":   72Q201\n",
       ":   17Q202\n",
       ":   21Q203\n",
       ":   37Q204\n",
       ":   34Q205\n",
       ":   49Q206\n",
       ":   48Q207\n",
       ":   6Q208\n",
       ":   12Q209\n",
       ":   12Q210a\n",
       ":   3Q210b\n",
       ":   1\n",
       "\n"
      ],
      "text/plain": [
       " Q198  Q199  Q200  Q201  Q202  Q203  Q204  Q205  Q206  Q207  Q208  Q209 Q210a \n",
       "  178    80    72    17    21    37    34    49    48     6    12    12     3 \n",
       "Q210b \n",
       "    1 "
      ]
     },
     "metadata": {},
     "output_type": "display_data"
    }
   ],
   "source": [
    "# LGBTQ providers - Calculate the counts of 1st rankings for each HIV topic\n",
    "hiv1_count_LGBTQ <- sapply(hiv_topics_LGBTQ, function(topic) sum(LGBTQ_providers[[topic]] == 1, na.rm = TRUE))\n",
    "hiv1_count_LGBTQ"
   ]
  },
  {
   "cell_type": "code",
   "execution_count": 158,
   "id": "9e0ee77b-285e-4f91-bc72-82a443120903",
   "metadata": {},
   "outputs": [
    {
     "data": {
      "text/html": [
       "'Q198'"
      ],
      "text/latex": [
       "'Q198'"
      ],
      "text/markdown": [
       "'Q198'"
      ],
      "text/plain": [
       "[1] \"Q198\""
      ]
     },
     "metadata": {},
     "output_type": "display_data"
    }
   ],
   "source": [
    "# LGBTQ providers - Find the HIV topic with the highest count of 1st rankings\n",
    "hiv1_rank_LGBTQ <- hiv_topics_LGBTQ[which.max(hiv1_count_LGBTQ)]\n",
    "hiv1_rank_LGBTQ"
   ]
  },
  {
   "cell_type": "code",
   "execution_count": 159,
   "id": "146acfa6-ab36-46a6-84a6-c06f0fda1b8f",
   "metadata": {},
   "outputs": [
    {
     "data": {
      "text/html": [
       "<strong>Q198:</strong> 30.9565217391304"
      ],
      "text/latex": [
       "\\textbf{Q198:} 30.9565217391304"
      ],
      "text/markdown": [
       "**Q198:** 30.9565217391304"
      ],
      "text/plain": [
       "    Q198 \n",
       "30.95652 "
      ]
     },
     "metadata": {},
     "output_type": "display_data"
    }
   ],
   "source": [
    "# LGBTQ providers - Calculate the percentage of 1st rankings\n",
    "hiv1_perc_LGBTQ <- (hiv1_count_LGBTQ[which.max(hiv1_count_LGBTQ)] / sum(rowSums(!is.na(LGBTQ_providers[, hiv_topics_LGBTQ])) > 0)) * 100\n",
    "hiv1_perc_LGBTQ"
   ]
  },
  {
   "cell_type": "markdown",
   "id": "935260b5-5658-48f0-a376-1984edf530f9",
   "metadata": {},
   "source": [
    "### HIV topic with greatest number of 2nd rankings among LGBTQ providers"
   ]
  },
  {
   "cell_type": "code",
   "execution_count": 160,
   "id": "64827c5d-276d-4000-81bb-aa41ec127c9c",
   "metadata": {},
   "outputs": [
    {
     "data": {
      "text/html": [
       "<style>\n",
       ".dl-inline {width: auto; margin:0; padding: 0}\n",
       ".dl-inline>dt, .dl-inline>dd {float: none; width: auto; display: inline-block}\n",
       ".dl-inline>dt::after {content: \":\\0020\"; padding-right: .5ex}\n",
       ".dl-inline>dt:not(:first-of-type) {padding-left: .5ex}\n",
       "</style><dl class=dl-inline><dt>Q198</dt><dd>56</dd><dt>Q199</dt><dd>87</dd><dt>Q200</dt><dd>76</dd><dt>Q201</dt><dd>26</dd><dt>Q202</dt><dd>42</dd><dt>Q203</dt><dd>51</dd><dt>Q204</dt><dd>48</dd><dt>Q205</dt><dd>49</dd><dt>Q206</dt><dd>56</dd><dt>Q207</dt><dd>15</dd><dt>Q208</dt><dd>19</dd><dt>Q209</dt><dd>2</dd><dt>Q210a</dt><dd>0</dd><dt>Q210b</dt><dd>1</dd></dl>\n"
      ],
      "text/latex": [
       "\\begin{description*}\n",
       "\\item[Q198] 56\n",
       "\\item[Q199] 87\n",
       "\\item[Q200] 76\n",
       "\\item[Q201] 26\n",
       "\\item[Q202] 42\n",
       "\\item[Q203] 51\n",
       "\\item[Q204] 48\n",
       "\\item[Q205] 49\n",
       "\\item[Q206] 56\n",
       "\\item[Q207] 15\n",
       "\\item[Q208] 19\n",
       "\\item[Q209] 2\n",
       "\\item[Q210a] 0\n",
       "\\item[Q210b] 1\n",
       "\\end{description*}\n"
      ],
      "text/markdown": [
       "Q198\n",
       ":   56Q199\n",
       ":   87Q200\n",
       ":   76Q201\n",
       ":   26Q202\n",
       ":   42Q203\n",
       ":   51Q204\n",
       ":   48Q205\n",
       ":   49Q206\n",
       ":   56Q207\n",
       ":   15Q208\n",
       ":   19Q209\n",
       ":   2Q210a\n",
       ":   0Q210b\n",
       ":   1\n",
       "\n"
      ],
      "text/plain": [
       " Q198  Q199  Q200  Q201  Q202  Q203  Q204  Q205  Q206  Q207  Q208  Q209 Q210a \n",
       "   56    87    76    26    42    51    48    49    56    15    19     2     0 \n",
       "Q210b \n",
       "    1 "
      ]
     },
     "metadata": {},
     "output_type": "display_data"
    }
   ],
   "source": [
    "# LGBTQ providers - Calculate the counts of 2nd rankings for each HIV topic\n",
    "hiv2_count_LGBTQ <- sapply(hiv_topics_LGBTQ, function(topic) sum(LGBTQ_providers[[topic]] == 2, na.rm = TRUE))\n",
    "hiv2_count_LGBTQ"
   ]
  },
  {
   "cell_type": "code",
   "execution_count": 161,
   "id": "6041062b-ba35-41f5-8a95-48c0b17347dc",
   "metadata": {},
   "outputs": [
    {
     "data": {
      "text/html": [
       "'Q199'"
      ],
      "text/latex": [
       "'Q199'"
      ],
      "text/markdown": [
       "'Q199'"
      ],
      "text/plain": [
       "[1] \"Q199\""
      ]
     },
     "metadata": {},
     "output_type": "display_data"
    }
   ],
   "source": [
    "# LGBTQ providers - Find the HIV topic with the highest count of 2nd rankings\n",
    "hiv2_rank_LGBTQ <- hiv_topics_LGBTQ[which.max(hiv2_count_LGBTQ)]\n",
    "hiv2_rank_LGBTQ"
   ]
  },
  {
   "cell_type": "code",
   "execution_count": 162,
   "id": "07b51c33-39a5-451e-a3cb-f806daf3ea63",
   "metadata": {},
   "outputs": [
    {
     "data": {
      "text/html": [
       "<strong>Q199:</strong> 15.1304347826087"
      ],
      "text/latex": [
       "\\textbf{Q199:} 15.1304347826087"
      ],
      "text/markdown": [
       "**Q199:** 15.1304347826087"
      ],
      "text/plain": [
       "    Q199 \n",
       "15.13043 "
      ]
     },
     "metadata": {},
     "output_type": "display_data"
    }
   ],
   "source": [
    "# LGBTQ providers - Calculate the percentage of 2nd rankings\n",
    "hiv2_perc_LGBTQ  <- (hiv2_count_LGBTQ[which.max(hiv2_count_LGBTQ)] / sum(rowSums(!is.na(LGBTQ_providers[, hiv_topics_LGBTQ])) > 0)) * 100\n",
    "hiv2_perc_LGBTQ "
   ]
  },
  {
   "cell_type": "markdown",
   "id": "3859f276-ed87-4f08-822c-afe95429c6e7",
   "metadata": {},
   "source": [
    "### HIV topic with greatest number of 3rd rankings among LGBTQ providers"
   ]
  },
  {
   "cell_type": "code",
   "execution_count": 163,
   "id": "944c6eed-48f9-46fd-8fdc-7091f457b525",
   "metadata": {},
   "outputs": [
    {
     "data": {
      "text/html": [
       "<style>\n",
       ".dl-inline {width: auto; margin:0; padding: 0}\n",
       ".dl-inline>dt, .dl-inline>dd {float: none; width: auto; display: inline-block}\n",
       ".dl-inline>dt::after {content: \":\\0020\"; padding-right: .5ex}\n",
       ".dl-inline>dt:not(:first-of-type) {padding-left: .5ex}\n",
       "</style><dl class=dl-inline><dt>Q198</dt><dd>65</dd><dt>Q199</dt><dd>47</dd><dt>Q200</dt><dd>53</dd><dt>Q201</dt><dd>17</dd><dt>Q202</dt><dd>56</dd><dt>Q203</dt><dd>46</dd><dt>Q204</dt><dd>57</dd><dt>Q205</dt><dd>58</dd><dt>Q206</dt><dd>52</dd><dt>Q207</dt><dd>12</dd><dt>Q208</dt><dd>36</dd><dt>Q209</dt><dd>16</dd><dt>Q210a</dt><dd>2</dd><dt>Q210b</dt><dd>3</dd></dl>\n"
      ],
      "text/latex": [
       "\\begin{description*}\n",
       "\\item[Q198] 65\n",
       "\\item[Q199] 47\n",
       "\\item[Q200] 53\n",
       "\\item[Q201] 17\n",
       "\\item[Q202] 56\n",
       "\\item[Q203] 46\n",
       "\\item[Q204] 57\n",
       "\\item[Q205] 58\n",
       "\\item[Q206] 52\n",
       "\\item[Q207] 12\n",
       "\\item[Q208] 36\n",
       "\\item[Q209] 16\n",
       "\\item[Q210a] 2\n",
       "\\item[Q210b] 3\n",
       "\\end{description*}\n"
      ],
      "text/markdown": [
       "Q198\n",
       ":   65Q199\n",
       ":   47Q200\n",
       ":   53Q201\n",
       ":   17Q202\n",
       ":   56Q203\n",
       ":   46Q204\n",
       ":   57Q205\n",
       ":   58Q206\n",
       ":   52Q207\n",
       ":   12Q208\n",
       ":   36Q209\n",
       ":   16Q210a\n",
       ":   2Q210b\n",
       ":   3\n",
       "\n"
      ],
      "text/plain": [
       " Q198  Q199  Q200  Q201  Q202  Q203  Q204  Q205  Q206  Q207  Q208  Q209 Q210a \n",
       "   65    47    53    17    56    46    57    58    52    12    36    16     2 \n",
       "Q210b \n",
       "    3 "
      ]
     },
     "metadata": {},
     "output_type": "display_data"
    }
   ],
   "source": [
    "# LGBTQ providers - Calculate the counts of 3rd rankings for each HIV topic\n",
    "hiv3_count_LGBTQ  <- sapply(hiv_topics_LGBTQ, function(topic) sum(LGBTQ_providers[[topic]] == 3, na.rm = TRUE))\n",
    "hiv3_count_LGBTQ"
   ]
  },
  {
   "cell_type": "code",
   "execution_count": 164,
   "id": "a76e9b00-9443-456f-9352-06f4149c9025",
   "metadata": {},
   "outputs": [
    {
     "data": {
      "text/html": [
       "'Q198'"
      ],
      "text/latex": [
       "'Q198'"
      ],
      "text/markdown": [
       "'Q198'"
      ],
      "text/plain": [
       "[1] \"Q198\""
      ]
     },
     "metadata": {},
     "output_type": "display_data"
    }
   ],
   "source": [
    "# LGBTQ providers - Find the PrEP topic with the highest count of 3rd rankings\n",
    "hiv3_rank_LGBTQ <- hiv_topics_LGBTQ[which.max(hiv3_count_LGBTQ)]\n",
    "hiv3_rank_LGBTQ"
   ]
  },
  {
   "cell_type": "code",
   "execution_count": 165,
   "id": "5f3bd337-8b52-4885-b3fd-07f994b4b7be",
   "metadata": {},
   "outputs": [
    {
     "data": {
      "text/html": [
       "<strong>Q198:</strong> 11.304347826087"
      ],
      "text/latex": [
       "\\textbf{Q198:} 11.304347826087"
      ],
      "text/markdown": [
       "**Q198:** 11.304347826087"
      ],
      "text/plain": [
       "    Q198 \n",
       "11.30435 "
      ]
     },
     "metadata": {},
     "output_type": "display_data"
    }
   ],
   "source": [
    "# LGBTQ providers - Calculate the percentage of 3rd ranking\n",
    "hiv3_perc_LGBTQ <- (hiv3_count_LGBTQ[which.max(hiv3_count_LGBTQ)] / sum(rowSums(!is.na(LGBTQ_providers[, hiv_topics_LGBTQ])) > 0)) * 100\n",
    "hiv3_perc_LGBTQ"
   ]
  },
  {
   "cell_type": "markdown",
   "id": "5714b7fa-2106-4a79-ab3e-774221523277",
   "metadata": {},
   "source": [
    "### Top 3 HIV topics among LGBTQ providers"
   ]
  },
  {
   "cell_type": "code",
   "execution_count": 166,
   "id": "79f164d2-29a9-4224-b052-3dceedf18234",
   "metadata": {},
   "outputs": [
    {
     "data": {
      "text/html": [
       "<style>\n",
       ".dl-inline {width: auto; margin:0; padding: 0}\n",
       ".dl-inline>dt, .dl-inline>dd {float: none; width: auto; display: inline-block}\n",
       ".dl-inline>dt::after {content: \":\\0020\"; padding-right: .5ex}\n",
       ".dl-inline>dt:not(:first-of-type) {padding-left: .5ex}\n",
       "</style><dl class=dl-inline><dt>Q198</dt><dd>299</dd><dt>Q199</dt><dd>214</dd><dt>Q200</dt><dd>201</dd><dt>Q201</dt><dd>60</dd><dt>Q202</dt><dd>119</dd><dt>Q203</dt><dd>134</dd><dt>Q204</dt><dd>139</dd><dt>Q205</dt><dd>156</dd><dt>Q206</dt><dd>156</dd><dt>Q207</dt><dd>33</dd><dt>Q208</dt><dd>67</dd><dt>Q209</dt><dd>30</dd><dt>Q210a</dt><dd>5</dd><dt>Q210b</dt><dd>5</dd></dl>\n"
      ],
      "text/latex": [
       "\\begin{description*}\n",
       "\\item[Q198] 299\n",
       "\\item[Q199] 214\n",
       "\\item[Q200] 201\n",
       "\\item[Q201] 60\n",
       "\\item[Q202] 119\n",
       "\\item[Q203] 134\n",
       "\\item[Q204] 139\n",
       "\\item[Q205] 156\n",
       "\\item[Q206] 156\n",
       "\\item[Q207] 33\n",
       "\\item[Q208] 67\n",
       "\\item[Q209] 30\n",
       "\\item[Q210a] 5\n",
       "\\item[Q210b] 5\n",
       "\\end{description*}\n"
      ],
      "text/markdown": [
       "Q198\n",
       ":   299Q199\n",
       ":   214Q200\n",
       ":   201Q201\n",
       ":   60Q202\n",
       ":   119Q203\n",
       ":   134Q204\n",
       ":   139Q205\n",
       ":   156Q206\n",
       ":   156Q207\n",
       ":   33Q208\n",
       ":   67Q209\n",
       ":   30Q210a\n",
       ":   5Q210b\n",
       ":   5\n",
       "\n"
      ],
      "text/plain": [
       " Q198  Q199  Q200  Q201  Q202  Q203  Q204  Q205  Q206  Q207  Q208  Q209 Q210a \n",
       "  299   214   201    60   119   134   139   156   156    33    67    30     5 \n",
       "Q210b \n",
       "    5 "
      ]
     },
     "metadata": {},
     "output_type": "display_data"
    },
    {
     "data": {
      "text/html": [
       "<style>\n",
       ".dl-inline {width: auto; margin:0; padding: 0}\n",
       ".dl-inline>dt, .dl-inline>dd {float: none; width: auto; display: inline-block}\n",
       ".dl-inline>dt::after {content: \":\\0020\"; padding-right: .5ex}\n",
       ".dl-inline>dt:not(:first-of-type) {padding-left: .5ex}\n",
       "</style><dl class=dl-inline><dt>Q198</dt><dd>299</dd><dt>Q199</dt><dd>214</dd><dt>Q200</dt><dd>201</dd><dt>Q205</dt><dd>156</dd><dt>Q206</dt><dd>156</dd><dt>Q204</dt><dd>139</dd><dt>Q203</dt><dd>134</dd><dt>Q202</dt><dd>119</dd><dt>Q208</dt><dd>67</dd><dt>Q201</dt><dd>60</dd><dt>Q207</dt><dd>33</dd><dt>Q209</dt><dd>30</dd><dt>Q210a</dt><dd>5</dd><dt>Q210b</dt><dd>5</dd></dl>\n"
      ],
      "text/latex": [
       "\\begin{description*}\n",
       "\\item[Q198] 299\n",
       "\\item[Q199] 214\n",
       "\\item[Q200] 201\n",
       "\\item[Q205] 156\n",
       "\\item[Q206] 156\n",
       "\\item[Q204] 139\n",
       "\\item[Q203] 134\n",
       "\\item[Q202] 119\n",
       "\\item[Q208] 67\n",
       "\\item[Q201] 60\n",
       "\\item[Q207] 33\n",
       "\\item[Q209] 30\n",
       "\\item[Q210a] 5\n",
       "\\item[Q210b] 5\n",
       "\\end{description*}\n"
      ],
      "text/markdown": [
       "Q198\n",
       ":   299Q199\n",
       ":   214Q200\n",
       ":   201Q205\n",
       ":   156Q206\n",
       ":   156Q204\n",
       ":   139Q203\n",
       ":   134Q202\n",
       ":   119Q208\n",
       ":   67Q201\n",
       ":   60Q207\n",
       ":   33Q209\n",
       ":   30Q210a\n",
       ":   5Q210b\n",
       ":   5\n",
       "\n"
      ],
      "text/plain": [
       " Q198  Q199  Q200  Q205  Q206  Q204  Q203  Q202  Q208  Q201  Q207  Q209 Q210a \n",
       "  299   214   201   156   156   139   134   119    67    60    33    30     5 \n",
       "Q210b \n",
       "    5 "
      ]
     },
     "metadata": {},
     "output_type": "display_data"
    },
    {
     "data": {
      "text/html": [
       "<style>\n",
       ".list-inline {list-style: none; margin:0; padding: 0}\n",
       ".list-inline>li {display: inline-block}\n",
       ".list-inline>li:not(:last-child)::after {content: \"\\00b7\"; padding: 0 .5ex}\n",
       "</style>\n",
       "<ol class=list-inline><li>'Q198'</li><li>'Q199'</li><li>'Q200'</li></ol>\n"
      ],
      "text/latex": [
       "\\begin{enumerate*}\n",
       "\\item 'Q198'\n",
       "\\item 'Q199'\n",
       "\\item 'Q200'\n",
       "\\end{enumerate*}\n"
      ],
      "text/markdown": [
       "1. 'Q198'\n",
       "2. 'Q199'\n",
       "3. 'Q200'\n",
       "\n",
       "\n"
      ],
      "text/plain": [
       "[1] \"Q198\" \"Q199\" \"Q200\""
      ]
     },
     "metadata": {},
     "output_type": "display_data"
    }
   ],
   "source": [
    "# Calculate the counts for each HIV topic\n",
    "hiv_topic_counts_LGBTQ <- sapply(hiv_topics_LGBTQ, function(topic) sum(LGBTQ_providers[[topic]] %in% c(1, 2, 3), na.rm = TRUE))\n",
    "hiv_topic_counts_LGBTQ\n",
    "# Sort the topics based on their counts in descending order\n",
    "hiv_sorted_topics_LGBTQ <- sort(hiv_topic_counts_LGBTQ, decreasing = TRUE)\n",
    "hiv_sorted_topics_LGBTQ\n",
    "# Get the top 3 topics\n",
    "top3_hiv_topics_LGBTQ <- names(hiv_sorted_topics_LGBTQ)[1:3]\n",
    "\n",
    "top3_hiv_topics_LGBTQ"
   ]
  },
  {
   "cell_type": "markdown",
   "id": "97ebd985-062f-4df8-9423-733637aca235",
   "metadata": {},
   "source": [
    "### Percentage of each top 3 HIV topic among LGBTQ providers"
   ]
  },
  {
   "cell_type": "code",
   "execution_count": 167,
   "id": "a220b6fe-cee7-43d3-a359-2176b112ada3",
   "metadata": {},
   "outputs": [
    {
     "data": {
      "text/html": [
       "<strong>Q198:</strong> 52"
      ],
      "text/latex": [
       "\\textbf{Q198:} 52"
      ],
      "text/markdown": [
       "**Q198:** 52"
      ],
      "text/plain": [
       "Q198 \n",
       "  52 "
      ]
     },
     "metadata": {},
     "output_type": "display_data"
    },
    {
     "data": {
      "text/html": [
       "<strong>Q199:</strong> 37.2173913043478"
      ],
      "text/latex": [
       "\\textbf{Q199:} 37.2173913043478"
      ],
      "text/markdown": [
       "**Q199:** 37.2173913043478"
      ],
      "text/plain": [
       "    Q199 \n",
       "37.21739 "
      ]
     },
     "metadata": {},
     "output_type": "display_data"
    },
    {
     "data": {
      "text/html": [
       "<strong>Q200:</strong> 34.9565217391304"
      ],
      "text/latex": [
       "\\textbf{Q200:} 34.9565217391304"
      ],
      "text/markdown": [
       "**Q200:** 34.9565217391304"
      ],
      "text/plain": [
       "    Q200 \n",
       "34.95652 "
      ]
     },
     "metadata": {},
     "output_type": "display_data"
    }
   ],
   "source": [
    "# Calculate the total count of respondents who provided a ranking (1, 2, or 3) for any of the HIV topic questions\n",
    "hiv_total_respondents_LGBTQ <- sum(rowSums(!is.na(LGBTQ_providers[, hiv_topics_LGBTQ])) > 0)\n",
    "\n",
    "# Calculate the percentage for the first top3_hiv_topics_LGBTQ\n",
    "hiv1_percentage_LGBTQ <- (hiv_sorted_topics_LGBTQ[1] / hiv_total_respondents_LGBTQ) * 100\n",
    "\n",
    "# Calculate the percentage for the second top3_hiv_topics_LGBTQ\n",
    "hiv2_percentage_LGBTQ <- (hiv_sorted_topics_LGBTQ[2] / hiv_total_respondents_LGBTQ) * 100\n",
    "\n",
    "# Calculate the percentage for the third top3_hiv_topics_LGBTQ\n",
    "hiv3_percentage_LGBTQ <- (hiv_sorted_topics_LGBTQ[3] / hiv_total_respondents_LGBTQ) * 100\n",
    "\n",
    "# Print the results\n",
    "hiv1_percentage_LGBTQ\n",
    "hiv2_percentage_LGBTQ\n",
    "hiv3_percentage_LGBTQ"
   ]
  },
  {
   "cell_type": "markdown",
   "id": "14c92c5d-4003-4950-819a-889fe6a323b0",
   "metadata": {},
   "source": [
    "## PrEP training statistcis for LGBTQ providers"
   ]
  },
  {
   "cell_type": "code",
   "execution_count": 168,
   "id": "a883fef2-4472-4553-b245-0102565419de",
   "metadata": {},
   "outputs": [],
   "source": [
    "# LGBTQ providers - Create a vector of column names representing the PrEP topics columns\n",
    "prep_topics_LGBTQ <- c(\"Q211\", \"Q212\", \"Q213\", \"Q214\", \"Q215\",\"Q216\",\"Q217\",\"Q218\",\"Q219\",\"Q220\",\"Q221\",\"Q222\",\"Q223\",\"Q224\",\"Q225\")"
   ]
  },
  {
   "cell_type": "markdown",
   "id": "ae7ced39-7ca6-4111-b8dc-d66b3e0d1406",
   "metadata": {},
   "source": [
    "### PrEP topic with greatest number of 1st rankings among LGBTQ providers"
   ]
  },
  {
   "cell_type": "code",
   "execution_count": 169,
   "id": "ab3ace8b-9ac2-42c4-ab95-69b16b74013c",
   "metadata": {},
   "outputs": [
    {
     "data": {
      "text/html": [
       "<style>\n",
       ".dl-inline {width: auto; margin:0; padding: 0}\n",
       ".dl-inline>dt, .dl-inline>dd {float: none; width: auto; display: inline-block}\n",
       ".dl-inline>dt::after {content: \":\\0020\"; padding-right: .5ex}\n",
       ".dl-inline>dt:not(:first-of-type) {padding-left: .5ex}\n",
       "</style><dl class=dl-inline><dt>Q211</dt><dd>124</dd><dt>Q212</dt><dd>73</dd><dt>Q213</dt><dd>62</dd><dt>Q214</dt><dd>108</dd><dt>Q215</dt><dd>11</dd><dt>Q216</dt><dd>22</dd><dt>Q217</dt><dd>20</dd><dt>Q218</dt><dd>48</dd><dt>Q219</dt><dd>37</dd><dt>Q220</dt><dd>31</dd><dt>Q221</dt><dd>19</dd><dt>Q222</dt><dd>29</dd><dt>Q223</dt><dd>36</dd><dt>Q224</dt><dd>12</dd><dt>Q225</dt><dd>3</dd></dl>\n"
      ],
      "text/latex": [
       "\\begin{description*}\n",
       "\\item[Q211] 124\n",
       "\\item[Q212] 73\n",
       "\\item[Q213] 62\n",
       "\\item[Q214] 108\n",
       "\\item[Q215] 11\n",
       "\\item[Q216] 22\n",
       "\\item[Q217] 20\n",
       "\\item[Q218] 48\n",
       "\\item[Q219] 37\n",
       "\\item[Q220] 31\n",
       "\\item[Q221] 19\n",
       "\\item[Q222] 29\n",
       "\\item[Q223] 36\n",
       "\\item[Q224] 12\n",
       "\\item[Q225] 3\n",
       "\\end{description*}\n"
      ],
      "text/markdown": [
       "Q211\n",
       ":   124Q212\n",
       ":   73Q213\n",
       ":   62Q214\n",
       ":   108Q215\n",
       ":   11Q216\n",
       ":   22Q217\n",
       ":   20Q218\n",
       ":   48Q219\n",
       ":   37Q220\n",
       ":   31Q221\n",
       ":   19Q222\n",
       ":   29Q223\n",
       ":   36Q224\n",
       ":   12Q225\n",
       ":   3\n",
       "\n"
      ],
      "text/plain": [
       "Q211 Q212 Q213 Q214 Q215 Q216 Q217 Q218 Q219 Q220 Q221 Q222 Q223 Q224 Q225 \n",
       " 124   73   62  108   11   22   20   48   37   31   19   29   36   12    3 "
      ]
     },
     "metadata": {},
     "output_type": "display_data"
    }
   ],
   "source": [
    "# LGBTQ providers - Calculate the counts of 1st rankings for each PrEP topic\n",
    "prep1_count_LGBTQ <- sapply(prep_topics_LGBTQ, function(topic) sum(LGBTQ_providers[[topic]] == 1, na.rm = TRUE))\n",
    "prep1_count_LGBTQ"
   ]
  },
  {
   "cell_type": "code",
   "execution_count": 170,
   "id": "40c531ba-08dd-431e-b7e2-335cdc6a443e",
   "metadata": {},
   "outputs": [
    {
     "data": {
      "text/html": [
       "'Q211'"
      ],
      "text/latex": [
       "'Q211'"
      ],
      "text/markdown": [
       "'Q211'"
      ],
      "text/plain": [
       "[1] \"Q211\""
      ]
     },
     "metadata": {},
     "output_type": "display_data"
    }
   ],
   "source": [
    "# LGBTQ providers - Find the PrEP topic with the highest count of 1st rankings\n",
    "prep1_rank_LGBTQ <- prep_topics_LGBTQ[which.max(prep1_count_LGBTQ)]\n",
    "prep1_rank_LGBTQ"
   ]
  },
  {
   "cell_type": "code",
   "execution_count": 171,
   "id": "24cfd542-394e-423d-8488-7c8bf32cc226",
   "metadata": {},
   "outputs": [
    {
     "data": {
      "text/html": [
       "<strong>Q211:</strong> 19.2846034214619"
      ],
      "text/latex": [
       "\\textbf{Q211:} 19.2846034214619"
      ],
      "text/markdown": [
       "**Q211:** 19.2846034214619"
      ],
      "text/plain": [
       "   Q211 \n",
       "19.2846 "
      ]
     },
     "metadata": {},
     "output_type": "display_data"
    }
   ],
   "source": [
    "# LGBTQ providers - Calculate the percentage of 1st rankings\n",
    "prep1_perc_LGBTQ <- (prep1_count_LGBTQ[which.max(prep1_count_LGBTQ)] / sum(rowSums(!is.na(LGBTQ_providers[, prep_topics_LGBTQ])) > 0)) * 100\n",
    "prep1_perc_LGBTQ"
   ]
  },
  {
   "cell_type": "markdown",
   "id": "db95145a-7f46-4e22-a661-3d80df7dd634",
   "metadata": {},
   "source": [
    "### PrEP topic with greatest number of 2nd rankings among LGBTQ providers"
   ]
  },
  {
   "cell_type": "code",
   "execution_count": 172,
   "id": "aed8efb8-c27a-48b1-a772-f748ff66bde1",
   "metadata": {},
   "outputs": [
    {
     "data": {
      "text/html": [
       "<style>\n",
       ".dl-inline {width: auto; margin:0; padding: 0}\n",
       ".dl-inline>dt, .dl-inline>dd {float: none; width: auto; display: inline-block}\n",
       ".dl-inline>dt::after {content: \":\\0020\"; padding-right: .5ex}\n",
       ".dl-inline>dt:not(:first-of-type) {padding-left: .5ex}\n",
       "</style><dl class=dl-inline><dt>Q211</dt><dd>29</dd><dt>Q212</dt><dd>70</dd><dt>Q213</dt><dd>53</dd><dt>Q214</dt><dd>80</dd><dt>Q215</dt><dd>26</dd><dt>Q216</dt><dd>34</dd><dt>Q217</dt><dd>37</dd><dt>Q218</dt><dd>77</dd><dt>Q219</dt><dd>50</dd><dt>Q220</dt><dd>39</dd><dt>Q221</dt><dd>24</dd><dt>Q222</dt><dd>27</dd><dt>Q223</dt><dd>41</dd><dt>Q224</dt><dd>15</dd><dt>Q225</dt><dd>0</dd></dl>\n"
      ],
      "text/latex": [
       "\\begin{description*}\n",
       "\\item[Q211] 29\n",
       "\\item[Q212] 70\n",
       "\\item[Q213] 53\n",
       "\\item[Q214] 80\n",
       "\\item[Q215] 26\n",
       "\\item[Q216] 34\n",
       "\\item[Q217] 37\n",
       "\\item[Q218] 77\n",
       "\\item[Q219] 50\n",
       "\\item[Q220] 39\n",
       "\\item[Q221] 24\n",
       "\\item[Q222] 27\n",
       "\\item[Q223] 41\n",
       "\\item[Q224] 15\n",
       "\\item[Q225] 0\n",
       "\\end{description*}\n"
      ],
      "text/markdown": [
       "Q211\n",
       ":   29Q212\n",
       ":   70Q213\n",
       ":   53Q214\n",
       ":   80Q215\n",
       ":   26Q216\n",
       ":   34Q217\n",
       ":   37Q218\n",
       ":   77Q219\n",
       ":   50Q220\n",
       ":   39Q221\n",
       ":   24Q222\n",
       ":   27Q223\n",
       ":   41Q224\n",
       ":   15Q225\n",
       ":   0\n",
       "\n"
      ],
      "text/plain": [
       "Q211 Q212 Q213 Q214 Q215 Q216 Q217 Q218 Q219 Q220 Q221 Q222 Q223 Q224 Q225 \n",
       "  29   70   53   80   26   34   37   77   50   39   24   27   41   15    0 "
      ]
     },
     "metadata": {},
     "output_type": "display_data"
    }
   ],
   "source": [
    "# LGBTQ providers - Calculate the counts of 2nd rankings for each PrEP topic\n",
    "prep2_count_LGBTQ <- sapply(prep_topics_LGBTQ, function(topic) sum(LGBTQ_providers[[topic]] == 2, na.rm = TRUE))\n",
    "prep2_count_LGBTQ"
   ]
  },
  {
   "cell_type": "code",
   "execution_count": 173,
   "id": "3bd254f6-2bd1-46a7-a029-ed7bd9d3f1b5",
   "metadata": {},
   "outputs": [
    {
     "data": {
      "text/html": [
       "'Q214'"
      ],
      "text/latex": [
       "'Q214'"
      ],
      "text/markdown": [
       "'Q214'"
      ],
      "text/plain": [
       "[1] \"Q214\""
      ]
     },
     "metadata": {},
     "output_type": "display_data"
    }
   ],
   "source": [
    "# LGBTQ providers - Find the PrEP topic with the highest count of 2nd rankings\n",
    "prep2_rank_LGBTQ <- prep_topics_LGBTQ[which.max(prep2_count_LGBTQ)]\n",
    "prep2_rank_LGBTQ"
   ]
  },
  {
   "cell_type": "code",
   "execution_count": 174,
   "id": "3f253e66-b45b-473b-b08d-727d3c8bff22",
   "metadata": {},
   "outputs": [
    {
     "data": {
      "text/html": [
       "<strong>Q214:</strong> 12.4416796267496"
      ],
      "text/latex": [
       "\\textbf{Q214:} 12.4416796267496"
      ],
      "text/markdown": [
       "**Q214:** 12.4416796267496"
      ],
      "text/plain": [
       "    Q214 \n",
       "12.44168 "
      ]
     },
     "metadata": {},
     "output_type": "display_data"
    }
   ],
   "source": [
    "# LGBTQ providers - Calculate the percentage of 2nd rankings\n",
    "prep2_perc_LGBTQ  <- (prep2_count_LGBTQ[which.max(prep2_count_LGBTQ)] / sum(rowSums(!is.na(LGBTQ_providers[, prep_topics_LGBTQ])) > 0)) * 100\n",
    "prep2_perc_LGBTQ "
   ]
  },
  {
   "cell_type": "markdown",
   "id": "1dfb15d8-dba5-4bd1-aa71-4da91f67b28a",
   "metadata": {},
   "source": [
    "### PrEP topic with greatest number of 3rd rankings among LGBTQ providers"
   ]
  },
  {
   "cell_type": "code",
   "execution_count": 175,
   "id": "97476640-b086-4cc6-8c22-47cc63992a11",
   "metadata": {},
   "outputs": [
    {
     "data": {
      "text/html": [
       "<style>\n",
       ".dl-inline {width: auto; margin:0; padding: 0}\n",
       ".dl-inline>dt, .dl-inline>dd {float: none; width: auto; display: inline-block}\n",
       ".dl-inline>dt::after {content: \":\\0020\"; padding-right: .5ex}\n",
       ".dl-inline>dt:not(:first-of-type) {padding-left: .5ex}\n",
       "</style><dl class=dl-inline><dt>Q211</dt><dd>44</dd><dt>Q212</dt><dd>21</dd><dt>Q213</dt><dd>43</dd><dt>Q214</dt><dd>52</dd><dt>Q215</dt><dd>18</dd><dt>Q216</dt><dd>35</dd><dt>Q217</dt><dd>38</dd><dt>Q218</dt><dd>69</dd><dt>Q219</dt><dd>26</dd><dt>Q220</dt><dd>66</dd><dt>Q221</dt><dd>42</dd><dt>Q222</dt><dd>46</dd><dt>Q223</dt><dd>42</dd><dt>Q224</dt><dd>41</dd><dt>Q225</dt><dd>5</dd></dl>\n"
      ],
      "text/latex": [
       "\\begin{description*}\n",
       "\\item[Q211] 44\n",
       "\\item[Q212] 21\n",
       "\\item[Q213] 43\n",
       "\\item[Q214] 52\n",
       "\\item[Q215] 18\n",
       "\\item[Q216] 35\n",
       "\\item[Q217] 38\n",
       "\\item[Q218] 69\n",
       "\\item[Q219] 26\n",
       "\\item[Q220] 66\n",
       "\\item[Q221] 42\n",
       "\\item[Q222] 46\n",
       "\\item[Q223] 42\n",
       "\\item[Q224] 41\n",
       "\\item[Q225] 5\n",
       "\\end{description*}\n"
      ],
      "text/markdown": [
       "Q211\n",
       ":   44Q212\n",
       ":   21Q213\n",
       ":   43Q214\n",
       ":   52Q215\n",
       ":   18Q216\n",
       ":   35Q217\n",
       ":   38Q218\n",
       ":   69Q219\n",
       ":   26Q220\n",
       ":   66Q221\n",
       ":   42Q222\n",
       ":   46Q223\n",
       ":   42Q224\n",
       ":   41Q225\n",
       ":   5\n",
       "\n"
      ],
      "text/plain": [
       "Q211 Q212 Q213 Q214 Q215 Q216 Q217 Q218 Q219 Q220 Q221 Q222 Q223 Q224 Q225 \n",
       "  44   21   43   52   18   35   38   69   26   66   42   46   42   41    5 "
      ]
     },
     "metadata": {},
     "output_type": "display_data"
    }
   ],
   "source": [
    "# LGBTQ providers - Calculate the counts of 3rd rankings for each PrEP topic\n",
    "prep3_count_LGBTQ  <- sapply(prep_topics_LGBTQ, function(topic) sum(LGBTQ_providers[[topic]] == 3, na.rm = TRUE))\n",
    "prep3_count_LGBTQ"
   ]
  },
  {
   "cell_type": "code",
   "execution_count": 176,
   "id": "0c606886-06b0-4b47-bda6-f849a9c3901e",
   "metadata": {},
   "outputs": [
    {
     "data": {
      "text/html": [
       "'Q218'"
      ],
      "text/latex": [
       "'Q218'"
      ],
      "text/markdown": [
       "'Q218'"
      ],
      "text/plain": [
       "[1] \"Q218\""
      ]
     },
     "metadata": {},
     "output_type": "display_data"
    }
   ],
   "source": [
    "# LGBTQ providers - Find the PrEP topic with the highest count of 3rd rankings\n",
    "prep3_rank_LGBTQ <- prep_topics_LGBTQ[which.max(prep3_count_LGBTQ )]\n",
    "prep3_rank_LGBTQ"
   ]
  },
  {
   "cell_type": "code",
   "execution_count": 177,
   "id": "11ad2318-4950-4e06-af29-452296dcb111",
   "metadata": {},
   "outputs": [
    {
     "data": {
      "text/html": [
       "<strong>Q218:</strong> 10.7309486780715"
      ],
      "text/latex": [
       "\\textbf{Q218:} 10.7309486780715"
      ],
      "text/markdown": [
       "**Q218:** 10.7309486780715"
      ],
      "text/plain": [
       "    Q218 \n",
       "10.73095 "
      ]
     },
     "metadata": {},
     "output_type": "display_data"
    }
   ],
   "source": [
    "# LGBTQ providers - Calculate the percentage of 3rd ranking\n",
    "prep3_perc_LGBTQ <- (prep3_count_LGBTQ[which.max(prep3_count_LGBTQ)] / sum(rowSums(!is.na(LGBTQ_providers[, prep_topics_LGBTQ])) > 0)) * 100\n",
    "prep3_perc_LGBTQ"
   ]
  },
  {
   "cell_type": "markdown",
   "id": "2b22bace-aa3a-4756-9a5a-801ab6b72b52",
   "metadata": {},
   "source": [
    "### Top 3 PrEP topics among LGBTQ providers"
   ]
  },
  {
   "cell_type": "code",
   "execution_count": 178,
   "id": "f9b6d581-9bf4-41a6-9032-63bb8ff81801",
   "metadata": {},
   "outputs": [
    {
     "data": {
      "text/html": [
       "<style>\n",
       ".list-inline {list-style: none; margin:0; padding: 0}\n",
       ".list-inline>li {display: inline-block}\n",
       ".list-inline>li:not(:last-child)::after {content: \"\\00b7\"; padding: 0 .5ex}\n",
       "</style>\n",
       "<ol class=list-inline><li>'Q214'</li><li>'Q211'</li><li>'Q218'</li></ol>\n"
      ],
      "text/latex": [
       "\\begin{enumerate*}\n",
       "\\item 'Q214'\n",
       "\\item 'Q211'\n",
       "\\item 'Q218'\n",
       "\\end{enumerate*}\n"
      ],
      "text/markdown": [
       "1. 'Q214'\n",
       "2. 'Q211'\n",
       "3. 'Q218'\n",
       "\n",
       "\n"
      ],
      "text/plain": [
       "[1] \"Q214\" \"Q211\" \"Q218\""
      ]
     },
     "metadata": {},
     "output_type": "display_data"
    }
   ],
   "source": [
    "# Calculate the counts for each PrEP topic\n",
    "prep_topic_counts_LGBTQ <- sapply(prep_topics_LGBTQ, function(topic) sum(LGBTQ_providers[[topic]] %in% c(1, 2, 3), na.rm = TRUE))\n",
    "\n",
    "# Sort the topics based on their counts in descending order\n",
    "prep_sorted_topics_LGBTQ <- sort(prep_topic_counts_LGBTQ, decreasing = TRUE)\n",
    "\n",
    "# Get the top 3 topics\n",
    "top3_prep_topics_LGBTQ <- names(prep_sorted_topics_LGBTQ)[1:3]\n",
    "top3_prep_topics_LGBTQ"
   ]
  },
  {
   "cell_type": "markdown",
   "id": "db9a8a97-851a-4d4d-8f39-747630e32000",
   "metadata": {},
   "source": [
    "### Percentage of each top 3 PrEP topic among LGBTQ providers"
   ]
  },
  {
   "cell_type": "code",
   "execution_count": 179,
   "id": "112e5ae5-5955-4a3e-b466-ead56a73d196",
   "metadata": {},
   "outputs": [
    {
     "data": {
      "text/html": [
       "<strong>Q214:</strong> 37.3250388802488"
      ],
      "text/latex": [
       "\\textbf{Q214:} 37.3250388802488"
      ],
      "text/markdown": [
       "**Q214:** 37.3250388802488"
      ],
      "text/plain": [
       "    Q214 \n",
       "37.32504 "
      ]
     },
     "metadata": {},
     "output_type": "display_data"
    },
    {
     "data": {
      "text/html": [
       "<strong>Q211:</strong> 30.6376360808709"
      ],
      "text/latex": [
       "\\textbf{Q211:} 30.6376360808709"
      ],
      "text/markdown": [
       "**Q211:** 30.6376360808709"
      ],
      "text/plain": [
       "    Q211 \n",
       "30.63764 "
      ]
     },
     "metadata": {},
     "output_type": "display_data"
    },
    {
     "data": {
      "text/html": [
       "<strong>Q218:</strong> 30.1710730948678"
      ],
      "text/latex": [
       "\\textbf{Q218:} 30.1710730948678"
      ],
      "text/markdown": [
       "**Q218:** 30.1710730948678"
      ],
      "text/plain": [
       "    Q218 \n",
       "30.17107 "
      ]
     },
     "metadata": {},
     "output_type": "display_data"
    }
   ],
   "source": [
    "# Calculate the total count of respondents who provided a ranking (1, 2, or 3) for any of the PrEP topic questions\n",
    "prep_total_respondents_LGBTQ <- sum(rowSums(!is.na(LGBTQ_providers[, prep_topics_LGBTQ])) > 0)\n",
    "\n",
    "# Calculate the percentage for the first top3_prep_topics_LGBTQ\n",
    "prep1_percentage_LGBTQ <- (prep_sorted_topics_LGBTQ[1] / prep_total_respondents_LGBTQ) * 100\n",
    "\n",
    "# Calculate the percentage for the second top3_prep_topics_LGBTQ\n",
    "prep2_percentage_LGBTQ <- (prep_sorted_topics_LGBTQ[2] / prep_total_respondents_LGBTQ) * 100\n",
    "\n",
    "# Calculate the percentage for the third top3_prep_topics_LGBTQ\n",
    "prep3_percentage_LGBTQ <- (prep_sorted_topics_LGBTQ[3] / prep_total_respondents_LGBTQ) * 100\n",
    "\n",
    "# Print the results\n",
    "prep1_percentage_LGBTQ\n",
    "prep2_percentage_LGBTQ\n",
    "prep3_percentage_LGBTQ"
   ]
  },
  {
   "cell_type": "markdown",
   "id": "7f8dd44e-0c35-4e0b-859c-78c8a4d67b17",
   "metadata": {},
   "source": [
    "## LGBTQ training statistcis for LGBTQ providers"
   ]
  },
  {
   "cell_type": "code",
   "execution_count": 180,
   "id": "294c1884-fc23-4552-8d9e-091776d8ec53",
   "metadata": {},
   "outputs": [],
   "source": [
    "# Create a vector of column names representing the LGBTQ topics columns\n",
    "lgbtq_topics_LGBTQ <- c(\"Q227\", \"Q228\", \"Q229\", \"Q230\", \"Q231\",\"Q232\",\"Q233\",\"Q234\",\"Q235\")"
   ]
  },
  {
   "cell_type": "markdown",
   "id": "0aa44922-d444-4492-896c-e09f00d67f12",
   "metadata": {},
   "source": [
    "### LGBTQ topic with greatest number of 1st rankings among LGBTQ providers"
   ]
  },
  {
   "cell_type": "code",
   "execution_count": 181,
   "id": "be3f1f80-ab86-4ed4-946f-e14fbb678aab",
   "metadata": {},
   "outputs": [
    {
     "data": {
      "text/html": [
       "<style>\n",
       ".dl-inline {width: auto; margin:0; padding: 0}\n",
       ".dl-inline>dt, .dl-inline>dd {float: none; width: auto; display: inline-block}\n",
       ".dl-inline>dt::after {content: \":\\0020\"; padding-right: .5ex}\n",
       ".dl-inline>dt:not(:first-of-type) {padding-left: .5ex}\n",
       "</style><dl class=dl-inline><dt>Q227</dt><dd>132</dd><dt>Q228</dt><dd>178</dd><dt>Q229</dt><dd>114</dd><dt>Q230</dt><dd>111</dd><dt>Q231</dt><dd>29</dd><dt>Q232</dt><dd>58</dd><dt>Q233</dt><dd>110</dd><dt>Q234</dt><dd>108</dd><dt>Q235</dt><dd>14</dd></dl>\n"
      ],
      "text/latex": [
       "\\begin{description*}\n",
       "\\item[Q227] 132\n",
       "\\item[Q228] 178\n",
       "\\item[Q229] 114\n",
       "\\item[Q230] 111\n",
       "\\item[Q231] 29\n",
       "\\item[Q232] 58\n",
       "\\item[Q233] 110\n",
       "\\item[Q234] 108\n",
       "\\item[Q235] 14\n",
       "\\end{description*}\n"
      ],
      "text/markdown": [
       "Q227\n",
       ":   132Q228\n",
       ":   178Q229\n",
       ":   114Q230\n",
       ":   111Q231\n",
       ":   29Q232\n",
       ":   58Q233\n",
       ":   110Q234\n",
       ":   108Q235\n",
       ":   14\n",
       "\n"
      ],
      "text/plain": [
       "Q227 Q228 Q229 Q230 Q231 Q232 Q233 Q234 Q235 \n",
       " 132  178  114  111   29   58  110  108   14 "
      ]
     },
     "metadata": {},
     "output_type": "display_data"
    }
   ],
   "source": [
    "# LGBTQ providers - Calculate the counts of 1st rankings for each LGBTQ topic\n",
    "lgbtq1_count_LGBTQ <- sapply(lgbtq_topics_LGBTQ, function(topic) sum(LGBTQ_providers[[topic]] == 1, na.rm = TRUE))\n",
    "lgbtq1_count_LGBTQ"
   ]
  },
  {
   "cell_type": "code",
   "execution_count": 182,
   "id": "9df2a42d-1a5b-43b0-bd8d-cfd86ceec936",
   "metadata": {},
   "outputs": [
    {
     "data": {
      "text/html": [
       "'Q228'"
      ],
      "text/latex": [
       "'Q228'"
      ],
      "text/markdown": [
       "'Q228'"
      ],
      "text/plain": [
       "[1] \"Q228\""
      ]
     },
     "metadata": {},
     "output_type": "display_data"
    }
   ],
   "source": [
    "# LGBTQ providers - Find the LGBTQ topic with the highest count of 1st rankings\n",
    "lgbtq1_rank_LGBTQ <- lgbtq_topics_LGBTQ[which.max(lgbtq1_count_LGBTQ)]\n",
    "lgbtq1_rank_LGBTQ"
   ]
  },
  {
   "cell_type": "code",
   "execution_count": 183,
   "id": "c309a14c-d138-4a83-b0b0-d6343cc3cfc8",
   "metadata": {},
   "outputs": [
    {
     "data": {
      "text/html": [
       "<strong>Q228:</strong> 20.5780346820809"
      ],
      "text/latex": [
       "\\textbf{Q228:} 20.5780346820809"
      ],
      "text/markdown": [
       "**Q228:** 20.5780346820809"
      ],
      "text/plain": [
       "    Q228 \n",
       "20.57803 "
      ]
     },
     "metadata": {},
     "output_type": "display_data"
    }
   ],
   "source": [
    "# LGBTQ providers - Calculate the percentage of 1st rankings\n",
    "lgbtq1_perc_LGBTQ <- (lgbtq1_count_LGBTQ[which.max(lgbtq1_count_LGBTQ)] / sum(rowSums(!is.na(LGBTQ_providers[, lgbtq_topics_LGBTQ])) > 0)) * 100\n",
    "lgbtq1_perc_LGBTQ"
   ]
  },
  {
   "cell_type": "markdown",
   "id": "f4f49bd5-5d82-408d-844d-8692774dbcd1",
   "metadata": {},
   "source": [
    "### LGBTQ topic with greatest number of 2nd rankings among LGBTQ providers"
   ]
  },
  {
   "cell_type": "code",
   "execution_count": 184,
   "id": "3f030578-ace8-471f-95c2-19ac71ec5e7f",
   "metadata": {},
   "outputs": [
    {
     "data": {
      "text/html": [
       "<style>\n",
       ".dl-inline {width: auto; margin:0; padding: 0}\n",
       ".dl-inline>dt, .dl-inline>dd {float: none; width: auto; display: inline-block}\n",
       ".dl-inline>dt::after {content: \":\\0020\"; padding-right: .5ex}\n",
       ".dl-inline>dt:not(:first-of-type) {padding-left: .5ex}\n",
       "</style><dl class=dl-inline><dt>Q227</dt><dd>62</dd><dt>Q228</dt><dd>113</dd><dt>Q229</dt><dd>101</dd><dt>Q230</dt><dd>137</dd><dt>Q231</dt><dd>60</dd><dt>Q232</dt><dd>71</dd><dt>Q233</dt><dd>128</dd><dt>Q234</dt><dd>128</dd><dt>Q235</dt><dd>3</dd></dl>\n"
      ],
      "text/latex": [
       "\\begin{description*}\n",
       "\\item[Q227] 62\n",
       "\\item[Q228] 113\n",
       "\\item[Q229] 101\n",
       "\\item[Q230] 137\n",
       "\\item[Q231] 60\n",
       "\\item[Q232] 71\n",
       "\\item[Q233] 128\n",
       "\\item[Q234] 128\n",
       "\\item[Q235] 3\n",
       "\\end{description*}\n"
      ],
      "text/markdown": [
       "Q227\n",
       ":   62Q228\n",
       ":   113Q229\n",
       ":   101Q230\n",
       ":   137Q231\n",
       ":   60Q232\n",
       ":   71Q233\n",
       ":   128Q234\n",
       ":   128Q235\n",
       ":   3\n",
       "\n"
      ],
      "text/plain": [
       "Q227 Q228 Q229 Q230 Q231 Q232 Q233 Q234 Q235 \n",
       "  62  113  101  137   60   71  128  128    3 "
      ]
     },
     "metadata": {},
     "output_type": "display_data"
    }
   ],
   "source": [
    "# LGBTQ providers - Calculate the counts of 2nd rankings for each LGBTQ topic\n",
    "lgbtq2_count_LGBTQ <- sapply(lgbtq_topics_LGBTQ, function(topic) sum(LGBTQ_providers[[topic]] == 2, na.rm = TRUE))\n",
    "lgbtq2_count_LGBTQ"
   ]
  },
  {
   "cell_type": "code",
   "execution_count": 185,
   "id": "80fe8865-6709-4aa3-85a3-9f6d2c2408ac",
   "metadata": {},
   "outputs": [
    {
     "data": {
      "text/html": [
       "'Q230'"
      ],
      "text/latex": [
       "'Q230'"
      ],
      "text/markdown": [
       "'Q230'"
      ],
      "text/plain": [
       "[1] \"Q230\""
      ]
     },
     "metadata": {},
     "output_type": "display_data"
    }
   ],
   "source": [
    "# LGBTQ providers - Find the LGBTQ topic with the highest count of 2nd rankings\n",
    "lgbtq2_rank_LGBTQ <- lgbtq_topics_LGBTQ[which.max(lgbtq2_count_LGBTQ)]\n",
    "lgbtq2_rank_LGBTQ"
   ]
  },
  {
   "cell_type": "code",
   "execution_count": 186,
   "id": "f96938f0-2822-43cc-a579-6713065df5f3",
   "metadata": {},
   "outputs": [
    {
     "data": {
      "text/html": [
       "<strong>Q230:</strong> 15.8381502890173"
      ],
      "text/latex": [
       "\\textbf{Q230:} 15.8381502890173"
      ],
      "text/markdown": [
       "**Q230:** 15.8381502890173"
      ],
      "text/plain": [
       "    Q230 \n",
       "15.83815 "
      ]
     },
     "metadata": {},
     "output_type": "display_data"
    }
   ],
   "source": [
    "# LGBTQ providers - Calculate the percentage of 2nd rankings\n",
    "lgbtq2_perc_LGBTQ <- (lgbtq2_count_LGBTQ[which.max(lgbtq2_count_LGBTQ)] / sum(rowSums(!is.na(LGBTQ_providers[, lgbtq_topics_LGBTQ])) > 0)) * 100\n",
    "lgbtq2_perc_LGBTQ"
   ]
  },
  {
   "cell_type": "markdown",
   "id": "3599f46a-d04e-4e15-9ee2-abde372d8c4a",
   "metadata": {},
   "source": [
    "### LGBTQ topic with greatest number of 3rd rankings among LGBTQ providers"
   ]
  },
  {
   "cell_type": "code",
   "execution_count": 187,
   "id": "4a6b64d4-85d0-44a5-80af-001b78a96966",
   "metadata": {},
   "outputs": [
    {
     "data": {
      "text/html": [
       "<style>\n",
       ".dl-inline {width: auto; margin:0; padding: 0}\n",
       ".dl-inline>dt, .dl-inline>dd {float: none; width: auto; display: inline-block}\n",
       ".dl-inline>dt::after {content: \":\\0020\"; padding-right: .5ex}\n",
       ".dl-inline>dt:not(:first-of-type) {padding-left: .5ex}\n",
       "</style><dl class=dl-inline><dt>Q227</dt><dd>62</dd><dt>Q228</dt><dd>113</dd><dt>Q229</dt><dd>101</dd><dt>Q230</dt><dd>137</dd><dt>Q231</dt><dd>60</dd><dt>Q232</dt><dd>71</dd><dt>Q233</dt><dd>128</dd><dt>Q234</dt><dd>128</dd><dt>Q235</dt><dd>3</dd></dl>\n"
      ],
      "text/latex": [
       "\\begin{description*}\n",
       "\\item[Q227] 62\n",
       "\\item[Q228] 113\n",
       "\\item[Q229] 101\n",
       "\\item[Q230] 137\n",
       "\\item[Q231] 60\n",
       "\\item[Q232] 71\n",
       "\\item[Q233] 128\n",
       "\\item[Q234] 128\n",
       "\\item[Q235] 3\n",
       "\\end{description*}\n"
      ],
      "text/markdown": [
       "Q227\n",
       ":   62Q228\n",
       ":   113Q229\n",
       ":   101Q230\n",
       ":   137Q231\n",
       ":   60Q232\n",
       ":   71Q233\n",
       ":   128Q234\n",
       ":   128Q235\n",
       ":   3\n",
       "\n"
      ],
      "text/plain": [
       "Q227 Q228 Q229 Q230 Q231 Q232 Q233 Q234 Q235 \n",
       "  62  113  101  137   60   71  128  128    3 "
      ]
     },
     "metadata": {},
     "output_type": "display_data"
    }
   ],
   "source": [
    "# LGBTQ providers - Calculate the counts of 3rd rankings for each LGBTQ topic\n",
    "lgbtq3_count_LGBTQ <- sapply(lgbtq_topics_LGBTQ, function(topic) sum(LGBTQ_providers[[topic]] == 2, na.rm = TRUE))\n",
    "lgbtq3_count_LGBTQ"
   ]
  },
  {
   "cell_type": "code",
   "execution_count": 188,
   "id": "3eaf020e-27ef-46fe-bfcd-5463d1270d2e",
   "metadata": {},
   "outputs": [
    {
     "data": {
      "text/html": [
       "'Q230'"
      ],
      "text/latex": [
       "'Q230'"
      ],
      "text/markdown": [
       "'Q230'"
      ],
      "text/plain": [
       "[1] \"Q230\""
      ]
     },
     "metadata": {},
     "output_type": "display_data"
    }
   ],
   "source": [
    "# LGBTQ providers - Find the LGBTQ topic with the highest count of 2nd rankings\n",
    "lgbtq3_rank_LGBTQ <- lgbtq_topics_LGBTQ[which.max(lgbtq3_count_LGBTQ)]\n",
    "lgbtq3_rank_LGBTQ"
   ]
  },
  {
   "cell_type": "code",
   "execution_count": 189,
   "id": "cf817dc5-337b-49ce-908e-741f4e031eb6",
   "metadata": {},
   "outputs": [
    {
     "data": {
      "text/html": [
       "<strong>Q230:</strong> 15.8381502890173"
      ],
      "text/latex": [
       "\\textbf{Q230:} 15.8381502890173"
      ],
      "text/markdown": [
       "**Q230:** 15.8381502890173"
      ],
      "text/plain": [
       "    Q230 \n",
       "15.83815 "
      ]
     },
     "metadata": {},
     "output_type": "display_data"
    }
   ],
   "source": [
    "# LGBTQ providers - Calculate the percentage of 2nd rankings\n",
    "lgbtq3_perc_LGBTQ <- (lgbtq3_count_LGBTQ[which.max(lgbtq3_count_LGBTQ)] / sum(rowSums(!is.na(LGBTQ_providers[, lgbtq_topics_LGBTQ])) > 0)) * 100\n",
    "lgbtq3_perc_LGBTQ"
   ]
  },
  {
   "cell_type": "markdown",
   "id": "14403fa0-6516-4d92-8612-d7826e222293",
   "metadata": {},
   "source": [
    "### Top 3 LGBTQ topics among LGBTQ providers"
   ]
  },
  {
   "cell_type": "code",
   "execution_count": 190,
   "id": "a90de656-4dfe-44ed-acdc-c19860c84899",
   "metadata": {},
   "outputs": [
    {
     "data": {
      "text/html": [
       "<style>\n",
       ".list-inline {list-style: none; margin:0; padding: 0}\n",
       ".list-inline>li {display: inline-block}\n",
       ".list-inline>li:not(:last-child)::after {content: \"\\00b7\"; padding: 0 .5ex}\n",
       "</style>\n",
       "<ol class=list-inline><li>'Q234'</li><li>'Q228'</li><li>'Q230'</li></ol>\n"
      ],
      "text/latex": [
       "\\begin{enumerate*}\n",
       "\\item 'Q234'\n",
       "\\item 'Q228'\n",
       "\\item 'Q230'\n",
       "\\end{enumerate*}\n"
      ],
      "text/markdown": [
       "1. 'Q234'\n",
       "2. 'Q228'\n",
       "3. 'Q230'\n",
       "\n",
       "\n"
      ],
      "text/plain": [
       "[1] \"Q234\" \"Q228\" \"Q230\""
      ]
     },
     "metadata": {},
     "output_type": "display_data"
    }
   ],
   "source": [
    "# Calculate the counts for each LGBTQ topic\n",
    "lgbtq_topic_counts_LGBTQ <- sapply(lgbtq_topics_LGBTQ, function(topic) sum(LGBTQ_providers[[topic]] %in% c(1, 2, 3), na.rm = TRUE))\n",
    "\n",
    "# Sort the topics based on their counts in descending order\n",
    "lgbtq_sorted_topics_LGBTQ <- sort(lgbtq_topic_counts_LGBTQ, decreasing = TRUE)\n",
    "\n",
    "# Get the top 3 topics\n",
    "top3_lgbtq_topics_LGBTQ <- names(lgbtq_sorted_topics_LGBTQ)[1:3]\n",
    "top3_lgbtq_topics_LGBTQ"
   ]
  },
  {
   "cell_type": "markdown",
   "id": "460709e9-d5f2-44a5-b40e-50b2859883e9",
   "metadata": {},
   "source": [
    "### Percentage of each top 3 LGBTQ topic among LGBTQ providers\n"
   ]
  },
  {
   "cell_type": "code",
   "execution_count": 191,
   "id": "6e507084-4b8e-49f6-bbbc-289f18719f60",
   "metadata": {},
   "outputs": [
    {
     "data": {
      "text/html": [
       "<strong>Q234:</strong> 47.7456647398844"
      ],
      "text/latex": [
       "\\textbf{Q234:} 47.7456647398844"
      ],
      "text/markdown": [
       "**Q234:** 47.7456647398844"
      ],
      "text/plain": [
       "    Q234 \n",
       "47.74566 "
      ]
     },
     "metadata": {},
     "output_type": "display_data"
    },
    {
     "data": {
      "text/html": [
       "<strong>Q228:</strong> 46.4739884393064"
      ],
      "text/latex": [
       "\\textbf{Q228:} 46.4739884393064"
      ],
      "text/markdown": [
       "**Q228:** 46.4739884393064"
      ],
      "text/plain": [
       "    Q228 \n",
       "46.47399 "
      ]
     },
     "metadata": {},
     "output_type": "display_data"
    },
    {
     "data": {
      "text/html": [
       "<strong>Q230:</strong> 42.3121387283237"
      ],
      "text/latex": [
       "\\textbf{Q230:} 42.3121387283237"
      ],
      "text/markdown": [
       "**Q230:** 42.3121387283237"
      ],
      "text/plain": [
       "    Q230 \n",
       "42.31214 "
      ]
     },
     "metadata": {},
     "output_type": "display_data"
    }
   ],
   "source": [
    "# Calculate the total count of respondents who provided a ranking (1, 2, or 3) for any of the LGBTQ topic questions\n",
    "lgtbq_total_respondents_LGBTQ <- sum(rowSums(!is.na(LGBTQ_providers[, lgbtq_topics_LGBTQ])) > 0)\n",
    "\n",
    "# Calculate the percentage for the first top3_lgbtq_topics_LGBTQ\n",
    "lgbtq1_percentage_LGBTQ <- (lgbtq_sorted_topics_LGBTQ[1] / lgtbq_total_respondents_LGBTQ) * 100\n",
    "\n",
    "# Calculate the percentage for the second top3_lgbtq_topics_LGBTQ\n",
    "lgbtq2_percentage_LGBTQ <- (lgbtq_sorted_topics_LGBTQ[2] / lgtbq_total_respondents_LGBTQ) * 100\n",
    "\n",
    "# Calculate the percentage for the third top3_lgbtq_topics_LGBTQ\n",
    "lgbtq3_percentage_LGBTQ <- (lgbtq_sorted_topics_LGBTQ[3] / lgtbq_total_respondents_LGBTQ) * 100\n",
    "\n",
    "# Print the results\n",
    "lgbtq1_percentage_LGBTQ\n",
    "lgbtq2_percentage_LGBTQ\n",
    "lgbtq3_percentage_LGBTQ"
   ]
  },
  {
   "cell_type": "markdown",
   "id": "83744e6d-c369-4ac9-b6f3-001c518801d2",
   "metadata": {},
   "source": [
    "# Insurance data"
   ]
  },
  {
   "cell_type": "code",
   "execution_count": 192,
   "id": "7d54d58f-2299-451b-a3a8-e99f90e1c9a7",
   "metadata": {},
   "outputs": [
    {
     "data": {
      "text/html": [
       "<table class=\"dataframe\">\n",
       "<caption>A tibble: 1 × 7</caption>\n",
       "<thead>\n",
       "\t<tr><th scope=col>Medicaid</th><th scope=col>Medicare</th><th scope=col>Other_Public_Insurance</th><th scope=col>Employer_Sponsored</th><th scope=col>Other_Private</th><th scope=col>Income_Dependent</th><th scope=col>Other_Option</th></tr>\n",
       "\t<tr><th scope=col>&lt;int&gt;</th><th scope=col>&lt;int&gt;</th><th scope=col>&lt;int&gt;</th><th scope=col>&lt;int&gt;</th><th scope=col>&lt;int&gt;</th><th scope=col>&lt;int&gt;</th><th scope=col>&lt;int&gt;</th></tr>\n",
       "</thead>\n",
       "<tbody>\n",
       "\t<tr><td>825</td><td>731</td><td>663</td><td>654</td><td>682</td><td>606</td><td>297</td></tr>\n",
       "</tbody>\n",
       "</table>\n"
      ],
      "text/latex": [
       "A tibble: 1 × 7\n",
       "\\begin{tabular}{lllllll}\n",
       " Medicaid & Medicare & Other\\_Public\\_Insurance & Employer\\_Sponsored & Other\\_Private & Income\\_Dependent & Other\\_Option\\\\\n",
       " <int> & <int> & <int> & <int> & <int> & <int> & <int>\\\\\n",
       "\\hline\n",
       "\t 825 & 731 & 663 & 654 & 682 & 606 & 297\\\\\n",
       "\\end{tabular}\n"
      ],
      "text/markdown": [
       "\n",
       "A tibble: 1 × 7\n",
       "\n",
       "| Medicaid &lt;int&gt; | Medicare &lt;int&gt; | Other_Public_Insurance &lt;int&gt; | Employer_Sponsored &lt;int&gt; | Other_Private &lt;int&gt; | Income_Dependent &lt;int&gt; | Other_Option &lt;int&gt; |\n",
       "|---|---|---|---|---|---|---|\n",
       "| 825 | 731 | 663 | 654 | 682 | 606 | 297 |\n",
       "\n"
      ],
      "text/plain": [
       "  Medicaid Medicare Other_Public_Insurance Employer_Sponsored Other_Private\n",
       "1 825      731      663                    654                682          \n",
       "  Income_Dependent Other_Option\n",
       "1 606              297         "
      ]
     },
     "metadata": {},
     "output_type": "display_data"
    }
   ],
   "source": [
    "# Define the insurance types and their corresponding column names\n",
    "insurance_counts <- final_data %>%\n",
    "  summarise(\n",
    "    Medicaid = sum(Q7 == 1, na.rm = TRUE),\n",
    "    Medicare = sum(Q8 == 1, na.rm = TRUE),\n",
    "    Other_Public_Insurance = sum(Q9 == 1, na.rm = TRUE),\n",
    "    Employer_Sponsored = sum(Q10 == 1, na.rm = TRUE),\n",
    "    Other_Private = sum(Q11 == 1, na.rm = TRUE),\n",
    "    Income_Dependent = sum(Q12 == 1, na.rm = TRUE),\n",
    "    Other_Option = sum(Q13 == 1, na.rm = TRUE)\n",
    "  )\n",
    "\n",
    "insurance_counts"
   ]
  },
  {
   "cell_type": "code",
   "execution_count": 193,
   "id": "9d3765bc-160e-4d36-9680-1d0f0660fa8d",
   "metadata": {},
   "outputs": [
    {
     "data": {
      "text/html": [
       "4458"
      ],
      "text/latex": [
       "4458"
      ],
      "text/markdown": [
       "4458"
      ],
      "text/plain": [
       "[1] 4458"
      ]
     },
     "metadata": {},
     "output_type": "display_data"
    }
   ],
   "source": [
    "# Calculate the total count across all rows for each insurance option\n",
    "insurance_columns <- final_data[, c(\"Q7\", \"Q8\", \"Q9\", \"Q10\", \"Q11\", \"Q12\", \"Q13\")]\n",
    "\n",
    "# Calculate the total count across all types of insurance\n",
    "total_all_insurance <- sum(insurance_columns, na.rm = TRUE)\n",
    "total_all_insurance"
   ]
  },
  {
   "cell_type": "code",
   "execution_count": 194,
   "id": "4484da88-f641-4f8c-950c-b3b66da01a8f",
   "metadata": {},
   "outputs": [
    {
     "data": {
      "text/html": [
       "<table class=\"dataframe\">\n",
       "<caption>A data.frame: 1 × 7</caption>\n",
       "<thead>\n",
       "\t<tr><th scope=col>Medicaid</th><th scope=col>Medicare</th><th scope=col>Other_Public_Insurance</th><th scope=col>Employer_Sponsored</th><th scope=col>Other_Private</th><th scope=col>Income_Dependent</th><th scope=col>Other_Option</th></tr>\n",
       "\t<tr><th scope=col>&lt;dbl&gt;</th><th scope=col>&lt;dbl&gt;</th><th scope=col>&lt;dbl&gt;</th><th scope=col>&lt;dbl&gt;</th><th scope=col>&lt;dbl&gt;</th><th scope=col>&lt;dbl&gt;</th><th scope=col>&lt;dbl&gt;</th></tr>\n",
       "</thead>\n",
       "<tbody>\n",
       "\t<tr><td>18.50606</td><td>16.39749</td><td>14.87214</td><td>14.67026</td><td>15.29834</td><td>13.59354</td><td>6.66218</td></tr>\n",
       "</tbody>\n",
       "</table>\n"
      ],
      "text/latex": [
       "A data.frame: 1 × 7\n",
       "\\begin{tabular}{lllllll}\n",
       " Medicaid & Medicare & Other\\_Public\\_Insurance & Employer\\_Sponsored & Other\\_Private & Income\\_Dependent & Other\\_Option\\\\\n",
       " <dbl> & <dbl> & <dbl> & <dbl> & <dbl> & <dbl> & <dbl>\\\\\n",
       "\\hline\n",
       "\t 18.50606 & 16.39749 & 14.87214 & 14.67026 & 15.29834 & 13.59354 & 6.66218\\\\\n",
       "\\end{tabular}\n"
      ],
      "text/markdown": [
       "\n",
       "A data.frame: 1 × 7\n",
       "\n",
       "| Medicaid &lt;dbl&gt; | Medicare &lt;dbl&gt; | Other_Public_Insurance &lt;dbl&gt; | Employer_Sponsored &lt;dbl&gt; | Other_Private &lt;dbl&gt; | Income_Dependent &lt;dbl&gt; | Other_Option &lt;dbl&gt; |\n",
       "|---|---|---|---|---|---|---|\n",
       "| 18.50606 | 16.39749 | 14.87214 | 14.67026 | 15.29834 | 13.59354 | 6.66218 |\n",
       "\n"
      ],
      "text/plain": [
       "  Medicaid Medicare Other_Public_Insurance Employer_Sponsored Other_Private\n",
       "1 18.50606 16.39749 14.87214               14.67026           15.29834     \n",
       "  Income_Dependent Other_Option\n",
       "1 13.59354         6.66218     "
      ]
     },
     "metadata": {},
     "output_type": "display_data"
    }
   ],
   "source": [
    "# Calculate the percentage of each option\n",
    "insurance_percentage <- insurance_counts / total_all_insurance * 100\n",
    "\n",
    "# Print the percentages\n",
    "insurance_percentage"
   ]
  },
  {
   "cell_type": "markdown",
   "id": "c3264dce-4bd4-456b-a0f5-07371cb0e9de",
   "metadata": {},
   "source": [
    "## Insurance data by state"
   ]
  },
  {
   "cell_type": "code",
   "execution_count": 195,
   "id": "5253c15d-ef81-4b5f-baff-97fb47d8490b",
   "metadata": {},
   "outputs": [
    {
     "data": {
      "text/html": [
       "<table class=\"dataframe\">\n",
       "<caption>A tibble: 52 × 9</caption>\n",
       "<thead>\n",
       "\t<tr><th scope=col>Q3</th><th scope=col>Medicaid</th><th scope=col>Medicare</th><th scope=col>Other_Public_Insurance</th><th scope=col>Employer_Sponsored</th><th scope=col>Other_Private</th><th scope=col>Income_Dependent</th><th scope=col>Other_Option</th><th scope=col>Total_Count</th></tr>\n",
       "\t<tr><th scope=col>&lt;chr&gt;</th><th scope=col>&lt;int&gt;</th><th scope=col>&lt;int&gt;</th><th scope=col>&lt;int&gt;</th><th scope=col>&lt;int&gt;</th><th scope=col>&lt;int&gt;</th><th scope=col>&lt;int&gt;</th><th scope=col>&lt;int&gt;</th><th scope=col>&lt;dbl&gt;</th></tr>\n",
       "</thead>\n",
       "<tbody>\n",
       "\t<tr><td>Alabama             </td><td> 6</td><td> 5</td><td> 5</td><td> 4</td><td> 6</td><td> 4</td><td> 1</td><td> 31</td></tr>\n",
       "\t<tr><td>Alaska              </td><td> 0</td><td> 0</td><td> 0</td><td> 0</td><td> 0</td><td> 0</td><td> 1</td><td>  1</td></tr>\n",
       "\t<tr><td>Arizona             </td><td>13</td><td>10</td><td> 7</td><td> 7</td><td>10</td><td> 9</td><td> 5</td><td> 61</td></tr>\n",
       "\t<tr><td>Arkansas            </td><td> 7</td><td> 7</td><td> 7</td><td> 6</td><td> 6</td><td> 5</td><td> 2</td><td> 40</td></tr>\n",
       "\t<tr><td>California          </td><td>73</td><td>73</td><td>53</td><td>48</td><td>51</td><td>49</td><td>32</td><td>379</td></tr>\n",
       "\t<tr><td>Colorado            </td><td>12</td><td>10</td><td>10</td><td> 9</td><td>10</td><td> 9</td><td> 5</td><td> 65</td></tr>\n",
       "\t<tr><td>Connecticut         </td><td>12</td><td>12</td><td>10</td><td> 8</td><td> 7</td><td>10</td><td> 6</td><td> 65</td></tr>\n",
       "\t<tr><td>Delaware            </td><td>11</td><td>11</td><td> 8</td><td>10</td><td>10</td><td> 6</td><td> 2</td><td> 58</td></tr>\n",
       "\t<tr><td>District of Columbia</td><td>26</td><td>20</td><td>17</td><td>14</td><td>18</td><td>11</td><td> 9</td><td>115</td></tr>\n",
       "\t<tr><td>Florida             </td><td>49</td><td>41</td><td>41</td><td>32</td><td>39</td><td>41</td><td>21</td><td>264</td></tr>\n",
       "\t<tr><td>Georgia             </td><td>20</td><td>17</td><td>14</td><td>14</td><td>19</td><td>14</td><td> 7</td><td>105</td></tr>\n",
       "\t<tr><td>Hawaii              </td><td> 6</td><td> 5</td><td> 7</td><td> 5</td><td> 7</td><td> 4</td><td> 6</td><td> 40</td></tr>\n",
       "\t<tr><td>Idaho               </td><td> 2</td><td> 2</td><td> 2</td><td> 2</td><td> 2</td><td> 2</td><td> 0</td><td> 12</td></tr>\n",
       "\t<tr><td>Illinois            </td><td>28</td><td>26</td><td>21</td><td>29</td><td>26</td><td>23</td><td> 7</td><td>160</td></tr>\n",
       "\t<tr><td>Indiana             </td><td>37</td><td>33</td><td>29</td><td>31</td><td>33</td><td>20</td><td>14</td><td>197</td></tr>\n",
       "\t<tr><td>Iowa                </td><td>11</td><td> 9</td><td> 8</td><td>10</td><td>11</td><td> 9</td><td> 2</td><td> 60</td></tr>\n",
       "\t<tr><td>Kansas              </td><td> 2</td><td> 2</td><td> 1</td><td> 1</td><td> 1</td><td> 0</td><td> 2</td><td>  9</td></tr>\n",
       "\t<tr><td>Kentucky            </td><td>16</td><td>15</td><td>15</td><td>11</td><td> 8</td><td>15</td><td>10</td><td> 90</td></tr>\n",
       "\t<tr><td>Louisiana           </td><td>22</td><td>16</td><td>13</td><td>14</td><td>14</td><td>10</td><td> 3</td><td> 92</td></tr>\n",
       "\t<tr><td>Maine               </td><td> 1</td><td> 1</td><td> 0</td><td> 0</td><td> 0</td><td> 1</td><td> 0</td><td>  3</td></tr>\n",
       "\t<tr><td>Maryland            </td><td>54</td><td>48</td><td>42</td><td>46</td><td>41</td><td>41</td><td> 8</td><td>280</td></tr>\n",
       "\t<tr><td>Massachusetts       </td><td> 4</td><td> 4</td><td> 5</td><td> 5</td><td> 5</td><td> 4</td><td> 3</td><td> 30</td></tr>\n",
       "\t<tr><td>Michigan            </td><td>37</td><td>34</td><td>27</td><td>30</td><td>30</td><td>29</td><td> 5</td><td>192</td></tr>\n",
       "\t<tr><td>Minnesota           </td><td>14</td><td>12</td><td>14</td><td>14</td><td>14</td><td>13</td><td> 2</td><td> 83</td></tr>\n",
       "\t<tr><td>Mississippi         </td><td> 6</td><td> 6</td><td> 6</td><td> 6</td><td> 6</td><td> 6</td><td> 4</td><td> 40</td></tr>\n",
       "\t<tr><td>Missouri            </td><td>19</td><td>14</td><td>16</td><td>15</td><td>16</td><td>17</td><td> 5</td><td>102</td></tr>\n",
       "\t<tr><td>Montana             </td><td> 1</td><td> 1</td><td> 1</td><td> 1</td><td> 1</td><td> 1</td><td> 1</td><td>  7</td></tr>\n",
       "\t<tr><td>Nebraska            </td><td> 3</td><td> 3</td><td> 2</td><td> 3</td><td> 3</td><td> 2</td><td> 5</td><td> 21</td></tr>\n",
       "\t<tr><td>Nevada              </td><td> 3</td><td> 3</td><td> 3</td><td> 4</td><td> 4</td><td> 3</td><td> 3</td><td> 23</td></tr>\n",
       "\t<tr><td>New Hampshire       </td><td> 3</td><td> 3</td><td> 3</td><td> 3</td><td> 3</td><td> 3</td><td> 0</td><td> 18</td></tr>\n",
       "\t<tr><td>New Jersey          </td><td>34</td><td>29</td><td>25</td><td>25</td><td>25</td><td>19</td><td>23</td><td>180</td></tr>\n",
       "\t<tr><td>New Mexico          </td><td> 4</td><td> 3</td><td> 3</td><td> 3</td><td> 3</td><td> 3</td><td> 0</td><td> 19</td></tr>\n",
       "\t<tr><td>New York            </td><td>65</td><td>53</td><td>53</td><td>47</td><td>51</td><td>40</td><td>12</td><td>321</td></tr>\n",
       "\t<tr><td>North Carolina      </td><td>24</td><td>23</td><td>22</td><td>23</td><td>24</td><td>24</td><td> 9</td><td>149</td></tr>\n",
       "\t<tr><td>Ohio                </td><td>14</td><td>11</td><td>12</td><td>13</td><td>13</td><td>11</td><td> 1</td><td> 75</td></tr>\n",
       "\t<tr><td>Oklahoma            </td><td> 1</td><td> 1</td><td> 1</td><td> 1</td><td> 1</td><td> 0</td><td> 0</td><td>  5</td></tr>\n",
       "\t<tr><td>Oregon              </td><td> 5</td><td> 5</td><td> 3</td><td> 2</td><td> 3</td><td> 4</td><td> 4</td><td> 26</td></tr>\n",
       "\t<tr><td>Pennsylvania        </td><td>52</td><td>49</td><td>46</td><td>49</td><td>49</td><td>38</td><td>19</td><td>302</td></tr>\n",
       "\t<tr><td>Puerto Rico         </td><td> 5</td><td> 6</td><td> 5</td><td> 5</td><td> 5</td><td> 3</td><td> 0</td><td> 29</td></tr>\n",
       "\t<tr><td>Rhode Island        </td><td> 3</td><td> 2</td><td> 3</td><td> 3</td><td> 3</td><td> 4</td><td> 1</td><td> 19</td></tr>\n",
       "\t<tr><td>South Carolina      </td><td>12</td><td>12</td><td>10</td><td>11</td><td>10</td><td> 9</td><td> 1</td><td> 65</td></tr>\n",
       "\t<tr><td>Tennessee           </td><td>14</td><td>13</td><td> 9</td><td>11</td><td> 9</td><td>10</td><td> 4</td><td> 70</td></tr>\n",
       "\t<tr><td>Texas               </td><td>30</td><td>27</td><td>27</td><td>27</td><td>32</td><td>29</td><td>20</td><td>192</td></tr>\n",
       "\t<tr><td>Utah                </td><td> 1</td><td> 1</td><td> 1</td><td> 1</td><td> 1</td><td> 0</td><td> 2</td><td>  7</td></tr>\n",
       "\t<tr><td>Vermont             </td><td> 2</td><td> 2</td><td> 1</td><td> 1</td><td> 1</td><td> 0</td><td> 1</td><td>  8</td></tr>\n",
       "\t<tr><td>Virgin Islands      </td><td> 2</td><td> 2</td><td> 2</td><td> 2</td><td> 1</td><td> 1</td><td> 2</td><td> 12</td></tr>\n",
       "\t<tr><td>Virginia            </td><td>27</td><td>23</td><td>23</td><td>21</td><td>24</td><td>22</td><td>10</td><td>150</td></tr>\n",
       "\t<tr><td>Washington          </td><td>14</td><td>13</td><td>14</td><td>13</td><td>12</td><td> 8</td><td>12</td><td> 86</td></tr>\n",
       "\t<tr><td>West Virginia       </td><td> 4</td><td> 2</td><td> 4</td><td> 2</td><td> 1</td><td> 5</td><td> 2</td><td> 20</td></tr>\n",
       "\t<tr><td>Wisconsin           </td><td> 9</td><td> 7</td><td> 7</td><td> 6</td><td> 7</td><td> 9</td><td> 1</td><td> 46</td></tr>\n",
       "\t<tr><td>Wyoming             </td><td> 4</td><td> 3</td><td> 4</td><td> 5</td><td> 5</td><td> 5</td><td> 1</td><td> 27</td></tr>\n",
       "\t<tr><td>NA                  </td><td> 1</td><td> 1</td><td> 1</td><td> 1</td><td> 1</td><td> 1</td><td> 1</td><td>  7</td></tr>\n",
       "</tbody>\n",
       "</table>\n"
      ],
      "text/latex": [
       "A tibble: 52 × 9\n",
       "\\begin{tabular}{lllllllll}\n",
       " Q3 & Medicaid & Medicare & Other\\_Public\\_Insurance & Employer\\_Sponsored & Other\\_Private & Income\\_Dependent & Other\\_Option & Total\\_Count\\\\\n",
       " <chr> & <int> & <int> & <int> & <int> & <int> & <int> & <int> & <dbl>\\\\\n",
       "\\hline\n",
       "\t Alabama              &  6 &  5 &  5 &  4 &  6 &  4 &  1 &  31\\\\\n",
       "\t Alaska               &  0 &  0 &  0 &  0 &  0 &  0 &  1 &   1\\\\\n",
       "\t Arizona              & 13 & 10 &  7 &  7 & 10 &  9 &  5 &  61\\\\\n",
       "\t Arkansas             &  7 &  7 &  7 &  6 &  6 &  5 &  2 &  40\\\\\n",
       "\t California           & 73 & 73 & 53 & 48 & 51 & 49 & 32 & 379\\\\\n",
       "\t Colorado             & 12 & 10 & 10 &  9 & 10 &  9 &  5 &  65\\\\\n",
       "\t Connecticut          & 12 & 12 & 10 &  8 &  7 & 10 &  6 &  65\\\\\n",
       "\t Delaware             & 11 & 11 &  8 & 10 & 10 &  6 &  2 &  58\\\\\n",
       "\t District of Columbia & 26 & 20 & 17 & 14 & 18 & 11 &  9 & 115\\\\\n",
       "\t Florida              & 49 & 41 & 41 & 32 & 39 & 41 & 21 & 264\\\\\n",
       "\t Georgia              & 20 & 17 & 14 & 14 & 19 & 14 &  7 & 105\\\\\n",
       "\t Hawaii               &  6 &  5 &  7 &  5 &  7 &  4 &  6 &  40\\\\\n",
       "\t Idaho                &  2 &  2 &  2 &  2 &  2 &  2 &  0 &  12\\\\\n",
       "\t Illinois             & 28 & 26 & 21 & 29 & 26 & 23 &  7 & 160\\\\\n",
       "\t Indiana              & 37 & 33 & 29 & 31 & 33 & 20 & 14 & 197\\\\\n",
       "\t Iowa                 & 11 &  9 &  8 & 10 & 11 &  9 &  2 &  60\\\\\n",
       "\t Kansas               &  2 &  2 &  1 &  1 &  1 &  0 &  2 &   9\\\\\n",
       "\t Kentucky             & 16 & 15 & 15 & 11 &  8 & 15 & 10 &  90\\\\\n",
       "\t Louisiana            & 22 & 16 & 13 & 14 & 14 & 10 &  3 &  92\\\\\n",
       "\t Maine                &  1 &  1 &  0 &  0 &  0 &  1 &  0 &   3\\\\\n",
       "\t Maryland             & 54 & 48 & 42 & 46 & 41 & 41 &  8 & 280\\\\\n",
       "\t Massachusetts        &  4 &  4 &  5 &  5 &  5 &  4 &  3 &  30\\\\\n",
       "\t Michigan             & 37 & 34 & 27 & 30 & 30 & 29 &  5 & 192\\\\\n",
       "\t Minnesota            & 14 & 12 & 14 & 14 & 14 & 13 &  2 &  83\\\\\n",
       "\t Mississippi          &  6 &  6 &  6 &  6 &  6 &  6 &  4 &  40\\\\\n",
       "\t Missouri             & 19 & 14 & 16 & 15 & 16 & 17 &  5 & 102\\\\\n",
       "\t Montana              &  1 &  1 &  1 &  1 &  1 &  1 &  1 &   7\\\\\n",
       "\t Nebraska             &  3 &  3 &  2 &  3 &  3 &  2 &  5 &  21\\\\\n",
       "\t Nevada               &  3 &  3 &  3 &  4 &  4 &  3 &  3 &  23\\\\\n",
       "\t New Hampshire        &  3 &  3 &  3 &  3 &  3 &  3 &  0 &  18\\\\\n",
       "\t New Jersey           & 34 & 29 & 25 & 25 & 25 & 19 & 23 & 180\\\\\n",
       "\t New Mexico           &  4 &  3 &  3 &  3 &  3 &  3 &  0 &  19\\\\\n",
       "\t New York             & 65 & 53 & 53 & 47 & 51 & 40 & 12 & 321\\\\\n",
       "\t North Carolina       & 24 & 23 & 22 & 23 & 24 & 24 &  9 & 149\\\\\n",
       "\t Ohio                 & 14 & 11 & 12 & 13 & 13 & 11 &  1 &  75\\\\\n",
       "\t Oklahoma             &  1 &  1 &  1 &  1 &  1 &  0 &  0 &   5\\\\\n",
       "\t Oregon               &  5 &  5 &  3 &  2 &  3 &  4 &  4 &  26\\\\\n",
       "\t Pennsylvania         & 52 & 49 & 46 & 49 & 49 & 38 & 19 & 302\\\\\n",
       "\t Puerto Rico          &  5 &  6 &  5 &  5 &  5 &  3 &  0 &  29\\\\\n",
       "\t Rhode Island         &  3 &  2 &  3 &  3 &  3 &  4 &  1 &  19\\\\\n",
       "\t South Carolina       & 12 & 12 & 10 & 11 & 10 &  9 &  1 &  65\\\\\n",
       "\t Tennessee            & 14 & 13 &  9 & 11 &  9 & 10 &  4 &  70\\\\\n",
       "\t Texas                & 30 & 27 & 27 & 27 & 32 & 29 & 20 & 192\\\\\n",
       "\t Utah                 &  1 &  1 &  1 &  1 &  1 &  0 &  2 &   7\\\\\n",
       "\t Vermont              &  2 &  2 &  1 &  1 &  1 &  0 &  1 &   8\\\\\n",
       "\t Virgin Islands       &  2 &  2 &  2 &  2 &  1 &  1 &  2 &  12\\\\\n",
       "\t Virginia             & 27 & 23 & 23 & 21 & 24 & 22 & 10 & 150\\\\\n",
       "\t Washington           & 14 & 13 & 14 & 13 & 12 &  8 & 12 &  86\\\\\n",
       "\t West Virginia        &  4 &  2 &  4 &  2 &  1 &  5 &  2 &  20\\\\\n",
       "\t Wisconsin            &  9 &  7 &  7 &  6 &  7 &  9 &  1 &  46\\\\\n",
       "\t Wyoming              &  4 &  3 &  4 &  5 &  5 &  5 &  1 &  27\\\\\n",
       "\t NA                   &  1 &  1 &  1 &  1 &  1 &  1 &  1 &   7\\\\\n",
       "\\end{tabular}\n"
      ],
      "text/markdown": [
       "\n",
       "A tibble: 52 × 9\n",
       "\n",
       "| Q3 &lt;chr&gt; | Medicaid &lt;int&gt; | Medicare &lt;int&gt; | Other_Public_Insurance &lt;int&gt; | Employer_Sponsored &lt;int&gt; | Other_Private &lt;int&gt; | Income_Dependent &lt;int&gt; | Other_Option &lt;int&gt; | Total_Count &lt;dbl&gt; |\n",
       "|---|---|---|---|---|---|---|---|---|\n",
       "| Alabama              |  6 |  5 |  5 |  4 |  6 |  4 |  1 |  31 |\n",
       "| Alaska               |  0 |  0 |  0 |  0 |  0 |  0 |  1 |   1 |\n",
       "| Arizona              | 13 | 10 |  7 |  7 | 10 |  9 |  5 |  61 |\n",
       "| Arkansas             |  7 |  7 |  7 |  6 |  6 |  5 |  2 |  40 |\n",
       "| California           | 73 | 73 | 53 | 48 | 51 | 49 | 32 | 379 |\n",
       "| Colorado             | 12 | 10 | 10 |  9 | 10 |  9 |  5 |  65 |\n",
       "| Connecticut          | 12 | 12 | 10 |  8 |  7 | 10 |  6 |  65 |\n",
       "| Delaware             | 11 | 11 |  8 | 10 | 10 |  6 |  2 |  58 |\n",
       "| District of Columbia | 26 | 20 | 17 | 14 | 18 | 11 |  9 | 115 |\n",
       "| Florida              | 49 | 41 | 41 | 32 | 39 | 41 | 21 | 264 |\n",
       "| Georgia              | 20 | 17 | 14 | 14 | 19 | 14 |  7 | 105 |\n",
       "| Hawaii               |  6 |  5 |  7 |  5 |  7 |  4 |  6 |  40 |\n",
       "| Idaho                |  2 |  2 |  2 |  2 |  2 |  2 |  0 |  12 |\n",
       "| Illinois             | 28 | 26 | 21 | 29 | 26 | 23 |  7 | 160 |\n",
       "| Indiana              | 37 | 33 | 29 | 31 | 33 | 20 | 14 | 197 |\n",
       "| Iowa                 | 11 |  9 |  8 | 10 | 11 |  9 |  2 |  60 |\n",
       "| Kansas               |  2 |  2 |  1 |  1 |  1 |  0 |  2 |   9 |\n",
       "| Kentucky             | 16 | 15 | 15 | 11 |  8 | 15 | 10 |  90 |\n",
       "| Louisiana            | 22 | 16 | 13 | 14 | 14 | 10 |  3 |  92 |\n",
       "| Maine                |  1 |  1 |  0 |  0 |  0 |  1 |  0 |   3 |\n",
       "| Maryland             | 54 | 48 | 42 | 46 | 41 | 41 |  8 | 280 |\n",
       "| Massachusetts        |  4 |  4 |  5 |  5 |  5 |  4 |  3 |  30 |\n",
       "| Michigan             | 37 | 34 | 27 | 30 | 30 | 29 |  5 | 192 |\n",
       "| Minnesota            | 14 | 12 | 14 | 14 | 14 | 13 |  2 |  83 |\n",
       "| Mississippi          |  6 |  6 |  6 |  6 |  6 |  6 |  4 |  40 |\n",
       "| Missouri             | 19 | 14 | 16 | 15 | 16 | 17 |  5 | 102 |\n",
       "| Montana              |  1 |  1 |  1 |  1 |  1 |  1 |  1 |   7 |\n",
       "| Nebraska             |  3 |  3 |  2 |  3 |  3 |  2 |  5 |  21 |\n",
       "| Nevada               |  3 |  3 |  3 |  4 |  4 |  3 |  3 |  23 |\n",
       "| New Hampshire        |  3 |  3 |  3 |  3 |  3 |  3 |  0 |  18 |\n",
       "| New Jersey           | 34 | 29 | 25 | 25 | 25 | 19 | 23 | 180 |\n",
       "| New Mexico           |  4 |  3 |  3 |  3 |  3 |  3 |  0 |  19 |\n",
       "| New York             | 65 | 53 | 53 | 47 | 51 | 40 | 12 | 321 |\n",
       "| North Carolina       | 24 | 23 | 22 | 23 | 24 | 24 |  9 | 149 |\n",
       "| Ohio                 | 14 | 11 | 12 | 13 | 13 | 11 |  1 |  75 |\n",
       "| Oklahoma             |  1 |  1 |  1 |  1 |  1 |  0 |  0 |   5 |\n",
       "| Oregon               |  5 |  5 |  3 |  2 |  3 |  4 |  4 |  26 |\n",
       "| Pennsylvania         | 52 | 49 | 46 | 49 | 49 | 38 | 19 | 302 |\n",
       "| Puerto Rico          |  5 |  6 |  5 |  5 |  5 |  3 |  0 |  29 |\n",
       "| Rhode Island         |  3 |  2 |  3 |  3 |  3 |  4 |  1 |  19 |\n",
       "| South Carolina       | 12 | 12 | 10 | 11 | 10 |  9 |  1 |  65 |\n",
       "| Tennessee            | 14 | 13 |  9 | 11 |  9 | 10 |  4 |  70 |\n",
       "| Texas                | 30 | 27 | 27 | 27 | 32 | 29 | 20 | 192 |\n",
       "| Utah                 |  1 |  1 |  1 |  1 |  1 |  0 |  2 |   7 |\n",
       "| Vermont              |  2 |  2 |  1 |  1 |  1 |  0 |  1 |   8 |\n",
       "| Virgin Islands       |  2 |  2 |  2 |  2 |  1 |  1 |  2 |  12 |\n",
       "| Virginia             | 27 | 23 | 23 | 21 | 24 | 22 | 10 | 150 |\n",
       "| Washington           | 14 | 13 | 14 | 13 | 12 |  8 | 12 |  86 |\n",
       "| West Virginia        |  4 |  2 |  4 |  2 |  1 |  5 |  2 |  20 |\n",
       "| Wisconsin            |  9 |  7 |  7 |  6 |  7 |  9 |  1 |  46 |\n",
       "| Wyoming              |  4 |  3 |  4 |  5 |  5 |  5 |  1 |  27 |\n",
       "| NA                   |  1 |  1 |  1 |  1 |  1 |  1 |  1 |   7 |\n",
       "\n"
      ],
      "text/plain": [
       "   Q3                   Medicaid Medicare Other_Public_Insurance\n",
       "1  Alabama               6        5        5                    \n",
       "2  Alaska                0        0        0                    \n",
       "3  Arizona              13       10        7                    \n",
       "4  Arkansas              7        7        7                    \n",
       "5  California           73       73       53                    \n",
       "6  Colorado             12       10       10                    \n",
       "7  Connecticut          12       12       10                    \n",
       "8  Delaware             11       11        8                    \n",
       "9  District of Columbia 26       20       17                    \n",
       "10 Florida              49       41       41                    \n",
       "11 Georgia              20       17       14                    \n",
       "12 Hawaii                6        5        7                    \n",
       "13 Idaho                 2        2        2                    \n",
       "14 Illinois             28       26       21                    \n",
       "15 Indiana              37       33       29                    \n",
       "16 Iowa                 11        9        8                    \n",
       "17 Kansas                2        2        1                    \n",
       "18 Kentucky             16       15       15                    \n",
       "19 Louisiana            22       16       13                    \n",
       "20 Maine                 1        1        0                    \n",
       "21 Maryland             54       48       42                    \n",
       "22 Massachusetts         4        4        5                    \n",
       "23 Michigan             37       34       27                    \n",
       "24 Minnesota            14       12       14                    \n",
       "25 Mississippi           6        6        6                    \n",
       "26 Missouri             19       14       16                    \n",
       "27 Montana               1        1        1                    \n",
       "28 Nebraska              3        3        2                    \n",
       "29 Nevada                3        3        3                    \n",
       "30 New Hampshire         3        3        3                    \n",
       "31 New Jersey           34       29       25                    \n",
       "32 New Mexico            4        3        3                    \n",
       "33 New York             65       53       53                    \n",
       "34 North Carolina       24       23       22                    \n",
       "35 Ohio                 14       11       12                    \n",
       "36 Oklahoma              1        1        1                    \n",
       "37 Oregon                5        5        3                    \n",
       "38 Pennsylvania         52       49       46                    \n",
       "39 Puerto Rico           5        6        5                    \n",
       "40 Rhode Island          3        2        3                    \n",
       "41 South Carolina       12       12       10                    \n",
       "42 Tennessee            14       13        9                    \n",
       "43 Texas                30       27       27                    \n",
       "44 Utah                  1        1        1                    \n",
       "45 Vermont               2        2        1                    \n",
       "46 Virgin Islands        2        2        2                    \n",
       "47 Virginia             27       23       23                    \n",
       "48 Washington           14       13       14                    \n",
       "49 West Virginia         4        2        4                    \n",
       "50 Wisconsin             9        7        7                    \n",
       "51 Wyoming               4        3        4                    \n",
       "52 NA                    1        1        1                    \n",
       "   Employer_Sponsored Other_Private Income_Dependent Other_Option Total_Count\n",
       "1   4                  6             4                1            31        \n",
       "2   0                  0             0                1             1        \n",
       "3   7                 10             9                5            61        \n",
       "4   6                  6             5                2            40        \n",
       "5  48                 51            49               32           379        \n",
       "6   9                 10             9                5            65        \n",
       "7   8                  7            10                6            65        \n",
       "8  10                 10             6                2            58        \n",
       "9  14                 18            11                9           115        \n",
       "10 32                 39            41               21           264        \n",
       "11 14                 19            14                7           105        \n",
       "12  5                  7             4                6            40        \n",
       "13  2                  2             2                0            12        \n",
       "14 29                 26            23                7           160        \n",
       "15 31                 33            20               14           197        \n",
       "16 10                 11             9                2            60        \n",
       "17  1                  1             0                2             9        \n",
       "18 11                  8            15               10            90        \n",
       "19 14                 14            10                3            92        \n",
       "20  0                  0             1                0             3        \n",
       "21 46                 41            41                8           280        \n",
       "22  5                  5             4                3            30        \n",
       "23 30                 30            29                5           192        \n",
       "24 14                 14            13                2            83        \n",
       "25  6                  6             6                4            40        \n",
       "26 15                 16            17                5           102        \n",
       "27  1                  1             1                1             7        \n",
       "28  3                  3             2                5            21        \n",
       "29  4                  4             3                3            23        \n",
       "30  3                  3             3                0            18        \n",
       "31 25                 25            19               23           180        \n",
       "32  3                  3             3                0            19        \n",
       "33 47                 51            40               12           321        \n",
       "34 23                 24            24                9           149        \n",
       "35 13                 13            11                1            75        \n",
       "36  1                  1             0                0             5        \n",
       "37  2                  3             4                4            26        \n",
       "38 49                 49            38               19           302        \n",
       "39  5                  5             3                0            29        \n",
       "40  3                  3             4                1            19        \n",
       "41 11                 10             9                1            65        \n",
       "42 11                  9            10                4            70        \n",
       "43 27                 32            29               20           192        \n",
       "44  1                  1             0                2             7        \n",
       "45  1                  1             0                1             8        \n",
       "46  2                  1             1                2            12        \n",
       "47 21                 24            22               10           150        \n",
       "48 13                 12             8               12            86        \n",
       "49  2                  1             5                2            20        \n",
       "50  6                  7             9                1            46        \n",
       "51  5                  5             5                1            27        \n",
       "52  1                  1             1                1             7        "
      ]
     },
     "metadata": {},
     "output_type": "display_data"
    }
   ],
   "source": [
    "# Calculate the count of each insurance option by state\n",
    "ins_counts_by_state <- final_data %>%\n",
    "  group_by(Q3) %>%\n",
    "  summarise(\n",
    "    Medicaid = sum(Q7 == 1, na.rm = TRUE),\n",
    "    Medicare = sum(Q8 == 1, na.rm = TRUE),\n",
    "    Other_Public_Insurance = sum(Q9 == 1, na.rm = TRUE),\n",
    "    Employer_Sponsored = sum(Q10 == 1, na.rm = TRUE),\n",
    "    Other_Private = sum(Q11 == 1, na.rm = TRUE),\n",
    "    Income_Dependent = sum(Q12 == 1, na.rm = TRUE),\n",
    "    Other_Option = sum(Q13 == 1, na.rm = TRUE),\n",
    "    Total_Count = sum(Q7, Q8, Q9, Q10, Q11, Q12, Q13, na.rm = TRUE)\n",
    "  )\n",
    "# Print the counts of each insurance option by state\n",
    "ins_counts_by_state"
   ]
  },
  {
   "cell_type": "code",
   "execution_count": 196,
   "id": "a4346c03-63b4-4ee8-bc85-0984eb1b957c",
   "metadata": {},
   "outputs": [
    {
     "data": {
      "text/html": [
       "<table class=\"dataframe\">\n",
       "<caption>A tibble: 52 × 2</caption>\n",
       "<thead>\n",
       "\t<tr><th scope=col>Q3</th><th scope=col>Total_Count</th></tr>\n",
       "\t<tr><th scope=col>&lt;chr&gt;</th><th scope=col>&lt;dbl&gt;</th></tr>\n",
       "</thead>\n",
       "<tbody>\n",
       "\t<tr><td>Alabama             </td><td> 31</td></tr>\n",
       "\t<tr><td>Alaska              </td><td>  1</td></tr>\n",
       "\t<tr><td>Arizona             </td><td> 61</td></tr>\n",
       "\t<tr><td>Arkansas            </td><td> 40</td></tr>\n",
       "\t<tr><td>California          </td><td>379</td></tr>\n",
       "\t<tr><td>Colorado            </td><td> 65</td></tr>\n",
       "\t<tr><td>Connecticut         </td><td> 65</td></tr>\n",
       "\t<tr><td>Delaware            </td><td> 58</td></tr>\n",
       "\t<tr><td>District of Columbia</td><td>115</td></tr>\n",
       "\t<tr><td>Florida             </td><td>264</td></tr>\n",
       "\t<tr><td>Georgia             </td><td>105</td></tr>\n",
       "\t<tr><td>Hawaii              </td><td> 40</td></tr>\n",
       "\t<tr><td>Idaho               </td><td> 12</td></tr>\n",
       "\t<tr><td>Illinois            </td><td>160</td></tr>\n",
       "\t<tr><td>Indiana             </td><td>197</td></tr>\n",
       "\t<tr><td>Iowa                </td><td> 60</td></tr>\n",
       "\t<tr><td>Kansas              </td><td>  9</td></tr>\n",
       "\t<tr><td>Kentucky            </td><td> 90</td></tr>\n",
       "\t<tr><td>Louisiana           </td><td> 92</td></tr>\n",
       "\t<tr><td>Maine               </td><td>  3</td></tr>\n",
       "\t<tr><td>Maryland            </td><td>280</td></tr>\n",
       "\t<tr><td>Massachusetts       </td><td> 30</td></tr>\n",
       "\t<tr><td>Michigan            </td><td>192</td></tr>\n",
       "\t<tr><td>Minnesota           </td><td> 83</td></tr>\n",
       "\t<tr><td>Mississippi         </td><td> 40</td></tr>\n",
       "\t<tr><td>Missouri            </td><td>102</td></tr>\n",
       "\t<tr><td>Montana             </td><td>  7</td></tr>\n",
       "\t<tr><td>Nebraska            </td><td> 21</td></tr>\n",
       "\t<tr><td>Nevada              </td><td> 23</td></tr>\n",
       "\t<tr><td>New Hampshire       </td><td> 18</td></tr>\n",
       "\t<tr><td>New Jersey          </td><td>180</td></tr>\n",
       "\t<tr><td>New Mexico          </td><td> 19</td></tr>\n",
       "\t<tr><td>New York            </td><td>321</td></tr>\n",
       "\t<tr><td>North Carolina      </td><td>149</td></tr>\n",
       "\t<tr><td>Ohio                </td><td> 75</td></tr>\n",
       "\t<tr><td>Oklahoma            </td><td>  5</td></tr>\n",
       "\t<tr><td>Oregon              </td><td> 26</td></tr>\n",
       "\t<tr><td>Pennsylvania        </td><td>302</td></tr>\n",
       "\t<tr><td>Puerto Rico         </td><td> 29</td></tr>\n",
       "\t<tr><td>Rhode Island        </td><td> 19</td></tr>\n",
       "\t<tr><td>South Carolina      </td><td> 65</td></tr>\n",
       "\t<tr><td>Tennessee           </td><td> 70</td></tr>\n",
       "\t<tr><td>Texas               </td><td>192</td></tr>\n",
       "\t<tr><td>Utah                </td><td>  7</td></tr>\n",
       "\t<tr><td>Vermont             </td><td>  8</td></tr>\n",
       "\t<tr><td>Virgin Islands      </td><td> 12</td></tr>\n",
       "\t<tr><td>Virginia            </td><td>150</td></tr>\n",
       "\t<tr><td>Washington          </td><td> 86</td></tr>\n",
       "\t<tr><td>West Virginia       </td><td> 20</td></tr>\n",
       "\t<tr><td>Wisconsin           </td><td> 46</td></tr>\n",
       "\t<tr><td>Wyoming             </td><td> 27</td></tr>\n",
       "\t<tr><td>NA                  </td><td>  7</td></tr>\n",
       "</tbody>\n",
       "</table>\n"
      ],
      "text/latex": [
       "A tibble: 52 × 2\n",
       "\\begin{tabular}{ll}\n",
       " Q3 & Total\\_Count\\\\\n",
       " <chr> & <dbl>\\\\\n",
       "\\hline\n",
       "\t Alabama              &  31\\\\\n",
       "\t Alaska               &   1\\\\\n",
       "\t Arizona              &  61\\\\\n",
       "\t Arkansas             &  40\\\\\n",
       "\t California           & 379\\\\\n",
       "\t Colorado             &  65\\\\\n",
       "\t Connecticut          &  65\\\\\n",
       "\t Delaware             &  58\\\\\n",
       "\t District of Columbia & 115\\\\\n",
       "\t Florida              & 264\\\\\n",
       "\t Georgia              & 105\\\\\n",
       "\t Hawaii               &  40\\\\\n",
       "\t Idaho                &  12\\\\\n",
       "\t Illinois             & 160\\\\\n",
       "\t Indiana              & 197\\\\\n",
       "\t Iowa                 &  60\\\\\n",
       "\t Kansas               &   9\\\\\n",
       "\t Kentucky             &  90\\\\\n",
       "\t Louisiana            &  92\\\\\n",
       "\t Maine                &   3\\\\\n",
       "\t Maryland             & 280\\\\\n",
       "\t Massachusetts        &  30\\\\\n",
       "\t Michigan             & 192\\\\\n",
       "\t Minnesota            &  83\\\\\n",
       "\t Mississippi          &  40\\\\\n",
       "\t Missouri             & 102\\\\\n",
       "\t Montana              &   7\\\\\n",
       "\t Nebraska             &  21\\\\\n",
       "\t Nevada               &  23\\\\\n",
       "\t New Hampshire        &  18\\\\\n",
       "\t New Jersey           & 180\\\\\n",
       "\t New Mexico           &  19\\\\\n",
       "\t New York             & 321\\\\\n",
       "\t North Carolina       & 149\\\\\n",
       "\t Ohio                 &  75\\\\\n",
       "\t Oklahoma             &   5\\\\\n",
       "\t Oregon               &  26\\\\\n",
       "\t Pennsylvania         & 302\\\\\n",
       "\t Puerto Rico          &  29\\\\\n",
       "\t Rhode Island         &  19\\\\\n",
       "\t South Carolina       &  65\\\\\n",
       "\t Tennessee            &  70\\\\\n",
       "\t Texas                & 192\\\\\n",
       "\t Utah                 &   7\\\\\n",
       "\t Vermont              &   8\\\\\n",
       "\t Virgin Islands       &  12\\\\\n",
       "\t Virginia             & 150\\\\\n",
       "\t Washington           &  86\\\\\n",
       "\t West Virginia        &  20\\\\\n",
       "\t Wisconsin            &  46\\\\\n",
       "\t Wyoming              &  27\\\\\n",
       "\t NA                   &   7\\\\\n",
       "\\end{tabular}\n"
      ],
      "text/markdown": [
       "\n",
       "A tibble: 52 × 2\n",
       "\n",
       "| Q3 &lt;chr&gt; | Total_Count &lt;dbl&gt; |\n",
       "|---|---|\n",
       "| Alabama              |  31 |\n",
       "| Alaska               |   1 |\n",
       "| Arizona              |  61 |\n",
       "| Arkansas             |  40 |\n",
       "| California           | 379 |\n",
       "| Colorado             |  65 |\n",
       "| Connecticut          |  65 |\n",
       "| Delaware             |  58 |\n",
       "| District of Columbia | 115 |\n",
       "| Florida              | 264 |\n",
       "| Georgia              | 105 |\n",
       "| Hawaii               |  40 |\n",
       "| Idaho                |  12 |\n",
       "| Illinois             | 160 |\n",
       "| Indiana              | 197 |\n",
       "| Iowa                 |  60 |\n",
       "| Kansas               |   9 |\n",
       "| Kentucky             |  90 |\n",
       "| Louisiana            |  92 |\n",
       "| Maine                |   3 |\n",
       "| Maryland             | 280 |\n",
       "| Massachusetts        |  30 |\n",
       "| Michigan             | 192 |\n",
       "| Minnesota            |  83 |\n",
       "| Mississippi          |  40 |\n",
       "| Missouri             | 102 |\n",
       "| Montana              |   7 |\n",
       "| Nebraska             |  21 |\n",
       "| Nevada               |  23 |\n",
       "| New Hampshire        |  18 |\n",
       "| New Jersey           | 180 |\n",
       "| New Mexico           |  19 |\n",
       "| New York             | 321 |\n",
       "| North Carolina       | 149 |\n",
       "| Ohio                 |  75 |\n",
       "| Oklahoma             |   5 |\n",
       "| Oregon               |  26 |\n",
       "| Pennsylvania         | 302 |\n",
       "| Puerto Rico          |  29 |\n",
       "| Rhode Island         |  19 |\n",
       "| South Carolina       |  65 |\n",
       "| Tennessee            |  70 |\n",
       "| Texas                | 192 |\n",
       "| Utah                 |   7 |\n",
       "| Vermont              |   8 |\n",
       "| Virgin Islands       |  12 |\n",
       "| Virginia             | 150 |\n",
       "| Washington           |  86 |\n",
       "| West Virginia        |  20 |\n",
       "| Wisconsin            |  46 |\n",
       "| Wyoming              |  27 |\n",
       "| NA                   |   7 |\n",
       "\n"
      ],
      "text/plain": [
       "   Q3                   Total_Count\n",
       "1  Alabama               31        \n",
       "2  Alaska                 1        \n",
       "3  Arizona               61        \n",
       "4  Arkansas              40        \n",
       "5  California           379        \n",
       "6  Colorado              65        \n",
       "7  Connecticut           65        \n",
       "8  Delaware              58        \n",
       "9  District of Columbia 115        \n",
       "10 Florida              264        \n",
       "11 Georgia              105        \n",
       "12 Hawaii                40        \n",
       "13 Idaho                 12        \n",
       "14 Illinois             160        \n",
       "15 Indiana              197        \n",
       "16 Iowa                  60        \n",
       "17 Kansas                 9        \n",
       "18 Kentucky              90        \n",
       "19 Louisiana             92        \n",
       "20 Maine                  3        \n",
       "21 Maryland             280        \n",
       "22 Massachusetts         30        \n",
       "23 Michigan             192        \n",
       "24 Minnesota             83        \n",
       "25 Mississippi           40        \n",
       "26 Missouri             102        \n",
       "27 Montana                7        \n",
       "28 Nebraska              21        \n",
       "29 Nevada                23        \n",
       "30 New Hampshire         18        \n",
       "31 New Jersey           180        \n",
       "32 New Mexico            19        \n",
       "33 New York             321        \n",
       "34 North Carolina       149        \n",
       "35 Ohio                  75        \n",
       "36 Oklahoma               5        \n",
       "37 Oregon                26        \n",
       "38 Pennsylvania         302        \n",
       "39 Puerto Rico           29        \n",
       "40 Rhode Island          19        \n",
       "41 South Carolina        65        \n",
       "42 Tennessee             70        \n",
       "43 Texas                192        \n",
       "44 Utah                   7        \n",
       "45 Vermont                8        \n",
       "46 Virgin Islands        12        \n",
       "47 Virginia             150        \n",
       "48 Washington            86        \n",
       "49 West Virginia         20        \n",
       "50 Wisconsin             46        \n",
       "51 Wyoming               27        \n",
       "52 NA                     7        "
      ]
     },
     "metadata": {},
     "output_type": "display_data"
    }
   ],
   "source": [
    "# Calculate the total count across all types of insurance for each state\n",
    "total_ins_counts_by_state <- final_data %>%\n",
    "  group_by(Q3) %>%\n",
    "  summarise(\n",
    "    Total_Count = sum(Q7, Q8, Q9, Q10, Q11, Q12, Q13, na.rm = TRUE)\n",
    "  )\n",
    "# Print the total counts across all types of insurance for each state\n",
    "total_ins_counts_by_state"
   ]
  },
  {
   "cell_type": "code",
   "execution_count": 197,
   "id": "8e3fac34-6d42-4529-a89f-e74202b12170",
   "metadata": {},
   "outputs": [
    {
     "data": {
      "text/html": [
       "<table class=\"dataframe\">\n",
       "<caption>A tibble: 52 × 8</caption>\n",
       "<thead>\n",
       "\t<tr><th scope=col>Q3</th><th scope=col>Medicaid_Percentage</th><th scope=col>Medicare_Percentage</th><th scope=col>Other_Public_Insurance_Percentage</th><th scope=col>Employer_Sponsored_Percentage</th><th scope=col>Other_Private_Percentage</th><th scope=col>Income_Dependent_Percentage</th><th scope=col>Other_Option_Percentage</th></tr>\n",
       "\t<tr><th scope=col>&lt;chr&gt;</th><th scope=col>&lt;dbl&gt;</th><th scope=col>&lt;dbl&gt;</th><th scope=col>&lt;dbl&gt;</th><th scope=col>&lt;dbl&gt;</th><th scope=col>&lt;dbl&gt;</th><th scope=col>&lt;dbl&gt;</th><th scope=col>&lt;dbl&gt;</th></tr>\n",
       "</thead>\n",
       "<tbody>\n",
       "\t<tr><td>Alabama             </td><td>19.35484</td><td>16.12903</td><td>16.12903</td><td>12.903226</td><td>19.354839</td><td>12.903226</td><td>  3.225806</td></tr>\n",
       "\t<tr><td>Alaska              </td><td> 0.00000</td><td> 0.00000</td><td> 0.00000</td><td> 0.000000</td><td> 0.000000</td><td> 0.000000</td><td>100.000000</td></tr>\n",
       "\t<tr><td>Arizona             </td><td>21.31148</td><td>16.39344</td><td>11.47541</td><td>11.475410</td><td>16.393443</td><td>14.754098</td><td>  8.196721</td></tr>\n",
       "\t<tr><td>Arkansas            </td><td>17.50000</td><td>17.50000</td><td>17.50000</td><td>15.000000</td><td>15.000000</td><td>12.500000</td><td>  5.000000</td></tr>\n",
       "\t<tr><td>California          </td><td>19.26121</td><td>19.26121</td><td>13.98417</td><td>12.664908</td><td>13.456464</td><td>12.928760</td><td>  8.443272</td></tr>\n",
       "\t<tr><td>Colorado            </td><td>18.46154</td><td>15.38462</td><td>15.38462</td><td>13.846154</td><td>15.384615</td><td>13.846154</td><td>  7.692308</td></tr>\n",
       "\t<tr><td>Connecticut         </td><td>18.46154</td><td>18.46154</td><td>15.38462</td><td>12.307692</td><td>10.769231</td><td>15.384615</td><td>  9.230769</td></tr>\n",
       "\t<tr><td>Delaware            </td><td>18.96552</td><td>18.96552</td><td>13.79310</td><td>17.241379</td><td>17.241379</td><td>10.344828</td><td>  3.448276</td></tr>\n",
       "\t<tr><td>District of Columbia</td><td>22.60870</td><td>17.39130</td><td>14.78261</td><td>12.173913</td><td>15.652174</td><td> 9.565217</td><td>  7.826087</td></tr>\n",
       "\t<tr><td>Florida             </td><td>18.56061</td><td>15.53030</td><td>15.53030</td><td>12.121212</td><td>14.772727</td><td>15.530303</td><td>  7.954545</td></tr>\n",
       "\t<tr><td>Georgia             </td><td>19.04762</td><td>16.19048</td><td>13.33333</td><td>13.333333</td><td>18.095238</td><td>13.333333</td><td>  6.666667</td></tr>\n",
       "\t<tr><td>Hawaii              </td><td>15.00000</td><td>12.50000</td><td>17.50000</td><td>12.500000</td><td>17.500000</td><td>10.000000</td><td> 15.000000</td></tr>\n",
       "\t<tr><td>Idaho               </td><td>16.66667</td><td>16.66667</td><td>16.66667</td><td>16.666667</td><td>16.666667</td><td>16.666667</td><td>  0.000000</td></tr>\n",
       "\t<tr><td>Illinois            </td><td>17.50000</td><td>16.25000</td><td>13.12500</td><td>18.125000</td><td>16.250000</td><td>14.375000</td><td>  4.375000</td></tr>\n",
       "\t<tr><td>Indiana             </td><td>18.78173</td><td>16.75127</td><td>14.72081</td><td>15.736041</td><td>16.751269</td><td>10.152284</td><td>  7.106599</td></tr>\n",
       "\t<tr><td>Iowa                </td><td>18.33333</td><td>15.00000</td><td>13.33333</td><td>16.666667</td><td>18.333333</td><td>15.000000</td><td>  3.333333</td></tr>\n",
       "\t<tr><td>Kansas              </td><td>22.22222</td><td>22.22222</td><td>11.11111</td><td>11.111111</td><td>11.111111</td><td> 0.000000</td><td> 22.222222</td></tr>\n",
       "\t<tr><td>Kentucky            </td><td>17.77778</td><td>16.66667</td><td>16.66667</td><td>12.222222</td><td> 8.888889</td><td>16.666667</td><td> 11.111111</td></tr>\n",
       "\t<tr><td>Louisiana           </td><td>23.91304</td><td>17.39130</td><td>14.13043</td><td>15.217391</td><td>15.217391</td><td>10.869565</td><td>  3.260870</td></tr>\n",
       "\t<tr><td>Maine               </td><td>33.33333</td><td>33.33333</td><td> 0.00000</td><td> 0.000000</td><td> 0.000000</td><td>33.333333</td><td>  0.000000</td></tr>\n",
       "\t<tr><td>Maryland            </td><td>19.28571</td><td>17.14286</td><td>15.00000</td><td>16.428571</td><td>14.642857</td><td>14.642857</td><td>  2.857143</td></tr>\n",
       "\t<tr><td>Massachusetts       </td><td>13.33333</td><td>13.33333</td><td>16.66667</td><td>16.666667</td><td>16.666667</td><td>13.333333</td><td> 10.000000</td></tr>\n",
       "\t<tr><td>Michigan            </td><td>19.27083</td><td>17.70833</td><td>14.06250</td><td>15.625000</td><td>15.625000</td><td>15.104167</td><td>  2.604167</td></tr>\n",
       "\t<tr><td>Minnesota           </td><td>16.86747</td><td>14.45783</td><td>16.86747</td><td>16.867470</td><td>16.867470</td><td>15.662651</td><td>  2.409639</td></tr>\n",
       "\t<tr><td>Mississippi         </td><td>15.00000</td><td>15.00000</td><td>15.00000</td><td>15.000000</td><td>15.000000</td><td>15.000000</td><td> 10.000000</td></tr>\n",
       "\t<tr><td>Missouri            </td><td>18.62745</td><td>13.72549</td><td>15.68627</td><td>14.705882</td><td>15.686275</td><td>16.666667</td><td>  4.901961</td></tr>\n",
       "\t<tr><td>Montana             </td><td>14.28571</td><td>14.28571</td><td>14.28571</td><td>14.285714</td><td>14.285714</td><td>14.285714</td><td> 14.285714</td></tr>\n",
       "\t<tr><td>Nebraska            </td><td>14.28571</td><td>14.28571</td><td> 9.52381</td><td>14.285714</td><td>14.285714</td><td> 9.523810</td><td> 23.809524</td></tr>\n",
       "\t<tr><td>Nevada              </td><td>13.04348</td><td>13.04348</td><td>13.04348</td><td>17.391304</td><td>17.391304</td><td>13.043478</td><td> 13.043478</td></tr>\n",
       "\t<tr><td>New Hampshire       </td><td>16.66667</td><td>16.66667</td><td>16.66667</td><td>16.666667</td><td>16.666667</td><td>16.666667</td><td>  0.000000</td></tr>\n",
       "\t<tr><td>New Jersey          </td><td>18.88889</td><td>16.11111</td><td>13.88889</td><td>13.888889</td><td>13.888889</td><td>10.555556</td><td> 12.777778</td></tr>\n",
       "\t<tr><td>New Mexico          </td><td>21.05263</td><td>15.78947</td><td>15.78947</td><td>15.789474</td><td>15.789474</td><td>15.789474</td><td>  0.000000</td></tr>\n",
       "\t<tr><td>New York            </td><td>20.24922</td><td>16.51090</td><td>16.51090</td><td>14.641745</td><td>15.887850</td><td>12.461059</td><td>  3.738318</td></tr>\n",
       "\t<tr><td>North Carolina      </td><td>16.10738</td><td>15.43624</td><td>14.76510</td><td>15.436242</td><td>16.107383</td><td>16.107383</td><td>  6.040268</td></tr>\n",
       "\t<tr><td>Ohio                </td><td>18.66667</td><td>14.66667</td><td>16.00000</td><td>17.333333</td><td>17.333333</td><td>14.666667</td><td>  1.333333</td></tr>\n",
       "\t<tr><td>Oklahoma            </td><td>20.00000</td><td>20.00000</td><td>20.00000</td><td>20.000000</td><td>20.000000</td><td> 0.000000</td><td>  0.000000</td></tr>\n",
       "\t<tr><td>Oregon              </td><td>19.23077</td><td>19.23077</td><td>11.53846</td><td> 7.692308</td><td>11.538462</td><td>15.384615</td><td> 15.384615</td></tr>\n",
       "\t<tr><td>Pennsylvania        </td><td>17.21854</td><td>16.22517</td><td>15.23179</td><td>16.225166</td><td>16.225166</td><td>12.582781</td><td>  6.291391</td></tr>\n",
       "\t<tr><td>Puerto Rico         </td><td>17.24138</td><td>20.68966</td><td>17.24138</td><td>17.241379</td><td>17.241379</td><td>10.344828</td><td>  0.000000</td></tr>\n",
       "\t<tr><td>Rhode Island        </td><td>15.78947</td><td>10.52632</td><td>15.78947</td><td>15.789474</td><td>15.789474</td><td>21.052632</td><td>  5.263158</td></tr>\n",
       "\t<tr><td>South Carolina      </td><td>18.46154</td><td>18.46154</td><td>15.38462</td><td>16.923077</td><td>15.384615</td><td>13.846154</td><td>  1.538462</td></tr>\n",
       "\t<tr><td>Tennessee           </td><td>20.00000</td><td>18.57143</td><td>12.85714</td><td>15.714286</td><td>12.857143</td><td>14.285714</td><td>  5.714286</td></tr>\n",
       "\t<tr><td>Texas               </td><td>15.62500</td><td>14.06250</td><td>14.06250</td><td>14.062500</td><td>16.666667</td><td>15.104167</td><td> 10.416667</td></tr>\n",
       "\t<tr><td>Utah                </td><td>14.28571</td><td>14.28571</td><td>14.28571</td><td>14.285714</td><td>14.285714</td><td> 0.000000</td><td> 28.571429</td></tr>\n",
       "\t<tr><td>Vermont             </td><td>25.00000</td><td>25.00000</td><td>12.50000</td><td>12.500000</td><td>12.500000</td><td> 0.000000</td><td> 12.500000</td></tr>\n",
       "\t<tr><td>Virgin Islands      </td><td>16.66667</td><td>16.66667</td><td>16.66667</td><td>16.666667</td><td> 8.333333</td><td> 8.333333</td><td> 16.666667</td></tr>\n",
       "\t<tr><td>Virginia            </td><td>18.00000</td><td>15.33333</td><td>15.33333</td><td>14.000000</td><td>16.000000</td><td>14.666667</td><td>  6.666667</td></tr>\n",
       "\t<tr><td>Washington          </td><td>16.27907</td><td>15.11628</td><td>16.27907</td><td>15.116279</td><td>13.953488</td><td> 9.302326</td><td> 13.953488</td></tr>\n",
       "\t<tr><td>West Virginia       </td><td>20.00000</td><td>10.00000</td><td>20.00000</td><td>10.000000</td><td> 5.000000</td><td>25.000000</td><td> 10.000000</td></tr>\n",
       "\t<tr><td>Wisconsin           </td><td>19.56522</td><td>15.21739</td><td>15.21739</td><td>13.043478</td><td>15.217391</td><td>19.565217</td><td>  2.173913</td></tr>\n",
       "\t<tr><td>Wyoming             </td><td>14.81481</td><td>11.11111</td><td>14.81481</td><td>18.518519</td><td>18.518519</td><td>18.518519</td><td>  3.703704</td></tr>\n",
       "\t<tr><td>NA                  </td><td>14.28571</td><td>14.28571</td><td>14.28571</td><td>14.285714</td><td>14.285714</td><td>14.285714</td><td> 14.285714</td></tr>\n",
       "</tbody>\n",
       "</table>\n"
      ],
      "text/latex": [
       "A tibble: 52 × 8\n",
       "\\begin{tabular}{llllllll}\n",
       " Q3 & Medicaid\\_Percentage & Medicare\\_Percentage & Other\\_Public\\_Insurance\\_Percentage & Employer\\_Sponsored\\_Percentage & Other\\_Private\\_Percentage & Income\\_Dependent\\_Percentage & Other\\_Option\\_Percentage\\\\\n",
       " <chr> & <dbl> & <dbl> & <dbl> & <dbl> & <dbl> & <dbl> & <dbl>\\\\\n",
       "\\hline\n",
       "\t Alabama              & 19.35484 & 16.12903 & 16.12903 & 12.903226 & 19.354839 & 12.903226 &   3.225806\\\\\n",
       "\t Alaska               &  0.00000 &  0.00000 &  0.00000 &  0.000000 &  0.000000 &  0.000000 & 100.000000\\\\\n",
       "\t Arizona              & 21.31148 & 16.39344 & 11.47541 & 11.475410 & 16.393443 & 14.754098 &   8.196721\\\\\n",
       "\t Arkansas             & 17.50000 & 17.50000 & 17.50000 & 15.000000 & 15.000000 & 12.500000 &   5.000000\\\\\n",
       "\t California           & 19.26121 & 19.26121 & 13.98417 & 12.664908 & 13.456464 & 12.928760 &   8.443272\\\\\n",
       "\t Colorado             & 18.46154 & 15.38462 & 15.38462 & 13.846154 & 15.384615 & 13.846154 &   7.692308\\\\\n",
       "\t Connecticut          & 18.46154 & 18.46154 & 15.38462 & 12.307692 & 10.769231 & 15.384615 &   9.230769\\\\\n",
       "\t Delaware             & 18.96552 & 18.96552 & 13.79310 & 17.241379 & 17.241379 & 10.344828 &   3.448276\\\\\n",
       "\t District of Columbia & 22.60870 & 17.39130 & 14.78261 & 12.173913 & 15.652174 &  9.565217 &   7.826087\\\\\n",
       "\t Florida              & 18.56061 & 15.53030 & 15.53030 & 12.121212 & 14.772727 & 15.530303 &   7.954545\\\\\n",
       "\t Georgia              & 19.04762 & 16.19048 & 13.33333 & 13.333333 & 18.095238 & 13.333333 &   6.666667\\\\\n",
       "\t Hawaii               & 15.00000 & 12.50000 & 17.50000 & 12.500000 & 17.500000 & 10.000000 &  15.000000\\\\\n",
       "\t Idaho                & 16.66667 & 16.66667 & 16.66667 & 16.666667 & 16.666667 & 16.666667 &   0.000000\\\\\n",
       "\t Illinois             & 17.50000 & 16.25000 & 13.12500 & 18.125000 & 16.250000 & 14.375000 &   4.375000\\\\\n",
       "\t Indiana              & 18.78173 & 16.75127 & 14.72081 & 15.736041 & 16.751269 & 10.152284 &   7.106599\\\\\n",
       "\t Iowa                 & 18.33333 & 15.00000 & 13.33333 & 16.666667 & 18.333333 & 15.000000 &   3.333333\\\\\n",
       "\t Kansas               & 22.22222 & 22.22222 & 11.11111 & 11.111111 & 11.111111 &  0.000000 &  22.222222\\\\\n",
       "\t Kentucky             & 17.77778 & 16.66667 & 16.66667 & 12.222222 &  8.888889 & 16.666667 &  11.111111\\\\\n",
       "\t Louisiana            & 23.91304 & 17.39130 & 14.13043 & 15.217391 & 15.217391 & 10.869565 &   3.260870\\\\\n",
       "\t Maine                & 33.33333 & 33.33333 &  0.00000 &  0.000000 &  0.000000 & 33.333333 &   0.000000\\\\\n",
       "\t Maryland             & 19.28571 & 17.14286 & 15.00000 & 16.428571 & 14.642857 & 14.642857 &   2.857143\\\\\n",
       "\t Massachusetts        & 13.33333 & 13.33333 & 16.66667 & 16.666667 & 16.666667 & 13.333333 &  10.000000\\\\\n",
       "\t Michigan             & 19.27083 & 17.70833 & 14.06250 & 15.625000 & 15.625000 & 15.104167 &   2.604167\\\\\n",
       "\t Minnesota            & 16.86747 & 14.45783 & 16.86747 & 16.867470 & 16.867470 & 15.662651 &   2.409639\\\\\n",
       "\t Mississippi          & 15.00000 & 15.00000 & 15.00000 & 15.000000 & 15.000000 & 15.000000 &  10.000000\\\\\n",
       "\t Missouri             & 18.62745 & 13.72549 & 15.68627 & 14.705882 & 15.686275 & 16.666667 &   4.901961\\\\\n",
       "\t Montana              & 14.28571 & 14.28571 & 14.28571 & 14.285714 & 14.285714 & 14.285714 &  14.285714\\\\\n",
       "\t Nebraska             & 14.28571 & 14.28571 &  9.52381 & 14.285714 & 14.285714 &  9.523810 &  23.809524\\\\\n",
       "\t Nevada               & 13.04348 & 13.04348 & 13.04348 & 17.391304 & 17.391304 & 13.043478 &  13.043478\\\\\n",
       "\t New Hampshire        & 16.66667 & 16.66667 & 16.66667 & 16.666667 & 16.666667 & 16.666667 &   0.000000\\\\\n",
       "\t New Jersey           & 18.88889 & 16.11111 & 13.88889 & 13.888889 & 13.888889 & 10.555556 &  12.777778\\\\\n",
       "\t New Mexico           & 21.05263 & 15.78947 & 15.78947 & 15.789474 & 15.789474 & 15.789474 &   0.000000\\\\\n",
       "\t New York             & 20.24922 & 16.51090 & 16.51090 & 14.641745 & 15.887850 & 12.461059 &   3.738318\\\\\n",
       "\t North Carolina       & 16.10738 & 15.43624 & 14.76510 & 15.436242 & 16.107383 & 16.107383 &   6.040268\\\\\n",
       "\t Ohio                 & 18.66667 & 14.66667 & 16.00000 & 17.333333 & 17.333333 & 14.666667 &   1.333333\\\\\n",
       "\t Oklahoma             & 20.00000 & 20.00000 & 20.00000 & 20.000000 & 20.000000 &  0.000000 &   0.000000\\\\\n",
       "\t Oregon               & 19.23077 & 19.23077 & 11.53846 &  7.692308 & 11.538462 & 15.384615 &  15.384615\\\\\n",
       "\t Pennsylvania         & 17.21854 & 16.22517 & 15.23179 & 16.225166 & 16.225166 & 12.582781 &   6.291391\\\\\n",
       "\t Puerto Rico          & 17.24138 & 20.68966 & 17.24138 & 17.241379 & 17.241379 & 10.344828 &   0.000000\\\\\n",
       "\t Rhode Island         & 15.78947 & 10.52632 & 15.78947 & 15.789474 & 15.789474 & 21.052632 &   5.263158\\\\\n",
       "\t South Carolina       & 18.46154 & 18.46154 & 15.38462 & 16.923077 & 15.384615 & 13.846154 &   1.538462\\\\\n",
       "\t Tennessee            & 20.00000 & 18.57143 & 12.85714 & 15.714286 & 12.857143 & 14.285714 &   5.714286\\\\\n",
       "\t Texas                & 15.62500 & 14.06250 & 14.06250 & 14.062500 & 16.666667 & 15.104167 &  10.416667\\\\\n",
       "\t Utah                 & 14.28571 & 14.28571 & 14.28571 & 14.285714 & 14.285714 &  0.000000 &  28.571429\\\\\n",
       "\t Vermont              & 25.00000 & 25.00000 & 12.50000 & 12.500000 & 12.500000 &  0.000000 &  12.500000\\\\\n",
       "\t Virgin Islands       & 16.66667 & 16.66667 & 16.66667 & 16.666667 &  8.333333 &  8.333333 &  16.666667\\\\\n",
       "\t Virginia             & 18.00000 & 15.33333 & 15.33333 & 14.000000 & 16.000000 & 14.666667 &   6.666667\\\\\n",
       "\t Washington           & 16.27907 & 15.11628 & 16.27907 & 15.116279 & 13.953488 &  9.302326 &  13.953488\\\\\n",
       "\t West Virginia        & 20.00000 & 10.00000 & 20.00000 & 10.000000 &  5.000000 & 25.000000 &  10.000000\\\\\n",
       "\t Wisconsin            & 19.56522 & 15.21739 & 15.21739 & 13.043478 & 15.217391 & 19.565217 &   2.173913\\\\\n",
       "\t Wyoming              & 14.81481 & 11.11111 & 14.81481 & 18.518519 & 18.518519 & 18.518519 &   3.703704\\\\\n",
       "\t NA                   & 14.28571 & 14.28571 & 14.28571 & 14.285714 & 14.285714 & 14.285714 &  14.285714\\\\\n",
       "\\end{tabular}\n"
      ],
      "text/markdown": [
       "\n",
       "A tibble: 52 × 8\n",
       "\n",
       "| Q3 &lt;chr&gt; | Medicaid_Percentage &lt;dbl&gt; | Medicare_Percentage &lt;dbl&gt; | Other_Public_Insurance_Percentage &lt;dbl&gt; | Employer_Sponsored_Percentage &lt;dbl&gt; | Other_Private_Percentage &lt;dbl&gt; | Income_Dependent_Percentage &lt;dbl&gt; | Other_Option_Percentage &lt;dbl&gt; |\n",
       "|---|---|---|---|---|---|---|---|\n",
       "| Alabama              | 19.35484 | 16.12903 | 16.12903 | 12.903226 | 19.354839 | 12.903226 |   3.225806 |\n",
       "| Alaska               |  0.00000 |  0.00000 |  0.00000 |  0.000000 |  0.000000 |  0.000000 | 100.000000 |\n",
       "| Arizona              | 21.31148 | 16.39344 | 11.47541 | 11.475410 | 16.393443 | 14.754098 |   8.196721 |\n",
       "| Arkansas             | 17.50000 | 17.50000 | 17.50000 | 15.000000 | 15.000000 | 12.500000 |   5.000000 |\n",
       "| California           | 19.26121 | 19.26121 | 13.98417 | 12.664908 | 13.456464 | 12.928760 |   8.443272 |\n",
       "| Colorado             | 18.46154 | 15.38462 | 15.38462 | 13.846154 | 15.384615 | 13.846154 |   7.692308 |\n",
       "| Connecticut          | 18.46154 | 18.46154 | 15.38462 | 12.307692 | 10.769231 | 15.384615 |   9.230769 |\n",
       "| Delaware             | 18.96552 | 18.96552 | 13.79310 | 17.241379 | 17.241379 | 10.344828 |   3.448276 |\n",
       "| District of Columbia | 22.60870 | 17.39130 | 14.78261 | 12.173913 | 15.652174 |  9.565217 |   7.826087 |\n",
       "| Florida              | 18.56061 | 15.53030 | 15.53030 | 12.121212 | 14.772727 | 15.530303 |   7.954545 |\n",
       "| Georgia              | 19.04762 | 16.19048 | 13.33333 | 13.333333 | 18.095238 | 13.333333 |   6.666667 |\n",
       "| Hawaii               | 15.00000 | 12.50000 | 17.50000 | 12.500000 | 17.500000 | 10.000000 |  15.000000 |\n",
       "| Idaho                | 16.66667 | 16.66667 | 16.66667 | 16.666667 | 16.666667 | 16.666667 |   0.000000 |\n",
       "| Illinois             | 17.50000 | 16.25000 | 13.12500 | 18.125000 | 16.250000 | 14.375000 |   4.375000 |\n",
       "| Indiana              | 18.78173 | 16.75127 | 14.72081 | 15.736041 | 16.751269 | 10.152284 |   7.106599 |\n",
       "| Iowa                 | 18.33333 | 15.00000 | 13.33333 | 16.666667 | 18.333333 | 15.000000 |   3.333333 |\n",
       "| Kansas               | 22.22222 | 22.22222 | 11.11111 | 11.111111 | 11.111111 |  0.000000 |  22.222222 |\n",
       "| Kentucky             | 17.77778 | 16.66667 | 16.66667 | 12.222222 |  8.888889 | 16.666667 |  11.111111 |\n",
       "| Louisiana            | 23.91304 | 17.39130 | 14.13043 | 15.217391 | 15.217391 | 10.869565 |   3.260870 |\n",
       "| Maine                | 33.33333 | 33.33333 |  0.00000 |  0.000000 |  0.000000 | 33.333333 |   0.000000 |\n",
       "| Maryland             | 19.28571 | 17.14286 | 15.00000 | 16.428571 | 14.642857 | 14.642857 |   2.857143 |\n",
       "| Massachusetts        | 13.33333 | 13.33333 | 16.66667 | 16.666667 | 16.666667 | 13.333333 |  10.000000 |\n",
       "| Michigan             | 19.27083 | 17.70833 | 14.06250 | 15.625000 | 15.625000 | 15.104167 |   2.604167 |\n",
       "| Minnesota            | 16.86747 | 14.45783 | 16.86747 | 16.867470 | 16.867470 | 15.662651 |   2.409639 |\n",
       "| Mississippi          | 15.00000 | 15.00000 | 15.00000 | 15.000000 | 15.000000 | 15.000000 |  10.000000 |\n",
       "| Missouri             | 18.62745 | 13.72549 | 15.68627 | 14.705882 | 15.686275 | 16.666667 |   4.901961 |\n",
       "| Montana              | 14.28571 | 14.28571 | 14.28571 | 14.285714 | 14.285714 | 14.285714 |  14.285714 |\n",
       "| Nebraska             | 14.28571 | 14.28571 |  9.52381 | 14.285714 | 14.285714 |  9.523810 |  23.809524 |\n",
       "| Nevada               | 13.04348 | 13.04348 | 13.04348 | 17.391304 | 17.391304 | 13.043478 |  13.043478 |\n",
       "| New Hampshire        | 16.66667 | 16.66667 | 16.66667 | 16.666667 | 16.666667 | 16.666667 |   0.000000 |\n",
       "| New Jersey           | 18.88889 | 16.11111 | 13.88889 | 13.888889 | 13.888889 | 10.555556 |  12.777778 |\n",
       "| New Mexico           | 21.05263 | 15.78947 | 15.78947 | 15.789474 | 15.789474 | 15.789474 |   0.000000 |\n",
       "| New York             | 20.24922 | 16.51090 | 16.51090 | 14.641745 | 15.887850 | 12.461059 |   3.738318 |\n",
       "| North Carolina       | 16.10738 | 15.43624 | 14.76510 | 15.436242 | 16.107383 | 16.107383 |   6.040268 |\n",
       "| Ohio                 | 18.66667 | 14.66667 | 16.00000 | 17.333333 | 17.333333 | 14.666667 |   1.333333 |\n",
       "| Oklahoma             | 20.00000 | 20.00000 | 20.00000 | 20.000000 | 20.000000 |  0.000000 |   0.000000 |\n",
       "| Oregon               | 19.23077 | 19.23077 | 11.53846 |  7.692308 | 11.538462 | 15.384615 |  15.384615 |\n",
       "| Pennsylvania         | 17.21854 | 16.22517 | 15.23179 | 16.225166 | 16.225166 | 12.582781 |   6.291391 |\n",
       "| Puerto Rico          | 17.24138 | 20.68966 | 17.24138 | 17.241379 | 17.241379 | 10.344828 |   0.000000 |\n",
       "| Rhode Island         | 15.78947 | 10.52632 | 15.78947 | 15.789474 | 15.789474 | 21.052632 |   5.263158 |\n",
       "| South Carolina       | 18.46154 | 18.46154 | 15.38462 | 16.923077 | 15.384615 | 13.846154 |   1.538462 |\n",
       "| Tennessee            | 20.00000 | 18.57143 | 12.85714 | 15.714286 | 12.857143 | 14.285714 |   5.714286 |\n",
       "| Texas                | 15.62500 | 14.06250 | 14.06250 | 14.062500 | 16.666667 | 15.104167 |  10.416667 |\n",
       "| Utah                 | 14.28571 | 14.28571 | 14.28571 | 14.285714 | 14.285714 |  0.000000 |  28.571429 |\n",
       "| Vermont              | 25.00000 | 25.00000 | 12.50000 | 12.500000 | 12.500000 |  0.000000 |  12.500000 |\n",
       "| Virgin Islands       | 16.66667 | 16.66667 | 16.66667 | 16.666667 |  8.333333 |  8.333333 |  16.666667 |\n",
       "| Virginia             | 18.00000 | 15.33333 | 15.33333 | 14.000000 | 16.000000 | 14.666667 |   6.666667 |\n",
       "| Washington           | 16.27907 | 15.11628 | 16.27907 | 15.116279 | 13.953488 |  9.302326 |  13.953488 |\n",
       "| West Virginia        | 20.00000 | 10.00000 | 20.00000 | 10.000000 |  5.000000 | 25.000000 |  10.000000 |\n",
       "| Wisconsin            | 19.56522 | 15.21739 | 15.21739 | 13.043478 | 15.217391 | 19.565217 |   2.173913 |\n",
       "| Wyoming              | 14.81481 | 11.11111 | 14.81481 | 18.518519 | 18.518519 | 18.518519 |   3.703704 |\n",
       "| NA                   | 14.28571 | 14.28571 | 14.28571 | 14.285714 | 14.285714 | 14.285714 |  14.285714 |\n",
       "\n"
      ],
      "text/plain": [
       "   Q3                   Medicaid_Percentage Medicare_Percentage\n",
       "1  Alabama              19.35484            16.12903           \n",
       "2  Alaska                0.00000             0.00000           \n",
       "3  Arizona              21.31148            16.39344           \n",
       "4  Arkansas             17.50000            17.50000           \n",
       "5  California           19.26121            19.26121           \n",
       "6  Colorado             18.46154            15.38462           \n",
       "7  Connecticut          18.46154            18.46154           \n",
       "8  Delaware             18.96552            18.96552           \n",
       "9  District of Columbia 22.60870            17.39130           \n",
       "10 Florida              18.56061            15.53030           \n",
       "11 Georgia              19.04762            16.19048           \n",
       "12 Hawaii               15.00000            12.50000           \n",
       "13 Idaho                16.66667            16.66667           \n",
       "14 Illinois             17.50000            16.25000           \n",
       "15 Indiana              18.78173            16.75127           \n",
       "16 Iowa                 18.33333            15.00000           \n",
       "17 Kansas               22.22222            22.22222           \n",
       "18 Kentucky             17.77778            16.66667           \n",
       "19 Louisiana            23.91304            17.39130           \n",
       "20 Maine                33.33333            33.33333           \n",
       "21 Maryland             19.28571            17.14286           \n",
       "22 Massachusetts        13.33333            13.33333           \n",
       "23 Michigan             19.27083            17.70833           \n",
       "24 Minnesota            16.86747            14.45783           \n",
       "25 Mississippi          15.00000            15.00000           \n",
       "26 Missouri             18.62745            13.72549           \n",
       "27 Montana              14.28571            14.28571           \n",
       "28 Nebraska             14.28571            14.28571           \n",
       "29 Nevada               13.04348            13.04348           \n",
       "30 New Hampshire        16.66667            16.66667           \n",
       "31 New Jersey           18.88889            16.11111           \n",
       "32 New Mexico           21.05263            15.78947           \n",
       "33 New York             20.24922            16.51090           \n",
       "34 North Carolina       16.10738            15.43624           \n",
       "35 Ohio                 18.66667            14.66667           \n",
       "36 Oklahoma             20.00000            20.00000           \n",
       "37 Oregon               19.23077            19.23077           \n",
       "38 Pennsylvania         17.21854            16.22517           \n",
       "39 Puerto Rico          17.24138            20.68966           \n",
       "40 Rhode Island         15.78947            10.52632           \n",
       "41 South Carolina       18.46154            18.46154           \n",
       "42 Tennessee            20.00000            18.57143           \n",
       "43 Texas                15.62500            14.06250           \n",
       "44 Utah                 14.28571            14.28571           \n",
       "45 Vermont              25.00000            25.00000           \n",
       "46 Virgin Islands       16.66667            16.66667           \n",
       "47 Virginia             18.00000            15.33333           \n",
       "48 Washington           16.27907            15.11628           \n",
       "49 West Virginia        20.00000            10.00000           \n",
       "50 Wisconsin            19.56522            15.21739           \n",
       "51 Wyoming              14.81481            11.11111           \n",
       "52 NA                   14.28571            14.28571           \n",
       "   Other_Public_Insurance_Percentage Employer_Sponsored_Percentage\n",
       "1  16.12903                          12.903226                    \n",
       "2   0.00000                           0.000000                    \n",
       "3  11.47541                          11.475410                    \n",
       "4  17.50000                          15.000000                    \n",
       "5  13.98417                          12.664908                    \n",
       "6  15.38462                          13.846154                    \n",
       "7  15.38462                          12.307692                    \n",
       "8  13.79310                          17.241379                    \n",
       "9  14.78261                          12.173913                    \n",
       "10 15.53030                          12.121212                    \n",
       "11 13.33333                          13.333333                    \n",
       "12 17.50000                          12.500000                    \n",
       "13 16.66667                          16.666667                    \n",
       "14 13.12500                          18.125000                    \n",
       "15 14.72081                          15.736041                    \n",
       "16 13.33333                          16.666667                    \n",
       "17 11.11111                          11.111111                    \n",
       "18 16.66667                          12.222222                    \n",
       "19 14.13043                          15.217391                    \n",
       "20  0.00000                           0.000000                    \n",
       "21 15.00000                          16.428571                    \n",
       "22 16.66667                          16.666667                    \n",
       "23 14.06250                          15.625000                    \n",
       "24 16.86747                          16.867470                    \n",
       "25 15.00000                          15.000000                    \n",
       "26 15.68627                          14.705882                    \n",
       "27 14.28571                          14.285714                    \n",
       "28  9.52381                          14.285714                    \n",
       "29 13.04348                          17.391304                    \n",
       "30 16.66667                          16.666667                    \n",
       "31 13.88889                          13.888889                    \n",
       "32 15.78947                          15.789474                    \n",
       "33 16.51090                          14.641745                    \n",
       "34 14.76510                          15.436242                    \n",
       "35 16.00000                          17.333333                    \n",
       "36 20.00000                          20.000000                    \n",
       "37 11.53846                           7.692308                    \n",
       "38 15.23179                          16.225166                    \n",
       "39 17.24138                          17.241379                    \n",
       "40 15.78947                          15.789474                    \n",
       "41 15.38462                          16.923077                    \n",
       "42 12.85714                          15.714286                    \n",
       "43 14.06250                          14.062500                    \n",
       "44 14.28571                          14.285714                    \n",
       "45 12.50000                          12.500000                    \n",
       "46 16.66667                          16.666667                    \n",
       "47 15.33333                          14.000000                    \n",
       "48 16.27907                          15.116279                    \n",
       "49 20.00000                          10.000000                    \n",
       "50 15.21739                          13.043478                    \n",
       "51 14.81481                          18.518519                    \n",
       "52 14.28571                          14.285714                    \n",
       "   Other_Private_Percentage Income_Dependent_Percentage Other_Option_Percentage\n",
       "1  19.354839                12.903226                     3.225806             \n",
       "2   0.000000                 0.000000                   100.000000             \n",
       "3  16.393443                14.754098                     8.196721             \n",
       "4  15.000000                12.500000                     5.000000             \n",
       "5  13.456464                12.928760                     8.443272             \n",
       "6  15.384615                13.846154                     7.692308             \n",
       "7  10.769231                15.384615                     9.230769             \n",
       "8  17.241379                10.344828                     3.448276             \n",
       "9  15.652174                 9.565217                     7.826087             \n",
       "10 14.772727                15.530303                     7.954545             \n",
       "11 18.095238                13.333333                     6.666667             \n",
       "12 17.500000                10.000000                    15.000000             \n",
       "13 16.666667                16.666667                     0.000000             \n",
       "14 16.250000                14.375000                     4.375000             \n",
       "15 16.751269                10.152284                     7.106599             \n",
       "16 18.333333                15.000000                     3.333333             \n",
       "17 11.111111                 0.000000                    22.222222             \n",
       "18  8.888889                16.666667                    11.111111             \n",
       "19 15.217391                10.869565                     3.260870             \n",
       "20  0.000000                33.333333                     0.000000             \n",
       "21 14.642857                14.642857                     2.857143             \n",
       "22 16.666667                13.333333                    10.000000             \n",
       "23 15.625000                15.104167                     2.604167             \n",
       "24 16.867470                15.662651                     2.409639             \n",
       "25 15.000000                15.000000                    10.000000             \n",
       "26 15.686275                16.666667                     4.901961             \n",
       "27 14.285714                14.285714                    14.285714             \n",
       "28 14.285714                 9.523810                    23.809524             \n",
       "29 17.391304                13.043478                    13.043478             \n",
       "30 16.666667                16.666667                     0.000000             \n",
       "31 13.888889                10.555556                    12.777778             \n",
       "32 15.789474                15.789474                     0.000000             \n",
       "33 15.887850                12.461059                     3.738318             \n",
       "34 16.107383                16.107383                     6.040268             \n",
       "35 17.333333                14.666667                     1.333333             \n",
       "36 20.000000                 0.000000                     0.000000             \n",
       "37 11.538462                15.384615                    15.384615             \n",
       "38 16.225166                12.582781                     6.291391             \n",
       "39 17.241379                10.344828                     0.000000             \n",
       "40 15.789474                21.052632                     5.263158             \n",
       "41 15.384615                13.846154                     1.538462             \n",
       "42 12.857143                14.285714                     5.714286             \n",
       "43 16.666667                15.104167                    10.416667             \n",
       "44 14.285714                 0.000000                    28.571429             \n",
       "45 12.500000                 0.000000                    12.500000             \n",
       "46  8.333333                 8.333333                    16.666667             \n",
       "47 16.000000                14.666667                     6.666667             \n",
       "48 13.953488                 9.302326                    13.953488             \n",
       "49  5.000000                25.000000                    10.000000             \n",
       "50 15.217391                19.565217                     2.173913             \n",
       "51 18.518519                18.518519                     3.703704             \n",
       "52 14.285714                14.285714                    14.285714             "
      ]
     },
     "metadata": {},
     "output_type": "display_data"
    }
   ],
   "source": [
    "# Calculate the percentage of each option by state\n",
    "ins_perc_by_state <- ins_counts_by_state %>%\n",
    "    group_by(Q3) %>%\n",
    "    summarize(\n",
    "    Medicaid_Percentage = (Medicaid / Total_Count) * 100,\n",
    "    Medicare_Percentage = (Medicare / Total_Count) * 100,\n",
    "    Other_Public_Insurance_Percentage = (Other_Public_Insurance / Total_Count) * 100,\n",
    "    Employer_Sponsored_Percentage = (Employer_Sponsored / Total_Count) * 100,\n",
    "    Other_Private_Percentage = (Other_Private / Total_Count) * 100,\n",
    "    Income_Dependent_Percentage = (Income_Dependent / Total_Count) * 100,\n",
    "    Other_Option_Percentage = (Other_Option / Total_Count) * 100\n",
    ")\n",
    "# Print the percentage of each option by state\n",
    "ins_perc_by_state"
   ]
  },
  {
   "cell_type": "markdown",
   "id": "15f57b44-c3f1-4f3e-b356-f178617fb414",
   "metadata": {},
   "source": [
    "## Insurance data by CDC region"
   ]
  },
  {
   "cell_type": "code",
   "execution_count": 198,
   "id": "f7a4dcbe-49cf-4bab-964b-b0b80b1299be",
   "metadata": {},
   "outputs": [],
   "source": [
    "# Create a new column \"Region\" based on the states\n",
    "final_data <- final_data %>%\n",
    "  mutate(Region = case_when(\n",
    "    Q3 %in% c(\"Connecticut\", \"Maine\", \"Massachusetts\", \"New Hampshire\", \"New Jersey\", \"New York\", \"Pennsylvania\", \"Rhode Island\", \"Vermont\") ~ \"Northeast\",\n",
    "    Q3 %in% c(\"Illinois\", \"Indiana\", \"Iowa\", \"Kansas\", \"Michigan\", \"Minnesota\", \"Missouri\", \"Nebraska\", \"North Dakota\", \"Ohio\", \"South Dakota\", \"Wisconsin\") ~ \"Midwest\",\n",
    "    Q3 %in% c(\"Alabama\", \"Arkansas\", \"Delaware\", \"District of Columbia\", \"Florida\", \"Georgia\", \"Kentucky\", \"Louisiana\", \"Maryland\", \"Mississippi\", \"North Carolina\", \"Oklahoma\", \"South Carolina\", \"Tennessee\", \"Texas\", \"Virginia\", \"West Virginia\") ~ \"South\",\n",
    "    Q3 %in% c(\"Alaska\", \"Arizona\", \"California\", \"Colorado\", \"Hawaii\", \"Idaho\", \"Montana\", \"Nevada\", \"New Mexico\", \"Oregon\", \"Utah\", \"Washington\", \"Wyoming\") ~ \"West\",\n",
    "    Q3 %in% c(\"Puerto Rico\", \"Virgin Islands\") ~ \"Territories\",\n",
    "    TRUE ~ \"Unknown\" # If the state is NA\n",
    "  ))"
   ]
  },
  {
   "cell_type": "code",
   "execution_count": 199,
   "id": "677ca06b-e4ef-427a-8998-30bf6dfc213a",
   "metadata": {},
   "outputs": [
    {
     "name": "stdout",
     "output_type": "stream",
     "text": [
      "[1] NA NA NA NA\n"
     ]
    }
   ],
   "source": [
    "# Filter rows where the Region is \"Unknown\"\n",
    "unknown_states <- filter(final_data, Region == \"Unknown\")\n",
    "\n",
    "# Print the states categorized as \"Unknown\"\n",
    "print(unknown_states$Q3)"
   ]
  },
  {
   "cell_type": "code",
   "execution_count": 200,
   "id": "a8fed84c-9b2a-49a8-ad15-ef3d6439e570",
   "metadata": {},
   "outputs": [
    {
     "data": {
      "text/html": [
       "<table class=\"dataframe\">\n",
       "<caption>A tibble: 6 × 9</caption>\n",
       "<thead>\n",
       "\t<tr><th scope=col>Region</th><th scope=col>Medicaid</th><th scope=col>Medicare</th><th scope=col>Other_Public_Insurance</th><th scope=col>Employer_Sponsored</th><th scope=col>Other_Private</th><th scope=col>Income_Dependent</th><th scope=col>Other_Option</th><th scope=col>Total_Count</th></tr>\n",
       "\t<tr><th scope=col>&lt;chr&gt;</th><th scope=col>&lt;int&gt;</th><th scope=col>&lt;int&gt;</th><th scope=col>&lt;int&gt;</th><th scope=col>&lt;int&gt;</th><th scope=col>&lt;int&gt;</th><th scope=col>&lt;int&gt;</th><th scope=col>&lt;int&gt;</th><th scope=col>&lt;dbl&gt;</th></tr>\n",
       "</thead>\n",
       "<tbody>\n",
       "\t<tr><td>Midwest    </td><td>174</td><td>151</td><td>137</td><td>152</td><td>154</td><td>133</td><td> 44</td><td> 945</td></tr>\n",
       "\t<tr><td>Northeast  </td><td>176</td><td>155</td><td>146</td><td>141</td><td>144</td><td>119</td><td> 65</td><td> 946</td></tr>\n",
       "\t<tr><td>South      </td><td>329</td><td>287</td><td>264</td><td>253</td><td>268</td><td>252</td><td>113</td><td>1766</td></tr>\n",
       "\t<tr><td>Territories</td><td>  7</td><td>  8</td><td>  7</td><td>  7</td><td>  6</td><td>  4</td><td>  2</td><td>  41</td></tr>\n",
       "\t<tr><td>Unknown    </td><td>  1</td><td>  1</td><td>  1</td><td>  1</td><td>  1</td><td>  1</td><td>  1</td><td>   7</td></tr>\n",
       "\t<tr><td>West       </td><td>138</td><td>129</td><td>108</td><td>100</td><td>109</td><td> 97</td><td> 72</td><td> 753</td></tr>\n",
       "</tbody>\n",
       "</table>\n"
      ],
      "text/latex": [
       "A tibble: 6 × 9\n",
       "\\begin{tabular}{lllllllll}\n",
       " Region & Medicaid & Medicare & Other\\_Public\\_Insurance & Employer\\_Sponsored & Other\\_Private & Income\\_Dependent & Other\\_Option & Total\\_Count\\\\\n",
       " <chr> & <int> & <int> & <int> & <int> & <int> & <int> & <int> & <dbl>\\\\\n",
       "\\hline\n",
       "\t Midwest     & 174 & 151 & 137 & 152 & 154 & 133 &  44 &  945\\\\\n",
       "\t Northeast   & 176 & 155 & 146 & 141 & 144 & 119 &  65 &  946\\\\\n",
       "\t South       & 329 & 287 & 264 & 253 & 268 & 252 & 113 & 1766\\\\\n",
       "\t Territories &   7 &   8 &   7 &   7 &   6 &   4 &   2 &   41\\\\\n",
       "\t Unknown     &   1 &   1 &   1 &   1 &   1 &   1 &   1 &    7\\\\\n",
       "\t West        & 138 & 129 & 108 & 100 & 109 &  97 &  72 &  753\\\\\n",
       "\\end{tabular}\n"
      ],
      "text/markdown": [
       "\n",
       "A tibble: 6 × 9\n",
       "\n",
       "| Region &lt;chr&gt; | Medicaid &lt;int&gt; | Medicare &lt;int&gt; | Other_Public_Insurance &lt;int&gt; | Employer_Sponsored &lt;int&gt; | Other_Private &lt;int&gt; | Income_Dependent &lt;int&gt; | Other_Option &lt;int&gt; | Total_Count &lt;dbl&gt; |\n",
       "|---|---|---|---|---|---|---|---|---|\n",
       "| Midwest     | 174 | 151 | 137 | 152 | 154 | 133 |  44 |  945 |\n",
       "| Northeast   | 176 | 155 | 146 | 141 | 144 | 119 |  65 |  946 |\n",
       "| South       | 329 | 287 | 264 | 253 | 268 | 252 | 113 | 1766 |\n",
       "| Territories |   7 |   8 |   7 |   7 |   6 |   4 |   2 |   41 |\n",
       "| Unknown     |   1 |   1 |   1 |   1 |   1 |   1 |   1 |    7 |\n",
       "| West        | 138 | 129 | 108 | 100 | 109 |  97 |  72 |  753 |\n",
       "\n"
      ],
      "text/plain": [
       "  Region      Medicaid Medicare Other_Public_Insurance Employer_Sponsored\n",
       "1 Midwest     174      151      137                    152               \n",
       "2 Northeast   176      155      146                    141               \n",
       "3 South       329      287      264                    253               \n",
       "4 Territories   7        8        7                      7               \n",
       "5 Unknown       1        1        1                      1               \n",
       "6 West        138      129      108                    100               \n",
       "  Other_Private Income_Dependent Other_Option Total_Count\n",
       "1 154           133               44           945       \n",
       "2 144           119               65           946       \n",
       "3 268           252              113          1766       \n",
       "4   6             4                2            41       \n",
       "5   1             1                1             7       \n",
       "6 109            97               72           753       "
      ]
     },
     "metadata": {},
     "output_type": "display_data"
    }
   ],
   "source": [
    "# Calculate the count of each insurance option by region\n",
    "ins_counts_by_region <- final_data %>%\n",
    "  group_by(Region) %>%\n",
    "  summarise(\n",
    "    Medicaid = sum(Q7 == 1, na.rm = TRUE),\n",
    "    Medicare = sum(Q8 == 1, na.rm = TRUE),\n",
    "    Other_Public_Insurance = sum(Q9 == 1, na.rm = TRUE),\n",
    "    Employer_Sponsored = sum(Q10 == 1, na.rm = TRUE),\n",
    "    Other_Private = sum(Q11 == 1, na.rm = TRUE),\n",
    "    Income_Dependent = sum(Q12 == 1, na.rm = TRUE),\n",
    "    Other_Option = sum(Q13 == 1, na.rm = TRUE),\n",
    "    Total_Count = sum(Q7, Q8, Q9, Q10, Q11, Q12, Q13, na.rm = TRUE)\n",
    "  )\n",
    "# Print the counts of each insurance option by state and region\n",
    "ins_counts_by_region"
   ]
  },
  {
   "cell_type": "code",
   "execution_count": 201,
   "id": "20f39a2d-2c17-42c3-9c66-a425c26be8b8",
   "metadata": {},
   "outputs": [
    {
     "data": {
      "text/html": [
       "<table class=\"dataframe\">\n",
       "<caption>A tibble: 6 × 2</caption>\n",
       "<thead>\n",
       "\t<tr><th scope=col>Region</th><th scope=col>Total_Count</th></tr>\n",
       "\t<tr><th scope=col>&lt;chr&gt;</th><th scope=col>&lt;dbl&gt;</th></tr>\n",
       "</thead>\n",
       "<tbody>\n",
       "\t<tr><td>Midwest    </td><td> 945</td></tr>\n",
       "\t<tr><td>Northeast  </td><td> 946</td></tr>\n",
       "\t<tr><td>South      </td><td>1766</td></tr>\n",
       "\t<tr><td>Territories</td><td>  41</td></tr>\n",
       "\t<tr><td>Unknown    </td><td>   7</td></tr>\n",
       "\t<tr><td>West       </td><td> 753</td></tr>\n",
       "</tbody>\n",
       "</table>\n"
      ],
      "text/latex": [
       "A tibble: 6 × 2\n",
       "\\begin{tabular}{ll}\n",
       " Region & Total\\_Count\\\\\n",
       " <chr> & <dbl>\\\\\n",
       "\\hline\n",
       "\t Midwest     &  945\\\\\n",
       "\t Northeast   &  946\\\\\n",
       "\t South       & 1766\\\\\n",
       "\t Territories &   41\\\\\n",
       "\t Unknown     &    7\\\\\n",
       "\t West        &  753\\\\\n",
       "\\end{tabular}\n"
      ],
      "text/markdown": [
       "\n",
       "A tibble: 6 × 2\n",
       "\n",
       "| Region &lt;chr&gt; | Total_Count &lt;dbl&gt; |\n",
       "|---|---|\n",
       "| Midwest     |  945 |\n",
       "| Northeast   |  946 |\n",
       "| South       | 1766 |\n",
       "| Territories |   41 |\n",
       "| Unknown     |    7 |\n",
       "| West        |  753 |\n",
       "\n"
      ],
      "text/plain": [
       "  Region      Total_Count\n",
       "1 Midwest      945       \n",
       "2 Northeast    946       \n",
       "3 South       1766       \n",
       "4 Territories   41       \n",
       "5 Unknown        7       \n",
       "6 West         753       "
      ]
     },
     "metadata": {},
     "output_type": "display_data"
    }
   ],
   "source": [
    "# Calculate the total count across all types of insurance for each region\n",
    "total_ins_counts_by_region <- final_data %>%\n",
    "  group_by(Region) %>%\n",
    "  summarise(\n",
    "    Total_Count = sum(Q7, Q8, Q9, Q10, Q11, Q12, Q13, na.rm = TRUE)\n",
    "  )\n",
    "# Print the total counts across all types of insurance for each region\n",
    "total_ins_counts_by_region"
   ]
  },
  {
   "cell_type": "code",
   "execution_count": 202,
   "id": "440df2e0-34ff-45ac-9bf2-c890dcc43586",
   "metadata": {},
   "outputs": [
    {
     "data": {
      "text/html": [
       "<table class=\"dataframe\">\n",
       "<caption>A tibble: 6 × 8</caption>\n",
       "<thead>\n",
       "\t<tr><th scope=col>Region</th><th scope=col>Medicaid_Percentage</th><th scope=col>Medicare_Percentage</th><th scope=col>Other_Public_Insurance_Percentage</th><th scope=col>Employer_Sponsored_Percentage</th><th scope=col>Other_Private_Percentage</th><th scope=col>Income_Dependent_Percentage</th><th scope=col>Other_Option_Percentage</th></tr>\n",
       "\t<tr><th scope=col>&lt;chr&gt;</th><th scope=col>&lt;dbl&gt;</th><th scope=col>&lt;dbl&gt;</th><th scope=col>&lt;dbl&gt;</th><th scope=col>&lt;dbl&gt;</th><th scope=col>&lt;dbl&gt;</th><th scope=col>&lt;dbl&gt;</th><th scope=col>&lt;dbl&gt;</th></tr>\n",
       "</thead>\n",
       "<tbody>\n",
       "\t<tr><td>Midwest    </td><td>18.41270</td><td>15.97884</td><td>14.49735</td><td>16.08466</td><td>16.29630</td><td>14.074074</td><td> 4.656085</td></tr>\n",
       "\t<tr><td>Northeast  </td><td>18.60465</td><td>16.38478</td><td>15.43340</td><td>14.90486</td><td>15.22199</td><td>12.579281</td><td> 6.871036</td></tr>\n",
       "\t<tr><td>South      </td><td>18.62967</td><td>16.25142</td><td>14.94904</td><td>14.32616</td><td>15.17554</td><td>14.269536</td><td> 6.398641</td></tr>\n",
       "\t<tr><td>Territories</td><td>17.07317</td><td>19.51220</td><td>17.07317</td><td>17.07317</td><td>14.63415</td><td> 9.756098</td><td> 4.878049</td></tr>\n",
       "\t<tr><td>Unknown    </td><td>14.28571</td><td>14.28571</td><td>14.28571</td><td>14.28571</td><td>14.28571</td><td>14.285714</td><td>14.285714</td></tr>\n",
       "\t<tr><td>West       </td><td>18.32669</td><td>17.13147</td><td>14.34263</td><td>13.28021</td><td>14.47543</td><td>12.881806</td><td> 9.561753</td></tr>\n",
       "</tbody>\n",
       "</table>\n"
      ],
      "text/latex": [
       "A tibble: 6 × 8\n",
       "\\begin{tabular}{llllllll}\n",
       " Region & Medicaid\\_Percentage & Medicare\\_Percentage & Other\\_Public\\_Insurance\\_Percentage & Employer\\_Sponsored\\_Percentage & Other\\_Private\\_Percentage & Income\\_Dependent\\_Percentage & Other\\_Option\\_Percentage\\\\\n",
       " <chr> & <dbl> & <dbl> & <dbl> & <dbl> & <dbl> & <dbl> & <dbl>\\\\\n",
       "\\hline\n",
       "\t Midwest     & 18.41270 & 15.97884 & 14.49735 & 16.08466 & 16.29630 & 14.074074 &  4.656085\\\\\n",
       "\t Northeast   & 18.60465 & 16.38478 & 15.43340 & 14.90486 & 15.22199 & 12.579281 &  6.871036\\\\\n",
       "\t South       & 18.62967 & 16.25142 & 14.94904 & 14.32616 & 15.17554 & 14.269536 &  6.398641\\\\\n",
       "\t Territories & 17.07317 & 19.51220 & 17.07317 & 17.07317 & 14.63415 &  9.756098 &  4.878049\\\\\n",
       "\t Unknown     & 14.28571 & 14.28571 & 14.28571 & 14.28571 & 14.28571 & 14.285714 & 14.285714\\\\\n",
       "\t West        & 18.32669 & 17.13147 & 14.34263 & 13.28021 & 14.47543 & 12.881806 &  9.561753\\\\\n",
       "\\end{tabular}\n"
      ],
      "text/markdown": [
       "\n",
       "A tibble: 6 × 8\n",
       "\n",
       "| Region &lt;chr&gt; | Medicaid_Percentage &lt;dbl&gt; | Medicare_Percentage &lt;dbl&gt; | Other_Public_Insurance_Percentage &lt;dbl&gt; | Employer_Sponsored_Percentage &lt;dbl&gt; | Other_Private_Percentage &lt;dbl&gt; | Income_Dependent_Percentage &lt;dbl&gt; | Other_Option_Percentage &lt;dbl&gt; |\n",
       "|---|---|---|---|---|---|---|---|\n",
       "| Midwest     | 18.41270 | 15.97884 | 14.49735 | 16.08466 | 16.29630 | 14.074074 |  4.656085 |\n",
       "| Northeast   | 18.60465 | 16.38478 | 15.43340 | 14.90486 | 15.22199 | 12.579281 |  6.871036 |\n",
       "| South       | 18.62967 | 16.25142 | 14.94904 | 14.32616 | 15.17554 | 14.269536 |  6.398641 |\n",
       "| Territories | 17.07317 | 19.51220 | 17.07317 | 17.07317 | 14.63415 |  9.756098 |  4.878049 |\n",
       "| Unknown     | 14.28571 | 14.28571 | 14.28571 | 14.28571 | 14.28571 | 14.285714 | 14.285714 |\n",
       "| West        | 18.32669 | 17.13147 | 14.34263 | 13.28021 | 14.47543 | 12.881806 |  9.561753 |\n",
       "\n"
      ],
      "text/plain": [
       "  Region      Medicaid_Percentage Medicare_Percentage\n",
       "1 Midwest     18.41270            15.97884           \n",
       "2 Northeast   18.60465            16.38478           \n",
       "3 South       18.62967            16.25142           \n",
       "4 Territories 17.07317            19.51220           \n",
       "5 Unknown     14.28571            14.28571           \n",
       "6 West        18.32669            17.13147           \n",
       "  Other_Public_Insurance_Percentage Employer_Sponsored_Percentage\n",
       "1 14.49735                          16.08466                     \n",
       "2 15.43340                          14.90486                     \n",
       "3 14.94904                          14.32616                     \n",
       "4 17.07317                          17.07317                     \n",
       "5 14.28571                          14.28571                     \n",
       "6 14.34263                          13.28021                     \n",
       "  Other_Private_Percentage Income_Dependent_Percentage Other_Option_Percentage\n",
       "1 16.29630                 14.074074                    4.656085              \n",
       "2 15.22199                 12.579281                    6.871036              \n",
       "3 15.17554                 14.269536                    6.398641              \n",
       "4 14.63415                  9.756098                    4.878049              \n",
       "5 14.28571                 14.285714                   14.285714              \n",
       "6 14.47543                 12.881806                    9.561753              "
      ]
     },
     "metadata": {},
     "output_type": "display_data"
    }
   ],
   "source": [
    "# Calculate the percentage of each option by region\n",
    "ins_perc_by_region <- ins_counts_by_region %>%\n",
    "    group_by(Region) %>%\n",
    "    summarize(\n",
    "    Medicaid_Percentage = (Medicaid / Total_Count) * 100,\n",
    "    Medicare_Percentage = (Medicare / Total_Count) * 100,\n",
    "    Other_Public_Insurance_Percentage = (Other_Public_Insurance / Total_Count) * 100,\n",
    "    Employer_Sponsored_Percentage = (Employer_Sponsored / Total_Count) * 100,\n",
    "    Other_Private_Percentage = (Other_Private / Total_Count) * 100,\n",
    "    Income_Dependent_Percentage = (Income_Dependent / Total_Count) * 100,\n",
    "    Other_Option_Percentage = (Other_Option / Total_Count) * 100\n",
    "  )\n",
    "# Print the percentage of each option by state and region\n",
    "ins_perc_by_region"
   ]
  },
  {
   "cell_type": "markdown",
   "id": "f17323f7-6a3c-4a33-ad0a-5b46dc1d625e",
   "metadata": {},
   "source": [
    "## Insurance data by Medicaid Expansion states"
   ]
  },
  {
   "cell_type": "code",
   "execution_count": 203,
   "id": "96de0bf4-0866-407b-b5f2-88c090e02736",
   "metadata": {
    "tags": []
   },
   "outputs": [],
   "source": [
    "# Create a new column \"Medicaid_Expansion_Status\" based on Medicaid expansion status\n",
    "final_data <- final_data  %>%\n",
    "  mutate(Medicaid_Expansion = case_when(\n",
    "      Q3 %in% c(\"Alaska\", \"Arizona\", \"Arkansas\", \"California\", \"Colorado\", \"Connecticut\", \"Delaware\", \"District of Columbia\", \"Hawaii\", \"Illinois\", \"Idaho\", \"Indiana\", \"Iowa\", \"Kentucky\", \"Louisiana\", \"Maine\", \"Maryland\", \"Massachusetts\", \"Michigan\", \"Minnesota\", \"Missouri\", \"Montana\", \"Nebraska\", \"Nevada\", \"New Hampshire\", \"New Jersey\", \"New Mexico\", \"New York\", \"North Carolina\", \"North Dakota\", \"Ohio\", \"Oklahoma\", \"Oregon\", \"Pennsylvania\", \"Rhode Island\", \"Utah\", \"Vermont\", \"Virginia\", \"Washington\", \"West Virginia\") ~ \"Expanded\",\n",
    "      Q3 %in% c(\"Wyoming\", \"Kansas\", \"Texas\", \"Wisconsin\", \"Tennessee\", \"Mississippi\", \"Alabama\", \"Georgia\", \"South Carolina\", \"Florida\") ~ \"Not Expanded\",\n",
    "      Q3 %in% c(\"Puerto Rico\", \"Virgin Islands\") ~ \"Territories\",\n",
    "      TRUE ~ \"Unknown\" # For NA states\n",
    "  ))"
   ]
  },
  {
   "cell_type": "code",
   "execution_count": 204,
   "id": "068ff46d-5336-4760-952b-e53a5c29c837",
   "metadata": {},
   "outputs": [
    {
     "name": "stdout",
     "output_type": "stream",
     "text": [
      "[1] NA NA NA NA\n"
     ]
    }
   ],
   "source": [
    "# Filter rows where the Region is \"Unknown\"\n",
    "unknown_states <- filter(final_data, Medicaid_Expansion == \"Unknown\")\n",
    "\n",
    "# Print the states categorized as \"Unknown\"\n",
    "print(unknown_states$Q3)"
   ]
  },
  {
   "cell_type": "code",
   "execution_count": 205,
   "id": "08a5037d-7541-4868-91c4-13c016aeac64",
   "metadata": {},
   "outputs": [
    {
     "data": {
      "text/html": [
       "<table class=\"dataframe\">\n",
       "<caption>A tibble: 4 × 9</caption>\n",
       "<thead>\n",
       "\t<tr><th scope=col>Medicaid_Expansion</th><th scope=col>Medicaid</th><th scope=col>Medicare</th><th scope=col>Other_Public_Insurance</th><th scope=col>Employer_Sponsored</th><th scope=col>Other_Private</th><th scope=col>Income_Dependent</th><th scope=col>Other_Option</th><th scope=col>Total_Count</th></tr>\n",
       "\t<tr><th scope=col>&lt;chr&gt;</th><th scope=col>&lt;int&gt;</th><th scope=col>&lt;int&gt;</th><th scope=col>&lt;int&gt;</th><th scope=col>&lt;int&gt;</th><th scope=col>&lt;int&gt;</th><th scope=col>&lt;int&gt;</th><th scope=col>&lt;int&gt;</th><th scope=col>&lt;dbl&gt;</th></tr>\n",
       "</thead>\n",
       "<tbody>\n",
       "\t<tr><td>Expanded    </td><td>665</td><td>589</td><td>531</td><td>529</td><td>541</td><td>474</td><td>232</td><td>3561</td></tr>\n",
       "\t<tr><td>Not Expanded</td><td>152</td><td>133</td><td>124</td><td>117</td><td>134</td><td>127</td><td> 62</td><td> 849</td></tr>\n",
       "\t<tr><td>Territories </td><td>  7</td><td>  8</td><td>  7</td><td>  7</td><td>  6</td><td>  4</td><td>  2</td><td>  41</td></tr>\n",
       "\t<tr><td>Unknown     </td><td>  1</td><td>  1</td><td>  1</td><td>  1</td><td>  1</td><td>  1</td><td>  1</td><td>   7</td></tr>\n",
       "</tbody>\n",
       "</table>\n"
      ],
      "text/latex": [
       "A tibble: 4 × 9\n",
       "\\begin{tabular}{lllllllll}\n",
       " Medicaid\\_Expansion & Medicaid & Medicare & Other\\_Public\\_Insurance & Employer\\_Sponsored & Other\\_Private & Income\\_Dependent & Other\\_Option & Total\\_Count\\\\\n",
       " <chr> & <int> & <int> & <int> & <int> & <int> & <int> & <int> & <dbl>\\\\\n",
       "\\hline\n",
       "\t Expanded     & 665 & 589 & 531 & 529 & 541 & 474 & 232 & 3561\\\\\n",
       "\t Not Expanded & 152 & 133 & 124 & 117 & 134 & 127 &  62 &  849\\\\\n",
       "\t Territories  &   7 &   8 &   7 &   7 &   6 &   4 &   2 &   41\\\\\n",
       "\t Unknown      &   1 &   1 &   1 &   1 &   1 &   1 &   1 &    7\\\\\n",
       "\\end{tabular}\n"
      ],
      "text/markdown": [
       "\n",
       "A tibble: 4 × 9\n",
       "\n",
       "| Medicaid_Expansion &lt;chr&gt; | Medicaid &lt;int&gt; | Medicare &lt;int&gt; | Other_Public_Insurance &lt;int&gt; | Employer_Sponsored &lt;int&gt; | Other_Private &lt;int&gt; | Income_Dependent &lt;int&gt; | Other_Option &lt;int&gt; | Total_Count &lt;dbl&gt; |\n",
       "|---|---|---|---|---|---|---|---|---|\n",
       "| Expanded     | 665 | 589 | 531 | 529 | 541 | 474 | 232 | 3561 |\n",
       "| Not Expanded | 152 | 133 | 124 | 117 | 134 | 127 |  62 |  849 |\n",
       "| Territories  |   7 |   8 |   7 |   7 |   6 |   4 |   2 |   41 |\n",
       "| Unknown      |   1 |   1 |   1 |   1 |   1 |   1 |   1 |    7 |\n",
       "\n"
      ],
      "text/plain": [
       "  Medicaid_Expansion Medicaid Medicare Other_Public_Insurance\n",
       "1 Expanded           665      589      531                   \n",
       "2 Not Expanded       152      133      124                   \n",
       "3 Territories          7        8        7                   \n",
       "4 Unknown              1        1        1                   \n",
       "  Employer_Sponsored Other_Private Income_Dependent Other_Option Total_Count\n",
       "1 529                541           474              232          3561       \n",
       "2 117                134           127               62           849       \n",
       "3   7                  6             4                2            41       \n",
       "4   1                  1             1                1             7       "
      ]
     },
     "metadata": {},
     "output_type": "display_data"
    }
   ],
   "source": [
    "# Calculate the count of each insurance option by expansion status\n",
    "ins_counts_by_expansion_status<- final_data %>%\n",
    "  group_by(Medicaid_Expansion) %>%\n",
    "  summarise(\n",
    "    Medicaid = sum(Q7 == 1, na.rm = TRUE),\n",
    "    Medicare = sum(Q8 == 1, na.rm = TRUE),\n",
    "    Other_Public_Insurance = sum(Q9 == 1, na.rm = TRUE),\n",
    "    Employer_Sponsored = sum(Q10 == 1, na.rm = TRUE),\n",
    "    Other_Private = sum(Q11 == 1, na.rm = TRUE),\n",
    "    Income_Dependent = sum(Q12 == 1, na.rm = TRUE),\n",
    "    Other_Option = sum(Q13 == 1, na.rm = TRUE),\n",
    "    Total_Count = sum(Q7, Q8, Q9, Q10, Q11, Q12, Q13, na.rm = TRUE)\n",
    "  )\n",
    "# Print the counts of each insurance option by expansion status\n",
    "ins_counts_by_expansion_status"
   ]
  },
  {
   "cell_type": "code",
   "execution_count": 206,
   "id": "4a3888ee-49b5-49cf-b112-07a9b2b5d0c6",
   "metadata": {},
   "outputs": [
    {
     "data": {
      "text/html": [
       "<table class=\"dataframe\">\n",
       "<caption>A tibble: 4 × 2</caption>\n",
       "<thead>\n",
       "\t<tr><th scope=col>Medicaid_Expansion</th><th scope=col>Total_Count</th></tr>\n",
       "\t<tr><th scope=col>&lt;chr&gt;</th><th scope=col>&lt;dbl&gt;</th></tr>\n",
       "</thead>\n",
       "<tbody>\n",
       "\t<tr><td>Expanded    </td><td>3561</td></tr>\n",
       "\t<tr><td>Not Expanded</td><td> 849</td></tr>\n",
       "\t<tr><td>Territories </td><td>  41</td></tr>\n",
       "\t<tr><td>Unknown     </td><td>   7</td></tr>\n",
       "</tbody>\n",
       "</table>\n"
      ],
      "text/latex": [
       "A tibble: 4 × 2\n",
       "\\begin{tabular}{ll}\n",
       " Medicaid\\_Expansion & Total\\_Count\\\\\n",
       " <chr> & <dbl>\\\\\n",
       "\\hline\n",
       "\t Expanded     & 3561\\\\\n",
       "\t Not Expanded &  849\\\\\n",
       "\t Territories  &   41\\\\\n",
       "\t Unknown      &    7\\\\\n",
       "\\end{tabular}\n"
      ],
      "text/markdown": [
       "\n",
       "A tibble: 4 × 2\n",
       "\n",
       "| Medicaid_Expansion &lt;chr&gt; | Total_Count &lt;dbl&gt; |\n",
       "|---|---|\n",
       "| Expanded     | 3561 |\n",
       "| Not Expanded |  849 |\n",
       "| Territories  |   41 |\n",
       "| Unknown      |    7 |\n",
       "\n"
      ],
      "text/plain": [
       "  Medicaid_Expansion Total_Count\n",
       "1 Expanded           3561       \n",
       "2 Not Expanded        849       \n",
       "3 Territories          41       \n",
       "4 Unknown               7       "
      ]
     },
     "metadata": {},
     "output_type": "display_data"
    }
   ],
   "source": [
    "# Calculate the total count across all types of insurance for each expansion status\n",
    "total_ins_counts_by_expansion_status <- final_data %>%\n",
    "  group_by(Medicaid_Expansion) %>%\n",
    "  summarise(\n",
    "    Total_Count = sum(Q7, Q8, Q9, Q10, Q11, Q12, Q13, na.rm = TRUE)\n",
    "  )\n",
    "# Print the total counts across all types of insurance for each expansion status\n",
    "total_ins_counts_by_expansion_status"
   ]
  },
  {
   "cell_type": "code",
   "execution_count": 207,
   "id": "83834028-c1aa-4516-97b5-c3dc424704cb",
   "metadata": {},
   "outputs": [
    {
     "data": {
      "text/html": [
       "<table class=\"dataframe\">\n",
       "<caption>A tibble: 4 × 8</caption>\n",
       "<thead>\n",
       "\t<tr><th scope=col>Medicaid_Expansion</th><th scope=col>Medicaid_Percentage</th><th scope=col>Medicare_Percentage</th><th scope=col>Other_Public_Insurance_Percentage</th><th scope=col>Employer_Sponsored_Percentage</th><th scope=col>Other_Private_Percentage</th><th scope=col>Income_Dependent_Percentage</th><th scope=col>Other_Option_Percentage</th></tr>\n",
       "\t<tr><th scope=col>&lt;chr&gt;</th><th scope=col>&lt;dbl&gt;</th><th scope=col>&lt;dbl&gt;</th><th scope=col>&lt;dbl&gt;</th><th scope=col>&lt;dbl&gt;</th><th scope=col>&lt;dbl&gt;</th><th scope=col>&lt;dbl&gt;</th><th scope=col>&lt;dbl&gt;</th></tr>\n",
       "</thead>\n",
       "<tbody>\n",
       "\t<tr><td>Expanded    </td><td>18.67453</td><td>16.54030</td><td>14.91154</td><td>14.85538</td><td>15.19236</td><td>13.310868</td><td> 6.515024</td></tr>\n",
       "\t<tr><td>Not Expanded</td><td>17.90342</td><td>15.66549</td><td>14.60542</td><td>13.78092</td><td>15.78327</td><td>14.958775</td><td> 7.302709</td></tr>\n",
       "\t<tr><td>Territories </td><td>17.07317</td><td>19.51220</td><td>17.07317</td><td>17.07317</td><td>14.63415</td><td> 9.756098</td><td> 4.878049</td></tr>\n",
       "\t<tr><td>Unknown     </td><td>14.28571</td><td>14.28571</td><td>14.28571</td><td>14.28571</td><td>14.28571</td><td>14.285714</td><td>14.285714</td></tr>\n",
       "</tbody>\n",
       "</table>\n"
      ],
      "text/latex": [
       "A tibble: 4 × 8\n",
       "\\begin{tabular}{llllllll}\n",
       " Medicaid\\_Expansion & Medicaid\\_Percentage & Medicare\\_Percentage & Other\\_Public\\_Insurance\\_Percentage & Employer\\_Sponsored\\_Percentage & Other\\_Private\\_Percentage & Income\\_Dependent\\_Percentage & Other\\_Option\\_Percentage\\\\\n",
       " <chr> & <dbl> & <dbl> & <dbl> & <dbl> & <dbl> & <dbl> & <dbl>\\\\\n",
       "\\hline\n",
       "\t Expanded     & 18.67453 & 16.54030 & 14.91154 & 14.85538 & 15.19236 & 13.310868 &  6.515024\\\\\n",
       "\t Not Expanded & 17.90342 & 15.66549 & 14.60542 & 13.78092 & 15.78327 & 14.958775 &  7.302709\\\\\n",
       "\t Territories  & 17.07317 & 19.51220 & 17.07317 & 17.07317 & 14.63415 &  9.756098 &  4.878049\\\\\n",
       "\t Unknown      & 14.28571 & 14.28571 & 14.28571 & 14.28571 & 14.28571 & 14.285714 & 14.285714\\\\\n",
       "\\end{tabular}\n"
      ],
      "text/markdown": [
       "\n",
       "A tibble: 4 × 8\n",
       "\n",
       "| Medicaid_Expansion &lt;chr&gt; | Medicaid_Percentage &lt;dbl&gt; | Medicare_Percentage &lt;dbl&gt; | Other_Public_Insurance_Percentage &lt;dbl&gt; | Employer_Sponsored_Percentage &lt;dbl&gt; | Other_Private_Percentage &lt;dbl&gt; | Income_Dependent_Percentage &lt;dbl&gt; | Other_Option_Percentage &lt;dbl&gt; |\n",
       "|---|---|---|---|---|---|---|---|\n",
       "| Expanded     | 18.67453 | 16.54030 | 14.91154 | 14.85538 | 15.19236 | 13.310868 |  6.515024 |\n",
       "| Not Expanded | 17.90342 | 15.66549 | 14.60542 | 13.78092 | 15.78327 | 14.958775 |  7.302709 |\n",
       "| Territories  | 17.07317 | 19.51220 | 17.07317 | 17.07317 | 14.63415 |  9.756098 |  4.878049 |\n",
       "| Unknown      | 14.28571 | 14.28571 | 14.28571 | 14.28571 | 14.28571 | 14.285714 | 14.285714 |\n",
       "\n"
      ],
      "text/plain": [
       "  Medicaid_Expansion Medicaid_Percentage Medicare_Percentage\n",
       "1 Expanded           18.67453            16.54030           \n",
       "2 Not Expanded       17.90342            15.66549           \n",
       "3 Territories        17.07317            19.51220           \n",
       "4 Unknown            14.28571            14.28571           \n",
       "  Other_Public_Insurance_Percentage Employer_Sponsored_Percentage\n",
       "1 14.91154                          14.85538                     \n",
       "2 14.60542                          13.78092                     \n",
       "3 17.07317                          17.07317                     \n",
       "4 14.28571                          14.28571                     \n",
       "  Other_Private_Percentage Income_Dependent_Percentage Other_Option_Percentage\n",
       "1 15.19236                 13.310868                    6.515024              \n",
       "2 15.78327                 14.958775                    7.302709              \n",
       "3 14.63415                  9.756098                    4.878049              \n",
       "4 14.28571                 14.285714                   14.285714              "
      ]
     },
     "metadata": {},
     "output_type": "display_data"
    }
   ],
   "source": [
    "# Calculate the percentage of each option by expansion status\n",
    "ins_perc_by_expansion_status <- ins_counts_by_expansion_status %>%\n",
    "    group_by(Medicaid_Expansion) %>%\n",
    "    summarize(\n",
    "    Medicaid_Percentage = (Medicaid / Total_Count) * 100,\n",
    "    Medicare_Percentage = (Medicare / Total_Count) * 100,\n",
    "    Other_Public_Insurance_Percentage = (Other_Public_Insurance / Total_Count) * 100,\n",
    "    Employer_Sponsored_Percentage = (Employer_Sponsored / Total_Count) * 100,\n",
    "    Other_Private_Percentage = (Other_Private / Total_Count) * 100,\n",
    "    Income_Dependent_Percentage = (Income_Dependent / Total_Count) * 100,\n",
    "    Other_Option_Percentage = (Other_Option / Total_Count) * 100\n",
    "  )\n",
    "# Print the percentage of each option by state and region\n",
    "ins_perc_by_expansion_status"
   ]
  },
  {
   "cell_type": "markdown",
   "id": "4b12708d-c1cc-49e1-9e43-17e9bc52882f",
   "metadata": {},
   "source": [
    "## Insurance data by site"
   ]
  },
  {
   "cell_type": "code",
   "execution_count": 208,
   "id": "0b7cb0a0-e869-4cee-80b8-c6595bd93d40",
   "metadata": {},
   "outputs": [
    {
     "data": {
      "text/html": [
       "<table class=\"dataframe\">\n",
       "<caption>A tibble: 16 × 9</caption>\n",
       "<thead>\n",
       "\t<tr><th scope=col>Q1</th><th scope=col>Medicaid</th><th scope=col>Medicare</th><th scope=col>Other_Public_Insurance</th><th scope=col>Employer_Sponsored</th><th scope=col>Other_Private</th><th scope=col>Income_Dependent</th><th scope=col>Other_Option</th><th scope=col>Total_Count</th></tr>\n",
       "\t<tr><th scope=col>&lt;chr&gt;</th><th scope=col>&lt;int&gt;</th><th scope=col>&lt;int&gt;</th><th scope=col>&lt;int&gt;</th><th scope=col>&lt;int&gt;</th><th scope=col>&lt;int&gt;</th><th scope=col>&lt;int&gt;</th><th scope=col>&lt;int&gt;</th><th scope=col>&lt;dbl&gt;</th></tr>\n",
       "</thead>\n",
       "<tbody>\n",
       "\t<tr><td>AIDS Service Organization (ASO)              </td><td>102</td><td> 96</td><td> 82</td><td> 84</td><td> 87</td><td> 69</td><td>40</td><td>560</td></tr>\n",
       "\t<tr><td>Academic hospital/clinic setting             </td><td> 76</td><td> 68</td><td> 66</td><td> 71</td><td> 74</td><td> 45</td><td> 8</td><td>408</td></tr>\n",
       "\t<tr><td>Advocacy organization                        </td><td>  1</td><td>  0</td><td>  1</td><td>  1</td><td>  1</td><td>  0</td><td> 3</td><td>  7</td></tr>\n",
       "\t<tr><td>Community Based Organization (CBO)           </td><td> 77</td><td> 64</td><td> 52</td><td> 54</td><td> 56</td><td> 51</td><td>52</td><td>406</td></tr>\n",
       "\t<tr><td>Federally Qualified Health Center (FQHC)     </td><td>133</td><td>130</td><td>117</td><td>109</td><td>124</td><td>122</td><td>19</td><td>754</td></tr>\n",
       "\t<tr><td>Government entity (Local, State, Federal)    </td><td> 66</td><td> 57</td><td> 54</td><td> 50</td><td> 47</td><td> 48</td><td>29</td><td>351</td></tr>\n",
       "\t<tr><td>Health department (non-clinic)               </td><td> 24</td><td> 20</td><td> 20</td><td> 16</td><td> 16</td><td> 15</td><td>16</td><td>127</td></tr>\n",
       "\t<tr><td>Health department clinic/public health clinic</td><td>120</td><td>106</td><td> 93</td><td> 83</td><td> 86</td><td>101</td><td>23</td><td>612</td></tr>\n",
       "\t<tr><td>LBGTQ Health Center/Community Center         </td><td> 32</td><td> 27</td><td> 25</td><td> 22</td><td> 25</td><td> 21</td><td>16</td><td>168</td></tr>\n",
       "\t<tr><td>Non-profit organization                      </td><td>101</td><td> 83</td><td> 77</td><td> 79</td><td> 84</td><td> 77</td><td>62</td><td>563</td></tr>\n",
       "\t<tr><td>Other                                        </td><td> 14</td><td> 11</td><td> 15</td><td> 15</td><td> 13</td><td> 13</td><td>11</td><td> 92</td></tr>\n",
       "\t<tr><td>Pharmacy                                     </td><td>  6</td><td>  6</td><td>  5</td><td>  6</td><td>  6</td><td>  4</td><td> 0</td><td> 33</td></tr>\n",
       "\t<tr><td>Private hospital/clinic setting              </td><td> 35</td><td> 29</td><td> 26</td><td> 30</td><td> 28</td><td> 10</td><td> 4</td><td>162</td></tr>\n",
       "\t<tr><td>Private practice                             </td><td> 17</td><td> 16</td><td>  9</td><td> 16</td><td> 17</td><td> 14</td><td> 2</td><td> 91</td></tr>\n",
       "\t<tr><td>Substance use treatment facility             </td><td>  9</td><td>  8</td><td>  7</td><td>  7</td><td>  8</td><td>  7</td><td> 2</td><td> 48</td></tr>\n",
       "\t<tr><td>University/college                           </td><td> 12</td><td> 10</td><td> 14</td><td> 11</td><td> 10</td><td>  9</td><td>10</td><td> 76</td></tr>\n",
       "</tbody>\n",
       "</table>\n"
      ],
      "text/latex": [
       "A tibble: 16 × 9\n",
       "\\begin{tabular}{lllllllll}\n",
       " Q1 & Medicaid & Medicare & Other\\_Public\\_Insurance & Employer\\_Sponsored & Other\\_Private & Income\\_Dependent & Other\\_Option & Total\\_Count\\\\\n",
       " <chr> & <int> & <int> & <int> & <int> & <int> & <int> & <int> & <dbl>\\\\\n",
       "\\hline\n",
       "\t AIDS Service Organization (ASO)               & 102 &  96 &  82 &  84 &  87 &  69 & 40 & 560\\\\\n",
       "\t Academic hospital/clinic setting              &  76 &  68 &  66 &  71 &  74 &  45 &  8 & 408\\\\\n",
       "\t Advocacy organization                         &   1 &   0 &   1 &   1 &   1 &   0 &  3 &   7\\\\\n",
       "\t Community Based Organization (CBO)            &  77 &  64 &  52 &  54 &  56 &  51 & 52 & 406\\\\\n",
       "\t Federally Qualified Health Center (FQHC)      & 133 & 130 & 117 & 109 & 124 & 122 & 19 & 754\\\\\n",
       "\t Government entity (Local, State, Federal)     &  66 &  57 &  54 &  50 &  47 &  48 & 29 & 351\\\\\n",
       "\t Health department (non-clinic)                &  24 &  20 &  20 &  16 &  16 &  15 & 16 & 127\\\\\n",
       "\t Health department clinic/public health clinic & 120 & 106 &  93 &  83 &  86 & 101 & 23 & 612\\\\\n",
       "\t LBGTQ Health Center/Community Center          &  32 &  27 &  25 &  22 &  25 &  21 & 16 & 168\\\\\n",
       "\t Non-profit organization                       & 101 &  83 &  77 &  79 &  84 &  77 & 62 & 563\\\\\n",
       "\t Other                                         &  14 &  11 &  15 &  15 &  13 &  13 & 11 &  92\\\\\n",
       "\t Pharmacy                                      &   6 &   6 &   5 &   6 &   6 &   4 &  0 &  33\\\\\n",
       "\t Private hospital/clinic setting               &  35 &  29 &  26 &  30 &  28 &  10 &  4 & 162\\\\\n",
       "\t Private practice                              &  17 &  16 &   9 &  16 &  17 &  14 &  2 &  91\\\\\n",
       "\t Substance use treatment facility              &   9 &   8 &   7 &   7 &   8 &   7 &  2 &  48\\\\\n",
       "\t University/college                            &  12 &  10 &  14 &  11 &  10 &   9 & 10 &  76\\\\\n",
       "\\end{tabular}\n"
      ],
      "text/markdown": [
       "\n",
       "A tibble: 16 × 9\n",
       "\n",
       "| Q1 &lt;chr&gt; | Medicaid &lt;int&gt; | Medicare &lt;int&gt; | Other_Public_Insurance &lt;int&gt; | Employer_Sponsored &lt;int&gt; | Other_Private &lt;int&gt; | Income_Dependent &lt;int&gt; | Other_Option &lt;int&gt; | Total_Count &lt;dbl&gt; |\n",
       "|---|---|---|---|---|---|---|---|---|\n",
       "| AIDS Service Organization (ASO)               | 102 |  96 |  82 |  84 |  87 |  69 | 40 | 560 |\n",
       "| Academic hospital/clinic setting              |  76 |  68 |  66 |  71 |  74 |  45 |  8 | 408 |\n",
       "| Advocacy organization                         |   1 |   0 |   1 |   1 |   1 |   0 |  3 |   7 |\n",
       "| Community Based Organization (CBO)            |  77 |  64 |  52 |  54 |  56 |  51 | 52 | 406 |\n",
       "| Federally Qualified Health Center (FQHC)      | 133 | 130 | 117 | 109 | 124 | 122 | 19 | 754 |\n",
       "| Government entity (Local, State, Federal)     |  66 |  57 |  54 |  50 |  47 |  48 | 29 | 351 |\n",
       "| Health department (non-clinic)                |  24 |  20 |  20 |  16 |  16 |  15 | 16 | 127 |\n",
       "| Health department clinic/public health clinic | 120 | 106 |  93 |  83 |  86 | 101 | 23 | 612 |\n",
       "| LBGTQ Health Center/Community Center          |  32 |  27 |  25 |  22 |  25 |  21 | 16 | 168 |\n",
       "| Non-profit organization                       | 101 |  83 |  77 |  79 |  84 |  77 | 62 | 563 |\n",
       "| Other                                         |  14 |  11 |  15 |  15 |  13 |  13 | 11 |  92 |\n",
       "| Pharmacy                                      |   6 |   6 |   5 |   6 |   6 |   4 |  0 |  33 |\n",
       "| Private hospital/clinic setting               |  35 |  29 |  26 |  30 |  28 |  10 |  4 | 162 |\n",
       "| Private practice                              |  17 |  16 |   9 |  16 |  17 |  14 |  2 |  91 |\n",
       "| Substance use treatment facility              |   9 |   8 |   7 |   7 |   8 |   7 |  2 |  48 |\n",
       "| University/college                            |  12 |  10 |  14 |  11 |  10 |   9 | 10 |  76 |\n",
       "\n"
      ],
      "text/plain": [
       "   Q1                                            Medicaid Medicare\n",
       "1  AIDS Service Organization (ASO)               102       96     \n",
       "2  Academic hospital/clinic setting               76       68     \n",
       "3  Advocacy organization                           1        0     \n",
       "4  Community Based Organization (CBO)             77       64     \n",
       "5  Federally Qualified Health Center (FQHC)      133      130     \n",
       "6  Government entity (Local, State, Federal)      66       57     \n",
       "7  Health department (non-clinic)                 24       20     \n",
       "8  Health department clinic/public health clinic 120      106     \n",
       "9  LBGTQ Health Center/Community Center           32       27     \n",
       "10 Non-profit organization                       101       83     \n",
       "11 Other                                          14       11     \n",
       "12 Pharmacy                                        6        6     \n",
       "13 Private hospital/clinic setting                35       29     \n",
       "14 Private practice                               17       16     \n",
       "15 Substance use treatment facility                9        8     \n",
       "16 University/college                             12       10     \n",
       "   Other_Public_Insurance Employer_Sponsored Other_Private Income_Dependent\n",
       "1   82                     84                 87            69             \n",
       "2   66                     71                 74            45             \n",
       "3    1                      1                  1             0             \n",
       "4   52                     54                 56            51             \n",
       "5  117                    109                124           122             \n",
       "6   54                     50                 47            48             \n",
       "7   20                     16                 16            15             \n",
       "8   93                     83                 86           101             \n",
       "9   25                     22                 25            21             \n",
       "10  77                     79                 84            77             \n",
       "11  15                     15                 13            13             \n",
       "12   5                      6                  6             4             \n",
       "13  26                     30                 28            10             \n",
       "14   9                     16                 17            14             \n",
       "15   7                      7                  8             7             \n",
       "16  14                     11                 10             9             \n",
       "   Other_Option Total_Count\n",
       "1  40           560        \n",
       "2   8           408        \n",
       "3   3             7        \n",
       "4  52           406        \n",
       "5  19           754        \n",
       "6  29           351        \n",
       "7  16           127        \n",
       "8  23           612        \n",
       "9  16           168        \n",
       "10 62           563        \n",
       "11 11            92        \n",
       "12  0            33        \n",
       "13  4           162        \n",
       "14  2            91        \n",
       "15  2            48        \n",
       "16 10            76        "
      ]
     },
     "metadata": {},
     "output_type": "display_data"
    }
   ],
   "source": [
    "# Calculate the count of each insurance option by site\n",
    "ins_counts_by_site <- final_data %>%\n",
    "  group_by(Q1) %>%\n",
    "  summarise(\n",
    "    Medicaid = sum(Q7 == 1, na.rm = TRUE),\n",
    "    Medicare = sum(Q8 == 1, na.rm = TRUE),\n",
    "    Other_Public_Insurance = sum(Q9 == 1, na.rm = TRUE),\n",
    "    Employer_Sponsored = sum(Q10 == 1, na.rm = TRUE),\n",
    "    Other_Private = sum(Q11 == 1, na.rm = TRUE),\n",
    "    Income_Dependent = sum(Q12 == 1, na.rm = TRUE),\n",
    "    Other_Option = sum(Q13 == 1, na.rm = TRUE),\n",
    "    Total_Count = sum(Q7, Q8, Q9, Q10, Q11, Q12, Q13, na.rm = TRUE)\n",
    "  )\n",
    "# Print the counts of each insurance option by site\n",
    "ins_counts_by_site"
   ]
  },
  {
   "cell_type": "code",
   "execution_count": 209,
   "id": "e9f714ae-bef1-47b0-b347-486c666effff",
   "metadata": {},
   "outputs": [
    {
     "data": {
      "text/html": [
       "<table class=\"dataframe\">\n",
       "<caption>A tibble: 16 × 2</caption>\n",
       "<thead>\n",
       "\t<tr><th scope=col>Q1</th><th scope=col>Total_Count</th></tr>\n",
       "\t<tr><th scope=col>&lt;chr&gt;</th><th scope=col>&lt;dbl&gt;</th></tr>\n",
       "</thead>\n",
       "<tbody>\n",
       "\t<tr><td>AIDS Service Organization (ASO)              </td><td>560</td></tr>\n",
       "\t<tr><td>Academic hospital/clinic setting             </td><td>408</td></tr>\n",
       "\t<tr><td>Advocacy organization                        </td><td>  7</td></tr>\n",
       "\t<tr><td>Community Based Organization (CBO)           </td><td>406</td></tr>\n",
       "\t<tr><td>Federally Qualified Health Center (FQHC)     </td><td>754</td></tr>\n",
       "\t<tr><td>Government entity (Local, State, Federal)    </td><td>351</td></tr>\n",
       "\t<tr><td>Health department (non-clinic)               </td><td>127</td></tr>\n",
       "\t<tr><td>Health department clinic/public health clinic</td><td>612</td></tr>\n",
       "\t<tr><td>LBGTQ Health Center/Community Center         </td><td>168</td></tr>\n",
       "\t<tr><td>Non-profit organization                      </td><td>563</td></tr>\n",
       "\t<tr><td>Other                                        </td><td> 92</td></tr>\n",
       "\t<tr><td>Pharmacy                                     </td><td> 33</td></tr>\n",
       "\t<tr><td>Private hospital/clinic setting              </td><td>162</td></tr>\n",
       "\t<tr><td>Private practice                             </td><td> 91</td></tr>\n",
       "\t<tr><td>Substance use treatment facility             </td><td> 48</td></tr>\n",
       "\t<tr><td>University/college                           </td><td> 76</td></tr>\n",
       "</tbody>\n",
       "</table>\n"
      ],
      "text/latex": [
       "A tibble: 16 × 2\n",
       "\\begin{tabular}{ll}\n",
       " Q1 & Total\\_Count\\\\\n",
       " <chr> & <dbl>\\\\\n",
       "\\hline\n",
       "\t AIDS Service Organization (ASO)               & 560\\\\\n",
       "\t Academic hospital/clinic setting              & 408\\\\\n",
       "\t Advocacy organization                         &   7\\\\\n",
       "\t Community Based Organization (CBO)            & 406\\\\\n",
       "\t Federally Qualified Health Center (FQHC)      & 754\\\\\n",
       "\t Government entity (Local, State, Federal)     & 351\\\\\n",
       "\t Health department (non-clinic)                & 127\\\\\n",
       "\t Health department clinic/public health clinic & 612\\\\\n",
       "\t LBGTQ Health Center/Community Center          & 168\\\\\n",
       "\t Non-profit organization                       & 563\\\\\n",
       "\t Other                                         &  92\\\\\n",
       "\t Pharmacy                                      &  33\\\\\n",
       "\t Private hospital/clinic setting               & 162\\\\\n",
       "\t Private practice                              &  91\\\\\n",
       "\t Substance use treatment facility              &  48\\\\\n",
       "\t University/college                            &  76\\\\\n",
       "\\end{tabular}\n"
      ],
      "text/markdown": [
       "\n",
       "A tibble: 16 × 2\n",
       "\n",
       "| Q1 &lt;chr&gt; | Total_Count &lt;dbl&gt; |\n",
       "|---|---|\n",
       "| AIDS Service Organization (ASO)               | 560 |\n",
       "| Academic hospital/clinic setting              | 408 |\n",
       "| Advocacy organization                         |   7 |\n",
       "| Community Based Organization (CBO)            | 406 |\n",
       "| Federally Qualified Health Center (FQHC)      | 754 |\n",
       "| Government entity (Local, State, Federal)     | 351 |\n",
       "| Health department (non-clinic)                | 127 |\n",
       "| Health department clinic/public health clinic | 612 |\n",
       "| LBGTQ Health Center/Community Center          | 168 |\n",
       "| Non-profit organization                       | 563 |\n",
       "| Other                                         |  92 |\n",
       "| Pharmacy                                      |  33 |\n",
       "| Private hospital/clinic setting               | 162 |\n",
       "| Private practice                              |  91 |\n",
       "| Substance use treatment facility              |  48 |\n",
       "| University/college                            |  76 |\n",
       "\n"
      ],
      "text/plain": [
       "   Q1                                            Total_Count\n",
       "1  AIDS Service Organization (ASO)               560        \n",
       "2  Academic hospital/clinic setting              408        \n",
       "3  Advocacy organization                           7        \n",
       "4  Community Based Organization (CBO)            406        \n",
       "5  Federally Qualified Health Center (FQHC)      754        \n",
       "6  Government entity (Local, State, Federal)     351        \n",
       "7  Health department (non-clinic)                127        \n",
       "8  Health department clinic/public health clinic 612        \n",
       "9  LBGTQ Health Center/Community Center          168        \n",
       "10 Non-profit organization                       563        \n",
       "11 Other                                          92        \n",
       "12 Pharmacy                                       33        \n",
       "13 Private hospital/clinic setting               162        \n",
       "14 Private practice                               91        \n",
       "15 Substance use treatment facility               48        \n",
       "16 University/college                             76        "
      ]
     },
     "metadata": {},
     "output_type": "display_data"
    }
   ],
   "source": [
    "# Calculate the total count across all types of insurance for each site\n",
    "total_ins_counts_by_site <- final_data %>%\n",
    "  group_by(Q1) %>%\n",
    "  summarise(\n",
    "    Total_Count = sum(Q7, Q8, Q9, Q10, Q11, Q12, Q13, na.rm = TRUE)\n",
    "  )\n",
    "# Print the total counts across all types of insurance for each site\n",
    "total_ins_counts_by_site"
   ]
  },
  {
   "cell_type": "code",
   "execution_count": 210,
   "id": "4df86056-24dd-4c1c-9242-63a141360f4d",
   "metadata": {},
   "outputs": [
    {
     "data": {
      "text/html": [
       "<table class=\"dataframe\">\n",
       "<caption>A tibble: 16 × 8</caption>\n",
       "<thead>\n",
       "\t<tr><th scope=col>Q1</th><th scope=col>Medicaid_Percentage</th><th scope=col>Medicare_Percentage</th><th scope=col>Other_Public_Insurance_Percentage</th><th scope=col>Employer_Sponsored_Percentage</th><th scope=col>Other_Private_Percentage</th><th scope=col>Income_Dependent_Percentage</th><th scope=col>Other_Option_Percentage</th></tr>\n",
       "\t<tr><th scope=col>&lt;chr&gt;</th><th scope=col>&lt;dbl&gt;</th><th scope=col>&lt;dbl&gt;</th><th scope=col>&lt;dbl&gt;</th><th scope=col>&lt;dbl&gt;</th><th scope=col>&lt;dbl&gt;</th><th scope=col>&lt;dbl&gt;</th><th scope=col>&lt;dbl&gt;</th></tr>\n",
       "</thead>\n",
       "<tbody>\n",
       "\t<tr><td>AIDS Service Organization (ASO)              </td><td>18.21429</td><td>17.14286</td><td>14.64286</td><td>15.00000</td><td>15.53571</td><td>12.32143</td><td> 7.142857</td></tr>\n",
       "\t<tr><td>Academic hospital/clinic setting             </td><td>18.62745</td><td>16.66667</td><td>16.17647</td><td>17.40196</td><td>18.13725</td><td>11.02941</td><td> 1.960784</td></tr>\n",
       "\t<tr><td>Advocacy organization                        </td><td>14.28571</td><td> 0.00000</td><td>14.28571</td><td>14.28571</td><td>14.28571</td><td> 0.00000</td><td>42.857143</td></tr>\n",
       "\t<tr><td>Community Based Organization (CBO)           </td><td>18.96552</td><td>15.76355</td><td>12.80788</td><td>13.30049</td><td>13.79310</td><td>12.56158</td><td>12.807882</td></tr>\n",
       "\t<tr><td>Federally Qualified Health Center (FQHC)     </td><td>17.63926</td><td>17.24138</td><td>15.51724</td><td>14.45623</td><td>16.44562</td><td>16.18037</td><td> 2.519894</td></tr>\n",
       "\t<tr><td>Government entity (Local, State, Federal)    </td><td>18.80342</td><td>16.23932</td><td>15.38462</td><td>14.24501</td><td>13.39031</td><td>13.67521</td><td> 8.262108</td></tr>\n",
       "\t<tr><td>Health department (non-clinic)               </td><td>18.89764</td><td>15.74803</td><td>15.74803</td><td>12.59843</td><td>12.59843</td><td>11.81102</td><td>12.598425</td></tr>\n",
       "\t<tr><td>Health department clinic/public health clinic</td><td>19.60784</td><td>17.32026</td><td>15.19608</td><td>13.56209</td><td>14.05229</td><td>16.50327</td><td> 3.758170</td></tr>\n",
       "\t<tr><td>LBGTQ Health Center/Community Center         </td><td>19.04762</td><td>16.07143</td><td>14.88095</td><td>13.09524</td><td>14.88095</td><td>12.50000</td><td> 9.523810</td></tr>\n",
       "\t<tr><td>Non-profit organization                      </td><td>17.93961</td><td>14.74245</td><td>13.67673</td><td>14.03197</td><td>14.92007</td><td>13.67673</td><td>11.012433</td></tr>\n",
       "\t<tr><td>Other                                        </td><td>15.21739</td><td>11.95652</td><td>16.30435</td><td>16.30435</td><td>14.13043</td><td>14.13043</td><td>11.956522</td></tr>\n",
       "\t<tr><td>Pharmacy                                     </td><td>18.18182</td><td>18.18182</td><td>15.15152</td><td>18.18182</td><td>18.18182</td><td>12.12121</td><td> 0.000000</td></tr>\n",
       "\t<tr><td>Private hospital/clinic setting              </td><td>21.60494</td><td>17.90123</td><td>16.04938</td><td>18.51852</td><td>17.28395</td><td> 6.17284</td><td> 2.469136</td></tr>\n",
       "\t<tr><td>Private practice                             </td><td>18.68132</td><td>17.58242</td><td> 9.89011</td><td>17.58242</td><td>18.68132</td><td>15.38462</td><td> 2.197802</td></tr>\n",
       "\t<tr><td>Substance use treatment facility             </td><td>18.75000</td><td>16.66667</td><td>14.58333</td><td>14.58333</td><td>16.66667</td><td>14.58333</td><td> 4.166667</td></tr>\n",
       "\t<tr><td>University/college                           </td><td>15.78947</td><td>13.15789</td><td>18.42105</td><td>14.47368</td><td>13.15789</td><td>11.84211</td><td>13.157895</td></tr>\n",
       "</tbody>\n",
       "</table>\n"
      ],
      "text/latex": [
       "A tibble: 16 × 8\n",
       "\\begin{tabular}{llllllll}\n",
       " Q1 & Medicaid\\_Percentage & Medicare\\_Percentage & Other\\_Public\\_Insurance\\_Percentage & Employer\\_Sponsored\\_Percentage & Other\\_Private\\_Percentage & Income\\_Dependent\\_Percentage & Other\\_Option\\_Percentage\\\\\n",
       " <chr> & <dbl> & <dbl> & <dbl> & <dbl> & <dbl> & <dbl> & <dbl>\\\\\n",
       "\\hline\n",
       "\t AIDS Service Organization (ASO)               & 18.21429 & 17.14286 & 14.64286 & 15.00000 & 15.53571 & 12.32143 &  7.142857\\\\\n",
       "\t Academic hospital/clinic setting              & 18.62745 & 16.66667 & 16.17647 & 17.40196 & 18.13725 & 11.02941 &  1.960784\\\\\n",
       "\t Advocacy organization                         & 14.28571 &  0.00000 & 14.28571 & 14.28571 & 14.28571 &  0.00000 & 42.857143\\\\\n",
       "\t Community Based Organization (CBO)            & 18.96552 & 15.76355 & 12.80788 & 13.30049 & 13.79310 & 12.56158 & 12.807882\\\\\n",
       "\t Federally Qualified Health Center (FQHC)      & 17.63926 & 17.24138 & 15.51724 & 14.45623 & 16.44562 & 16.18037 &  2.519894\\\\\n",
       "\t Government entity (Local, State, Federal)     & 18.80342 & 16.23932 & 15.38462 & 14.24501 & 13.39031 & 13.67521 &  8.262108\\\\\n",
       "\t Health department (non-clinic)                & 18.89764 & 15.74803 & 15.74803 & 12.59843 & 12.59843 & 11.81102 & 12.598425\\\\\n",
       "\t Health department clinic/public health clinic & 19.60784 & 17.32026 & 15.19608 & 13.56209 & 14.05229 & 16.50327 &  3.758170\\\\\n",
       "\t LBGTQ Health Center/Community Center          & 19.04762 & 16.07143 & 14.88095 & 13.09524 & 14.88095 & 12.50000 &  9.523810\\\\\n",
       "\t Non-profit organization                       & 17.93961 & 14.74245 & 13.67673 & 14.03197 & 14.92007 & 13.67673 & 11.012433\\\\\n",
       "\t Other                                         & 15.21739 & 11.95652 & 16.30435 & 16.30435 & 14.13043 & 14.13043 & 11.956522\\\\\n",
       "\t Pharmacy                                      & 18.18182 & 18.18182 & 15.15152 & 18.18182 & 18.18182 & 12.12121 &  0.000000\\\\\n",
       "\t Private hospital/clinic setting               & 21.60494 & 17.90123 & 16.04938 & 18.51852 & 17.28395 &  6.17284 &  2.469136\\\\\n",
       "\t Private practice                              & 18.68132 & 17.58242 &  9.89011 & 17.58242 & 18.68132 & 15.38462 &  2.197802\\\\\n",
       "\t Substance use treatment facility              & 18.75000 & 16.66667 & 14.58333 & 14.58333 & 16.66667 & 14.58333 &  4.166667\\\\\n",
       "\t University/college                            & 15.78947 & 13.15789 & 18.42105 & 14.47368 & 13.15789 & 11.84211 & 13.157895\\\\\n",
       "\\end{tabular}\n"
      ],
      "text/markdown": [
       "\n",
       "A tibble: 16 × 8\n",
       "\n",
       "| Q1 &lt;chr&gt; | Medicaid_Percentage &lt;dbl&gt; | Medicare_Percentage &lt;dbl&gt; | Other_Public_Insurance_Percentage &lt;dbl&gt; | Employer_Sponsored_Percentage &lt;dbl&gt; | Other_Private_Percentage &lt;dbl&gt; | Income_Dependent_Percentage &lt;dbl&gt; | Other_Option_Percentage &lt;dbl&gt; |\n",
       "|---|---|---|---|---|---|---|---|\n",
       "| AIDS Service Organization (ASO)               | 18.21429 | 17.14286 | 14.64286 | 15.00000 | 15.53571 | 12.32143 |  7.142857 |\n",
       "| Academic hospital/clinic setting              | 18.62745 | 16.66667 | 16.17647 | 17.40196 | 18.13725 | 11.02941 |  1.960784 |\n",
       "| Advocacy organization                         | 14.28571 |  0.00000 | 14.28571 | 14.28571 | 14.28571 |  0.00000 | 42.857143 |\n",
       "| Community Based Organization (CBO)            | 18.96552 | 15.76355 | 12.80788 | 13.30049 | 13.79310 | 12.56158 | 12.807882 |\n",
       "| Federally Qualified Health Center (FQHC)      | 17.63926 | 17.24138 | 15.51724 | 14.45623 | 16.44562 | 16.18037 |  2.519894 |\n",
       "| Government entity (Local, State, Federal)     | 18.80342 | 16.23932 | 15.38462 | 14.24501 | 13.39031 | 13.67521 |  8.262108 |\n",
       "| Health department (non-clinic)                | 18.89764 | 15.74803 | 15.74803 | 12.59843 | 12.59843 | 11.81102 | 12.598425 |\n",
       "| Health department clinic/public health clinic | 19.60784 | 17.32026 | 15.19608 | 13.56209 | 14.05229 | 16.50327 |  3.758170 |\n",
       "| LBGTQ Health Center/Community Center          | 19.04762 | 16.07143 | 14.88095 | 13.09524 | 14.88095 | 12.50000 |  9.523810 |\n",
       "| Non-profit organization                       | 17.93961 | 14.74245 | 13.67673 | 14.03197 | 14.92007 | 13.67673 | 11.012433 |\n",
       "| Other                                         | 15.21739 | 11.95652 | 16.30435 | 16.30435 | 14.13043 | 14.13043 | 11.956522 |\n",
       "| Pharmacy                                      | 18.18182 | 18.18182 | 15.15152 | 18.18182 | 18.18182 | 12.12121 |  0.000000 |\n",
       "| Private hospital/clinic setting               | 21.60494 | 17.90123 | 16.04938 | 18.51852 | 17.28395 |  6.17284 |  2.469136 |\n",
       "| Private practice                              | 18.68132 | 17.58242 |  9.89011 | 17.58242 | 18.68132 | 15.38462 |  2.197802 |\n",
       "| Substance use treatment facility              | 18.75000 | 16.66667 | 14.58333 | 14.58333 | 16.66667 | 14.58333 |  4.166667 |\n",
       "| University/college                            | 15.78947 | 13.15789 | 18.42105 | 14.47368 | 13.15789 | 11.84211 | 13.157895 |\n",
       "\n"
      ],
      "text/plain": [
       "   Q1                                            Medicaid_Percentage\n",
       "1  AIDS Service Organization (ASO)               18.21429           \n",
       "2  Academic hospital/clinic setting              18.62745           \n",
       "3  Advocacy organization                         14.28571           \n",
       "4  Community Based Organization (CBO)            18.96552           \n",
       "5  Federally Qualified Health Center (FQHC)      17.63926           \n",
       "6  Government entity (Local, State, Federal)     18.80342           \n",
       "7  Health department (non-clinic)                18.89764           \n",
       "8  Health department clinic/public health clinic 19.60784           \n",
       "9  LBGTQ Health Center/Community Center          19.04762           \n",
       "10 Non-profit organization                       17.93961           \n",
       "11 Other                                         15.21739           \n",
       "12 Pharmacy                                      18.18182           \n",
       "13 Private hospital/clinic setting               21.60494           \n",
       "14 Private practice                              18.68132           \n",
       "15 Substance use treatment facility              18.75000           \n",
       "16 University/college                            15.78947           \n",
       "   Medicare_Percentage Other_Public_Insurance_Percentage\n",
       "1  17.14286            14.64286                         \n",
       "2  16.66667            16.17647                         \n",
       "3   0.00000            14.28571                         \n",
       "4  15.76355            12.80788                         \n",
       "5  17.24138            15.51724                         \n",
       "6  16.23932            15.38462                         \n",
       "7  15.74803            15.74803                         \n",
       "8  17.32026            15.19608                         \n",
       "9  16.07143            14.88095                         \n",
       "10 14.74245            13.67673                         \n",
       "11 11.95652            16.30435                         \n",
       "12 18.18182            15.15152                         \n",
       "13 17.90123            16.04938                         \n",
       "14 17.58242             9.89011                         \n",
       "15 16.66667            14.58333                         \n",
       "16 13.15789            18.42105                         \n",
       "   Employer_Sponsored_Percentage Other_Private_Percentage\n",
       "1  15.00000                      15.53571                \n",
       "2  17.40196                      18.13725                \n",
       "3  14.28571                      14.28571                \n",
       "4  13.30049                      13.79310                \n",
       "5  14.45623                      16.44562                \n",
       "6  14.24501                      13.39031                \n",
       "7  12.59843                      12.59843                \n",
       "8  13.56209                      14.05229                \n",
       "9  13.09524                      14.88095                \n",
       "10 14.03197                      14.92007                \n",
       "11 16.30435                      14.13043                \n",
       "12 18.18182                      18.18182                \n",
       "13 18.51852                      17.28395                \n",
       "14 17.58242                      18.68132                \n",
       "15 14.58333                      16.66667                \n",
       "16 14.47368                      13.15789                \n",
       "   Income_Dependent_Percentage Other_Option_Percentage\n",
       "1  12.32143                     7.142857              \n",
       "2  11.02941                     1.960784              \n",
       "3   0.00000                    42.857143              \n",
       "4  12.56158                    12.807882              \n",
       "5  16.18037                     2.519894              \n",
       "6  13.67521                     8.262108              \n",
       "7  11.81102                    12.598425              \n",
       "8  16.50327                     3.758170              \n",
       "9  12.50000                     9.523810              \n",
       "10 13.67673                    11.012433              \n",
       "11 14.13043                    11.956522              \n",
       "12 12.12121                     0.000000              \n",
       "13  6.17284                     2.469136              \n",
       "14 15.38462                     2.197802              \n",
       "15 14.58333                     4.166667              \n",
       "16 11.84211                    13.157895              "
      ]
     },
     "metadata": {},
     "output_type": "display_data"
    }
   ],
   "source": [
    "# Calculate the percentage of each option by site\n",
    "ins_perc_by_site <- ins_counts_by_site %>%\n",
    "    group_by(Q1) %>%\n",
    "    summarize(\n",
    "    Medicaid_Percentage = (Medicaid / Total_Count) * 100,\n",
    "    Medicare_Percentage = (Medicare / Total_Count) * 100,\n",
    "    Other_Public_Insurance_Percentage = (Other_Public_Insurance / Total_Count) * 100,\n",
    "    Employer_Sponsored_Percentage = (Employer_Sponsored / Total_Count) * 100,\n",
    "    Other_Private_Percentage = (Other_Private / Total_Count) * 100,\n",
    "    Income_Dependent_Percentage = (Income_Dependent / Total_Count) * 100,\n",
    "    Other_Option_Percentage = (Other_Option / Total_Count) * 100\n",
    ")\n",
    "# Print the percentage of each option by site\n",
    "ins_perc_by_site"
   ]
  },
  {
   "cell_type": "markdown",
   "id": "4a88f1cc-709a-415e-bf5f-c03923ac979f",
   "metadata": {},
   "source": [
    "# MPOX Data"
   ]
  },
  {
   "cell_type": "markdown",
   "id": "567fdb53-1a1b-4ce5-ade9-b2eaf9c89129",
   "metadata": {},
   "source": [
    "## Offering MPOX vax counts"
   ]
  },
  {
   "cell_type": "code",
   "execution_count": 211,
   "id": "b9c72b72-bb77-4b69-a973-58362dacc3fe",
   "metadata": {},
   "outputs": [
    {
     "data": {
      "text/plain": [
       "\n",
       " No Yes \n",
       "405 565 "
      ]
     },
     "metadata": {},
     "output_type": "display_data"
    }
   ],
   "source": [
    "mpox_vax_counts <- table(final_data$Q261)\n",
    "mpox_vax_counts"
   ]
  },
  {
   "cell_type": "markdown",
   "id": "aab5e627-d7fc-4f05-83cb-07a7ba72e3ba",
   "metadata": {},
   "source": [
    "## Offering MPOX vax perc"
   ]
  },
  {
   "cell_type": "code",
   "execution_count": 212,
   "id": "1a91de6d-4e54-440f-8456-249f01ff3234",
   "metadata": {},
   "outputs": [
    {
     "data": {
      "text/plain": [
       "\n",
       "      No      Yes \n",
       "41.75258 58.24742 "
      ]
     },
     "metadata": {},
     "output_type": "display_data"
    }
   ],
   "source": [
    "mpox_vax_perc <- prop.table(mpox_vax_counts)*100\n",
    "mpox_vax_perc"
   ]
  },
  {
   "cell_type": "markdown",
   "id": "5b3211a7-402f-4002-9000-4d62ad54e440",
   "metadata": {},
   "source": [
    "## MPOX vax offering by organization type counts"
   ]
  },
  {
   "cell_type": "code",
   "execution_count": 213,
   "id": "c136e78b-e218-41e3-90de-0cc2da7bc819",
   "metadata": {},
   "outputs": [
    {
     "data": {
      "text/html": [
       "<table class=\"dataframe\">\n",
       "<caption>A tibble: 16 × 3</caption>\n",
       "<thead>\n",
       "\t<tr><th scope=col>Q1</th><th scope=col>Yes</th><th scope=col>No</th></tr>\n",
       "\t<tr><th scope=col>&lt;chr&gt;</th><th scope=col>&lt;int&gt;</th><th scope=col>&lt;int&gt;</th></tr>\n",
       "</thead>\n",
       "<tbody>\n",
       "\t<tr><td>AIDS Service Organization (ASO)              </td><td> 64</td><td>51</td></tr>\n",
       "\t<tr><td>Academic hospital/clinic setting             </td><td> 48</td><td>24</td></tr>\n",
       "\t<tr><td>Advocacy organization                        </td><td>  0</td><td> 3</td></tr>\n",
       "\t<tr><td>Community Based Organization (CBO)           </td><td> 45</td><td>70</td></tr>\n",
       "\t<tr><td>Federally Qualified Health Center (FQHC)     </td><td> 77</td><td>46</td></tr>\n",
       "\t<tr><td>Government entity (Local, State, Federal)    </td><td> 68</td><td>22</td></tr>\n",
       "\t<tr><td>Health department (non-clinic)               </td><td> 31</td><td> 6</td></tr>\n",
       "\t<tr><td>Health department clinic/public health clinic</td><td>110</td><td>19</td></tr>\n",
       "\t<tr><td>LBGTQ Health Center/Community Center         </td><td> 26</td><td>18</td></tr>\n",
       "\t<tr><td>Non-profit organization                      </td><td> 54</td><td>84</td></tr>\n",
       "\t<tr><td>Other                                        </td><td>  6</td><td>13</td></tr>\n",
       "\t<tr><td>Pharmacy                                     </td><td>  1</td><td> 6</td></tr>\n",
       "\t<tr><td>Private hospital/clinic setting              </td><td> 16</td><td>13</td></tr>\n",
       "\t<tr><td>Private practice                             </td><td>  6</td><td>16</td></tr>\n",
       "\t<tr><td>Substance use treatment facility             </td><td>  3</td><td> 6</td></tr>\n",
       "\t<tr><td>University/college                           </td><td> 10</td><td> 8</td></tr>\n",
       "</tbody>\n",
       "</table>\n"
      ],
      "text/latex": [
       "A tibble: 16 × 3\n",
       "\\begin{tabular}{lll}\n",
       " Q1 & Yes & No\\\\\n",
       " <chr> & <int> & <int>\\\\\n",
       "\\hline\n",
       "\t AIDS Service Organization (ASO)               &  64 & 51\\\\\n",
       "\t Academic hospital/clinic setting              &  48 & 24\\\\\n",
       "\t Advocacy organization                         &   0 &  3\\\\\n",
       "\t Community Based Organization (CBO)            &  45 & 70\\\\\n",
       "\t Federally Qualified Health Center (FQHC)      &  77 & 46\\\\\n",
       "\t Government entity (Local, State, Federal)     &  68 & 22\\\\\n",
       "\t Health department (non-clinic)                &  31 &  6\\\\\n",
       "\t Health department clinic/public health clinic & 110 & 19\\\\\n",
       "\t LBGTQ Health Center/Community Center          &  26 & 18\\\\\n",
       "\t Non-profit organization                       &  54 & 84\\\\\n",
       "\t Other                                         &   6 & 13\\\\\n",
       "\t Pharmacy                                      &   1 &  6\\\\\n",
       "\t Private hospital/clinic setting               &  16 & 13\\\\\n",
       "\t Private practice                              &   6 & 16\\\\\n",
       "\t Substance use treatment facility              &   3 &  6\\\\\n",
       "\t University/college                            &  10 &  8\\\\\n",
       "\\end{tabular}\n"
      ],
      "text/markdown": [
       "\n",
       "A tibble: 16 × 3\n",
       "\n",
       "| Q1 &lt;chr&gt; | Yes &lt;int&gt; | No &lt;int&gt; |\n",
       "|---|---|---|\n",
       "| AIDS Service Organization (ASO)               |  64 | 51 |\n",
       "| Academic hospital/clinic setting              |  48 | 24 |\n",
       "| Advocacy organization                         |   0 |  3 |\n",
       "| Community Based Organization (CBO)            |  45 | 70 |\n",
       "| Federally Qualified Health Center (FQHC)      |  77 | 46 |\n",
       "| Government entity (Local, State, Federal)     |  68 | 22 |\n",
       "| Health department (non-clinic)                |  31 |  6 |\n",
       "| Health department clinic/public health clinic | 110 | 19 |\n",
       "| LBGTQ Health Center/Community Center          |  26 | 18 |\n",
       "| Non-profit organization                       |  54 | 84 |\n",
       "| Other                                         |   6 | 13 |\n",
       "| Pharmacy                                      |   1 |  6 |\n",
       "| Private hospital/clinic setting               |  16 | 13 |\n",
       "| Private practice                              |   6 | 16 |\n",
       "| Substance use treatment facility              |   3 |  6 |\n",
       "| University/college                            |  10 |  8 |\n",
       "\n"
      ],
      "text/plain": [
       "   Q1                                            Yes No\n",
       "1  AIDS Service Organization (ASO)                64 51\n",
       "2  Academic hospital/clinic setting               48 24\n",
       "3  Advocacy organization                           0  3\n",
       "4  Community Based Organization (CBO)             45 70\n",
       "5  Federally Qualified Health Center (FQHC)       77 46\n",
       "6  Government entity (Local, State, Federal)      68 22\n",
       "7  Health department (non-clinic)                 31  6\n",
       "8  Health department clinic/public health clinic 110 19\n",
       "9  LBGTQ Health Center/Community Center           26 18\n",
       "10 Non-profit organization                        54 84\n",
       "11 Other                                           6 13\n",
       "12 Pharmacy                                        1  6\n",
       "13 Private hospital/clinic setting                16 13\n",
       "14 Private practice                                6 16\n",
       "15 Substance use treatment facility                3  6\n",
       "16 University/college                             10  8"
      ]
     },
     "metadata": {},
     "output_type": "display_data"
    }
   ],
   "source": [
    "# Calculate the count of \"Yes\" and \"No\" responses by site for column \"Q261\"\n",
    "mpox_vax_counts_by_site <- final_data %>%\n",
    "  group_by(Q1) %>%\n",
    "  summarize(\n",
    "    Yes = sum(Q261 == \"Yes\", na.rm = TRUE),\n",
    "    No = sum(Q261 == \"No\", na.rm = TRUE)\n",
    "  )\n",
    "\n",
    "# Print the counts of \"Yes,\" \"No,\" and \"Unsure\" responses by site for column \"Q261\"\n",
    "mpox_vax_counts_by_site"
   ]
  },
  {
   "cell_type": "markdown",
   "id": "2ff2acbf-2b01-45f7-b95d-5f86242bb72f",
   "metadata": {},
   "source": [
    "## MPOX vax offering by organization type percentages"
   ]
  },
  {
   "cell_type": "code",
   "execution_count": 214,
   "id": "2c811ffb-dac6-4a39-97ab-2630b38e89e7",
   "metadata": {},
   "outputs": [
    {
     "data": {
      "text/html": [
       "<table class=\"dataframe\">\n",
       "<caption>A tibble: 16 × 3</caption>\n",
       "<thead>\n",
       "\t<tr><th scope=col>Q1</th><th scope=col>Yes_Percentage</th><th scope=col>No_Percentage</th></tr>\n",
       "\t<tr><th scope=col>&lt;chr&gt;</th><th scope=col>&lt;dbl&gt;</th><th scope=col>&lt;dbl&gt;</th></tr>\n",
       "</thead>\n",
       "<tbody>\n",
       "\t<tr><td>AIDS Service Organization (ASO)              </td><td>48.12030</td><td>38.34586</td></tr>\n",
       "\t<tr><td>Academic hospital/clinic setting             </td><td>60.00000</td><td>30.00000</td></tr>\n",
       "\t<tr><td>Advocacy organization                        </td><td> 0.00000</td><td>60.00000</td></tr>\n",
       "\t<tr><td>Community Based Organization (CBO)           </td><td>34.88372</td><td>54.26357</td></tr>\n",
       "\t<tr><td>Federally Qualified Health Center (FQHC)     </td><td>57.46269</td><td>34.32836</td></tr>\n",
       "\t<tr><td>Government entity (Local, State, Federal)    </td><td>64.76190</td><td>20.95238</td></tr>\n",
       "\t<tr><td>Health department (non-clinic)               </td><td>75.60976</td><td>14.63415</td></tr>\n",
       "\t<tr><td>Health department clinic/public health clinic</td><td>75.34247</td><td>13.01370</td></tr>\n",
       "\t<tr><td>LBGTQ Health Center/Community Center         </td><td>47.27273</td><td>32.72727</td></tr>\n",
       "\t<tr><td>Non-profit organization                      </td><td>33.96226</td><td>52.83019</td></tr>\n",
       "\t<tr><td>Other                                        </td><td>22.22222</td><td>48.14815</td></tr>\n",
       "\t<tr><td>Pharmacy                                     </td><td>14.28571</td><td>85.71429</td></tr>\n",
       "\t<tr><td>Private hospital/clinic setting              </td><td>44.44444</td><td>36.11111</td></tr>\n",
       "\t<tr><td>Private practice                             </td><td>25.00000</td><td>66.66667</td></tr>\n",
       "\t<tr><td>Substance use treatment facility             </td><td>27.27273</td><td>54.54545</td></tr>\n",
       "\t<tr><td>University/college                           </td><td>45.45455</td><td>36.36364</td></tr>\n",
       "</tbody>\n",
       "</table>\n"
      ],
      "text/latex": [
       "A tibble: 16 × 3\n",
       "\\begin{tabular}{lll}\n",
       " Q1 & Yes\\_Percentage & No\\_Percentage\\\\\n",
       " <chr> & <dbl> & <dbl>\\\\\n",
       "\\hline\n",
       "\t AIDS Service Organization (ASO)               & 48.12030 & 38.34586\\\\\n",
       "\t Academic hospital/clinic setting              & 60.00000 & 30.00000\\\\\n",
       "\t Advocacy organization                         &  0.00000 & 60.00000\\\\\n",
       "\t Community Based Organization (CBO)            & 34.88372 & 54.26357\\\\\n",
       "\t Federally Qualified Health Center (FQHC)      & 57.46269 & 34.32836\\\\\n",
       "\t Government entity (Local, State, Federal)     & 64.76190 & 20.95238\\\\\n",
       "\t Health department (non-clinic)                & 75.60976 & 14.63415\\\\\n",
       "\t Health department clinic/public health clinic & 75.34247 & 13.01370\\\\\n",
       "\t LBGTQ Health Center/Community Center          & 47.27273 & 32.72727\\\\\n",
       "\t Non-profit organization                       & 33.96226 & 52.83019\\\\\n",
       "\t Other                                         & 22.22222 & 48.14815\\\\\n",
       "\t Pharmacy                                      & 14.28571 & 85.71429\\\\\n",
       "\t Private hospital/clinic setting               & 44.44444 & 36.11111\\\\\n",
       "\t Private practice                              & 25.00000 & 66.66667\\\\\n",
       "\t Substance use treatment facility              & 27.27273 & 54.54545\\\\\n",
       "\t University/college                            & 45.45455 & 36.36364\\\\\n",
       "\\end{tabular}\n"
      ],
      "text/markdown": [
       "\n",
       "A tibble: 16 × 3\n",
       "\n",
       "| Q1 &lt;chr&gt; | Yes_Percentage &lt;dbl&gt; | No_Percentage &lt;dbl&gt; |\n",
       "|---|---|---|\n",
       "| AIDS Service Organization (ASO)               | 48.12030 | 38.34586 |\n",
       "| Academic hospital/clinic setting              | 60.00000 | 30.00000 |\n",
       "| Advocacy organization                         |  0.00000 | 60.00000 |\n",
       "| Community Based Organization (CBO)            | 34.88372 | 54.26357 |\n",
       "| Federally Qualified Health Center (FQHC)      | 57.46269 | 34.32836 |\n",
       "| Government entity (Local, State, Federal)     | 64.76190 | 20.95238 |\n",
       "| Health department (non-clinic)                | 75.60976 | 14.63415 |\n",
       "| Health department clinic/public health clinic | 75.34247 | 13.01370 |\n",
       "| LBGTQ Health Center/Community Center          | 47.27273 | 32.72727 |\n",
       "| Non-profit organization                       | 33.96226 | 52.83019 |\n",
       "| Other                                         | 22.22222 | 48.14815 |\n",
       "| Pharmacy                                      | 14.28571 | 85.71429 |\n",
       "| Private hospital/clinic setting               | 44.44444 | 36.11111 |\n",
       "| Private practice                              | 25.00000 | 66.66667 |\n",
       "| Substance use treatment facility              | 27.27273 | 54.54545 |\n",
       "| University/college                            | 45.45455 | 36.36364 |\n",
       "\n"
      ],
      "text/plain": [
       "   Q1                                            Yes_Percentage No_Percentage\n",
       "1  AIDS Service Organization (ASO)               48.12030       38.34586     \n",
       "2  Academic hospital/clinic setting              60.00000       30.00000     \n",
       "3  Advocacy organization                          0.00000       60.00000     \n",
       "4  Community Based Organization (CBO)            34.88372       54.26357     \n",
       "5  Federally Qualified Health Center (FQHC)      57.46269       34.32836     \n",
       "6  Government entity (Local, State, Federal)     64.76190       20.95238     \n",
       "7  Health department (non-clinic)                75.60976       14.63415     \n",
       "8  Health department clinic/public health clinic 75.34247       13.01370     \n",
       "9  LBGTQ Health Center/Community Center          47.27273       32.72727     \n",
       "10 Non-profit organization                       33.96226       52.83019     \n",
       "11 Other                                         22.22222       48.14815     \n",
       "12 Pharmacy                                      14.28571       85.71429     \n",
       "13 Private hospital/clinic setting               44.44444       36.11111     \n",
       "14 Private practice                              25.00000       66.66667     \n",
       "15 Substance use treatment facility              27.27273       54.54545     \n",
       "16 University/college                            45.45455       36.36364     "
      ]
     },
     "metadata": {},
     "output_type": "display_data"
    }
   ],
   "source": [
    "# Calculate the percentage of \"Yes\" and \"No\" responses for each site (column \"Q1\")\n",
    "mpox_vax_perc_by_site <- final_data %>%\n",
    "  group_by(Q1) %>%\n",
    "  summarize(\n",
    "    Yes_Percentage = sum(Q261 == \"Yes\", na.rm = TRUE) / n() * 100,\n",
    "    No_Percentage = sum(Q261 == \"No\", na.rm = TRUE) / n() * 100\n",
    "  )\n",
    "\n",
    "# Print the percentage of \"Yes\" and \"No\" responses for each site\n",
    "mpox_vax_perc_by_site"
   ]
  },
  {
   "cell_type": "markdown",
   "id": "2784f53b-72df-4a13-9196-cc3965330e7e",
   "metadata": {},
   "source": [
    "## High MPOX vaccine uptake among LGBTQ clients/clients/patients counts"
   ]
  },
  {
   "cell_type": "code",
   "execution_count": 215,
   "id": "c67d6198-d91e-4fb5-bd2e-e4e0b5e31214",
   "metadata": {},
   "outputs": [
    {
     "data": {
      "text/plain": [
       "\n",
       "    No Unsure    Yes \n",
       "   109    157    300 "
      ]
     },
     "metadata": {},
     "output_type": "display_data"
    }
   ],
   "source": [
    "mpox_uptake_counts <- table(final_data$Q262)\n",
    "mpox_uptake_counts"
   ]
  },
  {
   "cell_type": "markdown",
   "id": "44db7040-5820-4fd9-8e9e-ff09de155ca6",
   "metadata": {},
   "source": [
    "## High MPOX vaccine uptake among LGBTQ clients/clients/patients percentages"
   ]
  },
  {
   "cell_type": "code",
   "execution_count": 216,
   "id": "2fc6c7c9-afef-4496-8e97-8bff3d798a77",
   "metadata": {},
   "outputs": [
    {
     "data": {
      "text/plain": [
       "\n",
       "      No   Unsure      Yes \n",
       "19.25795 27.73852 53.00353 "
      ]
     },
     "metadata": {},
     "output_type": "display_data"
    }
   ],
   "source": [
    "mpox_uptake_perc <- prop.table(mpox_uptake_counts)*100\n",
    "mpox_uptake_perc"
   ]
  },
  {
   "cell_type": "markdown",
   "id": "3da11d5c-98ba-4606-ba1d-70ae9f4a8f08",
   "metadata": {},
   "source": [
    "## High MPOX vaccine uptake among LGBTQ clients/clients/patients by organization type counts"
   ]
  },
  {
   "cell_type": "code",
   "execution_count": 217,
   "id": "5c9f7ac8-5fd4-4f29-afc8-4611a9b649db",
   "metadata": {},
   "outputs": [
    {
     "data": {
      "text/html": [
       "<table class=\"dataframe\">\n",
       "<caption>A tibble: 16 × 4</caption>\n",
       "<thead>\n",
       "\t<tr><th scope=col>Q1</th><th scope=col>Yes</th><th scope=col>No</th><th scope=col>Unsure</th></tr>\n",
       "\t<tr><th scope=col>&lt;chr&gt;</th><th scope=col>&lt;int&gt;</th><th scope=col>&lt;int&gt;</th><th scope=col>&lt;int&gt;</th></tr>\n",
       "</thead>\n",
       "<tbody>\n",
       "\t<tr><td>AIDS Service Organization (ASO)              </td><td>40</td><td> 8</td><td>16</td></tr>\n",
       "\t<tr><td>Academic hospital/clinic setting             </td><td>22</td><td>10</td><td>16</td></tr>\n",
       "\t<tr><td>Advocacy organization                        </td><td> 0</td><td> 0</td><td> 0</td></tr>\n",
       "\t<tr><td>Community Based Organization (CBO)           </td><td>27</td><td> 7</td><td>11</td></tr>\n",
       "\t<tr><td>Federally Qualified Health Center (FQHC)     </td><td>41</td><td>14</td><td>22</td></tr>\n",
       "\t<tr><td>Government entity (Local, State, Federal)    </td><td>31</td><td>17</td><td>20</td></tr>\n",
       "\t<tr><td>Health department (non-clinic)               </td><td>13</td><td> 8</td><td>10</td></tr>\n",
       "\t<tr><td>Health department clinic/public health clinic</td><td>57</td><td>24</td><td>29</td></tr>\n",
       "\t<tr><td>LBGTQ Health Center/Community Center         </td><td>17</td><td> 1</td><td> 9</td></tr>\n",
       "\t<tr><td>Non-profit organization                      </td><td>30</td><td>11</td><td>13</td></tr>\n",
       "\t<tr><td>Other                                        </td><td> 2</td><td> 2</td><td> 2</td></tr>\n",
       "\t<tr><td>Pharmacy                                     </td><td> 1</td><td> 0</td><td> 0</td></tr>\n",
       "\t<tr><td>Private hospital/clinic setting              </td><td> 9</td><td> 3</td><td> 4</td></tr>\n",
       "\t<tr><td>Private practice                             </td><td> 5</td><td> 1</td><td> 0</td></tr>\n",
       "\t<tr><td>Substance use treatment facility             </td><td> 1</td><td> 0</td><td> 2</td></tr>\n",
       "\t<tr><td>University/college                           </td><td> 4</td><td> 3</td><td> 3</td></tr>\n",
       "</tbody>\n",
       "</table>\n"
      ],
      "text/latex": [
       "A tibble: 16 × 4\n",
       "\\begin{tabular}{llll}\n",
       " Q1 & Yes & No & Unsure\\\\\n",
       " <chr> & <int> & <int> & <int>\\\\\n",
       "\\hline\n",
       "\t AIDS Service Organization (ASO)               & 40 &  8 & 16\\\\\n",
       "\t Academic hospital/clinic setting              & 22 & 10 & 16\\\\\n",
       "\t Advocacy organization                         &  0 &  0 &  0\\\\\n",
       "\t Community Based Organization (CBO)            & 27 &  7 & 11\\\\\n",
       "\t Federally Qualified Health Center (FQHC)      & 41 & 14 & 22\\\\\n",
       "\t Government entity (Local, State, Federal)     & 31 & 17 & 20\\\\\n",
       "\t Health department (non-clinic)                & 13 &  8 & 10\\\\\n",
       "\t Health department clinic/public health clinic & 57 & 24 & 29\\\\\n",
       "\t LBGTQ Health Center/Community Center          & 17 &  1 &  9\\\\\n",
       "\t Non-profit organization                       & 30 & 11 & 13\\\\\n",
       "\t Other                                         &  2 &  2 &  2\\\\\n",
       "\t Pharmacy                                      &  1 &  0 &  0\\\\\n",
       "\t Private hospital/clinic setting               &  9 &  3 &  4\\\\\n",
       "\t Private practice                              &  5 &  1 &  0\\\\\n",
       "\t Substance use treatment facility              &  1 &  0 &  2\\\\\n",
       "\t University/college                            &  4 &  3 &  3\\\\\n",
       "\\end{tabular}\n"
      ],
      "text/markdown": [
       "\n",
       "A tibble: 16 × 4\n",
       "\n",
       "| Q1 &lt;chr&gt; | Yes &lt;int&gt; | No &lt;int&gt; | Unsure &lt;int&gt; |\n",
       "|---|---|---|---|\n",
       "| AIDS Service Organization (ASO)               | 40 |  8 | 16 |\n",
       "| Academic hospital/clinic setting              | 22 | 10 | 16 |\n",
       "| Advocacy organization                         |  0 |  0 |  0 |\n",
       "| Community Based Organization (CBO)            | 27 |  7 | 11 |\n",
       "| Federally Qualified Health Center (FQHC)      | 41 | 14 | 22 |\n",
       "| Government entity (Local, State, Federal)     | 31 | 17 | 20 |\n",
       "| Health department (non-clinic)                | 13 |  8 | 10 |\n",
       "| Health department clinic/public health clinic | 57 | 24 | 29 |\n",
       "| LBGTQ Health Center/Community Center          | 17 |  1 |  9 |\n",
       "| Non-profit organization                       | 30 | 11 | 13 |\n",
       "| Other                                         |  2 |  2 |  2 |\n",
       "| Pharmacy                                      |  1 |  0 |  0 |\n",
       "| Private hospital/clinic setting               |  9 |  3 |  4 |\n",
       "| Private practice                              |  5 |  1 |  0 |\n",
       "| Substance use treatment facility              |  1 |  0 |  2 |\n",
       "| University/college                            |  4 |  3 |  3 |\n",
       "\n"
      ],
      "text/plain": [
       "   Q1                                            Yes No Unsure\n",
       "1  AIDS Service Organization (ASO)               40   8 16    \n",
       "2  Academic hospital/clinic setting              22  10 16    \n",
       "3  Advocacy organization                          0   0  0    \n",
       "4  Community Based Organization (CBO)            27   7 11    \n",
       "5  Federally Qualified Health Center (FQHC)      41  14 22    \n",
       "6  Government entity (Local, State, Federal)     31  17 20    \n",
       "7  Health department (non-clinic)                13   8 10    \n",
       "8  Health department clinic/public health clinic 57  24 29    \n",
       "9  LBGTQ Health Center/Community Center          17   1  9    \n",
       "10 Non-profit organization                       30  11 13    \n",
       "11 Other                                          2   2  2    \n",
       "12 Pharmacy                                       1   0  0    \n",
       "13 Private hospital/clinic setting                9   3  4    \n",
       "14 Private practice                               5   1  0    \n",
       "15 Substance use treatment facility               1   0  2    \n",
       "16 University/college                             4   3  3    "
      ]
     },
     "metadata": {},
     "output_type": "display_data"
    }
   ],
   "source": [
    "# Calculate the count of \"Yes\", \"No\", and \"Unsure\" responses by site for column \"Q262\"\n",
    "mpox_uptake_counts_by_site <- final_data %>%\n",
    "  group_by(Q1) %>%\n",
    "  summarize(\n",
    "    Yes = sum(Q262 == \"Yes\", na.rm = TRUE),\n",
    "    No = sum(Q262 == \"No\", na.rm = TRUE),\n",
    "    Unsure = sum(Q262 == \"Unsure\", na.rm = TRUE)\n",
    "  )\n",
    "\n",
    "# Print the counts of \"Yes\", \"No\", and \"Unsure\" responses by site for column \"Q262\"\n",
    "mpox_uptake_counts_by_site"
   ]
  },
  {
   "cell_type": "markdown",
   "id": "9fe4cdf9-0e7f-40e3-844b-c992645b89eb",
   "metadata": {},
   "source": [
    "## High MPOX vaccine uptake among LGBTQ clients/clients/patients by organization type percentages"
   ]
  },
  {
   "cell_type": "code",
   "execution_count": 218,
   "id": "b05e0a0d-4051-46fb-820d-6906fff45295",
   "metadata": {},
   "outputs": [
    {
     "data": {
      "text/html": [
       "<table class=\"dataframe\">\n",
       "<caption>A tibble: 16 × 4</caption>\n",
       "<thead>\n",
       "\t<tr><th scope=col>Q1</th><th scope=col>Yes_Percentage</th><th scope=col>No_Percentage</th><th scope=col>Unsure_Percentage</th></tr>\n",
       "\t<tr><th scope=col>&lt;chr&gt;</th><th scope=col>&lt;dbl&gt;</th><th scope=col>&lt;dbl&gt;</th><th scope=col>&lt;dbl&gt;</th></tr>\n",
       "</thead>\n",
       "<tbody>\n",
       "\t<tr><td>AIDS Service Organization (ASO)              </td><td>30.075188</td><td> 6.015038</td><td>12.030075</td></tr>\n",
       "\t<tr><td>Academic hospital/clinic setting             </td><td>27.500000</td><td>12.500000</td><td>20.000000</td></tr>\n",
       "\t<tr><td>Advocacy organization                        </td><td> 0.000000</td><td> 0.000000</td><td> 0.000000</td></tr>\n",
       "\t<tr><td>Community Based Organization (CBO)           </td><td>20.930233</td><td> 5.426357</td><td> 8.527132</td></tr>\n",
       "\t<tr><td>Federally Qualified Health Center (FQHC)     </td><td>30.597015</td><td>10.447761</td><td>16.417910</td></tr>\n",
       "\t<tr><td>Government entity (Local, State, Federal)    </td><td>29.523810</td><td>16.190476</td><td>19.047619</td></tr>\n",
       "\t<tr><td>Health department (non-clinic)               </td><td>31.707317</td><td>19.512195</td><td>24.390244</td></tr>\n",
       "\t<tr><td>Health department clinic/public health clinic</td><td>39.041096</td><td>16.438356</td><td>19.863014</td></tr>\n",
       "\t<tr><td>LBGTQ Health Center/Community Center         </td><td>30.909091</td><td> 1.818182</td><td>16.363636</td></tr>\n",
       "\t<tr><td>Non-profit organization                      </td><td>18.867925</td><td> 6.918239</td><td> 8.176101</td></tr>\n",
       "\t<tr><td>Other                                        </td><td> 7.407407</td><td> 7.407407</td><td> 7.407407</td></tr>\n",
       "\t<tr><td>Pharmacy                                     </td><td>14.285714</td><td> 0.000000</td><td> 0.000000</td></tr>\n",
       "\t<tr><td>Private hospital/clinic setting              </td><td>25.000000</td><td> 8.333333</td><td>11.111111</td></tr>\n",
       "\t<tr><td>Private practice                             </td><td>20.833333</td><td> 4.166667</td><td> 0.000000</td></tr>\n",
       "\t<tr><td>Substance use treatment facility             </td><td> 9.090909</td><td> 0.000000</td><td>18.181818</td></tr>\n",
       "\t<tr><td>University/college                           </td><td>18.181818</td><td>13.636364</td><td>13.636364</td></tr>\n",
       "</tbody>\n",
       "</table>\n"
      ],
      "text/latex": [
       "A tibble: 16 × 4\n",
       "\\begin{tabular}{llll}\n",
       " Q1 & Yes\\_Percentage & No\\_Percentage & Unsure\\_Percentage\\\\\n",
       " <chr> & <dbl> & <dbl> & <dbl>\\\\\n",
       "\\hline\n",
       "\t AIDS Service Organization (ASO)               & 30.075188 &  6.015038 & 12.030075\\\\\n",
       "\t Academic hospital/clinic setting              & 27.500000 & 12.500000 & 20.000000\\\\\n",
       "\t Advocacy organization                         &  0.000000 &  0.000000 &  0.000000\\\\\n",
       "\t Community Based Organization (CBO)            & 20.930233 &  5.426357 &  8.527132\\\\\n",
       "\t Federally Qualified Health Center (FQHC)      & 30.597015 & 10.447761 & 16.417910\\\\\n",
       "\t Government entity (Local, State, Federal)     & 29.523810 & 16.190476 & 19.047619\\\\\n",
       "\t Health department (non-clinic)                & 31.707317 & 19.512195 & 24.390244\\\\\n",
       "\t Health department clinic/public health clinic & 39.041096 & 16.438356 & 19.863014\\\\\n",
       "\t LBGTQ Health Center/Community Center          & 30.909091 &  1.818182 & 16.363636\\\\\n",
       "\t Non-profit organization                       & 18.867925 &  6.918239 &  8.176101\\\\\n",
       "\t Other                                         &  7.407407 &  7.407407 &  7.407407\\\\\n",
       "\t Pharmacy                                      & 14.285714 &  0.000000 &  0.000000\\\\\n",
       "\t Private hospital/clinic setting               & 25.000000 &  8.333333 & 11.111111\\\\\n",
       "\t Private practice                              & 20.833333 &  4.166667 &  0.000000\\\\\n",
       "\t Substance use treatment facility              &  9.090909 &  0.000000 & 18.181818\\\\\n",
       "\t University/college                            & 18.181818 & 13.636364 & 13.636364\\\\\n",
       "\\end{tabular}\n"
      ],
      "text/markdown": [
       "\n",
       "A tibble: 16 × 4\n",
       "\n",
       "| Q1 &lt;chr&gt; | Yes_Percentage &lt;dbl&gt; | No_Percentage &lt;dbl&gt; | Unsure_Percentage &lt;dbl&gt; |\n",
       "|---|---|---|---|\n",
       "| AIDS Service Organization (ASO)               | 30.075188 |  6.015038 | 12.030075 |\n",
       "| Academic hospital/clinic setting              | 27.500000 | 12.500000 | 20.000000 |\n",
       "| Advocacy organization                         |  0.000000 |  0.000000 |  0.000000 |\n",
       "| Community Based Organization (CBO)            | 20.930233 |  5.426357 |  8.527132 |\n",
       "| Federally Qualified Health Center (FQHC)      | 30.597015 | 10.447761 | 16.417910 |\n",
       "| Government entity (Local, State, Federal)     | 29.523810 | 16.190476 | 19.047619 |\n",
       "| Health department (non-clinic)                | 31.707317 | 19.512195 | 24.390244 |\n",
       "| Health department clinic/public health clinic | 39.041096 | 16.438356 | 19.863014 |\n",
       "| LBGTQ Health Center/Community Center          | 30.909091 |  1.818182 | 16.363636 |\n",
       "| Non-profit organization                       | 18.867925 |  6.918239 |  8.176101 |\n",
       "| Other                                         |  7.407407 |  7.407407 |  7.407407 |\n",
       "| Pharmacy                                      | 14.285714 |  0.000000 |  0.000000 |\n",
       "| Private hospital/clinic setting               | 25.000000 |  8.333333 | 11.111111 |\n",
       "| Private practice                              | 20.833333 |  4.166667 |  0.000000 |\n",
       "| Substance use treatment facility              |  9.090909 |  0.000000 | 18.181818 |\n",
       "| University/college                            | 18.181818 | 13.636364 | 13.636364 |\n",
       "\n"
      ],
      "text/plain": [
       "   Q1                                            Yes_Percentage No_Percentage\n",
       "1  AIDS Service Organization (ASO)               30.075188       6.015038    \n",
       "2  Academic hospital/clinic setting              27.500000      12.500000    \n",
       "3  Advocacy organization                          0.000000       0.000000    \n",
       "4  Community Based Organization (CBO)            20.930233       5.426357    \n",
       "5  Federally Qualified Health Center (FQHC)      30.597015      10.447761    \n",
       "6  Government entity (Local, State, Federal)     29.523810      16.190476    \n",
       "7  Health department (non-clinic)                31.707317      19.512195    \n",
       "8  Health department clinic/public health clinic 39.041096      16.438356    \n",
       "9  LBGTQ Health Center/Community Center          30.909091       1.818182    \n",
       "10 Non-profit organization                       18.867925       6.918239    \n",
       "11 Other                                          7.407407       7.407407    \n",
       "12 Pharmacy                                      14.285714       0.000000    \n",
       "13 Private hospital/clinic setting               25.000000       8.333333    \n",
       "14 Private practice                              20.833333       4.166667    \n",
       "15 Substance use treatment facility               9.090909       0.000000    \n",
       "16 University/college                            18.181818      13.636364    \n",
       "   Unsure_Percentage\n",
       "1  12.030075        \n",
       "2  20.000000        \n",
       "3   0.000000        \n",
       "4   8.527132        \n",
       "5  16.417910        \n",
       "6  19.047619        \n",
       "7  24.390244        \n",
       "8  19.863014        \n",
       "9  16.363636        \n",
       "10  8.176101        \n",
       "11  7.407407        \n",
       "12  0.000000        \n",
       "13 11.111111        \n",
       "14  0.000000        \n",
       "15 18.181818        \n",
       "16 13.636364        "
      ]
     },
     "metadata": {},
     "output_type": "display_data"
    }
   ],
   "source": [
    "# Calculate the percentage of \"Yes\", \"No\", and unsure responses for each site \n",
    "mpox_uptake_perc_by_site <- final_data %>%\n",
    "  group_by(Q1) %>%\n",
    "  summarize(\n",
    "    Yes_Percentage = sum(Q262 == \"Yes\", na.rm = TRUE) / n() * 100,\n",
    "    No_Percentage = sum(Q262 == \"No\", na.rm = TRUE) / n() * 100,\n",
    "    Unsure_Percentage = sum(Q262 == \"Unsure\", na.rm = TRUE) / n() * 100\n",
    "  )\n",
    "\n",
    "# Print the percentage of \"Yes\", \"No\", and unsure responses for each site\n",
    "mpox_uptake_perc_by_site"
   ]
  },
  {
   "cell_type": "markdown",
   "id": "c296811c-2661-4008-998f-8b869107d2f9",
   "metadata": {},
   "source": [
    "## Reason for MPOX vaccine hesitancy or refusal counts"
   ]
  },
  {
   "cell_type": "code",
   "execution_count": 219,
   "id": "8f59abdb-24be-4d80-9eda-721954e05d35",
   "metadata": {},
   "outputs": [
    {
     "data": {
      "text/plain": [
       "\n",
       "                    Concerns about vaccine pain/scarring \n",
       "                                                      34 \n",
       "                           Concerns about vaccine safety \n",
       "                                                      73 \n",
       "                              Cultural/religious reasons \n",
       "                                                       7 \n",
       "Lack of knowledge about MPOX transmission and/or vaccine \n",
       "                                                     179 \n",
       "                        Low assumption of infection risk \n",
       "                                                     128 \n",
       "                                        Medical mistrust \n",
       "                                                      73 \n",
       "                                       None of the above \n",
       "                                                      40 \n",
       "                                                   Other \n",
       "                                                      31 "
      ]
     },
     "metadata": {},
     "output_type": "display_data"
    }
   ],
   "source": [
    "mpox_hesitancy_counts <- table(final_data$Q263)\n",
    "mpox_hesitancy_counts"
   ]
  },
  {
   "cell_type": "markdown",
   "id": "1116ee24-0582-4250-958f-56141b4ab64f",
   "metadata": {},
   "source": [
    "## Reason for MPOX vaccine hesitancy or refusal percentages"
   ]
  },
  {
   "cell_type": "code",
   "execution_count": 220,
   "id": "8b4ba7ff-7b04-43a1-afc1-8d85e1af5a6a",
   "metadata": {},
   "outputs": [
    {
     "data": {
      "text/plain": [
       "\n",
       "                    Concerns about vaccine pain/scarring \n",
       "                                                6.017699 \n",
       "                           Concerns about vaccine safety \n",
       "                                               12.920354 \n",
       "                              Cultural/religious reasons \n",
       "                                                1.238938 \n",
       "Lack of knowledge about MPOX transmission and/or vaccine \n",
       "                                               31.681416 \n",
       "                        Low assumption of infection risk \n",
       "                                               22.654867 \n",
       "                                        Medical mistrust \n",
       "                                               12.920354 \n",
       "                                       None of the above \n",
       "                                                7.079646 \n",
       "                                                   Other \n",
       "                                                5.486726 "
      ]
     },
     "metadata": {},
     "output_type": "display_data"
    }
   ],
   "source": [
    "mpox_hesitancy_perc <- prop.table(mpox_hesitancy_counts)*100\n",
    "mpox_hesitancy_perc"
   ]
  },
  {
   "cell_type": "markdown",
   "id": "da0292ac-7b86-4df0-a277-105333dad7d8",
   "metadata": {},
   "source": [
    "## Contracting MPOX concerns counts"
   ]
  },
  {
   "cell_type": "code",
   "execution_count": 221,
   "id": "1f489e17-88e6-4c76-ad6c-93cfcbce18f7",
   "metadata": {},
   "outputs": [
    {
     "data": {
      "text/plain": [
       "\n",
       "    No Unsure    Yes \n",
       "   108    118    339 "
      ]
     },
     "metadata": {},
     "output_type": "display_data"
    }
   ],
   "source": [
    "mpox_concern_counts <- table(final_data$Q265)\n",
    "mpox_concern_counts"
   ]
  },
  {
   "cell_type": "markdown",
   "id": "83415265-640c-4994-a2e7-b2fb37ae9264",
   "metadata": {},
   "source": [
    "## Contracting MPOX concerns percentages"
   ]
  },
  {
   "cell_type": "code",
   "execution_count": 222,
   "id": "43ab9787-79b3-4155-8dc3-213c60316a2e",
   "metadata": {},
   "outputs": [
    {
     "data": {
      "text/plain": [
       "\n",
       "      No   Unsure      Yes \n",
       "19.11504 20.88496 60.00000 "
      ]
     },
     "metadata": {},
     "output_type": "display_data"
    }
   ],
   "source": [
    "mpox_concern_perc <- prop.table(mpox_concern_counts)*100\n",
    "mpox_concern_perc"
   ]
  },
  {
   "cell_type": "markdown",
   "id": "ba4a8ae7-487d-4877-9eed-6fff35ed2d4f",
   "metadata": {},
   "source": [
    "## Contracting MPOX concerns percentages by prescriber"
   ]
  },
  {
   "cell_type": "code",
   "execution_count": 223,
   "id": "ff784c78-fd9e-4206-8237-b1e0153b842c",
   "metadata": {},
   "outputs": [],
   "source": [
    "# Filter data to include only \"Yes\" responses \n",
    "yes_responses_data <- filter(final_data, Q70 == \"Yes\")"
   ]
  },
  {
   "cell_type": "code",
   "execution_count": 224,
   "id": "9791ce4d-1ea4-4d90-aa5f-5a71a3dd9837",
   "metadata": {},
   "outputs": [
    {
     "name": "stdout",
     "output_type": "stream",
     "text": [
      "\u001b[90m# A tibble: 1 × 3\u001b[39m\n",
      "  Yes_Percentage No_Percentage Unsure_Percentage\n",
      "           \u001b[3m\u001b[90m<dbl>\u001b[39m\u001b[23m         \u001b[3m\u001b[90m<dbl>\u001b[39m\u001b[23m             \u001b[3m\u001b[90m<dbl>\u001b[39m\u001b[23m\n",
      "\u001b[90m1\u001b[39m           43.5          9.09              5.19\n"
     ]
    }
   ],
   "source": [
    "# Calculate the percentage of \"Yes,\" \"No,\" and \"Unsure\" responses for column \"Q265\" among prescribers who responded \"Yes\" in column \"Q70\"\n",
    "percentage_concerned_by_prescribers <- yes_responses_data %>%\n",
    "  summarize(\n",
    "    Yes_Percentage = sum(Q265 == \"Yes\", na.rm = TRUE) / n() * 100,\n",
    "    No_Percentage = sum(Q265 == \"No\", na.rm = TRUE) / n() * 100,\n",
    "    Unsure_Percentage = sum(Q265 == \"Unsure\", na.rm = TRUE) / n() * 100\n",
    "  )\n",
    "# Print the percentage of \"Yes,\" \"No,\" and \"Unsure\" responses for column \"Q265\" among prescribers who responded \"Yes\" in column \"Q70\"\n",
    "print(percentage_concerned_by_prescribers)"
   ]
  },
  {
   "cell_type": "markdown",
   "id": "8869dad5-5475-40b3-939f-b90e5a780187",
   "metadata": {},
   "source": [
    "## Awareness of HealthHIV MPOX resource center counts"
   ]
  },
  {
   "cell_type": "code",
   "execution_count": 225,
   "id": "d90b6c8b-be6b-431d-84d6-3a78e14be1e8",
   "metadata": {},
   "outputs": [
    {
     "data": {
      "text/plain": [
       "\n",
       " No Yes \n",
       "356 209 "
      ]
     },
     "metadata": {},
     "output_type": "display_data"
    }
   ],
   "source": [
    "mpox_resource_counts <- table(final_data$Q266)\n",
    "mpox_resource_counts"
   ]
  },
  {
   "cell_type": "markdown",
   "id": "3a077ed6-c6b2-486b-941b-fe2854c0ad88",
   "metadata": {},
   "source": [
    "## Awareness of HealthHIV MPOX resource center counts"
   ]
  },
  {
   "cell_type": "code",
   "execution_count": 226,
   "id": "2fd4e2bf-9123-4532-ab23-0d590eda56a2",
   "metadata": {},
   "outputs": [
    {
     "data": {
      "text/plain": [
       "\n",
       "      No      Yes \n",
       "63.00885 36.99115 "
      ]
     },
     "metadata": {},
     "output_type": "display_data"
    }
   ],
   "source": [
    "mpox_resource_perc <- prop.table(mpox_resource_counts)*100\n",
    "mpox_resource_perc"
   ]
  },
  {
   "cell_type": "markdown",
   "id": "5c7b19b3-688a-4d0e-b968-afe6bbfdd209",
   "metadata": {},
   "source": [
    "# Burnout Data"
   ]
  },
  {
   "cell_type": "code",
   "execution_count": 227,
   "id": "5181b9b3-d6eb-48ba-9218-2456775ee88f",
   "metadata": {},
   "outputs": [
    {
     "data": {
      "text/plain": [
       "\n",
       " No Yes \n",
       "609 495 "
      ]
     },
     "metadata": {},
     "output_type": "display_data"
    },
    {
     "data": {
      "text/plain": [
       "\n",
       "      No      Yes \n",
       "55.16304 44.83696 "
      ]
     },
     "metadata": {},
     "output_type": "display_data"
    }
   ],
   "source": [
    "# Considered Quitting\n",
    "burnout_counts <- table(final_data$Q96)\n",
    "burnout_counts\n",
    "burnout_perc <- prop.table(burnout_counts)*100\n",
    "burnout_perc"
   ]
  },
  {
   "cell_type": "code",
   "execution_count": 228,
   "id": "425b57e3-5455-44a0-9f14-fbe6ebe8da32",
   "metadata": {},
   "outputs": [
    {
     "data": {
      "text/plain": [
       "\n",
       "       A few times a month         A few times a week \n",
       "                       258                        208 \n",
       "A few times a year or less                  Every day \n",
       "                       260                         81 \n",
       "                     Never       Once a month or less \n",
       "                        66                        138 \n",
       "               Once a week \n",
       "                        96 "
      ]
     },
     "metadata": {},
     "output_type": "display_data"
    },
    {
     "data": {
      "text/plain": [
       "\n",
       "       A few times a month         A few times a week \n",
       "                 23.306233                  18.789521 \n",
       "A few times a year or less                  Every day \n",
       "                 23.486902                   7.317073 \n",
       "                     Never       Once a month or less \n",
       "                  5.962060                  12.466125 \n",
       "               Once a week \n",
       "                  8.672087 "
      ]
     },
     "metadata": {},
     "output_type": "display_data"
    }
   ],
   "source": [
    "# Emotionally Drained\n",
    "drain_counts <- table(final_data$Q95)\n",
    "drain_counts\n",
    "drain_perc <- prop.table(drain_counts)*100\n",
    "drain_perc"
   ]
  },
  {
   "cell_type": "code",
   "execution_count": 229,
   "id": "2788434e-2b80-4dba-9504-6865c3962c92",
   "metadata": {},
   "outputs": [
    {
     "data": {
      "text/plain": [
       "                            \n",
       "                              No Yes\n",
       "  A few times a month        127 130\n",
       "  A few times a week          57 151\n",
       "  A few times a year or less 207  52\n",
       "  Every day                    8  73\n",
       "  Never                       61   5\n",
       "  Once a month or less       106  31\n",
       "  Once a week                 43  53"
      ]
     },
     "metadata": {},
     "output_type": "display_data"
    },
    {
     "data": {
      "text/plain": [
       "                            \n",
       "                                     No        Yes\n",
       "  A few times a month        11.5036232 11.7753623\n",
       "  A few times a week          5.1630435 13.6775362\n",
       "  A few times a year or less 18.7500000  4.7101449\n",
       "  Every day                   0.7246377  6.6123188\n",
       "  Never                       5.5253623  0.4528986\n",
       "  Once a month or less        9.6014493  2.8079710\n",
       "  Once a week                 3.8949275  4.8007246"
      ]
     },
     "metadata": {},
     "output_type": "display_data"
    }
   ],
   "source": [
    "#Considered Quitting and Emotionally Drained\n",
    "burnout_drain <- table(final_data$Q95, final_data$Q96)\n",
    "burnout_drain\n",
    "burn_drain_perc <- prop.table(burnout_drain)*100\n",
    "burn_drain_perc"
   ]
  },
  {
   "cell_type": "markdown",
   "id": "eb9c7088-0f46-44c6-bd98-131fe33bc9af",
   "metadata": {},
   "source": [
    "## Grouping of Clinical vs. Non-Clinical"
   ]
  },
  {
   "cell_type": "code",
   "execution_count": 230,
   "id": "9c6143ea-2cd4-41b0-bb8e-5e9c8beed3a1",
   "metadata": {},
   "outputs": [],
   "source": [
    "# Create a new variable to group clinical roles by provider groups\n",
    "final_data$prov_grps <- ifelse(final_data$Q66 %in% c('Dentist','Nurse Midwife','Nurse Practicioner','Physician Assistant'),'Prescribers/Providers',\n",
    "                               ifelse(final_data$Q66 %in% c('Mental Health Counselor','Mental Health Case Manager','Mental Health Professional','Psychologist','Licensed Clinical Social Worker'),'Mental Health Professional',\n",
    "                                      ifelse(final_data$Q66 %in% c('Licensed Practical Nurses','Nurse Manager','Registered Nurse','Medical Assistant'),'Nurses/Medical Assistants',\n",
    "                                             ifelse(final_data$Q66 %in% c('Pharmacist','Phlebotomist','Dietician/Nutrition','Physical Therapist'),'Allied Health Professionals',\n",
    "                                                    'Other'))))"
   ]
  },
  {
   "cell_type": "code",
   "execution_count": 231,
   "id": "48485055-269e-4eb1-814f-3b191de68d47",
   "metadata": {},
   "outputs": [
    {
     "data": {
      "text/plain": [
       "\n",
       "Allied Health Professionals  Mental Health Professional \n",
       "                         19                          89 \n",
       "  Nurses/Medical Assistants                       Other \n",
       "                        108                         884 \n",
       "      Prescribers/Providers \n",
       "                         14 "
      ]
     },
     "metadata": {},
     "output_type": "display_data"
    },
    {
     "data": {
      "text/plain": [
       "\n",
       "Allied Health Professionals  Mental Health Professional \n",
       "                   1.705566                    7.989228 \n",
       "  Nurses/Medical Assistants                       Other \n",
       "                   9.694794                   79.353680 \n",
       "      Prescribers/Providers \n",
       "                   1.256732 "
      ]
     },
     "metadata": {},
     "output_type": "display_data"
    }
   ],
   "source": [
    "prov_grp_counts <- table(final_data$prov_grps)\n",
    "prov_grp_counts\n",
    "prov_grp_perc <- prop.table(prov_grp_counts)*100\n",
    "prov_grp_perc"
   ]
  },
  {
   "cell_type": "code",
   "execution_count": 232,
   "id": "85920719-58ca-4a83-89da-bfe72db7dd37",
   "metadata": {},
   "outputs": [],
   "source": [
    "# Create a new variable to group non-clinical roles by provider groups\n",
    "final_data$nc_prov_grps <- ifelse(final_data$Q71 %in% c('Administrator','Finance/FiscalManager','Medical Billing'),'Administrators',\n",
    "                                  ifelse(final_data$Q71 %in% c('Harm Reductionist/Risk Reductionist','Health and Wellness Coach','Health Education Speacialist'),'Health Education and Testing',\n",
    "                                         ifelse(final_data$Q71 %in% c('Case Manager/Medical Case Manager','Non-clinical social worker','Mental Health Case Manager','Substance Abuse Counselor/Professional','Mental Health Professional'),'Case Managers/Social Workers',\n",
    "                                                ifelse(final_data$Q71 %in% c('Patient Navigator','Peer Navigator','PrEP Navigator','PrEP Navigator/Coordinator','Health Navigator','Advocate','Caregiver'),'Patient Supporters and Navigators',\n",
    "                                                       ifelse(final_data$Q71 %in% c('Program Coordinator','HIV Linkage Coordinator','HIV Retention Coordinator','Housing Coordinator','Program Director','Program Manager'),'Program Coordinators/Managers/Directors',\n",
    "                                                              ifelse(final_data$Q71 %in% c('Outreach Worker','Community Health Worker','HIV Tester','Disease Intervention Specialist'),'Outreach',\n",
    "                                                                     ifelse(final_data$Q71 %in% c('Clergy/Faith-Based Professional','Researcher','Student'),'Other Non-Clinical Professional','Other')))))))"
   ]
  },
  {
   "cell_type": "code",
   "execution_count": 233,
   "id": "a2233a73-2a90-4e77-9476-b74d5d5d3616",
   "metadata": {},
   "outputs": [
    {
     "data": {
      "text/plain": [
       "\n",
       "                         Administrators            Case Managers/Social Workers \n",
       "                                    170                                      15 \n",
       "           Health Education and Testing                                   Other \n",
       "                                     33                                     647 \n",
       "        Other Non-Clinical Professional                                Outreach \n",
       "                                     11                                     145 \n",
       "      Patient Supporters and Navigators Program Coordinators/Managers/Directors \n",
       "                                     67                                      26 "
      ]
     },
     "metadata": {},
     "output_type": "display_data"
    },
    {
     "data": {
      "text/plain": [
       "\n",
       "                         Administrators            Case Managers/Social Workers \n",
       "                             15.2603232                               1.3464991 \n",
       "           Health Education and Testing                                   Other \n",
       "                              2.9622980                              58.0789946 \n",
       "        Other Non-Clinical Professional                                Outreach \n",
       "                              0.9874327                              13.0161580 \n",
       "      Patient Supporters and Navigators Program Coordinators/Managers/Directors \n",
       "                              6.0143627                               2.3339318 "
      ]
     },
     "metadata": {},
     "output_type": "display_data"
    }
   ],
   "source": [
    "nc_prov_counts <- table(final_data$nc_prov_grps)\n",
    "nc_prov_counts\n",
    "nc_prov_perc <- prop.table(nc_prov_counts)*100\n",
    "nc_prov_perc"
   ]
  },
  {
   "cell_type": "markdown",
   "id": "8901eaab-6211-480b-9768-047878a2bcfc",
   "metadata": {},
   "source": [
    "## Cross Tabulations/Chi Square"
   ]
  },
  {
   "cell_type": "markdown",
   "id": "376c504e-3f35-4f5e-a73d-f8c4a9160d4a",
   "metadata": {},
   "source": [
    "### Considered Quitting"
   ]
  },
  {
   "cell_type": "code",
   "execution_count": 234,
   "id": "370b7fb1-f72a-480c-93ab-8d2f795c3d24",
   "metadata": {},
   "outputs": [
    {
     "name": "stdout",
     "output_type": "stream",
     "text": [
      "\n",
      " \n",
      "   Cell Contents\n",
      "|-------------------------|\n",
      "|                       N |\n",
      "| Chi-square contribution |\n",
      "|           N / Row Total |\n",
      "|           N / Col Total |\n",
      "|         N / Table Total |\n",
      "|-------------------------|\n",
      "\n",
      " \n",
      "Total Observations in Table:  1104 \n",
      "\n",
      " \n",
      "               | final_data$Q96 \n",
      "final_data$Q65 |        No |       Yes | Row Total | \n",
      "---------------|-----------|-----------|-----------|\n",
      "      Clinical |       196 |       184 |       380 | \n",
      "               |     0.885 |     1.089 |           | \n",
      "               |     0.516 |     0.484 |     0.344 | \n",
      "               |     0.322 |     0.372 |           | \n",
      "               |     0.178 |     0.167 |           | \n",
      "---------------|-----------|-----------|-----------|\n",
      "  Non-clinical |       413 |       311 |       724 | \n",
      "               |     0.464 |     0.571 |           | \n",
      "               |     0.570 |     0.430 |     0.656 | \n",
      "               |     0.678 |     0.628 |           | \n",
      "               |     0.374 |     0.282 |           | \n",
      "---------------|-----------|-----------|-----------|\n",
      "  Column Total |       609 |       495 |      1104 | \n",
      "               |     0.552 |     0.448 |           | \n",
      "---------------|-----------|-----------|-----------|\n",
      "\n",
      " \n",
      "Statistics for All Table Factors\n",
      "\n",
      "\n",
      "Pearson's Chi-squared test \n",
      "------------------------------------------------------------\n",
      "Chi^2 =  3.009463     d.f. =  1     p =  0.0827797 \n",
      "\n",
      "Pearson's Chi-squared test with Yates' continuity correction \n",
      "------------------------------------------------------------\n",
      "Chi^2 =  2.792553     d.f. =  1     p =  0.09470323 \n",
      "\n",
      " \n",
      "\n",
      " \n",
      "   Cell Contents\n",
      "|-------------------------|\n",
      "|                       N |\n",
      "| Chi-square contribution |\n",
      "|           N / Row Total |\n",
      "|           N / Col Total |\n",
      "|         N / Table Total |\n",
      "|-------------------------|\n",
      "\n",
      " \n",
      "Total Observations in Table:  1104 \n",
      "\n",
      " \n",
      "               | final_data$Q96 \n",
      "final_data$Q94 |        No |       Yes | Row Total | \n",
      "---------------|-----------|-----------|-----------|\n",
      "      <2 years |       189 |       103 |       292 | \n",
      "               |     4.841 |     5.956 |           | \n",
      "               |     0.647 |     0.353 |     0.264 | \n",
      "               |     0.310 |     0.208 |           | \n",
      "               |     0.171 |     0.093 |           | \n",
      "---------------|-----------|-----------|-----------|\n",
      "   11-20 years |        85 |        80 |       165 | \n",
      "               |     0.398 |     0.490 |           | \n",
      "               |     0.515 |     0.485 |     0.149 | \n",
      "               |     0.140 |     0.162 |           | \n",
      "               |     0.077 |     0.072 |           | \n",
      "---------------|-----------|-----------|-----------|\n",
      "     2-4 years |       111 |       125 |       236 | \n",
      "               |     2.827 |     3.478 |           | \n",
      "               |     0.470 |     0.530 |     0.214 | \n",
      "               |     0.182 |     0.253 |           | \n",
      "               |     0.101 |     0.113 |           | \n",
      "---------------|-----------|-----------|-----------|\n",
      "     21+ years |       110 |        67 |       177 | \n",
      "               |     1.565 |     1.925 |           | \n",
      "               |     0.621 |     0.379 |     0.160 | \n",
      "               |     0.181 |     0.135 |           | \n",
      "               |     0.100 |     0.061 |           | \n",
      "---------------|-----------|-----------|-----------|\n",
      "    5-10 years |       114 |       120 |       234 | \n",
      "               |     1.762 |     2.168 |           | \n",
      "               |     0.487 |     0.513 |     0.212 | \n",
      "               |     0.187 |     0.242 |           | \n",
      "               |     0.103 |     0.109 |           | \n",
      "---------------|-----------|-----------|-----------|\n",
      "  Column Total |       609 |       495 |      1104 | \n",
      "               |     0.552 |     0.448 |           | \n",
      "---------------|-----------|-----------|-----------|\n",
      "\n",
      " \n",
      "Statistics for All Table Factors\n",
      "\n",
      "\n",
      "Pearson's Chi-squared test \n",
      "------------------------------------------------------------\n",
      "Chi^2 =  25.41017     d.f. =  4     p =  4.160386e-05 \n",
      "\n",
      "\n",
      " \n"
     ]
    },
    {
     "name": "stderr",
     "output_type": "stream",
     "text": [
      "Warning message in chisq.test(t, correct = FALSE, ...):\n",
      "“Chi-squared approximation may be incorrect”\n"
     ]
    },
    {
     "name": "stdout",
     "output_type": "stream",
     "text": [
      "\n",
      " \n",
      "   Cell Contents\n",
      "|-------------------------|\n",
      "|                       N |\n",
      "| Chi-square contribution |\n",
      "|           N / Row Total |\n",
      "|           N / Col Total |\n",
      "|         N / Table Total |\n",
      "|-------------------------|\n",
      "\n",
      " \n",
      "Total Observations in Table:  1104 \n",
      "\n",
      " \n",
      "              | final_data$Q96 \n",
      "final_data$Q5 |        No |       Yes | Row Total | \n",
      "--------------|-----------|-----------|-----------|\n",
      "        Rural |       132 |        94 |       226 | \n",
      "              |     0.431 |     0.530 |           | \n",
      "              |     0.584 |     0.416 |     0.205 | \n",
      "              |     0.217 |     0.190 |           | \n",
      "              |     0.120 |     0.085 |           | \n",
      "--------------|-----------|-----------|-----------|\n",
      "     Suburban |       112 |        82 |       194 | \n",
      "              |     0.232 |     0.286 |           | \n",
      "              |     0.577 |     0.423 |     0.176 | \n",
      "              |     0.184 |     0.166 |           | \n",
      "              |     0.101 |     0.074 |           | \n",
      "--------------|-----------|-----------|-----------|\n",
      "       Tribal |         1 |         2 |         3 | \n",
      "              |     0.259 |     0.319 |           | \n",
      "              |     0.333 |     0.667 |     0.003 | \n",
      "              |     0.002 |     0.004 |           | \n",
      "              |     0.001 |     0.002 |           | \n",
      "--------------|-----------|-----------|-----------|\n",
      "        Urban |       364 |       317 |       681 | \n",
      "              |     0.362 |     0.445 |           | \n",
      "              |     0.535 |     0.465 |     0.617 | \n",
      "              |     0.598 |     0.640 |           | \n",
      "              |     0.330 |     0.287 |           | \n",
      "--------------|-----------|-----------|-----------|\n",
      " Column Total |       609 |       495 |      1104 | \n",
      "              |     0.552 |     0.448 |           | \n",
      "--------------|-----------|-----------|-----------|\n",
      "\n",
      " \n",
      "Statistics for All Table Factors\n",
      "\n",
      "\n",
      "Pearson's Chi-squared test \n",
      "------------------------------------------------------------\n",
      "Chi^2 =  2.864452     d.f. =  3     p =  0.4129995 \n",
      "\n",
      "\n",
      " \n",
      "\n",
      " \n",
      "   Cell Contents\n",
      "|-------------------------|\n",
      "|                       N |\n",
      "| Chi-square contribution |\n",
      "|           N / Row Total |\n",
      "|           N / Col Total |\n",
      "|         N / Table Total |\n",
      "|-------------------------|\n",
      "\n",
      " \n",
      "Total Observations in Table:  907 \n",
      "\n",
      " \n",
      "               | urb_rur_sub$Q96 \n",
      "urb_rur_sub$Q5 |        No |       Yes | Row Total | \n",
      "---------------|-----------|-----------|-----------|\n",
      "         Rural |       132 |        94 |       226 | \n",
      "               |     0.572 |     0.691 |           | \n",
      "               |     0.584 |     0.416 |     0.249 | \n",
      "               |     0.266 |     0.229 |           | \n",
      "               |     0.146 |     0.104 |           | \n",
      "---------------|-----------|-----------|-----------|\n",
      "         Urban |       364 |       317 |       681 | \n",
      "               |     0.190 |     0.229 |           | \n",
      "               |     0.535 |     0.465 |     0.751 | \n",
      "               |     0.734 |     0.771 |           | \n",
      "               |     0.401 |     0.350 |           | \n",
      "---------------|-----------|-----------|-----------|\n",
      "  Column Total |       496 |       411 |       907 | \n",
      "               |     0.547 |     0.453 |           | \n",
      "---------------|-----------|-----------|-----------|\n",
      "\n",
      " \n",
      "Statistics for All Table Factors\n",
      "\n",
      "\n",
      "Pearson's Chi-squared test \n",
      "------------------------------------------------------------\n",
      "Chi^2 =  1.682091     d.f. =  1     p =  0.1946468 \n",
      "\n",
      "Pearson's Chi-squared test with Yates' continuity correction \n",
      "------------------------------------------------------------\n",
      "Chi^2 =  1.488029     d.f. =  1     p =  0.2225225 \n",
      "\n",
      " \n"
     ]
    }
   ],
   "source": [
    "#Cross tabulation/chi square of Clinical vs Non-Clinical roles x considered quitting\n",
    "CrossTable(final_data$Q65, final_data$Q96, chisq = TRUE)\n",
    "\n",
    "#Cross tabulation/chi square of years in role x considered quitting\n",
    "CrossTable(final_data$Q94, final_data$Q96, chisq = TRUE)\n",
    "\n",
    "#Cross tabulation/chi square of setting x considered quitting\n",
    "CrossTable(final_data$Q5, final_data$Q96, chisq = TRUE)\n",
    "\n",
    "# Create a new subset of urban and rural responses\n",
    "excluded_set <- c('Suburban','Tribal')\n",
    "urb_rur_sub <- subset(final_data, !Q5 %in% excluded_set)\n",
    "\n",
    "#Cross tabulation of urban/rural settings x considered quitting\n",
    "CrossTable(urb_rur_sub$Q5, urb_rur_sub$Q96, chisq = TRUE)"
   ]
  },
  {
   "cell_type": "markdown",
   "id": "467d96e2-fa97-4fd4-b81b-69441e4a17e8",
   "metadata": {},
   "source": [
    "### Emotionally Drained"
   ]
  },
  {
   "cell_type": "code",
   "execution_count": 235,
   "id": "233c3039-408a-4da6-b1aa-aa36024c0b27",
   "metadata": {},
   "outputs": [
    {
     "name": "stdout",
     "output_type": "stream",
     "text": [
      "\n",
      " \n",
      "   Cell Contents\n",
      "|-------------------------|\n",
      "|                       N |\n",
      "| Chi-square contribution |\n",
      "|           N / Row Total |\n",
      "|           N / Col Total |\n",
      "|         N / Table Total |\n",
      "|-------------------------|\n",
      "\n",
      " \n",
      "Total Observations in Table:  1107 \n",
      "\n",
      " \n",
      "               | final_data$Q95 \n",
      "final_data$Q65 |        A few times a month |         A few times a week | A few times a year or less |                  Every day |                      Never |       Once a month or less |                Once a week |                  Row Total | \n",
      "---------------|----------------------------|----------------------------|----------------------------|----------------------------|----------------------------|----------------------------|----------------------------|----------------------------|\n",
      "      Clinical |                         73 |                         88 |                         93 |                         28 |                         17 |                         51 |                         30 |                        380 | \n",
      "               |                      2.735 |                      3.859 |                      0.158 |                      0.001 |                      1.412 |                      0.278 |                      0.265 |                            | \n",
      "               |                      0.192 |                      0.232 |                      0.245 |                      0.074 |                      0.045 |                      0.134 |                      0.079 |                      0.343 | \n",
      "               |                      0.283 |                      0.423 |                      0.358 |                      0.346 |                      0.258 |                      0.370 |                      0.312 |                            | \n",
      "               |                      0.066 |                      0.079 |                      0.084 |                      0.025 |                      0.015 |                      0.046 |                      0.027 |                            | \n",
      "---------------|----------------------------|----------------------------|----------------------------|----------------------------|----------------------------|----------------------------|----------------------------|----------------------------|\n",
      "  Non-clinical |                        185 |                        120 |                        167 |                         53 |                         49 |                         87 |                         66 |                        727 | \n",
      "               |                      1.430 |                      2.017 |                      0.082 |                      0.001 |                      0.738 |                      0.145 |                      0.138 |                            | \n",
      "               |                      0.254 |                      0.165 |                      0.230 |                      0.073 |                      0.067 |                      0.120 |                      0.091 |                      0.657 | \n",
      "               |                      0.717 |                      0.577 |                      0.642 |                      0.654 |                      0.742 |                      0.630 |                      0.688 |                            | \n",
      "               |                      0.167 |                      0.108 |                      0.151 |                      0.048 |                      0.044 |                      0.079 |                      0.060 |                            | \n",
      "---------------|----------------------------|----------------------------|----------------------------|----------------------------|----------------------------|----------------------------|----------------------------|----------------------------|\n",
      "  Column Total |                        258 |                        208 |                        260 |                         81 |                         66 |                        138 |                         96 |                       1107 | \n",
      "               |                      0.233 |                      0.188 |                      0.235 |                      0.073 |                      0.060 |                      0.125 |                      0.087 |                            | \n",
      "---------------|----------------------------|----------------------------|----------------------------|----------------------------|----------------------------|----------------------------|----------------------------|----------------------------|\n",
      "\n",
      " \n",
      "Statistics for All Table Factors\n",
      "\n",
      "\n",
      "Pearson's Chi-squared test \n",
      "------------------------------------------------------------\n",
      "Chi^2 =  13.25957     d.f. =  6     p =  0.03909421 \n",
      "\n",
      "\n",
      " \n",
      "\n",
      " \n",
      "   Cell Contents\n",
      "|-------------------------|\n",
      "|                       N |\n",
      "| Chi-square contribution |\n",
      "|           N / Row Total |\n",
      "|           N / Col Total |\n",
      "|         N / Table Total |\n",
      "|-------------------------|\n",
      "\n",
      " \n",
      "Total Observations in Table:  1107 \n",
      "\n",
      " \n",
      "               | final_data$Q95 \n",
      "final_data$Q94 |        A few times a month |         A few times a week | A few times a year or less |                  Every day |                      Never |       Once a month or less |                Once a week |                  Row Total | \n",
      "---------------|----------------------------|----------------------------|----------------------------|----------------------------|----------------------------|----------------------------|----------------------------|----------------------------|\n",
      "      <2 years |                         54 |                         44 |                         74 |                         21 |                         36 |                         41 |                         22 |                        292 | \n",
      "               |                      2.902 |                      2.152 |                      0.428 |                      0.006 |                     19.853 |                      0.581 |                      0.436 |                            | \n",
      "               |                      0.185 |                      0.151 |                      0.253 |                      0.072 |                      0.123 |                      0.140 |                      0.075 |                      0.264 | \n",
      "               |                      0.209 |                      0.212 |                      0.285 |                      0.259 |                      0.545 |                      0.297 |                      0.229 |                            | \n",
      "               |                      0.049 |                      0.040 |                      0.067 |                      0.019 |                      0.033 |                      0.037 |                      0.020 |                            | \n",
      "---------------|----------------------------|----------------------------|----------------------------|----------------------------|----------------------------|----------------------------|----------------------------|----------------------------|\n",
      "   11-20 years |                         41 |                         36 |                         30 |                         12 |                          9 |                         17 |                         21 |                        166 | \n",
      "               |                      0.138 |                      0.742 |                      2.072 |                      0.002 |                      0.081 |                      0.659 |                      3.030 |                            | \n",
      "               |                      0.247 |                      0.217 |                      0.181 |                      0.072 |                      0.054 |                      0.102 |                      0.127 |                      0.150 | \n",
      "               |                      0.159 |                      0.173 |                      0.115 |                      0.148 |                      0.136 |                      0.123 |                      0.219 |                            | \n",
      "               |                      0.037 |                      0.033 |                      0.027 |                      0.011 |                      0.008 |                      0.015 |                      0.019 |                            | \n",
      "---------------|----------------------------|----------------------------|----------------------------|----------------------------|----------------------------|----------------------------|----------------------------|----------------------------|\n",
      "     2-4 years |                         68 |                         41 |                         54 |                         19 |                          7 |                         20 |                         27 |                        236 | \n",
      "               |                      3.071 |                      0.252 |                      0.037 |                      0.174 |                      3.553 |                      3.016 |                      2.086 |                            | \n",
      "               |                      0.288 |                      0.174 |                      0.229 |                      0.081 |                      0.030 |                      0.085 |                      0.114 |                      0.213 | \n",
      "               |                      0.264 |                      0.197 |                      0.208 |                      0.235 |                      0.106 |                      0.145 |                      0.281 |                            | \n",
      "               |                      0.061 |                      0.037 |                      0.049 |                      0.017 |                      0.006 |                      0.018 |                      0.024 |                            | \n",
      "---------------|----------------------------|----------------------------|----------------------------|----------------------------|----------------------------|----------------------------|----------------------------|----------------------------|\n",
      "     21+ years |                         31 |                         35 |                         62 |                         10 |                          7 |                         23 |                         10 |                        178 | \n",
      "               |                      2.650 |                      0.072 |                      9.754 |                      0.702 |                      1.230 |                      0.030 |                      1.915 |                            | \n",
      "               |                      0.174 |                      0.197 |                      0.348 |                      0.056 |                      0.039 |                      0.129 |                      0.056 |                      0.161 | \n",
      "               |                      0.120 |                      0.168 |                      0.238 |                      0.123 |                      0.106 |                      0.167 |                      0.104 |                            | \n",
      "               |                      0.028 |                      0.032 |                      0.056 |                      0.009 |                      0.006 |                      0.021 |                      0.009 |                            | \n",
      "---------------|----------------------------|----------------------------|----------------------------|----------------------------|----------------------------|----------------------------|----------------------------|----------------------------|\n",
      "    5-10 years |                         64 |                         52 |                         40 |                         19 |                          7 |                         37 |                         16 |                        235 | \n",
      "               |                      1.556 |                      1.394 |                      4.183 |                      0.189 |                      3.508 |                      2.026 |                      0.941 |                            | \n",
      "               |                      0.272 |                      0.221 |                      0.170 |                      0.081 |                      0.030 |                      0.157 |                      0.068 |                      0.212 | \n",
      "               |                      0.248 |                      0.250 |                      0.154 |                      0.235 |                      0.106 |                      0.268 |                      0.167 |                            | \n",
      "               |                      0.058 |                      0.047 |                      0.036 |                      0.017 |                      0.006 |                      0.033 |                      0.014 |                            | \n",
      "---------------|----------------------------|----------------------------|----------------------------|----------------------------|----------------------------|----------------------------|----------------------------|----------------------------|\n",
      "  Column Total |                        258 |                        208 |                        260 |                         81 |                         66 |                        138 |                         96 |                       1107 | \n",
      "               |                      0.233 |                      0.188 |                      0.235 |                      0.073 |                      0.060 |                      0.125 |                      0.087 |                            | \n",
      "---------------|----------------------------|----------------------------|----------------------------|----------------------------|----------------------------|----------------------------|----------------------------|----------------------------|\n",
      "\n",
      " \n",
      "Statistics for All Table Factors\n",
      "\n",
      "\n",
      "Pearson's Chi-squared test \n",
      "------------------------------------------------------------\n",
      "Chi^2 =  75.42021     d.f. =  24     p =  3.208618e-07 \n",
      "\n",
      "\n",
      " \n"
     ]
    },
    {
     "name": "stderr",
     "output_type": "stream",
     "text": [
      "Warning message in chisq.test(t, correct = FALSE, ...):\n",
      "“Chi-squared approximation may be incorrect”\n"
     ]
    },
    {
     "name": "stdout",
     "output_type": "stream",
     "text": [
      "\n",
      " \n",
      "   Cell Contents\n",
      "|-------------------------|\n",
      "|                       N |\n",
      "| Chi-square contribution |\n",
      "|           N / Row Total |\n",
      "|           N / Col Total |\n",
      "|         N / Table Total |\n",
      "|-------------------------|\n",
      "\n",
      " \n",
      "Total Observations in Table:  1107 \n",
      "\n",
      " \n",
      "              | final_data$Q95 \n",
      "final_data$Q5 |        A few times a month |         A few times a week | A few times a year or less |                  Every day |                      Never |       Once a month or less |                Once a week |                  Row Total | \n",
      "--------------|----------------------------|----------------------------|----------------------------|----------------------------|----------------------------|----------------------------|----------------------------|----------------------------|\n",
      "        Rural |                         61 |                         41 |                         55 |                         12 |                         19 |                         27 |                         12 |                        227 | \n",
      "              |                      1.239 |                      0.064 |                      0.053 |                      1.279 |                      2.208 |                      0.060 |                      3.001 |                            | \n",
      "              |                      0.269 |                      0.181 |                      0.242 |                      0.053 |                      0.084 |                      0.119 |                      0.053 |                      0.205 | \n",
      "              |                      0.236 |                      0.197 |                      0.212 |                      0.148 |                      0.288 |                      0.196 |                      0.125 |                            | \n",
      "              |                      0.055 |                      0.037 |                      0.050 |                      0.011 |                      0.017 |                      0.024 |                      0.011 |                            | \n",
      "--------------|----------------------------|----------------------------|----------------------------|----------------------------|----------------------------|----------------------------|----------------------------|----------------------------|\n",
      "     Suburban |                         42 |                         42 |                         44 |                         16 |                         10 |                         19 |                         22 |                        195 | \n",
      "              |                      0.261 |                      0.784 |                      0.071 |                      0.210 |                      0.227 |                      1.159 |                      1.532 |                            | \n",
      "              |                      0.215 |                      0.215 |                      0.226 |                      0.082 |                      0.051 |                      0.097 |                      0.113 |                      0.176 | \n",
      "              |                      0.163 |                      0.202 |                      0.169 |                      0.198 |                      0.152 |                      0.138 |                      0.229 |                            | \n",
      "              |                      0.038 |                      0.038 |                      0.040 |                      0.014 |                      0.009 |                      0.017 |                      0.020 |                            | \n",
      "--------------|----------------------------|----------------------------|----------------------------|----------------------------|----------------------------|----------------------------|----------------------------|----------------------------|\n",
      "       Tribal |                          0 |                          1 |                          0 |                          0 |                          0 |                          0 |                          2 |                          3 | \n",
      "              |                      0.699 |                      0.338 |                      0.705 |                      0.220 |                      0.179 |                      0.374 |                     11.635 |                            | \n",
      "              |                      0.000 |                      0.333 |                      0.000 |                      0.000 |                      0.000 |                      0.000 |                      0.667 |                      0.003 | \n",
      "              |                      0.000 |                      0.005 |                      0.000 |                      0.000 |                      0.000 |                      0.000 |                      0.021 |                            | \n",
      "              |                      0.000 |                      0.001 |                      0.000 |                      0.000 |                      0.000 |                      0.000 |                      0.002 |                            | \n",
      "--------------|----------------------------|----------------------------|----------------------------|----------------------------|----------------------------|----------------------------|----------------------------|----------------------------|\n",
      "        Urban |                        155 |                        124 |                        161 |                         53 |                         37 |                         92 |                         60 |                        682 | \n",
      "              |                      0.098 |                      0.134 |                      0.004 |                      0.192 |                      0.330 |                      0.573 |                      0.012 |                            | \n",
      "              |                      0.227 |                      0.182 |                      0.236 |                      0.078 |                      0.054 |                      0.135 |                      0.088 |                      0.616 | \n",
      "              |                      0.601 |                      0.596 |                      0.619 |                      0.654 |                      0.561 |                      0.667 |                      0.625 |                            | \n",
      "              |                      0.140 |                      0.112 |                      0.145 |                      0.048 |                      0.033 |                      0.083 |                      0.054 |                            | \n",
      "--------------|----------------------------|----------------------------|----------------------------|----------------------------|----------------------------|----------------------------|----------------------------|----------------------------|\n",
      " Column Total |                        258 |                        208 |                        260 |                         81 |                         66 |                        138 |                         96 |                       1107 | \n",
      "              |                      0.233 |                      0.188 |                      0.235 |                      0.073 |                      0.060 |                      0.125 |                      0.087 |                            | \n",
      "--------------|----------------------------|----------------------------|----------------------------|----------------------------|----------------------------|----------------------------|----------------------------|----------------------------|\n",
      "\n",
      " \n",
      "Statistics for All Table Factors\n",
      "\n",
      "\n",
      "Pearson's Chi-squared test \n",
      "------------------------------------------------------------\n",
      "Chi^2 =  27.6411     d.f. =  18     p =  0.0677311 \n",
      "\n",
      "\n",
      " \n",
      "\n",
      " \n",
      "   Cell Contents\n",
      "|-------------------------|\n",
      "|                       N |\n",
      "| Chi-square contribution |\n",
      "|           N / Row Total |\n",
      "|           N / Col Total |\n",
      "|         N / Table Total |\n",
      "|-------------------------|\n",
      "\n",
      " \n",
      "Total Observations in Table:  909 \n",
      "\n",
      " \n",
      "               | urb_rur_sub$Q95 \n",
      "urb_rur_sub$Q5 |        A few times a month |         A few times a week | A few times a year or less |                  Every day |                      Never |       Once a month or less |                Once a week |                  Row Total | \n",
      "---------------|----------------------------|----------------------------|----------------------------|----------------------------|----------------------------|----------------------------|----------------------------|----------------------------|\n",
      "         Rural |                         61 |                         41 |                         55 |                         12 |                         19 |                         27 |                         12 |                        227 | \n",
      "               |                      0.924 |                      0.001 |                      0.021 |                      1.103 |                      1.799 |                      0.248 |                      1.989 |                            | \n",
      "               |                      0.269 |                      0.181 |                      0.242 |                      0.053 |                      0.084 |                      0.119 |                      0.053 |                      0.250 | \n",
      "               |                      0.282 |                      0.248 |                      0.255 |                      0.185 |                      0.339 |                      0.227 |                      0.167 |                            | \n",
      "               |                      0.067 |                      0.045 |                      0.061 |                      0.013 |                      0.021 |                      0.030 |                      0.013 |                            | \n",
      "---------------|----------------------------|----------------------------|----------------------------|----------------------------|----------------------------|----------------------------|----------------------------|----------------------------|\n",
      "         Urban |                        155 |                        124 |                        161 |                         53 |                         37 |                         92 |                         60 |                        682 | \n",
      "               |                      0.308 |                      0.000 |                      0.007 |                      0.367 |                      0.599 |                      0.083 |                      0.662 |                            | \n",
      "               |                      0.227 |                      0.182 |                      0.236 |                      0.078 |                      0.054 |                      0.135 |                      0.088 |                      0.750 | \n",
      "               |                      0.718 |                      0.752 |                      0.745 |                      0.815 |                      0.661 |                      0.773 |                      0.833 |                            | \n",
      "               |                      0.171 |                      0.136 |                      0.177 |                      0.058 |                      0.041 |                      0.101 |                      0.066 |                            | \n",
      "---------------|----------------------------|----------------------------|----------------------------|----------------------------|----------------------------|----------------------------|----------------------------|----------------------------|\n",
      "  Column Total |                        216 |                        165 |                        216 |                         65 |                         56 |                        119 |                         72 |                        909 | \n",
      "               |                      0.238 |                      0.182 |                      0.238 |                      0.072 |                      0.062 |                      0.131 |                      0.079 |                            | \n",
      "---------------|----------------------------|----------------------------|----------------------------|----------------------------|----------------------------|----------------------------|----------------------------|----------------------------|\n",
      "\n",
      " \n",
      "Statistics for All Table Factors\n",
      "\n",
      "\n",
      "Pearson's Chi-squared test \n",
      "------------------------------------------------------------\n",
      "Chi^2 =  8.110779     d.f. =  6     p =  0.2300992 \n",
      "\n",
      "\n",
      " \n"
     ]
    }
   ],
   "source": [
    "#Cross tabulation/chi square of Clinical vs Non-Clinical roles x emotionally drained\n",
    "CrossTable(final_data$Q65, final_data$Q95, chisq = TRUE)\n",
    "\n",
    "#Cross tabulation/chi square of years in role x emotionally drained\n",
    "CrossTable(final_data$Q94, final_data$Q95, chisq = TRUE)\n",
    "\n",
    "#Cross tabulation/chi square of setting x emotionally drained\n",
    "CrossTable(final_data$Q5, final_data$Q95, chisq = TRUE)\n",
    "\n",
    "#Cross tabulation of urban/rural settings x emotionally drained\n",
    "CrossTable(urb_rur_sub$Q5, urb_rur_sub$Q95, chisq = TRUE)"
   ]
  },
  {
   "cell_type": "markdown",
   "id": "f79a5689-7c43-4e10-8590-57f1ce2aff5b",
   "metadata": {},
   "source": [
    "### Considered Quitting and Emotionally Drained"
   ]
  },
  {
   "cell_type": "code",
   "execution_count": 236,
   "id": "e541d80f-af9a-47b3-ae8f-f7439c5ee31f",
   "metadata": {},
   "outputs": [
    {
     "data": {
      "text/plain": [
       "\n",
       "\tPearson's Chi-squared test\n",
       "\n",
       "data:  burnout_drain\n",
       "X-squared = 268.14, df = 6, p-value < 2.2e-16\n"
      ]
     },
     "metadata": {},
     "output_type": "display_data"
    },
    {
     "name": "stderr",
     "output_type": "stream",
     "text": [
      "Warning message in chisq.test(t, correct = FALSE, ...):\n",
      "“Chi-squared approximation may be incorrect”\n"
     ]
    },
    {
     "name": "stdout",
     "output_type": "stream",
     "text": [
      "\n",
      " \n",
      "   Cell Contents\n",
      "|-------------------------|\n",
      "|                       N |\n",
      "| Chi-square contribution |\n",
      "|           N / Row Total |\n",
      "|           N / Col Total |\n",
      "|         N / Table Total |\n",
      "|-------------------------|\n",
      "\n",
      " \n",
      "Total Observations in Table:  1107 \n",
      "\n",
      " \n",
      "                            | final_data$Q95 \n",
      "       final_data$prov_grps |        A few times a month |         A few times a week | A few times a year or less |                  Every day |                      Never |       Once a month or less |                Once a week |                  Row Total | \n",
      "----------------------------|----------------------------|----------------------------|----------------------------|----------------------------|----------------------------|----------------------------|----------------------------|----------------------------|\n",
      "Allied Health Professionals |                          1 |                          2 |                          6 |                          0 |                          1 |                          5 |                          4 |                         19 | \n",
      "                            |                      2.654 |                      0.690 |                      0.530 |                      1.390 |                      0.016 |                      2.923 |                      3.358 |                            | \n",
      "                            |                      0.053 |                      0.105 |                      0.316 |                      0.000 |                      0.053 |                      0.263 |                      0.211 |                      0.017 | \n",
      "                            |                      0.004 |                      0.010 |                      0.023 |                      0.000 |                      0.015 |                      0.036 |                      0.042 |                            | \n",
      "                            |                      0.001 |                      0.002 |                      0.005 |                      0.000 |                      0.001 |                      0.005 |                      0.004 |                            | \n",
      "----------------------------|----------------------------|----------------------------|----------------------------|----------------------------|----------------------------|----------------------------|----------------------------|----------------------------|\n",
      " Mental Health Professional |                         21 |                         23 |                         19 |                          5 |                          0 |                         14 |                          7 |                         89 | \n",
      "                            |                      0.003 |                      2.356 |                      0.173 |                      0.351 |                      5.306 |                      0.761 |                      0.067 |                            | \n",
      "                            |                      0.236 |                      0.258 |                      0.213 |                      0.056 |                      0.000 |                      0.157 |                      0.079 |                      0.080 | \n",
      "                            |                      0.081 |                      0.111 |                      0.073 |                      0.062 |                      0.000 |                      0.101 |                      0.073 |                            | \n",
      "                            |                      0.019 |                      0.021 |                      0.017 |                      0.005 |                      0.000 |                      0.013 |                      0.006 |                            | \n",
      "----------------------------|----------------------------|----------------------------|----------------------------|----------------------------|----------------------------|----------------------------|----------------------------|----------------------------|\n",
      "  Nurses/Medical Assistants |                         23 |                         24 |                         27 |                          7 |                          6 |                         15 |                          6 |                        108 | \n",
      "                            |                      0.187 |                      0.677 |                      0.105 |                      0.103 |                      0.030 |                      0.175 |                      1.210 |                            | \n",
      "                            |                      0.213 |                      0.222 |                      0.250 |                      0.065 |                      0.056 |                      0.139 |                      0.056 |                      0.098 | \n",
      "                            |                      0.089 |                      0.115 |                      0.104 |                      0.086 |                      0.091 |                      0.109 |                      0.062 |                            | \n",
      "                            |                      0.021 |                      0.022 |                      0.024 |                      0.006 |                      0.005 |                      0.014 |                      0.005 |                            | \n",
      "----------------------------|----------------------------|----------------------------|----------------------------|----------------------------|----------------------------|----------------------------|----------------------------|----------------------------|\n",
      "                      Other |                        210 |                        156 |                        206 |                         64 |                         59 |                        103 |                         79 |                        877 | \n",
      "                            |                      0.154 |                      0.468 |                      0.000 |                      0.000 |                      0.862 |                      0.366 |                      0.114 |                            | \n",
      "                            |                      0.239 |                      0.178 |                      0.235 |                      0.073 |                      0.067 |                      0.117 |                      0.090 |                      0.792 | \n",
      "                            |                      0.814 |                      0.750 |                      0.792 |                      0.790 |                      0.894 |                      0.746 |                      0.823 |                            | \n",
      "                            |                      0.190 |                      0.141 |                      0.186 |                      0.058 |                      0.053 |                      0.093 |                      0.071 |                            | \n",
      "----------------------------|----------------------------|----------------------------|----------------------------|----------------------------|----------------------------|----------------------------|----------------------------|----------------------------|\n",
      "      Prescribers/Providers |                          3 |                          3 |                          2 |                          5 |                          0 |                          1 |                          0 |                         14 | \n",
      "                            |                      0.021 |                      0.052 |                      0.505 |                     15.429 |                      0.835 |                      0.318 |                      1.214 |                            | \n",
      "                            |                      0.214 |                      0.214 |                      0.143 |                      0.357 |                      0.000 |                      0.071 |                      0.000 |                      0.013 | \n",
      "                            |                      0.012 |                      0.014 |                      0.008 |                      0.062 |                      0.000 |                      0.007 |                      0.000 |                            | \n",
      "                            |                      0.003 |                      0.003 |                      0.002 |                      0.005 |                      0.000 |                      0.001 |                      0.000 |                            | \n",
      "----------------------------|----------------------------|----------------------------|----------------------------|----------------------------|----------------------------|----------------------------|----------------------------|----------------------------|\n",
      "               Column Total |                        258 |                        208 |                        260 |                         81 |                         66 |                        138 |                         96 |                       1107 | \n",
      "                            |                      0.233 |                      0.188 |                      0.235 |                      0.073 |                      0.060 |                      0.125 |                      0.087 |                            | \n",
      "----------------------------|----------------------------|----------------------------|----------------------------|----------------------------|----------------------------|----------------------------|----------------------------|----------------------------|\n",
      "\n",
      " \n",
      "Statistics for All Table Factors\n",
      "\n",
      "\n",
      "Pearson's Chi-squared test \n",
      "------------------------------------------------------------\n",
      "Chi^2 =  43.40564     d.f. =  24     p =  0.008937751 \n",
      "\n",
      "\n",
      " \n",
      "\n",
      " \n",
      "   Cell Contents\n",
      "|-------------------------|\n",
      "|                       N |\n",
      "| Chi-square contribution |\n",
      "|           N / Row Total |\n",
      "|           N / Col Total |\n",
      "|         N / Table Total |\n",
      "|-------------------------|\n",
      "\n",
      " \n",
      "Total Observations in Table:  1104 \n",
      "\n",
      " \n",
      "                            | final_data$Q96 \n",
      "       final_data$prov_grps |        No |       Yes | Row Total | \n",
      "----------------------------|-----------|-----------|-----------|\n",
      "Allied Health Professionals |        14 |         5 |        19 | \n",
      "                            |     1.182 |     1.454 |           | \n",
      "                            |     0.737 |     0.263 |     0.017 | \n",
      "                            |     0.023 |     0.010 |           | \n",
      "                            |     0.013 |     0.005 |           | \n",
      "----------------------------|-----------|-----------|-----------|\n",
      " Mental Health Professional |        42 |        47 |        89 | \n",
      "                            |     1.025 |     1.262 |           | \n",
      "                            |     0.472 |     0.528 |     0.081 | \n",
      "                            |     0.069 |     0.095 |           | \n",
      "                            |     0.038 |     0.043 |           | \n",
      "----------------------------|-----------|-----------|-----------|\n",
      "  Nurses/Medical Assistants |        55 |        53 |       108 | \n",
      "                            |     0.351 |     0.432 |           | \n",
      "                            |     0.509 |     0.491 |     0.098 | \n",
      "                            |     0.090 |     0.107 |           | \n",
      "                            |     0.050 |     0.048 |           | \n",
      "----------------------------|-----------|-----------|-----------|\n",
      "                      Other |       491 |       383 |       874 | \n",
      "                            |     0.163 |     0.201 |           | \n",
      "                            |     0.562 |     0.438 |     0.792 | \n",
      "                            |     0.806 |     0.774 |           | \n",
      "                            |     0.445 |     0.347 |           | \n",
      "----------------------------|-----------|-----------|-----------|\n",
      "      Prescribers/Providers |         7 |         7 |        14 | \n",
      "                            |     0.068 |     0.083 |           | \n",
      "                            |     0.500 |     0.500 |     0.013 | \n",
      "                            |     0.011 |     0.014 |           | \n",
      "                            |     0.006 |     0.006 |           | \n",
      "----------------------------|-----------|-----------|-----------|\n",
      "               Column Total |       609 |       495 |      1104 | \n",
      "                            |     0.552 |     0.448 |           | \n",
      "----------------------------|-----------|-----------|-----------|\n",
      "\n",
      " \n",
      "Statistics for All Table Factors\n",
      "\n",
      "\n",
      "Pearson's Chi-squared test \n",
      "------------------------------------------------------------\n",
      "Chi^2 =  6.221228     d.f. =  4     p =  0.1832248 \n",
      "\n",
      "\n",
      " \n"
     ]
    },
    {
     "name": "stderr",
     "output_type": "stream",
     "text": [
      "Warning message in chisq.test(t, correct = FALSE, ...):\n",
      "“Chi-squared approximation may be incorrect”\n"
     ]
    },
    {
     "name": "stdout",
     "output_type": "stream",
     "text": [
      "\n",
      " \n",
      "   Cell Contents\n",
      "|-------------------------|\n",
      "|                       N |\n",
      "| Chi-square contribution |\n",
      "|           N / Row Total |\n",
      "|           N / Col Total |\n",
      "|         N / Table Total |\n",
      "|-------------------------|\n",
      "\n",
      " \n",
      "Total Observations in Table:  1107 \n",
      "\n",
      " \n",
      "                                        | final_data$Q95 \n",
      "                final_data$nc_prov_grps |        A few times a month |         A few times a week | A few times a year or less |                  Every day |                      Never |       Once a month or less |                Once a week |                  Row Total | \n",
      "----------------------------------------|----------------------------|----------------------------|----------------------------|----------------------------|----------------------------|----------------------------|----------------------------|----------------------------|\n",
      "                         Administrators |                         47 |                         27 |                         35 |                         19 |                          5 |                         18 |                         18 |                        169 | \n",
      "                                        |                      1.471 |                      0.712 |                      0.555 |                      3.559 |                      2.557 |                      0.447 |                      0.763 |                            | \n",
      "                                        |                      0.278 |                      0.160 |                      0.207 |                      0.112 |                      0.030 |                      0.107 |                      0.107 |                      0.153 | \n",
      "                                        |                      0.182 |                      0.130 |                      0.135 |                      0.235 |                      0.076 |                      0.130 |                      0.188 |                            | \n",
      "                                        |                      0.042 |                      0.024 |                      0.032 |                      0.017 |                      0.005 |                      0.016 |                      0.016 |                            | \n",
      "----------------------------------------|----------------------------|----------------------------|----------------------------|----------------------------|----------------------------|----------------------------|----------------------------|----------------------------|\n",
      "           Case Managers/Social Workers |                          2 |                          3 |                          4 |                          1 |                          0 |                          2 |                          3 |                         15 | \n",
      "                                        |                      0.640 |                      0.012 |                      0.065 |                      0.009 |                      0.894 |                      0.009 |                      2.220 |                            | \n",
      "                                        |                      0.133 |                      0.200 |                      0.267 |                      0.067 |                      0.000 |                      0.133 |                      0.200 |                      0.014 | \n",
      "                                        |                      0.008 |                      0.014 |                      0.015 |                      0.012 |                      0.000 |                      0.014 |                      0.031 |                            | \n",
      "                                        |                      0.002 |                      0.003 |                      0.004 |                      0.001 |                      0.000 |                      0.002 |                      0.003 |                            | \n",
      "----------------------------------------|----------------------------|----------------------------|----------------------------|----------------------------|----------------------------|----------------------------|----------------------------|----------------------------|\n",
      "           Health Education and Testing |                          9 |                          7 |                          9 |                          1 |                          2 |                          4 |                          1 |                         33 | \n",
      "                                        |                      0.223 |                      0.103 |                      0.201 |                      0.829 |                      0.001 |                      0.003 |                      1.211 |                            | \n",
      "                                        |                      0.273 |                      0.212 |                      0.273 |                      0.030 |                      0.061 |                      0.121 |                      0.030 |                      0.030 | \n",
      "                                        |                      0.035 |                      0.034 |                      0.035 |                      0.012 |                      0.030 |                      0.029 |                      0.010 |                            | \n",
      "                                        |                      0.008 |                      0.006 |                      0.008 |                      0.001 |                      0.002 |                      0.004 |                      0.001 |                            | \n",
      "----------------------------------------|----------------------------|----------------------------|----------------------------|----------------------------|----------------------------|----------------------------|----------------------------|----------------------------|\n",
      "                                  Other |                        144 |                        133 |                        146 |                         46 |                         34 |                         85 |                         53 |                        641 | \n",
      "                                        |                      0.195 |                      1.310 |                      0.138 |                      0.017 |                      0.465 |                      0.324 |                      0.120 |                            | \n",
      "                                        |                      0.225 |                      0.207 |                      0.228 |                      0.072 |                      0.053 |                      0.133 |                      0.083 |                      0.579 | \n",
      "                                        |                      0.558 |                      0.639 |                      0.562 |                      0.568 |                      0.515 |                      0.616 |                      0.552 |                            | \n",
      "                                        |                      0.130 |                      0.120 |                      0.132 |                      0.042 |                      0.031 |                      0.077 |                      0.048 |                            | \n",
      "----------------------------------------|----------------------------|----------------------------|----------------------------|----------------------------|----------------------------|----------------------------|----------------------------|----------------------------|\n",
      "        Other Non-Clinical Professional |                          4 |                          2 |                          2 |                          0 |                          3 |                          0 |                          0 |                         11 | \n",
      "                                        |                      0.805 |                      0.002 |                      0.132 |                      0.805 |                      8.379 |                      1.371 |                      0.954 |                            | \n",
      "                                        |                      0.364 |                      0.182 |                      0.182 |                      0.000 |                      0.273 |                      0.000 |                      0.000 |                      0.010 | \n",
      "                                        |                      0.016 |                      0.010 |                      0.008 |                      0.000 |                      0.045 |                      0.000 |                      0.000 |                            | \n",
      "                                        |                      0.004 |                      0.002 |                      0.002 |                      0.000 |                      0.003 |                      0.000 |                      0.000 |                            | \n",
      "----------------------------------------|----------------------------|----------------------------|----------------------------|----------------------------|----------------------------|----------------------------|----------------------------|----------------------------|\n",
      "                               Outreach |                         34 |                         18 |                         39 |                          8 |                         14 |                         16 |                         16 |                        145 | \n",
      "                                        |                      0.001 |                      3.137 |                      0.718 |                      0.642 |                      3.317 |                      0.238 |                      0.933 |                            | \n",
      "                                        |                      0.234 |                      0.124 |                      0.269 |                      0.055 |                      0.097 |                      0.110 |                      0.110 |                      0.131 | \n",
      "                                        |                      0.132 |                      0.087 |                      0.150 |                      0.099 |                      0.212 |                      0.116 |                      0.167 |                            | \n",
      "                                        |                      0.031 |                      0.016 |                      0.035 |                      0.007 |                      0.013 |                      0.014 |                      0.014 |                            | \n",
      "----------------------------------------|----------------------------|----------------------------|----------------------------|----------------------------|----------------------------|----------------------------|----------------------------|----------------------------|\n",
      "      Patient Supporters and Navigators |                         12 |                         11 |                         20 |                          4 |                          7 |                         10 |                          3 |                         67 | \n",
      "                                        |                      0.837 |                      0.201 |                      1.155 |                      0.166 |                      2.261 |                      0.325 |                      1.359 |                            | \n",
      "                                        |                      0.179 |                      0.164 |                      0.299 |                      0.060 |                      0.104 |                      0.149 |                      0.045 |                      0.061 | \n",
      "                                        |                      0.047 |                      0.053 |                      0.077 |                      0.049 |                      0.106 |                      0.072 |                      0.031 |                            | \n",
      "                                        |                      0.011 |                      0.010 |                      0.018 |                      0.004 |                      0.006 |                      0.009 |                      0.003 |                            | \n",
      "----------------------------------------|----------------------------|----------------------------|----------------------------|----------------------------|----------------------------|----------------------------|----------------------------|----------------------------|\n",
      "Program Coordinators/Managers/Directors |                          6 |                          7 |                          5 |                          2 |                          1 |                          3 |                          2 |                         26 | \n",
      "                                        |                      0.001 |                      0.915 |                      0.201 |                      0.005 |                      0.195 |                      0.018 |                      0.029 |                            | \n",
      "                                        |                      0.231 |                      0.269 |                      0.192 |                      0.077 |                      0.038 |                      0.115 |                      0.077 |                      0.023 | \n",
      "                                        |                      0.023 |                      0.034 |                      0.019 |                      0.025 |                      0.015 |                      0.022 |                      0.021 |                            | \n",
      "                                        |                      0.005 |                      0.006 |                      0.005 |                      0.002 |                      0.001 |                      0.003 |                      0.002 |                            | \n",
      "----------------------------------------|----------------------------|----------------------------|----------------------------|----------------------------|----------------------------|----------------------------|----------------------------|----------------------------|\n",
      "                           Column Total |                        258 |                        208 |                        260 |                         81 |                         66 |                        138 |                         96 |                       1107 | \n",
      "                                        |                      0.233 |                      0.188 |                      0.235 |                      0.073 |                      0.060 |                      0.125 |                      0.087 |                            | \n",
      "----------------------------------------|----------------------------|----------------------------|----------------------------|----------------------------|----------------------------|----------------------------|----------------------------|----------------------------|\n",
      "\n",
      " \n",
      "Statistics for All Table Factors\n",
      "\n",
      "\n",
      "Pearson's Chi-squared test \n",
      "------------------------------------------------------------\n",
      "Chi^2 =  48.15454     d.f. =  42     p =  0.2378498 \n",
      "\n",
      "\n",
      " \n"
     ]
    },
    {
     "name": "stderr",
     "output_type": "stream",
     "text": [
      "Warning message in chisq.test(t, correct = FALSE, ...):\n",
      "“Chi-squared approximation may be incorrect”\n"
     ]
    },
    {
     "name": "stdout",
     "output_type": "stream",
     "text": [
      "\n",
      " \n",
      "   Cell Contents\n",
      "|-------------------------|\n",
      "|                       N |\n",
      "| Chi-square contribution |\n",
      "|           N / Row Total |\n",
      "|           N / Col Total |\n",
      "|         N / Table Total |\n",
      "|-------------------------|\n",
      "\n",
      " \n",
      "Total Observations in Table:  1104 \n",
      "\n",
      " \n",
      "                                        | final_data$Q96 \n",
      "                final_data$nc_prov_grps |        No |       Yes | Row Total | \n",
      "----------------------------------------|-----------|-----------|-----------|\n",
      "                         Administrators |        85 |        84 |       169 | \n",
      "                                        |     0.726 |     0.893 |           | \n",
      "                                        |     0.503 |     0.497 |     0.153 | \n",
      "                                        |     0.140 |     0.170 |           | \n",
      "                                        |     0.077 |     0.076 |           | \n",
      "----------------------------------------|-----------|-----------|-----------|\n",
      "           Case Managers/Social Workers |        11 |         4 |        15 | \n",
      "                                        |     0.898 |     1.105 |           | \n",
      "                                        |     0.733 |     0.267 |     0.014 | \n",
      "                                        |     0.018 |     0.008 |           | \n",
      "                                        |     0.010 |     0.004 |           | \n",
      "----------------------------------------|-----------|-----------|-----------|\n",
      "           Health Education and Testing |        24 |         9 |        33 | \n",
      "                                        |     1.846 |     2.271 |           | \n",
      "                                        |     0.727 |     0.273 |     0.030 | \n",
      "                                        |     0.039 |     0.018 |           | \n",
      "                                        |     0.022 |     0.008 |           | \n",
      "----------------------------------------|-----------|-----------|-----------|\n",
      "                                  Other |       341 |       298 |       639 | \n",
      "                                        |     0.375 |     0.461 |           | \n",
      "                                        |     0.534 |     0.466 |     0.579 | \n",
      "                                        |     0.560 |     0.602 |           | \n",
      "                                        |     0.309 |     0.270 |           | \n",
      "----------------------------------------|-----------|-----------|-----------|\n",
      "        Other Non-Clinical Professional |         7 |         4 |        11 | \n",
      "                                        |     0.143 |     0.176 |           | \n",
      "                                        |     0.636 |     0.364 |     0.010 | \n",
      "                                        |     0.011 |     0.008 |           | \n",
      "                                        |     0.006 |     0.004 |           | \n",
      "----------------------------------------|-----------|-----------|-----------|\n",
      "                               Outreach |        86 |        58 |       144 | \n",
      "                                        |     0.543 |     0.668 |           | \n",
      "                                        |     0.597 |     0.403 |     0.130 | \n",
      "                                        |     0.141 |     0.117 |           | \n",
      "                                        |     0.078 |     0.053 |           | \n",
      "----------------------------------------|-----------|-----------|-----------|\n",
      "      Patient Supporters and Navigators |        40 |        27 |        67 | \n",
      "                                        |     0.250 |     0.308 |           | \n",
      "                                        |     0.597 |     0.403 |     0.061 | \n",
      "                                        |     0.066 |     0.055 |           | \n",
      "                                        |     0.036 |     0.024 |           | \n",
      "----------------------------------------|-----------|-----------|-----------|\n",
      "Program Coordinators/Managers/Directors |        15 |        11 |        26 | \n",
      "                                        |     0.030 |     0.037 |           | \n",
      "                                        |     0.577 |     0.423 |     0.024 | \n",
      "                                        |     0.025 |     0.022 |           | \n",
      "                                        |     0.014 |     0.010 |           | \n",
      "----------------------------------------|-----------|-----------|-----------|\n",
      "                           Column Total |       609 |       495 |      1104 | \n",
      "                                        |     0.552 |     0.448 |           | \n",
      "----------------------------------------|-----------|-----------|-----------|\n",
      "\n",
      " \n",
      "Statistics for All Table Factors\n",
      "\n",
      "\n",
      "Pearson's Chi-squared test \n",
      "------------------------------------------------------------\n",
      "Chi^2 =  10.72739     d.f. =  7     p =  0.1509599 \n",
      "\n",
      "\n",
      " \n"
     ]
    }
   ],
   "source": [
    "chisq.test(burnout_drain)\n",
    "\n",
    "# Burnout and Drainage within role groups\n",
    "CrossTable(final_data$prov_grps, final_data$Q95, chisq = TRUE)\n",
    "CrossTable(final_data$prov_grps, final_data$Q96, chisq = TRUE)\n",
    "CrossTable(final_data$nc_prov_grps, final_data$Q95, chisq = TRUE)\n",
    "CrossTable(final_data$nc_prov_grps, final_data$Q96, chisq = TRUE)"
   ]
  },
  {
   "cell_type": "markdown",
   "id": "44d26b38-dc2d-4ea8-98bd-cd1ead004729",
   "metadata": {},
   "source": [
    "# Training topics among clinical providers"
   ]
  },
  {
   "cell_type": "code",
   "execution_count": 237,
   "id": "1247592d-1de0-41d6-87a2-eb5e1de0e12a",
   "metadata": {},
   "outputs": [],
   "source": [
    "# Create a function to get the top 3 topics and their percentages for a given provider group\n",
    "get_top3_and_percentage <- function(data, topics) {\n",
    "  # Calculate the counts for each topic within the provider group data\n",
    "  topic_counts <- sapply(topics, function(topic) sum(data[[topic]] %in% c(1, 2, 3), na.rm = TRUE))\n",
    "\n",
    "  # Sort the topics based on their counts in descending order\n",
    "  sorted_topics <- sort(topic_counts, decreasing = TRUE)\n",
    "\n",
    "  # Get the top 3 topics\n",
    "  top3_topics <- names(sorted_topics)[1:3]\n",
    "\n",
    "  # Calculate the total count of providers who provided a ranking (1, 2, or 3) for any of the topics within the provider group data\n",
    "  total_respondents <- sum(rowSums(!is.na(data[, topics])) > 0)\n",
    "\n",
    "  # Calculate the percentages for the top 3 topics\n",
    "  percentages <- (sorted_topics[1:3] / total_respondents) * 100\n",
    "\n",
    "  # Return the top 3 topics and their percentages\n",
    "  return(list(top3_topics = top3_topics, percentages = percentages))\n",
    "}\n",
    "\n",
    "# Create a list to store results for each provider group\n",
    "results <- list()"
   ]
  },
  {
   "cell_type": "code",
   "execution_count": 238,
   "id": "6428df5d-52c0-4055-a6ce-0cc214313d08",
   "metadata": {},
   "outputs": [],
   "source": [
    "# Create a new variable to group clinical roles by provider groups\n",
    "final_data$prov_grps <- ifelse(final_data$Q66 %in% c('Dentist', 'Nurse Midwife', 'Nurse Practitioner', 'Physician Assistant', 'Physician'), 'Prescribers/Providers',\n",
    "                               ifelse(final_data$Q66 %in% c('Mental Health Counselor', 'Mental Health Case Manager', 'Mental Health Professional', 'Psychologist', 'Licensed Clinical Social Worker'), 'Mental Health Professional',\n",
    "                                      ifelse(final_data$Q66 %in% c('Licensed Practical Nurses', 'Nurse Manager', 'Registered Nurse', 'Medical Assistant'), 'Nurses/Medical Assistants',\n",
    "                                             ifelse(final_data$Q66 %in% c('Pharmacist', 'Phlebotomist', 'Dietician/Nutrition', 'Physical Therapist'), 'Allied Health Professionals',\n",
    "                                                    ifelse(final_data$Q66 %in% c('Other Provider/Clinical professional'), 'Other', NA)))))\n",
    "\n",
    "# Filter data to exclude rows with 'NA' values in the 'prov_grps' column\n",
    "filtered_data <- final_data[!is.na(final_data$prov_grps), ]\n",
    "\n",
    "# Filter data to include only rows with provider groups\n",
    "provider_groups_data <- filtered_data[filtered_data$prov_grps %in% c('Prescribers/Providers', 'Mental Health Professional', 'Nurses/Medical Assistants', 'Allied Health Professionals', 'Other'), ]"
   ]
  },
  {
   "cell_type": "markdown",
   "id": "04a04d94-ca09-458d-bd6b-2073f2f69d69",
   "metadata": {},
   "source": [
    "## HIV training topics among clinical providers"
   ]
  },
  {
   "cell_type": "code",
   "execution_count": 239,
   "id": "74e9d225-12a8-4e2e-80d8-31ae8274bfff",
   "metadata": {},
   "outputs": [
    {
     "data": {
      "text/html": [
       "<dl>\n",
       "\t<dt>$top3_topics</dt>\n",
       "\t\t<dd><style>\n",
       ".list-inline {list-style: none; margin:0; padding: 0}\n",
       ".list-inline>li {display: inline-block}\n",
       ".list-inline>li:not(:last-child)::after {content: \"\\00b7\"; padding: 0 .5ex}\n",
       "</style>\n",
       "<ol class=list-inline><li>'Q198'</li><li>'Q200'</li><li>'Q199'</li></ol>\n",
       "</dd>\n",
       "\t<dt>$percentages</dt>\n",
       "\t\t<dd><style>\n",
       ".dl-inline {width: auto; margin:0; padding: 0}\n",
       ".dl-inline>dt, .dl-inline>dd {float: none; width: auto; display: inline-block}\n",
       ".dl-inline>dt::after {content: \":\\0020\"; padding-right: .5ex}\n",
       ".dl-inline>dt:not(:first-of-type) {padding-left: .5ex}\n",
       "</style><dl class=dl-inline><dt>Q198</dt><dd>51.6279069767442</dd><dt>Q200</dt><dd>44.6511627906977</dd><dt>Q199</dt><dd>33.953488372093</dd></dl>\n",
       "</dd>\n",
       "</dl>\n"
      ],
      "text/latex": [
       "\\begin{description}\n",
       "\\item[\\$top3\\_topics] \\begin{enumerate*}\n",
       "\\item 'Q198'\n",
       "\\item 'Q200'\n",
       "\\item 'Q199'\n",
       "\\end{enumerate*}\n",
       "\n",
       "\\item[\\$percentages] \\begin{description*}\n",
       "\\item[Q198] 51.6279069767442\n",
       "\\item[Q200] 44.6511627906977\n",
       "\\item[Q199] 33.953488372093\n",
       "\\end{description*}\n",
       "\n",
       "\\end{description}\n"
      ],
      "text/markdown": [
       "$top3_topics\n",
       ":   1. 'Q198'\n",
       "2. 'Q200'\n",
       "3. 'Q199'\n",
       "\n",
       "\n",
       "\n",
       "$percentages\n",
       ":   Q198\n",
       ":   51.6279069767442Q200\n",
       ":   44.6511627906977Q199\n",
       ":   33.953488372093\n",
       "\n",
       "\n",
       "\n",
       "\n"
      ],
      "text/plain": [
       "$top3_topics\n",
       "[1] \"Q198\" \"Q200\" \"Q199\"\n",
       "\n",
       "$percentages\n",
       "    Q198     Q200     Q199 \n",
       "51.62791 44.65116 33.95349 \n"
      ]
     },
     "metadata": {},
     "output_type": "display_data"
    }
   ],
   "source": [
    "# Get top 3 topics and percentages for clinical providers\n",
    "hiv_clinical_results <- get_top3_and_percentage(provider_groups_data, hiv_topics)\n",
    "hiv_clinical_results"
   ]
  },
  {
   "cell_type": "markdown",
   "id": "0cd69e42-530d-4f4d-9641-7e3bf64929fa",
   "metadata": {},
   "source": [
    "### HIV training topics by clinical provider group"
   ]
  },
  {
   "cell_type": "code",
   "execution_count": 240,
   "id": "4fa8e561-744c-4619-927c-82428cd82c6c",
   "metadata": {},
   "outputs": [
    {
     "name": "stdout",
     "output_type": "stream",
     "text": [
      "Provider Group: Prescribers/Providers \n",
      "Top 3 Topics: Q198 Q200 Q199 \n",
      "Percentages: 52.57732 40.20619 35.05155 \n",
      "\n",
      "Provider Group: Mental Health Professional \n",
      "Top 3 Topics: Q204 Q198 Q200 \n",
      "Percentages: 46.80851 42.55319 42.55319 \n",
      "\n",
      "Provider Group: Nurses/Medical Assistants \n",
      "Top 3 Topics: Q200 Q198 Q199 \n",
      "Percentages: 54 46 46 \n",
      "\n",
      "Provider Group: Allied Health Professionals \n",
      "Top 3 Topics: Q198 Q200 Q204 \n",
      "Percentages: 75 56.25 50 \n",
      "\n",
      "Provider Group: Other \n",
      "Top 3 Topics: Q198 Q204 Q203 \n",
      "Percentages: 100 60 40 \n",
      "\n"
     ]
    }
   ],
   "source": [
    "# Get top 3 topics and percentages for each provider group\n",
    "provider_groups <- c('Prescribers/Providers', 'Mental Health Professional', 'Nurses/Medical Assistants', 'Allied Health Professionals', 'Other')\n",
    "\n",
    "for (provider_group in provider_groups) {\n",
    "  group_data <- provider_groups_data[provider_groups_data$prov_grps == provider_group, ]\n",
    "  result <- get_top3_and_percentage(group_data, hiv_topics)\n",
    "  results[[provider_group]] <- result\n",
    "}\n",
    "\n",
    "# Print the results\n",
    "for (provider_group in provider_groups) {\n",
    "  cat(\"Provider Group:\", provider_group, \"\\n\")\n",
    "  cat(\"Top 3 Topics:\", results[[provider_group]]$top3_topics, \"\\n\")\n",
    "  cat(\"Percentages:\", results[[provider_group]]$percentages, \"\\n\\n\")\n",
    "}"
   ]
  },
  {
   "cell_type": "markdown",
   "id": "2b802533-abfa-4279-831f-af1a486bc9d5",
   "metadata": {},
   "source": [
    "## LGBTQ taining topics among clinical providers"
   ]
  },
  {
   "cell_type": "code",
   "execution_count": 241,
   "id": "80c3b3d9-9df9-48d9-a715-e05907dcbfdb",
   "metadata": {},
   "outputs": [
    {
     "data": {
      "text/html": [
       "<dl>\n",
       "\t<dt>$top3_topics</dt>\n",
       "\t\t<dd><style>\n",
       ".list-inline {list-style: none; margin:0; padding: 0}\n",
       ".list-inline>li {display: inline-block}\n",
       ".list-inline>li:not(:last-child)::after {content: \"\\00b7\"; padding: 0 .5ex}\n",
       "</style>\n",
       "<ol class=list-inline><li>'Q228'</li><li>'Q230'</li><li>'Q233'</li></ol>\n",
       "</dd>\n",
       "\t<dt>$percentages</dt>\n",
       "\t\t<dd><style>\n",
       ".dl-inline {width: auto; margin:0; padding: 0}\n",
       ".dl-inline>dt, .dl-inline>dd {float: none; width: auto; display: inline-block}\n",
       ".dl-inline>dt::after {content: \":\\0020\"; padding-right: .5ex}\n",
       ".dl-inline>dt:not(:first-of-type) {padding-left: .5ex}\n",
       "</style><dl class=dl-inline><dt>Q228</dt><dd>44.7284345047923</dd><dt>Q230</dt><dd>43.7699680511182</dd><dt>Q233</dt><dd>42.1725239616613</dd></dl>\n",
       "</dd>\n",
       "</dl>\n"
      ],
      "text/latex": [
       "\\begin{description}\n",
       "\\item[\\$top3\\_topics] \\begin{enumerate*}\n",
       "\\item 'Q228'\n",
       "\\item 'Q230'\n",
       "\\item 'Q233'\n",
       "\\end{enumerate*}\n",
       "\n",
       "\\item[\\$percentages] \\begin{description*}\n",
       "\\item[Q228] 44.7284345047923\n",
       "\\item[Q230] 43.7699680511182\n",
       "\\item[Q233] 42.1725239616613\n",
       "\\end{description*}\n",
       "\n",
       "\\end{description}\n"
      ],
      "text/markdown": [
       "$top3_topics\n",
       ":   1. 'Q228'\n",
       "2. 'Q230'\n",
       "3. 'Q233'\n",
       "\n",
       "\n",
       "\n",
       "$percentages\n",
       ":   Q228\n",
       ":   44.7284345047923Q230\n",
       ":   43.7699680511182Q233\n",
       ":   42.1725239616613\n",
       "\n",
       "\n",
       "\n",
       "\n"
      ],
      "text/plain": [
       "$top3_topics\n",
       "[1] \"Q228\" \"Q230\" \"Q233\"\n",
       "\n",
       "$percentages\n",
       "    Q228     Q230     Q233 \n",
       "44.72843 43.76997 42.17252 \n"
      ]
     },
     "metadata": {},
     "output_type": "display_data"
    }
   ],
   "source": [
    "# Get top 3 topics and percentages for clinical providers\n",
    "lgbtq_clinical_results <- get_top3_and_percentage(provider_groups_data, lgbtq_topics)\n",
    "lgbtq_clinical_results"
   ]
  },
  {
   "cell_type": "markdown",
   "id": "59fde642-2b99-426f-b1a2-e1e58e2072c2",
   "metadata": {},
   "source": [
    "### LGBTQ training topics by clinical provider group"
   ]
  },
  {
   "cell_type": "code",
   "execution_count": 242,
   "id": "37df594f-507c-4745-9d42-1df0823fe53a",
   "metadata": {},
   "outputs": [
    {
     "name": "stdout",
     "output_type": "stream",
     "text": [
      "Provider Group: Prescribers/Providers \n",
      "Top 3 Topics: Q230 Q229 Q228 \n",
      "Percentages: 45.08197 43.44262 40.98361 \n",
      "\n",
      "Provider Group: Mental Health Professional \n",
      "Top 3 Topics: Q233 Q229 Q230 \n",
      "Percentages: 50 47.36842 46.05263 \n",
      "\n",
      "Provider Group: Nurses/Medical Assistants \n",
      "Top 3 Topics: Q228 Q234 Q230 \n",
      "Percentages: 54.34783 48.91304 42.3913 \n",
      "\n",
      "Provider Group: Allied Health Professionals \n",
      "Top 3 Topics: Q229 Q228 Q232 \n",
      "Percentages: 64.70588 47.05882 41.17647 \n",
      "\n",
      "Provider Group: Other \n",
      "Top 3 Topics: Q230 Q227 Q229 \n",
      "Percentages: 66.66667 50 50 \n",
      "\n"
     ]
    }
   ],
   "source": [
    "# Get top 3 topics and percentages for each provider group\n",
    "provider_groups <- c('Prescribers/Providers', 'Mental Health Professional', 'Nurses/Medical Assistants', 'Allied Health Professionals', 'Other')\n",
    "\n",
    "for (provider_group in provider_groups) {\n",
    "  group_data <- provider_groups_data[provider_groups_data$prov_grps == provider_group, ]\n",
    "  result <- get_top3_and_percentage(group_data, lgbtq_topics)\n",
    "  results[[provider_group]] <- result\n",
    "}\n",
    "\n",
    "# Print the results\n",
    "for (provider_group in provider_groups) {\n",
    "  cat(\"Provider Group:\", provider_group, \"\\n\")\n",
    "  cat(\"Top 3 Topics:\", results[[provider_group]]$top3_topics, \"\\n\")\n",
    "  cat(\"Percentages:\", results[[provider_group]]$percentages, \"\\n\\n\")\n",
    "}"
   ]
  },
  {
   "cell_type": "markdown",
   "id": "362f01d1-4800-4657-b1ac-c7cb6e4739ab",
   "metadata": {},
   "source": [
    "## PrEP training topics among clinical providers"
   ]
  },
  {
   "cell_type": "code",
   "execution_count": 243,
   "id": "ecc89bb3-6a91-42fe-b0ce-9102f76b7731",
   "metadata": {},
   "outputs": [
    {
     "data": {
      "text/html": [
       "<dl>\n",
       "\t<dt>$top3_topics</dt>\n",
       "\t\t<dd><style>\n",
       ".list-inline {list-style: none; margin:0; padding: 0}\n",
       ".list-inline>li {display: inline-block}\n",
       ".list-inline>li:not(:last-child)::after {content: \"\\00b7\"; padding: 0 .5ex}\n",
       "</style>\n",
       "<ol class=list-inline><li>'Q214'</li><li>'Q212'</li><li>'Q211'</li></ol>\n",
       "</dd>\n",
       "\t<dt>$percentages</dt>\n",
       "\t\t<dd><style>\n",
       ".dl-inline {width: auto; margin:0; padding: 0}\n",
       ".dl-inline>dt, .dl-inline>dd {float: none; width: auto; display: inline-block}\n",
       ".dl-inline>dt::after {content: \":\\0020\"; padding-right: .5ex}\n",
       ".dl-inline>dt:not(:first-of-type) {padding-left: .5ex}\n",
       "</style><dl class=dl-inline><dt>Q214</dt><dd>37.7777777777778</dd><dt>Q212</dt><dd>30.2222222222222</dd><dt>Q211</dt><dd>29.7777777777778</dd></dl>\n",
       "</dd>\n",
       "</dl>\n"
      ],
      "text/latex": [
       "\\begin{description}\n",
       "\\item[\\$top3\\_topics] \\begin{enumerate*}\n",
       "\\item 'Q214'\n",
       "\\item 'Q212'\n",
       "\\item 'Q211'\n",
       "\\end{enumerate*}\n",
       "\n",
       "\\item[\\$percentages] \\begin{description*}\n",
       "\\item[Q214] 37.7777777777778\n",
       "\\item[Q212] 30.2222222222222\n",
       "\\item[Q211] 29.7777777777778\n",
       "\\end{description*}\n",
       "\n",
       "\\end{description}\n"
      ],
      "text/markdown": [
       "$top3_topics\n",
       ":   1. 'Q214'\n",
       "2. 'Q212'\n",
       "3. 'Q211'\n",
       "\n",
       "\n",
       "\n",
       "$percentages\n",
       ":   Q214\n",
       ":   37.7777777777778Q212\n",
       ":   30.2222222222222Q211\n",
       ":   29.7777777777778\n",
       "\n",
       "\n",
       "\n",
       "\n"
      ],
      "text/plain": [
       "$top3_topics\n",
       "[1] \"Q214\" \"Q212\" \"Q211\"\n",
       "\n",
       "$percentages\n",
       "    Q214     Q212     Q211 \n",
       "37.77778 30.22222 29.77778 \n"
      ]
     },
     "metadata": {},
     "output_type": "display_data"
    }
   ],
   "source": [
    "# Get top 3 topics and percentages for clinical providers\n",
    "prep_clinical_results <- get_top3_and_percentage(provider_groups_data, prep_topics)\n",
    "prep_clinical_results"
   ]
  },
  {
   "cell_type": "markdown",
   "id": "8f2b3c2f-adea-4541-b5c0-6d6497f6a267",
   "metadata": {},
   "source": [
    "### PrEP training topics by clinical provider group"
   ]
  },
  {
   "cell_type": "code",
   "execution_count": 244,
   "id": "4600d1c7-0ec8-4306-a34c-aab871383ab2",
   "metadata": {},
   "outputs": [
    {
     "name": "stdout",
     "output_type": "stream",
     "text": [
      "Provider Group: Prescribers/Providers \n",
      "Top 3 Topics: Q212 Q211 Q214 \n",
      "Percentages: 38.39286 36.60714 34.82143 \n",
      "\n",
      "Provider Group: Mental Health Professional \n",
      "Top 3 Topics: Q220 Q214 Q219 \n",
      "Percentages: 43.58974 38.46154 33.33333 \n",
      "\n",
      "Provider Group: Nurses/Medical Assistants \n",
      "Top 3 Topics: Q214 Q218 Q213 \n",
      "Percentages: 46.42857 33.92857 28.57143 \n",
      "\n",
      "Provider Group: Allied Health Professionals \n",
      "Top 3 Topics: Q212 Q215 Q218 \n",
      "Percentages: 46.15385 38.46154 30.76923 \n",
      "\n",
      "Provider Group: Other \n",
      "Top 3 Topics: Q224 Q223 Q214 \n",
      "Percentages: 80 60 40 \n",
      "\n"
     ]
    }
   ],
   "source": [
    "# Get top 3 topics and percentages for each provider group\n",
    "provider_groups <- c('Prescribers/Providers', 'Mental Health Professional', 'Nurses/Medical Assistants', 'Allied Health Professionals', 'Other')\n",
    "\n",
    "for (provider_group in provider_groups) {\n",
    "  group_data <- provider_groups_data[provider_groups_data$prov_grps == provider_group, ]\n",
    "  result <- get_top3_and_percentage(group_data, prep_topics)\n",
    "  results[[provider_group]] <- result\n",
    "}\n",
    "\n",
    "# Print the results\n",
    "for (provider_group in provider_groups) {\n",
    "  cat(\"Provider Group:\", provider_group, \"\\n\")\n",
    "  cat(\"Top 3 Topics:\", results[[provider_group]]$top3_topics, \"\\n\")\n",
    "  cat(\"Percentages:\", results[[provider_group]]$percentages, \"\\n\\n\")\n",
    "}"
   ]
  },
  {
   "cell_type": "markdown",
   "id": "dee7e45c-5e4f-4b70-ac94-359672fe2c9a",
   "metadata": {},
   "source": [
    "# Training topics among non-clinical providers"
   ]
  },
  {
   "cell_type": "code",
   "execution_count": 245,
   "id": "e08c4dd6-cf7e-4a43-957b-075958d46592",
   "metadata": {},
   "outputs": [],
   "source": [
    "# Create a new variable to group non-clinical roles by provider groups\n",
    "nc_prov_grps <- ifelse(final_data$Q71 %in% c('Administrator','Finance/FiscalManager','Medical Billing'),'Administrators',\n",
    "                                  ifelse(final_data$Q71 %in% c('Harm Reductionist/Risk Reductionist','Health and Wellness Coach','Health Education Speacialist'),'Health Education and Testing',\n",
    "                                         ifelse(final_data$Q71 %in% c('Case Manager/Medical Case Manager','Non-clinical social worker','Mental Health Case Manager','Substance Abuse Counselor/Professional','Mental Health Professional'),'Case Managers/Social Workers',\n",
    "                                                ifelse(final_data$Q71 %in% c('Patient Navigator','Peer Navigator','PrEP Navigator','PrEP Navigator/Coordinator','Health Navigator','Advocate','Caregiver'),'Patient Supporters and Navigators',\n",
    "                                                       ifelse(final_data$Q71 %in% c('Program Coordinator','HIV Linkage Coordinator','HIV Retention Coordinator','Housing Coordinator','Program Director','Program Manager'),'Program Coordinators/Managers/Directors',\n",
    "                                                              ifelse(final_data$Q71 %in% c('Outreach Worker','Community Health Worker','HIV Tester','Disease Intervention Specialist'),'Outreach',\n",
    "                                                                     ifelse(final_data$Q71 %in% c('Clergy/Faith-Based Professional','Researcher','Student','Other Non-Clinical Professional'),'Other', NA)))))))\n",
    "# Filter data to exclude rows with 'NA' values in the 'prov_grps' column\n",
    "nc_filtered_data <- final_data[!is.na(final_data$nc_prov_grps), ]\n",
    "\n",
    "# Filter data to include only rows with non-clinical provider groups\n",
    "nc_provider_groups_data <- final_data[final_data$nc_prov_grps %in% c('Administrators', 'Health Education and Testing', 'Case Managers/Social Workers', 'Patient Supporters and Navigators', 'Program Coordinators/Managers/Directors', 'Outreach', 'Other'), ]"
   ]
  },
  {
   "cell_type": "markdown",
   "id": "13bc3fa4-9bca-495c-b690-abf949082575",
   "metadata": {},
   "source": [
    "## HIV training topics among non-clinical providers"
   ]
  },
  {
   "cell_type": "code",
   "execution_count": 246,
   "id": "37a3d8a8-186b-4eff-ab9e-912c0ecc980e",
   "metadata": {},
   "outputs": [
    {
     "data": {
      "text/html": [
       "<dl>\n",
       "\t<dt>$top3_topics</dt>\n",
       "\t\t<dd><style>\n",
       ".list-inline {list-style: none; margin:0; padding: 0}\n",
       ".list-inline>li {display: inline-block}\n",
       ".list-inline>li:not(:last-child)::after {content: \"\\00b7\"; padding: 0 .5ex}\n",
       "</style>\n",
       "<ol class=list-inline><li>'Q198'</li><li>'Q199'</li><li>'Q200'</li></ol>\n",
       "</dd>\n",
       "\t<dt>$percentages</dt>\n",
       "\t\t<dd><style>\n",
       ".dl-inline {width: auto; margin:0; padding: 0}\n",
       ".dl-inline>dt, .dl-inline>dd {float: none; width: auto; display: inline-block}\n",
       ".dl-inline>dt::after {content: \":\\0020\"; padding-right: .5ex}\n",
       ".dl-inline>dt:not(:first-of-type) {padding-left: .5ex}\n",
       "</style><dl class=dl-inline><dt>Q198</dt><dd>52.3972602739726</dd><dt>Q199</dt><dd>37.1575342465753</dd><dt>Q200</dt><dd>35.6164383561644</dd></dl>\n",
       "</dd>\n",
       "</dl>\n"
      ],
      "text/latex": [
       "\\begin{description}\n",
       "\\item[\\$top3\\_topics] \\begin{enumerate*}\n",
       "\\item 'Q198'\n",
       "\\item 'Q199'\n",
       "\\item 'Q200'\n",
       "\\end{enumerate*}\n",
       "\n",
       "\\item[\\$percentages] \\begin{description*}\n",
       "\\item[Q198] 52.3972602739726\n",
       "\\item[Q199] 37.1575342465753\n",
       "\\item[Q200] 35.6164383561644\n",
       "\\end{description*}\n",
       "\n",
       "\\end{description}\n"
      ],
      "text/markdown": [
       "$top3_topics\n",
       ":   1. 'Q198'\n",
       "2. 'Q199'\n",
       "3. 'Q200'\n",
       "\n",
       "\n",
       "\n",
       "$percentages\n",
       ":   Q198\n",
       ":   52.3972602739726Q199\n",
       ":   37.1575342465753Q200\n",
       ":   35.6164383561644\n",
       "\n",
       "\n",
       "\n",
       "\n"
      ],
      "text/plain": [
       "$top3_topics\n",
       "[1] \"Q198\" \"Q199\" \"Q200\"\n",
       "\n",
       "$percentages\n",
       "    Q198     Q199     Q200 \n",
       "52.39726 37.15753 35.61644 \n"
      ]
     },
     "metadata": {},
     "output_type": "display_data"
    }
   ],
   "source": [
    "# Get top 3 topics and percentages for clinical providers\n",
    "hiv_nc_results <- get_top3_and_percentage(nc_provider_groups_data, hiv_topics)\n",
    "hiv_nc_results"
   ]
  },
  {
   "cell_type": "markdown",
   "id": "f4394680-d551-4207-bfe4-eb8aae96f369",
   "metadata": {},
   "source": [
    "### HIV training topics by non-clinical provider group"
   ]
  },
  {
   "cell_type": "code",
   "execution_count": 247,
   "id": "b00b362f-614a-4a65-a66a-227ac27d3012",
   "metadata": {
    "tags": []
   },
   "outputs": [
    {
     "name": "stdout",
     "output_type": "stream",
     "text": [
      "Non-Clinical Provider Group: Administrators \n",
      "Top 3 Topics: Q198 Q205 Q199 \n",
      "Percentages: 50.50505 44.44444 41.41414 \n",
      "\n",
      "Non-Clinical Provider Group: Health Education and Testing \n",
      "Top 3 Topics: Q198 Q199 Q200 \n",
      "Percentages: 66.66667 66.66667 33.33333 \n",
      "\n",
      "Non-Clinical Provider Group: Case Managers/Social Workers \n",
      "Top 3 Topics: Q198 Q199 Q200 \n",
      "Percentages: 50 50 33.33333 \n",
      "\n",
      "Non-Clinical Provider Group: Patient Supporters and Navigators \n",
      "Top 3 Topics: Q199 Q200 Q198 \n",
      "Percentages: 46.875 37.5 34.375 \n",
      "\n",
      "Non-Clinical Provider Group: Program Coordinators/Managers/Directors \n",
      "Top 3 Topics: Q205 Q206 Q198 \n",
      "Percentages: 50 50 42.85714 \n",
      "\n",
      "Non-Clinical Provider Group: Outreach \n",
      "Top 3 Topics: Q198 Q199 Q203 \n",
      "Percentages: 59.42029 44.92754 30.43478 \n",
      "\n",
      "Non-Clinical Provider Group: Other \n",
      "Top 3 Topics: Q198 Q200 Q199 \n",
      "Percentages: 53.23944 40.28169 32.67606 \n",
      "\n"
     ]
    }
   ],
   "source": [
    "# Define the non-clinical provider groups\n",
    "nc_provider_groups <- c('Administrators', 'Health Education and Testing', 'Case Managers/Social Workers',\n",
    "                       'Patient Supporters and Navigators', 'Program Coordinators/Managers/Directors',\n",
    "                       'Outreach', 'Other')\n",
    "\n",
    "# Get top 3 topics and percentages for each non-clinical provider group\n",
    "for (nc_provider_group in nc_provider_groups) {\n",
    "  nc_group_data <- nc_provider_groups_data[nc_provider_groups_data$nc_prov_grps == nc_provider_group, ]\n",
    "  result <- get_top3_and_percentage(nc_group_data, hiv_topics)\n",
    "  results[[nc_provider_group]] <- result\n",
    "}\n",
    "\n",
    "# Print the results for each non-clinical provider group\n",
    "for (nc_provider_group in nc_provider_groups) {\n",
    "  cat(\"Non-Clinical Provider Group:\", nc_provider_group, \"\\n\")\n",
    "  cat(\"Top 3 Topics:\", results[[nc_provider_group]]$top3_topics, \"\\n\")\n",
    "  cat(\"Percentages:\", results[[nc_provider_group]]$percentages, \"\\n\\n\")\n",
    "}"
   ]
  },
  {
   "cell_type": "markdown",
   "id": "83f535c5-42fa-40ac-bd39-b707620276f1",
   "metadata": {},
   "source": [
    "## LGBTQ training topics among non-clinical providers"
   ]
  },
  {
   "cell_type": "code",
   "execution_count": 248,
   "id": "686d9e4b-2886-4486-92c6-bd06a1a9ce30",
   "metadata": {},
   "outputs": [
    {
     "data": {
      "text/html": [
       "<dl>\n",
       "\t<dt>$top3_topics</dt>\n",
       "\t\t<dd><style>\n",
       ".list-inline {list-style: none; margin:0; padding: 0}\n",
       ".list-inline>li {display: inline-block}\n",
       ".list-inline>li:not(:last-child)::after {content: \"\\00b7\"; padding: 0 .5ex}\n",
       "</style>\n",
       "<ol class=list-inline><li>'Q234'</li><li>'Q228'</li><li>'Q230'</li></ol>\n",
       "</dd>\n",
       "\t<dt>$percentages</dt>\n",
       "\t\t<dd><style>\n",
       ".dl-inline {width: auto; margin:0; padding: 0}\n",
       ".dl-inline>dt, .dl-inline>dd {float: none; width: auto; display: inline-block}\n",
       ".dl-inline>dt::after {content: \":\\0020\"; padding-right: .5ex}\n",
       ".dl-inline>dt:not(:first-of-type) {padding-left: .5ex}\n",
       "</style><dl class=dl-inline><dt>Q234</dt><dd>47.9009687836383</dd><dt>Q228</dt><dd>47.2551130247578</dd><dt>Q230</dt><dd>42.3035522066738</dd></dl>\n",
       "</dd>\n",
       "</dl>\n"
      ],
      "text/latex": [
       "\\begin{description}\n",
       "\\item[\\$top3\\_topics] \\begin{enumerate*}\n",
       "\\item 'Q234'\n",
       "\\item 'Q228'\n",
       "\\item 'Q230'\n",
       "\\end{enumerate*}\n",
       "\n",
       "\\item[\\$percentages] \\begin{description*}\n",
       "\\item[Q234] 47.9009687836383\n",
       "\\item[Q228] 47.2551130247578\n",
       "\\item[Q230] 42.3035522066738\n",
       "\\end{description*}\n",
       "\n",
       "\\end{description}\n"
      ],
      "text/markdown": [
       "$top3_topics\n",
       ":   1. 'Q234'\n",
       "2. 'Q228'\n",
       "3. 'Q230'\n",
       "\n",
       "\n",
       "\n",
       "$percentages\n",
       ":   Q234\n",
       ":   47.9009687836383Q228\n",
       ":   47.2551130247578Q230\n",
       ":   42.3035522066738\n",
       "\n",
       "\n",
       "\n",
       "\n"
      ],
      "text/plain": [
       "$top3_topics\n",
       "[1] \"Q234\" \"Q228\" \"Q230\"\n",
       "\n",
       "$percentages\n",
       "    Q234     Q228     Q230 \n",
       "47.90097 47.25511 42.30355 \n"
      ]
     },
     "metadata": {},
     "output_type": "display_data"
    }
   ],
   "source": [
    "# Get top 3 topics and percentages for clinical providers\n",
    "lgbtq_nc_results <- get_top3_and_percentage(nc_provider_groups_data, lgbtq_topics)\n",
    "lgbtq_nc_results"
   ]
  },
  {
   "cell_type": "markdown",
   "id": "48789cc2-8247-4408-900a-f2b0a4ac688a",
   "metadata": {},
   "source": [
    "### LGBTQ training topics by non-clinical provider group"
   ]
  },
  {
   "cell_type": "code",
   "execution_count": 249,
   "id": "ef3d0be5-f2e5-4854-ae2a-b6745d658f12",
   "metadata": {},
   "outputs": [
    {
     "name": "stdout",
     "output_type": "stream",
     "text": [
      "Non-Clinical Provider Group: Administrators \n",
      "Top 3 Topics: Q230 Q234 Q228 \n",
      "Percentages: 58.9404 49.66887 49.00662 \n",
      "\n",
      "Non-Clinical Provider Group: Health Education and Testing \n",
      "Top 3 Topics: Q230 Q234 Q228 \n",
      "Percentages: 58.33333 58.33333 45.83333 \n",
      "\n",
      "Non-Clinical Provider Group: Case Managers/Social Workers \n",
      "Top 3 Topics: Q234 Q228 Q230 \n",
      "Percentages: 66.66667 41.66667 41.66667 \n",
      "\n",
      "Non-Clinical Provider Group: Patient Supporters and Navigators \n",
      "Top 3 Topics: Q234 Q233 Q227 \n",
      "Percentages: 57.14286 44.89796 38.77551 \n",
      "\n",
      "Non-Clinical Provider Group: Program Coordinators/Managers/Directors \n",
      "Top 3 Topics: Q228 Q234 Q233 \n",
      "Percentages: 60.86957 52.17391 43.47826 \n",
      "\n",
      "Non-Clinical Provider Group: Outreach \n",
      "Top 3 Topics: Q234 Q228 Q230 \n",
      "Percentages: 48.0315 44.09449 39.37008 \n",
      "\n",
      "Non-Clinical Provider Group: Other \n",
      "Top 3 Topics: Q228 Q234 Q233 \n",
      "Percentages: 48.0663 45.48803 42.35727 \n",
      "\n"
     ]
    }
   ],
   "source": [
    "# Get top 3 topics and percentages for each non-clinical provider group\n",
    "for (nc_provider_group in nc_provider_groups) {\n",
    "  nc_group_data <- nc_provider_groups_data[nc_provider_groups_data$nc_prov_grps == nc_provider_group, ]\n",
    "  result <- get_top3_and_percentage(nc_group_data, lgbtq_topics)\n",
    "  results[[nc_provider_group]] <- result\n",
    "}\n",
    "\n",
    "# Print the results for each non-clinical provider group\n",
    "for (nc_provider_group in nc_provider_groups) {\n",
    "  cat(\"Non-Clinical Provider Group:\", nc_provider_group, \"\\n\")\n",
    "  cat(\"Top 3 Topics:\", results[[nc_provider_group]]$top3_topics, \"\\n\")\n",
    "  cat(\"Percentages:\", results[[nc_provider_group]]$percentages, \"\\n\\n\")\n",
    "}"
   ]
  },
  {
   "cell_type": "markdown",
   "id": "ab60e69c-abb1-40bf-a042-29395eef264e",
   "metadata": {},
   "source": [
    "## PrEP training topics among non-clinical providers"
   ]
  },
  {
   "cell_type": "code",
   "execution_count": 250,
   "id": "81d58fb3-93a6-40bb-a4d2-aa0307ef1389",
   "metadata": {},
   "outputs": [
    {
     "data": {
      "text/html": [
       "<dl>\n",
       "\t<dt>$top3_topics</dt>\n",
       "\t\t<dd><style>\n",
       ".list-inline {list-style: none; margin:0; padding: 0}\n",
       ".list-inline>li {display: inline-block}\n",
       ".list-inline>li:not(:last-child)::after {content: \"\\00b7\"; padding: 0 .5ex}\n",
       "</style>\n",
       "<ol class=list-inline><li>'Q214'</li><li>'Q211'</li><li>'Q218'</li></ol>\n",
       "</dd>\n",
       "\t<dt>$percentages</dt>\n",
       "\t\t<dd><style>\n",
       ".dl-inline {width: auto; margin:0; padding: 0}\n",
       ".dl-inline>dt, .dl-inline>dd {float: none; width: auto; display: inline-block}\n",
       ".dl-inline>dt::after {content: \":\\0020\"; padding-right: .5ex}\n",
       ".dl-inline>dt:not(:first-of-type) {padding-left: .5ex}\n",
       "</style><dl class=dl-inline><dt>Q214</dt><dd>37.245696400626</dd><dt>Q211</dt><dd>30.5164319248826</dd><dt>Q218</dt><dd>30.3599374021909</dd></dl>\n",
       "</dd>\n",
       "</dl>\n"
      ],
      "text/latex": [
       "\\begin{description}\n",
       "\\item[\\$top3\\_topics] \\begin{enumerate*}\n",
       "\\item 'Q214'\n",
       "\\item 'Q211'\n",
       "\\item 'Q218'\n",
       "\\end{enumerate*}\n",
       "\n",
       "\\item[\\$percentages] \\begin{description*}\n",
       "\\item[Q214] 37.245696400626\n",
       "\\item[Q211] 30.5164319248826\n",
       "\\item[Q218] 30.3599374021909\n",
       "\\end{description*}\n",
       "\n",
       "\\end{description}\n"
      ],
      "text/markdown": [
       "$top3_topics\n",
       ":   1. 'Q214'\n",
       "2. 'Q211'\n",
       "3. 'Q218'\n",
       "\n",
       "\n",
       "\n",
       "$percentages\n",
       ":   Q214\n",
       ":   37.245696400626Q211\n",
       ":   30.5164319248826Q218\n",
       ":   30.3599374021909\n",
       "\n",
       "\n",
       "\n",
       "\n"
      ],
      "text/plain": [
       "$top3_topics\n",
       "[1] \"Q214\" \"Q211\" \"Q218\"\n",
       "\n",
       "$percentages\n",
       "    Q214     Q211     Q218 \n",
       "37.24570 30.51643 30.35994 \n"
      ]
     },
     "metadata": {},
     "output_type": "display_data"
    }
   ],
   "source": [
    "# Get top 3 topics and percentages for clinical providers\n",
    "prep_nc_results <- get_top3_and_percentage(nc_provider_groups_data, prep_topics)\n",
    "prep_nc_results"
   ]
  },
  {
   "cell_type": "markdown",
   "id": "56d1bf91-10dd-42e7-9383-939dbc8179aa",
   "metadata": {},
   "source": [
    "## PrEP training topics by non-clinical provider group"
   ]
  },
  {
   "cell_type": "code",
   "execution_count": 251,
   "id": "c26fc378-af5c-4940-b26c-caa19ce84d9d",
   "metadata": {},
   "outputs": [
    {
     "name": "stdout",
     "output_type": "stream",
     "text": [
      "Non-Clinical Provider Group: Administrators \n",
      "Top 3 Topics: Q211 Q218 Q214 \n",
      "Percentages: 35.39823 30.0885 28.31858 \n",
      "\n",
      "Non-Clinical Provider Group: Health Education and Testing \n",
      "Top 3 Topics: Q214 Q218 Q213 \n",
      "Percentages: 70 50 40 \n",
      "\n",
      "Non-Clinical Provider Group: Case Managers/Social Workers \n",
      "Top 3 Topics: Q213 Q214 Q212 \n",
      "Percentages: 42.85714 42.85714 28.57143 \n",
      "\n",
      "Non-Clinical Provider Group: Patient Supporters and Navigators \n",
      "Top 3 Topics: Q214 Q218 Q211 \n",
      "Percentages: 44.44444 41.66667 25 \n",
      "\n",
      "Non-Clinical Provider Group: Program Coordinators/Managers/Directors \n",
      "Top 3 Topics: Q214 Q218 Q220 \n",
      "Percentages: 38.88889 33.33333 33.33333 \n",
      "\n",
      "Non-Clinical Provider Group: Outreach \n",
      "Top 3 Topics: Q211 Q214 Q218 \n",
      "Percentages: 39.47368 38.15789 38.15789 \n",
      "\n",
      "Non-Clinical Provider Group: Other \n",
      "Top 3 Topics: Q214 Q211 Q213 \n",
      "Percentages: 37.99472 29.02375 27.17678 \n",
      "\n"
     ]
    }
   ],
   "source": [
    "# Get top 3 topics and percentages for each non-clinical provider group\n",
    "for (nc_provider_group in nc_provider_groups) {\n",
    "  nc_group_data <- nc_provider_groups_data[nc_provider_groups_data$nc_prov_grps == nc_provider_group, ]\n",
    "  result <- get_top3_and_percentage(nc_group_data, prep_topics)\n",
    "  results[[nc_provider_group]] <- result\n",
    "}\n",
    "\n",
    "# Print the results for each non-clinical provider group\n",
    "for (nc_provider_group in nc_provider_groups) {\n",
    "  cat(\"Non-Clinical Provider Group:\", nc_provider_group, \"\\n\")\n",
    "  cat(\"Top 3 Topics:\", results[[nc_provider_group]]$top3_topics, \"\\n\")\n",
    "  cat(\"Percentages:\", results[[nc_provider_group]]$percentages, \"\\n\\n\")\n",
    "}"
   ]
  },
  {
   "cell_type": "markdown",
   "id": "bb0e74f0-53ee-473c-8c6c-5fc099de521e",
   "metadata": {},
   "source": [
    "# Gilead Needs Assessment Data"
   ]
  },
  {
   "cell_type": "markdown",
   "id": "e493d97d-51ce-4e41-bde6-a6e365557cdd",
   "metadata": {},
   "source": [
    "## 1. How often do you refer the following complex cases (Q613-Q616)"
   ]
  },
  {
   "cell_type": "code",
   "execution_count": 252,
   "id": "736c1f92-8ae6-498e-8c40-9df983a7c432",
   "metadata": {},
   "outputs": [
    {
     "data": {
      "text/plain": [
       "\n",
       "All of time time Most of the time None of the time Some of the time \n",
       "              41               18              111               41 \n",
       "          Unsure \n",
       "              63 "
      ]
     },
     "metadata": {},
     "output_type": "display_data"
    },
    {
     "data": {
      "text/plain": [
       "\n",
       "All of time time Most of the time None of the time Some of the time \n",
       "       14.963504         6.569343        40.510949        14.963504 \n",
       "          Unsure \n",
       "       22.992701 "
      ]
     },
     "metadata": {},
     "output_type": "display_data"
    }
   ],
   "source": [
    "# Q613 How often do you refer the following complex cases: Choosing an atypical ART regimen in the setting of medication class resistance\n",
    "atypical_art_counts <- table(final_data$Q613)\n",
    "atypical_art_counts\n",
    "atypical_art_perc <- prop.table(atypical_art_counts)*100\n",
    "atypical_art_perc"
   ]
  },
  {
   "cell_type": "code",
   "execution_count": 253,
   "id": "4573ed8c-8508-4ca6-af59-6f884f76054f",
   "metadata": {},
   "outputs": [
    {
     "data": {
      "text/plain": [
       "\n",
       "All of time time Most of the time None of the time Some of the time \n",
       "              48               22               82               67 \n",
       "          Unsure \n",
       "              59 "
      ]
     },
     "metadata": {},
     "output_type": "display_data"
    },
    {
     "data": {
      "text/plain": [
       "\n",
       "All of time time Most of the time None of the time Some of the time \n",
       "       17.266187         7.913669        29.496403        24.100719 \n",
       "          Unsure \n",
       "       21.223022 "
      ]
     },
     "metadata": {},
     "output_type": "display_data"
    }
   ],
   "source": [
    "# Q614 How often do you refer the following complex cases: Treating Opportunistic Infections (e.g. toxoplasmosis, tuberculosis, Kaposi's Sarcoma)\n",
    "opportunistic_infec_counts <- table(final_data$Q614)\n",
    "opportunistic_infec_counts\n",
    "opportunistic_infec_perc <- prop.table(opportunistic_infec_counts)*100\n",
    "opportunistic_infec_perc"
   ]
  },
  {
   "cell_type": "code",
   "execution_count": 254,
   "id": "9ceb6698-43d7-41de-95e6-4dda998beeda",
   "metadata": {},
   "outputs": [
    {
     "data": {
      "text/plain": [
       "\n",
       "All of time time Most of the time None of the time Some of the time \n",
       "              62               26              102               42 \n",
       "          Unsure \n",
       "              51 "
      ]
     },
     "metadata": {},
     "output_type": "display_data"
    },
    {
     "data": {
      "text/plain": [
       "\n",
       "All of time time Most of the time None of the time Some of the time \n",
       "       21.908127         9.187279        36.042403        14.840989 \n",
       "          Unsure \n",
       "       18.021201 "
      ]
     },
     "metadata": {},
     "output_type": "display_data"
    }
   ],
   "source": [
    "# Q615 How often do you refer the following complex cases: Treating HIV/HCV co-infection\n",
    "hivhcv_coinfec_counts <- table(final_data$Q615)\n",
    "hivhcv_coinfec_counts\n",
    "hivhcv_coinfec_perc <- prop.table(hivhcv_coinfec_counts)*100\n",
    "hivhcv_coinfec_perc"
   ]
  },
  {
   "cell_type": "code",
   "execution_count": 255,
   "id": "ae0be60d-f149-425c-a03b-2dc0e8c0edc4",
   "metadata": {},
   "outputs": [
    {
     "data": {
      "text/plain": [
       "\n",
       "All of time time Most of the time None of the time Some of the time \n",
       "              86               19               81               33 \n",
       "          Unsure \n",
       "              58 "
      ]
     },
     "metadata": {},
     "output_type": "display_data"
    },
    {
     "data": {
      "text/plain": [
       "\n",
       "All of time time Most of the time None of the time Some of the time \n",
       "       31.046931         6.859206        29.241877        11.913357 \n",
       "          Unsure \n",
       "       20.938628 "
      ]
     },
     "metadata": {},
     "output_type": "display_data"
    }
   ],
   "source": [
    "# Q616 How often do you refer the following complex cases: HIV treatment in pregnancy\n",
    "hiv_pregnancy_counts <- table(final_data$Q616)\n",
    "hiv_pregnancy_counts\n",
    "hiv_pregnancy_perc <- prop.table(hiv_pregnancy_counts)*100\n",
    "hiv_pregnancy_perc"
   ]
  },
  {
   "cell_type": "markdown",
   "id": "46726c46-a8a6-4941-b486-9f7fce938158",
   "metadata": {},
   "source": [
    "## What do you think are the most timely and important HIV care topics right now (Q618-Q632)"
   ]
  },
  {
   "cell_type": "markdown",
   "id": "979adeaf-240d-4c9e-92b9-aa27a23b177e",
   "metadata": {},
   "source": [
    "### Total responses"
   ]
  },
  {
   "cell_type": "code",
   "execution_count": 256,
   "id": "768e91b8-6464-4038-b8da-f3a6d7c29c93",
   "metadata": {},
   "outputs": [],
   "source": [
    "# Create a vector of column names representing the HIV care topic columns (Q617-Q6)\n",
    "hivcare_topics <- c(\"Q617\", \"Q618\", \"Q619\", \"Q620\", \"Q621\",\"Q622\",\"Q623\",\"Q624\",\"Q625\",\"Q626\",\"Q627\",\"Q628\",\"Q629\",\"Q630\", \"Q630\", \"Q631\")"
   ]
  },
  {
   "cell_type": "code",
   "execution_count": 257,
   "id": "34f0cd4e-b629-4d97-80b3-21d0b112f48f",
   "metadata": {},
   "outputs": [],
   "source": [
    "get_option_counts_and_percentage <- function(data, topics) {\n",
    "  # Calculate the counts for each option within the data\n",
    "  option_counts <- sapply(topics, function(topic) sum(data[[topic]] == 1, na.rm = TRUE))\n",
    "  \n",
    "  # Sort the topics based on their counts in descending order\n",
    "  sorted_options <- sort(option_counts, decreasing = TRUE)  \n",
    "\n",
    "  # Calculate the total count of respondents who provided a response for any of the options within the data\n",
    "  total_respondents <- sum(rowSums(!is.na(data[, topics])) > 0)\n",
    "\n",
    "  # Calculate the percentages for each option\n",
    "  percentages <- (option_counts / total_respondents) * 100\n",
    "\n",
    "  # Return the counts and percentages as a named list\n",
    "  return(list(\n",
    "    option_counts = sorted_options,\n",
    "    percentages = percentages\n",
    "  ))\n",
    "}"
   ]
  },
  {
   "cell_type": "code",
   "execution_count": 258,
   "id": "22e99d6a-7be3-4ea1-81ca-1b22cdd886ff",
   "metadata": {},
   "outputs": [
    {
     "data": {
      "text/html": [
       "<dl>\n",
       "\t<dt>$option_counts</dt>\n",
       "\t\t<dd><style>\n",
       ".dl-inline {width: auto; margin:0; padding: 0}\n",
       ".dl-inline>dt, .dl-inline>dd {float: none; width: auto; display: inline-block}\n",
       ".dl-inline>dt::after {content: \":\\0020\"; padding-right: .5ex}\n",
       ".dl-inline>dt:not(:first-of-type) {padding-left: .5ex}\n",
       "</style><dl class=dl-inline><dt>Q619</dt><dd>403</dd><dt>Q617</dt><dd>399</dd><dt>Q625</dt><dd>382</dd><dt>Q628</dt><dd>331</dd><dt>Q618</dt><dd>319</dd><dt>Q620</dt><dd>315</dd><dt>Q629</dt><dd>299</dd><dt>Q626</dt><dd>286</dd><dt>Q623</dt><dd>281</dd><dt>Q624</dt><dd>250</dd><dt>Q621</dt><dd>182</dd><dt>Q627</dt><dd>164</dd><dt>Q622</dt><dd>143</dd><dt>Q630</dt><dd>14</dd><dt>Q630</dt><dd>14</dd><dt>Q631</dt><dd>3</dd></dl>\n",
       "</dd>\n",
       "\t<dt>$percentages</dt>\n",
       "\t\t<dd><style>\n",
       ".dl-inline {width: auto; margin:0; padding: 0}\n",
       ".dl-inline>dt, .dl-inline>dd {float: none; width: auto; display: inline-block}\n",
       ".dl-inline>dt::after {content: \":\\0020\"; padding-right: .5ex}\n",
       ".dl-inline>dt:not(:first-of-type) {padding-left: .5ex}\n",
       "</style><dl class=dl-inline><dt>Q617</dt><dd>60.3630862329803</dd><dt>Q618</dt><dd>48.2602118003026</dd><dt>Q619</dt><dd>60.9682299546142</dd><dt>Q620</dt><dd>47.6550680786687</dd><dt>Q621</dt><dd>27.5340393343419</dd><dt>Q622</dt><dd>21.6338880484115</dd><dt>Q623</dt><dd>42.5113464447806</dd><dt>Q624</dt><dd>37.821482602118</dd><dt>Q625</dt><dd>57.7912254160363</dd><dt>Q626</dt><dd>43.267776096823</dd><dt>Q627</dt><dd>24.8108925869894</dd><dt>Q628</dt><dd>50.0756429652042</dd><dt>Q629</dt><dd>45.2344931921331</dd><dt>Q630</dt><dd>2.11800302571861</dd><dt>Q630</dt><dd>2.11800302571861</dd><dt>Q631</dt><dd>0.453857791225416</dd></dl>\n",
       "</dd>\n",
       "</dl>\n"
      ],
      "text/latex": [
       "\\begin{description}\n",
       "\\item[\\$option\\_counts] \\begin{description*}\n",
       "\\item[Q619] 403\n",
       "\\item[Q617] 399\n",
       "\\item[Q625] 382\n",
       "\\item[Q628] 331\n",
       "\\item[Q618] 319\n",
       "\\item[Q620] 315\n",
       "\\item[Q629] 299\n",
       "\\item[Q626] 286\n",
       "\\item[Q623] 281\n",
       "\\item[Q624] 250\n",
       "\\item[Q621] 182\n",
       "\\item[Q627] 164\n",
       "\\item[Q622] 143\n",
       "\\item[Q630] 14\n",
       "\\item[Q630] 14\n",
       "\\item[Q631] 3\n",
       "\\end{description*}\n",
       "\n",
       "\\item[\\$percentages] \\begin{description*}\n",
       "\\item[Q617] 60.3630862329803\n",
       "\\item[Q618] 48.2602118003026\n",
       "\\item[Q619] 60.9682299546142\n",
       "\\item[Q620] 47.6550680786687\n",
       "\\item[Q621] 27.5340393343419\n",
       "\\item[Q622] 21.6338880484115\n",
       "\\item[Q623] 42.5113464447806\n",
       "\\item[Q624] 37.821482602118\n",
       "\\item[Q625] 57.7912254160363\n",
       "\\item[Q626] 43.267776096823\n",
       "\\item[Q627] 24.8108925869894\n",
       "\\item[Q628] 50.0756429652042\n",
       "\\item[Q629] 45.2344931921331\n",
       "\\item[Q630] 2.11800302571861\n",
       "\\item[Q630] 2.11800302571861\n",
       "\\item[Q631] 0.453857791225416\n",
       "\\end{description*}\n",
       "\n",
       "\\end{description}\n"
      ],
      "text/markdown": [
       "$option_counts\n",
       ":   Q619\n",
       ":   403Q617\n",
       ":   399Q625\n",
       ":   382Q628\n",
       ":   331Q618\n",
       ":   319Q620\n",
       ":   315Q629\n",
       ":   299Q626\n",
       ":   286Q623\n",
       ":   281Q624\n",
       ":   250Q621\n",
       ":   182Q627\n",
       ":   164Q622\n",
       ":   143Q630\n",
       ":   14Q630\n",
       ":   14Q631\n",
       ":   3\n",
       "\n",
       "\n",
       "$percentages\n",
       ":   Q617\n",
       ":   60.3630862329803Q618\n",
       ":   48.2602118003026Q619\n",
       ":   60.9682299546142Q620\n",
       ":   47.6550680786687Q621\n",
       ":   27.5340393343419Q622\n",
       ":   21.6338880484115Q623\n",
       ":   42.5113464447806Q624\n",
       ":   37.821482602118Q625\n",
       ":   57.7912254160363Q626\n",
       ":   43.267776096823Q627\n",
       ":   24.8108925869894Q628\n",
       ":   50.0756429652042Q629\n",
       ":   45.2344931921331Q630\n",
       ":   2.11800302571861Q630\n",
       ":   2.11800302571861Q631\n",
       ":   0.453857791225416\n",
       "\n",
       "\n",
       "\n",
       "\n"
      ],
      "text/plain": [
       "$option_counts\n",
       "Q619 Q617 Q625 Q628 Q618 Q620 Q629 Q626 Q623 Q624 Q621 Q627 Q622 Q630 Q630 Q631 \n",
       " 403  399  382  331  319  315  299  286  281  250  182  164  143   14   14    3 \n",
       "\n",
       "$percentages\n",
       "      Q617       Q618       Q619       Q620       Q621       Q622       Q623 \n",
       "60.3630862 48.2602118 60.9682300 47.6550681 27.5340393 21.6338880 42.5113464 \n",
       "      Q624       Q625       Q626       Q627       Q628       Q629       Q630 \n",
       "37.8214826 57.7912254 43.2677761 24.8108926 50.0756430 45.2344932  2.1180030 \n",
       "      Q630       Q631 \n",
       " 2.1180030  0.4538578 \n"
      ]
     },
     "metadata": {},
     "output_type": "display_data"
    }
   ],
   "source": [
    "# Create a list to store results\n",
    "hivcare_results <- list()\n",
    "\n",
    "# Call the 'get_top3_and_percentage' function with the 'final_data' and 'hivcare_topics'\n",
    "hivcare_results <- get_option_counts_and_percentage(final_data, hivcare_topics)\n",
    "hivcare_results"
   ]
  },
  {
   "cell_type": "markdown",
   "id": "410aec1e-4266-42e6-bd77-6ac2284381a3",
   "metadata": {},
   "source": [
    "### Clinical - overall"
   ]
  },
  {
   "cell_type": "code",
   "execution_count": 259,
   "id": "774f56d8-41a0-4309-8975-cc6d1e34ae69",
   "metadata": {},
   "outputs": [
    {
     "data": {
      "text/html": [
       "<dl>\n",
       "\t<dt>$option_counts</dt>\n",
       "\t\t<dd><style>\n",
       ".dl-inline {width: auto; margin:0; padding: 0}\n",
       ".dl-inline>dt, .dl-inline>dd {float: none; width: auto; display: inline-block}\n",
       ".dl-inline>dt::after {content: \":\\0020\"; padding-right: .5ex}\n",
       ".dl-inline>dt:not(:first-of-type) {padding-left: .5ex}\n",
       "</style><dl class=dl-inline><dt>Q619</dt><dd>132</dd><dt>Q617</dt><dd>127</dd><dt>Q625</dt><dd>118</dd><dt>Q628</dt><dd>112</dd><dt>Q618</dt><dd>102</dd><dt>Q629</dt><dd>92</dd><dt>Q623</dt><dd>89</dd><dt>Q620</dt><dd>86</dd><dt>Q624</dt><dd>84</dd><dt>Q626</dt><dd>82</dd><dt>Q627</dt><dd>50</dd><dt>Q621</dt><dd>45</dd><dt>Q622</dt><dd>40</dd><dt>Q630</dt><dd>2</dd><dt>Q630</dt><dd>2</dd><dt>Q631</dt><dd>2</dd></dl>\n",
       "</dd>\n",
       "\t<dt>$percentages</dt>\n",
       "\t\t<dd><style>\n",
       ".dl-inline {width: auto; margin:0; padding: 0}\n",
       ".dl-inline>dt, .dl-inline>dd {float: none; width: auto; display: inline-block}\n",
       ".dl-inline>dt::after {content: \":\\0020\"; padding-right: .5ex}\n",
       ".dl-inline>dt:not(:first-of-type) {padding-left: .5ex}\n",
       "</style><dl class=dl-inline><dt>Q617</dt><dd>57.9908675799087</dd><dt>Q618</dt><dd>46.5753424657534</dd><dt>Q619</dt><dd>60.2739726027397</dd><dt>Q620</dt><dd>39.2694063926941</dd><dt>Q621</dt><dd>20.5479452054795</dd><dt>Q622</dt><dd>18.2648401826484</dd><dt>Q623</dt><dd>40.6392694063927</dd><dt>Q624</dt><dd>38.3561643835616</dd><dt>Q625</dt><dd>53.8812785388128</dd><dt>Q626</dt><dd>37.4429223744292</dd><dt>Q627</dt><dd>22.8310502283105</dd><dt>Q628</dt><dd>51.1415525114155</dd><dt>Q629</dt><dd>42.0091324200913</dd><dt>Q630</dt><dd>0.91324200913242</dd><dt>Q630</dt><dd>0.91324200913242</dd><dt>Q631</dt><dd>0.91324200913242</dd></dl>\n",
       "</dd>\n",
       "</dl>\n"
      ],
      "text/latex": [
       "\\begin{description}\n",
       "\\item[\\$option\\_counts] \\begin{description*}\n",
       "\\item[Q619] 132\n",
       "\\item[Q617] 127\n",
       "\\item[Q625] 118\n",
       "\\item[Q628] 112\n",
       "\\item[Q618] 102\n",
       "\\item[Q629] 92\n",
       "\\item[Q623] 89\n",
       "\\item[Q620] 86\n",
       "\\item[Q624] 84\n",
       "\\item[Q626] 82\n",
       "\\item[Q627] 50\n",
       "\\item[Q621] 45\n",
       "\\item[Q622] 40\n",
       "\\item[Q630] 2\n",
       "\\item[Q630] 2\n",
       "\\item[Q631] 2\n",
       "\\end{description*}\n",
       "\n",
       "\\item[\\$percentages] \\begin{description*}\n",
       "\\item[Q617] 57.9908675799087\n",
       "\\item[Q618] 46.5753424657534\n",
       "\\item[Q619] 60.2739726027397\n",
       "\\item[Q620] 39.2694063926941\n",
       "\\item[Q621] 20.5479452054795\n",
       "\\item[Q622] 18.2648401826484\n",
       "\\item[Q623] 40.6392694063927\n",
       "\\item[Q624] 38.3561643835616\n",
       "\\item[Q625] 53.8812785388128\n",
       "\\item[Q626] 37.4429223744292\n",
       "\\item[Q627] 22.8310502283105\n",
       "\\item[Q628] 51.1415525114155\n",
       "\\item[Q629] 42.0091324200913\n",
       "\\item[Q630] 0.91324200913242\n",
       "\\item[Q630] 0.91324200913242\n",
       "\\item[Q631] 0.91324200913242\n",
       "\\end{description*}\n",
       "\n",
       "\\end{description}\n"
      ],
      "text/markdown": [
       "$option_counts\n",
       ":   Q619\n",
       ":   132Q617\n",
       ":   127Q625\n",
       ":   118Q628\n",
       ":   112Q618\n",
       ":   102Q629\n",
       ":   92Q623\n",
       ":   89Q620\n",
       ":   86Q624\n",
       ":   84Q626\n",
       ":   82Q627\n",
       ":   50Q621\n",
       ":   45Q622\n",
       ":   40Q630\n",
       ":   2Q630\n",
       ":   2Q631\n",
       ":   2\n",
       "\n",
       "\n",
       "$percentages\n",
       ":   Q617\n",
       ":   57.9908675799087Q618\n",
       ":   46.5753424657534Q619\n",
       ":   60.2739726027397Q620\n",
       ":   39.2694063926941Q621\n",
       ":   20.5479452054795Q622\n",
       ":   18.2648401826484Q623\n",
       ":   40.6392694063927Q624\n",
       ":   38.3561643835616Q625\n",
       ":   53.8812785388128Q626\n",
       ":   37.4429223744292Q627\n",
       ":   22.8310502283105Q628\n",
       ":   51.1415525114155Q629\n",
       ":   42.0091324200913Q630\n",
       ":   0.91324200913242Q630\n",
       ":   0.91324200913242Q631\n",
       ":   0.91324200913242\n",
       "\n",
       "\n",
       "\n",
       "\n"
      ],
      "text/plain": [
       "$option_counts\n",
       "Q619 Q617 Q625 Q628 Q618 Q629 Q623 Q620 Q624 Q626 Q627 Q621 Q622 Q630 Q630 Q631 \n",
       " 132  127  118  112  102   92   89   86   84   82   50   45   40    2    2    2 \n",
       "\n",
       "$percentages\n",
       "     Q617      Q618      Q619      Q620      Q621      Q622      Q623      Q624 \n",
       "57.990868 46.575342 60.273973 39.269406 20.547945 18.264840 40.639269 38.356164 \n",
       "     Q625      Q626      Q627      Q628      Q629      Q630      Q630      Q631 \n",
       "53.881279 37.442922 22.831050 51.141553 42.009132  0.913242  0.913242  0.913242 \n"
      ]
     },
     "metadata": {},
     "output_type": "display_data"
    }
   ],
   "source": [
    "# Create a list to store results\n",
    "hivcare_clinical_results <- list()\n",
    "\n",
    "# Call the 'get_top3_and_percentage' function with the 'prov_data' and 'hivcare_topics'\n",
    "hivcare_clinical_results <- get_option_counts_and_percentage(provider_groups_data, hivcare_topics)\n",
    "hivcare_clinical_results"
   ]
  },
  {
   "cell_type": "markdown",
   "id": "e26206fb-9abc-4dae-a134-042317b9afd0",
   "metadata": {},
   "source": [
    "### Clincal - by provider type"
   ]
  },
  {
   "cell_type": "code",
   "execution_count": 260,
   "id": "c3d7e001-c066-4401-8913-910e6487c01b",
   "metadata": {},
   "outputs": [
    {
     "name": "stdout",
     "output_type": "stream",
     "text": [
      "Provider Group: Prescribers/Providers \n",
      "Option Counts:\n",
      "Q617 Q619 Q628 Q618 Q625 Q629 Q623 Q624 Q626 Q620 Q627 Q621 Q622 Q630 Q630 Q631 \n",
      "  62   54   51   50   46   38   37   37   36   34   27   21   17    1    1    0 \n",
      "\n",
      "Option Percentages:\n",
      "     Q617      Q618      Q619      Q620      Q621      Q622      Q623      Q624 \n",
      "64.583333 52.083333 56.250000 35.416667 21.875000 17.708333 38.541667 38.541667 \n",
      "     Q625      Q626      Q627      Q628      Q629      Q630      Q630      Q631 \n",
      "47.916667 37.500000 28.125000 53.125000 39.583333  1.041667  1.041667  0.000000 \n",
      "\n",
      "\n",
      "Provider Group: Mental Health Professional \n",
      "Option Counts:\n",
      "Q619 Q629 Q620 Q625 Q628 Q626 Q617 Q623 Q618 Q624 Q621 Q622 Q627 Q630 Q630 Q631 \n",
      "  34   32   29   27   27   24   23   21   16   15    9    6    6    0    0    0 \n",
      "\n",
      "Option Percentages:\n",
      "    Q617     Q618     Q619     Q620     Q621     Q622     Q623     Q624 \n",
      "47.91667 33.33333 70.83333 60.41667 18.75000 12.50000 43.75000 31.25000 \n",
      "    Q625     Q626     Q627     Q628     Q629     Q630     Q630     Q631 \n",
      "56.25000 50.00000 12.50000 56.25000 66.66667  0.00000  0.00000  0.00000 \n",
      "\n",
      "\n",
      "Provider Group: Nurses/Medical Assistants \n",
      "Option Counts:\n",
      "Q625 Q619 Q617 Q618 Q623 Q624 Q628 Q620 Q626 Q629 Q622 Q627 Q621 Q631 Q630 Q630 \n",
      "  34   33   30   25   24   23   23   18   16   16   12   12    9    2    1    1 \n",
      "\n",
      "Option Percentages:\n",
      "     Q617      Q618      Q619      Q620      Q621      Q622      Q623      Q624 \n",
      "53.571429 44.642857 58.928571 32.142857 16.071429 21.428571 42.857143 41.071429 \n",
      "     Q625      Q626      Q627      Q628      Q629      Q630      Q630      Q631 \n",
      "60.714286 28.571429 21.428571 41.071429 28.571429  1.785714  1.785714  3.571429 \n",
      "\n",
      "\n",
      "Provider Group: Allied Health Professionals \n",
      "Option Counts:\n",
      "Q618 Q617 Q619 Q625 Q628 Q623 Q624 Q622 Q621 Q626 Q627 Q629 Q620 Q630 Q630 Q631 \n",
      "  11   10    9    7    7    6    6    5    4    4    4    4    3    0    0    0 \n",
      "\n",
      "Option Percentages:\n",
      "    Q617     Q618     Q619     Q620     Q621     Q622     Q623     Q624 \n",
      "66.66667 73.33333 60.00000 20.00000 26.66667 33.33333 40.00000 40.00000 \n",
      "    Q625     Q626     Q627     Q628     Q629     Q630     Q630     Q631 \n",
      "46.66667 26.66667 26.66667 46.66667 26.66667  0.00000  0.00000  0.00000 \n",
      "\n",
      "\n",
      "Provider Group: Other \n",
      "Option Counts:\n",
      "Q625 Q628 Q624 Q617 Q619 Q620 Q621 Q626 Q629 Q623 Q627 Q618 Q622 Q630 Q630 Q631 \n",
      "   4    4    3    2    2    2    2    2    2    1    1    0    0    0    0    0 \n",
      "\n",
      "Option Percentages:\n",
      "Q617 Q618 Q619 Q620 Q621 Q622 Q623 Q624 Q625 Q626 Q627 Q628 Q629 Q630 Q630 Q631 \n",
      "  50    0   50   50   50    0   25   75  100   50   25  100   50    0    0    0 \n",
      "\n",
      "\n"
     ]
    }
   ],
   "source": [
    "# Filter data to include only rows with provider groups\n",
    "provider_groups_data <- final_data[final_data$prov_grps %in% c('Prescribers/Providers', 'Mental Health Professional', 'Nurses/Medical Assistants', 'Allied Health Professionals', 'Other'), ]\n",
    "\n",
    "# Get top 3 topics and percentages for each clinical provider group\n",
    "for (provider_group in provider_groups) {\n",
    "  group_data <- provider_groups_data[provider_groups_data$prov_grps == provider_group, ]\n",
    "  result <- get_option_counts_and_percentage(group_data, hivcare_topics)\n",
    "\n",
    "  # Print the results for each clinical provider group\n",
    "  cat(\"Provider Group:\", provider_group, \"\\n\")\n",
    "  cat(\"Option Counts:\\n\")\n",
    "  print(result$option_counts)\n",
    "  cat(\"\\n\")\n",
    "  \n",
    "  cat(\"Option Percentages:\\n\")\n",
    "  print(result$percentages)\n",
    "  cat(\"\\n\\n\")\n",
    "}\n"
   ]
  },
  {
   "cell_type": "markdown",
   "id": "5890645f-7a84-4f9c-a8e3-37c311d85fc4",
   "metadata": {},
   "source": [
    "### Non-clinical - overall"
   ]
  },
  {
   "cell_type": "code",
   "execution_count": 261,
   "id": "934b8236-d4ec-4746-becc-eca0d90cce22",
   "metadata": {},
   "outputs": [
    {
     "data": {
      "text/html": [
       "<dl>\n",
       "\t<dt>$option_counts</dt>\n",
       "\t\t<dd><style>\n",
       ".dl-inline {width: auto; margin:0; padding: 0}\n",
       ".dl-inline>dt, .dl-inline>dd {float: none; width: auto; display: inline-block}\n",
       ".dl-inline>dt::after {content: \":\\0020\"; padding-right: .5ex}\n",
       ".dl-inline>dt:not(:first-of-type) {padding-left: .5ex}\n",
       "</style><dl class=dl-inline><dt>Q619</dt><dd>401</dd><dt>Q617</dt><dd>397</dd><dt>Q625</dt><dd>381</dd><dt>Q628</dt><dd>329</dd><dt>Q618</dt><dd>316</dd><dt>Q620</dt><dd>314</dd><dt>Q629</dt><dd>295</dd><dt>Q626</dt><dd>284</dd><dt>Q623</dt><dd>280</dd><dt>Q624</dt><dd>249</dd><dt>Q621</dt><dd>182</dd><dt>Q627</dt><dd>163</dd><dt>Q622</dt><dd>141</dd><dt>Q630</dt><dd>13</dd><dt>Q630</dt><dd>13</dd><dt>Q631</dt><dd>3</dd></dl>\n",
       "</dd>\n",
       "\t<dt>$percentages</dt>\n",
       "\t\t<dd><style>\n",
       ".dl-inline {width: auto; margin:0; padding: 0}\n",
       ".dl-inline>dt, .dl-inline>dd {float: none; width: auto; display: inline-block}\n",
       ".dl-inline>dt::after {content: \":\\0020\"; padding-right: .5ex}\n",
       ".dl-inline>dt:not(:first-of-type) {padding-left: .5ex}\n",
       "</style><dl class=dl-inline><dt>Q617</dt><dd>60.5182926829268</dd><dt>Q618</dt><dd>48.1707317073171</dd><dt>Q619</dt><dd>61.1280487804878</dd><dt>Q620</dt><dd>47.8658536585366</dd><dt>Q621</dt><dd>27.7439024390244</dd><dt>Q622</dt><dd>21.4939024390244</dd><dt>Q623</dt><dd>42.6829268292683</dd><dt>Q624</dt><dd>37.9573170731707</dd><dt>Q625</dt><dd>58.0792682926829</dd><dt>Q626</dt><dd>43.2926829268293</dd><dt>Q627</dt><dd>24.8475609756098</dd><dt>Q628</dt><dd>50.1524390243902</dd><dt>Q629</dt><dd>44.969512195122</dd><dt>Q630</dt><dd>1.98170731707317</dd><dt>Q630</dt><dd>1.98170731707317</dd><dt>Q631</dt><dd>0.457317073170732</dd></dl>\n",
       "</dd>\n",
       "</dl>\n"
      ],
      "text/latex": [
       "\\begin{description}\n",
       "\\item[\\$option\\_counts] \\begin{description*}\n",
       "\\item[Q619] 401\n",
       "\\item[Q617] 397\n",
       "\\item[Q625] 381\n",
       "\\item[Q628] 329\n",
       "\\item[Q618] 316\n",
       "\\item[Q620] 314\n",
       "\\item[Q629] 295\n",
       "\\item[Q626] 284\n",
       "\\item[Q623] 280\n",
       "\\item[Q624] 249\n",
       "\\item[Q621] 182\n",
       "\\item[Q627] 163\n",
       "\\item[Q622] 141\n",
       "\\item[Q630] 13\n",
       "\\item[Q630] 13\n",
       "\\item[Q631] 3\n",
       "\\end{description*}\n",
       "\n",
       "\\item[\\$percentages] \\begin{description*}\n",
       "\\item[Q617] 60.5182926829268\n",
       "\\item[Q618] 48.1707317073171\n",
       "\\item[Q619] 61.1280487804878\n",
       "\\item[Q620] 47.8658536585366\n",
       "\\item[Q621] 27.7439024390244\n",
       "\\item[Q622] 21.4939024390244\n",
       "\\item[Q623] 42.6829268292683\n",
       "\\item[Q624] 37.9573170731707\n",
       "\\item[Q625] 58.0792682926829\n",
       "\\item[Q626] 43.2926829268293\n",
       "\\item[Q627] 24.8475609756098\n",
       "\\item[Q628] 50.1524390243902\n",
       "\\item[Q629] 44.969512195122\n",
       "\\item[Q630] 1.98170731707317\n",
       "\\item[Q630] 1.98170731707317\n",
       "\\item[Q631] 0.457317073170732\n",
       "\\end{description*}\n",
       "\n",
       "\\end{description}\n"
      ],
      "text/markdown": [
       "$option_counts\n",
       ":   Q619\n",
       ":   401Q617\n",
       ":   397Q625\n",
       ":   381Q628\n",
       ":   329Q618\n",
       ":   316Q620\n",
       ":   314Q629\n",
       ":   295Q626\n",
       ":   284Q623\n",
       ":   280Q624\n",
       ":   249Q621\n",
       ":   182Q627\n",
       ":   163Q622\n",
       ":   141Q630\n",
       ":   13Q630\n",
       ":   13Q631\n",
       ":   3\n",
       "\n",
       "\n",
       "$percentages\n",
       ":   Q617\n",
       ":   60.5182926829268Q618\n",
       ":   48.1707317073171Q619\n",
       ":   61.1280487804878Q620\n",
       ":   47.8658536585366Q621\n",
       ":   27.7439024390244Q622\n",
       ":   21.4939024390244Q623\n",
       ":   42.6829268292683Q624\n",
       ":   37.9573170731707Q625\n",
       ":   58.0792682926829Q626\n",
       ":   43.2926829268293Q627\n",
       ":   24.8475609756098Q628\n",
       ":   50.1524390243902Q629\n",
       ":   44.969512195122Q630\n",
       ":   1.98170731707317Q630\n",
       ":   1.98170731707317Q631\n",
       ":   0.457317073170732\n",
       "\n",
       "\n",
       "\n",
       "\n"
      ],
      "text/plain": [
       "$option_counts\n",
       "Q619 Q617 Q625 Q628 Q618 Q620 Q629 Q626 Q623 Q624 Q621 Q627 Q622 Q630 Q630 Q631 \n",
       " 401  397  381  329  316  314  295  284  280  249  182  163  141   13   13    3 \n",
       "\n",
       "$percentages\n",
       "      Q617       Q618       Q619       Q620       Q621       Q622       Q623 \n",
       "60.5182927 48.1707317 61.1280488 47.8658537 27.7439024 21.4939024 42.6829268 \n",
       "      Q624       Q625       Q626       Q627       Q628       Q629       Q630 \n",
       "37.9573171 58.0792683 43.2926829 24.8475610 50.1524390 44.9695122  1.9817073 \n",
       "      Q630       Q631 \n",
       " 1.9817073  0.4573171 \n"
      ]
     },
     "metadata": {},
     "output_type": "display_data"
    }
   ],
   "source": [
    "# Create a list to store results\n",
    "hivcare_results_nc <- list()\n",
    "\n",
    "# Call the 'get_top3_and_percentage' function with the 'prov_data' and 'hivcare_topics'\n",
    "hivcare_results_nc <- get_option_counts_and_percentage(nc_provider_groups_data, hivcare_topics)\n",
    "hivcare_results_nc"
   ]
  },
  {
   "cell_type": "markdown",
   "id": "4bd4b326-a0a3-42b2-9204-6923a362d05c",
   "metadata": {},
   "source": [
    "### Non-clinical - by provider type"
   ]
  },
  {
   "cell_type": "code",
   "execution_count": 262,
   "id": "3b9285f4-023e-464f-81d5-b299b3f3c617",
   "metadata": {},
   "outputs": [
    {
     "name": "stdout",
     "output_type": "stream",
     "text": [
      "Provider Group: Administrators \n",
      "Option Counts:\n",
      "Q617 Q619 Q625 Q626 Q628 Q629 Q620 Q618 Q623 Q621 Q624 Q627 Q622 Q630 Q630 Q631 \n",
      "  74   69   64   63   60   56   53   48   43   39   36   24   15    2    2    0 \n",
      "\n",
      "Option Percentages:\n",
      "     Q617      Q618      Q619      Q620      Q621      Q622      Q623      Q624 \n",
      "66.666667 43.243243 62.162162 47.747748 35.135135 13.513514 38.738739 32.432432 \n",
      "     Q625      Q626      Q627      Q628      Q629      Q630      Q630      Q631 \n",
      "57.657658 56.756757 21.621622 54.054054 50.450450  1.801802  1.801802  0.000000 \n",
      "\n",
      "\n",
      "Provider Group: Health Education and Testing \n",
      "Option Counts:\n",
      "Q625 Q620 Q619 Q626 Q621 Q623 Q629 Q618 Q628 Q624 Q617 Q622 Q627 Q630 Q630 Q631 \n",
      "  11   10    9    8    7    6    6    5    5    4    2    2    2    0    0    0 \n",
      "\n",
      "Option Percentages:\n",
      "    Q617     Q618     Q619     Q620     Q621     Q622     Q623     Q624 \n",
      "15.38462 38.46154 69.23077 76.92308 53.84615 15.38462 46.15385 30.76923 \n",
      "    Q625     Q626     Q627     Q628     Q629     Q630     Q630     Q631 \n",
      "84.61538 61.53846 15.38462 38.46154 46.15385  0.00000  0.00000  0.00000 \n",
      "\n",
      "\n",
      "Provider Group: Case Managers/Social Workers \n",
      "Option Counts:\n",
      "Q625 Q619 Q620 Q623 Q626 Q628 Q629 Q617 Q618 Q621 Q622 Q624 Q627 Q630 Q630 Q631 \n",
      "   6    5    5    5    5    5    5    4    4    4    3    3    3    0    0    0 \n",
      "\n",
      "Option Percentages:\n",
      "Q617 Q618 Q619 Q620 Q621 Q622 Q623 Q624 Q625 Q626 Q627 Q628 Q629 Q630 Q630 Q631 \n",
      "50.0 50.0 62.5 62.5 50.0 37.5 62.5 37.5 75.0 62.5 37.5 62.5 62.5  0.0  0.0  0.0 \n",
      "\n",
      "\n",
      "Provider Group: Patient Supporters and Navigators \n",
      "Option Counts:\n",
      "Q625 Q617 Q619 Q618 Q620 Q623 Q628 Q626 Q629 Q621 Q627 Q622 Q624 Q630 Q630 Q631 \n",
      "  24   23   20   18   18   17   17   14   13   11   10    9    9    1    1    1 \n",
      "\n",
      "Option Percentages:\n",
      "     Q617      Q618      Q619      Q620      Q621      Q622      Q623      Q624 \n",
      "63.888889 50.000000 55.555556 50.000000 30.555556 25.000000 47.222222 25.000000 \n",
      "     Q625      Q626      Q627      Q628      Q629      Q630      Q630      Q631 \n",
      "66.666667 38.888889 27.777778 47.222222 36.111111  2.777778  2.777778  2.777778 \n",
      "\n",
      "\n",
      "Provider Group: Program Coordinators/Managers/Directors \n",
      "Option Counts:\n",
      "Q617 Q619 Q618 Q620 Q623 Q625 Q626 Q628 Q624 Q629 Q621 Q627 Q622 Q630 Q630 Q631 \n",
      "   9    8    6    6    6    6    6    6    5    5    4    4    3    0    0    0 \n",
      "\n",
      "Option Percentages:\n",
      "    Q617     Q618     Q619     Q620     Q621     Q622     Q623     Q624 \n",
      "81.81818 54.54545 72.72727 54.54545 36.36364 27.27273 54.54545 45.45455 \n",
      "    Q625     Q626     Q627     Q628     Q629     Q630     Q630     Q631 \n",
      "54.54545 54.54545 36.36364 54.54545 45.45455  0.00000  0.00000  0.00000 \n",
      "\n",
      "\n",
      "Provider Group: Outreach \n",
      "Option Counts:\n",
      "Q625 Q617 Q620 Q628 Q619 Q618 Q623 Q626 Q629 Q624 Q622 Q621 Q627 Q630 Q630 Q631 \n",
      "  49   40   39   39   37   36   35   34   30   28   26   23   19    2    2    0 \n",
      "\n",
      "Option Percentages:\n",
      "     Q617      Q618      Q619      Q620      Q621      Q622      Q623      Q624 \n",
      "51.948052 46.753247 48.051948 50.649351 29.870130 33.766234 45.454545 36.363636 \n",
      "     Q625      Q626      Q627      Q628      Q629      Q630      Q630      Q631 \n",
      "63.636364 44.155844 24.675325 50.649351 38.961039  2.597403  2.597403  0.000000 \n",
      "\n",
      "\n",
      "Provider Group: Other \n",
      "Option Counts:\n",
      "Q619 Q617 Q625 Q618 Q628 Q620 Q629 Q623 Q624 Q626 Q627 Q621 Q622 Q630 Q630 Q631 \n",
      " 253  245  221  199  197  183  180  168  164  154  101   94   83    8    8    2 \n",
      "\n",
      "Option Percentages:\n",
      " Q617  Q618  Q619  Q620  Q621  Q622  Q623  Q624  Q625  Q626  Q627  Q628  Q629 \n",
      "61.25 49.75 63.25 45.75 23.50 20.75 42.00 41.00 55.25 38.50 25.25 49.25 45.00 \n",
      " Q630  Q630  Q631 \n",
      " 2.00  2.00  0.50 \n",
      "\n",
      "\n"
     ]
    }
   ],
   "source": [
    "# Filter data to include only rows with non-clinical provider groups\n",
    "nc_provider_groups_data <- final_data[final_data$nc_prov_grps %in% c('Administrators', 'Health Education and Testing', 'Case Managers/Social Workers', 'Patient Supporters and Navigators', 'Program Coordinators/Managers/Directors', 'Outreach', 'Other'), ]\n",
    "\n",
    "# Get top 3 topics and percentages for each non-clinical provider group\n",
    "for (nc_provider_group in nc_provider_groups) {\n",
    "  nc_group_data <- nc_provider_groups_data[nc_provider_groups_data$nc_prov_grps == nc_provider_group, ]\n",
    "  result <- get_option_counts_and_percentage(nc_group_data, hivcare_topics)\n",
    "  \n",
    "  # Print the results for each clinical provider group\n",
    "  cat(\"Provider Group:\", nc_provider_group, \"\\n\")\n",
    "  cat(\"Option Counts:\\n\")\n",
    "  print(result$option_counts)\n",
    "  cat(\"\\n\")\n",
    "  \n",
    "  cat(\"Option Percentages:\\n\")\n",
    "  print(result$percentages)\n",
    "  cat(\"\\n\\n\")\n",
    "}"
   ]
  },
  {
   "cell_type": "markdown",
   "id": "ef616801-339d-442a-baf0-db465e26df85",
   "metadata": {},
   "source": [
    "## Where do you currently receive training  (Q163-Q170) check all that apply\n",
    "### Total responses"
   ]
  },
  {
   "cell_type": "code",
   "execution_count": 263,
   "id": "2475cb7b-51dd-440e-9a47-c04cfee091c6",
   "metadata": {},
   "outputs": [
    {
     "data": {
      "text/html": [
       "<style>\n",
       ".list-inline {list-style: none; margin:0; padding: 0}\n",
       ".list-inline>li {display: inline-block}\n",
       ".list-inline>li:not(:last-child)::after {content: \"\\00b7\"; padding: 0 .5ex}\n",
       "</style>\n",
       "<ol class=list-inline><li>'Q163'</li><li>'Q164'</li><li>'Q165'</li><li>'Q166'</li><li>'Q167'</li><li>'Q168'</li><li>'Q169'</li><li>'Q170a'</li><li>'Q170b'</li></ol>\n"
      ],
      "text/latex": [
       "\\begin{enumerate*}\n",
       "\\item 'Q163'\n",
       "\\item 'Q164'\n",
       "\\item 'Q165'\n",
       "\\item 'Q166'\n",
       "\\item 'Q167'\n",
       "\\item 'Q168'\n",
       "\\item 'Q169'\n",
       "\\item 'Q170a'\n",
       "\\item 'Q170b'\n",
       "\\end{enumerate*}\n"
      ],
      "text/markdown": [
       "1. 'Q163'\n",
       "2. 'Q164'\n",
       "3. 'Q165'\n",
       "4. 'Q166'\n",
       "5. 'Q167'\n",
       "6. 'Q168'\n",
       "7. 'Q169'\n",
       "8. 'Q170a'\n",
       "9. 'Q170b'\n",
       "\n",
       "\n"
      ],
      "text/plain": [
       "[1] \"Q163\"  \"Q164\"  \"Q165\"  \"Q166\"  \"Q167\"  \"Q168\"  \"Q169\"  \"Q170a\" \"Q170b\""
      ]
     },
     "metadata": {},
     "output_type": "display_data"
    }
   ],
   "source": [
    "# Create a vector of column names representing the current training options \n",
    "current_training_locations <- c(\"Q163\", \"Q164\", \"Q165\", \"Q166\", \"Q167\",\"Q168\",\"Q169\",\"Q170a\",\"Q170b\")\n",
    "current_training_locations"
   ]
  },
  {
   "cell_type": "code",
   "execution_count": 264,
   "id": "cae6dd63-da9f-497a-acbb-22f2c6484c3b",
   "metadata": {},
   "outputs": [
    {
     "data": {
      "text/html": [
       "<dl>\n",
       "\t<dt>$option_counts</dt>\n",
       "\t\t<dd><style>\n",
       ".dl-inline {width: auto; margin:0; padding: 0}\n",
       ".dl-inline>dt, .dl-inline>dd {float: none; width: auto; display: inline-block}\n",
       ".dl-inline>dt::after {content: \":\\0020\"; padding-right: .5ex}\n",
       ".dl-inline>dt:not(:first-of-type) {padding-left: .5ex}\n",
       "</style><dl class=dl-inline><dt>Q167</dt><dd>872</dd><dt>Q165</dt><dd>811</dd><dt>Q163</dt><dd>790</dd><dt>Q166</dt><dd>666</dd><dt>Q164</dt><dd>642</dd><dt>Q168</dt><dd>26</dd><dt>Q170b</dt><dd>5</dd><dt>Q170a</dt><dd>3</dd><dt>Q169</dt><dd>1</dd></dl>\n",
       "</dd>\n",
       "\t<dt>$percentages</dt>\n",
       "\t\t<dd><style>\n",
       ".dl-inline {width: auto; margin:0; padding: 0}\n",
       ".dl-inline>dt, .dl-inline>dd {float: none; width: auto; display: inline-block}\n",
       ".dl-inline>dt::after {content: \":\\0020\"; padding-right: .5ex}\n",
       ".dl-inline>dt:not(:first-of-type) {padding-left: .5ex}\n",
       "</style><dl class=dl-inline><dt>Q163</dt><dd>79.7979797979798</dd><dt>Q164</dt><dd>64.8484848484848</dd><dt>Q165</dt><dd>81.9191919191919</dd><dt>Q166</dt><dd>67.2727272727273</dd><dt>Q167</dt><dd>88.0808080808081</dd><dt>Q168</dt><dd>2.62626262626263</dd><dt>Q169</dt><dd>0.101010101010101</dd><dt>Q170a</dt><dd>0.303030303030303</dd><dt>Q170b</dt><dd>0.505050505050505</dd></dl>\n",
       "</dd>\n",
       "</dl>\n"
      ],
      "text/latex": [
       "\\begin{description}\n",
       "\\item[\\$option\\_counts] \\begin{description*}\n",
       "\\item[Q167] 872\n",
       "\\item[Q165] 811\n",
       "\\item[Q163] 790\n",
       "\\item[Q166] 666\n",
       "\\item[Q164] 642\n",
       "\\item[Q168] 26\n",
       "\\item[Q170b] 5\n",
       "\\item[Q170a] 3\n",
       "\\item[Q169] 1\n",
       "\\end{description*}\n",
       "\n",
       "\\item[\\$percentages] \\begin{description*}\n",
       "\\item[Q163] 79.7979797979798\n",
       "\\item[Q164] 64.8484848484848\n",
       "\\item[Q165] 81.9191919191919\n",
       "\\item[Q166] 67.2727272727273\n",
       "\\item[Q167] 88.0808080808081\n",
       "\\item[Q168] 2.62626262626263\n",
       "\\item[Q169] 0.101010101010101\n",
       "\\item[Q170a] 0.303030303030303\n",
       "\\item[Q170b] 0.505050505050505\n",
       "\\end{description*}\n",
       "\n",
       "\\end{description}\n"
      ],
      "text/markdown": [
       "$option_counts\n",
       ":   Q167\n",
       ":   872Q165\n",
       ":   811Q163\n",
       ":   790Q166\n",
       ":   666Q164\n",
       ":   642Q168\n",
       ":   26Q170b\n",
       ":   5Q170a\n",
       ":   3Q169\n",
       ":   1\n",
       "\n",
       "\n",
       "$percentages\n",
       ":   Q163\n",
       ":   79.7979797979798Q164\n",
       ":   64.8484848484848Q165\n",
       ":   81.9191919191919Q166\n",
       ":   67.2727272727273Q167\n",
       ":   88.0808080808081Q168\n",
       ":   2.62626262626263Q169\n",
       ":   0.101010101010101Q170a\n",
       ":   0.303030303030303Q170b\n",
       ":   0.505050505050505\n",
       "\n",
       "\n",
       "\n",
       "\n"
      ],
      "text/plain": [
       "$option_counts\n",
       " Q167  Q165  Q163  Q166  Q164  Q168 Q170b Q170a  Q169 \n",
       "  872   811   790   666   642    26     5     3     1 \n",
       "\n",
       "$percentages\n",
       "      Q163       Q164       Q165       Q166       Q167       Q168       Q169 \n",
       "79.7979798 64.8484848 81.9191919 67.2727273 88.0808081  2.6262626  0.1010101 \n",
       "     Q170a      Q170b \n",
       " 0.3030303  0.5050505 \n"
      ]
     },
     "metadata": {},
     "output_type": "display_data"
    }
   ],
   "source": [
    "# Create a list to store results\n",
    "current_training_results <- list()\n",
    "\n",
    "# Call the 'get_top3_and_percentage' function with the 'final_data' and 'current_training_locations'\n",
    "current_training_results <- get_option_counts_and_percentage(final_data, current_training_locations)\n",
    "current_training_results"
   ]
  },
  {
   "cell_type": "markdown",
   "id": "28063f25-ff59-4537-8909-a5939ad33e18",
   "metadata": {},
   "source": [
    "## Where do you prefer to receive education/training (Q172-178) check all that apply \n",
    "### Total responses"
   ]
  },
  {
   "cell_type": "code",
   "execution_count": 265,
   "id": "6d396bd1-d2f0-4a3f-820b-79045b850156",
   "metadata": {},
   "outputs": [],
   "source": [
    "# Create a vector of column names representing the preferred training options \n",
    "preferred_training_locations <- c(\"Q171\", \"Q172\", \"Q173\", \"Q174\", \"Q175\", \"Q176\", \"Q177\")"
   ]
  },
  {
   "cell_type": "code",
   "execution_count": 266,
   "id": "55898be8-04b0-4e7d-b47a-f54950c4aa90",
   "metadata": {},
   "outputs": [
    {
     "data": {
      "text/html": [
       "<dl>\n",
       "\t<dt>$option_counts</dt>\n",
       "\t\t<dd><style>\n",
       ".dl-inline {width: auto; margin:0; padding: 0}\n",
       ".dl-inline>dt, .dl-inline>dd {float: none; width: auto; display: inline-block}\n",
       ".dl-inline>dt::after {content: \":\\0020\"; padding-right: .5ex}\n",
       ".dl-inline>dt:not(:first-of-type) {padding-left: .5ex}\n",
       "</style><dl class=dl-inline><dt>Q174</dt><dd>689</dd><dt>Q175</dt><dd>589</dd><dt>Q171</dt><dd>585</dd><dt>Q172</dt><dd>495</dd><dt>Q173</dt><dd>481</dd><dt>Q176</dt><dd>9</dd><dt>Q177</dt><dd>2</dd></dl>\n",
       "</dd>\n",
       "\t<dt>$percentages</dt>\n",
       "\t\t<dd><style>\n",
       ".dl-inline {width: auto; margin:0; padding: 0}\n",
       ".dl-inline>dt, .dl-inline>dd {float: none; width: auto; display: inline-block}\n",
       ".dl-inline>dt::after {content: \":\\0020\"; padding-right: .5ex}\n",
       ".dl-inline>dt:not(:first-of-type) {padding-left: .5ex}\n",
       "</style><dl class=dl-inline><dt>Q171</dt><dd>59.0909090909091</dd><dt>Q172</dt><dd>50</dd><dt>Q173</dt><dd>48.5858585858586</dd><dt>Q174</dt><dd>69.5959595959596</dd><dt>Q175</dt><dd>59.4949494949495</dd><dt>Q176</dt><dd>0.909090909090909</dd><dt>Q177</dt><dd>0.202020202020202</dd></dl>\n",
       "</dd>\n",
       "</dl>\n"
      ],
      "text/latex": [
       "\\begin{description}\n",
       "\\item[\\$option\\_counts] \\begin{description*}\n",
       "\\item[Q174] 689\n",
       "\\item[Q175] 589\n",
       "\\item[Q171] 585\n",
       "\\item[Q172] 495\n",
       "\\item[Q173] 481\n",
       "\\item[Q176] 9\n",
       "\\item[Q177] 2\n",
       "\\end{description*}\n",
       "\n",
       "\\item[\\$percentages] \\begin{description*}\n",
       "\\item[Q171] 59.0909090909091\n",
       "\\item[Q172] 50\n",
       "\\item[Q173] 48.5858585858586\n",
       "\\item[Q174] 69.5959595959596\n",
       "\\item[Q175] 59.4949494949495\n",
       "\\item[Q176] 0.909090909090909\n",
       "\\item[Q177] 0.202020202020202\n",
       "\\end{description*}\n",
       "\n",
       "\\end{description}\n"
      ],
      "text/markdown": [
       "$option_counts\n",
       ":   Q174\n",
       ":   689Q175\n",
       ":   589Q171\n",
       ":   585Q172\n",
       ":   495Q173\n",
       ":   481Q176\n",
       ":   9Q177\n",
       ":   2\n",
       "\n",
       "\n",
       "$percentages\n",
       ":   Q171\n",
       ":   59.0909090909091Q172\n",
       ":   50Q173\n",
       ":   48.5858585858586Q174\n",
       ":   69.5959595959596Q175\n",
       ":   59.4949494949495Q176\n",
       ":   0.909090909090909Q177\n",
       ":   0.202020202020202\n",
       "\n",
       "\n",
       "\n",
       "\n"
      ],
      "text/plain": [
       "$option_counts\n",
       "Q174 Q175 Q171 Q172 Q173 Q176 Q177 \n",
       " 689  589  585  495  481    9    2 \n",
       "\n",
       "$percentages\n",
       "      Q171       Q172       Q173       Q174       Q175       Q176       Q177 \n",
       "59.0909091 50.0000000 48.5858586 69.5959596 59.4949495  0.9090909  0.2020202 \n"
      ]
     },
     "metadata": {},
     "output_type": "display_data"
    }
   ],
   "source": [
    "# Create a list to store results\n",
    "preferred_training_results <- list()\n",
    "\n",
    "# Call the 'get_top3_and_percentage' function with the 'final_data' and 'preferred_training_locations'\n",
    "preferred_training_results <- get_option_counts_and_percentage(final_data, preferred_training_locations)\n",
    "preferred_training_results"
   ]
  },
  {
   "cell_type": "markdown",
   "id": "c7c2d334-a1d9-4a23-b6d3-d264b1706776",
   "metadata": {},
   "source": [
    "## Which populations do you provide PrEP to (Q646-Q657) check all that apply\n",
    "### Total responses"
   ]
  },
  {
   "cell_type": "code",
   "execution_count": 267,
   "id": "b70c847b-4e0b-4e34-8cb9-37e29a0ad719",
   "metadata": {},
   "outputs": [],
   "source": [
    "# Create a vector of column names representing the population options \n",
    "prep_populations <- c(\"Q646\", \"Q647\", \"Q648\", \"Q649\", \"Q650\",\"Q651\",\"Q652\",\"Q653\",\"Q654\",\"Q655\",\"Q656\",\"Q657\")"
   ]
  },
  {
   "cell_type": "code",
   "execution_count": 268,
   "id": "5c196b21-3b8e-4258-a44c-096a40c4777a",
   "metadata": {},
   "outputs": [
    {
     "data": {
      "text/html": [
       "<dl>\n",
       "\t<dt>$option_counts</dt>\n",
       "\t\t<dd><style>\n",
       ".dl-inline {width: auto; margin:0; padding: 0}\n",
       ".dl-inline>dt, .dl-inline>dd {float: none; width: auto; display: inline-block}\n",
       ".dl-inline>dt::after {content: \":\\0020\"; padding-right: .5ex}\n",
       ".dl-inline>dt:not(:first-of-type) {padding-left: .5ex}\n",
       "</style><dl class=dl-inline><dt>Q654</dt><dd>258</dd><dt>Q649</dt><dd>242</dd><dt>Q655</dt><dd>233</dd><dt>Q648</dt><dd>223</dd><dt>Q650</dt><dd>220</dd><dt>Q653</dt><dd>220</dd><dt>Q652</dt><dd>200</dd><dt>Q646</dt><dd>199</dd><dt>Q651</dt><dd>184</dd><dt>Q647</dt><dd>161</dd><dt>Q656</dt><dd>9</dd><dt>Q657</dt><dd>0</dd></dl>\n",
       "</dd>\n",
       "\t<dt>$percentages</dt>\n",
       "\t\t<dd><style>\n",
       ".dl-inline {width: auto; margin:0; padding: 0}\n",
       ".dl-inline>dt, .dl-inline>dd {float: none; width: auto; display: inline-block}\n",
       ".dl-inline>dt::after {content: \":\\0020\"; padding-right: .5ex}\n",
       ".dl-inline>dt:not(:first-of-type) {padding-left: .5ex}\n",
       "</style><dl class=dl-inline><dt>Q646</dt><dd>73.7037037037037</dd><dt>Q647</dt><dd>59.6296296296296</dd><dt>Q648</dt><dd>82.5925925925926</dd><dt>Q649</dt><dd>89.6296296296296</dd><dt>Q650</dt><dd>81.4814814814815</dd><dt>Q651</dt><dd>68.1481481481482</dd><dt>Q652</dt><dd>74.0740740740741</dd><dt>Q653</dt><dd>81.4814814814815</dd><dt>Q654</dt><dd>95.5555555555556</dd><dt>Q655</dt><dd>86.2962962962963</dd><dt>Q656</dt><dd>3.33333333333333</dd><dt>Q657</dt><dd>0</dd></dl>\n",
       "</dd>\n",
       "</dl>\n"
      ],
      "text/latex": [
       "\\begin{description}\n",
       "\\item[\\$option\\_counts] \\begin{description*}\n",
       "\\item[Q654] 258\n",
       "\\item[Q649] 242\n",
       "\\item[Q655] 233\n",
       "\\item[Q648] 223\n",
       "\\item[Q650] 220\n",
       "\\item[Q653] 220\n",
       "\\item[Q652] 200\n",
       "\\item[Q646] 199\n",
       "\\item[Q651] 184\n",
       "\\item[Q647] 161\n",
       "\\item[Q656] 9\n",
       "\\item[Q657] 0\n",
       "\\end{description*}\n",
       "\n",
       "\\item[\\$percentages] \\begin{description*}\n",
       "\\item[Q646] 73.7037037037037\n",
       "\\item[Q647] 59.6296296296296\n",
       "\\item[Q648] 82.5925925925926\n",
       "\\item[Q649] 89.6296296296296\n",
       "\\item[Q650] 81.4814814814815\n",
       "\\item[Q651] 68.1481481481482\n",
       "\\item[Q652] 74.0740740740741\n",
       "\\item[Q653] 81.4814814814815\n",
       "\\item[Q654] 95.5555555555556\n",
       "\\item[Q655] 86.2962962962963\n",
       "\\item[Q656] 3.33333333333333\n",
       "\\item[Q657] 0\n",
       "\\end{description*}\n",
       "\n",
       "\\end{description}\n"
      ],
      "text/markdown": [
       "$option_counts\n",
       ":   Q654\n",
       ":   258Q649\n",
       ":   242Q655\n",
       ":   233Q648\n",
       ":   223Q650\n",
       ":   220Q653\n",
       ":   220Q652\n",
       ":   200Q646\n",
       ":   199Q651\n",
       ":   184Q647\n",
       ":   161Q656\n",
       ":   9Q657\n",
       ":   0\n",
       "\n",
       "\n",
       "$percentages\n",
       ":   Q646\n",
       ":   73.7037037037037Q647\n",
       ":   59.6296296296296Q648\n",
       ":   82.5925925925926Q649\n",
       ":   89.6296296296296Q650\n",
       ":   81.4814814814815Q651\n",
       ":   68.1481481481482Q652\n",
       ":   74.0740740740741Q653\n",
       ":   81.4814814814815Q654\n",
       ":   95.5555555555556Q655\n",
       ":   86.2962962962963Q656\n",
       ":   3.33333333333333Q657\n",
       ":   0\n",
       "\n",
       "\n",
       "\n",
       "\n"
      ],
      "text/plain": [
       "$option_counts\n",
       "Q654 Q649 Q655 Q648 Q650 Q653 Q652 Q646 Q651 Q647 Q656 Q657 \n",
       " 258  242  233  223  220  220  200  199  184  161    9    0 \n",
       "\n",
       "$percentages\n",
       "     Q646      Q647      Q648      Q649      Q650      Q651      Q652      Q653 \n",
       "73.703704 59.629630 82.592593 89.629630 81.481481 68.148148 74.074074 81.481481 \n",
       "     Q654      Q655      Q656      Q657 \n",
       "95.555556 86.296296  3.333333  0.000000 \n"
      ]
     },
     "metadata": {},
     "output_type": "display_data"
    }
   ],
   "source": [
    "# Create a list to store results\n",
    "prep_populations_results <- list()\n",
    "\n",
    "# Call the 'get_top3_and_percentage' function with the 'final_data' and 'prep_populations'\n",
    "prep_populations_results <- get_option_counts_and_percentage(final_data, prep_populations)\n",
    "prep_populations_results"
   ]
  },
  {
   "cell_type": "markdown",
   "id": "7491a007-2387-4a1d-a622-b48e0b856dc1",
   "metadata": {},
   "source": [
    "## Which populations could you be better at reaching \n",
    "### Total responses"
   ]
  },
  {
   "cell_type": "code",
   "execution_count": 269,
   "id": "830673fe-fbd5-4e61-a246-b43dff18368e",
   "metadata": {},
   "outputs": [],
   "source": [
    "# Create a vector of column names representing the reaching_populations options \n",
    "reaching_populations <- c(\"Q659\", \"Q660\", \"Q661\", \"Q662\", \"Q663\", \"Q664\",\"Q665\",\"Q667\",\"Q668\",\"Q669\")"
   ]
  },
  {
   "cell_type": "code",
   "execution_count": 270,
   "id": "07c33ae8-7085-41f5-bf42-cf8c36dac14b",
   "metadata": {},
   "outputs": [
    {
     "data": {
      "text/html": [
       "<dl>\n",
       "\t<dt>$option_counts</dt>\n",
       "\t\t<dd><style>\n",
       ".dl-inline {width: auto; margin:0; padding: 0}\n",
       ".dl-inline>dt, .dl-inline>dd {float: none; width: auto; display: inline-block}\n",
       ".dl-inline>dt::after {content: \":\\0020\"; padding-right: .5ex}\n",
       ".dl-inline>dt:not(:first-of-type) {padding-left: .5ex}\n",
       "</style><dl class=dl-inline><dt>Q659</dt><dd>68</dd><dt>Q662</dt><dd>28</dd><dt>Q665</dt><dd>24</dd><dt>Q668</dt><dd>24</dd><dt>Q661</dt><dd>23</dd><dt>Q667</dt><dd>19</dd><dt>Q664</dt><dd>18</dd><dt>Q660</dt><dd>17</dd><dt>Q663</dt><dd>10</dd><dt>Q669</dt><dd>2</dd></dl>\n",
       "</dd>\n",
       "\t<dt>$percentages</dt>\n",
       "\t\t<dd><style>\n",
       ".dl-inline {width: auto; margin:0; padding: 0}\n",
       ".dl-inline>dt, .dl-inline>dd {float: none; width: auto; display: inline-block}\n",
       ".dl-inline>dt::after {content: \":\\0020\"; padding-right: .5ex}\n",
       ".dl-inline>dt:not(:first-of-type) {padding-left: .5ex}\n",
       "</style><dl class=dl-inline><dt>Q659</dt><dd>26.6666666666667</dd><dt>Q660</dt><dd>6.66666666666667</dd><dt>Q661</dt><dd>9.01960784313725</dd><dt>Q662</dt><dd>10.9803921568627</dd><dt>Q663</dt><dd>3.92156862745098</dd><dt>Q664</dt><dd>7.05882352941176</dd><dt>Q665</dt><dd>9.41176470588235</dd><dt>Q667</dt><dd>7.45098039215686</dd><dt>Q668</dt><dd>9.41176470588235</dd><dt>Q669</dt><dd>0.784313725490196</dd></dl>\n",
       "</dd>\n",
       "</dl>\n"
      ],
      "text/latex": [
       "\\begin{description}\n",
       "\\item[\\$option\\_counts] \\begin{description*}\n",
       "\\item[Q659] 68\n",
       "\\item[Q662] 28\n",
       "\\item[Q665] 24\n",
       "\\item[Q668] 24\n",
       "\\item[Q661] 23\n",
       "\\item[Q667] 19\n",
       "\\item[Q664] 18\n",
       "\\item[Q660] 17\n",
       "\\item[Q663] 10\n",
       "\\item[Q669] 2\n",
       "\\end{description*}\n",
       "\n",
       "\\item[\\$percentages] \\begin{description*}\n",
       "\\item[Q659] 26.6666666666667\n",
       "\\item[Q660] 6.66666666666667\n",
       "\\item[Q661] 9.01960784313725\n",
       "\\item[Q662] 10.9803921568627\n",
       "\\item[Q663] 3.92156862745098\n",
       "\\item[Q664] 7.05882352941176\n",
       "\\item[Q665] 9.41176470588235\n",
       "\\item[Q667] 7.45098039215686\n",
       "\\item[Q668] 9.41176470588235\n",
       "\\item[Q669] 0.784313725490196\n",
       "\\end{description*}\n",
       "\n",
       "\\end{description}\n"
      ],
      "text/markdown": [
       "$option_counts\n",
       ":   Q659\n",
       ":   68Q662\n",
       ":   28Q665\n",
       ":   24Q668\n",
       ":   24Q661\n",
       ":   23Q667\n",
       ":   19Q664\n",
       ":   18Q660\n",
       ":   17Q663\n",
       ":   10Q669\n",
       ":   2\n",
       "\n",
       "\n",
       "$percentages\n",
       ":   Q659\n",
       ":   26.6666666666667Q660\n",
       ":   6.66666666666667Q661\n",
       ":   9.01960784313725Q662\n",
       ":   10.9803921568627Q663\n",
       ":   3.92156862745098Q664\n",
       ":   7.05882352941176Q665\n",
       ":   9.41176470588235Q667\n",
       ":   7.45098039215686Q668\n",
       ":   9.41176470588235Q669\n",
       ":   0.784313725490196\n",
       "\n",
       "\n",
       "\n",
       "\n"
      ],
      "text/plain": [
       "$option_counts\n",
       "Q659 Q662 Q665 Q668 Q661 Q667 Q664 Q660 Q663 Q669 \n",
       "  68   28   24   24   23   19   18   17   10    2 \n",
       "\n",
       "$percentages\n",
       "      Q659       Q660       Q661       Q662       Q663       Q664       Q665 \n",
       "26.6666667  6.6666667  9.0196078 10.9803922  3.9215686  7.0588235  9.4117647 \n",
       "      Q667       Q668       Q669 \n",
       " 7.4509804  9.4117647  0.7843137 \n"
      ]
     },
     "metadata": {},
     "output_type": "display_data"
    }
   ],
   "source": [
    "# Create a list to store results\n",
    "reaching_populations_results <- list()\n",
    "\n",
    "# Call the 'get_top3_and_percentage' function with the 'final_data' and 'reaching_populations'\n",
    "reaching_populations_results <- get_option_counts_and_percentage(final_data, reaching_populations)\n",
    "reaching_populations_results"
   ]
  },
  {
   "cell_type": "markdown",
   "id": "19cee0a3-8824-4b08-8e6d-3d87689483bb",
   "metadata": {},
   "source": [
    "## Top 3 challenges to getting tested for HIV (Q475-Q487)"
   ]
  },
  {
   "cell_type": "code",
   "execution_count": 271,
   "id": "7bfa5fd3-cfbf-47c7-864e-b70899b68e17",
   "metadata": {},
   "outputs": [],
   "source": [
    "# Create a vector of column names representing the testing_challenges options\n",
    "testing_challenges <- c('Q475','Q476','Q477','Q578','Q479','Q480','Q481','Q482','Q483','Q484','Q485','Q486','Q487')"
   ]
  },
  {
   "cell_type": "code",
   "execution_count": 272,
   "id": "6c6e985b-4f0e-4ec9-875b-54f48eac74e7",
   "metadata": {},
   "outputs": [
    {
     "data": {
      "text/html": [
       "<dl>\n",
       "\t<dt>$top3_topics</dt>\n",
       "\t\t<dd><style>\n",
       ".list-inline {list-style: none; margin:0; padding: 0}\n",
       ".list-inline>li {display: inline-block}\n",
       ".list-inline>li:not(:last-child)::after {content: \"\\00b7\"; padding: 0 .5ex}\n",
       "</style>\n",
       "<ol class=list-inline><li>'Q475'</li><li>'Q578'</li><li>'Q481'</li></ol>\n",
       "</dd>\n",
       "\t<dt>$percentages</dt>\n",
       "\t\t<dd><style>\n",
       ".dl-inline {width: auto; margin:0; padding: 0}\n",
       ".dl-inline>dt, .dl-inline>dd {float: none; width: auto; display: inline-block}\n",
       ".dl-inline>dt::after {content: \":\\0020\"; padding-right: .5ex}\n",
       ".dl-inline>dt:not(:first-of-type) {padding-left: .5ex}\n",
       "</style><dl class=dl-inline><dt>Q475</dt><dd>58.4577114427861</dd><dt>Q578</dt><dd>40.547263681592</dd><dt>Q481</dt><dd>39.8009950248756</dd></dl>\n",
       "</dd>\n",
       "</dl>\n"
      ],
      "text/latex": [
       "\\begin{description}\n",
       "\\item[\\$top3\\_topics] \\begin{enumerate*}\n",
       "\\item 'Q475'\n",
       "\\item 'Q578'\n",
       "\\item 'Q481'\n",
       "\\end{enumerate*}\n",
       "\n",
       "\\item[\\$percentages] \\begin{description*}\n",
       "\\item[Q475] 58.4577114427861\n",
       "\\item[Q578] 40.547263681592\n",
       "\\item[Q481] 39.8009950248756\n",
       "\\end{description*}\n",
       "\n",
       "\\end{description}\n"
      ],
      "text/markdown": [
       "$top3_topics\n",
       ":   1. 'Q475'\n",
       "2. 'Q578'\n",
       "3. 'Q481'\n",
       "\n",
       "\n",
       "\n",
       "$percentages\n",
       ":   Q475\n",
       ":   58.4577114427861Q578\n",
       ":   40.547263681592Q481\n",
       ":   39.8009950248756\n",
       "\n",
       "\n",
       "\n",
       "\n"
      ],
      "text/plain": [
       "$top3_topics\n",
       "[1] \"Q475\" \"Q578\" \"Q481\"\n",
       "\n",
       "$percentages\n",
       "    Q475     Q578     Q481 \n",
       "58.45771 40.54726 39.80100 \n"
      ]
     },
     "metadata": {},
     "output_type": "display_data"
    }
   ],
   "source": [
    "# Get the top 3 challenges\n",
    "top3_test_chall <- get_top3_and_percentage(final_data, testing_challenges)\n",
    "top3_test_chall"
   ]
  },
  {
   "cell_type": "markdown",
   "id": "592d5c51-7a14-440e-8dfe-16f82050796a",
   "metadata": {},
   "source": [
    "## Top 3 challenges to timely linking people at risk for HIV to PrEP (Q675-681)"
   ]
  },
  {
   "cell_type": "code",
   "execution_count": 273,
   "id": "60faf174-e9e7-4261-a7bb-9c1732e309cd",
   "metadata": {},
   "outputs": [],
   "source": [
    "# Create a vector of column names representing the testing_challenges options\n",
    "linking_challenges <- c('Q675','Q676','Q677','Q678','Q679','Q680','Q681')"
   ]
  },
  {
   "cell_type": "code",
   "execution_count": 274,
   "id": "5ec3f783-dad2-4728-8e75-80b094bcbaf9",
   "metadata": {},
   "outputs": [
    {
     "data": {
      "text/html": [
       "<dl>\n",
       "\t<dt>$top3_topics</dt>\n",
       "\t\t<dd><style>\n",
       ".list-inline {list-style: none; margin:0; padding: 0}\n",
       ".list-inline>li {display: inline-block}\n",
       ".list-inline>li:not(:last-child)::after {content: \"\\00b7\"; padding: 0 .5ex}\n",
       "</style>\n",
       "<ol class=list-inline><li>'Q676'</li><li>'Q679'</li><li>'Q675'</li></ol>\n",
       "</dd>\n",
       "\t<dt>$percentages</dt>\n",
       "\t\t<dd><style>\n",
       ".dl-inline {width: auto; margin:0; padding: 0}\n",
       ".dl-inline>dt, .dl-inline>dd {float: none; width: auto; display: inline-block}\n",
       ".dl-inline>dt::after {content: \":\\0020\"; padding-right: .5ex}\n",
       ".dl-inline>dt:not(:first-of-type) {padding-left: .5ex}\n",
       "</style><dl class=dl-inline><dt>Q676</dt><dd>53.7037037037037</dd><dt>Q679</dt><dd>52.3148148148148</dd><dt>Q675</dt><dd>42.5925925925926</dd></dl>\n",
       "</dd>\n",
       "</dl>\n"
      ],
      "text/latex": [
       "\\begin{description}\n",
       "\\item[\\$top3\\_topics] \\begin{enumerate*}\n",
       "\\item 'Q676'\n",
       "\\item 'Q679'\n",
       "\\item 'Q675'\n",
       "\\end{enumerate*}\n",
       "\n",
       "\\item[\\$percentages] \\begin{description*}\n",
       "\\item[Q676] 53.7037037037037\n",
       "\\item[Q679] 52.3148148148148\n",
       "\\item[Q675] 42.5925925925926\n",
       "\\end{description*}\n",
       "\n",
       "\\end{description}\n"
      ],
      "text/markdown": [
       "$top3_topics\n",
       ":   1. 'Q676'\n",
       "2. 'Q679'\n",
       "3. 'Q675'\n",
       "\n",
       "\n",
       "\n",
       "$percentages\n",
       ":   Q676\n",
       ":   53.7037037037037Q679\n",
       ":   52.3148148148148Q675\n",
       ":   42.5925925925926\n",
       "\n",
       "\n",
       "\n",
       "\n"
      ],
      "text/plain": [
       "$top3_topics\n",
       "[1] \"Q676\" \"Q679\" \"Q675\"\n",
       "\n",
       "$percentages\n",
       "    Q676     Q679     Q675 \n",
       "53.70370 52.31481 42.59259 \n"
      ]
     },
     "metadata": {},
     "output_type": "display_data"
    }
   ],
   "source": [
    "# Get the top 3 challenges\n",
    "top3_link_chall <- get_top3_and_percentage(final_data, linking_challenges)\n",
    "top3_link_chall"
   ]
  },
  {
   "cell_type": "markdown",
   "id": "4b6701ae-b803-4258-8108-e2aec6799e2e",
   "metadata": {},
   "source": [
    "## Top 3 most effective methods for increasing PrEP uptake (Q683-Q692)"
   ]
  },
  {
   "cell_type": "code",
   "execution_count": 275,
   "id": "6d21e25c-9cc8-4188-b5b5-9db20fb93f69",
   "metadata": {},
   "outputs": [],
   "source": [
    "# Create a vector of column names representing the method options\n",
    "prep_methods <- c('Q683','Q684','Q685','Q686','Q687','Q688','Q689','Q690','Q691','Q692','Q693')"
   ]
  },
  {
   "cell_type": "code",
   "execution_count": 276,
   "id": "b4ddee49-5f1d-41f4-8b34-43ab5d8e05b9",
   "metadata": {},
   "outputs": [
    {
     "data": {
      "text/html": [
       "<dl>\n",
       "\t<dt>$top3_topics</dt>\n",
       "\t\t<dd><style>\n",
       ".list-inline {list-style: none; margin:0; padding: 0}\n",
       ".list-inline>li {display: inline-block}\n",
       ".list-inline>li:not(:last-child)::after {content: \"\\00b7\"; padding: 0 .5ex}\n",
       "</style>\n",
       "<ol class=list-inline><li>'Q683'</li><li>'Q687'</li><li>'Q684'</li></ol>\n",
       "</dd>\n",
       "\t<dt>$percentages</dt>\n",
       "\t\t<dd><style>\n",
       ".dl-inline {width: auto; margin:0; padding: 0}\n",
       ".dl-inline>dt, .dl-inline>dd {float: none; width: auto; display: inline-block}\n",
       ".dl-inline>dt::after {content: \":\\0020\"; padding-right: .5ex}\n",
       ".dl-inline>dt:not(:first-of-type) {padding-left: .5ex}\n",
       "</style><dl class=dl-inline><dt>Q683</dt><dd>64.0692640692641</dd><dt>Q687</dt><dd>43.2900432900433</dd><dt>Q684</dt><dd>35.0649350649351</dd></dl>\n",
       "</dd>\n",
       "</dl>\n"
      ],
      "text/latex": [
       "\\begin{description}\n",
       "\\item[\\$top3\\_topics] \\begin{enumerate*}\n",
       "\\item 'Q683'\n",
       "\\item 'Q687'\n",
       "\\item 'Q684'\n",
       "\\end{enumerate*}\n",
       "\n",
       "\\item[\\$percentages] \\begin{description*}\n",
       "\\item[Q683] 64.0692640692641\n",
       "\\item[Q687] 43.2900432900433\n",
       "\\item[Q684] 35.0649350649351\n",
       "\\end{description*}\n",
       "\n",
       "\\end{description}\n"
      ],
      "text/markdown": [
       "$top3_topics\n",
       ":   1. 'Q683'\n",
       "2. 'Q687'\n",
       "3. 'Q684'\n",
       "\n",
       "\n",
       "\n",
       "$percentages\n",
       ":   Q683\n",
       ":   64.0692640692641Q687\n",
       ":   43.2900432900433Q684\n",
       ":   35.0649350649351\n",
       "\n",
       "\n",
       "\n",
       "\n"
      ],
      "text/plain": [
       "$top3_topics\n",
       "[1] \"Q683\" \"Q687\" \"Q684\"\n",
       "\n",
       "$percentages\n",
       "    Q683     Q687     Q684 \n",
       "64.06926 43.29004 35.06494 \n"
      ]
     },
     "metadata": {},
     "output_type": "display_data"
    }
   ],
   "source": [
    "# Get the top 3 methods\n",
    "top3_prep_methods <- get_top3_and_percentage(final_data, prep_methods)\n",
    "top3_prep_methods"
   ]
  },
  {
   "cell_type": "markdown",
   "id": "d49ee962-7386-4bab-916f-3031bfd8aed7",
   "metadata": {},
   "source": [
    "## Top 3 challenges to prescribing PrEP (Q714-Q720)"
   ]
  },
  {
   "cell_type": "code",
   "execution_count": 277,
   "id": "d0b29faa-b1d8-42fa-b039-5e7125fa0f9a",
   "metadata": {},
   "outputs": [],
   "source": [
    "# Create a vector of column names representing the challenge options\n",
    "prescribing_challenges <- c('Q714','Q715','Q716','Q717','Q718','Q719','Q720')"
   ]
  },
  {
   "cell_type": "code",
   "execution_count": 278,
   "id": "21236ca3-2fb0-4667-ac96-610e1350dffc",
   "metadata": {},
   "outputs": [
    {
     "data": {
      "text/html": [
       "<dl>\n",
       "\t<dt>$top3_topics</dt>\n",
       "\t\t<dd><style>\n",
       ".list-inline {list-style: none; margin:0; padding: 0}\n",
       ".list-inline>li {display: inline-block}\n",
       ".list-inline>li:not(:last-child)::after {content: \"\\00b7\"; padding: 0 .5ex}\n",
       "</style>\n",
       "<ol class=list-inline><li>'Q715'</li><li>'Q714'</li><li>'Q716'</li></ol>\n",
       "</dd>\n",
       "\t<dt>$percentages</dt>\n",
       "\t\t<dd><style>\n",
       ".dl-inline {width: auto; margin:0; padding: 0}\n",
       ".dl-inline>dt, .dl-inline>dd {float: none; width: auto; display: inline-block}\n",
       ".dl-inline>dt::after {content: \":\\0020\"; padding-right: .5ex}\n",
       ".dl-inline>dt:not(:first-of-type) {padding-left: .5ex}\n",
       "</style><dl class=dl-inline><dt>Q715</dt><dd>60.7142857142857</dd><dt>Q714</dt><dd>54.4642857142857</dd><dt>Q716</dt><dd>54.4642857142857</dd></dl>\n",
       "</dd>\n",
       "</dl>\n"
      ],
      "text/latex": [
       "\\begin{description}\n",
       "\\item[\\$top3\\_topics] \\begin{enumerate*}\n",
       "\\item 'Q715'\n",
       "\\item 'Q714'\n",
       "\\item 'Q716'\n",
       "\\end{enumerate*}\n",
       "\n",
       "\\item[\\$percentages] \\begin{description*}\n",
       "\\item[Q715] 60.7142857142857\n",
       "\\item[Q714] 54.4642857142857\n",
       "\\item[Q716] 54.4642857142857\n",
       "\\end{description*}\n",
       "\n",
       "\\end{description}\n"
      ],
      "text/markdown": [
       "$top3_topics\n",
       ":   1. 'Q715'\n",
       "2. 'Q714'\n",
       "3. 'Q716'\n",
       "\n",
       "\n",
       "\n",
       "$percentages\n",
       ":   Q715\n",
       ":   60.7142857142857Q714\n",
       ":   54.4642857142857Q716\n",
       ":   54.4642857142857\n",
       "\n",
       "\n",
       "\n",
       "\n"
      ],
      "text/plain": [
       "$top3_topics\n",
       "[1] \"Q715\" \"Q714\" \"Q716\"\n",
       "\n",
       "$percentages\n",
       "    Q715     Q714     Q716 \n",
       "60.71429 54.46429 54.46429 \n"
      ]
     },
     "metadata": {},
     "output_type": "display_data"
    }
   ],
   "source": [
    "# Get the top 3 challenges\n",
    "top3_prescribing_chall <- get_top3_and_percentage(final_data, prescribing_challenges)\n",
    "top3_prescribing_chall"
   ]
  },
  {
   "cell_type": "markdown",
   "id": "37459b07-fb17-4150-9e9d-436a6d3088be",
   "metadata": {},
   "source": [
    "## Top 3 challenges to initiating PrEP from the client perspective (Q725-741)"
   ]
  },
  {
   "cell_type": "code",
   "execution_count": 279,
   "id": "8faee744-0e48-4757-bce6-886219dbd3d3",
   "metadata": {},
   "outputs": [],
   "source": [
    "# Create a vector of column names representing the challenge options\n",
    "initiating_challenges <- c('Q725','Q726','Q727','Q728','Q729','Q730','Q731','Q732','Q733','Q734','Q735','Q736','Q737','Q738','Q739','Q740','Q741')"
   ]
  },
  {
   "cell_type": "code",
   "execution_count": 280,
   "id": "82d5f546-6430-4cd3-b391-948b878d262d",
   "metadata": {},
   "outputs": [
    {
     "data": {
      "text/html": [
       "<dl>\n",
       "\t<dt>$top3_topics</dt>\n",
       "\t\t<dd><style>\n",
       ".list-inline {list-style: none; margin:0; padding: 0}\n",
       ".list-inline>li {display: inline-block}\n",
       ".list-inline>li:not(:last-child)::after {content: \"\\00b7\"; padding: 0 .5ex}\n",
       "</style>\n",
       "<ol class=list-inline><li>'Q726'</li><li>'Q725'</li><li>'Q729'</li></ol>\n",
       "</dd>\n",
       "\t<dt>$percentages</dt>\n",
       "\t\t<dd><style>\n",
       ".dl-inline {width: auto; margin:0; padding: 0}\n",
       ".dl-inline>dt, .dl-inline>dd {float: none; width: auto; display: inline-block}\n",
       ".dl-inline>dt::after {content: \":\\0020\"; padding-right: .5ex}\n",
       ".dl-inline>dt:not(:first-of-type) {padding-left: .5ex}\n",
       "</style><dl class=dl-inline><dt>Q726</dt><dd>68.3333333333333</dd><dt>Q725</dt><dd>44.1666666666667</dd><dt>Q729</dt><dd>37.5</dd></dl>\n",
       "</dd>\n",
       "</dl>\n"
      ],
      "text/latex": [
       "\\begin{description}\n",
       "\\item[\\$top3\\_topics] \\begin{enumerate*}\n",
       "\\item 'Q726'\n",
       "\\item 'Q725'\n",
       "\\item 'Q729'\n",
       "\\end{enumerate*}\n",
       "\n",
       "\\item[\\$percentages] \\begin{description*}\n",
       "\\item[Q726] 68.3333333333333\n",
       "\\item[Q725] 44.1666666666667\n",
       "\\item[Q729] 37.5\n",
       "\\end{description*}\n",
       "\n",
       "\\end{description}\n"
      ],
      "text/markdown": [
       "$top3_topics\n",
       ":   1. 'Q726'\n",
       "2. 'Q725'\n",
       "3. 'Q729'\n",
       "\n",
       "\n",
       "\n",
       "$percentages\n",
       ":   Q726\n",
       ":   68.3333333333333Q725\n",
       ":   44.1666666666667Q729\n",
       ":   37.5\n",
       "\n",
       "\n",
       "\n",
       "\n"
      ],
      "text/plain": [
       "$top3_topics\n",
       "[1] \"Q726\" \"Q725\" \"Q729\"\n",
       "\n",
       "$percentages\n",
       "    Q726     Q725     Q729 \n",
       "68.33333 44.16667 37.50000 \n"
      ]
     },
     "metadata": {},
     "output_type": "display_data"
    }
   ],
   "source": [
    "# Get the top 3 challenges\n",
    "top3_initiating_chall <- get_top3_and_percentage(final_data, initiating_challenges)\n",
    "top3_initiating_chall"
   ]
  },
  {
   "cell_type": "markdown",
   "id": "ac6f5a4a-4b68-4a2c-aa29-1dec1afa6277",
   "metadata": {},
   "source": [
    "## Top 3 reasons patients discontinue PrEP (Q749-Q758)"
   ]
  },
  {
   "cell_type": "code",
   "execution_count": 281,
   "id": "a867f2ef-cf1e-4c52-8db6-874d47e25a1a",
   "metadata": {},
   "outputs": [],
   "source": [
    "# Create a vector of column names representing the reason options\n",
    "discontinue_reasons <- c('Q749','Q750','Q751','Q752','Q753','Q754','Q755','Q756','Q757','Q758')"
   ]
  },
  {
   "cell_type": "code",
   "execution_count": 282,
   "id": "abda735d-b294-49b6-92fd-db4b4579982f",
   "metadata": {},
   "outputs": [
    {
     "data": {
      "text/html": [
       "<dl>\n",
       "\t<dt>$top3_topics</dt>\n",
       "\t\t<dd><style>\n",
       ".list-inline {list-style: none; margin:0; padding: 0}\n",
       ".list-inline>li {display: inline-block}\n",
       ".list-inline>li:not(:last-child)::after {content: \"\\00b7\"; padding: 0 .5ex}\n",
       "</style>\n",
       "<ol class=list-inline><li>'Q757'</li><li>'Q750'</li><li>'Q754'</li></ol>\n",
       "</dd>\n",
       "\t<dt>$percentages</dt>\n",
       "\t\t<dd><style>\n",
       ".dl-inline {width: auto; margin:0; padding: 0}\n",
       ".dl-inline>dt, .dl-inline>dd {float: none; width: auto; display: inline-block}\n",
       ".dl-inline>dt::after {content: \":\\0020\"; padding-right: .5ex}\n",
       ".dl-inline>dt:not(:first-of-type) {padding-left: .5ex}\n",
       "</style><dl class=dl-inline><dt>Q757</dt><dd>58.0246913580247</dd><dt>Q750</dt><dd>50</dd><dt>Q754</dt><dd>40.1234567901235</dd></dl>\n",
       "</dd>\n",
       "</dl>\n"
      ],
      "text/latex": [
       "\\begin{description}\n",
       "\\item[\\$top3\\_topics] \\begin{enumerate*}\n",
       "\\item 'Q757'\n",
       "\\item 'Q750'\n",
       "\\item 'Q754'\n",
       "\\end{enumerate*}\n",
       "\n",
       "\\item[\\$percentages] \\begin{description*}\n",
       "\\item[Q757] 58.0246913580247\n",
       "\\item[Q750] 50\n",
       "\\item[Q754] 40.1234567901235\n",
       "\\end{description*}\n",
       "\n",
       "\\end{description}\n"
      ],
      "text/markdown": [
       "$top3_topics\n",
       ":   1. 'Q757'\n",
       "2. 'Q750'\n",
       "3. 'Q754'\n",
       "\n",
       "\n",
       "\n",
       "$percentages\n",
       ":   Q757\n",
       ":   58.0246913580247Q750\n",
       ":   50Q754\n",
       ":   40.1234567901235\n",
       "\n",
       "\n",
       "\n",
       "\n"
      ],
      "text/plain": [
       "$top3_topics\n",
       "[1] \"Q757\" \"Q750\" \"Q754\"\n",
       "\n",
       "$percentages\n",
       "    Q757     Q750     Q754 \n",
       "58.02469 50.00000 40.12346 \n"
      ]
     },
     "metadata": {},
     "output_type": "display_data"
    }
   ],
   "source": [
    "# Get the top 3 reasons\n",
    "top3_discontinue_reasons <- get_top3_and_percentage(final_data, discontinue_reasons)\n",
    "top3_discontinue_reasons"
   ]
  },
  {
   "cell_type": "markdown",
   "id": "1c241588-8a18-4a49-8f18-7a1d07076fd8",
   "metadata": {},
   "source": [
    "## Top 3 ways to improve PrEP services (Q772-Q780) "
   ]
  },
  {
   "cell_type": "code",
   "execution_count": 283,
   "id": "c2209709-cc1d-4abc-ab6d-ea891f9a4dc5",
   "metadata": {},
   "outputs": [],
   "source": [
    "# Create a vector of column names representing the ways to improve PrEP services options\n",
    "improve_services <- c('Q772','Q773','Q774','Q775','Q776','Q777','Q778','Q779','Q780')"
   ]
  },
  {
   "cell_type": "code",
   "execution_count": 284,
   "id": "47ac162a-be52-4929-b27a-57722e7c7731",
   "metadata": {},
   "outputs": [
    {
     "data": {
      "text/html": [
       "<dl>\n",
       "\t<dt>$top3_topics</dt>\n",
       "\t\t<dd><style>\n",
       ".list-inline {list-style: none; margin:0; padding: 0}\n",
       ".list-inline>li {display: inline-block}\n",
       ".list-inline>li:not(:last-child)::after {content: \"\\00b7\"; padding: 0 .5ex}\n",
       "</style>\n",
       "<ol class=list-inline><li>'Q772'</li><li>'Q776'</li><li>'Q774'</li></ol>\n",
       "</dd>\n",
       "\t<dt>$percentages</dt>\n",
       "\t\t<dd><style>\n",
       ".dl-inline {width: auto; margin:0; padding: 0}\n",
       ".dl-inline>dt, .dl-inline>dd {float: none; width: auto; display: inline-block}\n",
       ".dl-inline>dt::after {content: \":\\0020\"; padding-right: .5ex}\n",
       ".dl-inline>dt:not(:first-of-type) {padding-left: .5ex}\n",
       "</style><dl class=dl-inline><dt>Q772</dt><dd>51.2476007677543</dd><dt>Q776</dt><dd>42.0345489443378</dd><dt>Q774</dt><dd>41.2667946257198</dd></dl>\n",
       "</dd>\n",
       "</dl>\n"
      ],
      "text/latex": [
       "\\begin{description}\n",
       "\\item[\\$top3\\_topics] \\begin{enumerate*}\n",
       "\\item 'Q772'\n",
       "\\item 'Q776'\n",
       "\\item 'Q774'\n",
       "\\end{enumerate*}\n",
       "\n",
       "\\item[\\$percentages] \\begin{description*}\n",
       "\\item[Q772] 51.2476007677543\n",
       "\\item[Q776] 42.0345489443378\n",
       "\\item[Q774] 41.2667946257198\n",
       "\\end{description*}\n",
       "\n",
       "\\end{description}\n"
      ],
      "text/markdown": [
       "$top3_topics\n",
       ":   1. 'Q772'\n",
       "2. 'Q776'\n",
       "3. 'Q774'\n",
       "\n",
       "\n",
       "\n",
       "$percentages\n",
       ":   Q772\n",
       ":   51.2476007677543Q776\n",
       ":   42.0345489443378Q774\n",
       ":   41.2667946257198\n",
       "\n",
       "\n",
       "\n",
       "\n"
      ],
      "text/plain": [
       "$top3_topics\n",
       "[1] \"Q772\" \"Q776\" \"Q774\"\n",
       "\n",
       "$percentages\n",
       "    Q772     Q776     Q774 \n",
       "51.24760 42.03455 41.26679 \n"
      ]
     },
     "metadata": {},
     "output_type": "display_data"
    }
   ],
   "source": [
    "# Get the top 3 ways\n",
    "top3_improve_services <- get_top3_and_percentage(final_data, improve_services)\n",
    "top3_improve_services"
   ]
  },
  {
   "cell_type": "markdown",
   "id": "e0f5930e-9abe-44a0-a89e-f0deec0e74af",
   "metadata": {},
   "source": [
    "## Top challenges to raising PrEP awareness (Q639-Q644)"
   ]
  },
  {
   "cell_type": "code",
   "execution_count": 285,
   "id": "0155b4c6-3f68-4860-b511-2c92d4726631",
   "metadata": {},
   "outputs": [],
   "source": [
    "# Create a vector of column names representing the challenge options\n",
    "awareness_challenges <- c('Q639','Q640','Q641','Q642','Q643','Q644')"
   ]
  },
  {
   "cell_type": "code",
   "execution_count": 286,
   "id": "cfd0c2e6-d6c2-4506-96dd-6c5456f09c96",
   "metadata": {},
   "outputs": [
    {
     "data": {
      "text/html": [
       "<dl>\n",
       "\t<dt>$top3_topics</dt>\n",
       "\t\t<dd><style>\n",
       ".list-inline {list-style: none; margin:0; padding: 0}\n",
       ".list-inline>li {display: inline-block}\n",
       ".list-inline>li:not(:last-child)::after {content: \"\\00b7\"; padding: 0 .5ex}\n",
       "</style>\n",
       "<ol class=list-inline><li>'Q640'</li><li>'Q643'</li><li>'Q641'</li></ol>\n",
       "</dd>\n",
       "\t<dt>$percentages</dt>\n",
       "\t\t<dd><style>\n",
       ".dl-inline {width: auto; margin:0; padding: 0}\n",
       ".dl-inline>dt, .dl-inline>dd {float: none; width: auto; display: inline-block}\n",
       ".dl-inline>dt::after {content: \":\\0020\"; padding-right: .5ex}\n",
       ".dl-inline>dt:not(:first-of-type) {padding-left: .5ex}\n",
       "</style><dl class=dl-inline><dt>Q640</dt><dd>77.9467680608365</dd><dt>Q643</dt><dd>65.7794676806084</dd><dt>Q641</dt><dd>61.2167300380228</dd></dl>\n",
       "</dd>\n",
       "</dl>\n"
      ],
      "text/latex": [
       "\\begin{description}\n",
       "\\item[\\$top3\\_topics] \\begin{enumerate*}\n",
       "\\item 'Q640'\n",
       "\\item 'Q643'\n",
       "\\item 'Q641'\n",
       "\\end{enumerate*}\n",
       "\n",
       "\\item[\\$percentages] \\begin{description*}\n",
       "\\item[Q640] 77.9467680608365\n",
       "\\item[Q643] 65.7794676806084\n",
       "\\item[Q641] 61.2167300380228\n",
       "\\end{description*}\n",
       "\n",
       "\\end{description}\n"
      ],
      "text/markdown": [
       "$top3_topics\n",
       ":   1. 'Q640'\n",
       "2. 'Q643'\n",
       "3. 'Q641'\n",
       "\n",
       "\n",
       "\n",
       "$percentages\n",
       ":   Q640\n",
       ":   77.9467680608365Q643\n",
       ":   65.7794676806084Q641\n",
       ":   61.2167300380228\n",
       "\n",
       "\n",
       "\n",
       "\n"
      ],
      "text/plain": [
       "$top3_topics\n",
       "[1] \"Q640\" \"Q643\" \"Q641\"\n",
       "\n",
       "$percentages\n",
       "    Q640     Q643     Q641 \n",
       "77.94677 65.77947 61.21673 \n"
      ]
     },
     "metadata": {},
     "output_type": "display_data"
    }
   ],
   "source": [
    "# Get the top 3 challenges\n",
    "top3_awareness_chall <- get_top3_and_percentage(final_data, awareness_challenges)\n",
    "top3_awareness_chall"
   ]
  },
  {
   "cell_type": "code",
   "execution_count": null,
   "id": "ff3291f2-a11f-4c39-9101-f06840881c35",
   "metadata": {},
   "outputs": [],
   "source": []
  }
 ],
 "metadata": {
  "kernelspec": {
   "display_name": "R",
   "language": "R",
   "name": "ir"
  },
  "language_info": {
   "codemirror_mode": "r",
   "file_extension": ".r",
   "mimetype": "text/x-r-source",
   "name": "R",
   "pygments_lexer": "r",
   "version": "4.2.1"
  }
 },
 "nbformat": 4,
 "nbformat_minor": 5
}
