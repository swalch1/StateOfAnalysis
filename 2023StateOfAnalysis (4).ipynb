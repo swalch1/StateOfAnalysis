{
 "cells": [
  {
   "cell_type": "code",
   "execution_count": 1,
   "id": "c9bfb403-84fc-4a42-aae8-753d90c26404",
   "metadata": {},
   "outputs": [
    {
     "name": "stderr",
     "output_type": "stream",
     "text": [
      "── \u001b[1mAttaching packages\u001b[22m ─────────────────────────────────────── tidyverse 1.3.2 ──\n",
      "\u001b[32m✔\u001b[39m \u001b[34mggplot2\u001b[39m 3.3.6      \u001b[32m✔\u001b[39m \u001b[34mdplyr  \u001b[39m 1.0.10\n",
      "\u001b[32m✔\u001b[39m \u001b[34mtibble \u001b[39m 3.1.8      \u001b[32m✔\u001b[39m \u001b[34mstringr\u001b[39m 1.4.1 \n",
      "\u001b[32m✔\u001b[39m \u001b[34mreadr  \u001b[39m 2.1.3      \u001b[32m✔\u001b[39m \u001b[34mforcats\u001b[39m 0.5.2 \n",
      "\u001b[32m✔\u001b[39m \u001b[34mpurrr  \u001b[39m 0.3.4      \n",
      "── \u001b[1mConflicts\u001b[22m ────────────────────────────────────────── tidyverse_conflicts() ──\n",
      "\u001b[31m✖\u001b[39m \u001b[34mdplyr\u001b[39m::\u001b[32mfilter()\u001b[39m masks \u001b[34mstats\u001b[39m::filter()\n",
      "\u001b[31m✖\u001b[39m \u001b[34mdplyr\u001b[39m::\u001b[32mlag()\u001b[39m    masks \u001b[34mstats\u001b[39m::lag()\n"
     ]
    }
   ],
   "source": [
    "library(tidyr)\n",
    "library(tidyverse) \n",
    "library(knitr)"
   ]
  },
  {
   "cell_type": "markdown",
   "id": "6b28b80d-dfed-45b5-814c-75c4d81637ca",
   "metadata": {},
   "source": [
    "# Data Cleaning/Import"
   ]
  },
  {
   "cell_type": "code",
   "execution_count": 2,
   "id": "913b09d0-90e1-4771-8a37-f2fbe4dc773b",
   "metadata": {},
   "outputs": [],
   "source": [
    "# Read in CSV file\n",
    "test_data <- read.csv(\"R_test.csv\")\n",
    "\n",
    "# Remove second row so column names are preserved\n",
    "test_data <- test_data[-c(1),]\n",
    "\n",
    "# Change column names\n",
    "colnames(test_data)[1] <- \"Record_ID\"\n",
    "colnames(test_data)[2] <- \"email\"\n",
    "\n",
    "# Convert \"Unchecked\" and empty values to NA in all columns\n",
    "checked_columns <- colnames(test_data)[-c(1, 2)]  # Get column names excluding Record_ID and email\n",
    "\n",
    "for (col in checked_columns) {\n",
    "  test_data[[col]] <- ifelse(test_data[[col]] %in% c(\"Unchecked\", \"\"), NA, test_data[[col]])\n",
    "}\n",
    "\n",
    "# Remove rows with all missing values - remove rows where all values are NA except for \"Record_ID\", \"email\", and \"Q219\" columns\n",
    "test_data <- test_data[rowSums(is.na(test_data[, 3:844])) != (844 - 3 + 1), ]\n",
    "\n",
    "# Find rows with duplicate email\n",
    "duplicate_data <- test_data[duplicated(test_data$email) | duplicated(test_data$email, fromLast = TRUE), ]\n",
    "\n",
    "# Merge rows with duplicate email, keeping only non-missing values and updating Record_ID\n",
    "merged_data <- duplicate_data %>%\n",
    "  group_by(email) %>%\n",
    "  summarize(across(everything(), ~ ifelse(all(is.na(.)), NA, first(na.omit(.)))), .groups = \"drop\")\n",
    "\n",
    "# Combine non-duplicate rows with merged rows\n",
    "final_data <- test_data %>%\n",
    "  group_by(email) %>%\n",
    "  summarize(across(everything(), ~ ifelse(all(is.na(.)), NA, first(na.omit(.)))), .groups = \"drop\")\n",
    "\n",
    "# Convert \"Checked\" to 1\n",
    "final_data[] <- lapply(final_data, function(x) ifelse(x == \"Checked\", 1, x))"
   ]
  },
  {
   "cell_type": "code",
   "execution_count": 3,
   "id": "eac9a721-e0b0-4a8a-bba8-d5d1c961f89c",
   "metadata": {},
   "outputs": [
    {
     "data": {
      "text/html": [
       "<table class=\"dataframe\">\n",
       "<caption>A tibble: 10 × 855</caption>\n",
       "<thead>\n",
       "\t<tr><th scope=col>email</th><th scope=col>Record_ID</th><th scope=col>Q1</th><th scope=col>Q2</th><th scope=col>Q3</th><th scope=col>Q4</th><th scope=col>Q5</th><th scope=col>Q6</th><th scope=col>Q7</th><th scope=col>Q8</th><th scope=col>⋯</th><th scope=col>Q810</th><th scope=col>Q811</th><th scope=col>Q812</th><th scope=col>Q813</th><th scope=col>Q814</th><th scope=col>Q815</th><th scope=col>Q816</th><th scope=col>Q817</th><th scope=col>Q818</th><th scope=col>Q819</th></tr>\n",
       "\t<tr><th scope=col>&lt;chr&gt;</th><th scope=col>&lt;chr&gt;</th><th scope=col>&lt;chr&gt;</th><th scope=col>&lt;chr&gt;</th><th scope=col>&lt;chr&gt;</th><th scope=col>&lt;chr&gt;</th><th scope=col>&lt;chr&gt;</th><th scope=col>&lt;chr&gt;</th><th scope=col>&lt;dbl&gt;</th><th scope=col>&lt;dbl&gt;</th><th scope=col>⋯</th><th scope=col>&lt;chr&gt;</th><th scope=col>&lt;chr&gt;</th><th scope=col>&lt;chr&gt;</th><th scope=col>&lt;chr&gt;</th><th scope=col>&lt;chr&gt;</th><th scope=col>&lt;chr&gt;</th><th scope=col>&lt;chr&gt;</th><th scope=col>&lt;chr&gt;</th><th scope=col>&lt;chr&gt;</th><th scope=col>&lt;chr&gt;</th></tr>\n",
       "</thead>\n",
       "<tbody>\n",
       "\t<tr><td>                                </td><td>1136</td><td>LBGTQ Health Center/Community Center         </td><td>NA</td><td>Connecticut         </td><td>6511 </td><td>Urban   </td><td>Yes</td><td> 1</td><td> 1</td><td>⋯</td><td>NA                                                                                       </td><td>NA    </td><td>NA                                                         </td><td>NA</td><td>NA</td><td>NA </td><td>NA </td><td>NA                                     </td><td>NA                                                                                                                                                                                                                                      </td><td>Incomplete</td></tr>\n",
       "\t<tr><td>19tyler@gmail.com               </td><td>422 </td><td>Non-profit organization                      </td><td>NA</td><td>District of Columbia</td><td>20005</td><td>Urban   </td><td>No </td><td> 1</td><td>NA</td><td>⋯</td><td>fear of how far laws will go  and stigmatizingp -                                        </td><td>Unsure</td><td>fear                                                       </td><td>No</td><td>NA</td><td>Yes</td><td>Yes</td><td>gov refuses to use evidenced based data</td><td>limitations on providing harm Reduction services, syringe exchanges and safe injection sites in heavily using areas.                                                                                                                    </td><td>Complete  </td></tr>\n",
       "\t<tr><td>3sollenberger@gmail.com         </td><td>1294</td><td>Non-profit organization                      </td><td>NA</td><td>Pennsylvania        </td><td>15222</td><td>Urban   </td><td>No </td><td> 1</td><td> 1</td><td>⋯</td><td>NA                                                                                       </td><td>Yes   </td><td>NA                                                         </td><td>No</td><td>NA</td><td>No </td><td>NA </td><td>NA                                     </td><td>NA                                                                                                                                                                                                                                      </td><td>Complete  </td></tr>\n",
       "\t<tr><td>6ap464zdb@mozmail.com           </td><td>687 </td><td>Community Based Organization (CBO)           </td><td>NA</td><td>New York            </td><td>14527</td><td>Rural   </td><td>No </td><td> 1</td><td> 1</td><td>⋯</td><td>NA                                                                                       </td><td>NA    </td><td>NA                                                         </td><td>NA</td><td>NA</td><td>NA </td><td>NA </td><td>NA                                     </td><td>NA                                                                                                                                                                                                                                      </td><td>Incomplete</td></tr>\n",
       "\t<tr><td>aabundiz@hyacinth.org           </td><td>1519</td><td>Community Based Organization (CBO)           </td><td>NA</td><td>New Jersey          </td><td>7060 </td><td>Suburban</td><td>No </td><td>NA</td><td>NA</td><td>⋯</td><td>NA                                                                                       </td><td>Unsure</td><td>NA                                                         </td><td>No</td><td>NA</td><td>No </td><td>NA </td><td>NA                                     </td><td>NA                                                                                                                                                                                                                                      </td><td>Complete  </td></tr>\n",
       "\t<tr><td>aadegbulugbe@totalhealthcare.org</td><td>222 </td><td>Federally Qualified Health Center (FQHC)     </td><td>NA</td><td>Maryland            </td><td>21223</td><td>Urban   </td><td>Yes</td><td> 1</td><td> 1</td><td>⋯</td><td>NA                                                                                       </td><td>Yes   </td><td>increases stress due to more stigma and discrimination     </td><td>No</td><td>NA</td><td>No </td><td>NA </td><td>NA                                     </td><td>Major issue is with insurance coverage for medications which has no rhyme or reason and significantly disrupts patient care and results in major increase in workload, need coverage  protections for ART and PrEP  medications returned</td><td>Complete  </td></tr>\n",
       "\t<tr><td>aalbior@bach.health             </td><td>1550</td><td>Federally Qualified Health Center (FQHC)     </td><td>NA</td><td>California          </td><td>94538</td><td>Suburban</td><td>No </td><td>NA</td><td>NA</td><td>⋯</td><td>NA                                                                                       </td><td>Yes   </td><td>NA                                                         </td><td>No</td><td>NA</td><td>No </td><td>NA </td><td>NA                                     </td><td>NA                                                                                                                                                                                                                                      </td><td>Complete  </td></tr>\n",
       "\t<tr><td>aalcanta@conemaugh.org          </td><td>1385</td><td>AIDS Service Organization (ASO)              </td><td>NA</td><td>Pennsylvania        </td><td>15905</td><td>Rural   </td><td>No </td><td> 1</td><td> 1</td><td>⋯</td><td>NA                                                                                       </td><td>NA    </td><td>NA                                                         </td><td>NA</td><td>NA</td><td>NA </td><td>NA </td><td>NA                                     </td><td>NA                                                                                                                                                                                                                                      </td><td>Incomplete</td></tr>\n",
       "\t<tr><td>abby.hinz@eauclairecounty.gov   </td><td>258 </td><td>Health department clinic/public health clinic</td><td>NA</td><td>Wisconsin           </td><td>54703</td><td>Urban   </td><td>Yes</td><td> 1</td><td>NA</td><td>⋯</td><td>NA                                                                                       </td><td>Yes   </td><td>Feel less support for the general community/society        </td><td>No</td><td>NA</td><td>No </td><td>NA </td><td>NA                                     </td><td>NA                                                                                                                                                                                                                                      </td><td>Complete  </td></tr>\n",
       "\t<tr><td>abergman@cmhcm.org              </td><td>1123</td><td>Government entity (Local, State, Federal)    </td><td>NA</td><td>Michigan            </td><td>48858</td><td>Suburban</td><td>No </td><td> 1</td><td> 1</td><td>⋯</td><td>Any policy that impacts the queer community, will impact those individuals in our agency.</td><td>Yes   </td><td>Increased crises with trans clients due to anti-trans laws.</td><td>No</td><td>NA</td><td>NA </td><td>NA </td><td>NA                                     </td><td>NA                                                                                                                                                                                                                                      </td><td>Complete  </td></tr>\n",
       "</tbody>\n",
       "</table>\n"
      ],
      "text/latex": [
       "A tibble: 10 × 855\n",
       "\\begin{tabular}{lllllllllllllllllllll}\n",
       " email & Record\\_ID & Q1 & Q2 & Q3 & Q4 & Q5 & Q6 & Q7 & Q8 & ⋯ & Q810 & Q811 & Q812 & Q813 & Q814 & Q815 & Q816 & Q817 & Q818 & Q819\\\\\n",
       " <chr> & <chr> & <chr> & <chr> & <chr> & <chr> & <chr> & <chr> & <dbl> & <dbl> & ⋯ & <chr> & <chr> & <chr> & <chr> & <chr> & <chr> & <chr> & <chr> & <chr> & <chr>\\\\\n",
       "\\hline\n",
       "\t                                  & 1136 & LBGTQ Health Center/Community Center          & NA & Connecticut          & 6511  & Urban    & Yes &  1 &  1 & ⋯ & NA                                                                                        & NA     & NA                                                          & NA & NA & NA  & NA  & NA                                      & NA                                                                                                                                                                                                                                       & Incomplete\\\\\n",
       "\t 19tyler@gmail.com                & 422  & Non-profit organization                       & NA & District of Columbia & 20005 & Urban    & No  &  1 & NA & ⋯ & fear of how far laws will go  and stigmatizingp -                                         & Unsure & fear                                                        & No & NA & Yes & Yes & gov refuses to use evidenced based data & limitations on providing harm Reduction services, syringe exchanges and safe injection sites in heavily using areas.                                                                                                                     & Complete  \\\\\n",
       "\t 3sollenberger@gmail.com          & 1294 & Non-profit organization                       & NA & Pennsylvania         & 15222 & Urban    & No  &  1 &  1 & ⋯ & NA                                                                                        & Yes    & NA                                                          & No & NA & No  & NA  & NA                                      & NA                                                                                                                                                                                                                                       & Complete  \\\\\n",
       "\t 6ap464zdb@mozmail.com            & 687  & Community Based Organization (CBO)            & NA & New York             & 14527 & Rural    & No  &  1 &  1 & ⋯ & NA                                                                                        & NA     & NA                                                          & NA & NA & NA  & NA  & NA                                      & NA                                                                                                                                                                                                                                       & Incomplete\\\\\n",
       "\t aabundiz@hyacinth.org            & 1519 & Community Based Organization (CBO)            & NA & New Jersey           & 7060  & Suburban & No  & NA & NA & ⋯ & NA                                                                                        & Unsure & NA                                                          & No & NA & No  & NA  & NA                                      & NA                                                                                                                                                                                                                                       & Complete  \\\\\n",
       "\t aadegbulugbe@totalhealthcare.org & 222  & Federally Qualified Health Center (FQHC)      & NA & Maryland             & 21223 & Urban    & Yes &  1 &  1 & ⋯ & NA                                                                                        & Yes    & increases stress due to more stigma and discrimination      & No & NA & No  & NA  & NA                                      & Major issue is with insurance coverage for medications which has no rhyme or reason and significantly disrupts patient care and results in major increase in workload, need coverage  protections for ART and PrEP  medications returned & Complete  \\\\\n",
       "\t aalbior@bach.health              & 1550 & Federally Qualified Health Center (FQHC)      & NA & California           & 94538 & Suburban & No  & NA & NA & ⋯ & NA                                                                                        & Yes    & NA                                                          & No & NA & No  & NA  & NA                                      & NA                                                                                                                                                                                                                                       & Complete  \\\\\n",
       "\t aalcanta@conemaugh.org           & 1385 & AIDS Service Organization (ASO)               & NA & Pennsylvania         & 15905 & Rural    & No  &  1 &  1 & ⋯ & NA                                                                                        & NA     & NA                                                          & NA & NA & NA  & NA  & NA                                      & NA                                                                                                                                                                                                                                       & Incomplete\\\\\n",
       "\t abby.hinz@eauclairecounty.gov    & 258  & Health department clinic/public health clinic & NA & Wisconsin            & 54703 & Urban    & Yes &  1 & NA & ⋯ & NA                                                                                        & Yes    & Feel less support for the general community/society         & No & NA & No  & NA  & NA                                      & NA                                                                                                                                                                                                                                       & Complete  \\\\\n",
       "\t abergman@cmhcm.org               & 1123 & Government entity (Local, State, Federal)     & NA & Michigan             & 48858 & Suburban & No  &  1 &  1 & ⋯ & Any policy that impacts the queer community, will impact those individuals in our agency. & Yes    & Increased crises with trans clients due to anti-trans laws. & No & NA & NA  & NA  & NA                                      & NA                                                                                                                                                                                                                                       & Complete  \\\\\n",
       "\\end{tabular}\n"
      ],
      "text/markdown": [
       "\n",
       "A tibble: 10 × 855\n",
       "\n",
       "| email &lt;chr&gt; | Record_ID &lt;chr&gt; | Q1 &lt;chr&gt; | Q2 &lt;chr&gt; | Q3 &lt;chr&gt; | Q4 &lt;chr&gt; | Q5 &lt;chr&gt; | Q6 &lt;chr&gt; | Q7 &lt;dbl&gt; | Q8 &lt;dbl&gt; | ⋯ ⋯ | Q810 &lt;chr&gt; | Q811 &lt;chr&gt; | Q812 &lt;chr&gt; | Q813 &lt;chr&gt; | Q814 &lt;chr&gt; | Q815 &lt;chr&gt; | Q816 &lt;chr&gt; | Q817 &lt;chr&gt; | Q818 &lt;chr&gt; | Q819 &lt;chr&gt; |\n",
       "|---|---|---|---|---|---|---|---|---|---|---|---|---|---|---|---|---|---|---|---|---|\n",
       "| <!----> | 1136 | LBGTQ Health Center/Community Center          | NA | Connecticut          | 6511  | Urban    | Yes |  1 |  1 | ⋯ | NA                                                                                        | NA     | NA                                                          | NA | NA | NA  | NA  | NA                                      | NA                                                                                                                                                                                                                                       | Incomplete |\n",
       "| 19tyler@gmail.com                | 422  | Non-profit organization                       | NA | District of Columbia | 20005 | Urban    | No  |  1 | NA | ⋯ | fear of how far laws will go  and stigmatizingp -                                         | Unsure | fear                                                        | No | NA | Yes | Yes | gov refuses to use evidenced based data | limitations on providing harm Reduction services, syringe exchanges and safe injection sites in heavily using areas.                                                                                                                     | Complete   |\n",
       "| 3sollenberger@gmail.com          | 1294 | Non-profit organization                       | NA | Pennsylvania         | 15222 | Urban    | No  |  1 |  1 | ⋯ | NA                                                                                        | Yes    | NA                                                          | No | NA | No  | NA  | NA                                      | NA                                                                                                                                                                                                                                       | Complete   |\n",
       "| 6ap464zdb@mozmail.com            | 687  | Community Based Organization (CBO)            | NA | New York             | 14527 | Rural    | No  |  1 |  1 | ⋯ | NA                                                                                        | NA     | NA                                                          | NA | NA | NA  | NA  | NA                                      | NA                                                                                                                                                                                                                                       | Incomplete |\n",
       "| aabundiz@hyacinth.org            | 1519 | Community Based Organization (CBO)            | NA | New Jersey           | 7060  | Suburban | No  | NA | NA | ⋯ | NA                                                                                        | Unsure | NA                                                          | No | NA | No  | NA  | NA                                      | NA                                                                                                                                                                                                                                       | Complete   |\n",
       "| aadegbulugbe@totalhealthcare.org | 222  | Federally Qualified Health Center (FQHC)      | NA | Maryland             | 21223 | Urban    | Yes |  1 |  1 | ⋯ | NA                                                                                        | Yes    | increases stress due to more stigma and discrimination      | No | NA | No  | NA  | NA                                      | Major issue is with insurance coverage for medications which has no rhyme or reason and significantly disrupts patient care and results in major increase in workload, need coverage  protections for ART and PrEP  medications returned | Complete   |\n",
       "| aalbior@bach.health              | 1550 | Federally Qualified Health Center (FQHC)      | NA | California           | 94538 | Suburban | No  | NA | NA | ⋯ | NA                                                                                        | Yes    | NA                                                          | No | NA | No  | NA  | NA                                      | NA                                                                                                                                                                                                                                       | Complete   |\n",
       "| aalcanta@conemaugh.org           | 1385 | AIDS Service Organization (ASO)               | NA | Pennsylvania         | 15905 | Rural    | No  |  1 |  1 | ⋯ | NA                                                                                        | NA     | NA                                                          | NA | NA | NA  | NA  | NA                                      | NA                                                                                                                                                                                                                                       | Incomplete |\n",
       "| abby.hinz@eauclairecounty.gov    | 258  | Health department clinic/public health clinic | NA | Wisconsin            | 54703 | Urban    | Yes |  1 | NA | ⋯ | NA                                                                                        | Yes    | Feel less support for the general community/society         | No | NA | No  | NA  | NA                                      | NA                                                                                                                                                                                                                                       | Complete   |\n",
       "| abergman@cmhcm.org               | 1123 | Government entity (Local, State, Federal)     | NA | Michigan             | 48858 | Suburban | No  |  1 |  1 | ⋯ | Any policy that impacts the queer community, will impact those individuals in our agency. | Yes    | Increased crises with trans clients due to anti-trans laws. | No | NA | NA  | NA  | NA                                      | NA                                                                                                                                                                                                                                       | Complete   |\n",
       "\n"
      ],
      "text/plain": [
       "   email                            Record_ID\n",
       "1                                   1136     \n",
       "2  19tyler@gmail.com                422      \n",
       "3  3sollenberger@gmail.com          1294     \n",
       "4  6ap464zdb@mozmail.com            687      \n",
       "5  aabundiz@hyacinth.org            1519     \n",
       "6  aadegbulugbe@totalhealthcare.org 222      \n",
       "7  aalbior@bach.health              1550     \n",
       "8  aalcanta@conemaugh.org           1385     \n",
       "9  abby.hinz@eauclairecounty.gov    258      \n",
       "10 abergman@cmhcm.org               1123     \n",
       "   Q1                                            Q2 Q3                   Q4   \n",
       "1  LBGTQ Health Center/Community Center          NA Connecticut          6511 \n",
       "2  Non-profit organization                       NA District of Columbia 20005\n",
       "3  Non-profit organization                       NA Pennsylvania         15222\n",
       "4  Community Based Organization (CBO)            NA New York             14527\n",
       "5  Community Based Organization (CBO)            NA New Jersey           7060 \n",
       "6  Federally Qualified Health Center (FQHC)      NA Maryland             21223\n",
       "7  Federally Qualified Health Center (FQHC)      NA California           94538\n",
       "8  AIDS Service Organization (ASO)               NA Pennsylvania         15905\n",
       "9  Health department clinic/public health clinic NA Wisconsin            54703\n",
       "10 Government entity (Local, State, Federal)     NA Michigan             48858\n",
       "   Q5       Q6  Q7 Q8 ⋯\n",
       "1  Urban    Yes  1  1 ⋯\n",
       "2  Urban    No   1 NA ⋯\n",
       "3  Urban    No   1  1 ⋯\n",
       "4  Rural    No   1  1 ⋯\n",
       "5  Suburban No  NA NA ⋯\n",
       "6  Urban    Yes  1  1 ⋯\n",
       "7  Suburban No  NA NA ⋯\n",
       "8  Rural    No   1  1 ⋯\n",
       "9  Urban    Yes  1 NA ⋯\n",
       "10 Suburban No   1  1 ⋯\n",
       "   Q810                                                                                     \n",
       "1  NA                                                                                       \n",
       "2  fear of how far laws will go  and stigmatizingp -                                        \n",
       "3  NA                                                                                       \n",
       "4  NA                                                                                       \n",
       "5  NA                                                                                       \n",
       "6  NA                                                                                       \n",
       "7  NA                                                                                       \n",
       "8  NA                                                                                       \n",
       "9  NA                                                                                       \n",
       "10 Any policy that impacts the queer community, will impact those individuals in our agency.\n",
       "   Q811   Q812                                                        Q813 Q814\n",
       "1  NA     NA                                                          NA   NA  \n",
       "2  Unsure fear                                                        No   NA  \n",
       "3  Yes    NA                                                          No   NA  \n",
       "4  NA     NA                                                          NA   NA  \n",
       "5  Unsure NA                                                          No   NA  \n",
       "6  Yes    increases stress due to more stigma and discrimination      No   NA  \n",
       "7  Yes    NA                                                          No   NA  \n",
       "8  NA     NA                                                          NA   NA  \n",
       "9  Yes    Feel less support for the general community/society         No   NA  \n",
       "10 Yes    Increased crises with trans clients due to anti-trans laws. No   NA  \n",
       "   Q815 Q816 Q817                                   \n",
       "1  NA   NA   NA                                     \n",
       "2  Yes  Yes  gov refuses to use evidenced based data\n",
       "3  No   NA   NA                                     \n",
       "4  NA   NA   NA                                     \n",
       "5  No   NA   NA                                     \n",
       "6  No   NA   NA                                     \n",
       "7  No   NA   NA                                     \n",
       "8  NA   NA   NA                                     \n",
       "9  No   NA   NA                                     \n",
       "10 NA   NA   NA                                     \n",
       "   Q818                                                                                                                                                                                                                                    \n",
       "1  NA                                                                                                                                                                                                                                      \n",
       "2  limitations on providing harm Reduction services, syringe exchanges and safe injection sites in heavily using areas.                                                                                                                    \n",
       "3  NA                                                                                                                                                                                                                                      \n",
       "4  NA                                                                                                                                                                                                                                      \n",
       "5  NA                                                                                                                                                                                                                                      \n",
       "6  Major issue is with insurance coverage for medications which has no rhyme or reason and significantly disrupts patient care and results in major increase in workload, need coverage  protections for ART and PrEP  medications returned\n",
       "7  NA                                                                                                                                                                                                                                      \n",
       "8  NA                                                                                                                                                                                                                                      \n",
       "9  NA                                                                                                                                                                                                                                      \n",
       "10 NA                                                                                                                                                                                                                                      \n",
       "   Q819      \n",
       "1  Incomplete\n",
       "2  Complete  \n",
       "3  Complete  \n",
       "4  Incomplete\n",
       "5  Complete  \n",
       "6  Complete  \n",
       "7  Complete  \n",
       "8  Incomplete\n",
       "9  Complete  \n",
       "10 Complete  "
      ]
     },
     "metadata": {},
     "output_type": "display_data"
    }
   ],
   "source": [
    "# preview of cleaned data\n",
    "head(final_data, 10)"
   ]
  },
  {
   "cell_type": "markdown",
   "id": "f8a1be81-c927-4731-b4aa-956267f1fba7",
   "metadata": {},
   "source": [
    "## Number of incomplete and complete responses"
   ]
  },
  {
   "cell_type": "code",
   "execution_count": 4,
   "id": "4e470ab8-98ed-4c41-928c-a76fe15210e7",
   "metadata": {},
   "outputs": [
    {
     "data": {
      "text/plain": [
       "\n",
       "  Complete Incomplete \n",
       "       819        295 "
      ]
     },
     "metadata": {},
     "output_type": "display_data"
    }
   ],
   "source": [
    "# Complete vs incomplete for general data\n",
    "table(final_data$Q819)"
   ]
  },
  {
   "cell_type": "markdown",
   "id": "de375dc0-e45f-4476-b6d2-b8af09cf2fb6",
   "metadata": {},
   "source": [
    "# Descriptive Statistics for overall data"
   ]
  },
  {
   "cell_type": "markdown",
   "id": "7073397c-13fc-4ca9-bea4-531aa48370a8",
   "metadata": {},
   "source": [
    "## Age counts"
   ]
  },
  {
   "cell_type": "code",
   "execution_count": 5,
   "id": "5942d6fc-99be-4dad-a806-b44650c17347",
   "metadata": {},
   "outputs": [
    {
     "data": {
      "text/plain": [
       "\n",
       "                18-24                 25-34                 35-44 \n",
       "                   31                   204                   256 \n",
       "                45-54                 55-64                    65 \n",
       "                  262                   226                   103 \n",
       "Prefer not to respond \n",
       "                   23 "
      ]
     },
     "metadata": {},
     "output_type": "display_data"
    }
   ],
   "source": [
    "# Age\n",
    "gen_age <- table(final_data$Q162)\n",
    "gen_age"
   ]
  },
  {
   "cell_type": "markdown",
   "id": "27e6753d-b829-4342-a111-6328a4ca309e",
   "metadata": {},
   "source": [
    "## Age percentages"
   ]
  },
  {
   "cell_type": "code",
   "execution_count": 6,
   "id": "72642840-0b10-414f-a667-f0890fd5fa54",
   "metadata": {},
   "outputs": [
    {
     "data": {
      "text/plain": [
       "\n",
       "                18-24                 25-34                 35-44 \n",
       "             2.805430             18.461538             23.167421 \n",
       "                45-54                 55-64                    65 \n",
       "            23.710407             20.452489              9.321267 \n",
       "Prefer not to respond \n",
       "             2.081448 "
      ]
     },
     "metadata": {},
     "output_type": "display_data"
    }
   ],
   "source": [
    "# Age\n",
    "gen_age_perc <- prop.table(gen_age)*100\n",
    "gen_age_perc"
   ]
  },
  {
   "cell_type": "markdown",
   "id": "8442e1ce-8326-47ab-bd8f-1ef74f5b4d77",
   "metadata": {},
   "source": [
    "## Race counts"
   ]
  },
  {
   "cell_type": "code",
   "execution_count": 7,
   "id": "fd14c1fb-0d81-4c59-ae23-b85755a4e589",
   "metadata": {},
   "outputs": [
    {
     "data": {
      "text/plain": [
       "\n",
       "        Asian and/or Asian American           Black or African American \n",
       "                                 28                                 273 \n",
       "                        Multiracial    Native American or Alaska Native \n",
       "                                 79                                  13 \n",
       "Native Hawaiian or Pacific Islander               Prefer not to respond \n",
       "                                  5                                  55 \n",
       "            Prefer to self-describe                  White or Caucasian \n",
       "                                 26                                 625 "
      ]
     },
     "metadata": {},
     "output_type": "display_data"
    }
   ],
   "source": [
    "## Race\n",
    "gen_race <- table(final_data$Q159)\n",
    "gen_race"
   ]
  },
  {
   "cell_type": "markdown",
   "id": "8e9ee63d-6bf8-41aa-a728-c29a61904dc4",
   "metadata": {},
   "source": [
    "## Race percentages"
   ]
  },
  {
   "cell_type": "code",
   "execution_count": 8,
   "id": "bfe40d46-2ec5-44da-ad19-834279753c26",
   "metadata": {},
   "outputs": [
    {
     "data": {
      "text/plain": [
       "\n",
       "        Asian and/or Asian American           Black or African American \n",
       "                          2.5362319                          24.7282609 \n",
       "                        Multiracial    Native American or Alaska Native \n",
       "                          7.1557971                           1.1775362 \n",
       "Native Hawaiian or Pacific Islander               Prefer not to respond \n",
       "                          0.4528986                           4.9818841 \n",
       "            Prefer to self-describe                  White or Caucasian \n",
       "                          2.3550725                          56.6123188 "
      ]
     },
     "metadata": {},
     "output_type": "display_data"
    }
   ],
   "source": [
    "# Race\n",
    "gen_race_perc <- prop.table(gen_race)*100\n",
    "gen_race_perc"
   ]
  },
  {
   "cell_type": "markdown",
   "id": "fc8f0847-c9a3-419e-92fb-ccc468bb8a18",
   "metadata": {},
   "source": [
    "## Hispanic/Latinx counts"
   ]
  },
  {
   "cell_type": "code",
   "execution_count": 9,
   "id": "01099ab1-276a-4994-af38-a79530a9056c",
   "metadata": {},
   "outputs": [
    {
     "data": {
      "text/plain": [
       "\n",
       "                   No Prefer not to respond                   Yes \n",
       "                  887                    21                   197 "
      ]
     },
     "metadata": {},
     "output_type": "display_data"
    }
   ],
   "source": [
    "## Hispanic/Latinx\n",
    "gen_hisp <- table(final_data$Q161)\n",
    "gen_hisp\n"
   ]
  },
  {
   "cell_type": "markdown",
   "id": "9b89bee1-55c7-4410-8577-881a643085fb",
   "metadata": {},
   "source": [
    "## Hispanic/Latinx percentages"
   ]
  },
  {
   "cell_type": "code",
   "execution_count": 10,
   "id": "085873bd-84f3-4cdb-b257-b0720e0a8256",
   "metadata": {},
   "outputs": [
    {
     "data": {
      "text/plain": [
       "\n",
       "                   No Prefer not to respond                   Yes \n",
       "            80.271493              1.900452             17.828054 "
      ]
     },
     "metadata": {},
     "output_type": "display_data"
    }
   ],
   "source": [
    "gen_hisp_perc <- prop.table(gen_hisp)*100\n",
    "gen_hisp_perc"
   ]
  },
  {
   "cell_type": "markdown",
   "id": "a3ec0efd-662a-400e-bd47-cae24f5241be",
   "metadata": {},
   "source": [
    "## Type of organization counts"
   ]
  },
  {
   "cell_type": "code",
   "execution_count": 11,
   "id": "f5f214f9-076f-4e02-917a-b4575c917d5c",
   "metadata": {},
   "outputs": [
    {
     "data": {
      "text/plain": [
       "\n",
       "             Academic hospital/clinic setting \n",
       "                                           80 \n",
       "                        Advocacy organization \n",
       "                                            5 \n",
       "              AIDS Service Organization (ASO) \n",
       "                                          133 \n",
       "           Community Based Organization (CBO) \n",
       "                                          129 \n",
       "     Federally Qualified Health Center (FQHC) \n",
       "                                          134 \n",
       "    Government entity (Local, State, Federal) \n",
       "                                          105 \n",
       "               Health department (non-clinic) \n",
       "                                           41 \n",
       "Health department clinic/public health clinic \n",
       "                                          146 \n",
       "         LBGTQ Health Center/Community Center \n",
       "                                           55 \n",
       "                      Non-profit organization \n",
       "                                          159 \n",
       "                                        Other \n",
       "                                           27 \n",
       "                                     Pharmacy \n",
       "                                            7 \n",
       "              Private hospital/clinic setting \n",
       "                                           36 \n",
       "                             Private practice \n",
       "                                           24 \n",
       "             Substance use treatment facility \n",
       "                                           11 \n",
       "                           University/college \n",
       "                                           22 "
      ]
     },
     "metadata": {},
     "output_type": "display_data"
    }
   ],
   "source": [
    "## Org type\n",
    "gen_org_type <- table(final_data$Q1)\n",
    "gen_org_type"
   ]
  },
  {
   "cell_type": "markdown",
   "id": "3a4e124b-2fe6-42b1-a085-e72d0343f385",
   "metadata": {},
   "source": [
    "## Type of organization percentages"
   ]
  },
  {
   "cell_type": "code",
   "execution_count": 12,
   "id": "d597844a-b8ae-41b4-ac3e-4e00e37bfddd",
   "metadata": {},
   "outputs": [
    {
     "data": {
      "text/plain": [
       "\n",
       "             Academic hospital/clinic setting \n",
       "                                    7.1813285 \n",
       "                        Advocacy organization \n",
       "                                    0.4488330 \n",
       "              AIDS Service Organization (ASO) \n",
       "                                   11.9389587 \n",
       "           Community Based Organization (CBO) \n",
       "                                   11.5798923 \n",
       "     Federally Qualified Health Center (FQHC) \n",
       "                                   12.0287253 \n",
       "    Government entity (Local, State, Federal) \n",
       "                                    9.4254937 \n",
       "               Health department (non-clinic) \n",
       "                                    3.6804309 \n",
       "Health department clinic/public health clinic \n",
       "                                   13.1059246 \n",
       "         LBGTQ Health Center/Community Center \n",
       "                                    4.9371634 \n",
       "                      Non-profit organization \n",
       "                                   14.2728905 \n",
       "                                        Other \n",
       "                                    2.4236984 \n",
       "                                     Pharmacy \n",
       "                                    0.6283662 \n",
       "              Private hospital/clinic setting \n",
       "                                    3.2315978 \n",
       "                             Private practice \n",
       "                                    2.1543986 \n",
       "             Substance use treatment facility \n",
       "                                    0.9874327 \n",
       "                           University/college \n",
       "                                    1.9748654 "
      ]
     },
     "metadata": {},
     "output_type": "display_data"
    }
   ],
   "source": [
    "gen_org_perc <- prop.table(gen_org_type)*100\n",
    "gen_org_perc"
   ]
  },
  {
   "cell_type": "markdown",
   "id": "f5fa7375-d578-483a-a294-dd6978d0a403",
   "metadata": {},
   "source": [
    "## State counts"
   ]
  },
  {
   "cell_type": "code",
   "execution_count": 13,
   "id": "4b4b8e10-c6ba-4f41-849a-beaf9889baea",
   "metadata": {},
   "outputs": [
    {
     "data": {
      "text/plain": [
       "\n",
       "             Alabama               Alaska              Arizona \n",
       "                   8                    1                   15 \n",
       "            Arkansas           California             Colorado \n",
       "                   8                  105                   16 \n",
       "         Connecticut             Delaware District of Columbia \n",
       "                  20                   12                   39 \n",
       "             Florida              Georgia               Hawaii \n",
       "                  64                   26                   11 \n",
       "               Idaho             Illinois              Indiana \n",
       "                   2                   38                   46 \n",
       "                Iowa               Kansas             Kentucky \n",
       "                  13                    4                   30 \n",
       "           Louisiana                Maine             Maryland \n",
       "                  24                    1                   67 \n",
       "       Massachusetts             Michigan            Minnesota \n",
       "                   7                   43                   16 \n",
       "         Mississippi             Missouri              Montana \n",
       "                   9                   20                    2 \n",
       "            Nebraska               Nevada        New Hampshire \n",
       "                   7                    6                    3 \n",
       "          New Jersey           New Mexico             New York \n",
       "                  55                    4                   76 \n",
       "      North Carolina                 Ohio             Oklahoma \n",
       "                  31                   14                    1 \n",
       "              Oregon         Pennsylvania          Puerto Rico \n",
       "                   9                   69                   10 \n",
       "        Rhode Island       South Carolina            Tennessee \n",
       "                   4                   14                   18 \n",
       "               Texas                 Utah              Vermont \n",
       "                  46                    3                    3 \n",
       "      Virgin Islands             Virginia           Washington \n",
       "                   4                   35                   25 \n",
       "       West Virginia            Wisconsin              Wyoming \n",
       "                   8                   12                    6 "
      ]
     },
     "metadata": {},
     "output_type": "display_data"
    }
   ],
   "source": [
    "## States\n",
    "gen_state_counts <- table(final_data$Q3)\n",
    "gen_state_counts"
   ]
  },
  {
   "cell_type": "markdown",
   "id": "7886ab50-899a-4e57-8e00-f41fe5ae294f",
   "metadata": {},
   "source": [
    "## State percentages"
   ]
  },
  {
   "cell_type": "code",
   "execution_count": 14,
   "id": "fde5e0db-88b2-44a4-a64a-5839c168c405",
   "metadata": {},
   "outputs": [
    {
     "data": {
      "text/plain": [
       "\n",
       "             Alabama               Alaska              Arizona \n",
       "          0.72072072           0.09009009           1.35135135 \n",
       "            Arkansas           California             Colorado \n",
       "          0.72072072           9.45945946           1.44144144 \n",
       "         Connecticut             Delaware District of Columbia \n",
       "          1.80180180           1.08108108           3.51351351 \n",
       "             Florida              Georgia               Hawaii \n",
       "          5.76576577           2.34234234           0.99099099 \n",
       "               Idaho             Illinois              Indiana \n",
       "          0.18018018           3.42342342           4.14414414 \n",
       "                Iowa               Kansas             Kentucky \n",
       "          1.17117117           0.36036036           2.70270270 \n",
       "           Louisiana                Maine             Maryland \n",
       "          2.16216216           0.09009009           6.03603604 \n",
       "       Massachusetts             Michigan            Minnesota \n",
       "          0.63063063           3.87387387           1.44144144 \n",
       "         Mississippi             Missouri              Montana \n",
       "          0.81081081           1.80180180           0.18018018 \n",
       "            Nebraska               Nevada        New Hampshire \n",
       "          0.63063063           0.54054054           0.27027027 \n",
       "          New Jersey           New Mexico             New York \n",
       "          4.95495495           0.36036036           6.84684685 \n",
       "      North Carolina                 Ohio             Oklahoma \n",
       "          2.79279279           1.26126126           0.09009009 \n",
       "              Oregon         Pennsylvania          Puerto Rico \n",
       "          0.81081081           6.21621622           0.90090090 \n",
       "        Rhode Island       South Carolina            Tennessee \n",
       "          0.36036036           1.26126126           1.62162162 \n",
       "               Texas                 Utah              Vermont \n",
       "          4.14414414           0.27027027           0.27027027 \n",
       "      Virgin Islands             Virginia           Washington \n",
       "          0.36036036           3.15315315           2.25225225 \n",
       "       West Virginia            Wisconsin              Wyoming \n",
       "          0.72072072           1.08108108           0.54054054 "
      ]
     },
     "metadata": {},
     "output_type": "display_data"
    }
   ],
   "source": [
    "gen_state_perc <- prop.table(gen_state_counts)*100\n",
    "gen_state_perc"
   ]
  },
  {
   "cell_type": "markdown",
   "id": "8d1006f7-6be0-48a7-9a4b-7364ba7dd02a",
   "metadata": {},
   "source": [
    "## Role counts"
   ]
  },
  {
   "cell_type": "code",
   "execution_count": 15,
   "id": "d9254a43-ecc3-4f32-929a-f4ce3624b05b",
   "metadata": {},
   "outputs": [
    {
     "data": {
      "text/plain": [
       "\n",
       "                             Dentist               Dietician/Nutritionist \n",
       "                                   2                                    1 \n",
       "     Disease Intervention Specialist      Licensed Clinical Social Worker \n",
       "                                   1                                   50 \n",
       "            Licensed Practical Nurse                    Medical Assistant \n",
       "                                  10                                   10 \n",
       "          Mental Health Case Manager              Mental Health Counselor \n",
       "                                   5                                    1 \n",
       "          Mental Health Professional          Mental Health Professional  \n",
       "                                  15                                    1 \n",
       "                       Nurse Manager                        Nurse Midwife \n",
       "                                  19                                    1 \n",
       "                  Nurse Practitioner Other Provider/Clinical professional \n",
       "                                  69                                    8 \n",
       "                          Pharmacist                  Pharmacy Technician \n",
       "                                  16                                    3 \n",
       "                        Phlebotomist                   Physical Therapist \n",
       "                                   2                                    1 \n",
       "                           Physician                  Physician Assistant \n",
       "                                  57                                   11 \n",
       "                        Psychologist                     Registered Nurse \n",
       "                                  17                                   79 "
      ]
     },
     "metadata": {},
     "output_type": "display_data"
    }
   ],
   "source": [
    "gen_role_counts <- table(final_data$Q66)\n",
    "gen_role_counts"
   ]
  },
  {
   "cell_type": "markdown",
   "id": "529b11f0-6d34-4cdc-84c2-b2cf73746326",
   "metadata": {},
   "source": [
    "## Role percentages"
   ]
  },
  {
   "cell_type": "code",
   "execution_count": 16,
   "id": "5aa4dee4-1353-46cc-9092-8a6adf4e4786",
   "metadata": {},
   "outputs": [
    {
     "data": {
      "text/plain": [
       "\n",
       "                             Dentist               Dietician/Nutritionist \n",
       "                           0.5277045                            0.2638522 \n",
       "     Disease Intervention Specialist      Licensed Clinical Social Worker \n",
       "                           0.2638522                           13.1926121 \n",
       "            Licensed Practical Nurse                    Medical Assistant \n",
       "                           2.6385224                            2.6385224 \n",
       "          Mental Health Case Manager              Mental Health Counselor \n",
       "                           1.3192612                            0.2638522 \n",
       "          Mental Health Professional          Mental Health Professional  \n",
       "                           3.9577836                            0.2638522 \n",
       "                       Nurse Manager                        Nurse Midwife \n",
       "                           5.0131926                            0.2638522 \n",
       "                  Nurse Practitioner Other Provider/Clinical professional \n",
       "                          18.2058047                            2.1108179 \n",
       "                          Pharmacist                  Pharmacy Technician \n",
       "                           4.2216359                            0.7915567 \n",
       "                        Phlebotomist                   Physical Therapist \n",
       "                           0.5277045                            0.2638522 \n",
       "                           Physician                  Physician Assistant \n",
       "                          15.0395778                            2.9023747 \n",
       "                        Psychologist                     Registered Nurse \n",
       "                           4.4854881                           20.8443272 "
      ]
     },
     "metadata": {},
     "output_type": "display_data"
    }
   ],
   "source": [
    "gen_role_perc <- prop.table(gen_role_counts)*100\n",
    "gen_role_perc"
   ]
  },
  {
   "cell_type": "markdown",
   "id": "85ef7a20-acd3-403c-b36b-cd9919ba0b78",
   "metadata": {},
   "source": [
    "## Prescriber counts"
   ]
  },
  {
   "cell_type": "code",
   "execution_count": 17,
   "id": "4ea0baac-063d-4605-84fe-504c51d9149f",
   "metadata": {},
   "outputs": [
    {
     "data": {
      "text/plain": [
       "\n",
       " No Yes \n",
       "229 154 "
      ]
     },
     "metadata": {},
     "output_type": "display_data"
    }
   ],
   "source": [
    "gen_prescriber_counts <- table(final_data$Q70)\n",
    "gen_prescriber_counts"
   ]
  },
  {
   "cell_type": "markdown",
   "id": "13f14e5a-a8c1-456c-a66e-accb1c5ef005",
   "metadata": {},
   "source": [
    "## Prescriber percentage"
   ]
  },
  {
   "cell_type": "code",
   "execution_count": 18,
   "id": "8ca03128-cde4-4e78-a4da-172c87923367",
   "metadata": {},
   "outputs": [
    {
     "data": {
      "text/plain": [
       "\n",
       "      No      Yes \n",
       "59.79112 40.20888 "
      ]
     },
     "metadata": {},
     "output_type": "display_data"
    }
   ],
   "source": [
    "gen_prescriber_perc <- prop.table(gen_prescriber_counts)*100\n",
    "gen_prescriber_perc"
   ]
  },
  {
   "cell_type": "markdown",
   "id": "3acc570d-4418-4ebc-86ef-b9fb439dc36b",
   "metadata": {},
   "source": [
    "# HIV training statistics for overall data"
   ]
  },
  {
   "cell_type": "code",
   "execution_count": 19,
   "id": "cc75fcd8-7686-4dae-94a7-732e7f5d7fa8",
   "metadata": {},
   "outputs": [],
   "source": [
    "# Create a vector of column names representing the HIV topics columns\n",
    "hiv_topics <- c(\"Q198\", \"Q199\", \"Q200\", \"Q201\", \"Q202\",\"Q203\",\"Q204\",\"Q205\",\"Q206\",\"Q207\",\"Q208\",\"Q209\",\"Q210a\",\"Q210b\")"
   ]
  },
  {
   "cell_type": "markdown",
   "id": "50fef1cb-09eb-4630-b9fc-51eeee7748b9",
   "metadata": {},
   "source": [
    "## HIV topic with greatest number of 1st rankings"
   ]
  },
  {
   "cell_type": "code",
   "execution_count": 20,
   "id": "d21acea8-3e0c-4d50-8c51-dee02887c999",
   "metadata": {},
   "outputs": [
    {
     "data": {
      "text/html": [
       "<style>\n",
       ".dl-inline {width: auto; margin:0; padding: 0}\n",
       ".dl-inline>dt, .dl-inline>dd {float: none; width: auto; display: inline-block}\n",
       ".dl-inline>dt::after {content: \":\\0020\"; padding-right: .5ex}\n",
       ".dl-inline>dt:not(:first-of-type) {padding-left: .5ex}\n",
       "</style><dl class=dl-inline><dt>Q198</dt><dd>181</dd><dt>Q199</dt><dd>83</dd><dt>Q200</dt><dd>76</dd><dt>Q201</dt><dd>18</dd><dt>Q202</dt><dd>21</dd><dt>Q203</dt><dd>37</dd><dt>Q204</dt><dd>34</dd><dt>Q205</dt><dd>49</dd><dt>Q206</dt><dd>49</dd><dt>Q207</dt><dd>6</dd><dt>Q208</dt><dd>12</dd><dt>Q209</dt><dd>12</dd><dt>Q210a</dt><dd>3</dd><dt>Q210b</dt><dd>1</dd></dl>\n"
      ],
      "text/latex": [
       "\\begin{description*}\n",
       "\\item[Q198] 181\n",
       "\\item[Q199] 83\n",
       "\\item[Q200] 76\n",
       "\\item[Q201] 18\n",
       "\\item[Q202] 21\n",
       "\\item[Q203] 37\n",
       "\\item[Q204] 34\n",
       "\\item[Q205] 49\n",
       "\\item[Q206] 49\n",
       "\\item[Q207] 6\n",
       "\\item[Q208] 12\n",
       "\\item[Q209] 12\n",
       "\\item[Q210a] 3\n",
       "\\item[Q210b] 1\n",
       "\\end{description*}\n"
      ],
      "text/markdown": [
       "Q198\n",
       ":   181Q199\n",
       ":   83Q200\n",
       ":   76Q201\n",
       ":   18Q202\n",
       ":   21Q203\n",
       ":   37Q204\n",
       ":   34Q205\n",
       ":   49Q206\n",
       ":   49Q207\n",
       ":   6Q208\n",
       ":   12Q209\n",
       ":   12Q210a\n",
       ":   3Q210b\n",
       ":   1\n",
       "\n"
      ],
      "text/plain": [
       " Q198  Q199  Q200  Q201  Q202  Q203  Q204  Q205  Q206  Q207  Q208  Q209 Q210a \n",
       "  181    83    76    18    21    37    34    49    49     6    12    12     3 \n",
       "Q210b \n",
       "    1 "
      ]
     },
     "metadata": {},
     "output_type": "display_data"
    }
   ],
   "source": [
    "# Calculate the counts of 1st rankings for each HIV topic\n",
    "hiv1_counts <- sapply(hiv_topics, function(topic) sum(final_data[[topic]] == 1, na.rm = TRUE))\n",
    "hiv1_counts"
   ]
  },
  {
   "cell_type": "code",
   "execution_count": 21,
   "id": "0fd2244b-f2be-4d56-bec2-5a76e67dd28f",
   "metadata": {},
   "outputs": [
    {
     "data": {
      "text/html": [
       "'Q198'"
      ],
      "text/latex": [
       "'Q198'"
      ],
      "text/markdown": [
       "'Q198'"
      ],
      "text/plain": [
       "[1] \"Q198\""
      ]
     },
     "metadata": {},
     "output_type": "display_data"
    }
   ],
   "source": [
    "# Find the HIV topic with the highest count of 1st rankings\n",
    "hiv1 <- hiv_topics[which.max(hiv1_counts)]\n",
    "hiv1"
   ]
  },
  {
   "cell_type": "code",
   "execution_count": 22,
   "id": "b7aab29e-38e8-4ec2-ae2a-4b2becbff26f",
   "metadata": {},
   "outputs": [
    {
     "data": {
      "text/html": [
       "<strong>Q198:</strong> 16.2477558348294"
      ],
      "text/latex": [
       "\\textbf{Q198:} 16.2477558348294"
      ],
      "text/markdown": [
       "**Q198:** 16.2477558348294"
      ],
      "text/plain": [
       "    Q198 \n",
       "16.24776 "
      ]
     },
     "metadata": {},
     "output_type": "display_data"
    }
   ],
   "source": [
    "# Calculate the percentage of 1st rankings\n",
    "hiv1_perc <- (hiv1_counts[which.max(hiv1_counts)] / nrow(final_data)) * 100\n",
    "hiv1_perc"
   ]
  },
  {
   "cell_type": "markdown",
   "id": "209b2ff7-27ca-4dd8-9209-3bb74e99e35a",
   "metadata": {},
   "source": [
    "## HIV topic with greatest number of 2nd rankings"
   ]
  },
  {
   "cell_type": "code",
   "execution_count": 23,
   "id": "79980a9e-97c7-4912-b076-6fe03c760f7d",
   "metadata": {},
   "outputs": [
    {
     "data": {
      "text/html": [
       "<style>\n",
       ".dl-inline {width: auto; margin:0; padding: 0}\n",
       ".dl-inline>dt, .dl-inline>dd {float: none; width: auto; display: inline-block}\n",
       ".dl-inline>dt::after {content: \":\\0020\"; padding-right: .5ex}\n",
       ".dl-inline>dt:not(:first-of-type) {padding-left: .5ex}\n",
       "</style><dl class=dl-inline><dt>Q198</dt><dd>61</dd><dt>Q199</dt><dd>89</dd><dt>Q200</dt><dd>76</dd><dt>Q201</dt><dd>27</dd><dt>Q202</dt><dd>44</dd><dt>Q203</dt><dd>52</dd><dt>Q204</dt><dd>48</dd><dt>Q205</dt><dd>49</dd><dt>Q206</dt><dd>56</dd><dt>Q207</dt><dd>15</dd><dt>Q208</dt><dd>19</dd><dt>Q209</dt><dd>2</dd><dt>Q210a</dt><dd>0</dd><dt>Q210b</dt><dd>1</dd></dl>\n"
      ],
      "text/latex": [
       "\\begin{description*}\n",
       "\\item[Q198] 61\n",
       "\\item[Q199] 89\n",
       "\\item[Q200] 76\n",
       "\\item[Q201] 27\n",
       "\\item[Q202] 44\n",
       "\\item[Q203] 52\n",
       "\\item[Q204] 48\n",
       "\\item[Q205] 49\n",
       "\\item[Q206] 56\n",
       "\\item[Q207] 15\n",
       "\\item[Q208] 19\n",
       "\\item[Q209] 2\n",
       "\\item[Q210a] 0\n",
       "\\item[Q210b] 1\n",
       "\\end{description*}\n"
      ],
      "text/markdown": [
       "Q198\n",
       ":   61Q199\n",
       ":   89Q200\n",
       ":   76Q201\n",
       ":   27Q202\n",
       ":   44Q203\n",
       ":   52Q204\n",
       ":   48Q205\n",
       ":   49Q206\n",
       ":   56Q207\n",
       ":   15Q208\n",
       ":   19Q209\n",
       ":   2Q210a\n",
       ":   0Q210b\n",
       ":   1\n",
       "\n"
      ],
      "text/plain": [
       " Q198  Q199  Q200  Q201  Q202  Q203  Q204  Q205  Q206  Q207  Q208  Q209 Q210a \n",
       "   61    89    76    27    44    52    48    49    56    15    19     2     0 \n",
       "Q210b \n",
       "    1 "
      ]
     },
     "metadata": {},
     "output_type": "display_data"
    }
   ],
   "source": [
    "# Calculate the counts of 2nd rankings for each HIV topic\n",
    "hiv2_counts <- sapply(hiv_topics, function(topic) sum(final_data[[topic]] == 2, na.rm = TRUE))\n",
    "hiv2_counts"
   ]
  },
  {
   "cell_type": "code",
   "execution_count": 24,
   "id": "e1255fe6-a767-4bcf-a56f-469d18fc0e01",
   "metadata": {},
   "outputs": [
    {
     "data": {
      "text/html": [
       "'Q199'"
      ],
      "text/latex": [
       "'Q199'"
      ],
      "text/markdown": [
       "'Q199'"
      ],
      "text/plain": [
       "[1] \"Q199\""
      ]
     },
     "metadata": {},
     "output_type": "display_data"
    }
   ],
   "source": [
    "# Find the HIV topic with the highest count of 2nd rankings\n",
    "hiv2 <- hiv_topics[which.max(hiv2_counts)]\n",
    "hiv2"
   ]
  },
  {
   "cell_type": "code",
   "execution_count": 25,
   "id": "c560cb71-46f4-4c19-ab46-257c37e09bbd",
   "metadata": {},
   "outputs": [
    {
     "data": {
      "text/html": [
       "<strong>Q199:</strong> 7.98922800718133"
      ],
      "text/latex": [
       "\\textbf{Q199:} 7.98922800718133"
      ],
      "text/markdown": [
       "**Q199:** 7.98922800718133"
      ],
      "text/plain": [
       "    Q199 \n",
       "7.989228 "
      ]
     },
     "metadata": {},
     "output_type": "display_data"
    }
   ],
   "source": [
    "# Calculate the percentage of 2nd rankings for the top HIV topic\n",
    "hiv2_perc <- (hiv2_counts[which.max(hiv2_counts)] / nrow(final_data)) * 100\n",
    "hiv2_perc"
   ]
  },
  {
   "cell_type": "markdown",
   "id": "57abedf6-e84d-4216-92c4-48e02243d369",
   "metadata": {},
   "source": [
    "## HIV topic with greatest number of 3rd rankings"
   ]
  },
  {
   "cell_type": "code",
   "execution_count": 26,
   "id": "54073c78-c250-4b91-89b1-eda741bde312",
   "metadata": {},
   "outputs": [
    {
     "data": {
      "text/html": [
       "<style>\n",
       ".dl-inline {width: auto; margin:0; padding: 0}\n",
       ".dl-inline>dt, .dl-inline>dd {float: none; width: auto; display: inline-block}\n",
       ".dl-inline>dt::after {content: \":\\0020\"; padding-right: .5ex}\n",
       ".dl-inline>dt:not(:first-of-type) {padding-left: .5ex}\n",
       "</style><dl class=dl-inline><dt>Q198</dt><dd>67</dd><dt>Q199</dt><dd>47</dd><dt>Q200</dt><dd>56</dd><dt>Q201</dt><dd>17</dd><dt>Q202</dt><dd>56</dd><dt>Q203</dt><dd>46</dd><dt>Q204</dt><dd>61</dd><dt>Q205</dt><dd>58</dd><dt>Q206</dt><dd>53</dd><dt>Q207</dt><dd>12</dd><dt>Q208</dt><dd>37</dd><dt>Q209</dt><dd>16</dd><dt>Q210a</dt><dd>2</dd><dt>Q210b</dt><dd>3</dd></dl>\n"
      ],
      "text/latex": [
       "\\begin{description*}\n",
       "\\item[Q198] 67\n",
       "\\item[Q199] 47\n",
       "\\item[Q200] 56\n",
       "\\item[Q201] 17\n",
       "\\item[Q202] 56\n",
       "\\item[Q203] 46\n",
       "\\item[Q204] 61\n",
       "\\item[Q205] 58\n",
       "\\item[Q206] 53\n",
       "\\item[Q207] 12\n",
       "\\item[Q208] 37\n",
       "\\item[Q209] 16\n",
       "\\item[Q210a] 2\n",
       "\\item[Q210b] 3\n",
       "\\end{description*}\n"
      ],
      "text/markdown": [
       "Q198\n",
       ":   67Q199\n",
       ":   47Q200\n",
       ":   56Q201\n",
       ":   17Q202\n",
       ":   56Q203\n",
       ":   46Q204\n",
       ":   61Q205\n",
       ":   58Q206\n",
       ":   53Q207\n",
       ":   12Q208\n",
       ":   37Q209\n",
       ":   16Q210a\n",
       ":   2Q210b\n",
       ":   3\n",
       "\n"
      ],
      "text/plain": [
       " Q198  Q199  Q200  Q201  Q202  Q203  Q204  Q205  Q206  Q207  Q208  Q209 Q210a \n",
       "   67    47    56    17    56    46    61    58    53    12    37    16     2 \n",
       "Q210b \n",
       "    3 "
      ]
     },
     "metadata": {},
     "output_type": "display_data"
    }
   ],
   "source": [
    "# Calculate the counts of 3rd rankings for each HIV topic\n",
    "hiv3_counts <- sapply(hiv_topics, function(topic) sum(final_data[[topic]] == 3, na.rm = TRUE))\n",
    "hiv3_counts"
   ]
  },
  {
   "cell_type": "code",
   "execution_count": 27,
   "id": "c835ad60-143a-42f6-9b80-986064948d56",
   "metadata": {},
   "outputs": [
    {
     "data": {
      "text/html": [
       "'Q198'"
      ],
      "text/latex": [
       "'Q198'"
      ],
      "text/markdown": [
       "'Q198'"
      ],
      "text/plain": [
       "[1] \"Q198\""
      ]
     },
     "metadata": {},
     "output_type": "display_data"
    }
   ],
   "source": [
    "# Find the HIV topic with the highest count of 3rd rankings\n",
    "hiv3 <- hiv_topics[which.max(hiv3_counts)]\n",
    "hiv3"
   ]
  },
  {
   "cell_type": "code",
   "execution_count": 28,
   "id": "ed2281b7-e8a4-4031-9b61-64cc74db1f52",
   "metadata": {},
   "outputs": [
    {
     "data": {
      "text/html": [
       "<strong>Q198:</strong> 6.01436265709156"
      ],
      "text/latex": [
       "\\textbf{Q198:} 6.01436265709156"
      ],
      "text/markdown": [
       "**Q198:** 6.01436265709156"
      ],
      "text/plain": [
       "    Q198 \n",
       "6.014363 "
      ]
     },
     "metadata": {},
     "output_type": "display_data"
    }
   ],
   "source": [
    "# Calculate the percentage of 3rd rankings\n",
    "hiv3_perc <- (hiv3_counts[which.max(hiv3_counts)] / nrow(final_data)) * 100\n",
    "hiv3_perc"
   ]
  },
  {
   "cell_type": "markdown",
   "id": "a07a84a6-557d-464a-8fdf-9aec242ac4bb",
   "metadata": {},
   "source": [
    "## Top 3 HIV training topics"
   ]
  },
  {
   "cell_type": "code",
   "execution_count": 29,
   "id": "303231f4-13a0-45bd-a994-4159d2a53430",
   "metadata": {},
   "outputs": [
    {
     "data": {
      "text/html": [
       "<style>\n",
       ".list-inline {list-style: none; margin:0; padding: 0}\n",
       ".list-inline>li {display: inline-block}\n",
       ".list-inline>li:not(:last-child)::after {content: \"\\00b7\"; padding: 0 .5ex}\n",
       "</style>\n",
       "<ol class=list-inline><li>'Q198'</li><li>'Q199'</li><li>'Q200'</li></ol>\n"
      ],
      "text/latex": [
       "\\begin{enumerate*}\n",
       "\\item 'Q198'\n",
       "\\item 'Q199'\n",
       "\\item 'Q200'\n",
       "\\end{enumerate*}\n"
      ],
      "text/markdown": [
       "1. 'Q198'\n",
       "2. 'Q199'\n",
       "3. 'Q200'\n",
       "\n",
       "\n"
      ],
      "text/plain": [
       "[1] \"Q198\" \"Q199\" \"Q200\""
      ]
     },
     "metadata": {},
     "output_type": "display_data"
    }
   ],
   "source": [
    "# Calculate the counts for each HIV topic\n",
    "topic_counts <- sapply(hiv_topics, function(topic) sum(topic %in% c(1, 2, 3), na.rm = TRUE))\n",
    "\n",
    "# Sort the topics based on their counts in descending order\n",
    "sorted_topics <- sort(topic_counts, decreasing = TRUE)\n",
    "\n",
    "# Get the top 3 topics\n",
    "top_3_topics <- names(sorted_topics)[1:3]\n",
    "\n",
    "top_3_topics"
   ]
  },
  {
   "cell_type": "markdown",
   "id": "094262b9-3638-486b-a127-91d5e63c6f59",
   "metadata": {},
   "source": [
    "# PrEP training statistics for overall data"
   ]
  },
  {
   "cell_type": "code",
   "execution_count": 30,
   "id": "cc930416-f7ec-45bc-8451-961518a970c5",
   "metadata": {},
   "outputs": [],
   "source": [
    "# Create a vector of column names representing the PrEP topics columns\n",
    "prep_topics <- c(\"Q211\", \"Q212\", \"Q213\", \"Q214\", \"Q215\",\"Q216\",\"Q217\",\"Q218\",\"Q219\",\"Q220\",\"Q221\",\"Q222\",\"Q223\",\"Q224\",\"Q225\")"
   ]
  },
  {
   "cell_type": "markdown",
   "id": "6f3e89c9-1670-4b43-be7b-ea1af233c91c",
   "metadata": {},
   "source": [
    "## PrEP topic with greatest number of 1st rankings"
   ]
  },
  {
   "cell_type": "code",
   "execution_count": 31,
   "id": "caac35c2-49e1-43bb-89b6-55fe8acc6850",
   "metadata": {},
   "outputs": [
    {
     "data": {
      "text/html": [
       "<style>\n",
       ".dl-inline {width: auto; margin:0; padding: 0}\n",
       ".dl-inline>dt, .dl-inline>dd {float: none; width: auto; display: inline-block}\n",
       ".dl-inline>dt::after {content: \":\\0020\"; padding-right: .5ex}\n",
       ".dl-inline>dt:not(:first-of-type) {padding-left: .5ex}\n",
       "</style><dl class=dl-inline><dt>Q211</dt><dd>124</dd><dt>Q212</dt><dd>73</dd><dt>Q213</dt><dd>62</dd><dt>Q214</dt><dd>108</dd><dt>Q215</dt><dd>11</dd><dt>Q216</dt><dd>22</dd><dt>Q217</dt><dd>20</dd><dt>Q218</dt><dd>48</dd><dt>Q219</dt><dd>37</dd><dt>Q220</dt><dd>31</dd><dt>Q221</dt><dd>19</dd><dt>Q222</dt><dd>29</dd><dt>Q223</dt><dd>36</dd><dt>Q224</dt><dd>12</dd><dt>Q225</dt><dd>3</dd></dl>\n"
      ],
      "text/latex": [
       "\\begin{description*}\n",
       "\\item[Q211] 124\n",
       "\\item[Q212] 73\n",
       "\\item[Q213] 62\n",
       "\\item[Q214] 108\n",
       "\\item[Q215] 11\n",
       "\\item[Q216] 22\n",
       "\\item[Q217] 20\n",
       "\\item[Q218] 48\n",
       "\\item[Q219] 37\n",
       "\\item[Q220] 31\n",
       "\\item[Q221] 19\n",
       "\\item[Q222] 29\n",
       "\\item[Q223] 36\n",
       "\\item[Q224] 12\n",
       "\\item[Q225] 3\n",
       "\\end{description*}\n"
      ],
      "text/markdown": [
       "Q211\n",
       ":   124Q212\n",
       ":   73Q213\n",
       ":   62Q214\n",
       ":   108Q215\n",
       ":   11Q216\n",
       ":   22Q217\n",
       ":   20Q218\n",
       ":   48Q219\n",
       ":   37Q220\n",
       ":   31Q221\n",
       ":   19Q222\n",
       ":   29Q223\n",
       ":   36Q224\n",
       ":   12Q225\n",
       ":   3\n",
       "\n"
      ],
      "text/plain": [
       "Q211 Q212 Q213 Q214 Q215 Q216 Q217 Q218 Q219 Q220 Q221 Q222 Q223 Q224 Q225 \n",
       " 124   73   62  108   11   22   20   48   37   31   19   29   36   12    3 "
      ]
     },
     "metadata": {},
     "output_type": "display_data"
    }
   ],
   "source": [
    "# Calculate the counts of 1st rankings for each PrEP topic\n",
    "prep1_counts <- sapply(prep_topics, function(topic) sum(final_data[[topic]] == 1, na.rm = TRUE))\n",
    "prep1_counts"
   ]
  },
  {
   "cell_type": "code",
   "execution_count": 32,
   "id": "7ccc3474-910a-4aa2-9edd-db225830a25c",
   "metadata": {},
   "outputs": [
    {
     "data": {
      "text/html": [
       "'Q211'"
      ],
      "text/latex": [
       "'Q211'"
      ],
      "text/markdown": [
       "'Q211'"
      ],
      "text/plain": [
       "[1] \"Q211\""
      ]
     },
     "metadata": {},
     "output_type": "display_data"
    }
   ],
   "source": [
    "# Find the PrEP topic with the highest count of 1st rankings\n",
    "prep1 <- prep_topics[which.max(prep1_counts)]\n",
    "prep1"
   ]
  },
  {
   "cell_type": "code",
   "execution_count": 33,
   "id": "6ea8bd30-28ec-4cff-9b03-ceb67e2e4a97",
   "metadata": {},
   "outputs": [
    {
     "data": {
      "text/html": [
       "<strong>Q211:</strong> 11.1310592459605"
      ],
      "text/latex": [
       "\\textbf{Q211:} 11.1310592459605"
      ],
      "text/markdown": [
       "**Q211:** 11.1310592459605"
      ],
      "text/plain": [
       "    Q211 \n",
       "11.13106 "
      ]
     },
     "metadata": {},
     "output_type": "display_data"
    }
   ],
   "source": [
    "# Calculate the percentage of 1st rankings\n",
    "prep1_perc <- (prep1_counts[which.max(prep1_counts)] / nrow(final_data)) * 100\n",
    "prep1_perc"
   ]
  },
  {
   "cell_type": "markdown",
   "id": "44307a7d-a7d0-42a8-9fce-75e3839a17d3",
   "metadata": {},
   "source": [
    "## PrEP topic with greatest number of 2nd rankings"
   ]
  },
  {
   "cell_type": "code",
   "execution_count": 34,
   "id": "c8282cfb-d7ec-4025-8849-a6c54ccb079a",
   "metadata": {},
   "outputs": [
    {
     "data": {
      "text/html": [
       "<style>\n",
       ".dl-inline {width: auto; margin:0; padding: 0}\n",
       ".dl-inline>dt, .dl-inline>dd {float: none; width: auto; display: inline-block}\n",
       ".dl-inline>dt::after {content: \":\\0020\"; padding-right: .5ex}\n",
       ".dl-inline>dt:not(:first-of-type) {padding-left: .5ex}\n",
       "</style><dl class=dl-inline><dt>Q211</dt><dd>29</dd><dt>Q212</dt><dd>70</dd><dt>Q213</dt><dd>53</dd><dt>Q214</dt><dd>80</dd><dt>Q215</dt><dd>26</dd><dt>Q216</dt><dd>34</dd><dt>Q217</dt><dd>37</dd><dt>Q218</dt><dd>77</dd><dt>Q219</dt><dd>50</dd><dt>Q220</dt><dd>39</dd><dt>Q221</dt><dd>24</dd><dt>Q222</dt><dd>27</dd><dt>Q223</dt><dd>41</dd><dt>Q224</dt><dd>15</dd><dt>Q225</dt><dd>0</dd></dl>\n"
      ],
      "text/latex": [
       "\\begin{description*}\n",
       "\\item[Q211] 29\n",
       "\\item[Q212] 70\n",
       "\\item[Q213] 53\n",
       "\\item[Q214] 80\n",
       "\\item[Q215] 26\n",
       "\\item[Q216] 34\n",
       "\\item[Q217] 37\n",
       "\\item[Q218] 77\n",
       "\\item[Q219] 50\n",
       "\\item[Q220] 39\n",
       "\\item[Q221] 24\n",
       "\\item[Q222] 27\n",
       "\\item[Q223] 41\n",
       "\\item[Q224] 15\n",
       "\\item[Q225] 0\n",
       "\\end{description*}\n"
      ],
      "text/markdown": [
       "Q211\n",
       ":   29Q212\n",
       ":   70Q213\n",
       ":   53Q214\n",
       ":   80Q215\n",
       ":   26Q216\n",
       ":   34Q217\n",
       ":   37Q218\n",
       ":   77Q219\n",
       ":   50Q220\n",
       ":   39Q221\n",
       ":   24Q222\n",
       ":   27Q223\n",
       ":   41Q224\n",
       ":   15Q225\n",
       ":   0\n",
       "\n"
      ],
      "text/plain": [
       "Q211 Q212 Q213 Q214 Q215 Q216 Q217 Q218 Q219 Q220 Q221 Q222 Q223 Q224 Q225 \n",
       "  29   70   53   80   26   34   37   77   50   39   24   27   41   15    0 "
      ]
     },
     "metadata": {},
     "output_type": "display_data"
    }
   ],
   "source": [
    "# Calculate the counts of 2nd rankings for each PrEP topic\n",
    "prep2_counts <- sapply(prep_topics, function(topic) sum(final_data[[topic]] == 2, na.rm = TRUE))\n",
    "prep2_counts"
   ]
  },
  {
   "cell_type": "code",
   "execution_count": 35,
   "id": "e85db253-1e66-4445-88de-a866ba093dd6",
   "metadata": {},
   "outputs": [
    {
     "data": {
      "text/html": [
       "'Q214'"
      ],
      "text/latex": [
       "'Q214'"
      ],
      "text/markdown": [
       "'Q214'"
      ],
      "text/plain": [
       "[1] \"Q214\""
      ]
     },
     "metadata": {},
     "output_type": "display_data"
    }
   ],
   "source": [
    "# Find the PrEP topic with the highest count of 2nd rankings\n",
    "prep2 <- prep_topics[which.max(prep2_counts)]\n",
    "prep2"
   ]
  },
  {
   "cell_type": "code",
   "execution_count": 36,
   "id": "bea9071c-0393-424d-a870-22578efd3e81",
   "metadata": {},
   "outputs": [
    {
     "data": {
      "text/html": [
       "<strong>Q214:</strong> 7.18132854578097"
      ],
      "text/latex": [
       "\\textbf{Q214:} 7.18132854578097"
      ],
      "text/markdown": [
       "**Q214:** 7.18132854578097"
      ],
      "text/plain": [
       "    Q214 \n",
       "7.181329 "
      ]
     },
     "metadata": {},
     "output_type": "display_data"
    }
   ],
   "source": [
    "# Calculate the percentage of 2nd rankings for the top PrEP topic\n",
    "prep2_perc <- (prep2_counts[which.max(prep2_counts)] / nrow(final_data)) * 100\n",
    "prep2_perc"
   ]
  },
  {
   "cell_type": "markdown",
   "id": "e15fac80-af39-42f9-9e01-b5a72599e87d",
   "metadata": {},
   "source": [
    "## PrEP topic with greatest number of 3rd rankings"
   ]
  },
  {
   "cell_type": "code",
   "execution_count": 37,
   "id": "098d0c3c-4f1c-4aa0-b4a8-cefe3301b7f6",
   "metadata": {},
   "outputs": [
    {
     "data": {
      "text/html": [
       "<style>\n",
       ".dl-inline {width: auto; margin:0; padding: 0}\n",
       ".dl-inline>dt, .dl-inline>dd {float: none; width: auto; display: inline-block}\n",
       ".dl-inline>dt::after {content: \":\\0020\"; padding-right: .5ex}\n",
       ".dl-inline>dt:not(:first-of-type) {padding-left: .5ex}\n",
       "</style><dl class=dl-inline><dt>Q211</dt><dd>44</dd><dt>Q212</dt><dd>21</dd><dt>Q213</dt><dd>43</dd><dt>Q214</dt><dd>52</dd><dt>Q215</dt><dd>18</dd><dt>Q216</dt><dd>35</dd><dt>Q217</dt><dd>38</dd><dt>Q218</dt><dd>69</dd><dt>Q219</dt><dd>26</dd><dt>Q220</dt><dd>66</dd><dt>Q221</dt><dd>42</dd><dt>Q222</dt><dd>46</dd><dt>Q223</dt><dd>42</dd><dt>Q224</dt><dd>41</dd><dt>Q225</dt><dd>5</dd></dl>\n"
      ],
      "text/latex": [
       "\\begin{description*}\n",
       "\\item[Q211] 44\n",
       "\\item[Q212] 21\n",
       "\\item[Q213] 43\n",
       "\\item[Q214] 52\n",
       "\\item[Q215] 18\n",
       "\\item[Q216] 35\n",
       "\\item[Q217] 38\n",
       "\\item[Q218] 69\n",
       "\\item[Q219] 26\n",
       "\\item[Q220] 66\n",
       "\\item[Q221] 42\n",
       "\\item[Q222] 46\n",
       "\\item[Q223] 42\n",
       "\\item[Q224] 41\n",
       "\\item[Q225] 5\n",
       "\\end{description*}\n"
      ],
      "text/markdown": [
       "Q211\n",
       ":   44Q212\n",
       ":   21Q213\n",
       ":   43Q214\n",
       ":   52Q215\n",
       ":   18Q216\n",
       ":   35Q217\n",
       ":   38Q218\n",
       ":   69Q219\n",
       ":   26Q220\n",
       ":   66Q221\n",
       ":   42Q222\n",
       ":   46Q223\n",
       ":   42Q224\n",
       ":   41Q225\n",
       ":   5\n",
       "\n"
      ],
      "text/plain": [
       "Q211 Q212 Q213 Q214 Q215 Q216 Q217 Q218 Q219 Q220 Q221 Q222 Q223 Q224 Q225 \n",
       "  44   21   43   52   18   35   38   69   26   66   42   46   42   41    5 "
      ]
     },
     "metadata": {},
     "output_type": "display_data"
    }
   ],
   "source": [
    "# Calculate the counts of 3rd rankings for each PrEP topic\n",
    "prep3_counts <- sapply(prep_topics, function(topic) sum(final_data[[topic]] == 3, na.rm = TRUE))\n",
    "prep3_counts"
   ]
  },
  {
   "cell_type": "code",
   "execution_count": 38,
   "id": "e709176b-cec3-45eb-9607-8720b4ac5440",
   "metadata": {},
   "outputs": [
    {
     "data": {
      "text/html": [
       "'Q218'"
      ],
      "text/latex": [
       "'Q218'"
      ],
      "text/markdown": [
       "'Q218'"
      ],
      "text/plain": [
       "[1] \"Q218\""
      ]
     },
     "metadata": {},
     "output_type": "display_data"
    }
   ],
   "source": [
    "# Find the PrEP topic with the highest count of 3rd rankings\n",
    "prep3 <- prep_topics[which.max(prep3_counts)]\n",
    "prep3"
   ]
  },
  {
   "cell_type": "code",
   "execution_count": 39,
   "id": "667092f4-6fa9-4096-8cd8-696be8f58dd3",
   "metadata": {},
   "outputs": [
    {
     "data": {
      "text/html": [
       "<strong>Q218:</strong> 6.19389587073609"
      ],
      "text/latex": [
       "\\textbf{Q218:} 6.19389587073609"
      ],
      "text/markdown": [
       "**Q218:** 6.19389587073609"
      ],
      "text/plain": [
       "    Q218 \n",
       "6.193896 "
      ]
     },
     "metadata": {},
     "output_type": "display_data"
    }
   ],
   "source": [
    "# Calculate the percentage of 3rd rankings\n",
    "prep3_perc <- (prep3_counts[which.max(prep3_counts)] / nrow(final_data)) * 100\n",
    "prep3_perc"
   ]
  },
  {
   "cell_type": "markdown",
   "id": "6aabba9a-0f04-4579-a1f5-34cac198d075",
   "metadata": {},
   "source": [
    "## Top 3 PrEP training topics"
   ]
  },
  {
   "cell_type": "code",
   "execution_count": 40,
   "id": "66cc3983-da5f-4715-8127-f17006ca7c95",
   "metadata": {},
   "outputs": [
    {
     "data": {
      "text/html": [
       "<style>\n",
       ".list-inline {list-style: none; margin:0; padding: 0}\n",
       ".list-inline>li {display: inline-block}\n",
       ".list-inline>li:not(:last-child)::after {content: \"\\00b7\"; padding: 0 .5ex}\n",
       "</style>\n",
       "<ol class=list-inline><li>'Q211'</li><li>'Q212'</li><li>'Q213'</li></ol>\n"
      ],
      "text/latex": [
       "\\begin{enumerate*}\n",
       "\\item 'Q211'\n",
       "\\item 'Q212'\n",
       "\\item 'Q213'\n",
       "\\end{enumerate*}\n"
      ],
      "text/markdown": [
       "1. 'Q211'\n",
       "2. 'Q212'\n",
       "3. 'Q213'\n",
       "\n",
       "\n"
      ],
      "text/plain": [
       "[1] \"Q211\" \"Q212\" \"Q213\""
      ]
     },
     "metadata": {},
     "output_type": "display_data"
    }
   ],
   "source": [
    "# Calculate the counts for each PrEP topic\n",
    "topic_counts <- sapply(prep_topics, function(topic) sum(topic %in% c(1, 2, 3), na.rm = TRUE))\n",
    "\n",
    "# Sort the topics based on their counts in descending order\n",
    "sorted_topics <- sort(topic_counts, decreasing = TRUE)\n",
    "\n",
    "# Get the top 3 topics\n",
    "top_3_topics <- names(sorted_topics)[1:3]\n",
    "\n",
    "top_3_topics"
   ]
  },
  {
   "cell_type": "markdown",
   "id": "c55f197b-d71e-43ce-a37e-194740685972",
   "metadata": {},
   "source": [
    "# LGBTQ training statistics for overall data"
   ]
  },
  {
   "cell_type": "code",
   "execution_count": 41,
   "id": "bafe2487-3743-4ffd-afac-41ac3d5580c9",
   "metadata": {},
   "outputs": [],
   "source": [
    "# Create a vector of column names representing the LGBTQ topics columns\n",
    "lgbtq_topics <- c(\"Q227\", \"Q228\", \"Q229\", \"Q230\", \"Q231\",\"Q232\",\"Q233\",\"Q234\",\"Q235\")"
   ]
  },
  {
   "cell_type": "markdown",
   "id": "49f32728-bbb2-4a9d-bb24-b370263c22e8",
   "metadata": {},
   "source": [
    "## LGBTQ topic with greatest number of 1st rankings"
   ]
  },
  {
   "cell_type": "code",
   "execution_count": 42,
   "id": "c36a2932-92d9-4d6c-8375-c33e5c62d196",
   "metadata": {},
   "outputs": [
    {
     "data": {
      "text/html": [
       "<style>\n",
       ".dl-inline {width: auto; margin:0; padding: 0}\n",
       ".dl-inline>dt, .dl-inline>dd {float: none; width: auto; display: inline-block}\n",
       ".dl-inline>dt::after {content: \":\\0020\"; padding-right: .5ex}\n",
       ".dl-inline>dt:not(:first-of-type) {padding-left: .5ex}\n",
       "</style><dl class=dl-inline><dt>Q227</dt><dd>139</dd><dt>Q228</dt><dd>198</dd><dt>Q229</dt><dd>121</dd><dt>Q230</dt><dd>120</dd><dt>Q231</dt><dd>34</dd><dt>Q232</dt><dd>67</dd><dt>Q233</dt><dd>118</dd><dt>Q234</dt><dd>114</dd><dt>Q235</dt><dd>15</dd></dl>\n"
      ],
      "text/latex": [
       "\\begin{description*}\n",
       "\\item[Q227] 139\n",
       "\\item[Q228] 198\n",
       "\\item[Q229] 121\n",
       "\\item[Q230] 120\n",
       "\\item[Q231] 34\n",
       "\\item[Q232] 67\n",
       "\\item[Q233] 118\n",
       "\\item[Q234] 114\n",
       "\\item[Q235] 15\n",
       "\\end{description*}\n"
      ],
      "text/markdown": [
       "Q227\n",
       ":   139Q228\n",
       ":   198Q229\n",
       ":   121Q230\n",
       ":   120Q231\n",
       ":   34Q232\n",
       ":   67Q233\n",
       ":   118Q234\n",
       ":   114Q235\n",
       ":   15\n",
       "\n"
      ],
      "text/plain": [
       "Q227 Q228 Q229 Q230 Q231 Q232 Q233 Q234 Q235 \n",
       " 139  198  121  120   34   67  118  114   15 "
      ]
     },
     "metadata": {},
     "output_type": "display_data"
    }
   ],
   "source": [
    "# Calculate the counts of 1st rankings for each LGBTQ topic\n",
    "lgbtq1_counts <- sapply(lgbtq_topics, function(topic) sum(final_data[[topic]] == 1, na.rm = TRUE))\n",
    "lgbtq1_counts"
   ]
  },
  {
   "cell_type": "code",
   "execution_count": 43,
   "id": "ac3d137a-6f28-4594-b50d-3efe6c2a9608",
   "metadata": {},
   "outputs": [
    {
     "data": {
      "text/html": [
       "'Q228'"
      ],
      "text/latex": [
       "'Q228'"
      ],
      "text/markdown": [
       "'Q228'"
      ],
      "text/plain": [
       "[1] \"Q228\""
      ]
     },
     "metadata": {},
     "output_type": "display_data"
    }
   ],
   "source": [
    "# Find the LGBTQ topic with the highest count of 1st rankings\n",
    "lgbtq1 <- lgbtq_topics[which.max(lgbtq1_counts)]\n",
    "lgbtq1"
   ]
  },
  {
   "cell_type": "code",
   "execution_count": 44,
   "id": "2257f9a2-0413-459c-90cb-8666fbf6e864",
   "metadata": {},
   "outputs": [
    {
     "data": {
      "text/html": [
       "<strong>Q228:</strong> 17.7737881508079"
      ],
      "text/latex": [
       "\\textbf{Q228:} 17.7737881508079"
      ],
      "text/markdown": [
       "**Q228:** 17.7737881508079"
      ],
      "text/plain": [
       "    Q228 \n",
       "17.77379 "
      ]
     },
     "metadata": {},
     "output_type": "display_data"
    }
   ],
   "source": [
    "# Calculate the percentage of 1st rankings\n",
    "lgbtq1_perc <- (lgbtq1_counts[which.max(lgbtq1_counts)] / nrow(final_data)) * 100\n",
    "lgbtq1_perc"
   ]
  },
  {
   "cell_type": "markdown",
   "id": "fc4b9d37-f8a0-467a-aac7-741810f60be9",
   "metadata": {},
   "source": [
    "## LGBTQ topic with greatest number of 2nd rankings"
   ]
  },
  {
   "cell_type": "code",
   "execution_count": 45,
   "id": "fb7134b7-9cc8-40df-9701-0a3e0d5f1a49",
   "metadata": {},
   "outputs": [
    {
     "data": {
      "text/html": [
       "<style>\n",
       ".dl-inline {width: auto; margin:0; padding: 0}\n",
       ".dl-inline>dt, .dl-inline>dd {float: none; width: auto; display: inline-block}\n",
       ".dl-inline>dt::after {content: \":\\0020\"; padding-right: .5ex}\n",
       ".dl-inline>dt:not(:first-of-type) {padding-left: .5ex}\n",
       "</style><dl class=dl-inline><dt>Q227</dt><dd>67</dd><dt>Q228</dt><dd>121</dd><dt>Q229</dt><dd>102</dd><dt>Q230</dt><dd>154</dd><dt>Q231</dt><dd>62</dd><dt>Q232</dt><dd>78</dd><dt>Q233</dt><dd>143</dd><dt>Q234</dt><dd>143</dd><dt>Q235</dt><dd>4</dd></dl>\n"
      ],
      "text/latex": [
       "\\begin{description*}\n",
       "\\item[Q227] 67\n",
       "\\item[Q228] 121\n",
       "\\item[Q229] 102\n",
       "\\item[Q230] 154\n",
       "\\item[Q231] 62\n",
       "\\item[Q232] 78\n",
       "\\item[Q233] 143\n",
       "\\item[Q234] 143\n",
       "\\item[Q235] 4\n",
       "\\end{description*}\n"
      ],
      "text/markdown": [
       "Q227\n",
       ":   67Q228\n",
       ":   121Q229\n",
       ":   102Q230\n",
       ":   154Q231\n",
       ":   62Q232\n",
       ":   78Q233\n",
       ":   143Q234\n",
       ":   143Q235\n",
       ":   4\n",
       "\n"
      ],
      "text/plain": [
       "Q227 Q228 Q229 Q230 Q231 Q232 Q233 Q234 Q235 \n",
       "  67  121  102  154   62   78  143  143    4 "
      ]
     },
     "metadata": {},
     "output_type": "display_data"
    }
   ],
   "source": [
    "# Calculate the counts of 2nd rankings for each LGBTQ topic\n",
    "lgbtq2_counts <- sapply(lgbtq_topics, function(topic) sum(final_data[[topic]] == 2, na.rm = TRUE))\n",
    "lgbtq2_counts"
   ]
  },
  {
   "cell_type": "code",
   "execution_count": 46,
   "id": "c8abbf69-8e82-45aa-a25a-d7b874dcb132",
   "metadata": {},
   "outputs": [
    {
     "data": {
      "text/html": [
       "'Q230'"
      ],
      "text/latex": [
       "'Q230'"
      ],
      "text/markdown": [
       "'Q230'"
      ],
      "text/plain": [
       "[1] \"Q230\""
      ]
     },
     "metadata": {},
     "output_type": "display_data"
    }
   ],
   "source": [
    "# Find the LGBTQ topic with the highest count of 2nd rankings\n",
    "lgbtq2 <- lgbtq_topics[which.max(lgbtq2_counts)]\n",
    "lgbtq2"
   ]
  },
  {
   "cell_type": "code",
   "execution_count": 47,
   "id": "390c72ce-59fe-4ac4-97fc-cd5a01053e9f",
   "metadata": {},
   "outputs": [
    {
     "data": {
      "text/html": [
       "<strong>Q230:</strong> 13.8240574506284"
      ],
      "text/latex": [
       "\\textbf{Q230:} 13.8240574506284"
      ],
      "text/markdown": [
       "**Q230:** 13.8240574506284"
      ],
      "text/plain": [
       "    Q230 \n",
       "13.82406 "
      ]
     },
     "metadata": {},
     "output_type": "display_data"
    }
   ],
   "source": [
    "# Calculate the percentage of 2nd rankings for the top LGBTQ topic\n",
    "lgbtq2_perc <- (lgbtq2_counts[which.max(lgbtq2_counts)] / nrow(final_data)) * 100\n",
    "lgbtq2_perc"
   ]
  },
  {
   "cell_type": "markdown",
   "id": "7b40f882-2549-4a1a-adf4-02b29c3a1c76",
   "metadata": {},
   "source": [
    "## LGBTQ topic with greatest number of 3rd rankings"
   ]
  },
  {
   "cell_type": "code",
   "execution_count": 48,
   "id": "3d12ab72-30b2-43fe-9ff6-70e363749a87",
   "metadata": {},
   "outputs": [
    {
     "data": {
      "text/html": [
       "<style>\n",
       ".dl-inline {width: auto; margin:0; padding: 0}\n",
       ".dl-inline>dt, .dl-inline>dd {float: none; width: auto; display: inline-block}\n",
       ".dl-inline>dt::after {content: \":\\0020\"; padding-right: .5ex}\n",
       ".dl-inline>dt:not(:first-of-type) {padding-left: .5ex}\n",
       "</style><dl class=dl-inline><dt>Q227</dt><dd>81</dd><dt>Q228</dt><dd>122</dd><dt>Q229</dt><dd>73</dd><dt>Q230</dt><dd>124</dd><dt>Q231</dt><dd>66</dd><dt>Q232</dt><dd>64</dd><dt>Q233</dt><dd>109</dd><dt>Q234</dt><dd>194</dd><dt>Q235</dt><dd>14</dd></dl>\n"
      ],
      "text/latex": [
       "\\begin{description*}\n",
       "\\item[Q227] 81\n",
       "\\item[Q228] 122\n",
       "\\item[Q229] 73\n",
       "\\item[Q230] 124\n",
       "\\item[Q231] 66\n",
       "\\item[Q232] 64\n",
       "\\item[Q233] 109\n",
       "\\item[Q234] 194\n",
       "\\item[Q235] 14\n",
       "\\end{description*}\n"
      ],
      "text/markdown": [
       "Q227\n",
       ":   81Q228\n",
       ":   122Q229\n",
       ":   73Q230\n",
       ":   124Q231\n",
       ":   66Q232\n",
       ":   64Q233\n",
       ":   109Q234\n",
       ":   194Q235\n",
       ":   14\n",
       "\n"
      ],
      "text/plain": [
       "Q227 Q228 Q229 Q230 Q231 Q232 Q233 Q234 Q235 \n",
       "  81  122   73  124   66   64  109  194   14 "
      ]
     },
     "metadata": {},
     "output_type": "display_data"
    }
   ],
   "source": [
    "# Calculate the counts of 3rd rankings for each LGBTQ topic\n",
    "lgbtq3_counts <- sapply(lgbtq_topics, function(topic) sum(final_data[[topic]] == 3, na.rm = TRUE))\n",
    "lgbtq3_counts"
   ]
  },
  {
   "cell_type": "code",
   "execution_count": 49,
   "id": "0d75665b-9124-4e2d-be02-43adc3835212",
   "metadata": {},
   "outputs": [
    {
     "data": {
      "text/html": [
       "'Q234'"
      ],
      "text/latex": [
       "'Q234'"
      ],
      "text/markdown": [
       "'Q234'"
      ],
      "text/plain": [
       "[1] \"Q234\""
      ]
     },
     "metadata": {},
     "output_type": "display_data"
    }
   ],
   "source": [
    "# Find the LGBTQ topic with the highest count of 3rd rankings\n",
    "lgbtq3 <- lgbtq_topics[which.max(lgbtq3_counts)]\n",
    "lgbtq3"
   ]
  },
  {
   "cell_type": "code",
   "execution_count": 50,
   "id": "dd9ceeff-0c1a-4d7b-8451-5127ef64701c",
   "metadata": {},
   "outputs": [
    {
     "data": {
      "text/html": [
       "<strong>Q234:</strong> 17.4147217235188"
      ],
      "text/latex": [
       "\\textbf{Q234:} 17.4147217235188"
      ],
      "text/markdown": [
       "**Q234:** 17.4147217235188"
      ],
      "text/plain": [
       "    Q234 \n",
       "17.41472 "
      ]
     },
     "metadata": {},
     "output_type": "display_data"
    }
   ],
   "source": [
    "# Calculate the percentage of 3rd rankings\n",
    "lgbtq3_perc <- (lgbtq3_counts[which.max(lgbtq3_counts)] / nrow(final_data)) * 100\n",
    "lgbtq3_perc"
   ]
  },
  {
   "cell_type": "markdown",
   "id": "c4931149-d9ae-4fd7-a7eb-1f64b8f8ad38",
   "metadata": {},
   "source": [
    "## Top 3 LGBTQ training topics "
   ]
  },
  {
   "cell_type": "code",
   "execution_count": 51,
   "id": "220cddfa-c98b-448f-b261-d6e6fa5ee732",
   "metadata": {},
   "outputs": [
    {
     "data": {
      "text/html": [
       "<style>\n",
       ".list-inline {list-style: none; margin:0; padding: 0}\n",
       ".list-inline>li {display: inline-block}\n",
       ".list-inline>li:not(:last-child)::after {content: \"\\00b7\"; padding: 0 .5ex}\n",
       "</style>\n",
       "<ol class=list-inline><li>'Q227'</li><li>'Q228'</li><li>'Q229'</li></ol>\n"
      ],
      "text/latex": [
       "\\begin{enumerate*}\n",
       "\\item 'Q227'\n",
       "\\item 'Q228'\n",
       "\\item 'Q229'\n",
       "\\end{enumerate*}\n"
      ],
      "text/markdown": [
       "1. 'Q227'\n",
       "2. 'Q228'\n",
       "3. 'Q229'\n",
       "\n",
       "\n"
      ],
      "text/plain": [
       "[1] \"Q227\" \"Q228\" \"Q229\""
      ]
     },
     "metadata": {},
     "output_type": "display_data"
    }
   ],
   "source": [
    "# Calculate the counts for each LGBTQ topic\n",
    "topic_counts <- sapply(lgbtq_topics, function(topic) sum(topic %in% c(1, 2, 3), na.rm = TRUE))\n",
    "\n",
    "# Sort the topics based on their counts in descending order\n",
    "sorted_topics <- sort(topic_counts, decreasing = TRUE)\n",
    "\n",
    "# Get the top 3 topics\n",
    "top_3_topics <- names(sorted_topics)[1:3]\n",
    "\n",
    "top_3_topics"
   ]
  },
  {
   "cell_type": "markdown",
   "id": "9cba3d3e-16f1-4a67-869e-aaaacf84ff9d",
   "metadata": {},
   "source": [
    "# Identifying HIV providers"
   ]
  },
  {
   "cell_type": "code",
   "execution_count": 52,
   "id": "7f9075b7-0cd0-4a9a-980f-b2d5a05da508",
   "metadata": {},
   "outputs": [
    {
     "data": {
      "text/html": [
       "<table class=\"dataframe\">\n",
       "<caption>A tibble: 10 × 855</caption>\n",
       "<thead>\n",
       "\t<tr><th scope=col>email</th><th scope=col>Record_ID</th><th scope=col>Q1</th><th scope=col>Q2</th><th scope=col>Q3</th><th scope=col>Q4</th><th scope=col>Q5</th><th scope=col>Q6</th><th scope=col>Q7</th><th scope=col>Q8</th><th scope=col>⋯</th><th scope=col>Q810</th><th scope=col>Q811</th><th scope=col>Q812</th><th scope=col>Q813</th><th scope=col>Q814</th><th scope=col>Q815</th><th scope=col>Q816</th><th scope=col>Q817</th><th scope=col>Q818</th><th scope=col>Q819</th></tr>\n",
       "\t<tr><th scope=col>&lt;chr&gt;</th><th scope=col>&lt;chr&gt;</th><th scope=col>&lt;chr&gt;</th><th scope=col>&lt;chr&gt;</th><th scope=col>&lt;chr&gt;</th><th scope=col>&lt;chr&gt;</th><th scope=col>&lt;chr&gt;</th><th scope=col>&lt;chr&gt;</th><th scope=col>&lt;dbl&gt;</th><th scope=col>&lt;dbl&gt;</th><th scope=col>⋯</th><th scope=col>&lt;chr&gt;</th><th scope=col>&lt;chr&gt;</th><th scope=col>&lt;chr&gt;</th><th scope=col>&lt;chr&gt;</th><th scope=col>&lt;chr&gt;</th><th scope=col>&lt;chr&gt;</th><th scope=col>&lt;chr&gt;</th><th scope=col>&lt;chr&gt;</th><th scope=col>&lt;chr&gt;</th><th scope=col>&lt;chr&gt;</th></tr>\n",
       "</thead>\n",
       "<tbody>\n",
       "\t<tr><td>NA                              </td><td>NA  </td><td>NA                                           </td><td>NA</td><td>NA                  </td><td>NA   </td><td>NA      </td><td>NA </td><td>NA</td><td>NA</td><td>⋯</td><td>NA                                               </td><td>NA    </td><td>NA                                                    </td><td>NA</td><td>NA</td><td>NA </td><td>NA </td><td>NA                                     </td><td>NA                                                                                                                                                                                                                                      </td><td>NA        </td></tr>\n",
       "\t<tr><td>19tyler@gmail.com               </td><td>422 </td><td>Non-profit organization                      </td><td>NA</td><td>District of Columbia</td><td>20005</td><td>Urban   </td><td>No </td><td> 1</td><td>NA</td><td>⋯</td><td>fear of how far laws will go  and stigmatizingp -</td><td>Unsure</td><td>fear                                                  </td><td>No</td><td>NA</td><td>Yes</td><td>Yes</td><td>gov refuses to use evidenced based data</td><td>limitations on providing harm Reduction services, syringe exchanges and safe injection sites in heavily using areas.                                                                                                                    </td><td>Complete  </td></tr>\n",
       "\t<tr><td>3sollenberger@gmail.com         </td><td>1294</td><td>Non-profit organization                      </td><td>NA</td><td>Pennsylvania        </td><td>15222</td><td>Urban   </td><td>No </td><td> 1</td><td> 1</td><td>⋯</td><td>NA                                               </td><td>Yes   </td><td>NA                                                    </td><td>No</td><td>NA</td><td>No </td><td>NA </td><td>NA                                     </td><td>NA                                                                                                                                                                                                                                      </td><td>Complete  </td></tr>\n",
       "\t<tr><td>aabundiz@hyacinth.org           </td><td>1519</td><td>Community Based Organization (CBO)           </td><td>NA</td><td>New Jersey          </td><td>7060 </td><td>Suburban</td><td>No </td><td>NA</td><td>NA</td><td>⋯</td><td>NA                                               </td><td>Unsure</td><td>NA                                                    </td><td>No</td><td>NA</td><td>No </td><td>NA </td><td>NA                                     </td><td>NA                                                                                                                                                                                                                                      </td><td>Complete  </td></tr>\n",
       "\t<tr><td>aadegbulugbe@totalhealthcare.org</td><td>222 </td><td>Federally Qualified Health Center (FQHC)     </td><td>NA</td><td>Maryland            </td><td>21223</td><td>Urban   </td><td>Yes</td><td> 1</td><td> 1</td><td>⋯</td><td>NA                                               </td><td>Yes   </td><td>increases stress due to more stigma and discrimination</td><td>No</td><td>NA</td><td>No </td><td>NA </td><td>NA                                     </td><td>Major issue is with insurance coverage for medications which has no rhyme or reason and significantly disrupts patient care and results in major increase in workload, need coverage  protections for ART and PrEP  medications returned</td><td>Complete  </td></tr>\n",
       "\t<tr><td>aalbior@bach.health             </td><td>1550</td><td>Federally Qualified Health Center (FQHC)     </td><td>NA</td><td>California          </td><td>94538</td><td>Suburban</td><td>No </td><td>NA</td><td>NA</td><td>⋯</td><td>NA                                               </td><td>Yes   </td><td>NA                                                    </td><td>No</td><td>NA</td><td>No </td><td>NA </td><td>NA                                     </td><td>NA                                                                                                                                                                                                                                      </td><td>Complete  </td></tr>\n",
       "\t<tr><td>aalcanta@conemaugh.org          </td><td>1385</td><td>AIDS Service Organization (ASO)              </td><td>NA</td><td>Pennsylvania        </td><td>15905</td><td>Rural   </td><td>No </td><td> 1</td><td> 1</td><td>⋯</td><td>NA                                               </td><td>NA    </td><td>NA                                                    </td><td>NA</td><td>NA</td><td>NA </td><td>NA </td><td>NA                                     </td><td>NA                                                                                                                                                                                                                                      </td><td>Incomplete</td></tr>\n",
       "\t<tr><td>abby.hinz@eauclairecounty.gov   </td><td>258 </td><td>Health department clinic/public health clinic</td><td>NA</td><td>Wisconsin           </td><td>54703</td><td>Urban   </td><td>Yes</td><td> 1</td><td>NA</td><td>⋯</td><td>NA                                               </td><td>Yes   </td><td>Feel less support for the general community/society   </td><td>No</td><td>NA</td><td>No </td><td>NA </td><td>NA                                     </td><td>NA                                                                                                                                                                                                                                      </td><td>Complete  </td></tr>\n",
       "\t<tr><td>abilly@iuhealth.org             </td><td>774 </td><td>AIDS Service Organization (ASO)              </td><td>NA</td><td>Indiana             </td><td>47909</td><td>Urban   </td><td>No </td><td> 1</td><td> 1</td><td>⋯</td><td>NA                                               </td><td>Yes   </td><td>NA                                                    </td><td>No</td><td>NA</td><td>No </td><td>NA </td><td>NA                                     </td><td>NA                                                                                                                                                                                                                                      </td><td>Complete  </td></tr>\n",
       "\t<tr><td>abmontalvo@sbchc.net            </td><td>1612</td><td>Federally Qualified Health Center (FQHC)     </td><td>NA</td><td>Texas               </td><td>77055</td><td>Urban   </td><td>No </td><td> 1</td><td> 1</td><td>⋯</td><td>NA                                               </td><td>Unsure</td><td>NA                                                    </td><td>No</td><td>NA</td><td>No </td><td>NA </td><td>NA                                     </td><td>NA                                                                                                                                                                                                                                      </td><td>Complete  </td></tr>\n",
       "</tbody>\n",
       "</table>\n"
      ],
      "text/latex": [
       "A tibble: 10 × 855\n",
       "\\begin{tabular}{lllllllllllllllllllll}\n",
       " email & Record\\_ID & Q1 & Q2 & Q3 & Q4 & Q5 & Q6 & Q7 & Q8 & ⋯ & Q810 & Q811 & Q812 & Q813 & Q814 & Q815 & Q816 & Q817 & Q818 & Q819\\\\\n",
       " <chr> & <chr> & <chr> & <chr> & <chr> & <chr> & <chr> & <chr> & <dbl> & <dbl> & ⋯ & <chr> & <chr> & <chr> & <chr> & <chr> & <chr> & <chr> & <chr> & <chr> & <chr>\\\\\n",
       "\\hline\n",
       "\t NA                               & NA   & NA                                            & NA & NA                   & NA    & NA       & NA  & NA & NA & ⋯ & NA                                                & NA     & NA                                                     & NA & NA & NA  & NA  & NA                                      & NA                                                                                                                                                                                                                                       & NA        \\\\\n",
       "\t 19tyler@gmail.com                & 422  & Non-profit organization                       & NA & District of Columbia & 20005 & Urban    & No  &  1 & NA & ⋯ & fear of how far laws will go  and stigmatizingp - & Unsure & fear                                                   & No & NA & Yes & Yes & gov refuses to use evidenced based data & limitations on providing harm Reduction services, syringe exchanges and safe injection sites in heavily using areas.                                                                                                                     & Complete  \\\\\n",
       "\t 3sollenberger@gmail.com          & 1294 & Non-profit organization                       & NA & Pennsylvania         & 15222 & Urban    & No  &  1 &  1 & ⋯ & NA                                                & Yes    & NA                                                     & No & NA & No  & NA  & NA                                      & NA                                                                                                                                                                                                                                       & Complete  \\\\\n",
       "\t aabundiz@hyacinth.org            & 1519 & Community Based Organization (CBO)            & NA & New Jersey           & 7060  & Suburban & No  & NA & NA & ⋯ & NA                                                & Unsure & NA                                                     & No & NA & No  & NA  & NA                                      & NA                                                                                                                                                                                                                                       & Complete  \\\\\n",
       "\t aadegbulugbe@totalhealthcare.org & 222  & Federally Qualified Health Center (FQHC)      & NA & Maryland             & 21223 & Urban    & Yes &  1 &  1 & ⋯ & NA                                                & Yes    & increases stress due to more stigma and discrimination & No & NA & No  & NA  & NA                                      & Major issue is with insurance coverage for medications which has no rhyme or reason and significantly disrupts patient care and results in major increase in workload, need coverage  protections for ART and PrEP  medications returned & Complete  \\\\\n",
       "\t aalbior@bach.health              & 1550 & Federally Qualified Health Center (FQHC)      & NA & California           & 94538 & Suburban & No  & NA & NA & ⋯ & NA                                                & Yes    & NA                                                     & No & NA & No  & NA  & NA                                      & NA                                                                                                                                                                                                                                       & Complete  \\\\\n",
       "\t aalcanta@conemaugh.org           & 1385 & AIDS Service Organization (ASO)               & NA & Pennsylvania         & 15905 & Rural    & No  &  1 &  1 & ⋯ & NA                                                & NA     & NA                                                     & NA & NA & NA  & NA  & NA                                      & NA                                                                                                                                                                                                                                       & Incomplete\\\\\n",
       "\t abby.hinz@eauclairecounty.gov    & 258  & Health department clinic/public health clinic & NA & Wisconsin            & 54703 & Urban    & Yes &  1 & NA & ⋯ & NA                                                & Yes    & Feel less support for the general community/society    & No & NA & No  & NA  & NA                                      & NA                                                                                                                                                                                                                                       & Complete  \\\\\n",
       "\t abilly@iuhealth.org              & 774  & AIDS Service Organization (ASO)               & NA & Indiana              & 47909 & Urban    & No  &  1 &  1 & ⋯ & NA                                                & Yes    & NA                                                     & No & NA & No  & NA  & NA                                      & NA                                                                                                                                                                                                                                       & Complete  \\\\\n",
       "\t abmontalvo@sbchc.net             & 1612 & Federally Qualified Health Center (FQHC)      & NA & Texas                & 77055 & Urban    & No  &  1 &  1 & ⋯ & NA                                                & Unsure & NA                                                     & No & NA & No  & NA  & NA                                      & NA                                                                                                                                                                                                                                       & Complete  \\\\\n",
       "\\end{tabular}\n"
      ],
      "text/markdown": [
       "\n",
       "A tibble: 10 × 855\n",
       "\n",
       "| email &lt;chr&gt; | Record_ID &lt;chr&gt; | Q1 &lt;chr&gt; | Q2 &lt;chr&gt; | Q3 &lt;chr&gt; | Q4 &lt;chr&gt; | Q5 &lt;chr&gt; | Q6 &lt;chr&gt; | Q7 &lt;dbl&gt; | Q8 &lt;dbl&gt; | ⋯ ⋯ | Q810 &lt;chr&gt; | Q811 &lt;chr&gt; | Q812 &lt;chr&gt; | Q813 &lt;chr&gt; | Q814 &lt;chr&gt; | Q815 &lt;chr&gt; | Q816 &lt;chr&gt; | Q817 &lt;chr&gt; | Q818 &lt;chr&gt; | Q819 &lt;chr&gt; |\n",
       "|---|---|---|---|---|---|---|---|---|---|---|---|---|---|---|---|---|---|---|---|---|\n",
       "| NA                               | NA   | NA                                            | NA | NA                   | NA    | NA       | NA  | NA | NA | ⋯ | NA                                                | NA     | NA                                                     | NA | NA | NA  | NA  | NA                                      | NA                                                                                                                                                                                                                                       | NA         |\n",
       "| 19tyler@gmail.com                | 422  | Non-profit organization                       | NA | District of Columbia | 20005 | Urban    | No  |  1 | NA | ⋯ | fear of how far laws will go  and stigmatizingp - | Unsure | fear                                                   | No | NA | Yes | Yes | gov refuses to use evidenced based data | limitations on providing harm Reduction services, syringe exchanges and safe injection sites in heavily using areas.                                                                                                                     | Complete   |\n",
       "| 3sollenberger@gmail.com          | 1294 | Non-profit organization                       | NA | Pennsylvania         | 15222 | Urban    | No  |  1 |  1 | ⋯ | NA                                                | Yes    | NA                                                     | No | NA | No  | NA  | NA                                      | NA                                                                                                                                                                                                                                       | Complete   |\n",
       "| aabundiz@hyacinth.org            | 1519 | Community Based Organization (CBO)            | NA | New Jersey           | 7060  | Suburban | No  | NA | NA | ⋯ | NA                                                | Unsure | NA                                                     | No | NA | No  | NA  | NA                                      | NA                                                                                                                                                                                                                                       | Complete   |\n",
       "| aadegbulugbe@totalhealthcare.org | 222  | Federally Qualified Health Center (FQHC)      | NA | Maryland             | 21223 | Urban    | Yes |  1 |  1 | ⋯ | NA                                                | Yes    | increases stress due to more stigma and discrimination | No | NA | No  | NA  | NA                                      | Major issue is with insurance coverage for medications which has no rhyme or reason and significantly disrupts patient care and results in major increase in workload, need coverage  protections for ART and PrEP  medications returned | Complete   |\n",
       "| aalbior@bach.health              | 1550 | Federally Qualified Health Center (FQHC)      | NA | California           | 94538 | Suburban | No  | NA | NA | ⋯ | NA                                                | Yes    | NA                                                     | No | NA | No  | NA  | NA                                      | NA                                                                                                                                                                                                                                       | Complete   |\n",
       "| aalcanta@conemaugh.org           | 1385 | AIDS Service Organization (ASO)               | NA | Pennsylvania         | 15905 | Rural    | No  |  1 |  1 | ⋯ | NA                                                | NA     | NA                                                     | NA | NA | NA  | NA  | NA                                      | NA                                                                                                                                                                                                                                       | Incomplete |\n",
       "| abby.hinz@eauclairecounty.gov    | 258  | Health department clinic/public health clinic | NA | Wisconsin            | 54703 | Urban    | Yes |  1 | NA | ⋯ | NA                                                | Yes    | Feel less support for the general community/society    | No | NA | No  | NA  | NA                                      | NA                                                                                                                                                                                                                                       | Complete   |\n",
       "| abilly@iuhealth.org              | 774  | AIDS Service Organization (ASO)               | NA | Indiana              | 47909 | Urban    | No  |  1 |  1 | ⋯ | NA                                                | Yes    | NA                                                     | No | NA | No  | NA  | NA                                      | NA                                                                                                                                                                                                                                       | Complete   |\n",
       "| abmontalvo@sbchc.net             | 1612 | Federally Qualified Health Center (FQHC)      | NA | Texas                | 77055 | Urban    | No  |  1 |  1 | ⋯ | NA                                                | Unsure | NA                                                     | No | NA | No  | NA  | NA                                      | NA                                                                                                                                                                                                                                       | Complete   |\n",
       "\n"
      ],
      "text/plain": [
       "   email                            Record_ID\n",
       "1  NA                               NA       \n",
       "2  19tyler@gmail.com                422      \n",
       "3  3sollenberger@gmail.com          1294     \n",
       "4  aabundiz@hyacinth.org            1519     \n",
       "5  aadegbulugbe@totalhealthcare.org 222      \n",
       "6  aalbior@bach.health              1550     \n",
       "7  aalcanta@conemaugh.org           1385     \n",
       "8  abby.hinz@eauclairecounty.gov    258      \n",
       "9  abilly@iuhealth.org              774      \n",
       "10 abmontalvo@sbchc.net             1612     \n",
       "   Q1                                            Q2 Q3                   Q4   \n",
       "1  NA                                            NA NA                   NA   \n",
       "2  Non-profit organization                       NA District of Columbia 20005\n",
       "3  Non-profit organization                       NA Pennsylvania         15222\n",
       "4  Community Based Organization (CBO)            NA New Jersey           7060 \n",
       "5  Federally Qualified Health Center (FQHC)      NA Maryland             21223\n",
       "6  Federally Qualified Health Center (FQHC)      NA California           94538\n",
       "7  AIDS Service Organization (ASO)               NA Pennsylvania         15905\n",
       "8  Health department clinic/public health clinic NA Wisconsin            54703\n",
       "9  AIDS Service Organization (ASO)               NA Indiana              47909\n",
       "10 Federally Qualified Health Center (FQHC)      NA Texas                77055\n",
       "   Q5       Q6  Q7 Q8 ⋯ Q810                                             \n",
       "1  NA       NA  NA NA ⋯ NA                                               \n",
       "2  Urban    No   1 NA ⋯ fear of how far laws will go  and stigmatizingp -\n",
       "3  Urban    No   1  1 ⋯ NA                                               \n",
       "4  Suburban No  NA NA ⋯ NA                                               \n",
       "5  Urban    Yes  1  1 ⋯ NA                                               \n",
       "6  Suburban No  NA NA ⋯ NA                                               \n",
       "7  Rural    No   1  1 ⋯ NA                                               \n",
       "8  Urban    Yes  1 NA ⋯ NA                                               \n",
       "9  Urban    No   1  1 ⋯ NA                                               \n",
       "10 Urban    No   1  1 ⋯ NA                                               \n",
       "   Q811   Q812                                                   Q813 Q814 Q815\n",
       "1  NA     NA                                                     NA   NA   NA  \n",
       "2  Unsure fear                                                   No   NA   Yes \n",
       "3  Yes    NA                                                     No   NA   No  \n",
       "4  Unsure NA                                                     No   NA   No  \n",
       "5  Yes    increases stress due to more stigma and discrimination No   NA   No  \n",
       "6  Yes    NA                                                     No   NA   No  \n",
       "7  NA     NA                                                     NA   NA   NA  \n",
       "8  Yes    Feel less support for the general community/society    No   NA   No  \n",
       "9  Yes    NA                                                     No   NA   No  \n",
       "10 Unsure NA                                                     No   NA   No  \n",
       "   Q816 Q817                                   \n",
       "1  NA   NA                                     \n",
       "2  Yes  gov refuses to use evidenced based data\n",
       "3  NA   NA                                     \n",
       "4  NA   NA                                     \n",
       "5  NA   NA                                     \n",
       "6  NA   NA                                     \n",
       "7  NA   NA                                     \n",
       "8  NA   NA                                     \n",
       "9  NA   NA                                     \n",
       "10 NA   NA                                     \n",
       "   Q818                                                                                                                                                                                                                                    \n",
       "1  NA                                                                                                                                                                                                                                      \n",
       "2  limitations on providing harm Reduction services, syringe exchanges and safe injection sites in heavily using areas.                                                                                                                    \n",
       "3  NA                                                                                                                                                                                                                                      \n",
       "4  NA                                                                                                                                                                                                                                      \n",
       "5  Major issue is with insurance coverage for medications which has no rhyme or reason and significantly disrupts patient care and results in major increase in workload, need coverage  protections for ART and PrEP  medications returned\n",
       "6  NA                                                                                                                                                                                                                                      \n",
       "7  NA                                                                                                                                                                                                                                      \n",
       "8  NA                                                                                                                                                                                                                                      \n",
       "9  NA                                                                                                                                                                                                                                      \n",
       "10 NA                                                                                                                                                                                                                                      \n",
       "   Q819      \n",
       "1  NA        \n",
       "2  Complete  \n",
       "3  Complete  \n",
       "4  Complete  \n",
       "5  Complete  \n",
       "6  Complete  \n",
       "7  Incomplete\n",
       "8  Complete  \n",
       "9  Complete  \n",
       "10 Complete  "
      ]
     },
     "metadata": {},
     "output_type": "display_data"
    }
   ],
   "source": [
    "# HIV providers\n",
    "HIV_providers <- final_data[final_data$Q22 == \"Yes\" | final_data$Q30 == \"Yes\" | final_data$Q32 == \"Yes\", ]\n",
    "head(HIV_providers, 10)"
   ]
  },
  {
   "cell_type": "markdown",
   "id": "a05ab11a-2715-4a67-a6b5-8797e2ced852",
   "metadata": {},
   "source": [
    "## Number of incomplete and complete responses among HIV providers"
   ]
  },
  {
   "cell_type": "code",
   "execution_count": 53,
   "id": "6d59b6e1-a90d-4126-a070-39fb9a235f14",
   "metadata": {},
   "outputs": [
    {
     "data": {
      "text/plain": [
       "\n",
       "  Complete Incomplete \n",
       "       760        271 "
      ]
     },
     "metadata": {},
     "output_type": "display_data"
    }
   ],
   "source": [
    "# Complete vs Incomplete among HIV providers\n",
    "table(HIV_providers$Q819)"
   ]
  },
  {
   "cell_type": "markdown",
   "id": "1156b20e-4040-4cd9-94b0-9c31086eb56c",
   "metadata": {},
   "source": [
    "## Descriptive Statistics among HIV providers"
   ]
  },
  {
   "cell_type": "markdown",
   "id": "67f821ed-4d29-4fa1-b5e6-9afb0aa63fc4",
   "metadata": {},
   "source": [
    "### Age counts among HIV providers"
   ]
  },
  {
   "cell_type": "code",
   "execution_count": 54,
   "id": "12e2acd3-9ac4-4ad3-96f1-b76a25afc809",
   "metadata": {
    "tags": []
   },
   "outputs": [
    {
     "data": {
      "text/plain": [
       "\n",
       "                18-24                 25-34                 35-44 \n",
       "                   31                   196                   239 \n",
       "                45-54                 55-64                    65 \n",
       "                  249                   204                    91 \n",
       "Prefer not to respond \n",
       "                   19 "
      ]
     },
     "metadata": {},
     "output_type": "display_data"
    }
   ],
   "source": [
    "## HIV providers - Age\n",
    "age_HIV <- table(HIV_providers$Q162)\n",
    "age_HIV"
   ]
  },
  {
   "cell_type": "markdown",
   "id": "9510f041-7675-495e-b094-ec1ac5fae3df",
   "metadata": {},
   "source": [
    "### Age percentages among HIV providers"
   ]
  },
  {
   "cell_type": "code",
   "execution_count": 55,
   "id": "27fc592f-3136-46c6-b7f9-c9db99041865",
   "metadata": {},
   "outputs": [
    {
     "data": {
      "text/plain": [
       "\n",
       "                18-24                 25-34                 35-44 \n",
       "             3.012634             19.047619             23.226433 \n",
       "                45-54                 55-64                    65 \n",
       "            24.198251             19.825073              8.843537 \n",
       "Prefer not to respond \n",
       "             1.846453 "
      ]
     },
     "metadata": {},
     "output_type": "display_data"
    }
   ],
   "source": [
    "age_perc_HIV <- prop.table(age_HIV)*100\n",
    "age_perc_HIV"
   ]
  },
  {
   "cell_type": "markdown",
   "id": "991b8128-2ed5-44b0-a4f9-01dcc0ef951a",
   "metadata": {},
   "source": [
    "### Gender counts among HIV providers"
   ]
  },
  {
   "cell_type": "code",
   "execution_count": 56,
   "id": "6dabd2fc-a7a4-4058-b77f-79f9a775f243",
   "metadata": {},
   "outputs": [
    {
     "data": {
      "text/plain": [
       "\n",
       "                                Female/Woman \n",
       "                                         636 \n",
       "Genderqueer/gender non-confirming/non-binary \n",
       "                                          64 \n",
       "                                    Male/Man \n",
       "                                         271 \n",
       "                       Prefer not to respond \n",
       "                                          17 \n",
       "                     Prefer to self-describe \n",
       "                                           9 \n",
       "                             Transgender man \n",
       "                                          18 \n",
       "                           Transgender woman \n",
       "                                          14 "
      ]
     },
     "metadata": {},
     "output_type": "display_data"
    }
   ],
   "source": [
    "## HIV providers - Gender\n",
    "gender_HIV<- table(HIV_providers$Q157)\n",
    "gender_HIV"
   ]
  },
  {
   "cell_type": "markdown",
   "id": "f8ef524a-c789-4fc6-a9df-50ee50ccbcdc",
   "metadata": {},
   "source": [
    "### Gender percentages among HIV providers"
   ]
  },
  {
   "cell_type": "code",
   "execution_count": 57,
   "id": "b46efb50-0426-4c0e-b1fe-b73dd22b91c2",
   "metadata": {},
   "outputs": [
    {
     "data": {
      "text/plain": [
       "\n",
       "                                Female/Woman \n",
       "                                  61.8075802 \n",
       "Genderqueer/gender non-confirming/non-binary \n",
       "                                   6.2196307 \n",
       "                                    Male/Man \n",
       "                                  26.3362488 \n",
       "                       Prefer not to respond \n",
       "                                   1.6520894 \n",
       "                     Prefer to self-describe \n",
       "                                   0.8746356 \n",
       "                             Transgender man \n",
       "                                   1.7492711 \n",
       "                           Transgender woman \n",
       "                                   1.3605442 "
      ]
     },
     "metadata": {},
     "output_type": "display_data"
    }
   ],
   "source": [
    "gender_perc_HIV <- prop.table(gender_HIV)*100\n",
    "gender_perc_HIV"
   ]
  },
  {
   "cell_type": "markdown",
   "id": "857cdbe4-2f2b-4d39-a7d6-19d1c505d7fb",
   "metadata": {},
   "source": [
    "### Race counts among HIV providers"
   ]
  },
  {
   "cell_type": "code",
   "execution_count": 58,
   "id": "8f2c6c52-b29d-4991-ac4c-42473a00a56f",
   "metadata": {},
   "outputs": [
    {
     "data": {
      "text/plain": [
       "\n",
       "        Asian and/or Asian American           Black or African American \n",
       "                                 26                                 250 \n",
       "                        Multiracial    Native American or Alaska Native \n",
       "                                 77                                  11 \n",
       "Native Hawaiian or Pacific Islander               Prefer not to respond \n",
       "                                  5                                  52 \n",
       "            Prefer to self-describe                  White or Caucasian \n",
       "                                 25                                 582 "
      ]
     },
     "metadata": {},
     "output_type": "display_data"
    }
   ],
   "source": [
    "## HIV providers - Race\n",
    "race_HIV <- table(HIV_providers$Q159)\n",
    "race_HIV"
   ]
  },
  {
   "cell_type": "markdown",
   "id": "177c1d38-b77c-4332-80de-10bbdc232a29",
   "metadata": {},
   "source": [
    "### Race percentages among HIV providers"
   ]
  },
  {
   "cell_type": "code",
   "execution_count": 59,
   "id": "3a3bda76-ef09-4743-93da-7e20b1ecd00c",
   "metadata": {},
   "outputs": [
    {
     "data": {
      "text/plain": [
       "\n",
       "        Asian and/or Asian American           Black or African American \n",
       "                          2.5291829                          24.3190661 \n",
       "                        Multiracial    Native American or Alaska Native \n",
       "                          7.4902724                           1.0700389 \n",
       "Native Hawaiian or Pacific Islander               Prefer not to respond \n",
       "                          0.4863813                           5.0583658 \n",
       "            Prefer to self-describe                  White or Caucasian \n",
       "                          2.4319066                          56.6147860 "
      ]
     },
     "metadata": {},
     "output_type": "display_data"
    }
   ],
   "source": [
    "race_perc_HIV <- prop.table(race_HIV)*100\n",
    "race_perc_HIV"
   ]
  },
  {
   "cell_type": "markdown",
   "id": "2f04e279-0356-4c56-a892-bf77e8127445",
   "metadata": {},
   "source": [
    "### Hispanic/Latinx counts among HIV providers"
   ]
  },
  {
   "cell_type": "code",
   "execution_count": 60,
   "id": "4df577a0-2bf5-4f3f-9c9c-73d2ec831a22",
   "metadata": {},
   "outputs": [
    {
     "data": {
      "text/plain": [
       "\n",
       "                   No Prefer not to respond                   Yes \n",
       "                  819                    19                   191 "
      ]
     },
     "metadata": {},
     "output_type": "display_data"
    }
   ],
   "source": [
    "## HIV providers - Hispanic/Latinx\n",
    "hisp_HIV <- table(HIV_providers$Q161)\n",
    "hisp_HIV"
   ]
  },
  {
   "cell_type": "markdown",
   "id": "f1c641e7-bf3d-4341-a5e3-1b670678d3bb",
   "metadata": {},
   "source": [
    "### Hispanic/Latinx percentages among HIV providers"
   ]
  },
  {
   "cell_type": "code",
   "execution_count": 61,
   "id": "a1aae31f-e185-4339-a30c-a6714a3074a3",
   "metadata": {},
   "outputs": [
    {
     "data": {
      "text/plain": [
       "\n",
       "                   No Prefer not to respond                   Yes \n",
       "            79.591837              1.846453             18.561710 "
      ]
     },
     "metadata": {},
     "output_type": "display_data"
    }
   ],
   "source": [
    "hisp_perc_HIV<- prop.table(hisp_HIV)*100\n",
    "hisp_perc_HIV"
   ]
  },
  {
   "cell_type": "markdown",
   "id": "185b43ee-512d-4eb3-9579-4f167e2e364e",
   "metadata": {},
   "source": [
    "### Role counts among HIV providers"
   ]
  },
  {
   "cell_type": "code",
   "execution_count": 62,
   "id": "2d7f5483-034d-4d0f-b7ea-917bfde8633a",
   "metadata": {},
   "outputs": [
    {
     "data": {
      "text/plain": [
       "\n",
       "                             Dentist      Disease Intervention Specialist \n",
       "                                   2                                    1 \n",
       "     Licensed Clinical Social Worker             Licensed Practical Nurse \n",
       "                                  37                                   10 \n",
       "                   Medical Assistant           Mental Health Case Manager \n",
       "                                  10                                    3 \n",
       "             Mental Health Counselor           Mental Health Professional \n",
       "                                   1                                   11 \n",
       "         Mental Health Professional                         Nurse Manager \n",
       "                                   1                                   18 \n",
       "                       Nurse Midwife                   Nurse Practitioner \n",
       "                                   1                                   68 \n",
       "Other Provider/Clinical professional                           Pharmacist \n",
       "                                   7                                   16 \n",
       "                 Pharmacy Technician                         Phlebotomist \n",
       "                                   3                                    2 \n",
       "                           Physician                  Physician Assistant \n",
       "                                  54                                   11 \n",
       "                        Psychologist                     Registered Nurse \n",
       "                                  14                                   73 "
      ]
     },
     "metadata": {},
     "output_type": "display_data"
    }
   ],
   "source": [
    "role_counts_HIV <- table(HIV_providers$Q66)\n",
    "role_counts_HIV"
   ]
  },
  {
   "cell_type": "markdown",
   "id": "46db5ecc-90d9-4da0-a036-cdcd9705fded",
   "metadata": {},
   "source": [
    "### Role percentages among HIV providers"
   ]
  },
  {
   "cell_type": "code",
   "execution_count": 63,
   "id": "c79c90a1-016a-4835-9219-7647288a4aed",
   "metadata": {},
   "outputs": [
    {
     "data": {
      "text/plain": [
       "\n",
       "                             Dentist      Disease Intervention Specialist \n",
       "                           0.5830904                            0.2915452 \n",
       "     Licensed Clinical Social Worker             Licensed Practical Nurse \n",
       "                          10.7871720                            2.9154519 \n",
       "                   Medical Assistant           Mental Health Case Manager \n",
       "                           2.9154519                            0.8746356 \n",
       "             Mental Health Counselor           Mental Health Professional \n",
       "                           0.2915452                            3.2069971 \n",
       "         Mental Health Professional                         Nurse Manager \n",
       "                           0.2915452                            5.2478134 \n",
       "                       Nurse Midwife                   Nurse Practitioner \n",
       "                           0.2915452                           19.8250729 \n",
       "Other Provider/Clinical professional                           Pharmacist \n",
       "                           2.0408163                            4.6647230 \n",
       "                 Pharmacy Technician                         Phlebotomist \n",
       "                           0.8746356                            0.5830904 \n",
       "                           Physician                  Physician Assistant \n",
       "                          15.7434402                            3.2069971 \n",
       "                        Psychologist                     Registered Nurse \n",
       "                           4.0816327                           21.2827988 "
      ]
     },
     "metadata": {},
     "output_type": "display_data"
    }
   ],
   "source": [
    "role_perc_HIV <- prop.table(role_counts_HIV)*100\n",
    "role_perc_HIV"
   ]
  },
  {
   "cell_type": "markdown",
   "id": "3f5b55a2-c729-4a6a-a282-a07a499d36d5",
   "metadata": {},
   "source": [
    "### Prescriber counts among HIV providers"
   ]
  },
  {
   "cell_type": "code",
   "execution_count": 64,
   "id": "2e7bbbef-3725-4da8-a594-c1466c6b9927",
   "metadata": {},
   "outputs": [
    {
     "data": {
      "text/plain": [
       "\n",
       " No Yes \n",
       "198 149 "
      ]
     },
     "metadata": {},
     "output_type": "display_data"
    }
   ],
   "source": [
    "prescriber_counts_HIV <- table(HIV_providers$Q70)\n",
    "prescriber_counts_HIV"
   ]
  },
  {
   "cell_type": "markdown",
   "id": "090c0e53-d09f-4424-81d5-b3242a056a9b",
   "metadata": {},
   "source": [
    "### Prescriber percentages among HIV providers"
   ]
  },
  {
   "cell_type": "code",
   "execution_count": 65,
   "id": "74a36766-2d25-4a2d-8a3b-ec0489759afb",
   "metadata": {},
   "outputs": [
    {
     "data": {
      "text/plain": [
       "\n",
       "      No      Yes \n",
       "57.06052 42.93948 "
      ]
     },
     "metadata": {},
     "output_type": "display_data"
    }
   ],
   "source": [
    "prescriber_perc_HIV <- prop.table(prescriber_counts_HIV)*100\n",
    "prescriber_perc_HIV"
   ]
  },
  {
   "cell_type": "markdown",
   "id": "819b5bb1-b38e-4d77-8992-024c73d1c0c9",
   "metadata": {},
   "source": [
    "## HIV training statistics for HIV providers"
   ]
  },
  {
   "cell_type": "code",
   "execution_count": 66,
   "id": "80846c5b-8266-4a95-9b2d-f93eae81173a",
   "metadata": {},
   "outputs": [],
   "source": [
    "# HIV providers - Create a vector of column names representing the HIV topics columns\n",
    "hiv_topics_HIV <- c(\"Q198\", \"Q199\", \"Q200\", \"Q201\", \"Q202\",\"Q203\",\"Q204\",\"Q205\",\"Q206\",\"Q207\",\"Q208\",\"Q209\",\"Q210a\",\"Q210b\")"
   ]
  },
  {
   "cell_type": "markdown",
   "id": "5b09782e-c9d7-434a-a9a6-b086c1d411b7",
   "metadata": {},
   "source": [
    "### HIV topic with greatest number of 1st rankings among HIV providers"
   ]
  },
  {
   "cell_type": "code",
   "execution_count": 67,
   "id": "b5d2e44a-4432-4e24-8d8f-c58be57f49fb",
   "metadata": {},
   "outputs": [
    {
     "data": {
      "text/html": [
       "<style>\n",
       ".dl-inline {width: auto; margin:0; padding: 0}\n",
       ".dl-inline>dt, .dl-inline>dd {float: none; width: auto; display: inline-block}\n",
       ".dl-inline>dt::after {content: \":\\0020\"; padding-right: .5ex}\n",
       ".dl-inline>dt:not(:first-of-type) {padding-left: .5ex}\n",
       "</style><dl class=dl-inline><dt>Q198</dt><dd>181</dd><dt>Q199</dt><dd>83</dd><dt>Q200</dt><dd>76</dd><dt>Q201</dt><dd>18</dd><dt>Q202</dt><dd>21</dd><dt>Q203</dt><dd>37</dd><dt>Q204</dt><dd>34</dd><dt>Q205</dt><dd>49</dd><dt>Q206</dt><dd>49</dd><dt>Q207</dt><dd>6</dd><dt>Q208</dt><dd>12</dd><dt>Q209</dt><dd>12</dd><dt>Q210a</dt><dd>3</dd><dt>Q210b</dt><dd>1</dd></dl>\n"
      ],
      "text/latex": [
       "\\begin{description*}\n",
       "\\item[Q198] 181\n",
       "\\item[Q199] 83\n",
       "\\item[Q200] 76\n",
       "\\item[Q201] 18\n",
       "\\item[Q202] 21\n",
       "\\item[Q203] 37\n",
       "\\item[Q204] 34\n",
       "\\item[Q205] 49\n",
       "\\item[Q206] 49\n",
       "\\item[Q207] 6\n",
       "\\item[Q208] 12\n",
       "\\item[Q209] 12\n",
       "\\item[Q210a] 3\n",
       "\\item[Q210b] 1\n",
       "\\end{description*}\n"
      ],
      "text/markdown": [
       "Q198\n",
       ":   181Q199\n",
       ":   83Q200\n",
       ":   76Q201\n",
       ":   18Q202\n",
       ":   21Q203\n",
       ":   37Q204\n",
       ":   34Q205\n",
       ":   49Q206\n",
       ":   49Q207\n",
       ":   6Q208\n",
       ":   12Q209\n",
       ":   12Q210a\n",
       ":   3Q210b\n",
       ":   1\n",
       "\n"
      ],
      "text/plain": [
       " Q198  Q199  Q200  Q201  Q202  Q203  Q204  Q205  Q206  Q207  Q208  Q209 Q210a \n",
       "  181    83    76    18    21    37    34    49    49     6    12    12     3 \n",
       "Q210b \n",
       "    1 "
      ]
     },
     "metadata": {},
     "output_type": "display_data"
    }
   ],
   "source": [
    "# HIV providers - Calculate the counts of 1st rankings for each HIV topic\n",
    "hiv1_count_HIV <- sapply(hiv_topics_HIV, function(topic) sum(HIV_providers[[topic]] == 1, na.rm = TRUE))\n",
    "hiv1_count_HIV"
   ]
  },
  {
   "cell_type": "code",
   "execution_count": 68,
   "id": "1dd4c03e-d308-44d2-8c43-2638151d5e22",
   "metadata": {},
   "outputs": [
    {
     "data": {
      "text/html": [
       "'Q198'"
      ],
      "text/latex": [
       "'Q198'"
      ],
      "text/markdown": [
       "'Q198'"
      ],
      "text/plain": [
       "[1] \"Q198\""
      ]
     },
     "metadata": {},
     "output_type": "display_data"
    }
   ],
   "source": [
    "# HIV providers - Find the HIV topic with the highest count of 1st rankings\n",
    "hiv1_rank_HIV <- hiv_topics_HIV[which.max(hiv1_count_HIV)]\n",
    "hiv1_rank_HIV"
   ]
  },
  {
   "cell_type": "code",
   "execution_count": 69,
   "id": "5fbd70ac-eff5-4562-bbc7-664233f254f2",
   "metadata": {},
   "outputs": [
    {
     "data": {
      "text/html": [
       "<strong>Q198:</strong> 30.8347529812606"
      ],
      "text/latex": [
       "\\textbf{Q198:} 30.8347529812606"
      ],
      "text/markdown": [
       "**Q198:** 30.8347529812606"
      ],
      "text/plain": [
       "    Q198 \n",
       "30.83475 "
      ]
     },
     "metadata": {},
     "output_type": "display_data"
    }
   ],
   "source": [
    "# HIV providers - Calculate the percentage of 1st rankings\n",
    "hiv1_perc_HIV <- (hiv1_count_HIV[which.max(hiv1_count_HIV)] / sum(rowSums(!is.na(HIV_providers[, hiv_topics_HIV])) > 0)) * 100\n",
    "hiv1_perc_HIV"
   ]
  },
  {
   "cell_type": "markdown",
   "id": "707482a1-27ab-4b0a-a53f-1f755f3b4092",
   "metadata": {},
   "source": [
    "### HIV topic with greatest number of 2nd rankings among HIV providers"
   ]
  },
  {
   "cell_type": "code",
   "execution_count": 70,
   "id": "a99220ed-7de2-42c0-90eb-d4349bc6b374",
   "metadata": {},
   "outputs": [
    {
     "data": {
      "text/html": [
       "<style>\n",
       ".dl-inline {width: auto; margin:0; padding: 0}\n",
       ".dl-inline>dt, .dl-inline>dd {float: none; width: auto; display: inline-block}\n",
       ".dl-inline>dt::after {content: \":\\0020\"; padding-right: .5ex}\n",
       ".dl-inline>dt:not(:first-of-type) {padding-left: .5ex}\n",
       "</style><dl class=dl-inline><dt>Q198</dt><dd>61</dd><dt>Q199</dt><dd>89</dd><dt>Q200</dt><dd>76</dd><dt>Q201</dt><dd>27</dd><dt>Q202</dt><dd>44</dd><dt>Q203</dt><dd>52</dd><dt>Q204</dt><dd>48</dd><dt>Q205</dt><dd>49</dd><dt>Q206</dt><dd>56</dd><dt>Q207</dt><dd>15</dd><dt>Q208</dt><dd>19</dd><dt>Q209</dt><dd>2</dd><dt>Q210a</dt><dd>0</dd><dt>Q210b</dt><dd>1</dd></dl>\n"
      ],
      "text/latex": [
       "\\begin{description*}\n",
       "\\item[Q198] 61\n",
       "\\item[Q199] 89\n",
       "\\item[Q200] 76\n",
       "\\item[Q201] 27\n",
       "\\item[Q202] 44\n",
       "\\item[Q203] 52\n",
       "\\item[Q204] 48\n",
       "\\item[Q205] 49\n",
       "\\item[Q206] 56\n",
       "\\item[Q207] 15\n",
       "\\item[Q208] 19\n",
       "\\item[Q209] 2\n",
       "\\item[Q210a] 0\n",
       "\\item[Q210b] 1\n",
       "\\end{description*}\n"
      ],
      "text/markdown": [
       "Q198\n",
       ":   61Q199\n",
       ":   89Q200\n",
       ":   76Q201\n",
       ":   27Q202\n",
       ":   44Q203\n",
       ":   52Q204\n",
       ":   48Q205\n",
       ":   49Q206\n",
       ":   56Q207\n",
       ":   15Q208\n",
       ":   19Q209\n",
       ":   2Q210a\n",
       ":   0Q210b\n",
       ":   1\n",
       "\n"
      ],
      "text/plain": [
       " Q198  Q199  Q200  Q201  Q202  Q203  Q204  Q205  Q206  Q207  Q208  Q209 Q210a \n",
       "   61    89    76    27    44    52    48    49    56    15    19     2     0 \n",
       "Q210b \n",
       "    1 "
      ]
     },
     "metadata": {},
     "output_type": "display_data"
    }
   ],
   "source": [
    "# HIV providers - Calculate the counts of 2nd rankings for each HIV topic\n",
    "hiv2_count_HIV <- sapply(hiv_topics_HIV, function(topic) sum(HIV_providers[[topic]] == 2, na.rm = TRUE))\n",
    "hiv2_count_HIV"
   ]
  },
  {
   "cell_type": "code",
   "execution_count": 71,
   "id": "98bcd023-c80b-4561-89ed-07ff006d601c",
   "metadata": {},
   "outputs": [
    {
     "data": {
      "text/html": [
       "'Q199'"
      ],
      "text/latex": [
       "'Q199'"
      ],
      "text/markdown": [
       "'Q199'"
      ],
      "text/plain": [
       "[1] \"Q199\""
      ]
     },
     "metadata": {},
     "output_type": "display_data"
    }
   ],
   "source": [
    "# HIV providers - Find the HIV topic with the highest count of 2nd rankings\n",
    "hiv2_rank_HIV <- hiv_topics_HIV[which.max(hiv2_count_HIV)]\n",
    "hiv2_rank_HIV"
   ]
  },
  {
   "cell_type": "code",
   "execution_count": 72,
   "id": "fd1a4c6c-05f0-4ed2-ba0b-3572de0e2fd1",
   "metadata": {},
   "outputs": [
    {
     "data": {
      "text/html": [
       "<strong>Q199:</strong> 15.1618398637138"
      ],
      "text/latex": [
       "\\textbf{Q199:} 15.1618398637138"
      ],
      "text/markdown": [
       "**Q199:** 15.1618398637138"
      ],
      "text/plain": [
       "    Q199 \n",
       "15.16184 "
      ]
     },
     "metadata": {},
     "output_type": "display_data"
    }
   ],
   "source": [
    "# HIV providers - Calculate the percentage of 2nd ranking\n",
    "hiv2_perc_HIV <- (hiv2_count_HIV[which.max(hiv2_count_HIV)] / sum(rowSums(!is.na(HIV_providers[, hiv_topics_HIV])) > 0)) * 100\n",
    "hiv2_perc_HIV"
   ]
  },
  {
   "cell_type": "markdown",
   "id": "303dea10-e1ac-4581-8e2e-b1c92d2b27bb",
   "metadata": {},
   "source": [
    "### HIV topic with greatest number of 3rd rankings among HIV providers"
   ]
  },
  {
   "cell_type": "code",
   "execution_count": 73,
   "id": "cda12092-6f22-49a4-9b24-0409750a63e2",
   "metadata": {},
   "outputs": [
    {
     "data": {
      "text/html": [
       "<style>\n",
       ".dl-inline {width: auto; margin:0; padding: 0}\n",
       ".dl-inline>dt, .dl-inline>dd {float: none; width: auto; display: inline-block}\n",
       ".dl-inline>dt::after {content: \":\\0020\"; padding-right: .5ex}\n",
       ".dl-inline>dt:not(:first-of-type) {padding-left: .5ex}\n",
       "</style><dl class=dl-inline><dt>Q198</dt><dd>67</dd><dt>Q199</dt><dd>47</dd><dt>Q200</dt><dd>56</dd><dt>Q201</dt><dd>17</dd><dt>Q202</dt><dd>56</dd><dt>Q203</dt><dd>46</dd><dt>Q204</dt><dd>61</dd><dt>Q205</dt><dd>58</dd><dt>Q206</dt><dd>53</dd><dt>Q207</dt><dd>12</dd><dt>Q208</dt><dd>37</dd><dt>Q209</dt><dd>16</dd><dt>Q210a</dt><dd>2</dd><dt>Q210b</dt><dd>3</dd></dl>\n"
      ],
      "text/latex": [
       "\\begin{description*}\n",
       "\\item[Q198] 67\n",
       "\\item[Q199] 47\n",
       "\\item[Q200] 56\n",
       "\\item[Q201] 17\n",
       "\\item[Q202] 56\n",
       "\\item[Q203] 46\n",
       "\\item[Q204] 61\n",
       "\\item[Q205] 58\n",
       "\\item[Q206] 53\n",
       "\\item[Q207] 12\n",
       "\\item[Q208] 37\n",
       "\\item[Q209] 16\n",
       "\\item[Q210a] 2\n",
       "\\item[Q210b] 3\n",
       "\\end{description*}\n"
      ],
      "text/markdown": [
       "Q198\n",
       ":   67Q199\n",
       ":   47Q200\n",
       ":   56Q201\n",
       ":   17Q202\n",
       ":   56Q203\n",
       ":   46Q204\n",
       ":   61Q205\n",
       ":   58Q206\n",
       ":   53Q207\n",
       ":   12Q208\n",
       ":   37Q209\n",
       ":   16Q210a\n",
       ":   2Q210b\n",
       ":   3\n",
       "\n"
      ],
      "text/plain": [
       " Q198  Q199  Q200  Q201  Q202  Q203  Q204  Q205  Q206  Q207  Q208  Q209 Q210a \n",
       "   67    47    56    17    56    46    61    58    53    12    37    16     2 \n",
       "Q210b \n",
       "    3 "
      ]
     },
     "metadata": {},
     "output_type": "display_data"
    }
   ],
   "source": [
    "# HIV providers - Calculate the counts of 3rd rankings for each HIV topic\n",
    "hiv3_count_HIV <- sapply(hiv_topics_HIV, function(topic) sum(HIV_providers[[topic]] == 3, na.rm = TRUE))\n",
    "hiv3_count_HIV"
   ]
  },
  {
   "cell_type": "code",
   "execution_count": 74,
   "id": "a9f3a82a-dfe2-4348-add2-91ef4d8af59f",
   "metadata": {},
   "outputs": [
    {
     "data": {
      "text/html": [
       "'Q198'"
      ],
      "text/latex": [
       "'Q198'"
      ],
      "text/markdown": [
       "'Q198'"
      ],
      "text/plain": [
       "[1] \"Q198\""
      ]
     },
     "metadata": {},
     "output_type": "display_data"
    }
   ],
   "source": [
    "# HIV providers - Find the HIV topic with the highest count of 3rd rankings\n",
    "hiv3_rank_HIV <- hiv_topics_HIV[which.max(hiv3_count_HIV)]\n",
    "hiv3_rank_HIV"
   ]
  },
  {
   "cell_type": "code",
   "execution_count": 75,
   "id": "95ff16f8-ca84-41cd-88b7-c905b50df995",
   "metadata": {},
   "outputs": [
    {
     "data": {
      "text/html": [
       "<strong>Q198:</strong> 11.4139693356048"
      ],
      "text/latex": [
       "\\textbf{Q198:} 11.4139693356048"
      ],
      "text/markdown": [
       "**Q198:** 11.4139693356048"
      ],
      "text/plain": [
       "    Q198 \n",
       "11.41397 "
      ]
     },
     "metadata": {},
     "output_type": "display_data"
    }
   ],
   "source": [
    "# HIV providers - Calculate the percentage of 3rd rankings\n",
    "hiv3_perc_HIV <- (hiv3_count_HIV[which.max(hiv3_count_HIV)] / sum(rowSums(!is.na(HIV_providers[, hiv_topics_HIV])) > 0)) * 100\n",
    "hiv3_perc_HIV"
   ]
  },
  {
   "cell_type": "markdown",
   "id": "4b016ba8-a0e9-4826-876b-5f76fcdcbb6c",
   "metadata": {},
   "source": [
    "### Top 3 HIV topics among HIV providers"
   ]
  },
  {
   "cell_type": "code",
   "execution_count": 76,
   "id": "f114d5dd-7278-4796-b8b5-a0ac7624172e",
   "metadata": {},
   "outputs": [
    {
     "data": {
      "text/html": [
       "<style>\n",
       ".dl-inline {width: auto; margin:0; padding: 0}\n",
       ".dl-inline>dt, .dl-inline>dd {float: none; width: auto; display: inline-block}\n",
       ".dl-inline>dt::after {content: \":\\0020\"; padding-right: .5ex}\n",
       ".dl-inline>dt:not(:first-of-type) {padding-left: .5ex}\n",
       "</style><dl class=dl-inline><dt>Q198</dt><dd>309</dd><dt>Q199</dt><dd>219</dd><dt>Q200</dt><dd>208</dd><dt>Q201</dt><dd>62</dd><dt>Q202</dt><dd>121</dd><dt>Q203</dt><dd>135</dd><dt>Q204</dt><dd>143</dd><dt>Q205</dt><dd>156</dd><dt>Q206</dt><dd>158</dd><dt>Q207</dt><dd>33</dd><dt>Q208</dt><dd>68</dd><dt>Q209</dt><dd>30</dd><dt>Q210a</dt><dd>5</dd><dt>Q210b</dt><dd>5</dd></dl>\n"
      ],
      "text/latex": [
       "\\begin{description*}\n",
       "\\item[Q198] 309\n",
       "\\item[Q199] 219\n",
       "\\item[Q200] 208\n",
       "\\item[Q201] 62\n",
       "\\item[Q202] 121\n",
       "\\item[Q203] 135\n",
       "\\item[Q204] 143\n",
       "\\item[Q205] 156\n",
       "\\item[Q206] 158\n",
       "\\item[Q207] 33\n",
       "\\item[Q208] 68\n",
       "\\item[Q209] 30\n",
       "\\item[Q210a] 5\n",
       "\\item[Q210b] 5\n",
       "\\end{description*}\n"
      ],
      "text/markdown": [
       "Q198\n",
       ":   309Q199\n",
       ":   219Q200\n",
       ":   208Q201\n",
       ":   62Q202\n",
       ":   121Q203\n",
       ":   135Q204\n",
       ":   143Q205\n",
       ":   156Q206\n",
       ":   158Q207\n",
       ":   33Q208\n",
       ":   68Q209\n",
       ":   30Q210a\n",
       ":   5Q210b\n",
       ":   5\n",
       "\n"
      ],
      "text/plain": [
       " Q198  Q199  Q200  Q201  Q202  Q203  Q204  Q205  Q206  Q207  Q208  Q209 Q210a \n",
       "  309   219   208    62   121   135   143   156   158    33    68    30     5 \n",
       "Q210b \n",
       "    5 "
      ]
     },
     "metadata": {},
     "output_type": "display_data"
    },
    {
     "data": {
      "text/html": [
       "<style>\n",
       ".dl-inline {width: auto; margin:0; padding: 0}\n",
       ".dl-inline>dt, .dl-inline>dd {float: none; width: auto; display: inline-block}\n",
       ".dl-inline>dt::after {content: \":\\0020\"; padding-right: .5ex}\n",
       ".dl-inline>dt:not(:first-of-type) {padding-left: .5ex}\n",
       "</style><dl class=dl-inline><dt>Q198</dt><dd>309</dd><dt>Q199</dt><dd>219</dd><dt>Q200</dt><dd>208</dd><dt>Q206</dt><dd>158</dd><dt>Q205</dt><dd>156</dd><dt>Q204</dt><dd>143</dd><dt>Q203</dt><dd>135</dd><dt>Q202</dt><dd>121</dd><dt>Q208</dt><dd>68</dd><dt>Q201</dt><dd>62</dd><dt>Q207</dt><dd>33</dd><dt>Q209</dt><dd>30</dd><dt>Q210a</dt><dd>5</dd><dt>Q210b</dt><dd>5</dd></dl>\n"
      ],
      "text/latex": [
       "\\begin{description*}\n",
       "\\item[Q198] 309\n",
       "\\item[Q199] 219\n",
       "\\item[Q200] 208\n",
       "\\item[Q206] 158\n",
       "\\item[Q205] 156\n",
       "\\item[Q204] 143\n",
       "\\item[Q203] 135\n",
       "\\item[Q202] 121\n",
       "\\item[Q208] 68\n",
       "\\item[Q201] 62\n",
       "\\item[Q207] 33\n",
       "\\item[Q209] 30\n",
       "\\item[Q210a] 5\n",
       "\\item[Q210b] 5\n",
       "\\end{description*}\n"
      ],
      "text/markdown": [
       "Q198\n",
       ":   309Q199\n",
       ":   219Q200\n",
       ":   208Q206\n",
       ":   158Q205\n",
       ":   156Q204\n",
       ":   143Q203\n",
       ":   135Q202\n",
       ":   121Q208\n",
       ":   68Q201\n",
       ":   62Q207\n",
       ":   33Q209\n",
       ":   30Q210a\n",
       ":   5Q210b\n",
       ":   5\n",
       "\n"
      ],
      "text/plain": [
       " Q198  Q199  Q200  Q206  Q205  Q204  Q203  Q202  Q208  Q201  Q207  Q209 Q210a \n",
       "  309   219   208   158   156   143   135   121    68    62    33    30     5 \n",
       "Q210b \n",
       "    5 "
      ]
     },
     "metadata": {},
     "output_type": "display_data"
    },
    {
     "data": {
      "text/html": [
       "<style>\n",
       ".list-inline {list-style: none; margin:0; padding: 0}\n",
       ".list-inline>li {display: inline-block}\n",
       ".list-inline>li:not(:last-child)::after {content: \"\\00b7\"; padding: 0 .5ex}\n",
       "</style>\n",
       "<ol class=list-inline><li>'Q198'</li><li>'Q199'</li><li>'Q200'</li></ol>\n"
      ],
      "text/latex": [
       "\\begin{enumerate*}\n",
       "\\item 'Q198'\n",
       "\\item 'Q199'\n",
       "\\item 'Q200'\n",
       "\\end{enumerate*}\n"
      ],
      "text/markdown": [
       "1. 'Q198'\n",
       "2. 'Q199'\n",
       "3. 'Q200'\n",
       "\n",
       "\n"
      ],
      "text/plain": [
       "[1] \"Q198\" \"Q199\" \"Q200\""
      ]
     },
     "metadata": {},
     "output_type": "display_data"
    }
   ],
   "source": [
    "# Calculate the counts for each HIV topic\n",
    "hiv_topic_counts_HIV <- sapply(hiv_topics_HIV, function(topic) sum(HIV_providers[[topic]] %in% c(1, 2, 3), na.rm = TRUE))\n",
    "hiv_topic_counts_HIV\n",
    "# Sort the topics based on their counts in descending order\n",
    "hiv_sorted_topics_HIV <- sort(hiv_topic_counts_HIV, decreasing = TRUE)\n",
    "hiv_sorted_topics_HIV\n",
    "# Get the top 3 topics\n",
    "top3_hiv_topics_HIV <- names(hiv_sorted_topics_HIV)[1:3]\n",
    "\n",
    "top3_hiv_topics_HIV"
   ]
  },
  {
   "cell_type": "markdown",
   "id": "af68a1fc-9e16-4458-a0a1-654661b26b78",
   "metadata": {},
   "source": [
    "### Percentage of top 3 HIV topics among HIV providers"
   ]
  },
  {
   "cell_type": "code",
   "execution_count": 77,
   "id": "a60b8002-0fef-4abe-ac1e-a8b25d074761",
   "metadata": {},
   "outputs": [
    {
     "data": {
      "text/html": [
       "81.4310051107325"
      ],
      "text/latex": [
       "81.4310051107325"
      ],
      "text/markdown": [
       "81.4310051107325"
      ],
      "text/plain": [
       "[1] 81.43101"
      ]
     },
     "metadata": {},
     "output_type": "display_data"
    }
   ],
   "source": [
    "# Calculate the counts for each ranking (1, 2, 3) for the top 3 topics\n",
    "hiv_ranking_counts_HIV <- apply(HIV_providers[top3_hiv_topics_HIV], 1, function(row) any(row %in% c(1, 2, 3)))\n",
    "\n",
    "# Calculate the total count of rows where one of the top 3 topics was ranked as 1, 2, or 3\n",
    "hiv_total_count_HIV <- sum(hiv_ranking_counts_HIV)\n",
    "\n",
    "# Calculate the total count of respondents who provided a ranking (1, 2, or 3) for any of the HIV topic questions\n",
    "hiv_total_respondents_HIV <- sum(apply(HIV_providers[hiv_topics_HIV], 1, function(row) any(row %in% c(1, 2, 3))))\n",
    "\n",
    "# Calculate the percentage of rows where one of the top 3 topics was ranked as 1, 2, or 3 among the respondents who provided rankings\n",
    "hiv_total_percentage_HIV <- (hiv_total_count_HIV / hiv_total_respondents_HIV) * 100\n",
    "hiv_total_percentage_HIV                                "
   ]
  },
  {
   "cell_type": "markdown",
   "id": "72b82e0b-e489-4465-af0f-3bbc793e50c2",
   "metadata": {},
   "source": [
    "## Prep training statistics for HIV providers"
   ]
  },
  {
   "cell_type": "code",
   "execution_count": 78,
   "id": "2fd28da8-41db-4169-82c7-af5fa19cb2e8",
   "metadata": {},
   "outputs": [],
   "source": [
    "# HIV providers - Create a vector of column names representing the PrEP topics columns\n",
    "prep_topics_HIV <- c(\"Q211\", \"Q212\", \"Q213\", \"Q214\", \"Q215\",\"Q216\",\"Q217\",\"Q218\",\"Q219\",\"Q220\",\"Q221\",\"Q222\",\"Q223\",\"Q224\",\"Q225\")"
   ]
  },
  {
   "cell_type": "markdown",
   "id": "52538310-d1f0-48c3-865a-0fa260e17da1",
   "metadata": {},
   "source": [
    "### PrEP topic with greatest number of 1st rankings among HIV providers"
   ]
  },
  {
   "cell_type": "code",
   "execution_count": 79,
   "id": "fced2864-7edd-4ed8-b1a1-53fab5d34e85",
   "metadata": {},
   "outputs": [
    {
     "data": {
      "text/html": [
       "<style>\n",
       ".dl-inline {width: auto; margin:0; padding: 0}\n",
       ".dl-inline>dt, .dl-inline>dd {float: none; width: auto; display: inline-block}\n",
       ".dl-inline>dt::after {content: \":\\0020\"; padding-right: .5ex}\n",
       ".dl-inline>dt:not(:first-of-type) {padding-left: .5ex}\n",
       "</style><dl class=dl-inline><dt>Q211</dt><dd>124</dd><dt>Q212</dt><dd>73</dd><dt>Q213</dt><dd>62</dd><dt>Q214</dt><dd>108</dd><dt>Q215</dt><dd>11</dd><dt>Q216</dt><dd>22</dd><dt>Q217</dt><dd>20</dd><dt>Q218</dt><dd>48</dd><dt>Q219</dt><dd>37</dd><dt>Q220</dt><dd>31</dd><dt>Q221</dt><dd>19</dd><dt>Q222</dt><dd>29</dd><dt>Q223</dt><dd>36</dd><dt>Q224</dt><dd>12</dd><dt>Q225</dt><dd>3</dd></dl>\n"
      ],
      "text/latex": [
       "\\begin{description*}\n",
       "\\item[Q211] 124\n",
       "\\item[Q212] 73\n",
       "\\item[Q213] 62\n",
       "\\item[Q214] 108\n",
       "\\item[Q215] 11\n",
       "\\item[Q216] 22\n",
       "\\item[Q217] 20\n",
       "\\item[Q218] 48\n",
       "\\item[Q219] 37\n",
       "\\item[Q220] 31\n",
       "\\item[Q221] 19\n",
       "\\item[Q222] 29\n",
       "\\item[Q223] 36\n",
       "\\item[Q224] 12\n",
       "\\item[Q225] 3\n",
       "\\end{description*}\n"
      ],
      "text/markdown": [
       "Q211\n",
       ":   124Q212\n",
       ":   73Q213\n",
       ":   62Q214\n",
       ":   108Q215\n",
       ":   11Q216\n",
       ":   22Q217\n",
       ":   20Q218\n",
       ":   48Q219\n",
       ":   37Q220\n",
       ":   31Q221\n",
       ":   19Q222\n",
       ":   29Q223\n",
       ":   36Q224\n",
       ":   12Q225\n",
       ":   3\n",
       "\n"
      ],
      "text/plain": [
       "Q211 Q212 Q213 Q214 Q215 Q216 Q217 Q218 Q219 Q220 Q221 Q222 Q223 Q224 Q225 \n",
       " 124   73   62  108   11   22   20   48   37   31   19   29   36   12    3 "
      ]
     },
     "metadata": {},
     "output_type": "display_data"
    }
   ],
   "source": [
    "# HIV providers - Calculate the counts of 1st rankings for each PrEP topic\n",
    "prep1_count_HIV <- sapply(prep_topics_HIV, function(topic) sum(HIV_providers[[topic]] == 1, na.rm = TRUE))\n",
    "prep1_count_HIV"
   ]
  },
  {
   "cell_type": "code",
   "execution_count": 80,
   "id": "8674c653-e070-4075-8cbe-cfbaf1e55913",
   "metadata": {},
   "outputs": [
    {
     "data": {
      "text/html": [
       "'Q211'"
      ],
      "text/latex": [
       "'Q211'"
      ],
      "text/markdown": [
       "'Q211'"
      ],
      "text/plain": [
       "[1] \"Q211\""
      ]
     },
     "metadata": {},
     "output_type": "display_data"
    }
   ],
   "source": [
    "# HIV providers - Find the PrEP topic with the highest count of 1st rankings\n",
    "prep1_rank_HIV <- prep_topics_HIV[which.max(prep1_count_HIV)]\n",
    "prep1_rank_HIV"
   ]
  },
  {
   "cell_type": "code",
   "execution_count": 81,
   "id": "4f225678-0d94-4ee3-bfc0-fe2b9eda314d",
   "metadata": {},
   "outputs": [
    {
     "data": {
      "text/html": [
       "<strong>Q211:</strong> 19.2846034214619"
      ],
      "text/latex": [
       "\\textbf{Q211:} 19.2846034214619"
      ],
      "text/markdown": [
       "**Q211:** 19.2846034214619"
      ],
      "text/plain": [
       "   Q211 \n",
       "19.2846 "
      ]
     },
     "metadata": {},
     "output_type": "display_data"
    }
   ],
   "source": [
    "# HIV providers - Calculate the percentage of 1st rankings\n",
    "prep1_perc_HIV <- (prep1_count_HIV[which.max(prep1_count_HIV)] / sum(rowSums(!is.na(HIV_providers[, prep_topics_HIV])) > 0)) * 100\n",
    "prep1_perc_HIV"
   ]
  },
  {
   "cell_type": "markdown",
   "id": "3355e078-a116-4677-81b1-fd821787dada",
   "metadata": {},
   "source": [
    "### PrEP topic with greatest number of 2nd rankings among HIV providers"
   ]
  },
  {
   "cell_type": "code",
   "execution_count": 82,
   "id": "1b96d46d-697f-46f1-94ed-086b8effd158",
   "metadata": {},
   "outputs": [
    {
     "data": {
      "text/html": [
       "<style>\n",
       ".dl-inline {width: auto; margin:0; padding: 0}\n",
       ".dl-inline>dt, .dl-inline>dd {float: none; width: auto; display: inline-block}\n",
       ".dl-inline>dt::after {content: \":\\0020\"; padding-right: .5ex}\n",
       ".dl-inline>dt:not(:first-of-type) {padding-left: .5ex}\n",
       "</style><dl class=dl-inline><dt>Q211</dt><dd>29</dd><dt>Q212</dt><dd>70</dd><dt>Q213</dt><dd>53</dd><dt>Q214</dt><dd>80</dd><dt>Q215</dt><dd>26</dd><dt>Q216</dt><dd>34</dd><dt>Q217</dt><dd>37</dd><dt>Q218</dt><dd>77</dd><dt>Q219</dt><dd>50</dd><dt>Q220</dt><dd>39</dd><dt>Q221</dt><dd>24</dd><dt>Q222</dt><dd>27</dd><dt>Q223</dt><dd>41</dd><dt>Q224</dt><dd>15</dd><dt>Q225</dt><dd>0</dd></dl>\n"
      ],
      "text/latex": [
       "\\begin{description*}\n",
       "\\item[Q211] 29\n",
       "\\item[Q212] 70\n",
       "\\item[Q213] 53\n",
       "\\item[Q214] 80\n",
       "\\item[Q215] 26\n",
       "\\item[Q216] 34\n",
       "\\item[Q217] 37\n",
       "\\item[Q218] 77\n",
       "\\item[Q219] 50\n",
       "\\item[Q220] 39\n",
       "\\item[Q221] 24\n",
       "\\item[Q222] 27\n",
       "\\item[Q223] 41\n",
       "\\item[Q224] 15\n",
       "\\item[Q225] 0\n",
       "\\end{description*}\n"
      ],
      "text/markdown": [
       "Q211\n",
       ":   29Q212\n",
       ":   70Q213\n",
       ":   53Q214\n",
       ":   80Q215\n",
       ":   26Q216\n",
       ":   34Q217\n",
       ":   37Q218\n",
       ":   77Q219\n",
       ":   50Q220\n",
       ":   39Q221\n",
       ":   24Q222\n",
       ":   27Q223\n",
       ":   41Q224\n",
       ":   15Q225\n",
       ":   0\n",
       "\n"
      ],
      "text/plain": [
       "Q211 Q212 Q213 Q214 Q215 Q216 Q217 Q218 Q219 Q220 Q221 Q222 Q223 Q224 Q225 \n",
       "  29   70   53   80   26   34   37   77   50   39   24   27   41   15    0 "
      ]
     },
     "metadata": {},
     "output_type": "display_data"
    }
   ],
   "source": [
    "# HIV providers - Calculate the counts of 2nd rankings for each PrEP topic\n",
    "prep2_count_HIV <- sapply(prep_topics_HIV, function(topic) sum(HIV_providers[[topic]] == 2, na.rm = TRUE))\n",
    "prep2_count_HIV"
   ]
  },
  {
   "cell_type": "code",
   "execution_count": 83,
   "id": "8789cce8-f266-4f00-8b68-227cd9f684a4",
   "metadata": {},
   "outputs": [
    {
     "data": {
      "text/html": [
       "'Q214'"
      ],
      "text/latex": [
       "'Q214'"
      ],
      "text/markdown": [
       "'Q214'"
      ],
      "text/plain": [
       "[1] \"Q214\""
      ]
     },
     "metadata": {},
     "output_type": "display_data"
    }
   ],
   "source": [
    "# HIV providers - Find the PrEP topic with the highest count of 2nd rankings\n",
    "prep2_rank_HIV <- prep_topics_HIV[which.max(prep2_count_HIV)]\n",
    "prep2_rank_HIV"
   ]
  },
  {
   "cell_type": "code",
   "execution_count": 84,
   "id": "15206fb5-6792-452a-a707-247378817090",
   "metadata": {},
   "outputs": [
    {
     "data": {
      "text/html": [
       "<strong>Q214:</strong> 12.4416796267496"
      ],
      "text/latex": [
       "\\textbf{Q214:} 12.4416796267496"
      ],
      "text/markdown": [
       "**Q214:** 12.4416796267496"
      ],
      "text/plain": [
       "    Q214 \n",
       "12.44168 "
      ]
     },
     "metadata": {},
     "output_type": "display_data"
    }
   ],
   "source": [
    "# HIV providers - Calculate the percentage of 2nd ranking\n",
    "prep2_perc_HIV <- (prep2_count_HIV[which.max(prep2_count_HIV)] / sum(rowSums(!is.na(HIV_providers[, prep_topics_HIV])) > 0)) * 100\n",
    "prep2_perc_HIV"
   ]
  },
  {
   "cell_type": "markdown",
   "id": "3326c80d-c907-4730-86e8-7cd2fe6682d0",
   "metadata": {},
   "source": [
    "### PrEP topic with greatest number of 3rd rankings among HIV providers"
   ]
  },
  {
   "cell_type": "code",
   "execution_count": 85,
   "id": "b89ff3fb-ba42-4e46-bb03-5a0c58465bc6",
   "metadata": {},
   "outputs": [
    {
     "data": {
      "text/html": [
       "<style>\n",
       ".dl-inline {width: auto; margin:0; padding: 0}\n",
       ".dl-inline>dt, .dl-inline>dd {float: none; width: auto; display: inline-block}\n",
       ".dl-inline>dt::after {content: \":\\0020\"; padding-right: .5ex}\n",
       ".dl-inline>dt:not(:first-of-type) {padding-left: .5ex}\n",
       "</style><dl class=dl-inline><dt>Q211</dt><dd>44</dd><dt>Q212</dt><dd>21</dd><dt>Q213</dt><dd>43</dd><dt>Q214</dt><dd>52</dd><dt>Q215</dt><dd>18</dd><dt>Q216</dt><dd>35</dd><dt>Q217</dt><dd>38</dd><dt>Q218</dt><dd>69</dd><dt>Q219</dt><dd>26</dd><dt>Q220</dt><dd>66</dd><dt>Q221</dt><dd>42</dd><dt>Q222</dt><dd>46</dd><dt>Q223</dt><dd>42</dd><dt>Q224</dt><dd>41</dd><dt>Q225</dt><dd>5</dd></dl>\n"
      ],
      "text/latex": [
       "\\begin{description*}\n",
       "\\item[Q211] 44\n",
       "\\item[Q212] 21\n",
       "\\item[Q213] 43\n",
       "\\item[Q214] 52\n",
       "\\item[Q215] 18\n",
       "\\item[Q216] 35\n",
       "\\item[Q217] 38\n",
       "\\item[Q218] 69\n",
       "\\item[Q219] 26\n",
       "\\item[Q220] 66\n",
       "\\item[Q221] 42\n",
       "\\item[Q222] 46\n",
       "\\item[Q223] 42\n",
       "\\item[Q224] 41\n",
       "\\item[Q225] 5\n",
       "\\end{description*}\n"
      ],
      "text/markdown": [
       "Q211\n",
       ":   44Q212\n",
       ":   21Q213\n",
       ":   43Q214\n",
       ":   52Q215\n",
       ":   18Q216\n",
       ":   35Q217\n",
       ":   38Q218\n",
       ":   69Q219\n",
       ":   26Q220\n",
       ":   66Q221\n",
       ":   42Q222\n",
       ":   46Q223\n",
       ":   42Q224\n",
       ":   41Q225\n",
       ":   5\n",
       "\n"
      ],
      "text/plain": [
       "Q211 Q212 Q213 Q214 Q215 Q216 Q217 Q218 Q219 Q220 Q221 Q222 Q223 Q224 Q225 \n",
       "  44   21   43   52   18   35   38   69   26   66   42   46   42   41    5 "
      ]
     },
     "metadata": {},
     "output_type": "display_data"
    }
   ],
   "source": [
    "# HIV providers - Calculate the counts of 3rd rankings for each PrEP topic\n",
    "prep3_count_HIV <- sapply(prep_topics_HIV, function(topic) sum(HIV_providers[[topic]] == 3, na.rm = TRUE))\n",
    "prep3_count_HIV"
   ]
  },
  {
   "cell_type": "code",
   "execution_count": 86,
   "id": "5e3548da-4452-4d1a-ad70-d57191aaff69",
   "metadata": {},
   "outputs": [
    {
     "data": {
      "text/html": [
       "'Q218'"
      ],
      "text/latex": [
       "'Q218'"
      ],
      "text/markdown": [
       "'Q218'"
      ],
      "text/plain": [
       "[1] \"Q218\""
      ]
     },
     "metadata": {},
     "output_type": "display_data"
    }
   ],
   "source": [
    "# HIV providers - Find the PrEP topic with the highest count of 3rd rankings\n",
    "prep3_rank_HIV <- prep_topics_HIV[which.max(prep3_count_HIV)]\n",
    "prep3_rank_HIV"
   ]
  },
  {
   "cell_type": "code",
   "execution_count": 87,
   "id": "ef5934cc-f9cf-47ca-9b19-dfa969cbc4a0",
   "metadata": {},
   "outputs": [
    {
     "data": {
      "text/html": [
       "<strong>Q218:</strong> 10.7309486780715"
      ],
      "text/latex": [
       "\\textbf{Q218:} 10.7309486780715"
      ],
      "text/markdown": [
       "**Q218:** 10.7309486780715"
      ],
      "text/plain": [
       "    Q218 \n",
       "10.73095 "
      ]
     },
     "metadata": {},
     "output_type": "display_data"
    }
   ],
   "source": [
    "# HIV providers - Calculate the percentage of 3rd rankings\n",
    "prep3_perc_HIV <- (prep3_count_HIV[which.max(prep3_count_HIV)] / sum(rowSums(!is.na(HIV_providers[, prep_topics_HIV])) > 0)) * 100\n",
    "prep3_perc_HIV"
   ]
  },
  {
   "cell_type": "markdown",
   "id": "95de923b-8d96-4250-90d2-35083c654ad4",
   "metadata": {},
   "source": [
    "### Top 3 PrEP topics among HIV providers"
   ]
  },
  {
   "cell_type": "code",
   "execution_count": 88,
   "id": "3fde3ccc-ac53-4aeb-aed3-93786c265d05",
   "metadata": {},
   "outputs": [
    {
     "data": {
      "text/html": [
       "<style>\n",
       ".list-inline {list-style: none; margin:0; padding: 0}\n",
       ".list-inline>li {display: inline-block}\n",
       ".list-inline>li:not(:last-child)::after {content: \"\\00b7\"; padding: 0 .5ex}\n",
       "</style>\n",
       "<ol class=list-inline><li>'Q214'</li><li>'Q211'</li><li>'Q218'</li></ol>\n"
      ],
      "text/latex": [
       "\\begin{enumerate*}\n",
       "\\item 'Q214'\n",
       "\\item 'Q211'\n",
       "\\item 'Q218'\n",
       "\\end{enumerate*}\n"
      ],
      "text/markdown": [
       "1. 'Q214'\n",
       "2. 'Q211'\n",
       "3. 'Q218'\n",
       "\n",
       "\n"
      ],
      "text/plain": [
       "[1] \"Q214\" \"Q211\" \"Q218\""
      ]
     },
     "metadata": {},
     "output_type": "display_data"
    }
   ],
   "source": [
    "# Calculate the counts for each PrEP topic\n",
    "prep_topic_counts_HIV <- sapply(prep_topics_HIV, function(topic) sum(HIV_providers[[topic]] %in% c(1, 2, 3), na.rm = TRUE))\n",
    "\n",
    "# Sort the topics based on their counts in descending order\n",
    "prep_sorted_topics_HIV <- sort(prep_topic_counts_HIV, decreasing = TRUE)\n",
    "\n",
    "# Get the top 3 topics\n",
    "top3_prep_topics_HIV <- names(prep_sorted_topics_HIV)[1:3]\n",
    "\n",
    "top3_prep_topics_HIV"
   ]
  },
  {
   "cell_type": "markdown",
   "id": "7a1179e3-a7c4-4501-85b2-8631e638eaac",
   "metadata": {},
   "source": [
    "### Percentage of top 3 PrEP topics among HIV providers"
   ]
  },
  {
   "cell_type": "code",
   "execution_count": 89,
   "id": "e0a87dc5-ad28-4f5c-b327-ff7eebc70fbb",
   "metadata": {},
   "outputs": [
    {
     "data": {
      "text/html": [
       "73.8724727838258"
      ],
      "text/latex": [
       "73.8724727838258"
      ],
      "text/markdown": [
       "73.8724727838258"
      ],
      "text/plain": [
       "[1] 73.87247"
      ]
     },
     "metadata": {},
     "output_type": "display_data"
    }
   ],
   "source": [
    "# Calculate the counts for each ranking (1, 2, 3) for the top 3 topics\n",
    "prep_ranking_counts_HIV <- apply(HIV_providers[top3_prep_topics_HIV], 1, function(row) any(row %in% c(1, 2, 3)))\n",
    "\n",
    "# Calculate the total count of rows where one of the top 3 topics was ranked as 1, 2, or 3\n",
    "prep_total_count_HIV <- sum(prep_ranking_counts_HIV)\n",
    "\n",
    "# Calculate the total count of respondents who provided a ranking (1, 2, or 3) for any of the HIV topic questions\n",
    "prep_total_respondents_HIV <- sum(apply(HIV_providers[prep_topics_HIV], 1, function(row) any(row %in% c(1, 2, 3))))\n",
    "\n",
    "# Calculate the percentage of rows where one of the top 3 topics was ranked as 1, 2, or 3 among the respondents who provided rankings\n",
    "prep_total_percentage_HIV <- (prep_total_count_HIV / prep_total_respondents_HIV) * 100\n",
    "prep_total_percentage_HIV         "
   ]
  },
  {
   "cell_type": "markdown",
   "id": "68ba1988-9e08-4ab6-a134-a1c2e0330162",
   "metadata": {},
   "source": [
    "## LGBTQ training statistcis for HIV providers"
   ]
  },
  {
   "cell_type": "code",
   "execution_count": 90,
   "id": "cb17fabc-a833-4265-b9ff-0e0091a63f19",
   "metadata": {},
   "outputs": [],
   "source": [
    "# Create a vector of column names representing the LGBTQ topics columns\n",
    "lgbtq_topics_HIV <- c(\"Q227\", \"Q228\", \"Q229\", \"Q230\", \"Q231\",\"Q232\",\"Q233\",\"Q234\",\"Q235\")"
   ]
  },
  {
   "cell_type": "markdown",
   "id": "98331a5f-dc04-4922-ab4c-c787d4176fbe",
   "metadata": {},
   "source": [
    "### LGBTQ topic with greatest number of 1st rankings among HIV providers"
   ]
  },
  {
   "cell_type": "code",
   "execution_count": 91,
   "id": "243fa0d2-5d83-4d07-8523-f10eeffcbbd7",
   "metadata": {},
   "outputs": [
    {
     "data": {
      "text/html": [
       "<style>\n",
       ".dl-inline {width: auto; margin:0; padding: 0}\n",
       ".dl-inline>dt, .dl-inline>dd {float: none; width: auto; display: inline-block}\n",
       ".dl-inline>dt::after {content: \":\\0020\"; padding-right: .5ex}\n",
       ".dl-inline>dt:not(:first-of-type) {padding-left: .5ex}\n",
       "</style><dl class=dl-inline><dt>Q227</dt><dd>132</dd><dt>Q228</dt><dd>186</dd><dt>Q229</dt><dd>113</dd><dt>Q230</dt><dd>110</dd><dt>Q231</dt><dd>29</dd><dt>Q232</dt><dd>63</dd><dt>Q233</dt><dd>112</dd><dt>Q234</dt><dd>109</dd><dt>Q235</dt><dd>11</dd></dl>\n"
      ],
      "text/latex": [
       "\\begin{description*}\n",
       "\\item[Q227] 132\n",
       "\\item[Q228] 186\n",
       "\\item[Q229] 113\n",
       "\\item[Q230] 110\n",
       "\\item[Q231] 29\n",
       "\\item[Q232] 63\n",
       "\\item[Q233] 112\n",
       "\\item[Q234] 109\n",
       "\\item[Q235] 11\n",
       "\\end{description*}\n"
      ],
      "text/markdown": [
       "Q227\n",
       ":   132Q228\n",
       ":   186Q229\n",
       ":   113Q230\n",
       ":   110Q231\n",
       ":   29Q232\n",
       ":   63Q233\n",
       ":   112Q234\n",
       ":   109Q235\n",
       ":   11\n",
       "\n"
      ],
      "text/plain": [
       "Q227 Q228 Q229 Q230 Q231 Q232 Q233 Q234 Q235 \n",
       " 132  186  113  110   29   63  112  109   11 "
      ]
     },
     "metadata": {},
     "output_type": "display_data"
    }
   ],
   "source": [
    "# HIV providers - Calculate the counts of 1st rankings for each LGBTQ topic\n",
    "lgbtq1_count_HIV <- sapply(lgbtq_topics_HIV, function(topic) sum(HIV_providers[[topic]] == 1, na.rm = TRUE))\n",
    "lgbtq1_count_HIV"
   ]
  },
  {
   "cell_type": "code",
   "execution_count": 92,
   "id": "6de65039-a834-4b59-b185-2e7e17055925",
   "metadata": {},
   "outputs": [
    {
     "data": {
      "text/html": [
       "'Q228'"
      ],
      "text/latex": [
       "'Q228'"
      ],
      "text/markdown": [
       "'Q228'"
      ],
      "text/plain": [
       "[1] \"Q228\""
      ]
     },
     "metadata": {},
     "output_type": "display_data"
    }
   ],
   "source": [
    "# HIV providers - Find the LGBTQ topic with the highest count of 1st rankings\n",
    "lgbtq1_rank_HIV <- lgbtq_topics_HIV[which.max(lgbtq1_count_HIV)]\n",
    "lgbtq1_rank_HIV"
   ]
  },
  {
   "cell_type": "code",
   "execution_count": 93,
   "id": "b7ed403f-78e3-41e1-b26d-bf6371bf182d",
   "metadata": {},
   "outputs": [
    {
     "data": {
      "text/html": [
       "<strong>Q228:</strong> 21.2086659064994"
      ],
      "text/latex": [
       "\\textbf{Q228:} 21.2086659064994"
      ],
      "text/markdown": [
       "**Q228:** 21.2086659064994"
      ],
      "text/plain": [
       "    Q228 \n",
       "21.20867 "
      ]
     },
     "metadata": {},
     "output_type": "display_data"
    }
   ],
   "source": [
    "# HIV providers - Calculate the percentage of 1st rankings\n",
    "lgbtq1_perc_HIV <- (lgbtq1_count_HIV[which.max(lgbtq1_count_HIV)] / sum(rowSums(!is.na(HIV_providers[, lgbtq_topics_HIV])) > 0)) * 100\n",
    "lgbtq1_perc_HIV"
   ]
  },
  {
   "cell_type": "markdown",
   "id": "3c75a39f-6994-4fc9-aab1-d2047794aa66",
   "metadata": {},
   "source": [
    "### LGBTQ topic with greatest number of 2nd rankings among HIV providers"
   ]
  },
  {
   "cell_type": "code",
   "execution_count": 94,
   "id": "dbbbcacc-190b-469e-ade0-a27351876f6e",
   "metadata": {},
   "outputs": [
    {
     "data": {
      "text/html": [
       "<style>\n",
       ".dl-inline {width: auto; margin:0; padding: 0}\n",
       ".dl-inline>dt, .dl-inline>dd {float: none; width: auto; display: inline-block}\n",
       ".dl-inline>dt::after {content: \":\\0020\"; padding-right: .5ex}\n",
       ".dl-inline>dt:not(:first-of-type) {padding-left: .5ex}\n",
       "</style><dl class=dl-inline><dt>Q227</dt><dd>63</dd><dt>Q228</dt><dd>114</dd><dt>Q229</dt><dd>99</dd><dt>Q230</dt><dd>142</dd><dt>Q231</dt><dd>58</dd><dt>Q232</dt><dd>73</dd><dt>Q233</dt><dd>128</dd><dt>Q234</dt><dd>134</dd><dt>Q235</dt><dd>3</dd></dl>\n"
      ],
      "text/latex": [
       "\\begin{description*}\n",
       "\\item[Q227] 63\n",
       "\\item[Q228] 114\n",
       "\\item[Q229] 99\n",
       "\\item[Q230] 142\n",
       "\\item[Q231] 58\n",
       "\\item[Q232] 73\n",
       "\\item[Q233] 128\n",
       "\\item[Q234] 134\n",
       "\\item[Q235] 3\n",
       "\\end{description*}\n"
      ],
      "text/markdown": [
       "Q227\n",
       ":   63Q228\n",
       ":   114Q229\n",
       ":   99Q230\n",
       ":   142Q231\n",
       ":   58Q232\n",
       ":   73Q233\n",
       ":   128Q234\n",
       ":   134Q235\n",
       ":   3\n",
       "\n"
      ],
      "text/plain": [
       "Q227 Q228 Q229 Q230 Q231 Q232 Q233 Q234 Q235 \n",
       "  63  114   99  142   58   73  128  134    3 "
      ]
     },
     "metadata": {},
     "output_type": "display_data"
    }
   ],
   "source": [
    "# HIV providers - Calculate the counts of 2nd rankings for each LGBTQ topic\n",
    "lgbtq2_count_HIV <- sapply(lgbtq_topics_HIV, function(topic) sum(HIV_providers[[topic]] == 2, na.rm = TRUE))\n",
    "lgbtq2_count_HIV"
   ]
  },
  {
   "cell_type": "code",
   "execution_count": 95,
   "id": "2fdc52e2-350e-41c1-986d-238f860b63aa",
   "metadata": {},
   "outputs": [
    {
     "data": {
      "text/html": [
       "'Q230'"
      ],
      "text/latex": [
       "'Q230'"
      ],
      "text/markdown": [
       "'Q230'"
      ],
      "text/plain": [
       "[1] \"Q230\""
      ]
     },
     "metadata": {},
     "output_type": "display_data"
    }
   ],
   "source": [
    "# HIV providers - Find the LGBTQ topic with the highest count of 2nd rankings\n",
    "lgbtq2_rank_HIV <- lgbtq_topics_HIV[which.max(lgbtq2_count_HIV)]\n",
    "lgbtq2_rank_HIV"
   ]
  },
  {
   "cell_type": "code",
   "execution_count": 96,
   "id": "89d4b32e-09a2-48e2-8774-e74f1a633a3b",
   "metadata": {},
   "outputs": [
    {
     "data": {
      "text/html": [
       "<strong>Q230:</strong> 16.1915621436716"
      ],
      "text/latex": [
       "\\textbf{Q230:} 16.1915621436716"
      ],
      "text/markdown": [
       "**Q230:** 16.1915621436716"
      ],
      "text/plain": [
       "    Q230 \n",
       "16.19156 "
      ]
     },
     "metadata": {},
     "output_type": "display_data"
    }
   ],
   "source": [
    "# HIV providers - Calculate the percentage of 2nd rankings\n",
    "lgbtq2_perc_HIV <- (lgbtq2_count_HIV[which.max(lgbtq2_count_HIV)] / sum(rowSums(!is.na(HIV_providers[, lgbtq_topics_HIV])) > 0)) * 100\n",
    "lgbtq2_perc_HIV"
   ]
  },
  {
   "cell_type": "markdown",
   "id": "937e5f6f-f99a-45a4-805e-ba1257fb416f",
   "metadata": {},
   "source": [
    "### LGBTQ topic with greatest number of 3rd rankings among HIV providers"
   ]
  },
  {
   "cell_type": "code",
   "execution_count": 97,
   "id": "1e83d878-4656-4d19-88ee-e19701d2ca89",
   "metadata": {},
   "outputs": [
    {
     "data": {
      "text/html": [
       "<style>\n",
       ".dl-inline {width: auto; margin:0; padding: 0}\n",
       ".dl-inline>dt, .dl-inline>dd {float: none; width: auto; display: inline-block}\n",
       ".dl-inline>dt::after {content: \":\\0020\"; padding-right: .5ex}\n",
       ".dl-inline>dt:not(:first-of-type) {padding-left: .5ex}\n",
       "</style><dl class=dl-inline><dt>Q227</dt><dd>74</dd><dt>Q228</dt><dd>115</dd><dt>Q229</dt><dd>69</dd><dt>Q230</dt><dd>115</dd><dt>Q231</dt><dd>63</dd><dt>Q232</dt><dd>60</dd><dt>Q233</dt><dd>104</dd><dt>Q234</dt><dd>177</dd><dt>Q235</dt><dd>13</dd></dl>\n"
      ],
      "text/latex": [
       "\\begin{description*}\n",
       "\\item[Q227] 74\n",
       "\\item[Q228] 115\n",
       "\\item[Q229] 69\n",
       "\\item[Q230] 115\n",
       "\\item[Q231] 63\n",
       "\\item[Q232] 60\n",
       "\\item[Q233] 104\n",
       "\\item[Q234] 177\n",
       "\\item[Q235] 13\n",
       "\\end{description*}\n"
      ],
      "text/markdown": [
       "Q227\n",
       ":   74Q228\n",
       ":   115Q229\n",
       ":   69Q230\n",
       ":   115Q231\n",
       ":   63Q232\n",
       ":   60Q233\n",
       ":   104Q234\n",
       ":   177Q235\n",
       ":   13\n",
       "\n"
      ],
      "text/plain": [
       "Q227 Q228 Q229 Q230 Q231 Q232 Q233 Q234 Q235 \n",
       "  74  115   69  115   63   60  104  177   13 "
      ]
     },
     "metadata": {},
     "output_type": "display_data"
    }
   ],
   "source": [
    "# HIV providers - Calculate the counts of 3rd rankings for each LGBTQ topic\n",
    "lgbtq3_count_HIV <- sapply(lgbtq_topics_HIV, function(topic) sum(HIV_providers[[topic]] == 3, na.rm = TRUE))\n",
    "lgbtq3_count_HIV"
   ]
  },
  {
   "cell_type": "code",
   "execution_count": 98,
   "id": "6cfff153-b270-4b12-81fb-16dba02a77f0",
   "metadata": {},
   "outputs": [
    {
     "data": {
      "text/html": [
       "'Q234'"
      ],
      "text/latex": [
       "'Q234'"
      ],
      "text/markdown": [
       "'Q234'"
      ],
      "text/plain": [
       "[1] \"Q234\""
      ]
     },
     "metadata": {},
     "output_type": "display_data"
    }
   ],
   "source": [
    "# HIV providers - Find the LGBTQ topic with the highest count of 3rd rankings\n",
    "lgbtq3_rank_HIV <- lgbtq_topics_HIV[which.max(lgbtq3_count_HIV)]\n",
    "lgbtq3_rank_HIV"
   ]
  },
  {
   "cell_type": "code",
   "execution_count": 99,
   "id": "764a7dc9-89f7-47f1-9d2a-b879d7502752",
   "metadata": {},
   "outputs": [
    {
     "data": {
      "text/html": [
       "<strong>Q234:</strong> 20.1824401368301"
      ],
      "text/latex": [
       "\\textbf{Q234:} 20.1824401368301"
      ],
      "text/markdown": [
       "**Q234:** 20.1824401368301"
      ],
      "text/plain": [
       "    Q234 \n",
       "20.18244 "
      ]
     },
     "metadata": {},
     "output_type": "display_data"
    }
   ],
   "source": [
    "# HIV providers - Calculate the percentage of 3rd rankings\n",
    "lgbtq3_perc_HIV <- (lgbtq3_count_HIV[which.max(lgbtq3_count_HIV)] / sum(rowSums(!is.na(HIV_providers[, lgbtq_topics_HIV])) > 0)) * 100\n",
    "lgbtq3_perc_HIV"
   ]
  },
  {
   "cell_type": "markdown",
   "id": "5aa064e5-3571-4402-84d2-6c669620fd49",
   "metadata": {},
   "source": [
    "### Top 3 LGBTQ topics among HIV providers"
   ]
  },
  {
   "cell_type": "code",
   "execution_count": 100,
   "id": "733a271c-4bef-45be-b044-52b8d8175288",
   "metadata": {},
   "outputs": [
    {
     "data": {
      "text/html": [
       "<style>\n",
       ".list-inline {list-style: none; margin:0; padding: 0}\n",
       ".list-inline>li {display: inline-block}\n",
       ".list-inline>li:not(:last-child)::after {content: \"\\00b7\"; padding: 0 .5ex}\n",
       "</style>\n",
       "<ol class=list-inline><li>'Q234'</li><li>'Q228'</li><li>'Q230'</li></ol>\n"
      ],
      "text/latex": [
       "\\begin{enumerate*}\n",
       "\\item 'Q234'\n",
       "\\item 'Q228'\n",
       "\\item 'Q230'\n",
       "\\end{enumerate*}\n"
      ],
      "text/markdown": [
       "1. 'Q234'\n",
       "2. 'Q228'\n",
       "3. 'Q230'\n",
       "\n",
       "\n"
      ],
      "text/plain": [
       "[1] \"Q234\" \"Q228\" \"Q230\""
      ]
     },
     "metadata": {},
     "output_type": "display_data"
    }
   ],
   "source": [
    "# Calculate the counts for each LGBTQ topic\n",
    "lgbtq_topic_counts_HIV <- sapply(lgbtq_topics_HIV, function(topic) sum(HIV_providers[[topic]] %in% c(1, 2, 3), na.rm = TRUE))\n",
    "\n",
    "# Sort the topics based on their counts in descending order\n",
    "lgbtq_sorted_topics_HIV <- sort(lgbtq_topic_counts_HIV, decreasing = TRUE)\n",
    "\n",
    "# Get the top 3 topics\n",
    "top3_lgbtq_topics_HIV <- names(lgbtq_sorted_topics_HIV)[1:3]\n",
    "top3_lgbtq_topics_HIV"
   ]
  },
  {
   "cell_type": "markdown",
   "id": "0d90614c-a330-4749-8cd1-ee259547fdd0",
   "metadata": {},
   "source": [
    "### Percentage of top 3 LGBTQ topics among HIV providers"
   ]
  },
  {
   "cell_type": "code",
   "execution_count": 101,
   "id": "b256b645-afc8-4fac-ad6c-12ea08e68f06",
   "metadata": {},
   "outputs": [
    {
     "data": {
      "text/html": [
       "87.0011402508552"
      ],
      "text/latex": [
       "87.0011402508552"
      ],
      "text/markdown": [
       "87.0011402508552"
      ],
      "text/plain": [
       "[1] 87.00114"
      ]
     },
     "metadata": {},
     "output_type": "display_data"
    }
   ],
   "source": [
    "# Calculate the counts for each ranking (1, 2, 3) for the top 3 topics\n",
    "lgbtq_ranking_counts_HIV <- apply(HIV_providers[top3_lgbtq_topics_HIV], 1, function(row) any(row %in% c(1, 2, 3)))\n",
    "\n",
    "# Calculate the total count of rows where one of the top 3 topics was ranked as 1, 2, or 3\n",
    "lgbtq_total_count_HIV <- sum(lgbtq_ranking_counts_HIV)\n",
    "\n",
    "# Calculate the total count of respondents who provided a ranking (1, 2, or 3) for any of the LGBTQ topic questions\n",
    "lgbtq_total_respondents_HIV <- sum(apply(HIV_providers[lgbtq_topics_HIV], 1, function(row) any(row %in% c(1, 2, 3))))\n",
    "\n",
    "# Calculate the percentage of rows where one of the top 3 topics was ranked as 1, 2, or 3 among the respondents who provided rankings\n",
    "lgbtq_total_percentage_HIV <- (lgbtq_total_count_HIV / lgbtq_total_respondents_HIV) * 100\n",
    "lgbtq_total_percentage_HIV "
   ]
  },
  {
   "cell_type": "markdown",
   "id": "97d5d2f3-4746-4d10-a337-98531bf7fda6",
   "metadata": {},
   "source": [
    "## Identifying LGBTQ providers"
   ]
  },
  {
   "cell_type": "code",
   "execution_count": 102,
   "id": "d21cef9c-9d15-444c-9e7a-ff4d79fef1a5",
   "metadata": {},
   "outputs": [
    {
     "data": {
      "text/html": [
       "<table class=\"dataframe\">\n",
       "<caption>A tibble: 10 × 855</caption>\n",
       "<thead>\n",
       "\t<tr><th scope=col>email</th><th scope=col>Record_ID</th><th scope=col>Q1</th><th scope=col>Q2</th><th scope=col>Q3</th><th scope=col>Q4</th><th scope=col>Q5</th><th scope=col>Q6</th><th scope=col>Q7</th><th scope=col>Q8</th><th scope=col>⋯</th><th scope=col>Q810</th><th scope=col>Q811</th><th scope=col>Q812</th><th scope=col>Q813</th><th scope=col>Q814</th><th scope=col>Q815</th><th scope=col>Q816</th><th scope=col>Q817</th><th scope=col>Q818</th><th scope=col>Q819</th></tr>\n",
       "\t<tr><th scope=col>&lt;chr&gt;</th><th scope=col>&lt;chr&gt;</th><th scope=col>&lt;chr&gt;</th><th scope=col>&lt;chr&gt;</th><th scope=col>&lt;chr&gt;</th><th scope=col>&lt;chr&gt;</th><th scope=col>&lt;chr&gt;</th><th scope=col>&lt;chr&gt;</th><th scope=col>&lt;dbl&gt;</th><th scope=col>&lt;dbl&gt;</th><th scope=col>⋯</th><th scope=col>&lt;chr&gt;</th><th scope=col>&lt;chr&gt;</th><th scope=col>&lt;chr&gt;</th><th scope=col>&lt;chr&gt;</th><th scope=col>&lt;chr&gt;</th><th scope=col>&lt;chr&gt;</th><th scope=col>&lt;chr&gt;</th><th scope=col>&lt;chr&gt;</th><th scope=col>&lt;chr&gt;</th><th scope=col>&lt;chr&gt;</th></tr>\n",
       "</thead>\n",
       "<tbody>\n",
       "\t<tr><td>                                </td><td>1136</td><td>LBGTQ Health Center/Community Center         </td><td>NA</td><td>Connecticut         </td><td>6511 </td><td>Urban   </td><td>Yes</td><td> 1</td><td> 1</td><td>⋯</td><td>NA                                               </td><td>NA    </td><td>NA                                                    </td><td>NA</td><td>NA</td><td>NA </td><td>NA </td><td>NA                                     </td><td>NA                                                                                                                                                                                                                                      </td><td>Incomplete</td></tr>\n",
       "\t<tr><td>19tyler@gmail.com               </td><td>422 </td><td>Non-profit organization                      </td><td>NA</td><td>District of Columbia</td><td>20005</td><td>Urban   </td><td>No </td><td> 1</td><td>NA</td><td>⋯</td><td>fear of how far laws will go  and stigmatizingp -</td><td>Unsure</td><td>fear                                                  </td><td>No</td><td>NA</td><td>Yes</td><td>Yes</td><td>gov refuses to use evidenced based data</td><td>limitations on providing harm Reduction services, syringe exchanges and safe injection sites in heavily using areas.                                                                                                                    </td><td>Complete  </td></tr>\n",
       "\t<tr><td>3sollenberger@gmail.com         </td><td>1294</td><td>Non-profit organization                      </td><td>NA</td><td>Pennsylvania        </td><td>15222</td><td>Urban   </td><td>No </td><td> 1</td><td> 1</td><td>⋯</td><td>NA                                               </td><td>Yes   </td><td>NA                                                    </td><td>No</td><td>NA</td><td>No </td><td>NA </td><td>NA                                     </td><td>NA                                                                                                                                                                                                                                      </td><td>Complete  </td></tr>\n",
       "\t<tr><td>NA                              </td><td>NA  </td><td>NA                                           </td><td>NA</td><td>NA                  </td><td>NA   </td><td>NA      </td><td>NA </td><td>NA</td><td>NA</td><td>⋯</td><td>NA                                               </td><td>NA    </td><td>NA                                                    </td><td>NA</td><td>NA</td><td>NA </td><td>NA </td><td>NA                                     </td><td>NA                                                                                                                                                                                                                                      </td><td>NA        </td></tr>\n",
       "\t<tr><td>aabundiz@hyacinth.org           </td><td>1519</td><td>Community Based Organization (CBO)           </td><td>NA</td><td>New Jersey          </td><td>7060 </td><td>Suburban</td><td>No </td><td>NA</td><td>NA</td><td>⋯</td><td>NA                                               </td><td>Unsure</td><td>NA                                                    </td><td>No</td><td>NA</td><td>No </td><td>NA </td><td>NA                                     </td><td>NA                                                                                                                                                                                                                                      </td><td>Complete  </td></tr>\n",
       "\t<tr><td>aadegbulugbe@totalhealthcare.org</td><td>222 </td><td>Federally Qualified Health Center (FQHC)     </td><td>NA</td><td>Maryland            </td><td>21223</td><td>Urban   </td><td>Yes</td><td> 1</td><td> 1</td><td>⋯</td><td>NA                                               </td><td>Yes   </td><td>increases stress due to more stigma and discrimination</td><td>No</td><td>NA</td><td>No </td><td>NA </td><td>NA                                     </td><td>Major issue is with insurance coverage for medications which has no rhyme or reason and significantly disrupts patient care and results in major increase in workload, need coverage  protections for ART and PrEP  medications returned</td><td>Complete  </td></tr>\n",
       "\t<tr><td>aalbior@bach.health             </td><td>1550</td><td>Federally Qualified Health Center (FQHC)     </td><td>NA</td><td>California          </td><td>94538</td><td>Suburban</td><td>No </td><td>NA</td><td>NA</td><td>⋯</td><td>NA                                               </td><td>Yes   </td><td>NA                                                    </td><td>No</td><td>NA</td><td>No </td><td>NA </td><td>NA                                     </td><td>NA                                                                                                                                                                                                                                      </td><td>Complete  </td></tr>\n",
       "\t<tr><td>aalcanta@conemaugh.org          </td><td>1385</td><td>AIDS Service Organization (ASO)              </td><td>NA</td><td>Pennsylvania        </td><td>15905</td><td>Rural   </td><td>No </td><td> 1</td><td> 1</td><td>⋯</td><td>NA                                               </td><td>NA    </td><td>NA                                                    </td><td>NA</td><td>NA</td><td>NA </td><td>NA </td><td>NA                                     </td><td>NA                                                                                                                                                                                                                                      </td><td>Incomplete</td></tr>\n",
       "\t<tr><td>abby.hinz@eauclairecounty.gov   </td><td>258 </td><td>Health department clinic/public health clinic</td><td>NA</td><td>Wisconsin           </td><td>54703</td><td>Urban   </td><td>Yes</td><td> 1</td><td>NA</td><td>⋯</td><td>NA                                               </td><td>Yes   </td><td>Feel less support for the general community/society   </td><td>No</td><td>NA</td><td>No </td><td>NA </td><td>NA                                     </td><td>NA                                                                                                                                                                                                                                      </td><td>Complete  </td></tr>\n",
       "\t<tr><td>NA                              </td><td>NA  </td><td>NA                                           </td><td>NA</td><td>NA                  </td><td>NA   </td><td>NA      </td><td>NA </td><td>NA</td><td>NA</td><td>⋯</td><td>NA                                               </td><td>NA    </td><td>NA                                                    </td><td>NA</td><td>NA</td><td>NA </td><td>NA </td><td>NA                                     </td><td>NA                                                                                                                                                                                                                                      </td><td>NA        </td></tr>\n",
       "</tbody>\n",
       "</table>\n"
      ],
      "text/latex": [
       "A tibble: 10 × 855\n",
       "\\begin{tabular}{lllllllllllllllllllll}\n",
       " email & Record\\_ID & Q1 & Q2 & Q3 & Q4 & Q5 & Q6 & Q7 & Q8 & ⋯ & Q810 & Q811 & Q812 & Q813 & Q814 & Q815 & Q816 & Q817 & Q818 & Q819\\\\\n",
       " <chr> & <chr> & <chr> & <chr> & <chr> & <chr> & <chr> & <chr> & <dbl> & <dbl> & ⋯ & <chr> & <chr> & <chr> & <chr> & <chr> & <chr> & <chr> & <chr> & <chr> & <chr>\\\\\n",
       "\\hline\n",
       "\t                                  & 1136 & LBGTQ Health Center/Community Center          & NA & Connecticut          & 6511  & Urban    & Yes &  1 &  1 & ⋯ & NA                                                & NA     & NA                                                     & NA & NA & NA  & NA  & NA                                      & NA                                                                                                                                                                                                                                       & Incomplete\\\\\n",
       "\t 19tyler@gmail.com                & 422  & Non-profit organization                       & NA & District of Columbia & 20005 & Urban    & No  &  1 & NA & ⋯ & fear of how far laws will go  and stigmatizingp - & Unsure & fear                                                   & No & NA & Yes & Yes & gov refuses to use evidenced based data & limitations on providing harm Reduction services, syringe exchanges and safe injection sites in heavily using areas.                                                                                                                     & Complete  \\\\\n",
       "\t 3sollenberger@gmail.com          & 1294 & Non-profit organization                       & NA & Pennsylvania         & 15222 & Urban    & No  &  1 &  1 & ⋯ & NA                                                & Yes    & NA                                                     & No & NA & No  & NA  & NA                                      & NA                                                                                                                                                                                                                                       & Complete  \\\\\n",
       "\t NA                               & NA   & NA                                            & NA & NA                   & NA    & NA       & NA  & NA & NA & ⋯ & NA                                                & NA     & NA                                                     & NA & NA & NA  & NA  & NA                                      & NA                                                                                                                                                                                                                                       & NA        \\\\\n",
       "\t aabundiz@hyacinth.org            & 1519 & Community Based Organization (CBO)            & NA & New Jersey           & 7060  & Suburban & No  & NA & NA & ⋯ & NA                                                & Unsure & NA                                                     & No & NA & No  & NA  & NA                                      & NA                                                                                                                                                                                                                                       & Complete  \\\\\n",
       "\t aadegbulugbe@totalhealthcare.org & 222  & Federally Qualified Health Center (FQHC)      & NA & Maryland             & 21223 & Urban    & Yes &  1 &  1 & ⋯ & NA                                                & Yes    & increases stress due to more stigma and discrimination & No & NA & No  & NA  & NA                                      & Major issue is with insurance coverage for medications which has no rhyme or reason and significantly disrupts patient care and results in major increase in workload, need coverage  protections for ART and PrEP  medications returned & Complete  \\\\\n",
       "\t aalbior@bach.health              & 1550 & Federally Qualified Health Center (FQHC)      & NA & California           & 94538 & Suburban & No  & NA & NA & ⋯ & NA                                                & Yes    & NA                                                     & No & NA & No  & NA  & NA                                      & NA                                                                                                                                                                                                                                       & Complete  \\\\\n",
       "\t aalcanta@conemaugh.org           & 1385 & AIDS Service Organization (ASO)               & NA & Pennsylvania         & 15905 & Rural    & No  &  1 &  1 & ⋯ & NA                                                & NA     & NA                                                     & NA & NA & NA  & NA  & NA                                      & NA                                                                                                                                                                                                                                       & Incomplete\\\\\n",
       "\t abby.hinz@eauclairecounty.gov    & 258  & Health department clinic/public health clinic & NA & Wisconsin            & 54703 & Urban    & Yes &  1 & NA & ⋯ & NA                                                & Yes    & Feel less support for the general community/society    & No & NA & No  & NA  & NA                                      & NA                                                                                                                                                                                                                                       & Complete  \\\\\n",
       "\t NA                               & NA   & NA                                            & NA & NA                   & NA    & NA       & NA  & NA & NA & ⋯ & NA                                                & NA     & NA                                                     & NA & NA & NA  & NA  & NA                                      & NA                                                                                                                                                                                                                                       & NA        \\\\\n",
       "\\end{tabular}\n"
      ],
      "text/markdown": [
       "\n",
       "A tibble: 10 × 855\n",
       "\n",
       "| email &lt;chr&gt; | Record_ID &lt;chr&gt; | Q1 &lt;chr&gt; | Q2 &lt;chr&gt; | Q3 &lt;chr&gt; | Q4 &lt;chr&gt; | Q5 &lt;chr&gt; | Q6 &lt;chr&gt; | Q7 &lt;dbl&gt; | Q8 &lt;dbl&gt; | ⋯ ⋯ | Q810 &lt;chr&gt; | Q811 &lt;chr&gt; | Q812 &lt;chr&gt; | Q813 &lt;chr&gt; | Q814 &lt;chr&gt; | Q815 &lt;chr&gt; | Q816 &lt;chr&gt; | Q817 &lt;chr&gt; | Q818 &lt;chr&gt; | Q819 &lt;chr&gt; |\n",
       "|---|---|---|---|---|---|---|---|---|---|---|---|---|---|---|---|---|---|---|---|---|\n",
       "| <!----> | 1136 | LBGTQ Health Center/Community Center          | NA | Connecticut          | 6511  | Urban    | Yes |  1 |  1 | ⋯ | NA                                                | NA     | NA                                                     | NA | NA | NA  | NA  | NA                                      | NA                                                                                                                                                                                                                                       | Incomplete |\n",
       "| 19tyler@gmail.com                | 422  | Non-profit organization                       | NA | District of Columbia | 20005 | Urban    | No  |  1 | NA | ⋯ | fear of how far laws will go  and stigmatizingp - | Unsure | fear                                                   | No | NA | Yes | Yes | gov refuses to use evidenced based data | limitations on providing harm Reduction services, syringe exchanges and safe injection sites in heavily using areas.                                                                                                                     | Complete   |\n",
       "| 3sollenberger@gmail.com          | 1294 | Non-profit organization                       | NA | Pennsylvania         | 15222 | Urban    | No  |  1 |  1 | ⋯ | NA                                                | Yes    | NA                                                     | No | NA | No  | NA  | NA                                      | NA                                                                                                                                                                                                                                       | Complete   |\n",
       "| NA                               | NA   | NA                                            | NA | NA                   | NA    | NA       | NA  | NA | NA | ⋯ | NA                                                | NA     | NA                                                     | NA | NA | NA  | NA  | NA                                      | NA                                                                                                                                                                                                                                       | NA         |\n",
       "| aabundiz@hyacinth.org            | 1519 | Community Based Organization (CBO)            | NA | New Jersey           | 7060  | Suburban | No  | NA | NA | ⋯ | NA                                                | Unsure | NA                                                     | No | NA | No  | NA  | NA                                      | NA                                                                                                                                                                                                                                       | Complete   |\n",
       "| aadegbulugbe@totalhealthcare.org | 222  | Federally Qualified Health Center (FQHC)      | NA | Maryland             | 21223 | Urban    | Yes |  1 |  1 | ⋯ | NA                                                | Yes    | increases stress due to more stigma and discrimination | No | NA | No  | NA  | NA                                      | Major issue is with insurance coverage for medications which has no rhyme or reason and significantly disrupts patient care and results in major increase in workload, need coverage  protections for ART and PrEP  medications returned | Complete   |\n",
       "| aalbior@bach.health              | 1550 | Federally Qualified Health Center (FQHC)      | NA | California           | 94538 | Suburban | No  | NA | NA | ⋯ | NA                                                | Yes    | NA                                                     | No | NA | No  | NA  | NA                                      | NA                                                                                                                                                                                                                                       | Complete   |\n",
       "| aalcanta@conemaugh.org           | 1385 | AIDS Service Organization (ASO)               | NA | Pennsylvania         | 15905 | Rural    | No  |  1 |  1 | ⋯ | NA                                                | NA     | NA                                                     | NA | NA | NA  | NA  | NA                                      | NA                                                                                                                                                                                                                                       | Incomplete |\n",
       "| abby.hinz@eauclairecounty.gov    | 258  | Health department clinic/public health clinic | NA | Wisconsin            | 54703 | Urban    | Yes |  1 | NA | ⋯ | NA                                                | Yes    | Feel less support for the general community/society    | No | NA | No  | NA  | NA                                      | NA                                                                                                                                                                                                                                       | Complete   |\n",
       "| NA                               | NA   | NA                                            | NA | NA                   | NA    | NA       | NA  | NA | NA | ⋯ | NA                                                | NA     | NA                                                     | NA | NA | NA  | NA  | NA                                      | NA                                                                                                                                                                                                                                       | NA         |\n",
       "\n"
      ],
      "text/plain": [
       "   email                            Record_ID\n",
       "1                                   1136     \n",
       "2  19tyler@gmail.com                422      \n",
       "3  3sollenberger@gmail.com          1294     \n",
       "4  NA                               NA       \n",
       "5  aabundiz@hyacinth.org            1519     \n",
       "6  aadegbulugbe@totalhealthcare.org 222      \n",
       "7  aalbior@bach.health              1550     \n",
       "8  aalcanta@conemaugh.org           1385     \n",
       "9  abby.hinz@eauclairecounty.gov    258      \n",
       "10 NA                               NA       \n",
       "   Q1                                            Q2 Q3                   Q4   \n",
       "1  LBGTQ Health Center/Community Center          NA Connecticut          6511 \n",
       "2  Non-profit organization                       NA District of Columbia 20005\n",
       "3  Non-profit organization                       NA Pennsylvania         15222\n",
       "4  NA                                            NA NA                   NA   \n",
       "5  Community Based Organization (CBO)            NA New Jersey           7060 \n",
       "6  Federally Qualified Health Center (FQHC)      NA Maryland             21223\n",
       "7  Federally Qualified Health Center (FQHC)      NA California           94538\n",
       "8  AIDS Service Organization (ASO)               NA Pennsylvania         15905\n",
       "9  Health department clinic/public health clinic NA Wisconsin            54703\n",
       "10 NA                                            NA NA                   NA   \n",
       "   Q5       Q6  Q7 Q8 ⋯ Q810                                             \n",
       "1  Urban    Yes  1  1 ⋯ NA                                               \n",
       "2  Urban    No   1 NA ⋯ fear of how far laws will go  and stigmatizingp -\n",
       "3  Urban    No   1  1 ⋯ NA                                               \n",
       "4  NA       NA  NA NA ⋯ NA                                               \n",
       "5  Suburban No  NA NA ⋯ NA                                               \n",
       "6  Urban    Yes  1  1 ⋯ NA                                               \n",
       "7  Suburban No  NA NA ⋯ NA                                               \n",
       "8  Rural    No   1  1 ⋯ NA                                               \n",
       "9  Urban    Yes  1 NA ⋯ NA                                               \n",
       "10 NA       NA  NA NA ⋯ NA                                               \n",
       "   Q811   Q812                                                   Q813 Q814 Q815\n",
       "1  NA     NA                                                     NA   NA   NA  \n",
       "2  Unsure fear                                                   No   NA   Yes \n",
       "3  Yes    NA                                                     No   NA   No  \n",
       "4  NA     NA                                                     NA   NA   NA  \n",
       "5  Unsure NA                                                     No   NA   No  \n",
       "6  Yes    increases stress due to more stigma and discrimination No   NA   No  \n",
       "7  Yes    NA                                                     No   NA   No  \n",
       "8  NA     NA                                                     NA   NA   NA  \n",
       "9  Yes    Feel less support for the general community/society    No   NA   No  \n",
       "10 NA     NA                                                     NA   NA   NA  \n",
       "   Q816 Q817                                   \n",
       "1  NA   NA                                     \n",
       "2  Yes  gov refuses to use evidenced based data\n",
       "3  NA   NA                                     \n",
       "4  NA   NA                                     \n",
       "5  NA   NA                                     \n",
       "6  NA   NA                                     \n",
       "7  NA   NA                                     \n",
       "8  NA   NA                                     \n",
       "9  NA   NA                                     \n",
       "10 NA   NA                                     \n",
       "   Q818                                                                                                                                                                                                                                    \n",
       "1  NA                                                                                                                                                                                                                                      \n",
       "2  limitations on providing harm Reduction services, syringe exchanges and safe injection sites in heavily using areas.                                                                                                                    \n",
       "3  NA                                                                                                                                                                                                                                      \n",
       "4  NA                                                                                                                                                                                                                                      \n",
       "5  NA                                                                                                                                                                                                                                      \n",
       "6  Major issue is with insurance coverage for medications which has no rhyme or reason and significantly disrupts patient care and results in major increase in workload, need coverage  protections for ART and PrEP  medications returned\n",
       "7  NA                                                                                                                                                                                                                                      \n",
       "8  NA                                                                                                                                                                                                                                      \n",
       "9  NA                                                                                                                                                                                                                                      \n",
       "10 NA                                                                                                                                                                                                                                      \n",
       "   Q819      \n",
       "1  Incomplete\n",
       "2  Complete  \n",
       "3  Complete  \n",
       "4  NA        \n",
       "5  Complete  \n",
       "6  Complete  \n",
       "7  Complete  \n",
       "8  Incomplete\n",
       "9  Complete  \n",
       "10 NA        "
      ]
     },
     "metadata": {},
     "output_type": "display_data"
    }
   ],
   "source": [
    "# LGBTQ providers\n",
    "LGBTQ_providers <- final_data[final_data$Q275 == \"Yes\" | final_data$Q130 == 1 | final_data$Q1 == \"LBGTQ Health Center/Community Center\" | final_data$Q22 == \"Yes\" | final_data$Q33 == 1, ]\n",
    "head(LGBTQ_providers, 10)"
   ]
  },
  {
   "cell_type": "markdown",
   "id": "356a214e-9985-4283-ad1d-589187818c1e",
   "metadata": {},
   "source": [
    "## Number of incomplete and complete responses among LGBTQ providers"
   ]
  },
  {
   "cell_type": "code",
   "execution_count": 103,
   "id": "8325a967-8438-40aa-91c3-b3b4aeffaa51",
   "metadata": {},
   "outputs": [
    {
     "data": {
      "text/plain": [
       "\n",
       "  Complete Incomplete \n",
       "       754        269 "
      ]
     },
     "metadata": {},
     "output_type": "display_data"
    }
   ],
   "source": [
    "table(LGBTQ_providers$Q819)"
   ]
  },
  {
   "cell_type": "markdown",
   "id": "d1229613-9b5a-4e74-a02d-ab8b385708cc",
   "metadata": {},
   "source": [
    "## Descriptive Statistics for LGBTQ providers"
   ]
  },
  {
   "cell_type": "markdown",
   "id": "44be04bf-9fef-4051-9340-19d536576178",
   "metadata": {},
   "source": [
    "### Age counts among LGBTQ providers"
   ]
  },
  {
   "cell_type": "code",
   "execution_count": 104,
   "id": "28783995-4e9a-45b5-9759-12f4d5d1cfd4",
   "metadata": {},
   "outputs": [
    {
     "data": {
      "text/plain": [
       "\n",
       "                18-24                 25-34                 35-44 \n",
       "                   31                   196                   241 \n",
       "                45-54                 55-64                    65 \n",
       "                  243                   202                    88 \n",
       "Prefer not to respond \n",
       "                   19 "
      ]
     },
     "metadata": {},
     "output_type": "display_data"
    }
   ],
   "source": [
    "## LGBTQ providers - Age\n",
    "age_LGBTQ <- table(LGBTQ_providers$Q162)\n",
    "age_LGBTQ"
   ]
  },
  {
   "cell_type": "markdown",
   "id": "f492ff3f-3676-4efd-8148-1d6296de6df3",
   "metadata": {},
   "source": [
    "### Age percentages among LGBTQ providers"
   ]
  },
  {
   "cell_type": "code",
   "execution_count": 105,
   "id": "b145ad97-b715-469e-a94b-b49002f16202",
   "metadata": {},
   "outputs": [
    {
     "data": {
      "text/plain": [
       "\n",
       "                18-24                 25-34                 35-44 \n",
       "             3.039216             19.215686             23.627451 \n",
       "                45-54                 55-64                    65 \n",
       "            23.823529             19.803922              8.627451 \n",
       "Prefer not to respond \n",
       "             1.862745 "
      ]
     },
     "metadata": {},
     "output_type": "display_data"
    }
   ],
   "source": [
    "age_perc_LGBTQ <- prop.table(age_LGBTQ)*100\n",
    "age_perc_LGBTQ"
   ]
  },
  {
   "cell_type": "markdown",
   "id": "aec89596-dd84-4245-aca8-fbaa27a6266a",
   "metadata": {},
   "source": [
    "### Gender counts among LGBTQ providers"
   ]
  },
  {
   "cell_type": "code",
   "execution_count": 106,
   "id": "822e5fc3-4885-4c6d-bfa9-69c5eccd99ef",
   "metadata": {},
   "outputs": [
    {
     "data": {
      "text/plain": [
       "\n",
       "                                Female/Woman \n",
       "                                         625 \n",
       "Genderqueer/gender non-confirming/non-binary \n",
       "                                          65 \n",
       "                                    Male/Man \n",
       "                                         271 \n",
       "                       Prefer not to respond \n",
       "                                          17 \n",
       "                     Prefer to self-describe \n",
       "                                           9 \n",
       "                             Transgender man \n",
       "                                          19 \n",
       "                           Transgender woman \n",
       "                                          14 "
      ]
     },
     "metadata": {},
     "output_type": "display_data"
    }
   ],
   "source": [
    "## LGBTQ providers - Gender\n",
    "gender_LGBTQ <- table(LGBTQ_providers$Q157)\n",
    "gender_LGBTQ"
   ]
  },
  {
   "cell_type": "markdown",
   "id": "771bc26e-c15d-48d8-b6ca-5487ebc28e0e",
   "metadata": {},
   "source": [
    "### Gender percentages among LGBTQ providers"
   ]
  },
  {
   "cell_type": "code",
   "execution_count": 107,
   "id": "34d66e3b-fbe7-462b-84f4-1e1524bb555f",
   "metadata": {},
   "outputs": [
    {
     "data": {
      "text/plain": [
       "\n",
       "                                Female/Woman \n",
       "                                  61.2745098 \n",
       "Genderqueer/gender non-confirming/non-binary \n",
       "                                   6.3725490 \n",
       "                                    Male/Man \n",
       "                                  26.5686275 \n",
       "                       Prefer not to respond \n",
       "                                   1.6666667 \n",
       "                     Prefer to self-describe \n",
       "                                   0.8823529 \n",
       "                             Transgender man \n",
       "                                   1.8627451 \n",
       "                           Transgender woman \n",
       "                                   1.3725490 "
      ]
     },
     "metadata": {},
     "output_type": "display_data"
    }
   ],
   "source": [
    "gender_perc_LGBTQ <- prop.table(gender_LGBTQ)*100\n",
    "gender_perc_LGBTQ"
   ]
  },
  {
   "cell_type": "markdown",
   "id": "612c063e-e771-4520-a479-7b59f33fbcba",
   "metadata": {},
   "source": [
    "### Race counts among LGBTQ providers"
   ]
  },
  {
   "cell_type": "code",
   "execution_count": 108,
   "id": "f4f7542e-bc26-41eb-a678-8fa4c381328d",
   "metadata": {},
   "outputs": [
    {
     "data": {
      "text/plain": [
       "\n",
       "        Asian and/or Asian American           Black or African American \n",
       "                                 25                                 251 \n",
       "                        Multiracial    Native American or Alaska Native \n",
       "                                 73                                  11 \n",
       "Native Hawaiian or Pacific Islander               Prefer not to respond \n",
       "                                  5                                  53 \n",
       "            Prefer to self-describe                  White or Caucasian \n",
       "                                 24                                 577 "
      ]
     },
     "metadata": {},
     "output_type": "display_data"
    }
   ],
   "source": [
    "## LGBTQ providers - Race\n",
    "race_LGBTQ <- table(LGBTQ_providers$Q159)\n",
    "race_LGBTQ"
   ]
  },
  {
   "cell_type": "markdown",
   "id": "618e8c66-c298-41c0-a423-dd2a41af423c",
   "metadata": {},
   "source": [
    "### Race percentages among LGBTQ providers"
   ]
  },
  {
   "cell_type": "code",
   "execution_count": 109,
   "id": "89704483-80b8-4b8e-8f22-1b241c443a3f",
   "metadata": {},
   "outputs": [
    {
     "data": {
      "text/plain": [
       "\n",
       "        Asian and/or Asian American           Black or African American \n",
       "                          2.4533857                          24.6319921 \n",
       "                        Multiracial    Native American or Alaska Native \n",
       "                          7.1638862                           1.0794897 \n",
       "Native Hawaiian or Pacific Islander               Prefer not to respond \n",
       "                          0.4906771                           5.2011776 \n",
       "            Prefer to self-describe                  White or Caucasian \n",
       "                          2.3552502                          56.6241413 "
      ]
     },
     "metadata": {},
     "output_type": "display_data"
    }
   ],
   "source": [
    "race_perc_LGBTQ <- prop.table(race_LGBTQ)*100\n",
    "race_perc_LGBTQ"
   ]
  },
  {
   "cell_type": "markdown",
   "id": "d172626e-26b3-4448-a633-fa80237115fb",
   "metadata": {},
   "source": [
    "### Hispanic/Latinx percentages among LGBTQ providers"
   ]
  },
  {
   "cell_type": "code",
   "execution_count": 110,
   "id": "61c8dc7f-3ffb-4bc8-9dfe-0a37966a20f6",
   "metadata": {},
   "outputs": [
    {
     "data": {
      "text/plain": [
       "\n",
       "                   No Prefer not to respond                   Yes \n",
       "                  814                    19                   187 "
      ]
     },
     "metadata": {},
     "output_type": "display_data"
    }
   ],
   "source": [
    "## LGBTQ providers - Hispanic/Latinx\n",
    "hisp_LGBTQ <- table(LGBTQ_providers$Q161)\n",
    "hisp_LGBTQ"
   ]
  },
  {
   "cell_type": "markdown",
   "id": "1fe9e953-fba3-45d5-91a4-f6707f6fb361",
   "metadata": {},
   "source": [
    "### Hispanic/Latinx percentages among LGBTQ providers"
   ]
  },
  {
   "cell_type": "code",
   "execution_count": 111,
   "id": "e3e61803-742d-4002-8e62-1f770eba86ce",
   "metadata": {},
   "outputs": [
    {
     "data": {
      "text/plain": [
       "\n",
       "                   No Prefer not to respond                   Yes \n",
       "            79.803922              1.862745             18.333333 "
      ]
     },
     "metadata": {},
     "output_type": "display_data"
    }
   ],
   "source": [
    "hisp_perc_LGBTQ <- prop.table(hisp_LGBTQ)*100\n",
    "hisp_perc_LGBTQ "
   ]
  },
  {
   "cell_type": "markdown",
   "id": "c1b8daf6-63cf-4492-aba8-a255dc63cd3c",
   "metadata": {},
   "source": [
    "### Role counts among LGBTQ providers"
   ]
  },
  {
   "cell_type": "code",
   "execution_count": 112,
   "id": "e598fd0a-86e7-4beb-80b6-840ac901e3b1",
   "metadata": {},
   "outputs": [
    {
     "data": {
      "text/plain": [
       "\n",
       "                             Dentist      Disease Intervention Specialist \n",
       "                                   2                                    1 \n",
       "     Licensed Clinical Social Worker             Licensed Practical Nurse \n",
       "                                  39                                    7 \n",
       "                   Medical Assistant           Mental Health Case Manager \n",
       "                                  10                                    3 \n",
       "             Mental Health Counselor           Mental Health Professional \n",
       "                                   1                                   11 \n",
       "         Mental Health Professional                         Nurse Manager \n",
       "                                   1                                   17 \n",
       "                       Nurse Midwife                   Nurse Practitioner \n",
       "                                   1                                   68 \n",
       "Other Provider/Clinical professional                           Pharmacist \n",
       "                                   7                                   15 \n",
       "                 Pharmacy Technician                         Phlebotomist \n",
       "                                   3                                    2 \n",
       "                           Physician                  Physician Assistant \n",
       "                                  52                                   11 \n",
       "                        Psychologist                     Registered Nurse \n",
       "                                  14                                   70 "
      ]
     },
     "metadata": {},
     "output_type": "display_data"
    }
   ],
   "source": [
    "role_counts_LGBTQ <- table(LGBTQ_providers$Q66)\n",
    "role_counts_LGBTQ"
   ]
  },
  {
   "cell_type": "markdown",
   "id": "ec5eb8b4-ab9c-418c-8007-a029d6fd83f4",
   "metadata": {},
   "source": [
    "### Role percentages among LGBTQ providers"
   ]
  },
  {
   "cell_type": "code",
   "execution_count": 113,
   "id": "33335e46-ee12-479b-8b68-dd75704ea7c5",
   "metadata": {},
   "outputs": [
    {
     "data": {
      "text/plain": [
       "\n",
       "                             Dentist      Disease Intervention Specialist \n",
       "                           0.5970149                            0.2985075 \n",
       "     Licensed Clinical Social Worker             Licensed Practical Nurse \n",
       "                          11.6417910                            2.0895522 \n",
       "                   Medical Assistant           Mental Health Case Manager \n",
       "                           2.9850746                            0.8955224 \n",
       "             Mental Health Counselor           Mental Health Professional \n",
       "                           0.2985075                            3.2835821 \n",
       "         Mental Health Professional                         Nurse Manager \n",
       "                           0.2985075                            5.0746269 \n",
       "                       Nurse Midwife                   Nurse Practitioner \n",
       "                           0.2985075                           20.2985075 \n",
       "Other Provider/Clinical professional                           Pharmacist \n",
       "                           2.0895522                            4.4776119 \n",
       "                 Pharmacy Technician                         Phlebotomist \n",
       "                           0.8955224                            0.5970149 \n",
       "                           Physician                  Physician Assistant \n",
       "                          15.5223881                            3.2835821 \n",
       "                        Psychologist                     Registered Nurse \n",
       "                           4.1791045                           20.8955224 "
      ]
     },
     "metadata": {},
     "output_type": "display_data"
    }
   ],
   "source": [
    "role_perc_LGBTQ <- prop.table(role_counts_LGBTQ)*100\n",
    "role_perc_LGBTQ"
   ]
  },
  {
   "cell_type": "markdown",
   "id": "4baf66aa-a82a-45ee-90b5-d17a15c5e23a",
   "metadata": {},
   "source": [
    "### Prescriber counts among LGBTQ providers"
   ]
  },
  {
   "cell_type": "code",
   "execution_count": 114,
   "id": "0582a7c5-3045-4a50-a3bf-aacb22668f08",
   "metadata": {},
   "outputs": [
    {
     "data": {
      "text/plain": [
       "\n",
       " No Yes \n",
       "193 146 "
      ]
     },
     "metadata": {},
     "output_type": "display_data"
    }
   ],
   "source": [
    "prescriber_counts_LGBTQ <- table(LGBTQ_providers$Q70)\n",
    "prescriber_counts_LGBTQ"
   ]
  },
  {
   "cell_type": "markdown",
   "id": "10efd406-2d85-4734-87e2-30b4fa987584",
   "metadata": {},
   "source": [
    "### Prescriber percentages among LGBTQ providers"
   ]
  },
  {
   "cell_type": "code",
   "execution_count": 115,
   "id": "a8877a09-03ab-4f85-80e6-687cac2d7611",
   "metadata": {},
   "outputs": [
    {
     "data": {
      "text/plain": [
       "\n",
       "      No      Yes \n",
       "56.93215 43.06785 "
      ]
     },
     "metadata": {},
     "output_type": "display_data"
    }
   ],
   "source": [
    "prescriber_perc_LGBTQ <- prop.table(prescriber_counts_LGBTQ)*100\n",
    "prescriber_perc_LGBTQ"
   ]
  },
  {
   "cell_type": "markdown",
   "id": "23f749bf-1f1f-4452-b482-797999085662",
   "metadata": {},
   "source": [
    "## HIV training statistcis for LGBTQ providers"
   ]
  },
  {
   "cell_type": "code",
   "execution_count": 116,
   "id": "4db3d244-71af-4a52-bb30-876cd38e6f50",
   "metadata": {},
   "outputs": [],
   "source": [
    "# LGBTQ providers - Create a vector of column names representing the HIV topics columns\n",
    "hiv_topics_LGBTQ <- c(\"Q198\", \"Q199\", \"Q200\", \"Q201\", \"Q202\",\"Q203\",\"Q204\",\"Q205\",\"Q206\",\"Q207\",\"Q208\",\"Q209\",\"Q210a\",\"Q210b\")"
   ]
  },
  {
   "cell_type": "markdown",
   "id": "2d969d50-0c3d-47ea-92d0-51882c00dec8",
   "metadata": {},
   "source": [
    "### HIV topic with greatest number of 1st rankings among LGBTQ providers"
   ]
  },
  {
   "cell_type": "code",
   "execution_count": 117,
   "id": "e0b454ae-530d-44ca-bd25-0cb0dfc51f2c",
   "metadata": {},
   "outputs": [
    {
     "data": {
      "text/html": [
       "<style>\n",
       ".dl-inline {width: auto; margin:0; padding: 0}\n",
       ".dl-inline>dt, .dl-inline>dd {float: none; width: auto; display: inline-block}\n",
       ".dl-inline>dt::after {content: \":\\0020\"; padding-right: .5ex}\n",
       ".dl-inline>dt:not(:first-of-type) {padding-left: .5ex}\n",
       "</style><dl class=dl-inline><dt>Q198</dt><dd>178</dd><dt>Q199</dt><dd>80</dd><dt>Q200</dt><dd>72</dd><dt>Q201</dt><dd>17</dd><dt>Q202</dt><dd>21</dd><dt>Q203</dt><dd>37</dd><dt>Q204</dt><dd>34</dd><dt>Q205</dt><dd>49</dd><dt>Q206</dt><dd>48</dd><dt>Q207</dt><dd>6</dd><dt>Q208</dt><dd>12</dd><dt>Q209</dt><dd>12</dd><dt>Q210a</dt><dd>3</dd><dt>Q210b</dt><dd>1</dd></dl>\n"
      ],
      "text/latex": [
       "\\begin{description*}\n",
       "\\item[Q198] 178\n",
       "\\item[Q199] 80\n",
       "\\item[Q200] 72\n",
       "\\item[Q201] 17\n",
       "\\item[Q202] 21\n",
       "\\item[Q203] 37\n",
       "\\item[Q204] 34\n",
       "\\item[Q205] 49\n",
       "\\item[Q206] 48\n",
       "\\item[Q207] 6\n",
       "\\item[Q208] 12\n",
       "\\item[Q209] 12\n",
       "\\item[Q210a] 3\n",
       "\\item[Q210b] 1\n",
       "\\end{description*}\n"
      ],
      "text/markdown": [
       "Q198\n",
       ":   178Q199\n",
       ":   80Q200\n",
       ":   72Q201\n",
       ":   17Q202\n",
       ":   21Q203\n",
       ":   37Q204\n",
       ":   34Q205\n",
       ":   49Q206\n",
       ":   48Q207\n",
       ":   6Q208\n",
       ":   12Q209\n",
       ":   12Q210a\n",
       ":   3Q210b\n",
       ":   1\n",
       "\n"
      ],
      "text/plain": [
       " Q198  Q199  Q200  Q201  Q202  Q203  Q204  Q205  Q206  Q207  Q208  Q209 Q210a \n",
       "  178    80    72    17    21    37    34    49    48     6    12    12     3 \n",
       "Q210b \n",
       "    1 "
      ]
     },
     "metadata": {},
     "output_type": "display_data"
    }
   ],
   "source": [
    "# LGBTQ providers - Calculate the counts of 1st rankings for each HIV topic\n",
    "hiv1_count_LGBTQ <- sapply(hiv_topics_LGBTQ, function(topic) sum(LGBTQ_providers[[topic]] == 1, na.rm = TRUE))\n",
    "hiv1_count_LGBTQ"
   ]
  },
  {
   "cell_type": "code",
   "execution_count": 118,
   "id": "9e0ee77b-285e-4f91-bc72-82a443120903",
   "metadata": {},
   "outputs": [
    {
     "data": {
      "text/html": [
       "'Q198'"
      ],
      "text/latex": [
       "'Q198'"
      ],
      "text/markdown": [
       "'Q198'"
      ],
      "text/plain": [
       "[1] \"Q198\""
      ]
     },
     "metadata": {},
     "output_type": "display_data"
    }
   ],
   "source": [
    "# LGBTQ providers - Find the HIV topic with the highest count of 1st rankings\n",
    "hiv1_rank_LGBTQ <- hiv_topics_LGBTQ[which.max(hiv1_count_LGBTQ)]\n",
    "hiv1_rank_LGBTQ"
   ]
  },
  {
   "cell_type": "code",
   "execution_count": 119,
   "id": "146acfa6-ab36-46a6-84a6-c06f0fda1b8f",
   "metadata": {},
   "outputs": [
    {
     "data": {
      "text/html": [
       "<strong>Q198:</strong> 30.9565217391304"
      ],
      "text/latex": [
       "\\textbf{Q198:} 30.9565217391304"
      ],
      "text/markdown": [
       "**Q198:** 30.9565217391304"
      ],
      "text/plain": [
       "    Q198 \n",
       "30.95652 "
      ]
     },
     "metadata": {},
     "output_type": "display_data"
    }
   ],
   "source": [
    "# LGBTQ providers - Calculate the percentage of 1st rankings\n",
    "hiv1_perc_LGBTQ <- (hiv1_count_LGBTQ[which.max(hiv1_count_LGBTQ)] / sum(rowSums(!is.na(LGBTQ_providers[, hiv_topics_LGBTQ])) > 0)) * 100\n",
    "hiv1_perc_LGBTQ"
   ]
  },
  {
   "cell_type": "markdown",
   "id": "935260b5-5658-48f0-a376-1984edf530f9",
   "metadata": {},
   "source": [
    "### HIV topic with greatest number of 2nd rankings among LGBTQ providers"
   ]
  },
  {
   "cell_type": "code",
   "execution_count": 120,
   "id": "64827c5d-276d-4000-81bb-aa41ec127c9c",
   "metadata": {},
   "outputs": [
    {
     "data": {
      "text/html": [
       "<style>\n",
       ".dl-inline {width: auto; margin:0; padding: 0}\n",
       ".dl-inline>dt, .dl-inline>dd {float: none; width: auto; display: inline-block}\n",
       ".dl-inline>dt::after {content: \":\\0020\"; padding-right: .5ex}\n",
       ".dl-inline>dt:not(:first-of-type) {padding-left: .5ex}\n",
       "</style><dl class=dl-inline><dt>Q198</dt><dd>56</dd><dt>Q199</dt><dd>87</dd><dt>Q200</dt><dd>76</dd><dt>Q201</dt><dd>26</dd><dt>Q202</dt><dd>42</dd><dt>Q203</dt><dd>51</dd><dt>Q204</dt><dd>48</dd><dt>Q205</dt><dd>49</dd><dt>Q206</dt><dd>56</dd><dt>Q207</dt><dd>15</dd><dt>Q208</dt><dd>19</dd><dt>Q209</dt><dd>2</dd><dt>Q210a</dt><dd>0</dd><dt>Q210b</dt><dd>1</dd></dl>\n"
      ],
      "text/latex": [
       "\\begin{description*}\n",
       "\\item[Q198] 56\n",
       "\\item[Q199] 87\n",
       "\\item[Q200] 76\n",
       "\\item[Q201] 26\n",
       "\\item[Q202] 42\n",
       "\\item[Q203] 51\n",
       "\\item[Q204] 48\n",
       "\\item[Q205] 49\n",
       "\\item[Q206] 56\n",
       "\\item[Q207] 15\n",
       "\\item[Q208] 19\n",
       "\\item[Q209] 2\n",
       "\\item[Q210a] 0\n",
       "\\item[Q210b] 1\n",
       "\\end{description*}\n"
      ],
      "text/markdown": [
       "Q198\n",
       ":   56Q199\n",
       ":   87Q200\n",
       ":   76Q201\n",
       ":   26Q202\n",
       ":   42Q203\n",
       ":   51Q204\n",
       ":   48Q205\n",
       ":   49Q206\n",
       ":   56Q207\n",
       ":   15Q208\n",
       ":   19Q209\n",
       ":   2Q210a\n",
       ":   0Q210b\n",
       ":   1\n",
       "\n"
      ],
      "text/plain": [
       " Q198  Q199  Q200  Q201  Q202  Q203  Q204  Q205  Q206  Q207  Q208  Q209 Q210a \n",
       "   56    87    76    26    42    51    48    49    56    15    19     2     0 \n",
       "Q210b \n",
       "    1 "
      ]
     },
     "metadata": {},
     "output_type": "display_data"
    }
   ],
   "source": [
    "# LGBTQ providers - Calculate the counts of 2nd rankings for each HIV topic\n",
    "hiv2_count_LGBTQ <- sapply(hiv_topics_LGBTQ, function(topic) sum(LGBTQ_providers[[topic]] == 2, na.rm = TRUE))\n",
    "hiv2_count_LGBTQ"
   ]
  },
  {
   "cell_type": "code",
   "execution_count": 121,
   "id": "6041062b-ba35-41f5-8a95-48c0b17347dc",
   "metadata": {},
   "outputs": [
    {
     "data": {
      "text/html": [
       "'Q199'"
      ],
      "text/latex": [
       "'Q199'"
      ],
      "text/markdown": [
       "'Q199'"
      ],
      "text/plain": [
       "[1] \"Q199\""
      ]
     },
     "metadata": {},
     "output_type": "display_data"
    }
   ],
   "source": [
    "# LGBTQ providers - Find the HIV topic with the highest count of 2nd rankings\n",
    "hiv2_rank_LGBTQ <- hiv_topics_LGBTQ[which.max(hiv2_count_LGBTQ)]\n",
    "hiv2_rank_LGBTQ"
   ]
  },
  {
   "cell_type": "code",
   "execution_count": 122,
   "id": "07b51c33-39a5-451e-a3cb-f806daf3ea63",
   "metadata": {},
   "outputs": [
    {
     "data": {
      "text/html": [
       "<strong>Q199:</strong> 15.1304347826087"
      ],
      "text/latex": [
       "\\textbf{Q199:} 15.1304347826087"
      ],
      "text/markdown": [
       "**Q199:** 15.1304347826087"
      ],
      "text/plain": [
       "    Q199 \n",
       "15.13043 "
      ]
     },
     "metadata": {},
     "output_type": "display_data"
    }
   ],
   "source": [
    "# LGBTQ providers - Calculate the percentage of 2nd rankings\n",
    "hiv2_perc_LGBTQ  <- (hiv2_count_LGBTQ[which.max(hiv2_count_LGBTQ)] / sum(rowSums(!is.na(LGBTQ_providers[, hiv_topics_LGBTQ])) > 0)) * 100\n",
    "hiv2_perc_LGBTQ "
   ]
  },
  {
   "cell_type": "markdown",
   "id": "3859f276-ed87-4f08-822c-afe95429c6e7",
   "metadata": {},
   "source": [
    "### HIV topic with greatest number of 3rd rankings among LGBTQ providers"
   ]
  },
  {
   "cell_type": "code",
   "execution_count": 123,
   "id": "944c6eed-48f9-46fd-8fdc-7091f457b525",
   "metadata": {},
   "outputs": [
    {
     "data": {
      "text/html": [
       "<style>\n",
       ".dl-inline {width: auto; margin:0; padding: 0}\n",
       ".dl-inline>dt, .dl-inline>dd {float: none; width: auto; display: inline-block}\n",
       ".dl-inline>dt::after {content: \":\\0020\"; padding-right: .5ex}\n",
       ".dl-inline>dt:not(:first-of-type) {padding-left: .5ex}\n",
       "</style><dl class=dl-inline><dt>Q198</dt><dd>65</dd><dt>Q199</dt><dd>47</dd><dt>Q200</dt><dd>53</dd><dt>Q201</dt><dd>17</dd><dt>Q202</dt><dd>56</dd><dt>Q203</dt><dd>46</dd><dt>Q204</dt><dd>57</dd><dt>Q205</dt><dd>58</dd><dt>Q206</dt><dd>52</dd><dt>Q207</dt><dd>12</dd><dt>Q208</dt><dd>36</dd><dt>Q209</dt><dd>16</dd><dt>Q210a</dt><dd>2</dd><dt>Q210b</dt><dd>3</dd></dl>\n"
      ],
      "text/latex": [
       "\\begin{description*}\n",
       "\\item[Q198] 65\n",
       "\\item[Q199] 47\n",
       "\\item[Q200] 53\n",
       "\\item[Q201] 17\n",
       "\\item[Q202] 56\n",
       "\\item[Q203] 46\n",
       "\\item[Q204] 57\n",
       "\\item[Q205] 58\n",
       "\\item[Q206] 52\n",
       "\\item[Q207] 12\n",
       "\\item[Q208] 36\n",
       "\\item[Q209] 16\n",
       "\\item[Q210a] 2\n",
       "\\item[Q210b] 3\n",
       "\\end{description*}\n"
      ],
      "text/markdown": [
       "Q198\n",
       ":   65Q199\n",
       ":   47Q200\n",
       ":   53Q201\n",
       ":   17Q202\n",
       ":   56Q203\n",
       ":   46Q204\n",
       ":   57Q205\n",
       ":   58Q206\n",
       ":   52Q207\n",
       ":   12Q208\n",
       ":   36Q209\n",
       ":   16Q210a\n",
       ":   2Q210b\n",
       ":   3\n",
       "\n"
      ],
      "text/plain": [
       " Q198  Q199  Q200  Q201  Q202  Q203  Q204  Q205  Q206  Q207  Q208  Q209 Q210a \n",
       "   65    47    53    17    56    46    57    58    52    12    36    16     2 \n",
       "Q210b \n",
       "    3 "
      ]
     },
     "metadata": {},
     "output_type": "display_data"
    }
   ],
   "source": [
    "# LGBTQ providers - Calculate the counts of 3rd rankings for each HIV topic\n",
    "hiv3_count_LGBTQ  <- sapply(hiv_topics_LGBTQ, function(topic) sum(LGBTQ_providers[[topic]] == 3, na.rm = TRUE))\n",
    "hiv3_count_LGBTQ"
   ]
  },
  {
   "cell_type": "code",
   "execution_count": 124,
   "id": "a76e9b00-9443-456f-9352-06f4149c9025",
   "metadata": {},
   "outputs": [
    {
     "data": {
      "text/html": [
       "'Q198'"
      ],
      "text/latex": [
       "'Q198'"
      ],
      "text/markdown": [
       "'Q198'"
      ],
      "text/plain": [
       "[1] \"Q198\""
      ]
     },
     "metadata": {},
     "output_type": "display_data"
    }
   ],
   "source": [
    "# LGBTQ providers - Find the PrEP topic with the highest count of 3rd rankings\n",
    "hiv3_rank_LGBTQ <- hiv_topics_LGBTQ[which.max(hiv3_count_LGBTQ)]\n",
    "hiv3_rank_LGBTQ"
   ]
  },
  {
   "cell_type": "code",
   "execution_count": 125,
   "id": "5f3bd337-8b52-4885-b3fd-07f994b4b7be",
   "metadata": {},
   "outputs": [
    {
     "data": {
      "text/html": [
       "<strong>Q198:</strong> 11.304347826087"
      ],
      "text/latex": [
       "\\textbf{Q198:} 11.304347826087"
      ],
      "text/markdown": [
       "**Q198:** 11.304347826087"
      ],
      "text/plain": [
       "    Q198 \n",
       "11.30435 "
      ]
     },
     "metadata": {},
     "output_type": "display_data"
    }
   ],
   "source": [
    "# LGBTQ providers - Calculate the percentage of 3rd ranking\n",
    "hiv3_perc_LGBTQ <- (hiv3_count_LGBTQ[which.max(hiv3_count_LGBTQ)] / sum(rowSums(!is.na(LGBTQ_providers[, hiv_topics_LGBTQ])) > 0)) * 100\n",
    "hiv3_perc_LGBTQ"
   ]
  },
  {
   "cell_type": "markdown",
   "id": "5714b7fa-2106-4a79-ab3e-774221523277",
   "metadata": {},
   "source": [
    "### Top 3 HIV topics among LGBTQ providers"
   ]
  },
  {
   "cell_type": "code",
   "execution_count": 126,
   "id": "79f164d2-29a9-4224-b052-3dceedf18234",
   "metadata": {},
   "outputs": [
    {
     "data": {
      "text/html": [
       "<style>\n",
       ".dl-inline {width: auto; margin:0; padding: 0}\n",
       ".dl-inline>dt, .dl-inline>dd {float: none; width: auto; display: inline-block}\n",
       ".dl-inline>dt::after {content: \":\\0020\"; padding-right: .5ex}\n",
       ".dl-inline>dt:not(:first-of-type) {padding-left: .5ex}\n",
       "</style><dl class=dl-inline><dt>Q198</dt><dd>299</dd><dt>Q199</dt><dd>214</dd><dt>Q200</dt><dd>201</dd><dt>Q201</dt><dd>60</dd><dt>Q202</dt><dd>119</dd><dt>Q203</dt><dd>134</dd><dt>Q204</dt><dd>139</dd><dt>Q205</dt><dd>156</dd><dt>Q206</dt><dd>156</dd><dt>Q207</dt><dd>33</dd><dt>Q208</dt><dd>67</dd><dt>Q209</dt><dd>30</dd><dt>Q210a</dt><dd>5</dd><dt>Q210b</dt><dd>5</dd></dl>\n"
      ],
      "text/latex": [
       "\\begin{description*}\n",
       "\\item[Q198] 299\n",
       "\\item[Q199] 214\n",
       "\\item[Q200] 201\n",
       "\\item[Q201] 60\n",
       "\\item[Q202] 119\n",
       "\\item[Q203] 134\n",
       "\\item[Q204] 139\n",
       "\\item[Q205] 156\n",
       "\\item[Q206] 156\n",
       "\\item[Q207] 33\n",
       "\\item[Q208] 67\n",
       "\\item[Q209] 30\n",
       "\\item[Q210a] 5\n",
       "\\item[Q210b] 5\n",
       "\\end{description*}\n"
      ],
      "text/markdown": [
       "Q198\n",
       ":   299Q199\n",
       ":   214Q200\n",
       ":   201Q201\n",
       ":   60Q202\n",
       ":   119Q203\n",
       ":   134Q204\n",
       ":   139Q205\n",
       ":   156Q206\n",
       ":   156Q207\n",
       ":   33Q208\n",
       ":   67Q209\n",
       ":   30Q210a\n",
       ":   5Q210b\n",
       ":   5\n",
       "\n"
      ],
      "text/plain": [
       " Q198  Q199  Q200  Q201  Q202  Q203  Q204  Q205  Q206  Q207  Q208  Q209 Q210a \n",
       "  299   214   201    60   119   134   139   156   156    33    67    30     5 \n",
       "Q210b \n",
       "    5 "
      ]
     },
     "metadata": {},
     "output_type": "display_data"
    },
    {
     "data": {
      "text/html": [
       "<style>\n",
       ".dl-inline {width: auto; margin:0; padding: 0}\n",
       ".dl-inline>dt, .dl-inline>dd {float: none; width: auto; display: inline-block}\n",
       ".dl-inline>dt::after {content: \":\\0020\"; padding-right: .5ex}\n",
       ".dl-inline>dt:not(:first-of-type) {padding-left: .5ex}\n",
       "</style><dl class=dl-inline><dt>Q198</dt><dd>299</dd><dt>Q199</dt><dd>214</dd><dt>Q200</dt><dd>201</dd><dt>Q205</dt><dd>156</dd><dt>Q206</dt><dd>156</dd><dt>Q204</dt><dd>139</dd><dt>Q203</dt><dd>134</dd><dt>Q202</dt><dd>119</dd><dt>Q208</dt><dd>67</dd><dt>Q201</dt><dd>60</dd><dt>Q207</dt><dd>33</dd><dt>Q209</dt><dd>30</dd><dt>Q210a</dt><dd>5</dd><dt>Q210b</dt><dd>5</dd></dl>\n"
      ],
      "text/latex": [
       "\\begin{description*}\n",
       "\\item[Q198] 299\n",
       "\\item[Q199] 214\n",
       "\\item[Q200] 201\n",
       "\\item[Q205] 156\n",
       "\\item[Q206] 156\n",
       "\\item[Q204] 139\n",
       "\\item[Q203] 134\n",
       "\\item[Q202] 119\n",
       "\\item[Q208] 67\n",
       "\\item[Q201] 60\n",
       "\\item[Q207] 33\n",
       "\\item[Q209] 30\n",
       "\\item[Q210a] 5\n",
       "\\item[Q210b] 5\n",
       "\\end{description*}\n"
      ],
      "text/markdown": [
       "Q198\n",
       ":   299Q199\n",
       ":   214Q200\n",
       ":   201Q205\n",
       ":   156Q206\n",
       ":   156Q204\n",
       ":   139Q203\n",
       ":   134Q202\n",
       ":   119Q208\n",
       ":   67Q201\n",
       ":   60Q207\n",
       ":   33Q209\n",
       ":   30Q210a\n",
       ":   5Q210b\n",
       ":   5\n",
       "\n"
      ],
      "text/plain": [
       " Q198  Q199  Q200  Q205  Q206  Q204  Q203  Q202  Q208  Q201  Q207  Q209 Q210a \n",
       "  299   214   201   156   156   139   134   119    67    60    33    30     5 \n",
       "Q210b \n",
       "    5 "
      ]
     },
     "metadata": {},
     "output_type": "display_data"
    },
    {
     "data": {
      "text/html": [
       "<style>\n",
       ".list-inline {list-style: none; margin:0; padding: 0}\n",
       ".list-inline>li {display: inline-block}\n",
       ".list-inline>li:not(:last-child)::after {content: \"\\00b7\"; padding: 0 .5ex}\n",
       "</style>\n",
       "<ol class=list-inline><li>'Q198'</li><li>'Q199'</li><li>'Q200'</li></ol>\n"
      ],
      "text/latex": [
       "\\begin{enumerate*}\n",
       "\\item 'Q198'\n",
       "\\item 'Q199'\n",
       "\\item 'Q200'\n",
       "\\end{enumerate*}\n"
      ],
      "text/markdown": [
       "1. 'Q198'\n",
       "2. 'Q199'\n",
       "3. 'Q200'\n",
       "\n",
       "\n"
      ],
      "text/plain": [
       "[1] \"Q198\" \"Q199\" \"Q200\""
      ]
     },
     "metadata": {},
     "output_type": "display_data"
    }
   ],
   "source": [
    "# Calculate the counts for each HIV topic\n",
    "hiv_topic_counts_LGBTQ <- sapply(hiv_topics_LGBTQ, function(topic) sum(LGBTQ_providers[[topic]] %in% c(1, 2, 3), na.rm = TRUE))\n",
    "hiv_topic_counts_LGBTQ\n",
    "# Sort the topics based on their counts in descending order\n",
    "hiv_sorted_topics_LGBTQ <- sort(hiv_topic_counts_LGBTQ, decreasing = TRUE)\n",
    "hiv_sorted_topics_LGBTQ\n",
    "# Get the top 3 topics\n",
    "top3_hiv_topics_LGBTQ <- names(hiv_sorted_topics_LGBTQ)[1:3]\n",
    "\n",
    "top3_hiv_topics_LGBTQ"
   ]
  },
  {
   "cell_type": "markdown",
   "id": "97ebd985-062f-4df8-9423-733637aca235",
   "metadata": {},
   "source": [
    "### Percentage of top 3 HIV topics among LGBTQ providers"
   ]
  },
  {
   "cell_type": "code",
   "execution_count": 127,
   "id": "19c90bc5-fe89-4c24-a897-7b5cee03b79d",
   "metadata": {},
   "outputs": [
    {
     "data": {
      "text/html": [
       "81.0434782608696"
      ],
      "text/latex": [
       "81.0434782608696"
      ],
      "text/markdown": [
       "81.0434782608696"
      ],
      "text/plain": [
       "[1] 81.04348"
      ]
     },
     "metadata": {},
     "output_type": "display_data"
    }
   ],
   "source": [
    "# Calculate the counts for each ranking (1, 2, 3) for the top 3 topics\n",
    "hiv_ranking_counts_LGBTQ <- apply(LGBTQ_providers[top3_hiv_topics_LGBTQ], 1, function(row) any(row %in% c(1, 2, 3)))\n",
    "\n",
    "# Calculate the total count of rows where one of the top 3 topics was ranked as 1, 2, or 3\n",
    "hiv_total_count_LGBTQ <- sum(hiv_ranking_counts_LGBTQ)\n",
    "\n",
    "# Calculate the total count of respondents who provided a ranking (1, 2, or 3) for any of the HIV topic questions\n",
    "hiv_total_respondents_LGBTQ <- sum(apply(LGBTQ_providers[hiv_topics_LGBTQ], 1, function(row) any(row %in% c(1, 2, 3))))\n",
    "\n",
    "# Calculate the percentage of rows where one of the top 3 topics was ranked as 1, 2, or 3 among the respondents who provided rankings\n",
    "hiv_total_percentage_LGBTQ <- (hiv_total_count_LGBTQ / hiv_total_respondents_LGBTQ) * 100\n",
    "hiv_total_percentage_LGBTQ"
   ]
  },
  {
   "cell_type": "markdown",
   "id": "14c92c5d-4003-4950-819a-889fe6a323b0",
   "metadata": {},
   "source": [
    "## PrEP training statistcis for LGBTQ providers"
   ]
  },
  {
   "cell_type": "code",
   "execution_count": 128,
   "id": "a883fef2-4472-4553-b245-0102565419de",
   "metadata": {},
   "outputs": [],
   "source": [
    "# LGBTQ providers - Create a vector of column names representing the PrEP topics columns\n",
    "prep_topics_LGBTQ <- c(\"Q211\", \"Q212\", \"Q213\", \"Q214\", \"Q215\",\"Q216\",\"Q217\",\"Q218\",\"Q219\",\"Q220\",\"Q221\",\"Q222\",\"Q223\",\"Q224\",\"Q225\")"
   ]
  },
  {
   "cell_type": "markdown",
   "id": "ae7ced39-7ca6-4111-b8dc-d66b3e0d1406",
   "metadata": {},
   "source": [
    "### PrEP topic with greatest number of 1st rankings among LGBTQ providers"
   ]
  },
  {
   "cell_type": "code",
   "execution_count": 129,
   "id": "ab3ace8b-9ac2-42c4-ab95-69b16b74013c",
   "metadata": {},
   "outputs": [
    {
     "data": {
      "text/html": [
       "<style>\n",
       ".dl-inline {width: auto; margin:0; padding: 0}\n",
       ".dl-inline>dt, .dl-inline>dd {float: none; width: auto; display: inline-block}\n",
       ".dl-inline>dt::after {content: \":\\0020\"; padding-right: .5ex}\n",
       ".dl-inline>dt:not(:first-of-type) {padding-left: .5ex}\n",
       "</style><dl class=dl-inline><dt>Q211</dt><dd>124</dd><dt>Q212</dt><dd>73</dd><dt>Q213</dt><dd>62</dd><dt>Q214</dt><dd>108</dd><dt>Q215</dt><dd>11</dd><dt>Q216</dt><dd>22</dd><dt>Q217</dt><dd>20</dd><dt>Q218</dt><dd>48</dd><dt>Q219</dt><dd>37</dd><dt>Q220</dt><dd>31</dd><dt>Q221</dt><dd>19</dd><dt>Q222</dt><dd>29</dd><dt>Q223</dt><dd>36</dd><dt>Q224</dt><dd>12</dd><dt>Q225</dt><dd>3</dd></dl>\n"
      ],
      "text/latex": [
       "\\begin{description*}\n",
       "\\item[Q211] 124\n",
       "\\item[Q212] 73\n",
       "\\item[Q213] 62\n",
       "\\item[Q214] 108\n",
       "\\item[Q215] 11\n",
       "\\item[Q216] 22\n",
       "\\item[Q217] 20\n",
       "\\item[Q218] 48\n",
       "\\item[Q219] 37\n",
       "\\item[Q220] 31\n",
       "\\item[Q221] 19\n",
       "\\item[Q222] 29\n",
       "\\item[Q223] 36\n",
       "\\item[Q224] 12\n",
       "\\item[Q225] 3\n",
       "\\end{description*}\n"
      ],
      "text/markdown": [
       "Q211\n",
       ":   124Q212\n",
       ":   73Q213\n",
       ":   62Q214\n",
       ":   108Q215\n",
       ":   11Q216\n",
       ":   22Q217\n",
       ":   20Q218\n",
       ":   48Q219\n",
       ":   37Q220\n",
       ":   31Q221\n",
       ":   19Q222\n",
       ":   29Q223\n",
       ":   36Q224\n",
       ":   12Q225\n",
       ":   3\n",
       "\n"
      ],
      "text/plain": [
       "Q211 Q212 Q213 Q214 Q215 Q216 Q217 Q218 Q219 Q220 Q221 Q222 Q223 Q224 Q225 \n",
       " 124   73   62  108   11   22   20   48   37   31   19   29   36   12    3 "
      ]
     },
     "metadata": {},
     "output_type": "display_data"
    }
   ],
   "source": [
    "# LGBTQ providers - Calculate the counts of 1st rankings for each PrEP topic\n",
    "prep1_count_LGBTQ <- sapply(prep_topics_LGBTQ, function(topic) sum(LGBTQ_providers[[topic]] == 1, na.rm = TRUE))\n",
    "prep1_count_LGBTQ"
   ]
  },
  {
   "cell_type": "code",
   "execution_count": 130,
   "id": "40c531ba-08dd-431e-b7e2-335cdc6a443e",
   "metadata": {},
   "outputs": [
    {
     "data": {
      "text/html": [
       "'Q211'"
      ],
      "text/latex": [
       "'Q211'"
      ],
      "text/markdown": [
       "'Q211'"
      ],
      "text/plain": [
       "[1] \"Q211\""
      ]
     },
     "metadata": {},
     "output_type": "display_data"
    }
   ],
   "source": [
    "# LGBTQ providers - Find the PrEP topic with the highest count of 1st rankings\n",
    "prep1_rank_LGBTQ <- prep_topics_LGBTQ[which.max(prep1_count_LGBTQ)]\n",
    "prep1_rank_LGBTQ"
   ]
  },
  {
   "cell_type": "code",
   "execution_count": 131,
   "id": "24cfd542-394e-423d-8488-7c8bf32cc226",
   "metadata": {},
   "outputs": [
    {
     "data": {
      "text/html": [
       "<strong>Q211:</strong> 19.2846034214619"
      ],
      "text/latex": [
       "\\textbf{Q211:} 19.2846034214619"
      ],
      "text/markdown": [
       "**Q211:** 19.2846034214619"
      ],
      "text/plain": [
       "   Q211 \n",
       "19.2846 "
      ]
     },
     "metadata": {},
     "output_type": "display_data"
    }
   ],
   "source": [
    "# LGBTQ providers - Calculate the percentage of 1st rankings\n",
    "prep1_perc_LGBTQ <- (prep1_count_LGBTQ[which.max(prep1_count_LGBTQ)] / sum(rowSums(!is.na(LGBTQ_providers[, prep_topics_LGBTQ])) > 0)) * 100\n",
    "prep1_perc_LGBTQ"
   ]
  },
  {
   "cell_type": "markdown",
   "id": "db95145a-7f46-4e22-a661-3d80df7dd634",
   "metadata": {},
   "source": [
    "### PrEP topic with greatest number of 2nd rankings among LGBTQ providers"
   ]
  },
  {
   "cell_type": "code",
   "execution_count": 132,
   "id": "aed8efb8-c27a-48b1-a772-f748ff66bde1",
   "metadata": {},
   "outputs": [
    {
     "data": {
      "text/html": [
       "<style>\n",
       ".dl-inline {width: auto; margin:0; padding: 0}\n",
       ".dl-inline>dt, .dl-inline>dd {float: none; width: auto; display: inline-block}\n",
       ".dl-inline>dt::after {content: \":\\0020\"; padding-right: .5ex}\n",
       ".dl-inline>dt:not(:first-of-type) {padding-left: .5ex}\n",
       "</style><dl class=dl-inline><dt>Q211</dt><dd>29</dd><dt>Q212</dt><dd>70</dd><dt>Q213</dt><dd>53</dd><dt>Q214</dt><dd>80</dd><dt>Q215</dt><dd>26</dd><dt>Q216</dt><dd>34</dd><dt>Q217</dt><dd>37</dd><dt>Q218</dt><dd>77</dd><dt>Q219</dt><dd>50</dd><dt>Q220</dt><dd>39</dd><dt>Q221</dt><dd>24</dd><dt>Q222</dt><dd>27</dd><dt>Q223</dt><dd>41</dd><dt>Q224</dt><dd>15</dd><dt>Q225</dt><dd>0</dd></dl>\n"
      ],
      "text/latex": [
       "\\begin{description*}\n",
       "\\item[Q211] 29\n",
       "\\item[Q212] 70\n",
       "\\item[Q213] 53\n",
       "\\item[Q214] 80\n",
       "\\item[Q215] 26\n",
       "\\item[Q216] 34\n",
       "\\item[Q217] 37\n",
       "\\item[Q218] 77\n",
       "\\item[Q219] 50\n",
       "\\item[Q220] 39\n",
       "\\item[Q221] 24\n",
       "\\item[Q222] 27\n",
       "\\item[Q223] 41\n",
       "\\item[Q224] 15\n",
       "\\item[Q225] 0\n",
       "\\end{description*}\n"
      ],
      "text/markdown": [
       "Q211\n",
       ":   29Q212\n",
       ":   70Q213\n",
       ":   53Q214\n",
       ":   80Q215\n",
       ":   26Q216\n",
       ":   34Q217\n",
       ":   37Q218\n",
       ":   77Q219\n",
       ":   50Q220\n",
       ":   39Q221\n",
       ":   24Q222\n",
       ":   27Q223\n",
       ":   41Q224\n",
       ":   15Q225\n",
       ":   0\n",
       "\n"
      ],
      "text/plain": [
       "Q211 Q212 Q213 Q214 Q215 Q216 Q217 Q218 Q219 Q220 Q221 Q222 Q223 Q224 Q225 \n",
       "  29   70   53   80   26   34   37   77   50   39   24   27   41   15    0 "
      ]
     },
     "metadata": {},
     "output_type": "display_data"
    }
   ],
   "source": [
    "# LGBTQ providers - Calculate the counts of 2nd rankings for each PrEP topic\n",
    "prep2_count_LGBTQ <- sapply(prep_topics_LGBTQ, function(topic) sum(LGBTQ_providers[[topic]] == 2, na.rm = TRUE))\n",
    "prep2_count_LGBTQ"
   ]
  },
  {
   "cell_type": "code",
   "execution_count": 133,
   "id": "3bd254f6-2bd1-46a7-a029-ed7bd9d3f1b5",
   "metadata": {},
   "outputs": [
    {
     "data": {
      "text/html": [
       "'Q214'"
      ],
      "text/latex": [
       "'Q214'"
      ],
      "text/markdown": [
       "'Q214'"
      ],
      "text/plain": [
       "[1] \"Q214\""
      ]
     },
     "metadata": {},
     "output_type": "display_data"
    }
   ],
   "source": [
    "# LGBTQ providers - Find the PrEP topic with the highest count of 2nd rankings\n",
    "prep2_rank_LGBTQ <- prep_topics_LGBTQ[which.max(prep2_count_LGBTQ)]\n",
    "prep2_rank_LGBTQ"
   ]
  },
  {
   "cell_type": "code",
   "execution_count": 134,
   "id": "3f253e66-b45b-473b-b08d-727d3c8bff22",
   "metadata": {},
   "outputs": [
    {
     "data": {
      "text/html": [
       "<strong>Q214:</strong> 12.4416796267496"
      ],
      "text/latex": [
       "\\textbf{Q214:} 12.4416796267496"
      ],
      "text/markdown": [
       "**Q214:** 12.4416796267496"
      ],
      "text/plain": [
       "    Q214 \n",
       "12.44168 "
      ]
     },
     "metadata": {},
     "output_type": "display_data"
    }
   ],
   "source": [
    "# LGBTQ providers - Calculate the percentage of 2nd rankings\n",
    "prep2_perc_LGBTQ  <- (prep2_count_LGBTQ[which.max(prep2_count_LGBTQ)] / sum(rowSums(!is.na(LGBTQ_providers[, prep_topics_LGBTQ])) > 0)) * 100\n",
    "prep2_perc_LGBTQ "
   ]
  },
  {
   "cell_type": "markdown",
   "id": "1dfb15d8-dba5-4bd1-aa71-4da91f67b28a",
   "metadata": {},
   "source": [
    "### PrEP topic with greatest number of 3rd rankings among LGBTQ providers"
   ]
  },
  {
   "cell_type": "code",
   "execution_count": 135,
   "id": "97476640-b086-4cc6-8c22-47cc63992a11",
   "metadata": {},
   "outputs": [
    {
     "data": {
      "text/html": [
       "<style>\n",
       ".dl-inline {width: auto; margin:0; padding: 0}\n",
       ".dl-inline>dt, .dl-inline>dd {float: none; width: auto; display: inline-block}\n",
       ".dl-inline>dt::after {content: \":\\0020\"; padding-right: .5ex}\n",
       ".dl-inline>dt:not(:first-of-type) {padding-left: .5ex}\n",
       "</style><dl class=dl-inline><dt>Q211</dt><dd>44</dd><dt>Q212</dt><dd>21</dd><dt>Q213</dt><dd>43</dd><dt>Q214</dt><dd>52</dd><dt>Q215</dt><dd>18</dd><dt>Q216</dt><dd>35</dd><dt>Q217</dt><dd>38</dd><dt>Q218</dt><dd>69</dd><dt>Q219</dt><dd>26</dd><dt>Q220</dt><dd>66</dd><dt>Q221</dt><dd>42</dd><dt>Q222</dt><dd>46</dd><dt>Q223</dt><dd>42</dd><dt>Q224</dt><dd>41</dd><dt>Q225</dt><dd>5</dd></dl>\n"
      ],
      "text/latex": [
       "\\begin{description*}\n",
       "\\item[Q211] 44\n",
       "\\item[Q212] 21\n",
       "\\item[Q213] 43\n",
       "\\item[Q214] 52\n",
       "\\item[Q215] 18\n",
       "\\item[Q216] 35\n",
       "\\item[Q217] 38\n",
       "\\item[Q218] 69\n",
       "\\item[Q219] 26\n",
       "\\item[Q220] 66\n",
       "\\item[Q221] 42\n",
       "\\item[Q222] 46\n",
       "\\item[Q223] 42\n",
       "\\item[Q224] 41\n",
       "\\item[Q225] 5\n",
       "\\end{description*}\n"
      ],
      "text/markdown": [
       "Q211\n",
       ":   44Q212\n",
       ":   21Q213\n",
       ":   43Q214\n",
       ":   52Q215\n",
       ":   18Q216\n",
       ":   35Q217\n",
       ":   38Q218\n",
       ":   69Q219\n",
       ":   26Q220\n",
       ":   66Q221\n",
       ":   42Q222\n",
       ":   46Q223\n",
       ":   42Q224\n",
       ":   41Q225\n",
       ":   5\n",
       "\n"
      ],
      "text/plain": [
       "Q211 Q212 Q213 Q214 Q215 Q216 Q217 Q218 Q219 Q220 Q221 Q222 Q223 Q224 Q225 \n",
       "  44   21   43   52   18   35   38   69   26   66   42   46   42   41    5 "
      ]
     },
     "metadata": {},
     "output_type": "display_data"
    }
   ],
   "source": [
    "# LGBTQ providers - Calculate the counts of 3rd rankings for each PrEP topic\n",
    "prep3_count_LGBTQ  <- sapply(prep_topics_LGBTQ, function(topic) sum(LGBTQ_providers[[topic]] == 3, na.rm = TRUE))\n",
    "prep3_count_LGBTQ"
   ]
  },
  {
   "cell_type": "code",
   "execution_count": 136,
   "id": "0c606886-06b0-4b47-bda6-f849a9c3901e",
   "metadata": {},
   "outputs": [
    {
     "data": {
      "text/html": [
       "'Q218'"
      ],
      "text/latex": [
       "'Q218'"
      ],
      "text/markdown": [
       "'Q218'"
      ],
      "text/plain": [
       "[1] \"Q218\""
      ]
     },
     "metadata": {},
     "output_type": "display_data"
    }
   ],
   "source": [
    "# LGBTQ providers - Find the PrEP topic with the highest count of 3rd rankings\n",
    "prep3_rank_LGBTQ <- prep_topics_LGBTQ[which.max(prep3_count_LGBTQ )]\n",
    "prep3_rank_LGBTQ"
   ]
  },
  {
   "cell_type": "code",
   "execution_count": 137,
   "id": "11ad2318-4950-4e06-af29-452296dcb111",
   "metadata": {},
   "outputs": [
    {
     "data": {
      "text/html": [
       "<strong>Q218:</strong> 10.7309486780715"
      ],
      "text/latex": [
       "\\textbf{Q218:} 10.7309486780715"
      ],
      "text/markdown": [
       "**Q218:** 10.7309486780715"
      ],
      "text/plain": [
       "    Q218 \n",
       "10.73095 "
      ]
     },
     "metadata": {},
     "output_type": "display_data"
    }
   ],
   "source": [
    "# LGBTQ providers - Calculate the percentage of 3rd ranking\n",
    "prep3_perc_LGBTQ <- (prep3_count_LGBTQ[which.max(prep3_count_LGBTQ)] / sum(rowSums(!is.na(LGBTQ_providers[, prep_topics_LGBTQ])) > 0)) * 100\n",
    "prep3_perc_LGBTQ"
   ]
  },
  {
   "cell_type": "markdown",
   "id": "2b22bace-aa3a-4756-9a5a-801ab6b72b52",
   "metadata": {},
   "source": [
    "### Top 3 PrEP topics among LGBTQ providers"
   ]
  },
  {
   "cell_type": "code",
   "execution_count": 138,
   "id": "f9b6d581-9bf4-41a6-9032-63bb8ff81801",
   "metadata": {},
   "outputs": [
    {
     "data": {
      "text/html": [
       "<style>\n",
       ".list-inline {list-style: none; margin:0; padding: 0}\n",
       ".list-inline>li {display: inline-block}\n",
       ".list-inline>li:not(:last-child)::after {content: \"\\00b7\"; padding: 0 .5ex}\n",
       "</style>\n",
       "<ol class=list-inline><li>'Q214'</li><li>'Q211'</li><li>'Q218'</li></ol>\n"
      ],
      "text/latex": [
       "\\begin{enumerate*}\n",
       "\\item 'Q214'\n",
       "\\item 'Q211'\n",
       "\\item 'Q218'\n",
       "\\end{enumerate*}\n"
      ],
      "text/markdown": [
       "1. 'Q214'\n",
       "2. 'Q211'\n",
       "3. 'Q218'\n",
       "\n",
       "\n"
      ],
      "text/plain": [
       "[1] \"Q214\" \"Q211\" \"Q218\""
      ]
     },
     "metadata": {},
     "output_type": "display_data"
    }
   ],
   "source": [
    "# Calculate the counts for each PrEP topic\n",
    "prep_topic_counts_LGBTQ <- sapply(prep_topics_LGBTQ, function(topic) sum(LGBTQ_providers[[topic]] %in% c(1, 2, 3), na.rm = TRUE))\n",
    "\n",
    "# Sort the topics based on their counts in descending order\n",
    "prep_sorted_topics_LGBTQ <- sort(prep_topic_counts_LGBTQ, decreasing = TRUE)\n",
    "\n",
    "# Get the top 3 topics\n",
    "top3_prep_topics_LGBTQ <- names(prep_sorted_topics_LGBTQ)[1:3]\n",
    "top3_prep_topics_LGBTQ"
   ]
  },
  {
   "cell_type": "markdown",
   "id": "d5594558-1d21-4c90-8fbc-71798cd034b7",
   "metadata": {},
   "source": [
    "### Percentage of top 3 PrEP topics"
   ]
  },
  {
   "cell_type": "code",
   "execution_count": 139,
   "id": "c3071dcc-8e10-48d1-9ae1-361c4ab0eebd",
   "metadata": {},
   "outputs": [
    {
     "data": {
      "text/html": [
       "73.8724727838258"
      ],
      "text/latex": [
       "73.8724727838258"
      ],
      "text/markdown": [
       "73.8724727838258"
      ],
      "text/plain": [
       "[1] 73.87247"
      ]
     },
     "metadata": {},
     "output_type": "display_data"
    }
   ],
   "source": [
    "# Calculate the counts for each ranking (1, 2, 3) for the top 3 topics\n",
    "prep_ranking_counts_LGBTQ <- apply(LGBTQ_providers[top3_prep_topics_LGBTQ], 1, function(row) any(row %in% c(1, 2, 3)))\n",
    "\n",
    "# Calculate the total count of rows where one of the top 3 topics was ranked as 1, 2, or 3\n",
    "prep_total_count_LGBTQ <- sum(prep_ranking_counts_LGBTQ)\n",
    "\n",
    "# Calculate the total count of respondents who provided a ranking (1, 2, or 3) for any of the HIV topic questions\n",
    "prep_total_respondents_LGBTQ <- sum(apply(LGBTQ_providers[prep_topics_LGBTQ], 1, function(row) any(row %in% c(1, 2, 3))))\n",
    "\n",
    "# Calculate the percentage of rows where one of the top 3 topics was ranked as 1, 2, or 3 among the respondents who provided rankings\n",
    "prep_total_percentage_LGBTQ <- (prep_total_count_LGBTQ / prep_total_respondents_LGBTQ) * 100\n",
    "prep_total_percentage_LGBTQ "
   ]
  },
  {
   "cell_type": "markdown",
   "id": "7f8dd44e-0c35-4e0b-859c-78c8a4d67b17",
   "metadata": {},
   "source": [
    "## LGBTQ training statistcis for LGBTQ providers"
   ]
  },
  {
   "cell_type": "code",
   "execution_count": 140,
   "id": "294c1884-fc23-4552-8d9e-091776d8ec53",
   "metadata": {},
   "outputs": [],
   "source": [
    "# Create a vector of column names representing the LGBTQ topics columns\n",
    "lgbtq_topics_LGBTQ <- c(\"Q227\", \"Q228\", \"Q229\", \"Q230\", \"Q231\",\"Q232\",\"Q233\",\"Q234\",\"Q235\")"
   ]
  },
  {
   "cell_type": "markdown",
   "id": "0aa44922-d444-4492-896c-e09f00d67f12",
   "metadata": {},
   "source": [
    "### LGBTQ topic with greatest number of 1st rankings among LGBTQ providers"
   ]
  },
  {
   "cell_type": "code",
   "execution_count": 141,
   "id": "be3f1f80-ab86-4ed4-946f-e14fbb678aab",
   "metadata": {},
   "outputs": [
    {
     "data": {
      "text/html": [
       "<style>\n",
       ".dl-inline {width: auto; margin:0; padding: 0}\n",
       ".dl-inline>dt, .dl-inline>dd {float: none; width: auto; display: inline-block}\n",
       ".dl-inline>dt::after {content: \":\\0020\"; padding-right: .5ex}\n",
       ".dl-inline>dt:not(:first-of-type) {padding-left: .5ex}\n",
       "</style><dl class=dl-inline><dt>Q227</dt><dd>132</dd><dt>Q228</dt><dd>178</dd><dt>Q229</dt><dd>114</dd><dt>Q230</dt><dd>111</dd><dt>Q231</dt><dd>29</dd><dt>Q232</dt><dd>58</dd><dt>Q233</dt><dd>110</dd><dt>Q234</dt><dd>108</dd><dt>Q235</dt><dd>14</dd></dl>\n"
      ],
      "text/latex": [
       "\\begin{description*}\n",
       "\\item[Q227] 132\n",
       "\\item[Q228] 178\n",
       "\\item[Q229] 114\n",
       "\\item[Q230] 111\n",
       "\\item[Q231] 29\n",
       "\\item[Q232] 58\n",
       "\\item[Q233] 110\n",
       "\\item[Q234] 108\n",
       "\\item[Q235] 14\n",
       "\\end{description*}\n"
      ],
      "text/markdown": [
       "Q227\n",
       ":   132Q228\n",
       ":   178Q229\n",
       ":   114Q230\n",
       ":   111Q231\n",
       ":   29Q232\n",
       ":   58Q233\n",
       ":   110Q234\n",
       ":   108Q235\n",
       ":   14\n",
       "\n"
      ],
      "text/plain": [
       "Q227 Q228 Q229 Q230 Q231 Q232 Q233 Q234 Q235 \n",
       " 132  178  114  111   29   58  110  108   14 "
      ]
     },
     "metadata": {},
     "output_type": "display_data"
    }
   ],
   "source": [
    "# LGBTQ providers - Calculate the counts of 1st rankings for each LGBTQ topic\n",
    "lgbtq1_count_LGBTQ <- sapply(lgbtq_topics_LGBTQ, function(topic) sum(LGBTQ_providers[[topic]] == 1, na.rm = TRUE))\n",
    "lgbtq1_count_LGBTQ"
   ]
  },
  {
   "cell_type": "code",
   "execution_count": 142,
   "id": "9df2a42d-1a5b-43b0-bd8d-cfd86ceec936",
   "metadata": {},
   "outputs": [
    {
     "data": {
      "text/html": [
       "'Q228'"
      ],
      "text/latex": [
       "'Q228'"
      ],
      "text/markdown": [
       "'Q228'"
      ],
      "text/plain": [
       "[1] \"Q228\""
      ]
     },
     "metadata": {},
     "output_type": "display_data"
    }
   ],
   "source": [
    "# LGBTQ providers - Find the LGBTQ topic with the highest count of 1st rankings\n",
    "lgbtq1_rank_LGBTQ <- lgbtq_topics_LGBTQ[which.max(lgbtq1_count_LGBTQ)]\n",
    "lgbtq1_rank_LGBTQ"
   ]
  },
  {
   "cell_type": "code",
   "execution_count": 143,
   "id": "c309a14c-d138-4a83-b0b0-d6343cc3cfc8",
   "metadata": {},
   "outputs": [
    {
     "data": {
      "text/html": [
       "<strong>Q228:</strong> 20.5780346820809"
      ],
      "text/latex": [
       "\\textbf{Q228:} 20.5780346820809"
      ],
      "text/markdown": [
       "**Q228:** 20.5780346820809"
      ],
      "text/plain": [
       "    Q228 \n",
       "20.57803 "
      ]
     },
     "metadata": {},
     "output_type": "display_data"
    }
   ],
   "source": [
    "# LGBTQ providers - Calculate the percentage of 1st rankings\n",
    "lgbtq1_perc_LGBTQ <- (lgbtq1_count_LGBTQ[which.max(lgbtq1_count_LGBTQ)] / sum(rowSums(!is.na(LGBTQ_providers[, lgbtq_topics_LGBTQ])) > 0)) * 100\n",
    "lgbtq1_perc_LGBTQ"
   ]
  },
  {
   "cell_type": "markdown",
   "id": "f4f49bd5-5d82-408d-844d-8692774dbcd1",
   "metadata": {},
   "source": [
    "### LGBTQ topic with greatest number of 2nd rankings among LGBTQ providers"
   ]
  },
  {
   "cell_type": "code",
   "execution_count": 144,
   "id": "3f030578-ace8-471f-95c2-19ac71ec5e7f",
   "metadata": {},
   "outputs": [
    {
     "data": {
      "text/html": [
       "<style>\n",
       ".dl-inline {width: auto; margin:0; padding: 0}\n",
       ".dl-inline>dt, .dl-inline>dd {float: none; width: auto; display: inline-block}\n",
       ".dl-inline>dt::after {content: \":\\0020\"; padding-right: .5ex}\n",
       ".dl-inline>dt:not(:first-of-type) {padding-left: .5ex}\n",
       "</style><dl class=dl-inline><dt>Q227</dt><dd>62</dd><dt>Q228</dt><dd>113</dd><dt>Q229</dt><dd>101</dd><dt>Q230</dt><dd>137</dd><dt>Q231</dt><dd>60</dd><dt>Q232</dt><dd>71</dd><dt>Q233</dt><dd>128</dd><dt>Q234</dt><dd>128</dd><dt>Q235</dt><dd>3</dd></dl>\n"
      ],
      "text/latex": [
       "\\begin{description*}\n",
       "\\item[Q227] 62\n",
       "\\item[Q228] 113\n",
       "\\item[Q229] 101\n",
       "\\item[Q230] 137\n",
       "\\item[Q231] 60\n",
       "\\item[Q232] 71\n",
       "\\item[Q233] 128\n",
       "\\item[Q234] 128\n",
       "\\item[Q235] 3\n",
       "\\end{description*}\n"
      ],
      "text/markdown": [
       "Q227\n",
       ":   62Q228\n",
       ":   113Q229\n",
       ":   101Q230\n",
       ":   137Q231\n",
       ":   60Q232\n",
       ":   71Q233\n",
       ":   128Q234\n",
       ":   128Q235\n",
       ":   3\n",
       "\n"
      ],
      "text/plain": [
       "Q227 Q228 Q229 Q230 Q231 Q232 Q233 Q234 Q235 \n",
       "  62  113  101  137   60   71  128  128    3 "
      ]
     },
     "metadata": {},
     "output_type": "display_data"
    }
   ],
   "source": [
    "# LGBTQ providers - Calculate the counts of 2nd rankings for each LGBTQ topic\n",
    "lgbtq2_count_LGBTQ <- sapply(lgbtq_topics_LGBTQ, function(topic) sum(LGBTQ_providers[[topic]] == 2, na.rm = TRUE))\n",
    "lgbtq2_count_LGBTQ"
   ]
  },
  {
   "cell_type": "code",
   "execution_count": 145,
   "id": "80fe8865-6709-4aa3-85a3-9f6d2c2408ac",
   "metadata": {},
   "outputs": [
    {
     "data": {
      "text/html": [
       "'Q230'"
      ],
      "text/latex": [
       "'Q230'"
      ],
      "text/markdown": [
       "'Q230'"
      ],
      "text/plain": [
       "[1] \"Q230\""
      ]
     },
     "metadata": {},
     "output_type": "display_data"
    }
   ],
   "source": [
    "# LGBTQ providers - Find the LGBTQ topic with the highest count of 2nd rankings\n",
    "lgbtq2_rank_LGBTQ <- lgbtq_topics_LGBTQ[which.max(lgbtq2_count_LGBTQ)]\n",
    "lgbtq2_rank_LGBTQ"
   ]
  },
  {
   "cell_type": "code",
   "execution_count": 146,
   "id": "f96938f0-2822-43cc-a579-6713065df5f3",
   "metadata": {},
   "outputs": [
    {
     "data": {
      "text/html": [
       "<strong>Q230:</strong> 15.8381502890173"
      ],
      "text/latex": [
       "\\textbf{Q230:} 15.8381502890173"
      ],
      "text/markdown": [
       "**Q230:** 15.8381502890173"
      ],
      "text/plain": [
       "    Q230 \n",
       "15.83815 "
      ]
     },
     "metadata": {},
     "output_type": "display_data"
    }
   ],
   "source": [
    "# LGBTQ providers - Calculate the percentage of 2nd rankings\n",
    "lgbtq2_perc_LGBTQ <- (lgbtq2_count_LGBTQ[which.max(lgbtq2_count_LGBTQ)] / sum(rowSums(!is.na(LGBTQ_providers[, lgbtq_topics_LGBTQ])) > 0)) * 100\n",
    "lgbtq2_perc_LGBTQ"
   ]
  },
  {
   "cell_type": "markdown",
   "id": "3599f46a-d04e-4e15-9ee2-abde372d8c4a",
   "metadata": {},
   "source": [
    "### LGBTQ topic with greatest number of 3rd rankings among LGBTQ providers"
   ]
  },
  {
   "cell_type": "code",
   "execution_count": 147,
   "id": "4a6b64d4-85d0-44a5-80af-001b78a96966",
   "metadata": {},
   "outputs": [
    {
     "data": {
      "text/html": [
       "<style>\n",
       ".dl-inline {width: auto; margin:0; padding: 0}\n",
       ".dl-inline>dt, .dl-inline>dd {float: none; width: auto; display: inline-block}\n",
       ".dl-inline>dt::after {content: \":\\0020\"; padding-right: .5ex}\n",
       ".dl-inline>dt:not(:first-of-type) {padding-left: .5ex}\n",
       "</style><dl class=dl-inline><dt>Q227</dt><dd>62</dd><dt>Q228</dt><dd>113</dd><dt>Q229</dt><dd>101</dd><dt>Q230</dt><dd>137</dd><dt>Q231</dt><dd>60</dd><dt>Q232</dt><dd>71</dd><dt>Q233</dt><dd>128</dd><dt>Q234</dt><dd>128</dd><dt>Q235</dt><dd>3</dd></dl>\n"
      ],
      "text/latex": [
       "\\begin{description*}\n",
       "\\item[Q227] 62\n",
       "\\item[Q228] 113\n",
       "\\item[Q229] 101\n",
       "\\item[Q230] 137\n",
       "\\item[Q231] 60\n",
       "\\item[Q232] 71\n",
       "\\item[Q233] 128\n",
       "\\item[Q234] 128\n",
       "\\item[Q235] 3\n",
       "\\end{description*}\n"
      ],
      "text/markdown": [
       "Q227\n",
       ":   62Q228\n",
       ":   113Q229\n",
       ":   101Q230\n",
       ":   137Q231\n",
       ":   60Q232\n",
       ":   71Q233\n",
       ":   128Q234\n",
       ":   128Q235\n",
       ":   3\n",
       "\n"
      ],
      "text/plain": [
       "Q227 Q228 Q229 Q230 Q231 Q232 Q233 Q234 Q235 \n",
       "  62  113  101  137   60   71  128  128    3 "
      ]
     },
     "metadata": {},
     "output_type": "display_data"
    }
   ],
   "source": [
    "# LGBTQ providers - Calculate the counts of 3rd rankings for each LGBTQ topic\n",
    "lgbtq3_count_LGBTQ <- sapply(lgbtq_topics_LGBTQ, function(topic) sum(LGBTQ_providers[[topic]] == 2, na.rm = TRUE))\n",
    "lgbtq3_count_LGBTQ"
   ]
  },
  {
   "cell_type": "code",
   "execution_count": 148,
   "id": "3eaf020e-27ef-46fe-bfcd-5463d1270d2e",
   "metadata": {},
   "outputs": [
    {
     "data": {
      "text/html": [
       "'Q230'"
      ],
      "text/latex": [
       "'Q230'"
      ],
      "text/markdown": [
       "'Q230'"
      ],
      "text/plain": [
       "[1] \"Q230\""
      ]
     },
     "metadata": {},
     "output_type": "display_data"
    }
   ],
   "source": [
    "# LGBTQ providers - Find the LGBTQ topic with the highest count of 2nd rankings\n",
    "lgbtq3_rank_LGBTQ <- lgbtq_topics_LGBTQ[which.max(lgbtq3_count_LGBTQ)]\n",
    "lgbtq3_rank_LGBTQ"
   ]
  },
  {
   "cell_type": "code",
   "execution_count": 149,
   "id": "cf817dc5-337b-49ce-908e-741f4e031eb6",
   "metadata": {},
   "outputs": [
    {
     "data": {
      "text/html": [
       "<strong>Q230:</strong> 15.8381502890173"
      ],
      "text/latex": [
       "\\textbf{Q230:} 15.8381502890173"
      ],
      "text/markdown": [
       "**Q230:** 15.8381502890173"
      ],
      "text/plain": [
       "    Q230 \n",
       "15.83815 "
      ]
     },
     "metadata": {},
     "output_type": "display_data"
    }
   ],
   "source": [
    "# LGBTQ providers - Calculate the percentage of 2nd rankings\n",
    "lgbtq3_perc_LGBTQ <- (lgbtq3_count_LGBTQ[which.max(lgbtq3_count_LGBTQ)] / sum(rowSums(!is.na(LGBTQ_providers[, lgbtq_topics_LGBTQ])) > 0)) * 100\n",
    "lgbtq3_perc_LGBTQ"
   ]
  },
  {
   "cell_type": "markdown",
   "id": "14403fa0-6516-4d92-8612-d7826e222293",
   "metadata": {},
   "source": [
    "### Top 3 LGBTQ topics among LGBTQ providers"
   ]
  },
  {
   "cell_type": "code",
   "execution_count": 150,
   "id": "a90de656-4dfe-44ed-acdc-c19860c84899",
   "metadata": {},
   "outputs": [
    {
     "data": {
      "text/html": [
       "<style>\n",
       ".list-inline {list-style: none; margin:0; padding: 0}\n",
       ".list-inline>li {display: inline-block}\n",
       ".list-inline>li:not(:last-child)::after {content: \"\\00b7\"; padding: 0 .5ex}\n",
       "</style>\n",
       "<ol class=list-inline><li>'Q234'</li><li>'Q228'</li><li>'Q230'</li></ol>\n"
      ],
      "text/latex": [
       "\\begin{enumerate*}\n",
       "\\item 'Q234'\n",
       "\\item 'Q228'\n",
       "\\item 'Q230'\n",
       "\\end{enumerate*}\n"
      ],
      "text/markdown": [
       "1. 'Q234'\n",
       "2. 'Q228'\n",
       "3. 'Q230'\n",
       "\n",
       "\n"
      ],
      "text/plain": [
       "[1] \"Q234\" \"Q228\" \"Q230\""
      ]
     },
     "metadata": {},
     "output_type": "display_data"
    }
   ],
   "source": [
    "# Calculate the counts for each LGBTQ topic\n",
    "lgbtq_topic_counts_LGBTQ <- sapply(lgbtq_topics_LGBTQ, function(topic) sum(LGBTQ_providers[[topic]] %in% c(1, 2, 3), na.rm = TRUE))\n",
    "\n",
    "# Sort the topics based on their counts in descending order\n",
    "lgbtq_sorted_topics_LGBTQ <- sort(lgbtq_topic_counts_LGBTQ, decreasing = TRUE)\n",
    "\n",
    "# Get the top 3 topics\n",
    "top3_lgbtq_topics_LGBTQ <- names(lgbtq_sorted_topics_LGBTQ)[1:3]\n",
    "top3_lgbtq_topics_LGBTQ"
   ]
  },
  {
   "cell_type": "markdown",
   "id": "460709e9-d5f2-44a5-b40e-50b2859883e9",
   "metadata": {},
   "source": [
    "### Percentage of top 3 LGBTQ topics among LGBTQ providers"
   ]
  },
  {
   "cell_type": "code",
   "execution_count": 151,
   "id": "6e507084-4b8e-49f6-bbbc-289f18719f60",
   "metadata": {},
   "outputs": [
    {
     "data": {
      "text/html": [
       "86.5895953757225"
      ],
      "text/latex": [
       "86.5895953757225"
      ],
      "text/markdown": [
       "86.5895953757225"
      ],
      "text/plain": [
       "[1] 86.5896"
      ]
     },
     "metadata": {},
     "output_type": "display_data"
    }
   ],
   "source": [
    "# Calculate the counts for each ranking (1, 2, 3) for the top 3 topics\n",
    "lgbtq_ranking_counts_LGBTQ <- apply(LGBTQ_providers[top3_lgbtq_topics_LGBTQ], 1, function(row) any(row %in% c(1, 2, 3)))\n",
    "\n",
    "# Calculate the total count of rows where one of the top 3 topics was ranked as 1, 2, or 3\n",
    "lgbtq_total_count_LGBTQ <- sum(lgbtq_ranking_counts_LGBTQ)\n",
    "\n",
    "# Calculate the total count of respondents who provided a ranking (1, 2, or 3) for any of the LGBTQ topic questions\n",
    "lgbtq_total_respondents_LGBTQ <- sum(apply(LGBTQ_providers[lgbtq_topics_LGBTQ], 1, function(row) any(row %in% c(1, 2, 3))))\n",
    "\n",
    "# Calculate the percentage of rows where one of the top 3 topics was ranked as 1, 2, or 3 among the respondents who provided rankings\n",
    "lgbtq_total_percentage_LGBTQ <- (lgbtq_total_count_LGBTQ / lgbtq_total_respondents_LGBTQ) * 100\n",
    "lgbtq_total_percentage_LGBTQ "
   ]
  },
  {
   "cell_type": "code",
   "execution_count": null,
   "id": "9b233ddb-276a-4b6b-891e-ce2b4d49a23d",
   "metadata": {},
   "outputs": [],
   "source": []
  },
  {
   "cell_type": "code",
   "execution_count": null,
   "id": "ef49642d-2af1-46fe-a874-166139de7589",
   "metadata": {},
   "outputs": [],
   "source": []
  }
 ],
 "metadata": {
  "kernelspec": {
   "display_name": "R",
   "language": "R",
   "name": "ir"
  },
  "language_info": {
   "codemirror_mode": "r",
   "file_extension": ".r",
   "mimetype": "text/x-r-source",
   "name": "R",
   "pygments_lexer": "r",
   "version": "4.2.1"
  }
 },
 "nbformat": 4,
 "nbformat_minor": 5
}
